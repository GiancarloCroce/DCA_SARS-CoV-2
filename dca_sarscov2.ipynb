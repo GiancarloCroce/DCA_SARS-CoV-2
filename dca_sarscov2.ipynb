{
 "cells": [
  {
   "cell_type": "code",
   "execution_count": 2,
   "metadata": {},
   "outputs": [
    {
     "data": {
      "text/html": [
       "        <script type=\"text/javascript\">\n",
       "        window.PlotlyConfig = {MathJaxConfig: 'local'};\n",
       "        if (window.MathJax) {MathJax.Hub.Config({SVG: {font: \"STIX-Web\"}});}\n",
       "        if (typeof require !== 'undefined') {\n",
       "        require.undef(\"plotly\");\n",
       "        requirejs.config({\n",
       "            paths: {\n",
       "                'plotly': ['https://cdn.plot.ly/plotly-latest.min']\n",
       "            }\n",
       "        });\n",
       "        require(['plotly'], function(Plotly) {\n",
       "            window._Plotly = Plotly;\n",
       "        });\n",
       "        }\n",
       "        </script>\n",
       "        "
      ]
     },
     "metadata": {},
     "output_type": "display_data"
    }
   ],
   "source": [
    "import pandas as pd\n",
    "import numpy as np\n",
    "import seaborn as sns\n",
    "import pandas as pd\n",
    "from sklearn import preprocessing\n",
    "import matplotlib.pyplot as plt\n",
    "from plotly.offline import init_notebook_mode, iplot\n",
    "from plotly.graph_objs import *\n",
    "import plotly.graph_objects as go  \n",
    "from sklearn import metrics\n",
    "from utils import *\n",
    "\n",
    "init_notebook_mode(connected=True)       "
   ]
  },
  {
   "cell_type": "markdown",
   "metadata": {},
   "source": [
    "# DCA for SARS-CoV-2\n",
    "\n",
    "[Direct Coupling Analysis](https://en.wikipedia.org/wiki/Direct_coupling_analysis) mutability scores are provided for all sites belonging to a PFAM domain in the SARS-CoV-2 proteome (see Section **Data** at the end of the notebook).\n",
    "Column in the dataframe: **mutability_score(DCA)**.\n",
    "\n",
    "We also computed mutability score usign an Independent (non-epistatic) model.\n",
    "Column: **mutability_score(IND)**.\n",
    "\n",
    "Both the IND and the DCA model are unsupervised models (no SARS-CoV-2 data in the training set), trained with multiple sequence alignments of homologs sequences from a diverse set of species.\n",
    "\n",
    "Sites with high mutability scores are expected to be mutable.\n",
    "\n",
    "The predictions are validated using the genomes of SARS-CoV-2 strains from the (GISAID)[https://www.gisaid.org/] database.\n",
    "\n",
    "3 different time periods are available for the GISAID data:\n",
    "1.  January 2020 to July 2020 (Column: **observed_mut_Jul2020**)\n",
    "2.  January 2020 to Novemeber 2020 (Column: **observed_mut_Nov2020**)\n",
    "3.  January 2020 to March 2021 (Column: **observed_mut_Mar2021**)\n"
   ]
  },
  {
   "cell_type": "markdown",
   "metadata": {},
   "source": [
    "## Receptor Binding Domain\n",
    "\n",
    "Here we restrict our analysis to the Receptor Binding Domain (```dom = \"bCoV_S1_RBD\"```) of the SARS-CoV-2 Spike protein (```prot = \"Spike\" ```)."
   ]
  },
  {
   "cell_type": "code",
   "execution_count": 3,
   "metadata": {},
   "outputs": [
    {
     "data": {
      "text/html": [
       "<div>\n",
       "<style scoped>\n",
       "    .dataframe tbody tr th:only-of-type {\n",
       "        vertical-align: middle;\n",
       "    }\n",
       "\n",
       "    .dataframe tbody tr th {\n",
       "        vertical-align: top;\n",
       "    }\n",
       "\n",
       "    .dataframe thead th {\n",
       "        text-align: right;\n",
       "    }\n",
       "</style>\n",
       "<table border=\"1\" class=\"dataframe\">\n",
       "  <thead>\n",
       "    <tr style=\"text-align: right;\">\n",
       "      <th></th>\n",
       "      <th>protein</th>\n",
       "      <th>domain</th>\n",
       "      <th>position_protein</th>\n",
       "      <th>position_domain</th>\n",
       "      <th>aa_Wuhan-Hu-1</th>\n",
       "      <th>mutability_score(IND)</th>\n",
       "      <th>mutability_score(DCA)</th>\n",
       "      <th>observed_mut_Mar2021</th>\n",
       "      <th>observed_mut_Nov2020</th>\n",
       "      <th>observed_mut_Jul2020</th>\n",
       "    </tr>\n",
       "  </thead>\n",
       "  <tbody>\n",
       "    <tr>\n",
       "      <th>7618</th>\n",
       "      <td>Spike</td>\n",
       "      <td>bCoV_S1_RBD</td>\n",
       "      <td>519</td>\n",
       "      <td>171.0</td>\n",
       "      <td>H</td>\n",
       "      <td>2.0601</td>\n",
       "      <td>1.2674</td>\n",
       "      <td>13.0</td>\n",
       "      <td>7.0</td>\n",
       "      <td>6.0</td>\n",
       "    </tr>\n",
       "    <tr>\n",
       "      <th>7502</th>\n",
       "      <td>Spike</td>\n",
       "      <td>bCoV_S1_RBD</td>\n",
       "      <td>403</td>\n",
       "      <td>55.0</td>\n",
       "      <td>R</td>\n",
       "      <td>-0.4564</td>\n",
       "      <td>0.3610</td>\n",
       "      <td>9.0</td>\n",
       "      <td>7.0</td>\n",
       "      <td>7.0</td>\n",
       "    </tr>\n",
       "    <tr>\n",
       "      <th>7589</th>\n",
       "      <td>Spike</td>\n",
       "      <td>bCoV_S1_RBD</td>\n",
       "      <td>490</td>\n",
       "      <td>142.0</td>\n",
       "      <td>F</td>\n",
       "      <td>2.1710</td>\n",
       "      <td>0.2784</td>\n",
       "      <td>52.0</td>\n",
       "      <td>9.0</td>\n",
       "      <td>2.0</td>\n",
       "    </tr>\n",
       "    <tr>\n",
       "      <th>7592</th>\n",
       "      <td>Spike</td>\n",
       "      <td>bCoV_S1_RBD</td>\n",
       "      <td>493</td>\n",
       "      <td>145.0</td>\n",
       "      <td>Q</td>\n",
       "      <td>1.0106</td>\n",
       "      <td>0.2627</td>\n",
       "      <td>24.0</td>\n",
       "      <td>8.0</td>\n",
       "      <td>4.0</td>\n",
       "    </tr>\n",
       "    <tr>\n",
       "      <th>7471</th>\n",
       "      <td>Spike</td>\n",
       "      <td>bCoV_S1_RBD</td>\n",
       "      <td>372</td>\n",
       "      <td>24.0</td>\n",
       "      <td>A</td>\n",
       "      <td>-0.6028</td>\n",
       "      <td>0.0485</td>\n",
       "      <td>17.0</td>\n",
       "      <td>2.0</td>\n",
       "      <td>1.0</td>\n",
       "    </tr>\n",
       "    <tr>\n",
       "      <th>...</th>\n",
       "      <td>...</td>\n",
       "      <td>...</td>\n",
       "      <td>...</td>\n",
       "      <td>...</td>\n",
       "      <td>...</td>\n",
       "      <td>...</td>\n",
       "      <td>...</td>\n",
       "      <td>...</td>\n",
       "      <td>...</td>\n",
       "      <td>...</td>\n",
       "    </tr>\n",
       "    <tr>\n",
       "      <th>7490</th>\n",
       "      <td>Spike</td>\n",
       "      <td>bCoV_S1_RBD</td>\n",
       "      <td>391</td>\n",
       "      <td>43.0</td>\n",
       "      <td>C</td>\n",
       "      <td>-5.1836</td>\n",
       "      <td>-8.9496</td>\n",
       "      <td>1.0</td>\n",
       "      <td>0.0</td>\n",
       "      <td>0.0</td>\n",
       "    </tr>\n",
       "    <tr>\n",
       "      <th>7522</th>\n",
       "      <td>Spike</td>\n",
       "      <td>bCoV_S1_RBD</td>\n",
       "      <td>423</td>\n",
       "      <td>75.0</td>\n",
       "      <td>Y</td>\n",
       "      <td>-6.6090</td>\n",
       "      <td>-8.9532</td>\n",
       "      <td>0.0</td>\n",
       "      <td>0.0</td>\n",
       "      <td>0.0</td>\n",
       "    </tr>\n",
       "    <tr>\n",
       "      <th>7531</th>\n",
       "      <td>Spike</td>\n",
       "      <td>bCoV_S1_RBD</td>\n",
       "      <td>432</td>\n",
       "      <td>84.0</td>\n",
       "      <td>C</td>\n",
       "      <td>-5.6314</td>\n",
       "      <td>-9.0326</td>\n",
       "      <td>1.0</td>\n",
       "      <td>1.0</td>\n",
       "      <td>1.0</td>\n",
       "    </tr>\n",
       "    <tr>\n",
       "      <th>7521</th>\n",
       "      <td>Spike</td>\n",
       "      <td>bCoV_S1_RBD</td>\n",
       "      <td>422</td>\n",
       "      <td>74.0</td>\n",
       "      <td>N</td>\n",
       "      <td>-5.7790</td>\n",
       "      <td>-9.1096</td>\n",
       "      <td>0.0</td>\n",
       "      <td>0.0</td>\n",
       "      <td>0.0</td>\n",
       "    </tr>\n",
       "    <tr>\n",
       "      <th>7478</th>\n",
       "      <td>Spike</td>\n",
       "      <td>bCoV_S1_RBD</td>\n",
       "      <td>379</td>\n",
       "      <td>31.0</td>\n",
       "      <td>C</td>\n",
       "      <td>-5.4553</td>\n",
       "      <td>-9.1246</td>\n",
       "      <td>4.0</td>\n",
       "      <td>0.0</td>\n",
       "      <td>0.0</td>\n",
       "    </tr>\n",
       "  </tbody>\n",
       "</table>\n",
       "<p>178 rows × 10 columns</p>\n",
       "</div>"
      ],
      "text/plain": [
       "     protein       domain  position_protein  position_domain aa_Wuhan-Hu-1  \\\n",
       "7618   Spike  bCoV_S1_RBD               519            171.0             H   \n",
       "7502   Spike  bCoV_S1_RBD               403             55.0             R   \n",
       "7589   Spike  bCoV_S1_RBD               490            142.0             F   \n",
       "7592   Spike  bCoV_S1_RBD               493            145.0             Q   \n",
       "7471   Spike  bCoV_S1_RBD               372             24.0             A   \n",
       "...      ...          ...               ...              ...           ...   \n",
       "7490   Spike  bCoV_S1_RBD               391             43.0             C   \n",
       "7522   Spike  bCoV_S1_RBD               423             75.0             Y   \n",
       "7531   Spike  bCoV_S1_RBD               432             84.0             C   \n",
       "7521   Spike  bCoV_S1_RBD               422             74.0             N   \n",
       "7478   Spike  bCoV_S1_RBD               379             31.0             C   \n",
       "\n",
       "      mutability_score(IND)  mutability_score(DCA)  observed_mut_Mar2021  \\\n",
       "7618                 2.0601                 1.2674                  13.0   \n",
       "7502                -0.4564                 0.3610                   9.0   \n",
       "7589                 2.1710                 0.2784                  52.0   \n",
       "7592                 1.0106                 0.2627                  24.0   \n",
       "7471                -0.6028                 0.0485                  17.0   \n",
       "...                     ...                    ...                   ...   \n",
       "7490                -5.1836                -8.9496                   1.0   \n",
       "7522                -6.6090                -8.9532                   0.0   \n",
       "7531                -5.6314                -9.0326                   1.0   \n",
       "7521                -5.7790                -9.1096                   0.0   \n",
       "7478                -5.4553                -9.1246                   4.0   \n",
       "\n",
       "      observed_mut_Nov2020  observed_mut_Jul2020  \n",
       "7618                   7.0                   6.0  \n",
       "7502                   7.0                   7.0  \n",
       "7589                   9.0                   2.0  \n",
       "7592                   8.0                   4.0  \n",
       "7471                   2.0                   1.0  \n",
       "...                    ...                   ...  \n",
       "7490                   0.0                   0.0  \n",
       "7522                   0.0                   0.0  \n",
       "7531                   1.0                   1.0  \n",
       "7521                   0.0                   0.0  \n",
       "7478                   0.0                   0.0  \n",
       "\n",
       "[178 rows x 10 columns]"
      ]
     },
     "execution_count": 3,
     "metadata": {},
     "output_type": "execute_result"
    }
   ],
   "source": [
    "# Load data (for a specific protein and domain)\n",
    "prot = \"Spike\"\n",
    "dom = \"bCoV_S1_RBD\"\n",
    "\n",
    "df = read_dca_iedb_data(path_data = \"./data/data_dca_proteome.csv\", protein = prot, domain = dom)\n",
    "\n",
    "#sort by DCA-mutability score to identify mutable sites \n",
    "df = df.sort_values(by =\"mutability_score(DCA)\", ascending = False)\n",
    "df"
   ]
  },
  {
   "cell_type": "markdown",
   "metadata": {},
   "source": [
    "## 1. Predicting mutable sites\n",
    "\n",
    "In Fig. 2 of the paper we check if the DCA and IND model are able to identify mutations already present in circulating strains.\n",
    "\n",
    "Let's consider as:\n",
    "- **mutable** (1):  a site with **N_mut or more** observed mutations in GISAID strains\n",
    "- **constrained** (0): a site with **less than N_mut**  observed mutations in GISAID strains\n",
    "\n",
    "We fix N_mut=4 and include GIDAS data from January 2020 to March 2021.\n"
   ]
  },
  {
   "cell_type": "code",
   "execution_count": 4,
   "metadata": {},
   "outputs": [
    {
     "name": "stdout",
     "output_type": "stream",
     "text": [
      "******************************************************\n",
      "   GISAID data from Jan 2020 to observed_mut_Mar2021\n",
      "******************************************************\n",
      "39 sites are constrained (tp = 0)\n",
      "     constrained if < 4 mutations in GISAID\n",
      "139 sites are mutable (tp = 1)\n",
      "     mutable if >= 4 mutations in GISAID\n"
     ]
    },
    {
     "data": {
      "image/png": "[encoded data removed]",
      "text/plain": [
       "<Figure size 432x288 with 1 Axes>"
      ]
     },
     "metadata": {
      "needs_background": "light"
     },
     "output_type": "display_data"
    }
   ],
   "source": [
    "## PPV DCA vs. IND model, FIG.2\n",
    "\n",
    "# define constrained and mutable sites\n",
    "N_mut = 4\n",
    "constrained = range(0,N_mut)\n",
    "mutable = range(N_mut,1000000) \n",
    "\n",
    "# GISAID data \n",
    "GISAID = 'observed_mut_Mar2021'\n",
    "\n",
    "list_score = ['mutability_score(IND)', 'mutability_score(DCA)']\n",
    "plot_ppv(constrained, mutable, GISAID, list_score, df)\n",
    "\n",
    "\n",
    "### print some info\n",
    "num_contrained = np.sum(df[GISAID].isin(constrained))\n",
    "num_mutable = np.sum(df[GISAID].isin(mutable))\n",
    "\n",
    "print(\"******************************************************\")\n",
    "print(\"   GISAID data from Jan 2020 to {0}\".format(GISAID))\n",
    "print(\"******************************************************\")\n",
    "print(\"{0} sites are constrained (tp = 0)\".format(num_contrained))\n",
    "print('     constrained if < '+str(N_mut) + ' mutations in GISAID')\n",
    "print(\"{0} sites are mutable (tp = 1)\".format(num_mutable))\n",
    "print('     mutable if >= '+str(N_mut) + ' mutations in GISAID')"
   ]
  },
  {
   "cell_type": "markdown",
   "metadata": {},
   "source": [
    "### Mutations are accumulating\n",
    "\n",
    "Here we access the predictive power of the DCA mutability scores considering the 3 different time periods that are available for the GISAID data.\n",
    "We observe a great increase in performance as more GISAID genomes are considered to estimate the mutability."
   ]
  },
  {
   "cell_type": "code",
   "execution_count": 5,
   "metadata": {},
   "outputs": [
    {
     "data": {
      "image/png": "[encoded data removed]",
      "text/plain": [
       "<Figure size 432x288 with 1 Axes>"
      ]
     },
     "metadata": {
      "needs_background": "light"
     },
     "output_type": "display_data"
    }
   ],
   "source": [
    "## PPV DCA, GISAID at different time,  FIG.2\n",
    "\n",
    "# define constrained and mutable sites\n",
    "N_mut = 4\n",
    "constrained = range(0,N_mut)\n",
    "mutable = range(N_mut,1000000) #1000000: a random big number\n",
    "list_score = ['mutability_score(DCA)']\n",
    "              \n",
    "observed_mutability = 'observed_mut_Jul2020'\n",
    "plot_ppv(constrained, mutable, observed_mutability, list_score, df, add_obs_mut = True)\n",
    "observed_mutability = 'observed_mut_Nov2020'\n",
    "plot_ppv(constrained, mutable, observed_mutability, list_score, df, add_obs_mut = True)\n",
    "observed_mutability = 'observed_mut_Mar2021'\n",
    "plot_ppv(constrained, mutable, observed_mutability, list_score, df, add_obs_mut = True)\n",
    "plt.tight_layout()"
   ]
  },
  {
   "cell_type": "markdown",
   "metadata": {},
   "source": [
    "## 2. Predicting immunological relevant mutable sites\n",
    "\n",
    "Nonsynonymous mutations may modify regions of the SARS-CoV-2 genome targeted by B or T cells (known as B/T cell epitopes). \n",
    "\n",
    "The [IEDB](https://www.iedb.org/) collects experimentally validated B and T cell epitopes.\n",
    "Each SARS-CoV-2 sites is associated with the corresponding epitope response frequency (RF), defined as the number of positively responded subjects, averaged over all epitopes mapped to that position. For more details see https://help.iedb.org/hc/en-us/articles/114094147751.\n",
    "\n",
    "Mutations at high RF sites have a higher risk of inducing immune escape as many positively responding epitopes are modified. "
   ]
  },
  {
   "cell_type": "markdown",
   "metadata": {},
   "source": [
    "### DCA and IEDB \n",
    "Here we plot the DCA mutability score vs. the IEDB response frequency for each site of the RDB domain.\n",
    "\n",
    "The interesting region is the **upper right corner** containing sites which are expected to be mutable (high DCA score) and that can induce immune escape (high RF).\n",
    " \n",
    "Strains classified as Variants of Concern (VOC) or Variants of Interest (VOI) in the [20th April 2021 WHO report](https://www.who.int/publications/m/item/covid-19-weekly-epidemiological-update) have mutations in  the 417, 452, 477, 483, 484 and 501 positions of the RBD domain (red points in the plot)."
   ]
  },
  {
   "cell_type": "code",
   "execution_count": 7,
   "metadata": {},
   "outputs": [
    {
     "data": {
      "application/vnd.plotly.v1+json": {
       "config": {
        "linkText": "Export to plot.ly",
        "plotlyServerURL": "https://plot.ly",
        "showLink": false
       },
       "data": [
        {
         "marker": {
          "color": "#5D69B1",
          "size": [
           20,
           20,
           20,
           20,
           20,
           14.285714285714285,
           16.666666666666668,
           12.499999999999998,
           12.5,
           16.666666666666664,
           14.285714285714286,
           16.666666666666668,
           11.11111111111111,
           14.285714285714285,
           16.666666666666668,
           9.090909090909092,
           9.090909090909092,
           6.666666666666666,
           6.666666666666666,
           7.142857142857142,
           7.14285714285714,
           7.14285714285714,
           6.666666666666666,
           6.666666666666666,
           7.142857142857142,
           6.666666666666668,
           6.666666666666666,
           7.142857142857142,
           7.692307692307689,
           7.692307692307689,
           7.142857142857145,
           6.249999999999999,
           6.666666666666666,
           5.882352941176471,
           6.666666666666668,
           10.000000000000002,
           10.000000000000002,
           10,
           11.111111111111109,
           10,
           12.5,
           10.000000000000002,
           11.11111111111111,
           9.090909090909092,
           11.11111111111111,
           16.666666666666668,
           16.666666666666668,
           16.666666666666668,
           16.666666666666668,
           16.666666666666668,
           16.666666666666668,
           14.285714285714285,
           14.285714285714285,
           16.666666666666668,
           14.28571428571428,
           14.285714285714285,
           12.499999999999998,
           14.285714285714286,
           16.666666666666668,
           11.111111111111109,
           14.285714285714285,
           16.666666666666668,
           14.285714285714285,
           11.11111111111111,
           14.285714285714285,
           11.11111111111111,
           11.11111111111111,
           12.500000000000002,
           11.111111111111114,
           14.285714285714285,
           14.285714285714286,
           12.499999999999998,
           11.11111111111111,
           12.500000000000002,
           12.500000000000002,
           20.000000000000004,
           20.000000000000004,
           20,
           14.285714285714286,
           16.666666666666668,
           16.666666666666668,
           16.666666666666668,
           25.000000000000004,
           16.666666666666668,
           16.666666666666668,
           16.666666666666668,
           20,
           20,
           16.666666666666668,
           20,
           16.666666666666664,
           14.285714285714285,
           16.666666666666668,
           20,
           20,
           16.666666666666668,
           14.28571428571429,
           12.500000000000002,
           16.666666666666664,
           16.666666666666668,
           14.285714285714285,
           16.666666666666668,
           20,
           16.666666666666668,
           14.285714285714285,
           20,
           14.28571428571429,
           16.66666666666666,
           19.999999999999993,
           16.666666666666668,
           16.666666666666664,
           16.666666666666664,
           20,
           20.000000000000004,
           20.000000000000004,
           20.000000000000004,
           16.666666666666664,
           14.285714285714286,
           14.285714285714286,
           16.666666666666668,
           14.285714285714286,
           14.285714285714285,
           16.666666666666668,
           16.666666666666664,
           12.500000000000002,
           12.500000000000002,
           11.11111111111111,
           11.11111111111111,
           12.500000000000002,
           14.285714285714286,
           14.285714285714285,
           12.499999999999998,
           14.285714285714285,
           14.285714285714285,
           14.285714285714295,
           16.666666666666668,
           14.285714285714285,
           14.285714285714285,
           16.666666666666668,
           14.285714285714285,
           14.285714285714285,
           14.285714285714285,
           14.285714285714295,
           16.666666666666668,
           14.285714285714285,
           16.666666666666668,
           12.499999999999998,
           14.28571428571429,
           16.666666666666668,
           14.285714285714285,
           14.285714285714285,
           12.500000000000002,
           12.499999999999998,
           12.500000000000002,
           16.666666666666664,
           14.285714285714285,
           12.500000000000002,
           16.666666666666668,
           16.666666666666668,
           14.285714285714285,
           16.666666666666668,
           20.000000000000004,
           16.666666666666668,
           14.285714285714286,
           16.666666666666668,
           16.666666666666664,
           14.285714285714286,
           14.285714285714285,
           12.500000000000002,
           16.666666666666668,
           14.285714285714285,
           16.666666666666668,
           20,
           20,
           20,
           10.000000000000002,
           9.090909090909092,
           9.999999999999996
          ]
         },
         "mode": "markers",
         "name": "",
         "text": [
          "wt: S349",
          "wt: V350",
          "wt: Y351",
          "wt: A352",
          "wt: W353",
          "wt: N354",
          "wt: R355",
          "wt: K356",
          "wt: R357",
          "wt: I358",
          "wt: S359",
          "wt: N360",
          "wt: C361",
          "wt: V362",
          "wt: A363",
          "wt: D364",
          "wt: Y365",
          "wt: S366",
          "wt: V367",
          "wt: L368",
          "wt: Y369",
          "wt: N370",
          "wt: S371",
          "wt: A372",
          "wt: S373",
          "wt: F374",
          "wt: S375",
          "wt: T376",
          "wt: F377",
          "wt: K378",
          "wt: C379",
          "wt: Y380",
          "wt: G381",
          "wt: V382",
          "wt: S383",
          "wt: P384",
          "wt: T385",
          "wt: K386",
          "wt: L387",
          "wt: N388",
          "wt: D389",
          "wt: L390",
          "wt: C391",
          "wt: F392",
          "wt: T393",
          "wt: N394",
          "wt: V395",
          "wt: Y396",
          "wt: A397",
          "wt: D398",
          "wt: S399",
          "wt: F400",
          "wt: V401",
          "wt: I402",
          "wt: R403",
          "wt: G404",
          "wt: D405",
          "wt: E406",
          "wt: V407",
          "wt: R408",
          "wt: Q409",
          "wt: I410",
          "wt: A411",
          "wt: P412",
          "wt: G413",
          "wt: Q414",
          "wt: T415",
          "wt: G416",
          "wt: K417",
          "wt: I418",
          "wt: A419",
          "wt: D420",
          "wt: Y421",
          "wt: N422",
          "wt: Y423",
          "wt: K424",
          "wt: L425",
          "wt: P426",
          "wt: D427",
          "wt: D428",
          "wt: F429",
          "wt: T430",
          "wt: G431",
          "wt: C432",
          "wt: V433",
          "wt: I434",
          "wt: A435",
          "wt: W436",
          "wt: N437",
          "wt: S438",
          "wt: N439",
          "wt: N440",
          "wt: L441",
          "wt: D442",
          "wt: S443",
          "wt: K444",
          "wt: V445",
          "wt: G446",
          "wt: G447",
          "wt: N448",
          "wt: Y449",
          "wt: N450",
          "wt: Y451",
          "wt: L452",
          "wt: Y453",
          "wt: R454",
          "wt: L455",
          "wt: F456",
          "wt: R457",
          "wt: K458",
          "wt: S459",
          "wt: N460",
          "wt: L461",
          "wt: K462",
          "wt: P463",
          "wt: F464",
          "wt: E465",
          "wt: R466",
          "wt: D467",
          "wt: I468",
          "wt: S469",
          "wt: T470",
          "wt: E471",
          "wt: I472",
          "wt: Y473",
          "wt: Q474",
          "wt: A475",
          "wt: G476",
          "wt: S477",
          "wt: T478",
          "wt: P479",
          "wt: C480",
          "wt: N481",
          "wt: G482",
          "wt: V483",
          "wt: E484",
          "wt: G485",
          "wt: F486",
          "wt: N487",
          "wt: C488",
          "wt: Y489",
          "wt: F490",
          "wt: P491",
          "wt: L492",
          "wt: Q493",
          "wt: S494",
          "wt: Y495",
          "wt: G496",
          "wt: F497",
          "wt: Q498",
          "wt: P499",
          "wt: T500",
          "wt: N501",
          "wt: G502",
          "wt: V503",
          "wt: G504",
          "wt: Y505",
          "wt: Q506",
          "wt: P507",
          "wt: Y508",
          "wt: R509",
          "wt: V510",
          "wt: V511",
          "wt: V512",
          "wt: L513",
          "wt: S514",
          "wt: F515",
          "wt: E516",
          "wt: L517",
          "wt: L518",
          "wt: H519",
          "wt: A520",
          "wt: P521",
          "wt: A522",
          "wt: T523",
          "wt: V524",
          "wt: C525",
          "wt: G526"
         ],
         "textfont": {
          "color": "#E58606"
         },
         "textposition": "top right",
         "type": "scattergl",
         "uid": "9ef2dc45-0a30-4d81-a97a-cc98f03119aa",
         "x": [
          -7.0714,
          -6.8487,
          -7.4424,
          -6.6612,
          -7.8855,
          -4.0555,
          -8.5704,
          -5.0399,
          -5.2048,
          -6.6914,
          -6.2764,
          -6.2907,
          -8.5333,
          -6.8402,
          -7.1587,
          -7.2999,
          -7.1893,
          -6.0143,
          -6.6817,
          -7.7912,
          -7.182,
          -7.1045,
          -7.3436,
          0.0485,
          -6.0893,
          -7.0158,
          -7.4614,
          -7.0525,
          -7.721,
          -6.0765,
          -9.1246,
          -7.5777,
          -7.8335,
          -8.472000000000001,
          -7.6377,
          -6.1537,
          -5.9252,
          -7.6474,
          -8.1158,
          -6.0763,
          -7.6592,
          -7.3459,
          -8.9496,
          -7.269,
          -3.621,
          -5.2318,
          -7.2588,
          -7.3669,
          -7.1396,
          -8.666,
          -5.4206,
          -8.4179,
          -5.5623,
          -2.9216,
          0.361,
          -6.4139,
          -6.6927,
          -4.0262,
          -6.7938,
          -6.8809,
          -7.2942,
          -5.9501,
          -7.3334,
          -7.3788,
          -6.4952,
          -6.5801,
          -6.8491,
          -8.442,
          -2.5333,
          -7.6833,
          -7.2269,
          -7.2687,
          -8.0656,
          -9.1096,
          -8.9532,
          -7.0474,
          -7.8601,
          -7.769,
          -7.1514,
          -7.0546,
          -7.9294,
          -5.4657,
          -7.7127,
          -9.0326,
          -7.1835,
          -4.4284,
          -7.7121,
          -7.1727,
          -6.9158,
          -3.5478,
          -2.609,
          -1.2282,
          -1.1781,
          -7.0246,
          -1.8065,
          -2.3969,
          -0.3316,
          -3.425,
          -3.6557,
          -5.6606,
          -3.7562,
          -4.176,
          -6.0778,
          -5.6212,
          -6.4992,
          -7.2967,
          -3.8799,
          -4.3826,
          -6.5657,
          -4.256,
          -3.734,
          -2.1661,
          -5.6322,
          -5.3903,
          -7.537000000000001,
          -4.9326,
          -6.4079,
          -7.019,
          -7.2243,
          -4.7328,
          -6.6095,
          -3.5694,
          -3.4699,
          -4.8913,
          -5.2646,
          -4.2273,
          -3.3421,
          -4.7856,
          -3.7151,
          -3.8616,
          -4.8911,
          -7.3387,
          -4.1711,
          -3.8094,
          -1.861,
          -1.2308,
          -5.5669,
          -1.253,
          -6.426,
          -6.9802,
          -6.4213,
          0.2784,
          -6.546,
          -7.0638,
          0.2627,
          -1.8557,
          -7.1363,
          -6.7186,
          -7.2593,
          -0.6517,
          -5.0053,
          -5.6843,
          -0.2509,
          -6.896,
          -5.2949,
          -4.3757,
          -3.934,
          -7.3015,
          -6.2452,
          -4.8244,
          -6.9474,
          -6.7388,
          -7.0489,
          -7.4213,
          -6.9552,
          -7.455,
          -6.6368,
          -6.7014,
          -6.9713,
          -7.2009,
          1.2674,
          -4.9278,
          -6.9229,
          -7.2943,
          -7.5158,
          -8.7081,
          -8.8214,
          -7.5933
         ],
         "y": [
          0.0735632183908046,
          0.06928406466512703,
          0.08333333333333333,
          0.06921241050119331,
          0.06474820143884892,
          0.09246575342465753,
          0.08620689655172414,
          0.1536050156739812,
          0.14689265536723164,
          0.062295081967213124,
          0.13953488372093026,
          0.0728744939271255,
          0.16783216783216784,
          0.07024793388429752,
          0.07407407407407407,
          0.12295081967213115,
          0.14814814814814814,
          0.1743119266055046,
          0.1743119266055046,
          0.18181818181818185,
          0.4784688995215311,
          0.4795918367346938,
          0.36774193548387096,
          0.36774193548387096,
          0.17592592592592593,
          0.39130434782608703,
          0.3717948717948718,
          0.3772455089820359,
          0.4841628959276018,
          0.4761904761904762,
          0.526595744680851,
          0.4444444444444444,
          0.3741935483870968,
          0.4117647058823529,
          0.5136612021857924,
          0.31446540880503143,
          0.3180327868852459,
          0.25675675675675674,
          0.11739130434782608,
          0.21978021978021975,
          0.11353711790393012,
          0.2419928825622776,
          0.11004784688995216,
          0.24031007751937986,
          0.11004784688995216,
          0.0856269113149847,
          0.0856269113149847,
          0.08609271523178808,
          0.08609271523178808,
          0.08609271523178808,
          0.08609271523178808,
          0.08881578947368421,
          0.0891089108910891,
          0.07629427792915533,
          0.2427616926503341,
          0.05687203791469194,
          0.12334801762114538,
          0.07692307692307693,
          0.07296137339055794,
          0.22018348623853207,
          0.0925925925925926,
          0.08239700374531835,
          0.09302325581395347,
          0.19471947194719472,
          0.1,
          0.2616279069767442,
          0.17832167832167833,
          0.17525773195876287,
          0.31554524361948955,
          0.09824561403508772,
          0.11072664359861592,
          0.18670886075949367,
          0.19407894736842105,
          0.10583941605839416,
          0.10583941605839416,
          0.09071274298056156,
          0.09207708779443256,
          0.06683168316831684,
          0.1419068736141907,
          0.14757709251101322,
          0.1456953642384106,
          0.1456953642384106,
          0.06601466992665038,
          0.07536231884057971,
          0.07803468208092486,
          0.0539568345323741,
          0.057347670250896064,
          0.046263345195729534,
          0.056338028169014086,
          0.04964539007092199,
          0.06535947712418301,
          0.0990990990990991,
          0.145124716553288,
          0.06887755102040816,
          0.07360406091370557,
          0.12688172043010754,
          0.17586912065439672,
          0.2583892617449665,
          0.10444444444444444,
          0.11967545638945233,
          0.2893890675241157,
          0.15939278937381404,
          0.09819639278557114,
          0.1601489757914339,
          0.22086956521739126,
          0.10436432637571158,
          0.2507936507936508,
          0.23747980613893374,
          0.1423290203327172,
          0.14391143911439114,
          0.10638297872340426,
          0.13644859813084112,
          0.08333333333333333,
          0.09054325955734406,
          0.09409190371991248,
          0.09482758620689656,
          0.105,
          0.11049723756906077,
          0.1132596685082873,
          0.11666666666666667,
          0.1092436974789916,
          0.15384615384615385,
          0.1278772378516624,
          0.13670886075949368,
          0.1796875,
          0.1357615894039735,
          0.20909090909090908,
          0.1929260450160772,
          0.17737003058103976,
          0.10915492957746477,
          0.0971223021582734,
          0.359375,
          0.3654618473895582,
          0.368,
          0.3779527559055118,
          0.4484978540772532,
          0.3866837387964149,
          0.3960880195599022,
          0.3787878787878788,
          0.3234880450070324,
          0.3836104513064133,
          0.3960396039603961,
          0.3163841807909605,
          0.33969986357435195,
          0.4019728729963009,
          0.3702380952380953,
          0.2196652719665272,
          0.20518358531317496,
          0.09706546275395034,
          0.22174840085287847,
          0.19389978213507625,
          0.20905172413793105,
          0.3382084095063985,
          0.2488986784140969,
          0.109375,
          0.13043478260869565,
          0.26814516129032256,
          0.12839506172839507,
          0.12623762376237624,
          0.13267813267813267,
          0.11528822055137845,
          0.09020618556701032,
          0.11458333333333333,
          0.11286089238845146,
          0.1243523316062176,
          0.13636363636363635,
          0.13861386138613865,
          0.13297872340425532,
          0.19617224880382772,
          0.11653116531165313,
          0.1005586592178771,
          0.08522727272727272,
          0.06948640483383686,
          0.06948640483383686,
          0.06948640483383686,
          0.3202416918429003,
          0.33554817275747506,
          0.33881578947368424
         ]
        },
        {
         "marker": {
          "color": "red",
          "size": [
           11.111111111111114,
           16.666666666666668,
           12.500000000000002,
           14.285714285714295,
           16.666666666666668,
           12.499999999999998
          ]
         },
         "mode": "markers",
         "showlegend": false,
         "text": [
          "wt: K417",
          "wt: L452",
          "wt: S477",
          "wt: V483",
          "wt: E484",
          "wt: N501"
         ],
         "textfont": {
          "color": "#E58606"
         },
         "textposition": "top right",
         "type": "scattergl",
         "uid": "d043669d-b959-4b1d-9b56-3ec7013e63a8",
         "x": [
          -2.5333,
          -5.6212,
          -3.7151,
          -1.861,
          -1.2308,
          -0.2509
         ],
         "y": [
          0.31554524361948955,
          0.1601489757914339,
          0.17737003058103976,
          0.3779527559055118,
          0.4484978540772532,
          0.3382084095063985
         ]
        }
       ],
       "layout": {
        "legend": {
         "itemclick": "toggleothers",
         "itemdoubleclick": "toggle"
        },
        "margin": {
         "b": 20,
         "l": 20,
         "r": 20,
         "t": 20
        },
        "plot_bgcolor": "#FFF",
        "template": {
         "data": {
          "bar": [
           {
            "error_x": {
             "color": "#2a3f5f"
            },
            "error_y": {
             "color": "#2a3f5f"
            },
            "marker": {
             "line": {
              "color": "#E5ECF6",
              "width": 0.5
             }
            },
            "type": "bar"
           }
          ],
          "barpolar": [
           {
            "marker": {
             "line": {
              "color": "#E5ECF6",
              "width": 0.5
             }
            },
            "type": "barpolar"
           }
          ],
          "carpet": [
           {
            "aaxis": {
             "endlinecolor": "#2a3f5f",
             "gridcolor": "white",
             "linecolor": "white",
             "minorgridcolor": "white",
             "startlinecolor": "#2a3f5f"
            },
            "baxis": {
             "endlinecolor": "#2a3f5f",
             "gridcolor": "white",
             "linecolor": "white",
             "minorgridcolor": "white",
             "startlinecolor": "#2a3f5f"
            },
            "type": "carpet"
           }
          ],
          "choropleth": [
           {
            "colorbar": {
             "outlinewidth": 0,
             "ticks": ""
            },
            "type": "choropleth"
           }
          ],
          "contour": [
           {
            "colorbar": {
             "outlinewidth": 0,
             "ticks": ""
            },
            "colorscale": [
             [
              0,
              "#0d0887"
             ],
             [
              0.1111111111111111,
              "#46039f"
             ],
             [
              0.2222222222222222,
              "#7201a8"
             ],
             [
              0.3333333333333333,
              "#9c179e"
             ],
             [
              0.4444444444444444,
              "#bd3786"
             ],
             [
              0.5555555555555556,
              "#d8576b"
             ],
             [
              0.6666666666666666,
              "#ed7953"
             ],
             [
              0.7777777777777778,
              "#fb9f3a"
             ],
             [
              0.8888888888888888,
              "#fdca26"
             ],
             [
              1,
              "#f0f921"
             ]
            ],
            "type": "contour"
           }
          ],
          "contourcarpet": [
           {
            "colorbar": {
             "outlinewidth": 0,
             "ticks": ""
            },
            "type": "contourcarpet"
           }
          ],
          "heatmap": [
           {
            "colorbar": {
             "outlinewidth": 0,
             "ticks": ""
            },
            "colorscale": [
             [
              0,
              "#0d0887"
             ],
             [
              0.1111111111111111,
              "#46039f"
             ],
             [
              0.2222222222222222,
              "#7201a8"
             ],
             [
              0.3333333333333333,
              "#9c179e"
             ],
             [
              0.4444444444444444,
              "#bd3786"
             ],
             [
              0.5555555555555556,
              "#d8576b"
             ],
             [
              0.6666666666666666,
              "#ed7953"
             ],
             [
              0.7777777777777778,
              "#fb9f3a"
             ],
             [
              0.8888888888888888,
              "#fdca26"
             ],
             [
              1,
              "#f0f921"
             ]
            ],
            "type": "heatmap"
           }
          ],
          "heatmapgl": [
           {
            "colorbar": {
             "outlinewidth": 0,
             "ticks": ""
            },
            "colorscale": [
             [
              0,
              "#0d0887"
             ],
             [
              0.1111111111111111,
              "#46039f"
             ],
             [
              0.2222222222222222,
              "#7201a8"
             ],
             [
              0.3333333333333333,
              "#9c179e"
             ],
             [
              0.4444444444444444,
              "#bd3786"
             ],
             [
              0.5555555555555556,
              "#d8576b"
             ],
             [
              0.6666666666666666,
              "#ed7953"
             ],
             [
              0.7777777777777778,
              "#fb9f3a"
             ],
             [
              0.8888888888888888,
              "#fdca26"
             ],
             [
              1,
              "#f0f921"
             ]
            ],
            "type": "heatmapgl"
           }
          ],
          "histogram": [
           {
            "marker": {
             "colorbar": {
              "outlinewidth": 0,
              "ticks": ""
             }
            },
            "type": "histogram"
           }
          ],
          "histogram2d": [
           {
            "colorbar": {
             "outlinewidth": 0,
             "ticks": ""
            },
            "colorscale": [
             [
              0,
              "#0d0887"
             ],
             [
              0.1111111111111111,
              "#46039f"
             ],
             [
              0.2222222222222222,
              "#7201a8"
             ],
             [
              0.3333333333333333,
              "#9c179e"
             ],
             [
              0.4444444444444444,
              "#bd3786"
             ],
             [
              0.5555555555555556,
              "#d8576b"
             ],
             [
              0.6666666666666666,
              "#ed7953"
             ],
             [
              0.7777777777777778,
              "#fb9f3a"
             ],
             [
              0.8888888888888888,
              "#fdca26"
             ],
             [
              1,
              "#f0f921"
             ]
            ],
            "type": "histogram2d"
           }
          ],
          "histogram2dcontour": [
           {
            "colorbar": {
             "outlinewidth": 0,
             "ticks": ""
            },
            "colorscale": [
             [
              0,
              "#0d0887"
             ],
             [
              0.1111111111111111,
              "#46039f"
             ],
             [
              0.2222222222222222,
              "#7201a8"
             ],
             [
              0.3333333333333333,
              "#9c179e"
             ],
             [
              0.4444444444444444,
              "#bd3786"
             ],
             [
              0.5555555555555556,
              "#d8576b"
             ],
             [
              0.6666666666666666,
              "#ed7953"
             ],
             [
              0.7777777777777778,
              "#fb9f3a"
             ],
             [
              0.8888888888888888,
              "#fdca26"
             ],
             [
              1,
              "#f0f921"
             ]
            ],
            "type": "histogram2dcontour"
           }
          ],
          "mesh3d": [
           {
            "colorbar": {
             "outlinewidth": 0,
             "ticks": ""
            },
            "type": "mesh3d"
           }
          ],
          "parcoords": [
           {
            "line": {
             "colorbar": {
              "outlinewidth": 0,
              "ticks": ""
             }
            },
            "type": "parcoords"
           }
          ],
          "pie": [
           {
            "automargin": true,
            "type": "pie"
           }
          ],
          "scatter": [
           {
            "marker": {
             "colorbar": {
              "outlinewidth": 0,
              "ticks": ""
             }
            },
            "type": "scatter"
           }
          ],
          "scatter3d": [
           {
            "line": {
             "colorbar": {
              "outlinewidth": 0,
              "ticks": ""
             }
            },
            "marker": {
             "colorbar": {
              "outlinewidth": 0,
              "ticks": ""
             }
            },
            "type": "scatter3d"
           }
          ],
          "scattercarpet": [
           {
            "marker": {
             "colorbar": {
              "outlinewidth": 0,
              "ticks": ""
             }
            },
            "type": "scattercarpet"
           }
          ],
          "scattergeo": [
           {
            "marker": {
             "colorbar": {
              "outlinewidth": 0,
              "ticks": ""
             }
            },
            "type": "scattergeo"
           }
          ],
          "scattergl": [
           {
            "marker": {
             "colorbar": {
              "outlinewidth": 0,
              "ticks": ""
             }
            },
            "type": "scattergl"
           }
          ],
          "scattermapbox": [
           {
            "marker": {
             "colorbar": {
              "outlinewidth": 0,
              "ticks": ""
             }
            },
            "type": "scattermapbox"
           }
          ],
          "scatterpolar": [
           {
            "marker": {
             "colorbar": {
              "outlinewidth": 0,
              "ticks": ""
             }
            },
            "type": "scatterpolar"
           }
          ],
          "scatterpolargl": [
           {
            "marker": {
             "colorbar": {
              "outlinewidth": 0,
              "ticks": ""
             }
            },
            "type": "scatterpolargl"
           }
          ],
          "scatterternary": [
           {
            "marker": {
             "colorbar": {
              "outlinewidth": 0,
              "ticks": ""
             }
            },
            "type": "scatterternary"
           }
          ],
          "surface": [
           {
            "colorbar": {
             "outlinewidth": 0,
             "ticks": ""
            },
            "colorscale": [
             [
              0,
              "#0d0887"
             ],
             [
              0.1111111111111111,
              "#46039f"
             ],
             [
              0.2222222222222222,
              "#7201a8"
             ],
             [
              0.3333333333333333,
              "#9c179e"
             ],
             [
              0.4444444444444444,
              "#bd3786"
             ],
             [
              0.5555555555555556,
              "#d8576b"
             ],
             [
              0.6666666666666666,
              "#ed7953"
             ],
             [
              0.7777777777777778,
              "#fb9f3a"
             ],
             [
              0.8888888888888888,
              "#fdca26"
             ],
             [
              1,
              "#f0f921"
             ]
            ],
            "type": "surface"
           }
          ],
          "table": [
           {
            "cells": {
             "fill": {
              "color": "#EBF0F8"
             },
             "line": {
              "color": "white"
             }
            },
            "header": {
             "fill": {
              "color": "#C8D4E3"
             },
             "line": {
              "color": "white"
             }
            },
            "type": "table"
           }
          ]
         },
         "layout": {
          "annotationdefaults": {
           "arrowcolor": "#2a3f5f",
           "arrowhead": 0,
           "arrowwidth": 1
          },
          "autotypenumbers": "strict",
          "coloraxis": {
           "colorbar": {
            "outlinewidth": 0,
            "ticks": ""
           }
          },
          "colorscale": {
           "diverging": [
            [
             0,
             "#8e0152"
            ],
            [
             0.1,
             "#c51b7d"
            ],
            [
             0.2,
             "#de77ae"
            ],
            [
             0.3,
             "#f1b6da"
            ],
            [
             0.4,
             "#fde0ef"
            ],
            [
             0.5,
             "#f7f7f7"
            ],
            [
             0.6,
             "#e6f5d0"
            ],
            [
             0.7,
             "#b8e186"
            ],
            [
             0.8,
             "#7fbc41"
            ],
            [
             0.9,
             "#4d9221"
            ],
            [
             1,
             "#276419"
            ]
           ],
           "sequential": [
            [
             0,
             "#0d0887"
            ],
            [
             0.1111111111111111,
             "#46039f"
            ],
            [
             0.2222222222222222,
             "#7201a8"
            ],
            [
             0.3333333333333333,
             "#9c179e"
            ],
            [
             0.4444444444444444,
             "#bd3786"
            ],
            [
             0.5555555555555556,
             "#d8576b"
            ],
            [
             0.6666666666666666,
             "#ed7953"
            ],
            [
             0.7777777777777778,
             "#fb9f3a"
            ],
            [
             0.8888888888888888,
             "#fdca26"
            ],
            [
             1,
             "#f0f921"
            ]
           ],
           "sequentialminus": [
            [
             0,
             "#0d0887"
            ],
            [
             0.1111111111111111,
             "#46039f"
            ],
            [
             0.2222222222222222,
             "#7201a8"
            ],
            [
             0.3333333333333333,
             "#9c179e"
            ],
            [
             0.4444444444444444,
             "#bd3786"
            ],
            [
             0.5555555555555556,
             "#d8576b"
            ],
            [
             0.6666666666666666,
             "#ed7953"
            ],
            [
             0.7777777777777778,
             "#fb9f3a"
            ],
            [
             0.8888888888888888,
             "#fdca26"
            ],
            [
             1,
             "#f0f921"
            ]
           ]
          },
          "colorway": [
           "#636efa",
           "#EF553B",
           "#00cc96",
           "#ab63fa",
           "#FFA15A",
           "#19d3f3",
           "#FF6692",
           "#B6E880",
           "#FF97FF",
           "#FECB52"
          ],
          "font": {
           "color": "#2a3f5f"
          },
          "geo": {
           "bgcolor": "white",
           "lakecolor": "white",
           "landcolor": "#E5ECF6",
           "showlakes": true,
           "showland": true,
           "subunitcolor": "white"
          },
          "hoverlabel": {
           "align": "left"
          },
          "hovermode": "closest",
          "mapbox": {
           "style": "light"
          },
          "paper_bgcolor": "white",
          "plot_bgcolor": "#E5ECF6",
          "polar": {
           "angularaxis": {
            "gridcolor": "white",
            "linecolor": "white",
            "ticks": ""
           },
           "bgcolor": "#E5ECF6",
           "radialaxis": {
            "gridcolor": "white",
            "linecolor": "white",
            "ticks": ""
           }
          },
          "scene": {
           "xaxis": {
            "backgroundcolor": "#E5ECF6",
            "gridcolor": "white",
            "gridwidth": 2,
            "linecolor": "white",
            "showbackground": true,
            "ticks": "",
            "zerolinecolor": "white"
           },
           "yaxis": {
            "backgroundcolor": "#E5ECF6",
            "gridcolor": "white",
            "gridwidth": 2,
            "linecolor": "white",
            "showbackground": true,
            "ticks": "",
            "zerolinecolor": "white"
           },
           "zaxis": {
            "backgroundcolor": "#E5ECF6",
            "gridcolor": "white",
            "gridwidth": 2,
            "linecolor": "white",
            "showbackground": true,
            "ticks": "",
            "zerolinecolor": "white"
           }
          },
          "shapedefaults": {
           "line": {
            "color": "#2a3f5f"
           }
          },
          "ternary": {
           "aaxis": {
            "gridcolor": "white",
            "linecolor": "white",
            "ticks": ""
           },
           "baxis": {
            "gridcolor": "white",
            "linecolor": "white",
            "ticks": ""
           },
           "bgcolor": "#E5ECF6",
           "caxis": {
            "gridcolor": "white",
            "linecolor": "white",
            "ticks": ""
           }
          },
          "title": {
           "x": 0.05
          },
          "xaxis": {
           "automargin": true,
           "gridcolor": "white",
           "linecolor": "white",
           "ticks": "",
           "title": {
            "standoff": 15
           },
           "zerolinecolor": "white",
           "zerolinewidth": 2
          },
          "yaxis": {
           "automargin": true,
           "gridcolor": "white",
           "linecolor": "white",
           "ticks": "",
           "title": {
            "standoff": 15
           },
           "zerolinecolor": "white",
           "zerolinewidth": 2
          }
         }
        },
        "xaxis": {
         "linecolor": "#BCCCDC",
         "mirror": true,
         "showgrid": true,
         "title": {
          "text": "mutability_score(DCA)"
         }
        },
        "yaxis": {
         "linecolor": "#BCCCDC",
         "mirror": true,
         "showgrid": true,
         "title": {
          "text": "IEDB - Response Frequency"
         }
        }
       }
      },
      "text/html": [
       "<div>                            <div id=\"752f8292-8ba2-4185-8905-d461dad979b6\" class=\"plotly-graph-div\" style=\"height:525px; width:100%;\"></div>            <script type=\"text/javascript\">                require([\"plotly\"], function(Plotly) {                    window.PLOTLYENV=window.PLOTLYENV || {};                                    if (document.getElementById(\"752f8292-8ba2-4185-8905-d461dad979b6\")) {                    Plotly.newPlot(                        \"752f8292-8ba2-4185-8905-d461dad979b6\",                        [{\"marker\": {\"color\": \"#5D69B1\", \"size\": [20.0, 20.0, 20.0, 20.0, 20.0, 14.285714285714285, 16.666666666666668, 12.499999999999998, 12.5, 16.666666666666664, 14.285714285714286, 16.666666666666668, 11.11111111111111, 14.285714285714285, 16.666666666666668, 9.090909090909092, 9.090909090909092, 6.666666666666666, 6.666666666666666, 7.142857142857142, 7.14285714285714, 7.14285714285714, 6.666666666666666, 6.666666666666666, 7.142857142857142, 6.666666666666668, 6.666666666666666, 7.142857142857142, 7.692307692307689, 7.692307692307689, 7.142857142857145, 6.249999999999999, 6.666666666666666, 5.882352941176471, 6.666666666666668, 10.000000000000002, 10.000000000000002, 10.0, 11.111111111111109, 10.0, 12.5, 10.000000000000002, 11.11111111111111, 9.090909090909092, 11.11111111111111, 16.666666666666668, 16.666666666666668, 16.666666666666668, 16.666666666666668, 16.666666666666668, 16.666666666666668, 14.285714285714285, 14.285714285714285, 16.666666666666668, 14.28571428571428, 14.285714285714285, 12.499999999999998, 14.285714285714286, 16.666666666666668, 11.111111111111109, 14.285714285714285, 16.666666666666668, 14.285714285714285, 11.11111111111111, 14.285714285714285, 11.11111111111111, 11.11111111111111, 12.500000000000002, 11.111111111111114, 14.285714285714285, 14.285714285714286, 12.499999999999998, 11.11111111111111, 12.500000000000002, 12.500000000000002, 20.000000000000004, 20.000000000000004, 20.0, 14.285714285714286, 16.666666666666668, 16.666666666666668, 16.666666666666668, 25.000000000000004, 16.666666666666668, 16.666666666666668, 16.666666666666668, 20.0, 20.0, 16.666666666666668, 20.0, 16.666666666666664, 14.285714285714285, 16.666666666666668, 20.0, 20.0, 16.666666666666668, 14.28571428571429, 12.500000000000002, 16.666666666666664, 16.666666666666668, 14.285714285714285, 16.666666666666668, 20.0, 16.666666666666668, 14.285714285714285, 20.0, 14.28571428571429, 16.66666666666666, 19.999999999999993, 16.666666666666668, 16.666666666666664, 16.666666666666664, 20.0, 20.000000000000004, 20.000000000000004, 20.000000000000004, 16.666666666666664, 14.285714285714286, 14.285714285714286, 16.666666666666668, 14.285714285714286, 14.285714285714285, 16.666666666666668, 16.666666666666664, 12.500000000000002, 12.500000000000002, 11.11111111111111, 11.11111111111111, 12.500000000000002, 14.285714285714286, 14.285714285714285, 12.499999999999998, 14.285714285714285, 14.285714285714285, 14.285714285714295, 16.666666666666668, 14.285714285714285, 14.285714285714285, 16.666666666666668, 14.285714285714285, 14.285714285714285, 14.285714285714285, 14.285714285714295, 16.666666666666668, 14.285714285714285, 16.666666666666668, 12.499999999999998, 14.28571428571429, 16.666666666666668, 14.285714285714285, 14.285714285714285, 12.500000000000002, 12.499999999999998, 12.500000000000002, 16.666666666666664, 14.285714285714285, 12.500000000000002, 16.666666666666668, 16.666666666666668, 14.285714285714285, 16.666666666666668, 20.000000000000004, 16.666666666666668, 14.285714285714286, 16.666666666666668, 16.666666666666664, 14.285714285714286, 14.285714285714285, 12.500000000000002, 16.666666666666668, 14.285714285714285, 16.666666666666668, 20.0, 20.0, 20.0, 10.000000000000002, 9.090909090909092, 9.999999999999996]}, \"mode\": \"markers\", \"name\": \"\", \"text\": [\"wt: S349\", \"wt: V350\", \"wt: Y351\", \"wt: A352\", \"wt: W353\", \"wt: N354\", \"wt: R355\", \"wt: K356\", \"wt: R357\", \"wt: I358\", \"wt: S359\", \"wt: N360\", \"wt: C361\", \"wt: V362\", \"wt: A363\", \"wt: D364\", \"wt: Y365\", \"wt: S366\", \"wt: V367\", \"wt: L368\", \"wt: Y369\", \"wt: N370\", \"wt: S371\", \"wt: A372\", \"wt: S373\", \"wt: F374\", \"wt: S375\", \"wt: T376\", \"wt: F377\", \"wt: K378\", \"wt: C379\", \"wt: Y380\", \"wt: G381\", \"wt: V382\", \"wt: S383\", \"wt: P384\", \"wt: T385\", \"wt: K386\", \"wt: L387\", \"wt: N388\", \"wt: D389\", \"wt: L390\", \"wt: C391\", \"wt: F392\", \"wt: T393\", \"wt: N394\", \"wt: V395\", \"wt: Y396\", \"wt: A397\", \"wt: D398\", \"wt: S399\", \"wt: F400\", \"wt: V401\", \"wt: I402\", \"wt: R403\", \"wt: G404\", \"wt: D405\", \"wt: E406\", \"wt: V407\", \"wt: R408\", \"wt: Q409\", \"wt: I410\", \"wt: A411\", \"wt: P412\", \"wt: G413\", \"wt: Q414\", \"wt: T415\", \"wt: G416\", \"wt: K417\", \"wt: I418\", \"wt: A419\", \"wt: D420\", \"wt: Y421\", \"wt: N422\", \"wt: Y423\", \"wt: K424\", \"wt: L425\", \"wt: P426\", \"wt: D427\", \"wt: D428\", \"wt: F429\", \"wt: T430\", \"wt: G431\", \"wt: C432\", \"wt: V433\", \"wt: I434\", \"wt: A435\", \"wt: W436\", \"wt: N437\", \"wt: S438\", \"wt: N439\", \"wt: N440\", \"wt: L441\", \"wt: D442\", \"wt: S443\", \"wt: K444\", \"wt: V445\", \"wt: G446\", \"wt: G447\", \"wt: N448\", \"wt: Y449\", \"wt: N450\", \"wt: Y451\", \"wt: L452\", \"wt: Y453\", \"wt: R454\", \"wt: L455\", \"wt: F456\", \"wt: R457\", \"wt: K458\", \"wt: S459\", \"wt: N460\", \"wt: L461\", \"wt: K462\", \"wt: P463\", \"wt: F464\", \"wt: E465\", \"wt: R466\", \"wt: D467\", \"wt: I468\", \"wt: S469\", \"wt: T470\", \"wt: E471\", \"wt: I472\", \"wt: Y473\", \"wt: Q474\", \"wt: A475\", \"wt: G476\", \"wt: S477\", \"wt: T478\", \"wt: P479\", \"wt: C480\", \"wt: N481\", \"wt: G482\", \"wt: V483\", \"wt: E484\", \"wt: G485\", \"wt: F486\", \"wt: N487\", \"wt: C488\", \"wt: Y489\", \"wt: F490\", \"wt: P491\", \"wt: L492\", \"wt: Q493\", \"wt: S494\", \"wt: Y495\", \"wt: G496\", \"wt: F497\", \"wt: Q498\", \"wt: P499\", \"wt: T500\", \"wt: N501\", \"wt: G502\", \"wt: V503\", \"wt: G504\", \"wt: Y505\", \"wt: Q506\", \"wt: P507\", \"wt: Y508\", \"wt: R509\", \"wt: V510\", \"wt: V511\", \"wt: V512\", \"wt: L513\", \"wt: S514\", \"wt: F515\", \"wt: E516\", \"wt: L517\", \"wt: L518\", \"wt: H519\", \"wt: A520\", \"wt: P521\", \"wt: A522\", \"wt: T523\", \"wt: V524\", \"wt: C525\", \"wt: G526\"], \"textfont\": {\"color\": \"#E58606\"}, \"textposition\": \"top right\", \"type\": \"scattergl\", \"uid\": \"9ef2dc45-0a30-4d81-a97a-cc98f03119aa\", \"x\": [-7.0714, -6.8487, -7.4424, -6.6612, -7.8855, -4.0555, -8.5704, -5.0399, -5.2048, -6.6914, -6.2764, -6.2907, -8.5333, -6.8402, -7.1587, -7.2999, -7.1893, -6.0143, -6.6817, -7.7912, -7.182, -7.1045, -7.3436, 0.0485, -6.0893, -7.0158, -7.4614, -7.0525, -7.721, -6.0765, -9.1246, -7.5777, -7.8335, -8.472000000000001, -7.6377, -6.1537, -5.9252, -7.6474, -8.1158, -6.0763, -7.6592, -7.3459, -8.9496, -7.269, -3.621, -5.2318, -7.2588, -7.3669, -7.1396, -8.666, -5.4206, -8.4179, -5.5623, -2.9216, 0.361, -6.4139, -6.6927, -4.0262, -6.7938, -6.8809, -7.2942, -5.9501, -7.3334, -7.3788, -6.4952, -6.5801, -6.8491, -8.442, -2.5333, -7.6833, -7.2269, -7.2687, -8.0656, -9.1096, -8.9532, -7.0474, -7.8601, -7.769, -7.1514, -7.0546, -7.9294, -5.4657, -7.7127, -9.0326, -7.1835, -4.4284, -7.7121, -7.1727, -6.9158, -3.5478, -2.609, -1.2282, -1.1781, -7.0246, -1.8065, -2.3969, -0.3316, -3.425, -3.6557, -5.6606, -3.7562, -4.176, -6.0778, -5.6212, -6.4992, -7.2967, -3.8799, -4.3826, -6.5657, -4.256, -3.734, -2.1661, -5.6322, -5.3903, -7.537000000000001, -4.9326, -6.4079, -7.019, -7.2243, -4.7328, -6.6095, -3.5694, -3.4699, -4.8913, -5.2646, -4.2273, -3.3421, -4.7856, -3.7151, -3.8616, -4.8911, -7.3387, -4.1711, -3.8094, -1.861, -1.2308, -5.5669, -1.253, -6.426, -6.9802, -6.4213, 0.2784, -6.546, -7.0638, 0.2627, -1.8557, -7.1363, -6.7186, -7.2593, -0.6517, -5.0053, -5.6843, -0.2509, -6.896, -5.2949, -4.3757, -3.934, -7.3015, -6.2452, -4.8244, -6.9474, -6.7388, -7.0489, -7.4213, -6.9552, -7.455, -6.6368, -6.7014, -6.9713, -7.2009, 1.2674, -4.9278, -6.9229, -7.2943, -7.5158, -8.7081, -8.8214, -7.5933], \"y\": [0.0735632183908046, 0.06928406466512703, 0.08333333333333333, 0.06921241050119331, 0.06474820143884892, 0.09246575342465753, 0.08620689655172414, 0.1536050156739812, 0.14689265536723164, 0.062295081967213124, 0.13953488372093026, 0.0728744939271255, 0.16783216783216784, 0.07024793388429752, 0.07407407407407407, 0.12295081967213115, 0.14814814814814814, 0.1743119266055046, 0.1743119266055046, 0.18181818181818185, 0.4784688995215311, 0.4795918367346938, 0.36774193548387096, 0.36774193548387096, 0.17592592592592593, 0.39130434782608703, 0.3717948717948718, 0.3772455089820359, 0.4841628959276018, 0.4761904761904762, 0.526595744680851, 0.4444444444444444, 0.3741935483870968, 0.4117647058823529, 0.5136612021857924, 0.31446540880503143, 0.3180327868852459, 0.25675675675675674, 0.11739130434782608, 0.21978021978021975, 0.11353711790393012, 0.2419928825622776, 0.11004784688995216, 0.24031007751937986, 0.11004784688995216, 0.0856269113149847, 0.0856269113149847, 0.08609271523178808, 0.08609271523178808, 0.08609271523178808, 0.08609271523178808, 0.08881578947368421, 0.0891089108910891, 0.07629427792915533, 0.2427616926503341, 0.05687203791469194, 0.12334801762114538, 0.07692307692307693, 0.07296137339055794, 0.22018348623853207, 0.0925925925925926, 0.08239700374531835, 0.09302325581395347, 0.19471947194719472, 0.1, 0.2616279069767442, 0.17832167832167833, 0.17525773195876287, 0.31554524361948955, 0.09824561403508772, 0.11072664359861592, 0.18670886075949367, 0.19407894736842105, 0.10583941605839416, 0.10583941605839416, 0.09071274298056156, 0.09207708779443256, 0.06683168316831684, 0.1419068736141907, 0.14757709251101322, 0.1456953642384106, 0.1456953642384106, 0.06601466992665038, 0.07536231884057971, 0.07803468208092486, 0.0539568345323741, 0.057347670250896064, 0.046263345195729534, 0.056338028169014086, 0.04964539007092199, 0.06535947712418301, 0.0990990990990991, 0.145124716553288, 0.06887755102040816, 0.07360406091370557, 0.12688172043010754, 0.17586912065439672, 0.2583892617449665, 0.10444444444444444, 0.11967545638945233, 0.2893890675241157, 0.15939278937381404, 0.09819639278557114, 0.1601489757914339, 0.22086956521739126, 0.10436432637571158, 0.2507936507936508, 0.23747980613893374, 0.1423290203327172, 0.14391143911439114, 0.10638297872340426, 0.13644859813084112, 0.08333333333333333, 0.09054325955734406, 0.09409190371991248, 0.09482758620689656, 0.105, 0.11049723756906077, 0.1132596685082873, 0.11666666666666667, 0.1092436974789916, 0.15384615384615385, 0.1278772378516624, 0.13670886075949368, 0.1796875, 0.1357615894039735, 0.20909090909090908, 0.1929260450160772, 0.17737003058103976, 0.10915492957746477, 0.0971223021582734, 0.359375, 0.3654618473895582, 0.368, 0.3779527559055118, 0.4484978540772532, 0.3866837387964149, 0.3960880195599022, 0.3787878787878788, 0.3234880450070324, 0.3836104513064133, 0.3960396039603961, 0.3163841807909605, 0.33969986357435195, 0.4019728729963009, 0.3702380952380953, 0.2196652719665272, 0.20518358531317496, 0.09706546275395034, 0.22174840085287847, 0.19389978213507625, 0.20905172413793105, 0.3382084095063985, 0.2488986784140969, 0.109375, 0.13043478260869565, 0.26814516129032256, 0.12839506172839507, 0.12623762376237624, 0.13267813267813267, 0.11528822055137845, 0.09020618556701032, 0.11458333333333333, 0.11286089238845146, 0.1243523316062176, 0.13636363636363635, 0.13861386138613865, 0.13297872340425532, 0.19617224880382772, 0.11653116531165313, 0.1005586592178771, 0.08522727272727272, 0.06948640483383686, 0.06948640483383686, 0.06948640483383686, 0.3202416918429003, 0.33554817275747506, 0.33881578947368424]}, {\"marker\": {\"color\": \"red\", \"size\": [11.111111111111114, 16.666666666666668, 12.500000000000002, 14.285714285714295, 16.666666666666668, 12.499999999999998]}, \"mode\": \"markers\", \"showlegend\": false, \"text\": [\"wt: K417\", \"wt: L452\", \"wt: S477\", \"wt: V483\", \"wt: E484\", \"wt: N501\"], \"textfont\": {\"color\": \"#E58606\"}, \"textposition\": \"top right\", \"type\": \"scattergl\", \"uid\": \"d043669d-b959-4b1d-9b56-3ec7013e63a8\", \"x\": [-2.5333, -5.6212, -3.7151, -1.861, -1.2308, -0.2509], \"y\": [0.31554524361948955, 0.1601489757914339, 0.17737003058103976, 0.3779527559055118, 0.4484978540772532, 0.3382084095063985]}],                        {\"legend\": {\"itemclick\": \"toggleothers\", \"itemdoubleclick\": \"toggle\"}, \"margin\": {\"b\": 20, \"l\": 20, \"r\": 20, \"t\": 20}, \"plot_bgcolor\": \"#FFF\", \"template\": {\"data\": {\"bar\": [{\"error_x\": {\"color\": \"#2a3f5f\"}, \"error_y\": {\"color\": \"#2a3f5f\"}, \"marker\": {\"line\": {\"color\": \"#E5ECF6\", \"width\": 0.5}}, \"type\": \"bar\"}], \"barpolar\": [{\"marker\": {\"line\": {\"color\": \"#E5ECF6\", \"width\": 0.5}}, \"type\": \"barpolar\"}], \"carpet\": [{\"aaxis\": {\"endlinecolor\": \"#2a3f5f\", \"gridcolor\": \"white\", \"linecolor\": \"white\", \"minorgridcolor\": \"white\", \"startlinecolor\": \"#2a3f5f\"}, \"baxis\": {\"endlinecolor\": \"#2a3f5f\", \"gridcolor\": \"white\", \"linecolor\": \"white\", \"minorgridcolor\": \"white\", \"startlinecolor\": \"#2a3f5f\"}, \"type\": \"carpet\"}], \"choropleth\": [{\"colorbar\": {\"outlinewidth\": 0, \"ticks\": \"\"}, \"type\": \"choropleth\"}], \"contour\": [{\"colorbar\": {\"outlinewidth\": 0, \"ticks\": \"\"}, \"colorscale\": [[0.0, \"#0d0887\"], [0.1111111111111111, \"#46039f\"], [0.2222222222222222, \"#7201a8\"], [0.3333333333333333, \"#9c179e\"], [0.4444444444444444, \"#bd3786\"], [0.5555555555555556, \"#d8576b\"], [0.6666666666666666, \"#ed7953\"], [0.7777777777777778, \"#fb9f3a\"], [0.8888888888888888, \"#fdca26\"], [1.0, \"#f0f921\"]], \"type\": \"contour\"}], \"contourcarpet\": [{\"colorbar\": {\"outlinewidth\": 0, \"ticks\": \"\"}, \"type\": \"contourcarpet\"}], \"heatmap\": [{\"colorbar\": {\"outlinewidth\": 0, \"ticks\": \"\"}, \"colorscale\": [[0.0, \"#0d0887\"], [0.1111111111111111, \"#46039f\"], [0.2222222222222222, \"#7201a8\"], [0.3333333333333333, \"#9c179e\"], [0.4444444444444444, \"#bd3786\"], [0.5555555555555556, \"#d8576b\"], [0.6666666666666666, \"#ed7953\"], [0.7777777777777778, \"#fb9f3a\"], [0.8888888888888888, \"#fdca26\"], [1.0, \"#f0f921\"]], \"type\": \"heatmap\"}], \"heatmapgl\": [{\"colorbar\": {\"outlinewidth\": 0, \"ticks\": \"\"}, \"colorscale\": [[0.0, \"#0d0887\"], [0.1111111111111111, \"#46039f\"], [0.2222222222222222, \"#7201a8\"], [0.3333333333333333, \"#9c179e\"], [0.4444444444444444, \"#bd3786\"], [0.5555555555555556, \"#d8576b\"], [0.6666666666666666, \"#ed7953\"], [0.7777777777777778, \"#fb9f3a\"], [0.8888888888888888, \"#fdca26\"], [1.0, \"#f0f921\"]], \"type\": \"heatmapgl\"}], \"histogram\": [{\"marker\": {\"colorbar\": {\"outlinewidth\": 0, \"ticks\": \"\"}}, \"type\": \"histogram\"}], \"histogram2d\": [{\"colorbar\": {\"outlinewidth\": 0, \"ticks\": \"\"}, \"colorscale\": [[0.0, \"#0d0887\"], [0.1111111111111111, \"#46039f\"], [0.2222222222222222, \"#7201a8\"], [0.3333333333333333, \"#9c179e\"], [0.4444444444444444, \"#bd3786\"], [0.5555555555555556, \"#d8576b\"], [0.6666666666666666, \"#ed7953\"], [0.7777777777777778, \"#fb9f3a\"], [0.8888888888888888, \"#fdca26\"], [1.0, \"#f0f921\"]], \"type\": \"histogram2d\"}], \"histogram2dcontour\": [{\"colorbar\": {\"outlinewidth\": 0, \"ticks\": \"\"}, \"colorscale\": [[0.0, \"#0d0887\"], [0.1111111111111111, \"#46039f\"], [0.2222222222222222, \"#7201a8\"], [0.3333333333333333, \"#9c179e\"], [0.4444444444444444, \"#bd3786\"], [0.5555555555555556, \"#d8576b\"], [0.6666666666666666, \"#ed7953\"], [0.7777777777777778, \"#fb9f3a\"], [0.8888888888888888, \"#fdca26\"], [1.0, \"#f0f921\"]], \"type\": \"histogram2dcontour\"}], \"mesh3d\": [{\"colorbar\": {\"outlinewidth\": 0, \"ticks\": \"\"}, \"type\": \"mesh3d\"}], \"parcoords\": [{\"line\": {\"colorbar\": {\"outlinewidth\": 0, \"ticks\": \"\"}}, \"type\": \"parcoords\"}], \"pie\": [{\"automargin\": true, \"type\": \"pie\"}], \"scatter\": [{\"marker\": {\"colorbar\": {\"outlinewidth\": 0, \"ticks\": \"\"}}, \"type\": \"scatter\"}], \"scatter3d\": [{\"line\": {\"colorbar\": {\"outlinewidth\": 0, \"ticks\": \"\"}}, \"marker\": {\"colorbar\": {\"outlinewidth\": 0, \"ticks\": \"\"}}, \"type\": \"scatter3d\"}], \"scattercarpet\": [{\"marker\": {\"colorbar\": {\"outlinewidth\": 0, \"ticks\": \"\"}}, \"type\": \"scattercarpet\"}], \"scattergeo\": [{\"marker\": {\"colorbar\": {\"outlinewidth\": 0, \"ticks\": \"\"}}, \"type\": \"scattergeo\"}], \"scattergl\": [{\"marker\": {\"colorbar\": {\"outlinewidth\": 0, \"ticks\": \"\"}}, \"type\": \"scattergl\"}], \"scattermapbox\": [{\"marker\": {\"colorbar\": {\"outlinewidth\": 0, \"ticks\": \"\"}}, \"type\": \"scattermapbox\"}], \"scatterpolar\": [{\"marker\": {\"colorbar\": {\"outlinewidth\": 0, \"ticks\": \"\"}}, \"type\": \"scatterpolar\"}], \"scatterpolargl\": [{\"marker\": {\"colorbar\": {\"outlinewidth\": 0, \"ticks\": \"\"}}, \"type\": \"scatterpolargl\"}], \"scatterternary\": [{\"marker\": {\"colorbar\": {\"outlinewidth\": 0, \"ticks\": \"\"}}, \"type\": \"scatterternary\"}], \"surface\": [{\"colorbar\": {\"outlinewidth\": 0, \"ticks\": \"\"}, \"colorscale\": [[0.0, \"#0d0887\"], [0.1111111111111111, \"#46039f\"], [0.2222222222222222, \"#7201a8\"], [0.3333333333333333, \"#9c179e\"], [0.4444444444444444, \"#bd3786\"], [0.5555555555555556, \"#d8576b\"], [0.6666666666666666, \"#ed7953\"], [0.7777777777777778, \"#fb9f3a\"], [0.8888888888888888, \"#fdca26\"], [1.0, \"#f0f921\"]], \"type\": \"surface\"}], \"table\": [{\"cells\": {\"fill\": {\"color\": \"#EBF0F8\"}, \"line\": {\"color\": \"white\"}}, \"header\": {\"fill\": {\"color\": \"#C8D4E3\"}, \"line\": {\"color\": \"white\"}}, \"type\": \"table\"}]}, \"layout\": {\"annotationdefaults\": {\"arrowcolor\": \"#2a3f5f\", \"arrowhead\": 0, \"arrowwidth\": 1}, \"autotypenumbers\": \"strict\", \"coloraxis\": {\"colorbar\": {\"outlinewidth\": 0, \"ticks\": \"\"}}, \"colorscale\": {\"diverging\": [[0, \"#8e0152\"], [0.1, \"#c51b7d\"], [0.2, \"#de77ae\"], [0.3, \"#f1b6da\"], [0.4, \"#fde0ef\"], [0.5, \"#f7f7f7\"], [0.6, \"#e6f5d0\"], [0.7, \"#b8e186\"], [0.8, \"#7fbc41\"], [0.9, \"#4d9221\"], [1, \"#276419\"]], \"sequential\": [[0.0, \"#0d0887\"], [0.1111111111111111, \"#46039f\"], [0.2222222222222222, \"#7201a8\"], [0.3333333333333333, \"#9c179e\"], [0.4444444444444444, \"#bd3786\"], [0.5555555555555556, \"#d8576b\"], [0.6666666666666666, \"#ed7953\"], [0.7777777777777778, \"#fb9f3a\"], [0.8888888888888888, \"#fdca26\"], [1.0, \"#f0f921\"]], \"sequentialminus\": [[0.0, \"#0d0887\"], [0.1111111111111111, \"#46039f\"], [0.2222222222222222, \"#7201a8\"], [0.3333333333333333, \"#9c179e\"], [0.4444444444444444, \"#bd3786\"], [0.5555555555555556, \"#d8576b\"], [0.6666666666666666, \"#ed7953\"], [0.7777777777777778, \"#fb9f3a\"], [0.8888888888888888, \"#fdca26\"], [1.0, \"#f0f921\"]]}, \"colorway\": [\"#636efa\", \"#EF553B\", \"#00cc96\", \"#ab63fa\", \"#FFA15A\", \"#19d3f3\", \"#FF6692\", \"#B6E880\", \"#FF97FF\", \"#FECB52\"], \"font\": {\"color\": \"#2a3f5f\"}, \"geo\": {\"bgcolor\": \"white\", \"lakecolor\": \"white\", \"landcolor\": \"#E5ECF6\", \"showlakes\": true, \"showland\": true, \"subunitcolor\": \"white\"}, \"hoverlabel\": {\"align\": \"left\"}, \"hovermode\": \"closest\", \"mapbox\": {\"style\": \"light\"}, \"paper_bgcolor\": \"white\", \"plot_bgcolor\": \"#E5ECF6\", \"polar\": {\"angularaxis\": {\"gridcolor\": \"white\", \"linecolor\": \"white\", \"ticks\": \"\"}, \"bgcolor\": \"#E5ECF6\", \"radialaxis\": {\"gridcolor\": \"white\", \"linecolor\": \"white\", \"ticks\": \"\"}}, \"scene\": {\"xaxis\": {\"backgroundcolor\": \"#E5ECF6\", \"gridcolor\": \"white\", \"gridwidth\": 2, \"linecolor\": \"white\", \"showbackground\": true, \"ticks\": \"\", \"zerolinecolor\": \"white\"}, \"yaxis\": {\"backgroundcolor\": \"#E5ECF6\", \"gridcolor\": \"white\", \"gridwidth\": 2, \"linecolor\": \"white\", \"showbackground\": true, \"ticks\": \"\", \"zerolinecolor\": \"white\"}, \"zaxis\": {\"backgroundcolor\": \"#E5ECF6\", \"gridcolor\": \"white\", \"gridwidth\": 2, \"linecolor\": \"white\", \"showbackground\": true, \"ticks\": \"\", \"zerolinecolor\": \"white\"}}, \"shapedefaults\": {\"line\": {\"color\": \"#2a3f5f\"}}, \"ternary\": {\"aaxis\": {\"gridcolor\": \"white\", \"linecolor\": \"white\", \"ticks\": \"\"}, \"baxis\": {\"gridcolor\": \"white\", \"linecolor\": \"white\", \"ticks\": \"\"}, \"bgcolor\": \"#E5ECF6\", \"caxis\": {\"gridcolor\": \"white\", \"linecolor\": \"white\", \"ticks\": \"\"}}, \"title\": {\"x\": 0.05}, \"xaxis\": {\"automargin\": true, \"gridcolor\": \"white\", \"linecolor\": \"white\", \"ticks\": \"\", \"title\": {\"standoff\": 15}, \"zerolinecolor\": \"white\", \"zerolinewidth\": 2}, \"yaxis\": {\"automargin\": true, \"gridcolor\": \"white\", \"linecolor\": \"white\", \"ticks\": \"\", \"title\": {\"standoff\": 15}, \"zerolinecolor\": \"white\", \"zerolinewidth\": 2}}}, \"xaxis\": {\"linecolor\": \"#BCCCDC\", \"mirror\": true, \"showgrid\": true, \"title\": {\"text\": \"mutability_score(DCA)\"}}, \"yaxis\": {\"linecolor\": \"#BCCCDC\", \"mirror\": true, \"showgrid\": true, \"title\": {\"text\": \"IEDB - Response Frequency\"}}},                        {\"responsive\": true}                    ).then(function(){\n",
       "                            \n",
       "var gd = document.getElementById('752f8292-8ba2-4185-8905-d461dad979b6');\n",
       "var x = new MutationObserver(function (mutations, observer) {{\n",
       "        var display = window.getComputedStyle(gd).display;\n",
       "        if (!display || display === 'none') {{\n",
       "            console.log([gd, 'removed!']);\n",
       "            Plotly.purge(gd);\n",
       "            observer.disconnect();\n",
       "        }}\n",
       "}});\n",
       "\n",
       "// Listen for the removal of the full notebook cells\n",
       "var notebookContainer = gd.closest('#notebook-container');\n",
       "if (notebookContainer) {{\n",
       "    x.observe(notebookContainer, {childList: true});\n",
       "}}\n",
       "\n",
       "// Listen for the clearing of the current output cell\n",
       "var outputEl = gd.closest('.output');\n",
       "if (outputEl) {{\n",
       "    x.observe(outputEl, {childList: true});\n",
       "}}\n",
       "\n",
       "                        })                };                });            </script>        </div>"
      ]
     },
     "metadata": {},
     "output_type": "display_data"
    },
    {
     "data": {
      "text/plain": [
       "0"
      ]
     },
     "execution_count": 7,
     "metadata": {},
     "output_type": "execute_result"
    }
   ],
   "source": [
    "# DCA vs. epitope\n",
    "prot = \"Spike\"\n",
    "dom = \"bCoV_S1_RBD\"\n",
    "score = 'mutability_score(DCA)'\n",
    "\n",
    "#positions mutated in VOI/VOC\n",
    "list_pos_mutated_VOI_VOC = [417, 452, 477, 483, 484,  501] #red points\n",
    "\n",
    "df = read_dca_iedb_data(path_data = \"./data/data_dca_iedb_RDB_domain.csv\", protein = prot, domain = dom)\n",
    "\n",
    "plot_dca_IEDB(df, score, list_pos = list_pos_mutated_VOI_VOC)"
   ]
  },
  {
   "cell_type": "code",
   "execution_count": null,
   "metadata": {},
   "outputs": [],
   "source": []
  },
  {
   "cell_type": "markdown",
   "metadata": {},
   "source": [
    "### GISAID and IEDB \n",
    "Same analysis, but using GISAD observed mutations instead of the DCA mutability score"
   ]
  },
  {
   "cell_type": "code",
   "execution_count": 9,
   "metadata": {},
   "outputs": [
    {
     "data": {
      "application/vnd.plotly.v1+json": {
       "config": {
        "linkText": "Export to plot.ly",
        "plotlyServerURL": "https://plot.ly",
        "showLink": false
       },
       "data": [
        {
         "marker": {
          "color": "#5D69B1",
          "size": [
           20,
           20,
           20,
           20,
           20,
           14.285714285714285,
           16.666666666666668,
           12.499999999999998,
           12.5,
           16.666666666666664,
           14.285714285714286,
           16.666666666666668,
           11.11111111111111,
           14.285714285714285,
           16.666666666666668,
           9.090909090909092,
           9.090909090909092,
           6.666666666666666,
           6.666666666666666,
           7.142857142857142,
           7.14285714285714,
           7.14285714285714,
           6.666666666666666,
           6.666666666666666,
           7.142857142857142,
           6.666666666666668,
           6.666666666666666,
           7.142857142857142,
           7.692307692307689,
           7.692307692307689,
           7.142857142857145,
           6.249999999999999,
           6.666666666666666,
           5.882352941176471,
           6.666666666666668,
           10.000000000000002,
           10.000000000000002,
           10,
           11.111111111111109,
           10,
           12.5,
           10.000000000000002,
           11.11111111111111,
           9.090909090909092,
           11.11111111111111,
           16.666666666666668,
           16.666666666666668,
           16.666666666666668,
           16.666666666666668,
           16.666666666666668,
           16.666666666666668,
           14.285714285714285,
           14.285714285714285,
           16.666666666666668,
           14.28571428571428,
           14.285714285714285,
           12.499999999999998,
           14.285714285714286,
           16.666666666666668,
           11.111111111111109,
           14.285714285714285,
           16.666666666666668,
           14.285714285714285,
           11.11111111111111,
           14.285714285714285,
           11.11111111111111,
           11.11111111111111,
           12.500000000000002,
           11.111111111111114,
           14.285714285714285,
           14.285714285714286,
           12.499999999999998,
           11.11111111111111,
           12.500000000000002,
           12.500000000000002,
           20.000000000000004,
           20.000000000000004,
           20,
           14.285714285714286,
           16.666666666666668,
           16.666666666666668,
           16.666666666666668,
           25.000000000000004,
           16.666666666666668,
           16.666666666666668,
           16.666666666666668,
           20,
           20,
           16.666666666666668,
           20,
           16.666666666666664,
           14.285714285714285,
           16.666666666666668,
           20,
           20,
           16.666666666666668,
           14.28571428571429,
           12.500000000000002,
           16.666666666666664,
           16.666666666666668,
           14.285714285714285,
           16.666666666666668,
           20,
           16.666666666666668,
           14.285714285714285,
           20,
           14.28571428571429,
           16.66666666666666,
           19.999999999999993,
           16.666666666666668,
           16.666666666666664,
           16.666666666666664,
           20,
           20.000000000000004,
           20.000000000000004,
           20.000000000000004,
           16.666666666666664,
           14.285714285714286,
           14.285714285714286,
           16.666666666666668,
           14.285714285714286,
           14.285714285714285,
           16.666666666666668,
           16.666666666666664,
           12.500000000000002,
           12.500000000000002,
           11.11111111111111,
           11.11111111111111,
           12.500000000000002,
           14.285714285714286,
           14.285714285714285,
           12.499999999999998,
           14.285714285714285,
           14.285714285714285,
           14.285714285714295,
           16.666666666666668,
           14.285714285714285,
           14.285714285714285,
           16.666666666666668,
           14.285714285714285,
           14.285714285714285,
           14.285714285714285,
           14.285714285714295,
           16.666666666666668,
           14.285714285714285,
           16.666666666666668,
           12.499999999999998,
           14.28571428571429,
           16.666666666666668,
           14.285714285714285,
           14.285714285714285,
           12.500000000000002,
           12.499999999999998,
           12.500000000000002,
           16.666666666666664,
           14.285714285714285,
           12.500000000000002,
           16.666666666666668,
           16.666666666666668,
           14.285714285714285,
           16.666666666666668,
           20.000000000000004,
           16.666666666666668,
           14.285714285714286,
           16.666666666666668,
           16.666666666666664,
           14.285714285714286,
           14.285714285714285,
           12.500000000000002,
           16.666666666666668,
           14.285714285714285,
           16.666666666666668,
           20,
           20,
           20,
           10.000000000000002,
           9.090909090909092,
           9.999999999999996
          ]
         },
         "mode": "markers",
         "name": "",
         "text": [
          "wt: S349",
          "wt: V350",
          "wt: Y351",
          "wt: A352",
          "wt: W353",
          "wt: N354",
          "wt: R355",
          "wt: K356",
          "wt: R357",
          "wt: I358",
          "wt: S359",
          "wt: N360",
          "wt: C361",
          "wt: V362",
          "wt: A363",
          "wt: D364",
          "wt: Y365",
          "wt: S366",
          "wt: V367",
          "wt: L368",
          "wt: Y369",
          "wt: N370",
          "wt: S371",
          "wt: A372",
          "wt: S373",
          "wt: F374",
          "wt: S375",
          "wt: T376",
          "wt: F377",
          "wt: K378",
          "wt: C379",
          "wt: Y380",
          "wt: G381",
          "wt: V382",
          "wt: S383",
          "wt: P384",
          "wt: T385",
          "wt: K386",
          "wt: L387",
          "wt: N388",
          "wt: D389",
          "wt: L390",
          "wt: C391",
          "wt: F392",
          "wt: T393",
          "wt: N394",
          "wt: V395",
          "wt: Y396",
          "wt: A397",
          "wt: D398",
          "wt: S399",
          "wt: F400",
          "wt: V401",
          "wt: I402",
          "wt: R403",
          "wt: G404",
          "wt: D405",
          "wt: E406",
          "wt: V407",
          "wt: R408",
          "wt: Q409",
          "wt: I410",
          "wt: A411",
          "wt: P412",
          "wt: G413",
          "wt: Q414",
          "wt: T415",
          "wt: G416",
          "wt: K417",
          "wt: I418",
          "wt: A419",
          "wt: D420",
          "wt: Y421",
          "wt: N422",
          "wt: Y423",
          "wt: K424",
          "wt: L425",
          "wt: P426",
          "wt: D427",
          "wt: D428",
          "wt: F429",
          "wt: T430",
          "wt: G431",
          "wt: C432",
          "wt: V433",
          "wt: I434",
          "wt: A435",
          "wt: W436",
          "wt: N437",
          "wt: S438",
          "wt: N439",
          "wt: N440",
          "wt: L441",
          "wt: D442",
          "wt: S443",
          "wt: K444",
          "wt: V445",
          "wt: G446",
          "wt: G447",
          "wt: N448",
          "wt: Y449",
          "wt: N450",
          "wt: Y451",
          "wt: L452",
          "wt: Y453",
          "wt: R454",
          "wt: L455",
          "wt: F456",
          "wt: R457",
          "wt: K458",
          "wt: S459",
          "wt: N460",
          "wt: L461",
          "wt: K462",
          "wt: P463",
          "wt: F464",
          "wt: E465",
          "wt: R466",
          "wt: D467",
          "wt: I468",
          "wt: S469",
          "wt: T470",
          "wt: E471",
          "wt: I472",
          "wt: Y473",
          "wt: Q474",
          "wt: A475",
          "wt: G476",
          "wt: S477",
          "wt: T478",
          "wt: P479",
          "wt: C480",
          "wt: N481",
          "wt: G482",
          "wt: V483",
          "wt: E484",
          "wt: G485",
          "wt: F486",
          "wt: N487",
          "wt: C488",
          "wt: Y489",
          "wt: F490",
          "wt: P491",
          "wt: L492",
          "wt: Q493",
          "wt: S494",
          "wt: Y495",
          "wt: G496",
          "wt: F497",
          "wt: Q498",
          "wt: P499",
          "wt: T500",
          "wt: N501",
          "wt: G502",
          "wt: V503",
          "wt: G504",
          "wt: Y505",
          "wt: Q506",
          "wt: P507",
          "wt: Y508",
          "wt: R509",
          "wt: V510",
          "wt: V511",
          "wt: V512",
          "wt: L513",
          "wt: S514",
          "wt: F515",
          "wt: E516",
          "wt: L517",
          "wt: L518",
          "wt: H519",
          "wt: A520",
          "wt: P521",
          "wt: A522",
          "wt: T523",
          "wt: V524",
          "wt: C525",
          "wt: G526"
         ],
         "textfont": {
          "color": "#E58606"
         },
         "textposition": "top right",
         "type": "scattergl",
         "uid": "4b3b4347-fdec-467b-8f1e-6f97bfe0c510",
         "x": [
          0,
          0,
          1,
          2,
          3,
          9,
          0,
          1,
          2,
          1,
          1,
          1,
          3,
          0,
          0,
          1,
          2,
          2,
          7,
          2,
          2,
          2,
          2,
          1,
          2,
          0,
          2,
          2,
          2,
          1,
          0,
          2,
          1,
          2,
          0,
          6,
          4,
          0,
          0,
          1,
          2,
          3,
          0,
          0,
          1,
          2,
          1,
          0,
          0,
          1,
          2,
          0,
          1,
          3,
          7,
          3,
          0,
          0,
          1,
          5,
          1,
          1,
          7,
          0,
          4,
          2,
          2,
          0,
          1,
          0,
          1,
          0,
          0,
          0,
          0,
          0,
          1,
          2,
          2,
          0,
          0,
          1,
          1,
          1,
          1,
          0,
          2,
          0,
          1,
          0,
          0,
          1,
          0,
          0,
          2,
          6,
          0,
          7,
          0,
          2,
          1,
          2,
          1,
          8,
          1,
          0,
          3,
          1,
          4,
          0,
          0,
          2,
          0,
          1,
          4,
          2,
          0,
          0,
          3,
          4,
          1,
          4,
          2,
          1,
          1,
          0,
          2,
          1,
          7,
          2,
          2,
          2,
          2,
          2,
          6,
          5,
          6,
          3,
          2,
          2,
          0,
          2,
          1,
          0,
          4,
          3,
          2,
          0,
          0,
          3,
          1,
          2,
          2,
          2,
          2,
          1,
          1,
          3,
          1,
          2,
          2,
          3,
          3,
          1,
          2,
          3,
          0,
          2,
          2,
          2,
          6,
          4,
          14,
          4,
          1,
          1,
          4,
          0
         ],
         "y": [
          0.0735632183908046,
          0.06928406466512703,
          0.08333333333333333,
          0.06921241050119331,
          0.06474820143884892,
          0.09246575342465753,
          0.08620689655172414,
          0.1536050156739812,
          0.14689265536723164,
          0.062295081967213124,
          0.13953488372093026,
          0.0728744939271255,
          0.16783216783216784,
          0.07024793388429752,
          0.07407407407407407,
          0.12295081967213115,
          0.14814814814814814,
          0.1743119266055046,
          0.1743119266055046,
          0.18181818181818185,
          0.4784688995215311,
          0.4795918367346938,
          0.36774193548387096,
          0.36774193548387096,
          0.17592592592592593,
          0.39130434782608703,
          0.3717948717948718,
          0.3772455089820359,
          0.4841628959276018,
          0.4761904761904762,
          0.526595744680851,
          0.4444444444444444,
          0.3741935483870968,
          0.4117647058823529,
          0.5136612021857924,
          0.31446540880503143,
          0.3180327868852459,
          0.25675675675675674,
          0.11739130434782608,
          0.21978021978021975,
          0.11353711790393012,
          0.2419928825622776,
          0.11004784688995216,
          0.24031007751937986,
          0.11004784688995216,
          0.0856269113149847,
          0.0856269113149847,
          0.08609271523178808,
          0.08609271523178808,
          0.08609271523178808,
          0.08609271523178808,
          0.08881578947368421,
          0.0891089108910891,
          0.07629427792915533,
          0.2427616926503341,
          0.05687203791469194,
          0.12334801762114538,
          0.07692307692307693,
          0.07296137339055794,
          0.22018348623853207,
          0.0925925925925926,
          0.08239700374531835,
          0.09302325581395347,
          0.19471947194719472,
          0.1,
          0.2616279069767442,
          0.17832167832167833,
          0.17525773195876287,
          0.31554524361948955,
          0.09824561403508772,
          0.11072664359861592,
          0.18670886075949367,
          0.19407894736842105,
          0.10583941605839416,
          0.10583941605839416,
          0.09071274298056156,
          0.09207708779443256,
          0.06683168316831684,
          0.1419068736141907,
          0.14757709251101322,
          0.1456953642384106,
          0.1456953642384106,
          0.06601466992665038,
          0.07536231884057971,
          0.07803468208092486,
          0.0539568345323741,
          0.057347670250896064,
          0.046263345195729534,
          0.056338028169014086,
          0.04964539007092199,
          0.06535947712418301,
          0.0990990990990991,
          0.145124716553288,
          0.06887755102040816,
          0.07360406091370557,
          0.12688172043010754,
          0.17586912065439672,
          0.2583892617449665,
          0.10444444444444444,
          0.11967545638945233,
          0.2893890675241157,
          0.15939278937381404,
          0.09819639278557114,
          0.1601489757914339,
          0.22086956521739126,
          0.10436432637571158,
          0.2507936507936508,
          0.23747980613893374,
          0.1423290203327172,
          0.14391143911439114,
          0.10638297872340426,
          0.13644859813084112,
          0.08333333333333333,
          0.09054325955734406,
          0.09409190371991248,
          0.09482758620689656,
          0.105,
          0.11049723756906077,
          0.1132596685082873,
          0.11666666666666667,
          0.1092436974789916,
          0.15384615384615385,
          0.1278772378516624,
          0.13670886075949368,
          0.1796875,
          0.1357615894039735,
          0.20909090909090908,
          0.1929260450160772,
          0.17737003058103976,
          0.10915492957746477,
          0.0971223021582734,
          0.359375,
          0.3654618473895582,
          0.368,
          0.3779527559055118,
          0.4484978540772532,
          0.3866837387964149,
          0.3960880195599022,
          0.3787878787878788,
          0.3234880450070324,
          0.3836104513064133,
          0.3960396039603961,
          0.3163841807909605,
          0.33969986357435195,
          0.4019728729963009,
          0.3702380952380953,
          0.2196652719665272,
          0.20518358531317496,
          0.09706546275395034,
          0.22174840085287847,
          0.19389978213507625,
          0.20905172413793105,
          0.3382084095063985,
          0.2488986784140969,
          0.109375,
          0.13043478260869565,
          0.26814516129032256,
          0.12839506172839507,
          0.12623762376237624,
          0.13267813267813267,
          0.11528822055137845,
          0.09020618556701032,
          0.11458333333333333,
          0.11286089238845146,
          0.1243523316062176,
          0.13636363636363635,
          0.13861386138613865,
          0.13297872340425532,
          0.19617224880382772,
          0.11653116531165313,
          0.1005586592178771,
          0.08522727272727272,
          0.06948640483383686,
          0.06948640483383686,
          0.06948640483383686,
          0.3202416918429003,
          0.33554817275747506,
          0.33881578947368424
         ]
        },
        {
         "marker": {
          "color": "red",
          "size": [
           11.111111111111114,
           16.666666666666668,
           12.500000000000002,
           14.285714285714295,
           16.666666666666668,
           12.499999999999998
          ]
         },
         "mode": "markers",
         "showlegend": false,
         "text": [
          "wt: K417",
          "wt: L452",
          "wt: S477",
          "wt: V483",
          "wt: E484",
          "wt: N501"
         ],
         "textfont": {
          "color": "#E58606"
         },
         "textposition": "top right",
         "type": "scattergl",
         "uid": "d4b868d6-9446-4345-a914-6b253f126bb9",
         "x": [
          1,
          8,
          7,
          6,
          5,
          2
         ],
         "y": [
          0.31554524361948955,
          0.1601489757914339,
          0.17737003058103976,
          0.3779527559055118,
          0.4484978540772532,
          0.3382084095063985
         ]
        }
       ],
       "layout": {
        "legend": {
         "itemclick": "toggleothers",
         "itemdoubleclick": "toggle"
        },
        "margin": {
         "b": 20,
         "l": 20,
         "r": 20,
         "t": 20
        },
        "plot_bgcolor": "#FFF",
        "template": {
         "data": {
          "bar": [
           {
            "error_x": {
             "color": "#2a3f5f"
            },
            "error_y": {
             "color": "#2a3f5f"
            },
            "marker": {
             "line": {
              "color": "#E5ECF6",
              "width": 0.5
             }
            },
            "type": "bar"
           }
          ],
          "barpolar": [
           {
            "marker": {
             "line": {
              "color": "#E5ECF6",
              "width": 0.5
             }
            },
            "type": "barpolar"
           }
          ],
          "carpet": [
           {
            "aaxis": {
             "endlinecolor": "#2a3f5f",
             "gridcolor": "white",
             "linecolor": "white",
             "minorgridcolor": "white",
             "startlinecolor": "#2a3f5f"
            },
            "baxis": {
             "endlinecolor": "#2a3f5f",
             "gridcolor": "white",
             "linecolor": "white",
             "minorgridcolor": "white",
             "startlinecolor": "#2a3f5f"
            },
            "type": "carpet"
           }
          ],
          "choropleth": [
           {
            "colorbar": {
             "outlinewidth": 0,
             "ticks": ""
            },
            "type": "choropleth"
           }
          ],
          "contour": [
           {
            "colorbar": {
             "outlinewidth": 0,
             "ticks": ""
            },
            "colorscale": [
             [
              0,
              "#0d0887"
             ],
             [
              0.1111111111111111,
              "#46039f"
             ],
             [
              0.2222222222222222,
              "#7201a8"
             ],
             [
              0.3333333333333333,
              "#9c179e"
             ],
             [
              0.4444444444444444,
              "#bd3786"
             ],
             [
              0.5555555555555556,
              "#d8576b"
             ],
             [
              0.6666666666666666,
              "#ed7953"
             ],
             [
              0.7777777777777778,
              "#fb9f3a"
             ],
             [
              0.8888888888888888,
              "#fdca26"
             ],
             [
              1,
              "#f0f921"
             ]
            ],
            "type": "contour"
           }
          ],
          "contourcarpet": [
           {
            "colorbar": {
             "outlinewidth": 0,
             "ticks": ""
            },
            "type": "contourcarpet"
           }
          ],
          "heatmap": [
           {
            "colorbar": {
             "outlinewidth": 0,
             "ticks": ""
            },
            "colorscale": [
             [
              0,
              "#0d0887"
             ],
             [
              0.1111111111111111,
              "#46039f"
             ],
             [
              0.2222222222222222,
              "#7201a8"
             ],
             [
              0.3333333333333333,
              "#9c179e"
             ],
             [
              0.4444444444444444,
              "#bd3786"
             ],
             [
              0.5555555555555556,
              "#d8576b"
             ],
             [
              0.6666666666666666,
              "#ed7953"
             ],
             [
              0.7777777777777778,
              "#fb9f3a"
             ],
             [
              0.8888888888888888,
              "#fdca26"
             ],
             [
              1,
              "#f0f921"
             ]
            ],
            "type": "heatmap"
           }
          ],
          "heatmapgl": [
           {
            "colorbar": {
             "outlinewidth": 0,
             "ticks": ""
            },
            "colorscale": [
             [
              0,
              "#0d0887"
             ],
             [
              0.1111111111111111,
              "#46039f"
             ],
             [
              0.2222222222222222,
              "#7201a8"
             ],
             [
              0.3333333333333333,
              "#9c179e"
             ],
             [
              0.4444444444444444,
              "#bd3786"
             ],
             [
              0.5555555555555556,
              "#d8576b"
             ],
             [
              0.6666666666666666,
              "#ed7953"
             ],
             [
              0.7777777777777778,
              "#fb9f3a"
             ],
             [
              0.8888888888888888,
              "#fdca26"
             ],
             [
              1,
              "#f0f921"
             ]
            ],
            "type": "heatmapgl"
           }
          ],
          "histogram": [
           {
            "marker": {
             "colorbar": {
              "outlinewidth": 0,
              "ticks": ""
             }
            },
            "type": "histogram"
           }
          ],
          "histogram2d": [
           {
            "colorbar": {
             "outlinewidth": 0,
             "ticks": ""
            },
            "colorscale": [
             [
              0,
              "#0d0887"
             ],
             [
              0.1111111111111111,
              "#46039f"
             ],
             [
              0.2222222222222222,
              "#7201a8"
             ],
             [
              0.3333333333333333,
              "#9c179e"
             ],
             [
              0.4444444444444444,
              "#bd3786"
             ],
             [
              0.5555555555555556,
              "#d8576b"
             ],
             [
              0.6666666666666666,
              "#ed7953"
             ],
             [
              0.7777777777777778,
              "#fb9f3a"
             ],
             [
              0.8888888888888888,
              "#fdca26"
             ],
             [
              1,
              "#f0f921"
             ]
            ],
            "type": "histogram2d"
           }
          ],
          "histogram2dcontour": [
           {
            "colorbar": {
             "outlinewidth": 0,
             "ticks": ""
            },
            "colorscale": [
             [
              0,
              "#0d0887"
             ],
             [
              0.1111111111111111,
              "#46039f"
             ],
             [
              0.2222222222222222,
              "#7201a8"
             ],
             [
              0.3333333333333333,
              "#9c179e"
             ],
             [
              0.4444444444444444,
              "#bd3786"
             ],
             [
              0.5555555555555556,
              "#d8576b"
             ],
             [
              0.6666666666666666,
              "#ed7953"
             ],
             [
              0.7777777777777778,
              "#fb9f3a"
             ],
             [
              0.8888888888888888,
              "#fdca26"
             ],
             [
              1,
              "#f0f921"
             ]
            ],
            "type": "histogram2dcontour"
           }
          ],
          "mesh3d": [
           {
            "colorbar": {
             "outlinewidth": 0,
             "ticks": ""
            },
            "type": "mesh3d"
           }
          ],
          "parcoords": [
           {
            "line": {
             "colorbar": {
              "outlinewidth": 0,
              "ticks": ""
             }
            },
            "type": "parcoords"
           }
          ],
          "pie": [
           {
            "automargin": true,
            "type": "pie"
           }
          ],
          "scatter": [
           {
            "marker": {
             "colorbar": {
              "outlinewidth": 0,
              "ticks": ""
             }
            },
            "type": "scatter"
           }
          ],
          "scatter3d": [
           {
            "line": {
             "colorbar": {
              "outlinewidth": 0,
              "ticks": ""
             }
            },
            "marker": {
             "colorbar": {
              "outlinewidth": 0,
              "ticks": ""
             }
            },
            "type": "scatter3d"
           }
          ],
          "scattercarpet": [
           {
            "marker": {
             "colorbar": {
              "outlinewidth": 0,
              "ticks": ""
             }
            },
            "type": "scattercarpet"
           }
          ],
          "scattergeo": [
           {
            "marker": {
             "colorbar": {
              "outlinewidth": 0,
              "ticks": ""
             }
            },
            "type": "scattergeo"
           }
          ],
          "scattergl": [
           {
            "marker": {
             "colorbar": {
              "outlinewidth": 0,
              "ticks": ""
             }
            },
            "type": "scattergl"
           }
          ],
          "scattermapbox": [
           {
            "marker": {
             "colorbar": {
              "outlinewidth": 0,
              "ticks": ""
             }
            },
            "type": "scattermapbox"
           }
          ],
          "scatterpolar": [
           {
            "marker": {
             "colorbar": {
              "outlinewidth": 0,
              "ticks": ""
             }
            },
            "type": "scatterpolar"
           }
          ],
          "scatterpolargl": [
           {
            "marker": {
             "colorbar": {
              "outlinewidth": 0,
              "ticks": ""
             }
            },
            "type": "scatterpolargl"
           }
          ],
          "scatterternary": [
           {
            "marker": {
             "colorbar": {
              "outlinewidth": 0,
              "ticks": ""
             }
            },
            "type": "scatterternary"
           }
          ],
          "surface": [
           {
            "colorbar": {
             "outlinewidth": 0,
             "ticks": ""
            },
            "colorscale": [
             [
              0,
              "#0d0887"
             ],
             [
              0.1111111111111111,
              "#46039f"
             ],
             [
              0.2222222222222222,
              "#7201a8"
             ],
             [
              0.3333333333333333,
              "#9c179e"
             ],
             [
              0.4444444444444444,
              "#bd3786"
             ],
             [
              0.5555555555555556,
              "#d8576b"
             ],
             [
              0.6666666666666666,
              "#ed7953"
             ],
             [
              0.7777777777777778,
              "#fb9f3a"
             ],
             [
              0.8888888888888888,
              "#fdca26"
             ],
             [
              1,
              "#f0f921"
             ]
            ],
            "type": "surface"
           }
          ],
          "table": [
           {
            "cells": {
             "fill": {
              "color": "#EBF0F8"
             },
             "line": {
              "color": "white"
             }
            },
            "header": {
             "fill": {
              "color": "#C8D4E3"
             },
             "line": {
              "color": "white"
             }
            },
            "type": "table"
           }
          ]
         },
         "layout": {
          "annotationdefaults": {
           "arrowcolor": "#2a3f5f",
           "arrowhead": 0,
           "arrowwidth": 1
          },
          "autotypenumbers": "strict",
          "coloraxis": {
           "colorbar": {
            "outlinewidth": 0,
            "ticks": ""
           }
          },
          "colorscale": {
           "diverging": [
            [
             0,
             "#8e0152"
            ],
            [
             0.1,
             "#c51b7d"
            ],
            [
             0.2,
             "#de77ae"
            ],
            [
             0.3,
             "#f1b6da"
            ],
            [
             0.4,
             "#fde0ef"
            ],
            [
             0.5,
             "#f7f7f7"
            ],
            [
             0.6,
             "#e6f5d0"
            ],
            [
             0.7,
             "#b8e186"
            ],
            [
             0.8,
             "#7fbc41"
            ],
            [
             0.9,
             "#4d9221"
            ],
            [
             1,
             "#276419"
            ]
           ],
           "sequential": [
            [
             0,
             "#0d0887"
            ],
            [
             0.1111111111111111,
             "#46039f"
            ],
            [
             0.2222222222222222,
             "#7201a8"
            ],
            [
             0.3333333333333333,
             "#9c179e"
            ],
            [
             0.4444444444444444,
             "#bd3786"
            ],
            [
             0.5555555555555556,
             "#d8576b"
            ],
            [
             0.6666666666666666,
             "#ed7953"
            ],
            [
             0.7777777777777778,
             "#fb9f3a"
            ],
            [
             0.8888888888888888,
             "#fdca26"
            ],
            [
             1,
             "#f0f921"
            ]
           ],
           "sequentialminus": [
            [
             0,
             "#0d0887"
            ],
            [
             0.1111111111111111,
             "#46039f"
            ],
            [
             0.2222222222222222,
             "#7201a8"
            ],
            [
             0.3333333333333333,
             "#9c179e"
            ],
            [
             0.4444444444444444,
             "#bd3786"
            ],
            [
             0.5555555555555556,
             "#d8576b"
            ],
            [
             0.6666666666666666,
             "#ed7953"
            ],
            [
             0.7777777777777778,
             "#fb9f3a"
            ],
            [
             0.8888888888888888,
             "#fdca26"
            ],
            [
             1,
             "#f0f921"
            ]
           ]
          },
          "colorway": [
           "#636efa",
           "#EF553B",
           "#00cc96",
           "#ab63fa",
           "#FFA15A",
           "#19d3f3",
           "#FF6692",
           "#B6E880",
           "#FF97FF",
           "#FECB52"
          ],
          "font": {
           "color": "#2a3f5f"
          },
          "geo": {
           "bgcolor": "white",
           "lakecolor": "white",
           "landcolor": "#E5ECF6",
           "showlakes": true,
           "showland": true,
           "subunitcolor": "white"
          },
          "hoverlabel": {
           "align": "left"
          },
          "hovermode": "closest",
          "mapbox": {
           "style": "light"
          },
          "paper_bgcolor": "white",
          "plot_bgcolor": "#E5ECF6",
          "polar": {
           "angularaxis": {
            "gridcolor": "white",
            "linecolor": "white",
            "ticks": ""
           },
           "bgcolor": "#E5ECF6",
           "radialaxis": {
            "gridcolor": "white",
            "linecolor": "white",
            "ticks": ""
           }
          },
          "scene": {
           "xaxis": {
            "backgroundcolor": "#E5ECF6",
            "gridcolor": "white",
            "gridwidth": 2,
            "linecolor": "white",
            "showbackground": true,
            "ticks": "",
            "zerolinecolor": "white"
           },
           "yaxis": {
            "backgroundcolor": "#E5ECF6",
            "gridcolor": "white",
            "gridwidth": 2,
            "linecolor": "white",
            "showbackground": true,
            "ticks": "",
            "zerolinecolor": "white"
           },
           "zaxis": {
            "backgroundcolor": "#E5ECF6",
            "gridcolor": "white",
            "gridwidth": 2,
            "linecolor": "white",
            "showbackground": true,
            "ticks": "",
            "zerolinecolor": "white"
           }
          },
          "shapedefaults": {
           "line": {
            "color": "#2a3f5f"
           }
          },
          "ternary": {
           "aaxis": {
            "gridcolor": "white",
            "linecolor": "white",
            "ticks": ""
           },
           "baxis": {
            "gridcolor": "white",
            "linecolor": "white",
            "ticks": ""
           },
           "bgcolor": "#E5ECF6",
           "caxis": {
            "gridcolor": "white",
            "linecolor": "white",
            "ticks": ""
           }
          },
          "title": {
           "x": 0.05
          },
          "xaxis": {
           "automargin": true,
           "gridcolor": "white",
           "linecolor": "white",
           "ticks": "",
           "title": {
            "standoff": 15
           },
           "zerolinecolor": "white",
           "zerolinewidth": 2
          },
          "yaxis": {
           "automargin": true,
           "gridcolor": "white",
           "linecolor": "white",
           "ticks": "",
           "title": {
            "standoff": 15
           },
           "zerolinecolor": "white",
           "zerolinewidth": 2
          }
         }
        },
        "xaxis": {
         "linecolor": "#BCCCDC",
         "mirror": true,
         "showgrid": true,
         "title": {
          "text": "observed_mut_Jul2020"
         }
        },
        "yaxis": {
         "linecolor": "#BCCCDC",
         "mirror": true,
         "showgrid": true,
         "title": {
          "text": "IEDB - Response Frequency"
         }
        }
       }
      },
      "text/html": [
       "<div>                            <div id=\"c89ef4fb-55b1-4364-b08a-54fe057464b5\" class=\"plotly-graph-div\" style=\"height:525px; width:100%;\"></div>            <script type=\"text/javascript\">                require([\"plotly\"], function(Plotly) {                    window.PLOTLYENV=window.PLOTLYENV || {};                                    if (document.getElementById(\"c89ef4fb-55b1-4364-b08a-54fe057464b5\")) {                    Plotly.newPlot(                        \"c89ef4fb-55b1-4364-b08a-54fe057464b5\",                        [{\"marker\": {\"color\": \"#5D69B1\", \"size\": [20.0, 20.0, 20.0, 20.0, 20.0, 14.285714285714285, 16.666666666666668, 12.499999999999998, 12.5, 16.666666666666664, 14.285714285714286, 16.666666666666668, 11.11111111111111, 14.285714285714285, 16.666666666666668, 9.090909090909092, 9.090909090909092, 6.666666666666666, 6.666666666666666, 7.142857142857142, 7.14285714285714, 7.14285714285714, 6.666666666666666, 6.666666666666666, 7.142857142857142, 6.666666666666668, 6.666666666666666, 7.142857142857142, 7.692307692307689, 7.692307692307689, 7.142857142857145, 6.249999999999999, 6.666666666666666, 5.882352941176471, 6.666666666666668, 10.000000000000002, 10.000000000000002, 10.0, 11.111111111111109, 10.0, 12.5, 10.000000000000002, 11.11111111111111, 9.090909090909092, 11.11111111111111, 16.666666666666668, 16.666666666666668, 16.666666666666668, 16.666666666666668, 16.666666666666668, 16.666666666666668, 14.285714285714285, 14.285714285714285, 16.666666666666668, 14.28571428571428, 14.285714285714285, 12.499999999999998, 14.285714285714286, 16.666666666666668, 11.111111111111109, 14.285714285714285, 16.666666666666668, 14.285714285714285, 11.11111111111111, 14.285714285714285, 11.11111111111111, 11.11111111111111, 12.500000000000002, 11.111111111111114, 14.285714285714285, 14.285714285714286, 12.499999999999998, 11.11111111111111, 12.500000000000002, 12.500000000000002, 20.000000000000004, 20.000000000000004, 20.0, 14.285714285714286, 16.666666666666668, 16.666666666666668, 16.666666666666668, 25.000000000000004, 16.666666666666668, 16.666666666666668, 16.666666666666668, 20.0, 20.0, 16.666666666666668, 20.0, 16.666666666666664, 14.285714285714285, 16.666666666666668, 20.0, 20.0, 16.666666666666668, 14.28571428571429, 12.500000000000002, 16.666666666666664, 16.666666666666668, 14.285714285714285, 16.666666666666668, 20.0, 16.666666666666668, 14.285714285714285, 20.0, 14.28571428571429, 16.66666666666666, 19.999999999999993, 16.666666666666668, 16.666666666666664, 16.666666666666664, 20.0, 20.000000000000004, 20.000000000000004, 20.000000000000004, 16.666666666666664, 14.285714285714286, 14.285714285714286, 16.666666666666668, 14.285714285714286, 14.285714285714285, 16.666666666666668, 16.666666666666664, 12.500000000000002, 12.500000000000002, 11.11111111111111, 11.11111111111111, 12.500000000000002, 14.285714285714286, 14.285714285714285, 12.499999999999998, 14.285714285714285, 14.285714285714285, 14.285714285714295, 16.666666666666668, 14.285714285714285, 14.285714285714285, 16.666666666666668, 14.285714285714285, 14.285714285714285, 14.285714285714285, 14.285714285714295, 16.666666666666668, 14.285714285714285, 16.666666666666668, 12.499999999999998, 14.28571428571429, 16.666666666666668, 14.285714285714285, 14.285714285714285, 12.500000000000002, 12.499999999999998, 12.500000000000002, 16.666666666666664, 14.285714285714285, 12.500000000000002, 16.666666666666668, 16.666666666666668, 14.285714285714285, 16.666666666666668, 20.000000000000004, 16.666666666666668, 14.285714285714286, 16.666666666666668, 16.666666666666664, 14.285714285714286, 14.285714285714285, 12.500000000000002, 16.666666666666668, 14.285714285714285, 16.666666666666668, 20.0, 20.0, 20.0, 10.000000000000002, 9.090909090909092, 9.999999999999996]}, \"mode\": \"markers\", \"name\": \"\", \"text\": [\"wt: S349\", \"wt: V350\", \"wt: Y351\", \"wt: A352\", \"wt: W353\", \"wt: N354\", \"wt: R355\", \"wt: K356\", \"wt: R357\", \"wt: I358\", \"wt: S359\", \"wt: N360\", \"wt: C361\", \"wt: V362\", \"wt: A363\", \"wt: D364\", \"wt: Y365\", \"wt: S366\", \"wt: V367\", \"wt: L368\", \"wt: Y369\", \"wt: N370\", \"wt: S371\", \"wt: A372\", \"wt: S373\", \"wt: F374\", \"wt: S375\", \"wt: T376\", \"wt: F377\", \"wt: K378\", \"wt: C379\", \"wt: Y380\", \"wt: G381\", \"wt: V382\", \"wt: S383\", \"wt: P384\", \"wt: T385\", \"wt: K386\", \"wt: L387\", \"wt: N388\", \"wt: D389\", \"wt: L390\", \"wt: C391\", \"wt: F392\", \"wt: T393\", \"wt: N394\", \"wt: V395\", \"wt: Y396\", \"wt: A397\", \"wt: D398\", \"wt: S399\", \"wt: F400\", \"wt: V401\", \"wt: I402\", \"wt: R403\", \"wt: G404\", \"wt: D405\", \"wt: E406\", \"wt: V407\", \"wt: R408\", \"wt: Q409\", \"wt: I410\", \"wt: A411\", \"wt: P412\", \"wt: G413\", \"wt: Q414\", \"wt: T415\", \"wt: G416\", \"wt: K417\", \"wt: I418\", \"wt: A419\", \"wt: D420\", \"wt: Y421\", \"wt: N422\", \"wt: Y423\", \"wt: K424\", \"wt: L425\", \"wt: P426\", \"wt: D427\", \"wt: D428\", \"wt: F429\", \"wt: T430\", \"wt: G431\", \"wt: C432\", \"wt: V433\", \"wt: I434\", \"wt: A435\", \"wt: W436\", \"wt: N437\", \"wt: S438\", \"wt: N439\", \"wt: N440\", \"wt: L441\", \"wt: D442\", \"wt: S443\", \"wt: K444\", \"wt: V445\", \"wt: G446\", \"wt: G447\", \"wt: N448\", \"wt: Y449\", \"wt: N450\", \"wt: Y451\", \"wt: L452\", \"wt: Y453\", \"wt: R454\", \"wt: L455\", \"wt: F456\", \"wt: R457\", \"wt: K458\", \"wt: S459\", \"wt: N460\", \"wt: L461\", \"wt: K462\", \"wt: P463\", \"wt: F464\", \"wt: E465\", \"wt: R466\", \"wt: D467\", \"wt: I468\", \"wt: S469\", \"wt: T470\", \"wt: E471\", \"wt: I472\", \"wt: Y473\", \"wt: Q474\", \"wt: A475\", \"wt: G476\", \"wt: S477\", \"wt: T478\", \"wt: P479\", \"wt: C480\", \"wt: N481\", \"wt: G482\", \"wt: V483\", \"wt: E484\", \"wt: G485\", \"wt: F486\", \"wt: N487\", \"wt: C488\", \"wt: Y489\", \"wt: F490\", \"wt: P491\", \"wt: L492\", \"wt: Q493\", \"wt: S494\", \"wt: Y495\", \"wt: G496\", \"wt: F497\", \"wt: Q498\", \"wt: P499\", \"wt: T500\", \"wt: N501\", \"wt: G502\", \"wt: V503\", \"wt: G504\", \"wt: Y505\", \"wt: Q506\", \"wt: P507\", \"wt: Y508\", \"wt: R509\", \"wt: V510\", \"wt: V511\", \"wt: V512\", \"wt: L513\", \"wt: S514\", \"wt: F515\", \"wt: E516\", \"wt: L517\", \"wt: L518\", \"wt: H519\", \"wt: A520\", \"wt: P521\", \"wt: A522\", \"wt: T523\", \"wt: V524\", \"wt: C525\", \"wt: G526\"], \"textfont\": {\"color\": \"#E58606\"}, \"textposition\": \"top right\", \"type\": \"scattergl\", \"uid\": \"4b3b4347-fdec-467b-8f1e-6f97bfe0c510\", \"x\": [0.0, 0.0, 1.0, 2.0, 3.0, 9.0, 0.0, 1.0, 2.0, 1.0, 1.0, 1.0, 3.0, 0.0, 0.0, 1.0, 2.0, 2.0, 7.0, 2.0, 2.0, 2.0, 2.0, 1.0, 2.0, 0.0, 2.0, 2.0, 2.0, 1.0, 0.0, 2.0, 1.0, 2.0, 0.0, 6.0, 4.0, 0.0, 0.0, 1.0, 2.0, 3.0, 0.0, 0.0, 1.0, 2.0, 1.0, 0.0, 0.0, 1.0, 2.0, 0.0, 1.0, 3.0, 7.0, 3.0, 0.0, 0.0, 1.0, 5.0, 1.0, 1.0, 7.0, 0.0, 4.0, 2.0, 2.0, 0.0, 1.0, 0.0, 1.0, 0.0, 0.0, 0.0, 0.0, 0.0, 1.0, 2.0, 2.0, 0.0, 0.0, 1.0, 1.0, 1.0, 1.0, 0.0, 2.0, 0.0, 1.0, 0.0, 0.0, 1.0, 0.0, 0.0, 2.0, 6.0, 0.0, 7.0, 0.0, 2.0, 1.0, 2.0, 1.0, 8.0, 1.0, 0.0, 3.0, 1.0, 4.0, 0.0, 0.0, 2.0, 0.0, 1.0, 4.0, 2.0, 0.0, 0.0, 3.0, 4.0, 1.0, 4.0, 2.0, 1.0, 1.0, 0.0, 2.0, 1.0, 7.0, 2.0, 2.0, 2.0, 2.0, 2.0, 6.0, 5.0, 6.0, 3.0, 2.0, 2.0, 0.0, 2.0, 1.0, 0.0, 4.0, 3.0, 2.0, 0.0, 0.0, 3.0, 1.0, 2.0, 2.0, 2.0, 2.0, 1.0, 1.0, 3.0, 1.0, 2.0, 2.0, 3.0, 3.0, 1.0, 2.0, 3.0, 0.0, 2.0, 2.0, 2.0, 6.0, 4.0, 14.0, 4.0, 1.0, 1.0, 4.0, 0.0], \"y\": [0.0735632183908046, 0.06928406466512703, 0.08333333333333333, 0.06921241050119331, 0.06474820143884892, 0.09246575342465753, 0.08620689655172414, 0.1536050156739812, 0.14689265536723164, 0.062295081967213124, 0.13953488372093026, 0.0728744939271255, 0.16783216783216784, 0.07024793388429752, 0.07407407407407407, 0.12295081967213115, 0.14814814814814814, 0.1743119266055046, 0.1743119266055046, 0.18181818181818185, 0.4784688995215311, 0.4795918367346938, 0.36774193548387096, 0.36774193548387096, 0.17592592592592593, 0.39130434782608703, 0.3717948717948718, 0.3772455089820359, 0.4841628959276018, 0.4761904761904762, 0.526595744680851, 0.4444444444444444, 0.3741935483870968, 0.4117647058823529, 0.5136612021857924, 0.31446540880503143, 0.3180327868852459, 0.25675675675675674, 0.11739130434782608, 0.21978021978021975, 0.11353711790393012, 0.2419928825622776, 0.11004784688995216, 0.24031007751937986, 0.11004784688995216, 0.0856269113149847, 0.0856269113149847, 0.08609271523178808, 0.08609271523178808, 0.08609271523178808, 0.08609271523178808, 0.08881578947368421, 0.0891089108910891, 0.07629427792915533, 0.2427616926503341, 0.05687203791469194, 0.12334801762114538, 0.07692307692307693, 0.07296137339055794, 0.22018348623853207, 0.0925925925925926, 0.08239700374531835, 0.09302325581395347, 0.19471947194719472, 0.1, 0.2616279069767442, 0.17832167832167833, 0.17525773195876287, 0.31554524361948955, 0.09824561403508772, 0.11072664359861592, 0.18670886075949367, 0.19407894736842105, 0.10583941605839416, 0.10583941605839416, 0.09071274298056156, 0.09207708779443256, 0.06683168316831684, 0.1419068736141907, 0.14757709251101322, 0.1456953642384106, 0.1456953642384106, 0.06601466992665038, 0.07536231884057971, 0.07803468208092486, 0.0539568345323741, 0.057347670250896064, 0.046263345195729534, 0.056338028169014086, 0.04964539007092199, 0.06535947712418301, 0.0990990990990991, 0.145124716553288, 0.06887755102040816, 0.07360406091370557, 0.12688172043010754, 0.17586912065439672, 0.2583892617449665, 0.10444444444444444, 0.11967545638945233, 0.2893890675241157, 0.15939278937381404, 0.09819639278557114, 0.1601489757914339, 0.22086956521739126, 0.10436432637571158, 0.2507936507936508, 0.23747980613893374, 0.1423290203327172, 0.14391143911439114, 0.10638297872340426, 0.13644859813084112, 0.08333333333333333, 0.09054325955734406, 0.09409190371991248, 0.09482758620689656, 0.105, 0.11049723756906077, 0.1132596685082873, 0.11666666666666667, 0.1092436974789916, 0.15384615384615385, 0.1278772378516624, 0.13670886075949368, 0.1796875, 0.1357615894039735, 0.20909090909090908, 0.1929260450160772, 0.17737003058103976, 0.10915492957746477, 0.0971223021582734, 0.359375, 0.3654618473895582, 0.368, 0.3779527559055118, 0.4484978540772532, 0.3866837387964149, 0.3960880195599022, 0.3787878787878788, 0.3234880450070324, 0.3836104513064133, 0.3960396039603961, 0.3163841807909605, 0.33969986357435195, 0.4019728729963009, 0.3702380952380953, 0.2196652719665272, 0.20518358531317496, 0.09706546275395034, 0.22174840085287847, 0.19389978213507625, 0.20905172413793105, 0.3382084095063985, 0.2488986784140969, 0.109375, 0.13043478260869565, 0.26814516129032256, 0.12839506172839507, 0.12623762376237624, 0.13267813267813267, 0.11528822055137845, 0.09020618556701032, 0.11458333333333333, 0.11286089238845146, 0.1243523316062176, 0.13636363636363635, 0.13861386138613865, 0.13297872340425532, 0.19617224880382772, 0.11653116531165313, 0.1005586592178771, 0.08522727272727272, 0.06948640483383686, 0.06948640483383686, 0.06948640483383686, 0.3202416918429003, 0.33554817275747506, 0.33881578947368424]}, {\"marker\": {\"color\": \"red\", \"size\": [11.111111111111114, 16.666666666666668, 12.500000000000002, 14.285714285714295, 16.666666666666668, 12.499999999999998]}, \"mode\": \"markers\", \"showlegend\": false, \"text\": [\"wt: K417\", \"wt: L452\", \"wt: S477\", \"wt: V483\", \"wt: E484\", \"wt: N501\"], \"textfont\": {\"color\": \"#E58606\"}, \"textposition\": \"top right\", \"type\": \"scattergl\", \"uid\": \"d4b868d6-9446-4345-a914-6b253f126bb9\", \"x\": [1.0, 8.0, 7.0, 6.0, 5.0, 2.0], \"y\": [0.31554524361948955, 0.1601489757914339, 0.17737003058103976, 0.3779527559055118, 0.4484978540772532, 0.3382084095063985]}],                        {\"legend\": {\"itemclick\": \"toggleothers\", \"itemdoubleclick\": \"toggle\"}, \"margin\": {\"b\": 20, \"l\": 20, \"r\": 20, \"t\": 20}, \"plot_bgcolor\": \"#FFF\", \"template\": {\"data\": {\"bar\": [{\"error_x\": {\"color\": \"#2a3f5f\"}, \"error_y\": {\"color\": \"#2a3f5f\"}, \"marker\": {\"line\": {\"color\": \"#E5ECF6\", \"width\": 0.5}}, \"type\": \"bar\"}], \"barpolar\": [{\"marker\": {\"line\": {\"color\": \"#E5ECF6\", \"width\": 0.5}}, \"type\": \"barpolar\"}], \"carpet\": [{\"aaxis\": {\"endlinecolor\": \"#2a3f5f\", \"gridcolor\": \"white\", \"linecolor\": \"white\", \"minorgridcolor\": \"white\", \"startlinecolor\": \"#2a3f5f\"}, \"baxis\": {\"endlinecolor\": \"#2a3f5f\", \"gridcolor\": \"white\", \"linecolor\": \"white\", \"minorgridcolor\": \"white\", \"startlinecolor\": \"#2a3f5f\"}, \"type\": \"carpet\"}], \"choropleth\": [{\"colorbar\": {\"outlinewidth\": 0, \"ticks\": \"\"}, \"type\": \"choropleth\"}], \"contour\": [{\"colorbar\": {\"outlinewidth\": 0, \"ticks\": \"\"}, \"colorscale\": [[0.0, \"#0d0887\"], [0.1111111111111111, \"#46039f\"], [0.2222222222222222, \"#7201a8\"], [0.3333333333333333, \"#9c179e\"], [0.4444444444444444, \"#bd3786\"], [0.5555555555555556, \"#d8576b\"], [0.6666666666666666, \"#ed7953\"], [0.7777777777777778, \"#fb9f3a\"], [0.8888888888888888, \"#fdca26\"], [1.0, \"#f0f921\"]], \"type\": \"contour\"}], \"contourcarpet\": [{\"colorbar\": {\"outlinewidth\": 0, \"ticks\": \"\"}, \"type\": \"contourcarpet\"}], \"heatmap\": [{\"colorbar\": {\"outlinewidth\": 0, \"ticks\": \"\"}, \"colorscale\": [[0.0, \"#0d0887\"], [0.1111111111111111, \"#46039f\"], [0.2222222222222222, \"#7201a8\"], [0.3333333333333333, \"#9c179e\"], [0.4444444444444444, \"#bd3786\"], [0.5555555555555556, \"#d8576b\"], [0.6666666666666666, \"#ed7953\"], [0.7777777777777778, \"#fb9f3a\"], [0.8888888888888888, \"#fdca26\"], [1.0, \"#f0f921\"]], \"type\": \"heatmap\"}], \"heatmapgl\": [{\"colorbar\": {\"outlinewidth\": 0, \"ticks\": \"\"}, \"colorscale\": [[0.0, \"#0d0887\"], [0.1111111111111111, \"#46039f\"], [0.2222222222222222, \"#7201a8\"], [0.3333333333333333, \"#9c179e\"], [0.4444444444444444, \"#bd3786\"], [0.5555555555555556, \"#d8576b\"], [0.6666666666666666, \"#ed7953\"], [0.7777777777777778, \"#fb9f3a\"], [0.8888888888888888, \"#fdca26\"], [1.0, \"#f0f921\"]], \"type\": \"heatmapgl\"}], \"histogram\": [{\"marker\": {\"colorbar\": {\"outlinewidth\": 0, \"ticks\": \"\"}}, \"type\": \"histogram\"}], \"histogram2d\": [{\"colorbar\": {\"outlinewidth\": 0, \"ticks\": \"\"}, \"colorscale\": [[0.0, \"#0d0887\"], [0.1111111111111111, \"#46039f\"], [0.2222222222222222, \"#7201a8\"], [0.3333333333333333, \"#9c179e\"], [0.4444444444444444, \"#bd3786\"], [0.5555555555555556, \"#d8576b\"], [0.6666666666666666, \"#ed7953\"], [0.7777777777777778, \"#fb9f3a\"], [0.8888888888888888, \"#fdca26\"], [1.0, \"#f0f921\"]], \"type\": \"histogram2d\"}], \"histogram2dcontour\": [{\"colorbar\": {\"outlinewidth\": 0, \"ticks\": \"\"}, \"colorscale\": [[0.0, \"#0d0887\"], [0.1111111111111111, \"#46039f\"], [0.2222222222222222, \"#7201a8\"], [0.3333333333333333, \"#9c179e\"], [0.4444444444444444, \"#bd3786\"], [0.5555555555555556, \"#d8576b\"], [0.6666666666666666, \"#ed7953\"], [0.7777777777777778, \"#fb9f3a\"], [0.8888888888888888, \"#fdca26\"], [1.0, \"#f0f921\"]], \"type\": \"histogram2dcontour\"}], \"mesh3d\": [{\"colorbar\": {\"outlinewidth\": 0, \"ticks\": \"\"}, \"type\": \"mesh3d\"}], \"parcoords\": [{\"line\": {\"colorbar\": {\"outlinewidth\": 0, \"ticks\": \"\"}}, \"type\": \"parcoords\"}], \"pie\": [{\"automargin\": true, \"type\": \"pie\"}], \"scatter\": [{\"marker\": {\"colorbar\": {\"outlinewidth\": 0, \"ticks\": \"\"}}, \"type\": \"scatter\"}], \"scatter3d\": [{\"line\": {\"colorbar\": {\"outlinewidth\": 0, \"ticks\": \"\"}}, \"marker\": {\"colorbar\": {\"outlinewidth\": 0, \"ticks\": \"\"}}, \"type\": \"scatter3d\"}], \"scattercarpet\": [{\"marker\": {\"colorbar\": {\"outlinewidth\": 0, \"ticks\": \"\"}}, \"type\": \"scattercarpet\"}], \"scattergeo\": [{\"marker\": {\"colorbar\": {\"outlinewidth\": 0, \"ticks\": \"\"}}, \"type\": \"scattergeo\"}], \"scattergl\": [{\"marker\": {\"colorbar\": {\"outlinewidth\": 0, \"ticks\": \"\"}}, \"type\": \"scattergl\"}], \"scattermapbox\": [{\"marker\": {\"colorbar\": {\"outlinewidth\": 0, \"ticks\": \"\"}}, \"type\": \"scattermapbox\"}], \"scatterpolar\": [{\"marker\": {\"colorbar\": {\"outlinewidth\": 0, \"ticks\": \"\"}}, \"type\": \"scatterpolar\"}], \"scatterpolargl\": [{\"marker\": {\"colorbar\": {\"outlinewidth\": 0, \"ticks\": \"\"}}, \"type\": \"scatterpolargl\"}], \"scatterternary\": [{\"marker\": {\"colorbar\": {\"outlinewidth\": 0, \"ticks\": \"\"}}, \"type\": \"scatterternary\"}], \"surface\": [{\"colorbar\": {\"outlinewidth\": 0, \"ticks\": \"\"}, \"colorscale\": [[0.0, \"#0d0887\"], [0.1111111111111111, \"#46039f\"], [0.2222222222222222, \"#7201a8\"], [0.3333333333333333, \"#9c179e\"], [0.4444444444444444, \"#bd3786\"], [0.5555555555555556, \"#d8576b\"], [0.6666666666666666, \"#ed7953\"], [0.7777777777777778, \"#fb9f3a\"], [0.8888888888888888, \"#fdca26\"], [1.0, \"#f0f921\"]], \"type\": \"surface\"}], \"table\": [{\"cells\": {\"fill\": {\"color\": \"#EBF0F8\"}, \"line\": {\"color\": \"white\"}}, \"header\": {\"fill\": {\"color\": \"#C8D4E3\"}, \"line\": {\"color\": \"white\"}}, \"type\": \"table\"}]}, \"layout\": {\"annotationdefaults\": {\"arrowcolor\": \"#2a3f5f\", \"arrowhead\": 0, \"arrowwidth\": 1}, \"autotypenumbers\": \"strict\", \"coloraxis\": {\"colorbar\": {\"outlinewidth\": 0, \"ticks\": \"\"}}, \"colorscale\": {\"diverging\": [[0, \"#8e0152\"], [0.1, \"#c51b7d\"], [0.2, \"#de77ae\"], [0.3, \"#f1b6da\"], [0.4, \"#fde0ef\"], [0.5, \"#f7f7f7\"], [0.6, \"#e6f5d0\"], [0.7, \"#b8e186\"], [0.8, \"#7fbc41\"], [0.9, \"#4d9221\"], [1, \"#276419\"]], \"sequential\": [[0.0, \"#0d0887\"], [0.1111111111111111, \"#46039f\"], [0.2222222222222222, \"#7201a8\"], [0.3333333333333333, \"#9c179e\"], [0.4444444444444444, \"#bd3786\"], [0.5555555555555556, \"#d8576b\"], [0.6666666666666666, \"#ed7953\"], [0.7777777777777778, \"#fb9f3a\"], [0.8888888888888888, \"#fdca26\"], [1.0, \"#f0f921\"]], \"sequentialminus\": [[0.0, \"#0d0887\"], [0.1111111111111111, \"#46039f\"], [0.2222222222222222, \"#7201a8\"], [0.3333333333333333, \"#9c179e\"], [0.4444444444444444, \"#bd3786\"], [0.5555555555555556, \"#d8576b\"], [0.6666666666666666, \"#ed7953\"], [0.7777777777777778, \"#fb9f3a\"], [0.8888888888888888, \"#fdca26\"], [1.0, \"#f0f921\"]]}, \"colorway\": [\"#636efa\", \"#EF553B\", \"#00cc96\", \"#ab63fa\", \"#FFA15A\", \"#19d3f3\", \"#FF6692\", \"#B6E880\", \"#FF97FF\", \"#FECB52\"], \"font\": {\"color\": \"#2a3f5f\"}, \"geo\": {\"bgcolor\": \"white\", \"lakecolor\": \"white\", \"landcolor\": \"#E5ECF6\", \"showlakes\": true, \"showland\": true, \"subunitcolor\": \"white\"}, \"hoverlabel\": {\"align\": \"left\"}, \"hovermode\": \"closest\", \"mapbox\": {\"style\": \"light\"}, \"paper_bgcolor\": \"white\", \"plot_bgcolor\": \"#E5ECF6\", \"polar\": {\"angularaxis\": {\"gridcolor\": \"white\", \"linecolor\": \"white\", \"ticks\": \"\"}, \"bgcolor\": \"#E5ECF6\", \"radialaxis\": {\"gridcolor\": \"white\", \"linecolor\": \"white\", \"ticks\": \"\"}}, \"scene\": {\"xaxis\": {\"backgroundcolor\": \"#E5ECF6\", \"gridcolor\": \"white\", \"gridwidth\": 2, \"linecolor\": \"white\", \"showbackground\": true, \"ticks\": \"\", \"zerolinecolor\": \"white\"}, \"yaxis\": {\"backgroundcolor\": \"#E5ECF6\", \"gridcolor\": \"white\", \"gridwidth\": 2, \"linecolor\": \"white\", \"showbackground\": true, \"ticks\": \"\", \"zerolinecolor\": \"white\"}, \"zaxis\": {\"backgroundcolor\": \"#E5ECF6\", \"gridcolor\": \"white\", \"gridwidth\": 2, \"linecolor\": \"white\", \"showbackground\": true, \"ticks\": \"\", \"zerolinecolor\": \"white\"}}, \"shapedefaults\": {\"line\": {\"color\": \"#2a3f5f\"}}, \"ternary\": {\"aaxis\": {\"gridcolor\": \"white\", \"linecolor\": \"white\", \"ticks\": \"\"}, \"baxis\": {\"gridcolor\": \"white\", \"linecolor\": \"white\", \"ticks\": \"\"}, \"bgcolor\": \"#E5ECF6\", \"caxis\": {\"gridcolor\": \"white\", \"linecolor\": \"white\", \"ticks\": \"\"}}, \"title\": {\"x\": 0.05}, \"xaxis\": {\"automargin\": true, \"gridcolor\": \"white\", \"linecolor\": \"white\", \"ticks\": \"\", \"title\": {\"standoff\": 15}, \"zerolinecolor\": \"white\", \"zerolinewidth\": 2}, \"yaxis\": {\"automargin\": true, \"gridcolor\": \"white\", \"linecolor\": \"white\", \"ticks\": \"\", \"title\": {\"standoff\": 15}, \"zerolinecolor\": \"white\", \"zerolinewidth\": 2}}}, \"xaxis\": {\"linecolor\": \"#BCCCDC\", \"mirror\": true, \"showgrid\": true, \"title\": {\"text\": \"observed_mut_Jul2020\"}}, \"yaxis\": {\"linecolor\": \"#BCCCDC\", \"mirror\": true, \"showgrid\": true, \"title\": {\"text\": \"IEDB - Response Frequency\"}}},                        {\"responsive\": true}                    ).then(function(){\n",
       "                            \n",
       "var gd = document.getElementById('c89ef4fb-55b1-4364-b08a-54fe057464b5');\n",
       "var x = new MutationObserver(function (mutations, observer) {{\n",
       "        var display = window.getComputedStyle(gd).display;\n",
       "        if (!display || display === 'none') {{\n",
       "            console.log([gd, 'removed!']);\n",
       "            Plotly.purge(gd);\n",
       "            observer.disconnect();\n",
       "        }}\n",
       "}});\n",
       "\n",
       "// Listen for the removal of the full notebook cells\n",
       "var notebookContainer = gd.closest('#notebook-container');\n",
       "if (notebookContainer) {{\n",
       "    x.observe(notebookContainer, {childList: true});\n",
       "}}\n",
       "\n",
       "// Listen for the clearing of the current output cell\n",
       "var outputEl = gd.closest('.output');\n",
       "if (outputEl) {{\n",
       "    x.observe(outputEl, {childList: true});\n",
       "}}\n",
       "\n",
       "                        })                };                });            </script>        </div>"
      ]
     },
     "metadata": {},
     "output_type": "display_data"
    },
    {
     "data": {
      "application/vnd.plotly.v1+json": {
       "config": {
        "linkText": "Export to plot.ly",
        "plotlyServerURL": "https://plot.ly",
        "showLink": false
       },
       "data": [
        {
         "marker": {
          "color": "#5D69B1",
          "size": [
           20,
           20,
           20,
           20,
           20,
           14.285714285714285,
           16.666666666666668,
           12.499999999999998,
           12.5,
           16.666666666666664,
           14.285714285714286,
           16.666666666666668,
           11.11111111111111,
           14.285714285714285,
           16.666666666666668,
           9.090909090909092,
           9.090909090909092,
           6.666666666666666,
           6.666666666666666,
           7.142857142857142,
           7.14285714285714,
           7.14285714285714,
           6.666666666666666,
           6.666666666666666,
           7.142857142857142,
           6.666666666666668,
           6.666666666666666,
           7.142857142857142,
           7.692307692307689,
           7.692307692307689,
           7.142857142857145,
           6.249999999999999,
           6.666666666666666,
           5.882352941176471,
           6.666666666666668,
           10.000000000000002,
           10.000000000000002,
           10,
           11.111111111111109,
           10,
           12.5,
           10.000000000000002,
           11.11111111111111,
           9.090909090909092,
           11.11111111111111,
           16.666666666666668,
           16.666666666666668,
           16.666666666666668,
           16.666666666666668,
           16.666666666666668,
           16.666666666666668,
           14.285714285714285,
           14.285714285714285,
           16.666666666666668,
           14.28571428571428,
           14.285714285714285,
           12.499999999999998,
           14.285714285714286,
           16.666666666666668,
           11.111111111111109,
           14.285714285714285,
           16.666666666666668,
           14.285714285714285,
           11.11111111111111,
           14.285714285714285,
           11.11111111111111,
           11.11111111111111,
           12.500000000000002,
           11.111111111111114,
           14.285714285714285,
           14.285714285714286,
           12.499999999999998,
           11.11111111111111,
           12.500000000000002,
           12.500000000000002,
           20.000000000000004,
           20.000000000000004,
           20,
           14.285714285714286,
           16.666666666666668,
           16.666666666666668,
           16.666666666666668,
           25.000000000000004,
           16.666666666666668,
           16.666666666666668,
           16.666666666666668,
           20,
           20,
           16.666666666666668,
           20,
           16.666666666666664,
           14.285714285714285,
           16.666666666666668,
           20,
           20,
           16.666666666666668,
           14.28571428571429,
           12.500000000000002,
           16.666666666666664,
           16.666666666666668,
           14.285714285714285,
           16.666666666666668,
           20,
           16.666666666666668,
           14.285714285714285,
           20,
           14.28571428571429,
           16.66666666666666,
           19.999999999999993,
           16.666666666666668,
           16.666666666666664,
           16.666666666666664,
           20,
           20.000000000000004,
           20.000000000000004,
           20.000000000000004,
           16.666666666666664,
           14.285714285714286,
           14.285714285714286,
           16.666666666666668,
           14.285714285714286,
           14.285714285714285,
           16.666666666666668,
           16.666666666666664,
           12.500000000000002,
           12.500000000000002,
           11.11111111111111,
           11.11111111111111,
           12.500000000000002,
           14.285714285714286,
           14.285714285714285,
           12.499999999999998,
           14.285714285714285,
           14.285714285714285,
           14.285714285714295,
           16.666666666666668,
           14.285714285714285,
           14.285714285714285,
           16.666666666666668,
           14.285714285714285,
           14.285714285714285,
           14.285714285714285,
           14.285714285714295,
           16.666666666666668,
           14.285714285714285,
           16.666666666666668,
           12.499999999999998,
           14.28571428571429,
           16.666666666666668,
           14.285714285714285,
           14.285714285714285,
           12.500000000000002,
           12.499999999999998,
           12.500000000000002,
           16.666666666666664,
           14.285714285714285,
           12.500000000000002,
           16.666666666666668,
           16.666666666666668,
           14.285714285714285,
           16.666666666666668,
           20.000000000000004,
           16.666666666666668,
           14.285714285714286,
           16.666666666666668,
           16.666666666666664,
           14.285714285714286,
           14.285714285714285,
           12.500000000000002,
           16.666666666666668,
           14.285714285714285,
           16.666666666666668,
           20,
           20,
           20,
           10.000000000000002,
           9.090909090909092,
           9.999999999999996
          ]
         },
         "mode": "markers",
         "name": "",
         "text": [
          "wt: S349",
          "wt: V350",
          "wt: Y351",
          "wt: A352",
          "wt: W353",
          "wt: N354",
          "wt: R355",
          "wt: K356",
          "wt: R357",
          "wt: I358",
          "wt: S359",
          "wt: N360",
          "wt: C361",
          "wt: V362",
          "wt: A363",
          "wt: D364",
          "wt: Y365",
          "wt: S366",
          "wt: V367",
          "wt: L368",
          "wt: Y369",
          "wt: N370",
          "wt: S371",
          "wt: A372",
          "wt: S373",
          "wt: F374",
          "wt: S375",
          "wt: T376",
          "wt: F377",
          "wt: K378",
          "wt: C379",
          "wt: Y380",
          "wt: G381",
          "wt: V382",
          "wt: S383",
          "wt: P384",
          "wt: T385",
          "wt: K386",
          "wt: L387",
          "wt: N388",
          "wt: D389",
          "wt: L390",
          "wt: C391",
          "wt: F392",
          "wt: T393",
          "wt: N394",
          "wt: V395",
          "wt: Y396",
          "wt: A397",
          "wt: D398",
          "wt: S399",
          "wt: F400",
          "wt: V401",
          "wt: I402",
          "wt: R403",
          "wt: G404",
          "wt: D405",
          "wt: E406",
          "wt: V407",
          "wt: R408",
          "wt: Q409",
          "wt: I410",
          "wt: A411",
          "wt: P412",
          "wt: G413",
          "wt: Q414",
          "wt: T415",
          "wt: G416",
          "wt: K417",
          "wt: I418",
          "wt: A419",
          "wt: D420",
          "wt: Y421",
          "wt: N422",
          "wt: Y423",
          "wt: K424",
          "wt: L425",
          "wt: P426",
          "wt: D427",
          "wt: D428",
          "wt: F429",
          "wt: T430",
          "wt: G431",
          "wt: C432",
          "wt: V433",
          "wt: I434",
          "wt: A435",
          "wt: W436",
          "wt: N437",
          "wt: S438",
          "wt: N439",
          "wt: N440",
          "wt: L441",
          "wt: D442",
          "wt: S443",
          "wt: K444",
          "wt: V445",
          "wt: G446",
          "wt: G447",
          "wt: N448",
          "wt: Y449",
          "wt: N450",
          "wt: Y451",
          "wt: L452",
          "wt: Y453",
          "wt: R454",
          "wt: L455",
          "wt: F456",
          "wt: R457",
          "wt: K458",
          "wt: S459",
          "wt: N460",
          "wt: L461",
          "wt: K462",
          "wt: P463",
          "wt: F464",
          "wt: E465",
          "wt: R466",
          "wt: D467",
          "wt: I468",
          "wt: S469",
          "wt: T470",
          "wt: E471",
          "wt: I472",
          "wt: Y473",
          "wt: Q474",
          "wt: A475",
          "wt: G476",
          "wt: S477",
          "wt: T478",
          "wt: P479",
          "wt: C480",
          "wt: N481",
          "wt: G482",
          "wt: V483",
          "wt: E484",
          "wt: G485",
          "wt: F486",
          "wt: N487",
          "wt: C488",
          "wt: Y489",
          "wt: F490",
          "wt: P491",
          "wt: L492",
          "wt: Q493",
          "wt: S494",
          "wt: Y495",
          "wt: G496",
          "wt: F497",
          "wt: Q498",
          "wt: P499",
          "wt: T500",
          "wt: N501",
          "wt: G502",
          "wt: V503",
          "wt: G504",
          "wt: Y505",
          "wt: Q506",
          "wt: P507",
          "wt: Y508",
          "wt: R509",
          "wt: V510",
          "wt: V511",
          "wt: V512",
          "wt: L513",
          "wt: S514",
          "wt: F515",
          "wt: E516",
          "wt: L517",
          "wt: L518",
          "wt: H519",
          "wt: A520",
          "wt: P521",
          "wt: A522",
          "wt: T523",
          "wt: V524",
          "wt: C525",
          "wt: G526"
         ],
         "textfont": {
          "color": "#E58606"
         },
         "textposition": "top right",
         "type": "scattergl",
         "uid": "ae341a9e-b2bb-43f8-91f2-a9ae69bc0435",
         "x": [
          0,
          0,
          1,
          3,
          4,
          14,
          1,
          4,
          6,
          4,
          7,
          1,
          4,
          1,
          0,
          1,
          2,
          2,
          20,
          3,
          3,
          5,
          5,
          2,
          8,
          1,
          3,
          4,
          2,
          4,
          0,
          3,
          2,
          8,
          0,
          15,
          8,
          0,
          0,
          2,
          2,
          4,
          0,
          0,
          2,
          2,
          3,
          3,
          0,
          1,
          2,
          0,
          2,
          7,
          7,
          5,
          2,
          3,
          7,
          10,
          2,
          3,
          10,
          2,
          7,
          8,
          4,
          0,
          2,
          0,
          4,
          0,
          0,
          0,
          0,
          1,
          1,
          2,
          11,
          1,
          0,
          2,
          3,
          1,
          2,
          3,
          2,
          2,
          2,
          2,
          11,
          9,
          2,
          0,
          2,
          9,
          2,
          12,
          0,
          2,
          1,
          3,
          3,
          12,
          13,
          1,
          9,
          1,
          4,
          2,
          4,
          4,
          2,
          5,
          5,
          2,
          2,
          1,
          4,
          5,
          2,
          6,
          7,
          4,
          1,
          0,
          4,
          6,
          54,
          13,
          8,
          2,
          4,
          5,
          11,
          14,
          7,
          4,
          4,
          2,
          2,
          9,
          2,
          0,
          8,
          9,
          2,
          1,
          0,
          3,
          11,
          4,
          13,
          2,
          4,
          1,
          4,
          7,
          2,
          6,
          3,
          4,
          7,
          7,
          2,
          6,
          0,
          6,
          6,
          4,
          7,
          9,
          17,
          23,
          1,
          1,
          4,
          0
         ],
         "y": [
          0.0735632183908046,
          0.06928406466512703,
          0.08333333333333333,
          0.06921241050119331,
          0.06474820143884892,
          0.09246575342465753,
          0.08620689655172414,
          0.1536050156739812,
          0.14689265536723164,
          0.062295081967213124,
          0.13953488372093026,
          0.0728744939271255,
          0.16783216783216784,
          0.07024793388429752,
          0.07407407407407407,
          0.12295081967213115,
          0.14814814814814814,
          0.1743119266055046,
          0.1743119266055046,
          0.18181818181818185,
          0.4784688995215311,
          0.4795918367346938,
          0.36774193548387096,
          0.36774193548387096,
          0.17592592592592593,
          0.39130434782608703,
          0.3717948717948718,
          0.3772455089820359,
          0.4841628959276018,
          0.4761904761904762,
          0.526595744680851,
          0.4444444444444444,
          0.3741935483870968,
          0.4117647058823529,
          0.5136612021857924,
          0.31446540880503143,
          0.3180327868852459,
          0.25675675675675674,
          0.11739130434782608,
          0.21978021978021975,
          0.11353711790393012,
          0.2419928825622776,
          0.11004784688995216,
          0.24031007751937986,
          0.11004784688995216,
          0.0856269113149847,
          0.0856269113149847,
          0.08609271523178808,
          0.08609271523178808,
          0.08609271523178808,
          0.08609271523178808,
          0.08881578947368421,
          0.0891089108910891,
          0.07629427792915533,
          0.2427616926503341,
          0.05687203791469194,
          0.12334801762114538,
          0.07692307692307693,
          0.07296137339055794,
          0.22018348623853207,
          0.0925925925925926,
          0.08239700374531835,
          0.09302325581395347,
          0.19471947194719472,
          0.1,
          0.2616279069767442,
          0.17832167832167833,
          0.17525773195876287,
          0.31554524361948955,
          0.09824561403508772,
          0.11072664359861592,
          0.18670886075949367,
          0.19407894736842105,
          0.10583941605839416,
          0.10583941605839416,
          0.09071274298056156,
          0.09207708779443256,
          0.06683168316831684,
          0.1419068736141907,
          0.14757709251101322,
          0.1456953642384106,
          0.1456953642384106,
          0.06601466992665038,
          0.07536231884057971,
          0.07803468208092486,
          0.0539568345323741,
          0.057347670250896064,
          0.046263345195729534,
          0.056338028169014086,
          0.04964539007092199,
          0.06535947712418301,
          0.0990990990990991,
          0.145124716553288,
          0.06887755102040816,
          0.07360406091370557,
          0.12688172043010754,
          0.17586912065439672,
          0.2583892617449665,
          0.10444444444444444,
          0.11967545638945233,
          0.2893890675241157,
          0.15939278937381404,
          0.09819639278557114,
          0.1601489757914339,
          0.22086956521739126,
          0.10436432637571158,
          0.2507936507936508,
          0.23747980613893374,
          0.1423290203327172,
          0.14391143911439114,
          0.10638297872340426,
          0.13644859813084112,
          0.08333333333333333,
          0.09054325955734406,
          0.09409190371991248,
          0.09482758620689656,
          0.105,
          0.11049723756906077,
          0.1132596685082873,
          0.11666666666666667,
          0.1092436974789916,
          0.15384615384615385,
          0.1278772378516624,
          0.13670886075949368,
          0.1796875,
          0.1357615894039735,
          0.20909090909090908,
          0.1929260450160772,
          0.17737003058103976,
          0.10915492957746477,
          0.0971223021582734,
          0.359375,
          0.3654618473895582,
          0.368,
          0.3779527559055118,
          0.4484978540772532,
          0.3866837387964149,
          0.3960880195599022,
          0.3787878787878788,
          0.3234880450070324,
          0.3836104513064133,
          0.3960396039603961,
          0.3163841807909605,
          0.33969986357435195,
          0.4019728729963009,
          0.3702380952380953,
          0.2196652719665272,
          0.20518358531317496,
          0.09706546275395034,
          0.22174840085287847,
          0.19389978213507625,
          0.20905172413793105,
          0.3382084095063985,
          0.2488986784140969,
          0.109375,
          0.13043478260869565,
          0.26814516129032256,
          0.12839506172839507,
          0.12623762376237624,
          0.13267813267813267,
          0.11528822055137845,
          0.09020618556701032,
          0.11458333333333333,
          0.11286089238845146,
          0.1243523316062176,
          0.13636363636363635,
          0.13861386138613865,
          0.13297872340425532,
          0.19617224880382772,
          0.11653116531165313,
          0.1005586592178771,
          0.08522727272727272,
          0.06948640483383686,
          0.06948640483383686,
          0.06948640483383686,
          0.3202416918429003,
          0.33554817275747506,
          0.33881578947368424
         ]
        },
        {
         "marker": {
          "color": "red",
          "size": [
           11.111111111111114,
           16.666666666666668,
           12.500000000000002,
           14.285714285714295,
           16.666666666666668,
           12.499999999999998
          ]
         },
         "mode": "markers",
         "showlegend": false,
         "text": [
          "wt: K417",
          "wt: L452",
          "wt: S477",
          "wt: V483",
          "wt: E484",
          "wt: N501"
         ],
         "textfont": {
          "color": "#E58606"
         },
         "textposition": "top right",
         "type": "scattergl",
         "uid": "29d4a597-d6d1-488c-bf5d-36ecce445967",
         "x": [
          2,
          12,
          54,
          11,
          14,
          13
         ],
         "y": [
          0.31554524361948955,
          0.1601489757914339,
          0.17737003058103976,
          0.3779527559055118,
          0.4484978540772532,
          0.3382084095063985
         ]
        }
       ],
       "layout": {
        "legend": {
         "itemclick": "toggleothers",
         "itemdoubleclick": "toggle"
        },
        "margin": {
         "b": 20,
         "l": 20,
         "r": 20,
         "t": 20
        },
        "plot_bgcolor": "#FFF",
        "template": {
         "data": {
          "bar": [
           {
            "error_x": {
             "color": "#2a3f5f"
            },
            "error_y": {
             "color": "#2a3f5f"
            },
            "marker": {
             "line": {
              "color": "#E5ECF6",
              "width": 0.5
             }
            },
            "type": "bar"
           }
          ],
          "barpolar": [
           {
            "marker": {
             "line": {
              "color": "#E5ECF6",
              "width": 0.5
             }
            },
            "type": "barpolar"
           }
          ],
          "carpet": [
           {
            "aaxis": {
             "endlinecolor": "#2a3f5f",
             "gridcolor": "white",
             "linecolor": "white",
             "minorgridcolor": "white",
             "startlinecolor": "#2a3f5f"
            },
            "baxis": {
             "endlinecolor": "#2a3f5f",
             "gridcolor": "white",
             "linecolor": "white",
             "minorgridcolor": "white",
             "startlinecolor": "#2a3f5f"
            },
            "type": "carpet"
           }
          ],
          "choropleth": [
           {
            "colorbar": {
             "outlinewidth": 0,
             "ticks": ""
            },
            "type": "choropleth"
           }
          ],
          "contour": [
           {
            "colorbar": {
             "outlinewidth": 0,
             "ticks": ""
            },
            "colorscale": [
             [
              0,
              "#0d0887"
             ],
             [
              0.1111111111111111,
              "#46039f"
             ],
             [
              0.2222222222222222,
              "#7201a8"
             ],
             [
              0.3333333333333333,
              "#9c179e"
             ],
             [
              0.4444444444444444,
              "#bd3786"
             ],
             [
              0.5555555555555556,
              "#d8576b"
             ],
             [
              0.6666666666666666,
              "#ed7953"
             ],
             [
              0.7777777777777778,
              "#fb9f3a"
             ],
             [
              0.8888888888888888,
              "#fdca26"
             ],
             [
              1,
              "#f0f921"
             ]
            ],
            "type": "contour"
           }
          ],
          "contourcarpet": [
           {
            "colorbar": {
             "outlinewidth": 0,
             "ticks": ""
            },
            "type": "contourcarpet"
           }
          ],
          "heatmap": [
           {
            "colorbar": {
             "outlinewidth": 0,
             "ticks": ""
            },
            "colorscale": [
             [
              0,
              "#0d0887"
             ],
             [
              0.1111111111111111,
              "#46039f"
             ],
             [
              0.2222222222222222,
              "#7201a8"
             ],
             [
              0.3333333333333333,
              "#9c179e"
             ],
             [
              0.4444444444444444,
              "#bd3786"
             ],
             [
              0.5555555555555556,
              "#d8576b"
             ],
             [
              0.6666666666666666,
              "#ed7953"
             ],
             [
              0.7777777777777778,
              "#fb9f3a"
             ],
             [
              0.8888888888888888,
              "#fdca26"
             ],
             [
              1,
              "#f0f921"
             ]
            ],
            "type": "heatmap"
           }
          ],
          "heatmapgl": [
           {
            "colorbar": {
             "outlinewidth": 0,
             "ticks": ""
            },
            "colorscale": [
             [
              0,
              "#0d0887"
             ],
             [
              0.1111111111111111,
              "#46039f"
             ],
             [
              0.2222222222222222,
              "#7201a8"
             ],
             [
              0.3333333333333333,
              "#9c179e"
             ],
             [
              0.4444444444444444,
              "#bd3786"
             ],
             [
              0.5555555555555556,
              "#d8576b"
             ],
             [
              0.6666666666666666,
              "#ed7953"
             ],
             [
              0.7777777777777778,
              "#fb9f3a"
             ],
             [
              0.8888888888888888,
              "#fdca26"
             ],
             [
              1,
              "#f0f921"
             ]
            ],
            "type": "heatmapgl"
           }
          ],
          "histogram": [
           {
            "marker": {
             "colorbar": {
              "outlinewidth": 0,
              "ticks": ""
             }
            },
            "type": "histogram"
           }
          ],
          "histogram2d": [
           {
            "colorbar": {
             "outlinewidth": 0,
             "ticks": ""
            },
            "colorscale": [
             [
              0,
              "#0d0887"
             ],
             [
              0.1111111111111111,
              "#46039f"
             ],
             [
              0.2222222222222222,
              "#7201a8"
             ],
             [
              0.3333333333333333,
              "#9c179e"
             ],
             [
              0.4444444444444444,
              "#bd3786"
             ],
             [
              0.5555555555555556,
              "#d8576b"
             ],
             [
              0.6666666666666666,
              "#ed7953"
             ],
             [
              0.7777777777777778,
              "#fb9f3a"
             ],
             [
              0.8888888888888888,
              "#fdca26"
             ],
             [
              1,
              "#f0f921"
             ]
            ],
            "type": "histogram2d"
           }
          ],
          "histogram2dcontour": [
           {
            "colorbar": {
             "outlinewidth": 0,
             "ticks": ""
            },
            "colorscale": [
             [
              0,
              "#0d0887"
             ],
             [
              0.1111111111111111,
              "#46039f"
             ],
             [
              0.2222222222222222,
              "#7201a8"
             ],
             [
              0.3333333333333333,
              "#9c179e"
             ],
             [
              0.4444444444444444,
              "#bd3786"
             ],
             [
              0.5555555555555556,
              "#d8576b"
             ],
             [
              0.6666666666666666,
              "#ed7953"
             ],
             [
              0.7777777777777778,
              "#fb9f3a"
             ],
             [
              0.8888888888888888,
              "#fdca26"
             ],
             [
              1,
              "#f0f921"
             ]
            ],
            "type": "histogram2dcontour"
           }
          ],
          "mesh3d": [
           {
            "colorbar": {
             "outlinewidth": 0,
             "ticks": ""
            },
            "type": "mesh3d"
           }
          ],
          "parcoords": [
           {
            "line": {
             "colorbar": {
              "outlinewidth": 0,
              "ticks": ""
             }
            },
            "type": "parcoords"
           }
          ],
          "pie": [
           {
            "automargin": true,
            "type": "pie"
           }
          ],
          "scatter": [
           {
            "marker": {
             "colorbar": {
              "outlinewidth": 0,
              "ticks": ""
             }
            },
            "type": "scatter"
           }
          ],
          "scatter3d": [
           {
            "line": {
             "colorbar": {
              "outlinewidth": 0,
              "ticks": ""
             }
            },
            "marker": {
             "colorbar": {
              "outlinewidth": 0,
              "ticks": ""
             }
            },
            "type": "scatter3d"
           }
          ],
          "scattercarpet": [
           {
            "marker": {
             "colorbar": {
              "outlinewidth": 0,
              "ticks": ""
             }
            },
            "type": "scattercarpet"
           }
          ],
          "scattergeo": [
           {
            "marker": {
             "colorbar": {
              "outlinewidth": 0,
              "ticks": ""
             }
            },
            "type": "scattergeo"
           }
          ],
          "scattergl": [
           {
            "marker": {
             "colorbar": {
              "outlinewidth": 0,
              "ticks": ""
             }
            },
            "type": "scattergl"
           }
          ],
          "scattermapbox": [
           {
            "marker": {
             "colorbar": {
              "outlinewidth": 0,
              "ticks": ""
             }
            },
            "type": "scattermapbox"
           }
          ],
          "scatterpolar": [
           {
            "marker": {
             "colorbar": {
              "outlinewidth": 0,
              "ticks": ""
             }
            },
            "type": "scatterpolar"
           }
          ],
          "scatterpolargl": [
           {
            "marker": {
             "colorbar": {
              "outlinewidth": 0,
              "ticks": ""
             }
            },
            "type": "scatterpolargl"
           }
          ],
          "scatterternary": [
           {
            "marker": {
             "colorbar": {
              "outlinewidth": 0,
              "ticks": ""
             }
            },
            "type": "scatterternary"
           }
          ],
          "surface": [
           {
            "colorbar": {
             "outlinewidth": 0,
             "ticks": ""
            },
            "colorscale": [
             [
              0,
              "#0d0887"
             ],
             [
              0.1111111111111111,
              "#46039f"
             ],
             [
              0.2222222222222222,
              "#7201a8"
             ],
             [
              0.3333333333333333,
              "#9c179e"
             ],
             [
              0.4444444444444444,
              "#bd3786"
             ],
             [
              0.5555555555555556,
              "#d8576b"
             ],
             [
              0.6666666666666666,
              "#ed7953"
             ],
             [
              0.7777777777777778,
              "#fb9f3a"
             ],
             [
              0.8888888888888888,
              "#fdca26"
             ],
             [
              1,
              "#f0f921"
             ]
            ],
            "type": "surface"
           }
          ],
          "table": [
           {
            "cells": {
             "fill": {
              "color": "#EBF0F8"
             },
             "line": {
              "color": "white"
             }
            },
            "header": {
             "fill": {
              "color": "#C8D4E3"
             },
             "line": {
              "color": "white"
             }
            },
            "type": "table"
           }
          ]
         },
         "layout": {
          "annotationdefaults": {
           "arrowcolor": "#2a3f5f",
           "arrowhead": 0,
           "arrowwidth": 1
          },
          "autotypenumbers": "strict",
          "coloraxis": {
           "colorbar": {
            "outlinewidth": 0,
            "ticks": ""
           }
          },
          "colorscale": {
           "diverging": [
            [
             0,
             "#8e0152"
            ],
            [
             0.1,
             "#c51b7d"
            ],
            [
             0.2,
             "#de77ae"
            ],
            [
             0.3,
             "#f1b6da"
            ],
            [
             0.4,
             "#fde0ef"
            ],
            [
             0.5,
             "#f7f7f7"
            ],
            [
             0.6,
             "#e6f5d0"
            ],
            [
             0.7,
             "#b8e186"
            ],
            [
             0.8,
             "#7fbc41"
            ],
            [
             0.9,
             "#4d9221"
            ],
            [
             1,
             "#276419"
            ]
           ],
           "sequential": [
            [
             0,
             "#0d0887"
            ],
            [
             0.1111111111111111,
             "#46039f"
            ],
            [
             0.2222222222222222,
             "#7201a8"
            ],
            [
             0.3333333333333333,
             "#9c179e"
            ],
            [
             0.4444444444444444,
             "#bd3786"
            ],
            [
             0.5555555555555556,
             "#d8576b"
            ],
            [
             0.6666666666666666,
             "#ed7953"
            ],
            [
             0.7777777777777778,
             "#fb9f3a"
            ],
            [
             0.8888888888888888,
             "#fdca26"
            ],
            [
             1,
             "#f0f921"
            ]
           ],
           "sequentialminus": [
            [
             0,
             "#0d0887"
            ],
            [
             0.1111111111111111,
             "#46039f"
            ],
            [
             0.2222222222222222,
             "#7201a8"
            ],
            [
             0.3333333333333333,
             "#9c179e"
            ],
            [
             0.4444444444444444,
             "#bd3786"
            ],
            [
             0.5555555555555556,
             "#d8576b"
            ],
            [
             0.6666666666666666,
             "#ed7953"
            ],
            [
             0.7777777777777778,
             "#fb9f3a"
            ],
            [
             0.8888888888888888,
             "#fdca26"
            ],
            [
             1,
             "#f0f921"
            ]
           ]
          },
          "colorway": [
           "#636efa",
           "#EF553B",
           "#00cc96",
           "#ab63fa",
           "#FFA15A",
           "#19d3f3",
           "#FF6692",
           "#B6E880",
           "#FF97FF",
           "#FECB52"
          ],
          "font": {
           "color": "#2a3f5f"
          },
          "geo": {
           "bgcolor": "white",
           "lakecolor": "white",
           "landcolor": "#E5ECF6",
           "showlakes": true,
           "showland": true,
           "subunitcolor": "white"
          },
          "hoverlabel": {
           "align": "left"
          },
          "hovermode": "closest",
          "mapbox": {
           "style": "light"
          },
          "paper_bgcolor": "white",
          "plot_bgcolor": "#E5ECF6",
          "polar": {
           "angularaxis": {
            "gridcolor": "white",
            "linecolor": "white",
            "ticks": ""
           },
           "bgcolor": "#E5ECF6",
           "radialaxis": {
            "gridcolor": "white",
            "linecolor": "white",
            "ticks": ""
           }
          },
          "scene": {
           "xaxis": {
            "backgroundcolor": "#E5ECF6",
            "gridcolor": "white",
            "gridwidth": 2,
            "linecolor": "white",
            "showbackground": true,
            "ticks": "",
            "zerolinecolor": "white"
           },
           "yaxis": {
            "backgroundcolor": "#E5ECF6",
            "gridcolor": "white",
            "gridwidth": 2,
            "linecolor": "white",
            "showbackground": true,
            "ticks": "",
            "zerolinecolor": "white"
           },
           "zaxis": {
            "backgroundcolor": "#E5ECF6",
            "gridcolor": "white",
            "gridwidth": 2,
            "linecolor": "white",
            "showbackground": true,
            "ticks": "",
            "zerolinecolor": "white"
           }
          },
          "shapedefaults": {
           "line": {
            "color": "#2a3f5f"
           }
          },
          "ternary": {
           "aaxis": {
            "gridcolor": "white",
            "linecolor": "white",
            "ticks": ""
           },
           "baxis": {
            "gridcolor": "white",
            "linecolor": "white",
            "ticks": ""
           },
           "bgcolor": "#E5ECF6",
           "caxis": {
            "gridcolor": "white",
            "linecolor": "white",
            "ticks": ""
           }
          },
          "title": {
           "x": 0.05
          },
          "xaxis": {
           "automargin": true,
           "gridcolor": "white",
           "linecolor": "white",
           "ticks": "",
           "title": {
            "standoff": 15
           },
           "zerolinecolor": "white",
           "zerolinewidth": 2
          },
          "yaxis": {
           "automargin": true,
           "gridcolor": "white",
           "linecolor": "white",
           "ticks": "",
           "title": {
            "standoff": 15
           },
           "zerolinecolor": "white",
           "zerolinewidth": 2
          }
         }
        },
        "xaxis": {
         "linecolor": "#BCCCDC",
         "mirror": true,
         "showgrid": true,
         "title": {
          "text": "observed_mut_Nov2020"
         }
        },
        "yaxis": {
         "linecolor": "#BCCCDC",
         "mirror": true,
         "showgrid": true,
         "title": {
          "text": "IEDB - Response Frequency"
         }
        }
       }
      },
      "text/html": [
       "<div>                            <div id=\"070a9ea4-0ce9-4d31-81a1-66aa7556b3fa\" class=\"plotly-graph-div\" style=\"height:525px; width:100%;\"></div>            <script type=\"text/javascript\">                require([\"plotly\"], function(Plotly) {                    window.PLOTLYENV=window.PLOTLYENV || {};                                    if (document.getElementById(\"070a9ea4-0ce9-4d31-81a1-66aa7556b3fa\")) {                    Plotly.newPlot(                        \"070a9ea4-0ce9-4d31-81a1-66aa7556b3fa\",                        [{\"marker\": {\"color\": \"#5D69B1\", \"size\": [20.0, 20.0, 20.0, 20.0, 20.0, 14.285714285714285, 16.666666666666668, 12.499999999999998, 12.5, 16.666666666666664, 14.285714285714286, 16.666666666666668, 11.11111111111111, 14.285714285714285, 16.666666666666668, 9.090909090909092, 9.090909090909092, 6.666666666666666, 6.666666666666666, 7.142857142857142, 7.14285714285714, 7.14285714285714, 6.666666666666666, 6.666666666666666, 7.142857142857142, 6.666666666666668, 6.666666666666666, 7.142857142857142, 7.692307692307689, 7.692307692307689, 7.142857142857145, 6.249999999999999, 6.666666666666666, 5.882352941176471, 6.666666666666668, 10.000000000000002, 10.000000000000002, 10.0, 11.111111111111109, 10.0, 12.5, 10.000000000000002, 11.11111111111111, 9.090909090909092, 11.11111111111111, 16.666666666666668, 16.666666666666668, 16.666666666666668, 16.666666666666668, 16.666666666666668, 16.666666666666668, 14.285714285714285, 14.285714285714285, 16.666666666666668, 14.28571428571428, 14.285714285714285, 12.499999999999998, 14.285714285714286, 16.666666666666668, 11.111111111111109, 14.285714285714285, 16.666666666666668, 14.285714285714285, 11.11111111111111, 14.285714285714285, 11.11111111111111, 11.11111111111111, 12.500000000000002, 11.111111111111114, 14.285714285714285, 14.285714285714286, 12.499999999999998, 11.11111111111111, 12.500000000000002, 12.500000000000002, 20.000000000000004, 20.000000000000004, 20.0, 14.285714285714286, 16.666666666666668, 16.666666666666668, 16.666666666666668, 25.000000000000004, 16.666666666666668, 16.666666666666668, 16.666666666666668, 20.0, 20.0, 16.666666666666668, 20.0, 16.666666666666664, 14.285714285714285, 16.666666666666668, 20.0, 20.0, 16.666666666666668, 14.28571428571429, 12.500000000000002, 16.666666666666664, 16.666666666666668, 14.285714285714285, 16.666666666666668, 20.0, 16.666666666666668, 14.285714285714285, 20.0, 14.28571428571429, 16.66666666666666, 19.999999999999993, 16.666666666666668, 16.666666666666664, 16.666666666666664, 20.0, 20.000000000000004, 20.000000000000004, 20.000000000000004, 16.666666666666664, 14.285714285714286, 14.285714285714286, 16.666666666666668, 14.285714285714286, 14.285714285714285, 16.666666666666668, 16.666666666666664, 12.500000000000002, 12.500000000000002, 11.11111111111111, 11.11111111111111, 12.500000000000002, 14.285714285714286, 14.285714285714285, 12.499999999999998, 14.285714285714285, 14.285714285714285, 14.285714285714295, 16.666666666666668, 14.285714285714285, 14.285714285714285, 16.666666666666668, 14.285714285714285, 14.285714285714285, 14.285714285714285, 14.285714285714295, 16.666666666666668, 14.285714285714285, 16.666666666666668, 12.499999999999998, 14.28571428571429, 16.666666666666668, 14.285714285714285, 14.285714285714285, 12.500000000000002, 12.499999999999998, 12.500000000000002, 16.666666666666664, 14.285714285714285, 12.500000000000002, 16.666666666666668, 16.666666666666668, 14.285714285714285, 16.666666666666668, 20.000000000000004, 16.666666666666668, 14.285714285714286, 16.666666666666668, 16.666666666666664, 14.285714285714286, 14.285714285714285, 12.500000000000002, 16.666666666666668, 14.285714285714285, 16.666666666666668, 20.0, 20.0, 20.0, 10.000000000000002, 9.090909090909092, 9.999999999999996]}, \"mode\": \"markers\", \"name\": \"\", \"text\": [\"wt: S349\", \"wt: V350\", \"wt: Y351\", \"wt: A352\", \"wt: W353\", \"wt: N354\", \"wt: R355\", \"wt: K356\", \"wt: R357\", \"wt: I358\", \"wt: S359\", \"wt: N360\", \"wt: C361\", \"wt: V362\", \"wt: A363\", \"wt: D364\", \"wt: Y365\", \"wt: S366\", \"wt: V367\", \"wt: L368\", \"wt: Y369\", \"wt: N370\", \"wt: S371\", \"wt: A372\", \"wt: S373\", \"wt: F374\", \"wt: S375\", \"wt: T376\", \"wt: F377\", \"wt: K378\", \"wt: C379\", \"wt: Y380\", \"wt: G381\", \"wt: V382\", \"wt: S383\", \"wt: P384\", \"wt: T385\", \"wt: K386\", \"wt: L387\", \"wt: N388\", \"wt: D389\", \"wt: L390\", \"wt: C391\", \"wt: F392\", \"wt: T393\", \"wt: N394\", \"wt: V395\", \"wt: Y396\", \"wt: A397\", \"wt: D398\", \"wt: S399\", \"wt: F400\", \"wt: V401\", \"wt: I402\", \"wt: R403\", \"wt: G404\", \"wt: D405\", \"wt: E406\", \"wt: V407\", \"wt: R408\", \"wt: Q409\", \"wt: I410\", \"wt: A411\", \"wt: P412\", \"wt: G413\", \"wt: Q414\", \"wt: T415\", \"wt: G416\", \"wt: K417\", \"wt: I418\", \"wt: A419\", \"wt: D420\", \"wt: Y421\", \"wt: N422\", \"wt: Y423\", \"wt: K424\", \"wt: L425\", \"wt: P426\", \"wt: D427\", \"wt: D428\", \"wt: F429\", \"wt: T430\", \"wt: G431\", \"wt: C432\", \"wt: V433\", \"wt: I434\", \"wt: A435\", \"wt: W436\", \"wt: N437\", \"wt: S438\", \"wt: N439\", \"wt: N440\", \"wt: L441\", \"wt: D442\", \"wt: S443\", \"wt: K444\", \"wt: V445\", \"wt: G446\", \"wt: G447\", \"wt: N448\", \"wt: Y449\", \"wt: N450\", \"wt: Y451\", \"wt: L452\", \"wt: Y453\", \"wt: R454\", \"wt: L455\", \"wt: F456\", \"wt: R457\", \"wt: K458\", \"wt: S459\", \"wt: N460\", \"wt: L461\", \"wt: K462\", \"wt: P463\", \"wt: F464\", \"wt: E465\", \"wt: R466\", \"wt: D467\", \"wt: I468\", \"wt: S469\", \"wt: T470\", \"wt: E471\", \"wt: I472\", \"wt: Y473\", \"wt: Q474\", \"wt: A475\", \"wt: G476\", \"wt: S477\", \"wt: T478\", \"wt: P479\", \"wt: C480\", \"wt: N481\", \"wt: G482\", \"wt: V483\", \"wt: E484\", \"wt: G485\", \"wt: F486\", \"wt: N487\", \"wt: C488\", \"wt: Y489\", \"wt: F490\", \"wt: P491\", \"wt: L492\", \"wt: Q493\", \"wt: S494\", \"wt: Y495\", \"wt: G496\", \"wt: F497\", \"wt: Q498\", \"wt: P499\", \"wt: T500\", \"wt: N501\", \"wt: G502\", \"wt: V503\", \"wt: G504\", \"wt: Y505\", \"wt: Q506\", \"wt: P507\", \"wt: Y508\", \"wt: R509\", \"wt: V510\", \"wt: V511\", \"wt: V512\", \"wt: L513\", \"wt: S514\", \"wt: F515\", \"wt: E516\", \"wt: L517\", \"wt: L518\", \"wt: H519\", \"wt: A520\", \"wt: P521\", \"wt: A522\", \"wt: T523\", \"wt: V524\", \"wt: C525\", \"wt: G526\"], \"textfont\": {\"color\": \"#E58606\"}, \"textposition\": \"top right\", \"type\": \"scattergl\", \"uid\": \"ae341a9e-b2bb-43f8-91f2-a9ae69bc0435\", \"x\": [0.0, 0.0, 1.0, 3.0, 4.0, 14.0, 1.0, 4.0, 6.0, 4.0, 7.0, 1.0, 4.0, 1.0, 0.0, 1.0, 2.0, 2.0, 20.0, 3.0, 3.0, 5.0, 5.0, 2.0, 8.0, 1.0, 3.0, 4.0, 2.0, 4.0, 0.0, 3.0, 2.0, 8.0, 0.0, 15.0, 8.0, 0.0, 0.0, 2.0, 2.0, 4.0, 0.0, 0.0, 2.0, 2.0, 3.0, 3.0, 0.0, 1.0, 2.0, 0.0, 2.0, 7.0, 7.0, 5.0, 2.0, 3.0, 7.0, 10.0, 2.0, 3.0, 10.0, 2.0, 7.0, 8.0, 4.0, 0.0, 2.0, 0.0, 4.0, 0.0, 0.0, 0.0, 0.0, 1.0, 1.0, 2.0, 11.0, 1.0, 0.0, 2.0, 3.0, 1.0, 2.0, 3.0, 2.0, 2.0, 2.0, 2.0, 11.0, 9.0, 2.0, 0.0, 2.0, 9.0, 2.0, 12.0, 0.0, 2.0, 1.0, 3.0, 3.0, 12.0, 13.0, 1.0, 9.0, 1.0, 4.0, 2.0, 4.0, 4.0, 2.0, 5.0, 5.0, 2.0, 2.0, 1.0, 4.0, 5.0, 2.0, 6.0, 7.0, 4.0, 1.0, 0.0, 4.0, 6.0, 54.0, 13.0, 8.0, 2.0, 4.0, 5.0, 11.0, 14.0, 7.0, 4.0, 4.0, 2.0, 2.0, 9.0, 2.0, 0.0, 8.0, 9.0, 2.0, 1.0, 0.0, 3.0, 11.0, 4.0, 13.0, 2.0, 4.0, 1.0, 4.0, 7.0, 2.0, 6.0, 3.0, 4.0, 7.0, 7.0, 2.0, 6.0, 0.0, 6.0, 6.0, 4.0, 7.0, 9.0, 17.0, 23.0, 1.0, 1.0, 4.0, 0.0], \"y\": [0.0735632183908046, 0.06928406466512703, 0.08333333333333333, 0.06921241050119331, 0.06474820143884892, 0.09246575342465753, 0.08620689655172414, 0.1536050156739812, 0.14689265536723164, 0.062295081967213124, 0.13953488372093026, 0.0728744939271255, 0.16783216783216784, 0.07024793388429752, 0.07407407407407407, 0.12295081967213115, 0.14814814814814814, 0.1743119266055046, 0.1743119266055046, 0.18181818181818185, 0.4784688995215311, 0.4795918367346938, 0.36774193548387096, 0.36774193548387096, 0.17592592592592593, 0.39130434782608703, 0.3717948717948718, 0.3772455089820359, 0.4841628959276018, 0.4761904761904762, 0.526595744680851, 0.4444444444444444, 0.3741935483870968, 0.4117647058823529, 0.5136612021857924, 0.31446540880503143, 0.3180327868852459, 0.25675675675675674, 0.11739130434782608, 0.21978021978021975, 0.11353711790393012, 0.2419928825622776, 0.11004784688995216, 0.24031007751937986, 0.11004784688995216, 0.0856269113149847, 0.0856269113149847, 0.08609271523178808, 0.08609271523178808, 0.08609271523178808, 0.08609271523178808, 0.08881578947368421, 0.0891089108910891, 0.07629427792915533, 0.2427616926503341, 0.05687203791469194, 0.12334801762114538, 0.07692307692307693, 0.07296137339055794, 0.22018348623853207, 0.0925925925925926, 0.08239700374531835, 0.09302325581395347, 0.19471947194719472, 0.1, 0.2616279069767442, 0.17832167832167833, 0.17525773195876287, 0.31554524361948955, 0.09824561403508772, 0.11072664359861592, 0.18670886075949367, 0.19407894736842105, 0.10583941605839416, 0.10583941605839416, 0.09071274298056156, 0.09207708779443256, 0.06683168316831684, 0.1419068736141907, 0.14757709251101322, 0.1456953642384106, 0.1456953642384106, 0.06601466992665038, 0.07536231884057971, 0.07803468208092486, 0.0539568345323741, 0.057347670250896064, 0.046263345195729534, 0.056338028169014086, 0.04964539007092199, 0.06535947712418301, 0.0990990990990991, 0.145124716553288, 0.06887755102040816, 0.07360406091370557, 0.12688172043010754, 0.17586912065439672, 0.2583892617449665, 0.10444444444444444, 0.11967545638945233, 0.2893890675241157, 0.15939278937381404, 0.09819639278557114, 0.1601489757914339, 0.22086956521739126, 0.10436432637571158, 0.2507936507936508, 0.23747980613893374, 0.1423290203327172, 0.14391143911439114, 0.10638297872340426, 0.13644859813084112, 0.08333333333333333, 0.09054325955734406, 0.09409190371991248, 0.09482758620689656, 0.105, 0.11049723756906077, 0.1132596685082873, 0.11666666666666667, 0.1092436974789916, 0.15384615384615385, 0.1278772378516624, 0.13670886075949368, 0.1796875, 0.1357615894039735, 0.20909090909090908, 0.1929260450160772, 0.17737003058103976, 0.10915492957746477, 0.0971223021582734, 0.359375, 0.3654618473895582, 0.368, 0.3779527559055118, 0.4484978540772532, 0.3866837387964149, 0.3960880195599022, 0.3787878787878788, 0.3234880450070324, 0.3836104513064133, 0.3960396039603961, 0.3163841807909605, 0.33969986357435195, 0.4019728729963009, 0.3702380952380953, 0.2196652719665272, 0.20518358531317496, 0.09706546275395034, 0.22174840085287847, 0.19389978213507625, 0.20905172413793105, 0.3382084095063985, 0.2488986784140969, 0.109375, 0.13043478260869565, 0.26814516129032256, 0.12839506172839507, 0.12623762376237624, 0.13267813267813267, 0.11528822055137845, 0.09020618556701032, 0.11458333333333333, 0.11286089238845146, 0.1243523316062176, 0.13636363636363635, 0.13861386138613865, 0.13297872340425532, 0.19617224880382772, 0.11653116531165313, 0.1005586592178771, 0.08522727272727272, 0.06948640483383686, 0.06948640483383686, 0.06948640483383686, 0.3202416918429003, 0.33554817275747506, 0.33881578947368424]}, {\"marker\": {\"color\": \"red\", \"size\": [11.111111111111114, 16.666666666666668, 12.500000000000002, 14.285714285714295, 16.666666666666668, 12.499999999999998]}, \"mode\": \"markers\", \"showlegend\": false, \"text\": [\"wt: K417\", \"wt: L452\", \"wt: S477\", \"wt: V483\", \"wt: E484\", \"wt: N501\"], \"textfont\": {\"color\": \"#E58606\"}, \"textposition\": \"top right\", \"type\": \"scattergl\", \"uid\": \"29d4a597-d6d1-488c-bf5d-36ecce445967\", \"x\": [2.0, 12.0, 54.0, 11.0, 14.0, 13.0], \"y\": [0.31554524361948955, 0.1601489757914339, 0.17737003058103976, 0.3779527559055118, 0.4484978540772532, 0.3382084095063985]}],                        {\"legend\": {\"itemclick\": \"toggleothers\", \"itemdoubleclick\": \"toggle\"}, \"margin\": {\"b\": 20, \"l\": 20, \"r\": 20, \"t\": 20}, \"plot_bgcolor\": \"#FFF\", \"template\": {\"data\": {\"bar\": [{\"error_x\": {\"color\": \"#2a3f5f\"}, \"error_y\": {\"color\": \"#2a3f5f\"}, \"marker\": {\"line\": {\"color\": \"#E5ECF6\", \"width\": 0.5}}, \"type\": \"bar\"}], \"barpolar\": [{\"marker\": {\"line\": {\"color\": \"#E5ECF6\", \"width\": 0.5}}, \"type\": \"barpolar\"}], \"carpet\": [{\"aaxis\": {\"endlinecolor\": \"#2a3f5f\", \"gridcolor\": \"white\", \"linecolor\": \"white\", \"minorgridcolor\": \"white\", \"startlinecolor\": \"#2a3f5f\"}, \"baxis\": {\"endlinecolor\": \"#2a3f5f\", \"gridcolor\": \"white\", \"linecolor\": \"white\", \"minorgridcolor\": \"white\", \"startlinecolor\": \"#2a3f5f\"}, \"type\": \"carpet\"}], \"choropleth\": [{\"colorbar\": {\"outlinewidth\": 0, \"ticks\": \"\"}, \"type\": \"choropleth\"}], \"contour\": [{\"colorbar\": {\"outlinewidth\": 0, \"ticks\": \"\"}, \"colorscale\": [[0.0, \"#0d0887\"], [0.1111111111111111, \"#46039f\"], [0.2222222222222222, \"#7201a8\"], [0.3333333333333333, \"#9c179e\"], [0.4444444444444444, \"#bd3786\"], [0.5555555555555556, \"#d8576b\"], [0.6666666666666666, \"#ed7953\"], [0.7777777777777778, \"#fb9f3a\"], [0.8888888888888888, \"#fdca26\"], [1.0, \"#f0f921\"]], \"type\": \"contour\"}], \"contourcarpet\": [{\"colorbar\": {\"outlinewidth\": 0, \"ticks\": \"\"}, \"type\": \"contourcarpet\"}], \"heatmap\": [{\"colorbar\": {\"outlinewidth\": 0, \"ticks\": \"\"}, \"colorscale\": [[0.0, \"#0d0887\"], [0.1111111111111111, \"#46039f\"], [0.2222222222222222, \"#7201a8\"], [0.3333333333333333, \"#9c179e\"], [0.4444444444444444, \"#bd3786\"], [0.5555555555555556, \"#d8576b\"], [0.6666666666666666, \"#ed7953\"], [0.7777777777777778, \"#fb9f3a\"], [0.8888888888888888, \"#fdca26\"], [1.0, \"#f0f921\"]], \"type\": \"heatmap\"}], \"heatmapgl\": [{\"colorbar\": {\"outlinewidth\": 0, \"ticks\": \"\"}, \"colorscale\": [[0.0, \"#0d0887\"], [0.1111111111111111, \"#46039f\"], [0.2222222222222222, \"#7201a8\"], [0.3333333333333333, \"#9c179e\"], [0.4444444444444444, \"#bd3786\"], [0.5555555555555556, \"#d8576b\"], [0.6666666666666666, \"#ed7953\"], [0.7777777777777778, \"#fb9f3a\"], [0.8888888888888888, \"#fdca26\"], [1.0, \"#f0f921\"]], \"type\": \"heatmapgl\"}], \"histogram\": [{\"marker\": {\"colorbar\": {\"outlinewidth\": 0, \"ticks\": \"\"}}, \"type\": \"histogram\"}], \"histogram2d\": [{\"colorbar\": {\"outlinewidth\": 0, \"ticks\": \"\"}, \"colorscale\": [[0.0, \"#0d0887\"], [0.1111111111111111, \"#46039f\"], [0.2222222222222222, \"#7201a8\"], [0.3333333333333333, \"#9c179e\"], [0.4444444444444444, \"#bd3786\"], [0.5555555555555556, \"#d8576b\"], [0.6666666666666666, \"#ed7953\"], [0.7777777777777778, \"#fb9f3a\"], [0.8888888888888888, \"#fdca26\"], [1.0, \"#f0f921\"]], \"type\": \"histogram2d\"}], \"histogram2dcontour\": [{\"colorbar\": {\"outlinewidth\": 0, \"ticks\": \"\"}, \"colorscale\": [[0.0, \"#0d0887\"], [0.1111111111111111, \"#46039f\"], [0.2222222222222222, \"#7201a8\"], [0.3333333333333333, \"#9c179e\"], [0.4444444444444444, \"#bd3786\"], [0.5555555555555556, \"#d8576b\"], [0.6666666666666666, \"#ed7953\"], [0.7777777777777778, \"#fb9f3a\"], [0.8888888888888888, \"#fdca26\"], [1.0, \"#f0f921\"]], \"type\": \"histogram2dcontour\"}], \"mesh3d\": [{\"colorbar\": {\"outlinewidth\": 0, \"ticks\": \"\"}, \"type\": \"mesh3d\"}], \"parcoords\": [{\"line\": {\"colorbar\": {\"outlinewidth\": 0, \"ticks\": \"\"}}, \"type\": \"parcoords\"}], \"pie\": [{\"automargin\": true, \"type\": \"pie\"}], \"scatter\": [{\"marker\": {\"colorbar\": {\"outlinewidth\": 0, \"ticks\": \"\"}}, \"type\": \"scatter\"}], \"scatter3d\": [{\"line\": {\"colorbar\": {\"outlinewidth\": 0, \"ticks\": \"\"}}, \"marker\": {\"colorbar\": {\"outlinewidth\": 0, \"ticks\": \"\"}}, \"type\": \"scatter3d\"}], \"scattercarpet\": [{\"marker\": {\"colorbar\": {\"outlinewidth\": 0, \"ticks\": \"\"}}, \"type\": \"scattercarpet\"}], \"scattergeo\": [{\"marker\": {\"colorbar\": {\"outlinewidth\": 0, \"ticks\": \"\"}}, \"type\": \"scattergeo\"}], \"scattergl\": [{\"marker\": {\"colorbar\": {\"outlinewidth\": 0, \"ticks\": \"\"}}, \"type\": \"scattergl\"}], \"scattermapbox\": [{\"marker\": {\"colorbar\": {\"outlinewidth\": 0, \"ticks\": \"\"}}, \"type\": \"scattermapbox\"}], \"scatterpolar\": [{\"marker\": {\"colorbar\": {\"outlinewidth\": 0, \"ticks\": \"\"}}, \"type\": \"scatterpolar\"}], \"scatterpolargl\": [{\"marker\": {\"colorbar\": {\"outlinewidth\": 0, \"ticks\": \"\"}}, \"type\": \"scatterpolargl\"}], \"scatterternary\": [{\"marker\": {\"colorbar\": {\"outlinewidth\": 0, \"ticks\": \"\"}}, \"type\": \"scatterternary\"}], \"surface\": [{\"colorbar\": {\"outlinewidth\": 0, \"ticks\": \"\"}, \"colorscale\": [[0.0, \"#0d0887\"], [0.1111111111111111, \"#46039f\"], [0.2222222222222222, \"#7201a8\"], [0.3333333333333333, \"#9c179e\"], [0.4444444444444444, \"#bd3786\"], [0.5555555555555556, \"#d8576b\"], [0.6666666666666666, \"#ed7953\"], [0.7777777777777778, \"#fb9f3a\"], [0.8888888888888888, \"#fdca26\"], [1.0, \"#f0f921\"]], \"type\": \"surface\"}], \"table\": [{\"cells\": {\"fill\": {\"color\": \"#EBF0F8\"}, \"line\": {\"color\": \"white\"}}, \"header\": {\"fill\": {\"color\": \"#C8D4E3\"}, \"line\": {\"color\": \"white\"}}, \"type\": \"table\"}]}, \"layout\": {\"annotationdefaults\": {\"arrowcolor\": \"#2a3f5f\", \"arrowhead\": 0, \"arrowwidth\": 1}, \"autotypenumbers\": \"strict\", \"coloraxis\": {\"colorbar\": {\"outlinewidth\": 0, \"ticks\": \"\"}}, \"colorscale\": {\"diverging\": [[0, \"#8e0152\"], [0.1, \"#c51b7d\"], [0.2, \"#de77ae\"], [0.3, \"#f1b6da\"], [0.4, \"#fde0ef\"], [0.5, \"#f7f7f7\"], [0.6, \"#e6f5d0\"], [0.7, \"#b8e186\"], [0.8, \"#7fbc41\"], [0.9, \"#4d9221\"], [1, \"#276419\"]], \"sequential\": [[0.0, \"#0d0887\"], [0.1111111111111111, \"#46039f\"], [0.2222222222222222, \"#7201a8\"], [0.3333333333333333, \"#9c179e\"], [0.4444444444444444, \"#bd3786\"], [0.5555555555555556, \"#d8576b\"], [0.6666666666666666, \"#ed7953\"], [0.7777777777777778, \"#fb9f3a\"], [0.8888888888888888, \"#fdca26\"], [1.0, \"#f0f921\"]], \"sequentialminus\": [[0.0, \"#0d0887\"], [0.1111111111111111, \"#46039f\"], [0.2222222222222222, \"#7201a8\"], [0.3333333333333333, \"#9c179e\"], [0.4444444444444444, \"#bd3786\"], [0.5555555555555556, \"#d8576b\"], [0.6666666666666666, \"#ed7953\"], [0.7777777777777778, \"#fb9f3a\"], [0.8888888888888888, \"#fdca26\"], [1.0, \"#f0f921\"]]}, \"colorway\": [\"#636efa\", \"#EF553B\", \"#00cc96\", \"#ab63fa\", \"#FFA15A\", \"#19d3f3\", \"#FF6692\", \"#B6E880\", \"#FF97FF\", \"#FECB52\"], \"font\": {\"color\": \"#2a3f5f\"}, \"geo\": {\"bgcolor\": \"white\", \"lakecolor\": \"white\", \"landcolor\": \"#E5ECF6\", \"showlakes\": true, \"showland\": true, \"subunitcolor\": \"white\"}, \"hoverlabel\": {\"align\": \"left\"}, \"hovermode\": \"closest\", \"mapbox\": {\"style\": \"light\"}, \"paper_bgcolor\": \"white\", \"plot_bgcolor\": \"#E5ECF6\", \"polar\": {\"angularaxis\": {\"gridcolor\": \"white\", \"linecolor\": \"white\", \"ticks\": \"\"}, \"bgcolor\": \"#E5ECF6\", \"radialaxis\": {\"gridcolor\": \"white\", \"linecolor\": \"white\", \"ticks\": \"\"}}, \"scene\": {\"xaxis\": {\"backgroundcolor\": \"#E5ECF6\", \"gridcolor\": \"white\", \"gridwidth\": 2, \"linecolor\": \"white\", \"showbackground\": true, \"ticks\": \"\", \"zerolinecolor\": \"white\"}, \"yaxis\": {\"backgroundcolor\": \"#E5ECF6\", \"gridcolor\": \"white\", \"gridwidth\": 2, \"linecolor\": \"white\", \"showbackground\": true, \"ticks\": \"\", \"zerolinecolor\": \"white\"}, \"zaxis\": {\"backgroundcolor\": \"#E5ECF6\", \"gridcolor\": \"white\", \"gridwidth\": 2, \"linecolor\": \"white\", \"showbackground\": true, \"ticks\": \"\", \"zerolinecolor\": \"white\"}}, \"shapedefaults\": {\"line\": {\"color\": \"#2a3f5f\"}}, \"ternary\": {\"aaxis\": {\"gridcolor\": \"white\", \"linecolor\": \"white\", \"ticks\": \"\"}, \"baxis\": {\"gridcolor\": \"white\", \"linecolor\": \"white\", \"ticks\": \"\"}, \"bgcolor\": \"#E5ECF6\", \"caxis\": {\"gridcolor\": \"white\", \"linecolor\": \"white\", \"ticks\": \"\"}}, \"title\": {\"x\": 0.05}, \"xaxis\": {\"automargin\": true, \"gridcolor\": \"white\", \"linecolor\": \"white\", \"ticks\": \"\", \"title\": {\"standoff\": 15}, \"zerolinecolor\": \"white\", \"zerolinewidth\": 2}, \"yaxis\": {\"automargin\": true, \"gridcolor\": \"white\", \"linecolor\": \"white\", \"ticks\": \"\", \"title\": {\"standoff\": 15}, \"zerolinecolor\": \"white\", \"zerolinewidth\": 2}}}, \"xaxis\": {\"linecolor\": \"#BCCCDC\", \"mirror\": true, \"showgrid\": true, \"title\": {\"text\": \"observed_mut_Nov2020\"}}, \"yaxis\": {\"linecolor\": \"#BCCCDC\", \"mirror\": true, \"showgrid\": true, \"title\": {\"text\": \"IEDB - Response Frequency\"}}},                        {\"responsive\": true}                    ).then(function(){\n",
       "                            \n",
       "var gd = document.getElementById('070a9ea4-0ce9-4d31-81a1-66aa7556b3fa');\n",
       "var x = new MutationObserver(function (mutations, observer) {{\n",
       "        var display = window.getComputedStyle(gd).display;\n",
       "        if (!display || display === 'none') {{\n",
       "            console.log([gd, 'removed!']);\n",
       "            Plotly.purge(gd);\n",
       "            observer.disconnect();\n",
       "        }}\n",
       "}});\n",
       "\n",
       "// Listen for the removal of the full notebook cells\n",
       "var notebookContainer = gd.closest('#notebook-container');\n",
       "if (notebookContainer) {{\n",
       "    x.observe(notebookContainer, {childList: true});\n",
       "}}\n",
       "\n",
       "// Listen for the clearing of the current output cell\n",
       "var outputEl = gd.closest('.output');\n",
       "if (outputEl) {{\n",
       "    x.observe(outputEl, {childList: true});\n",
       "}}\n",
       "\n",
       "                        })                };                });            </script>        </div>"
      ]
     },
     "metadata": {},
     "output_type": "display_data"
    },
    {
     "data": {
      "application/vnd.plotly.v1+json": {
       "config": {
        "linkText": "Export to plot.ly",
        "plotlyServerURL": "https://plot.ly",
        "showLink": false
       },
       "data": [
        {
         "marker": {
          "color": "#5D69B1",
          "size": [
           20,
           20,
           20,
           20,
           20,
           14.285714285714285,
           16.666666666666668,
           12.499999999999998,
           12.5,
           16.666666666666664,
           14.285714285714286,
           16.666666666666668,
           11.11111111111111,
           14.285714285714285,
           16.666666666666668,
           9.090909090909092,
           9.090909090909092,
           6.666666666666666,
           6.666666666666666,
           7.142857142857142,
           7.14285714285714,
           7.14285714285714,
           6.666666666666666,
           6.666666666666666,
           7.142857142857142,
           6.666666666666668,
           6.666666666666666,
           7.142857142857142,
           7.692307692307689,
           7.692307692307689,
           7.142857142857145,
           6.249999999999999,
           6.666666666666666,
           5.882352941176471,
           6.666666666666668,
           10.000000000000002,
           10.000000000000002,
           10,
           11.111111111111109,
           10,
           12.5,
           10.000000000000002,
           11.11111111111111,
           9.090909090909092,
           11.11111111111111,
           16.666666666666668,
           16.666666666666668,
           16.666666666666668,
           16.666666666666668,
           16.666666666666668,
           16.666666666666668,
           14.285714285714285,
           14.285714285714285,
           16.666666666666668,
           14.28571428571428,
           14.285714285714285,
           12.499999999999998,
           14.285714285714286,
           16.666666666666668,
           11.111111111111109,
           14.285714285714285,
           16.666666666666668,
           14.285714285714285,
           11.11111111111111,
           14.285714285714285,
           11.11111111111111,
           11.11111111111111,
           12.500000000000002,
           11.111111111111114,
           14.285714285714285,
           14.285714285714286,
           12.499999999999998,
           11.11111111111111,
           12.500000000000002,
           12.500000000000002,
           20.000000000000004,
           20.000000000000004,
           20,
           14.285714285714286,
           16.666666666666668,
           16.666666666666668,
           16.666666666666668,
           25.000000000000004,
           16.666666666666668,
           16.666666666666668,
           16.666666666666668,
           20,
           20,
           16.666666666666668,
           20,
           16.666666666666664,
           14.285714285714285,
           16.666666666666668,
           20,
           20,
           16.666666666666668,
           14.28571428571429,
           12.500000000000002,
           16.666666666666664,
           16.666666666666668,
           14.285714285714285,
           16.666666666666668,
           20,
           16.666666666666668,
           14.285714285714285,
           20,
           14.28571428571429,
           16.66666666666666,
           19.999999999999993,
           16.666666666666668,
           16.666666666666664,
           16.666666666666664,
           20,
           20.000000000000004,
           20.000000000000004,
           20.000000000000004,
           16.666666666666664,
           14.285714285714286,
           14.285714285714286,
           16.666666666666668,
           14.285714285714286,
           14.285714285714285,
           16.666666666666668,
           16.666666666666664,
           12.500000000000002,
           12.500000000000002,
           11.11111111111111,
           11.11111111111111,
           12.500000000000002,
           14.285714285714286,
           14.285714285714285,
           12.499999999999998,
           14.285714285714285,
           14.285714285714285,
           14.285714285714295,
           16.666666666666668,
           14.285714285714285,
           14.285714285714285,
           16.666666666666668,
           14.285714285714285,
           14.285714285714285,
           14.285714285714285,
           14.285714285714295,
           16.666666666666668,
           14.285714285714285,
           16.666666666666668,
           12.499999999999998,
           14.28571428571429,
           16.666666666666668,
           14.285714285714285,
           14.285714285714285,
           12.500000000000002,
           12.499999999999998,
           12.500000000000002,
           16.666666666666664,
           14.285714285714285,
           12.500000000000002,
           16.666666666666668,
           16.666666666666668,
           14.285714285714285,
           16.666666666666668,
           20.000000000000004,
           16.666666666666668,
           14.285714285714286,
           16.666666666666668,
           16.666666666666664,
           14.285714285714286,
           14.285714285714285,
           12.500000000000002,
           16.666666666666668,
           14.285714285714285,
           16.666666666666668,
           20,
           20,
           20,
           10.000000000000002,
           9.090909090909092,
           9.999999999999996
          ]
         },
         "mode": "markers",
         "name": "",
         "text": [
          "wt: S349",
          "wt: V350",
          "wt: Y351",
          "wt: A352",
          "wt: W353",
          "wt: N354",
          "wt: R355",
          "wt: K356",
          "wt: R357",
          "wt: I358",
          "wt: S359",
          "wt: N360",
          "wt: C361",
          "wt: V362",
          "wt: A363",
          "wt: D364",
          "wt: Y365",
          "wt: S366",
          "wt: V367",
          "wt: L368",
          "wt: Y369",
          "wt: N370",
          "wt: S371",
          "wt: A372",
          "wt: S373",
          "wt: F374",
          "wt: S375",
          "wt: T376",
          "wt: F377",
          "wt: K378",
          "wt: C379",
          "wt: Y380",
          "wt: G381",
          "wt: V382",
          "wt: S383",
          "wt: P384",
          "wt: T385",
          "wt: K386",
          "wt: L387",
          "wt: N388",
          "wt: D389",
          "wt: L390",
          "wt: C391",
          "wt: F392",
          "wt: T393",
          "wt: N394",
          "wt: V395",
          "wt: Y396",
          "wt: A397",
          "wt: D398",
          "wt: S399",
          "wt: F400",
          "wt: V401",
          "wt: I402",
          "wt: R403",
          "wt: G404",
          "wt: D405",
          "wt: E406",
          "wt: V407",
          "wt: R408",
          "wt: Q409",
          "wt: I410",
          "wt: A411",
          "wt: P412",
          "wt: G413",
          "wt: Q414",
          "wt: T415",
          "wt: G416",
          "wt: K417",
          "wt: I418",
          "wt: A419",
          "wt: D420",
          "wt: Y421",
          "wt: N422",
          "wt: Y423",
          "wt: K424",
          "wt: L425",
          "wt: P426",
          "wt: D427",
          "wt: D428",
          "wt: F429",
          "wt: T430",
          "wt: G431",
          "wt: C432",
          "wt: V433",
          "wt: I434",
          "wt: A435",
          "wt: W436",
          "wt: N437",
          "wt: S438",
          "wt: N439",
          "wt: N440",
          "wt: L441",
          "wt: D442",
          "wt: S443",
          "wt: K444",
          "wt: V445",
          "wt: G446",
          "wt: G447",
          "wt: N448",
          "wt: Y449",
          "wt: N450",
          "wt: Y451",
          "wt: L452",
          "wt: Y453",
          "wt: R454",
          "wt: L455",
          "wt: F456",
          "wt: R457",
          "wt: K458",
          "wt: S459",
          "wt: N460",
          "wt: L461",
          "wt: K462",
          "wt: P463",
          "wt: F464",
          "wt: E465",
          "wt: R466",
          "wt: D467",
          "wt: I468",
          "wt: S469",
          "wt: T470",
          "wt: E471",
          "wt: I472",
          "wt: Y473",
          "wt: Q474",
          "wt: A475",
          "wt: G476",
          "wt: S477",
          "wt: T478",
          "wt: P479",
          "wt: C480",
          "wt: N481",
          "wt: G482",
          "wt: V483",
          "wt: E484",
          "wt: G485",
          "wt: F486",
          "wt: N487",
          "wt: C488",
          "wt: Y489",
          "wt: F490",
          "wt: P491",
          "wt: L492",
          "wt: Q493",
          "wt: S494",
          "wt: Y495",
          "wt: G496",
          "wt: F497",
          "wt: Q498",
          "wt: P499",
          "wt: T500",
          "wt: N501",
          "wt: G502",
          "wt: V503",
          "wt: G504",
          "wt: Y505",
          "wt: Q506",
          "wt: P507",
          "wt: Y508",
          "wt: R509",
          "wt: V510",
          "wt: V511",
          "wt: V512",
          "wt: L513",
          "wt: S514",
          "wt: F515",
          "wt: E516",
          "wt: L517",
          "wt: L518",
          "wt: H519",
          "wt: A520",
          "wt: P521",
          "wt: A522",
          "wt: T523",
          "wt: V524",
          "wt: C525",
          "wt: G526"
         ],
         "textfont": {
          "color": "#E58606"
         },
         "textposition": "top right",
         "type": "scattergl",
         "uid": "578006cd-dd1a-42ac-86e6-0522a86d42b7",
         "x": [
          0,
          1,
          6,
          17,
          4,
          36,
          2,
          21,
          17,
          8,
          23,
          4,
          9,
          10,
          2,
          3,
          4,
          5,
          62,
          4,
          6,
          14,
          9,
          17,
          29,
          6,
          12,
          14,
          3,
          14,
          4,
          6,
          5,
          24,
          2,
          54,
          26,
          1,
          1,
          4,
          8,
          12,
          1,
          1,
          3,
          15,
          8,
          6,
          2,
          2,
          3,
          1,
          5,
          12,
          9,
          9,
          9,
          13,
          12,
          37,
          3,
          11,
          20,
          5,
          11,
          30,
          17,
          0,
          76,
          2,
          8,
          4,
          0,
          0,
          0,
          2,
          2,
          6,
          27,
          9,
          0,
          13,
          3,
          1,
          4,
          15,
          5,
          4,
          3,
          4,
          83,
          31,
          12,
          2,
          4,
          20,
          17,
          35,
          8,
          9,
          10,
          16,
          5,
          164,
          26,
          2,
          25,
          6,
          8,
          7,
          24,
          9,
          4,
          9,
          12,
          3,
          5,
          5,
          4,
          22,
          6,
          21,
          24,
          16,
          3,
          6,
          31,
          28,
          188,
          61,
          31,
          3,
          15,
          10,
          32,
          151,
          19,
          9,
          5,
          3,
          6,
          52,
          6,
          0,
          24,
          59,
          3,
          11,
          0,
          4,
          18,
          7,
          590,
          3,
          18,
          11,
          8,
          7,
          7,
          22,
          4,
          5,
          8,
          8,
          5,
          16,
          4,
          17,
          19,
          11,
          13,
          47,
          30,
          72,
          11,
          4,
          4,
          0
         ],
         "y": [
          0.0735632183908046,
          0.06928406466512703,
          0.08333333333333333,
          0.06921241050119331,
          0.06474820143884892,
          0.09246575342465753,
          0.08620689655172414,
          0.1536050156739812,
          0.14689265536723164,
          0.062295081967213124,
          0.13953488372093026,
          0.0728744939271255,
          0.16783216783216784,
          0.07024793388429752,
          0.07407407407407407,
          0.12295081967213115,
          0.14814814814814814,
          0.1743119266055046,
          0.1743119266055046,
          0.18181818181818185,
          0.4784688995215311,
          0.4795918367346938,
          0.36774193548387096,
          0.36774193548387096,
          0.17592592592592593,
          0.39130434782608703,
          0.3717948717948718,
          0.3772455089820359,
          0.4841628959276018,
          0.4761904761904762,
          0.526595744680851,
          0.4444444444444444,
          0.3741935483870968,
          0.4117647058823529,
          0.5136612021857924,
          0.31446540880503143,
          0.3180327868852459,
          0.25675675675675674,
          0.11739130434782608,
          0.21978021978021975,
          0.11353711790393012,
          0.2419928825622776,
          0.11004784688995216,
          0.24031007751937986,
          0.11004784688995216,
          0.0856269113149847,
          0.0856269113149847,
          0.08609271523178808,
          0.08609271523178808,
          0.08609271523178808,
          0.08609271523178808,
          0.08881578947368421,
          0.0891089108910891,
          0.07629427792915533,
          0.2427616926503341,
          0.05687203791469194,
          0.12334801762114538,
          0.07692307692307693,
          0.07296137339055794,
          0.22018348623853207,
          0.0925925925925926,
          0.08239700374531835,
          0.09302325581395347,
          0.19471947194719472,
          0.1,
          0.2616279069767442,
          0.17832167832167833,
          0.17525773195876287,
          0.31554524361948955,
          0.09824561403508772,
          0.11072664359861592,
          0.18670886075949367,
          0.19407894736842105,
          0.10583941605839416,
          0.10583941605839416,
          0.09071274298056156,
          0.09207708779443256,
          0.06683168316831684,
          0.1419068736141907,
          0.14757709251101322,
          0.1456953642384106,
          0.1456953642384106,
          0.06601466992665038,
          0.07536231884057971,
          0.07803468208092486,
          0.0539568345323741,
          0.057347670250896064,
          0.046263345195729534,
          0.056338028169014086,
          0.04964539007092199,
          0.06535947712418301,
          0.0990990990990991,
          0.145124716553288,
          0.06887755102040816,
          0.07360406091370557,
          0.12688172043010754,
          0.17586912065439672,
          0.2583892617449665,
          0.10444444444444444,
          0.11967545638945233,
          0.2893890675241157,
          0.15939278937381404,
          0.09819639278557114,
          0.1601489757914339,
          0.22086956521739126,
          0.10436432637571158,
          0.2507936507936508,
          0.23747980613893374,
          0.1423290203327172,
          0.14391143911439114,
          0.10638297872340426,
          0.13644859813084112,
          0.08333333333333333,
          0.09054325955734406,
          0.09409190371991248,
          0.09482758620689656,
          0.105,
          0.11049723756906077,
          0.1132596685082873,
          0.11666666666666667,
          0.1092436974789916,
          0.15384615384615385,
          0.1278772378516624,
          0.13670886075949368,
          0.1796875,
          0.1357615894039735,
          0.20909090909090908,
          0.1929260450160772,
          0.17737003058103976,
          0.10915492957746477,
          0.0971223021582734,
          0.359375,
          0.3654618473895582,
          0.368,
          0.3779527559055118,
          0.4484978540772532,
          0.3866837387964149,
          0.3960880195599022,
          0.3787878787878788,
          0.3234880450070324,
          0.3836104513064133,
          0.3960396039603961,
          0.3163841807909605,
          0.33969986357435195,
          0.4019728729963009,
          0.3702380952380953,
          0.2196652719665272,
          0.20518358531317496,
          0.09706546275395034,
          0.22174840085287847,
          0.19389978213507625,
          0.20905172413793105,
          0.3382084095063985,
          0.2488986784140969,
          0.109375,
          0.13043478260869565,
          0.26814516129032256,
          0.12839506172839507,
          0.12623762376237624,
          0.13267813267813267,
          0.11528822055137845,
          0.09020618556701032,
          0.11458333333333333,
          0.11286089238845146,
          0.1243523316062176,
          0.13636363636363635,
          0.13861386138613865,
          0.13297872340425532,
          0.19617224880382772,
          0.11653116531165313,
          0.1005586592178771,
          0.08522727272727272,
          0.06948640483383686,
          0.06948640483383686,
          0.06948640483383686,
          0.3202416918429003,
          0.33554817275747506,
          0.33881578947368424
         ]
        },
        {
         "marker": {
          "color": "red",
          "size": [
           11.111111111111114,
           16.666666666666668,
           12.500000000000002,
           14.285714285714295,
           16.666666666666668,
           12.499999999999998
          ]
         },
         "mode": "markers",
         "showlegend": false,
         "text": [
          "wt: K417",
          "wt: L452",
          "wt: S477",
          "wt: V483",
          "wt: E484",
          "wt: N501"
         ],
         "textfont": {
          "color": "#E58606"
         },
         "textposition": "top right",
         "type": "scattergl",
         "uid": "4f1cbb11-30f0-4005-a87e-8fe35eab0886",
         "x": [
          76,
          164,
          188,
          32,
          151,
          590
         ],
         "y": [
          0.31554524361948955,
          0.1601489757914339,
          0.17737003058103976,
          0.3779527559055118,
          0.4484978540772532,
          0.3382084095063985
         ]
        }
       ],
       "layout": {
        "legend": {
         "itemclick": "toggleothers",
         "itemdoubleclick": "toggle"
        },
        "margin": {
         "b": 20,
         "l": 20,
         "r": 20,
         "t": 20
        },
        "plot_bgcolor": "#FFF",
        "template": {
         "data": {
          "bar": [
           {
            "error_x": {
             "color": "#2a3f5f"
            },
            "error_y": {
             "color": "#2a3f5f"
            },
            "marker": {
             "line": {
              "color": "#E5ECF6",
              "width": 0.5
             }
            },
            "type": "bar"
           }
          ],
          "barpolar": [
           {
            "marker": {
             "line": {
              "color": "#E5ECF6",
              "width": 0.5
             }
            },
            "type": "barpolar"
           }
          ],
          "carpet": [
           {
            "aaxis": {
             "endlinecolor": "#2a3f5f",
             "gridcolor": "white",
             "linecolor": "white",
             "minorgridcolor": "white",
             "startlinecolor": "#2a3f5f"
            },
            "baxis": {
             "endlinecolor": "#2a3f5f",
             "gridcolor": "white",
             "linecolor": "white",
             "minorgridcolor": "white",
             "startlinecolor": "#2a3f5f"
            },
            "type": "carpet"
           }
          ],
          "choropleth": [
           {
            "colorbar": {
             "outlinewidth": 0,
             "ticks": ""
            },
            "type": "choropleth"
           }
          ],
          "contour": [
           {
            "colorbar": {
             "outlinewidth": 0,
             "ticks": ""
            },
            "colorscale": [
             [
              0,
              "#0d0887"
             ],
             [
              0.1111111111111111,
              "#46039f"
             ],
             [
              0.2222222222222222,
              "#7201a8"
             ],
             [
              0.3333333333333333,
              "#9c179e"
             ],
             [
              0.4444444444444444,
              "#bd3786"
             ],
             [
              0.5555555555555556,
              "#d8576b"
             ],
             [
              0.6666666666666666,
              "#ed7953"
             ],
             [
              0.7777777777777778,
              "#fb9f3a"
             ],
             [
              0.8888888888888888,
              "#fdca26"
             ],
             [
              1,
              "#f0f921"
             ]
            ],
            "type": "contour"
           }
          ],
          "contourcarpet": [
           {
            "colorbar": {
             "outlinewidth": 0,
             "ticks": ""
            },
            "type": "contourcarpet"
           }
          ],
          "heatmap": [
           {
            "colorbar": {
             "outlinewidth": 0,
             "ticks": ""
            },
            "colorscale": [
             [
              0,
              "#0d0887"
             ],
             [
              0.1111111111111111,
              "#46039f"
             ],
             [
              0.2222222222222222,
              "#7201a8"
             ],
             [
              0.3333333333333333,
              "#9c179e"
             ],
             [
              0.4444444444444444,
              "#bd3786"
             ],
             [
              0.5555555555555556,
              "#d8576b"
             ],
             [
              0.6666666666666666,
              "#ed7953"
             ],
             [
              0.7777777777777778,
              "#fb9f3a"
             ],
             [
              0.8888888888888888,
              "#fdca26"
             ],
             [
              1,
              "#f0f921"
             ]
            ],
            "type": "heatmap"
           }
          ],
          "heatmapgl": [
           {
            "colorbar": {
             "outlinewidth": 0,
             "ticks": ""
            },
            "colorscale": [
             [
              0,
              "#0d0887"
             ],
             [
              0.1111111111111111,
              "#46039f"
             ],
             [
              0.2222222222222222,
              "#7201a8"
             ],
             [
              0.3333333333333333,
              "#9c179e"
             ],
             [
              0.4444444444444444,
              "#bd3786"
             ],
             [
              0.5555555555555556,
              "#d8576b"
             ],
             [
              0.6666666666666666,
              "#ed7953"
             ],
             [
              0.7777777777777778,
              "#fb9f3a"
             ],
             [
              0.8888888888888888,
              "#fdca26"
             ],
             [
              1,
              "#f0f921"
             ]
            ],
            "type": "heatmapgl"
           }
          ],
          "histogram": [
           {
            "marker": {
             "colorbar": {
              "outlinewidth": 0,
              "ticks": ""
             }
            },
            "type": "histogram"
           }
          ],
          "histogram2d": [
           {
            "colorbar": {
             "outlinewidth": 0,
             "ticks": ""
            },
            "colorscale": [
             [
              0,
              "#0d0887"
             ],
             [
              0.1111111111111111,
              "#46039f"
             ],
             [
              0.2222222222222222,
              "#7201a8"
             ],
             [
              0.3333333333333333,
              "#9c179e"
             ],
             [
              0.4444444444444444,
              "#bd3786"
             ],
             [
              0.5555555555555556,
              "#d8576b"
             ],
             [
              0.6666666666666666,
              "#ed7953"
             ],
             [
              0.7777777777777778,
              "#fb9f3a"
             ],
             [
              0.8888888888888888,
              "#fdca26"
             ],
             [
              1,
              "#f0f921"
             ]
            ],
            "type": "histogram2d"
           }
          ],
          "histogram2dcontour": [
           {
            "colorbar": {
             "outlinewidth": 0,
             "ticks": ""
            },
            "colorscale": [
             [
              0,
              "#0d0887"
             ],
             [
              0.1111111111111111,
              "#46039f"
             ],
             [
              0.2222222222222222,
              "#7201a8"
             ],
             [
              0.3333333333333333,
              "#9c179e"
             ],
             [
              0.4444444444444444,
              "#bd3786"
             ],
             [
              0.5555555555555556,
              "#d8576b"
             ],
             [
              0.6666666666666666,
              "#ed7953"
             ],
             [
              0.7777777777777778,
              "#fb9f3a"
             ],
             [
              0.8888888888888888,
              "#fdca26"
             ],
             [
              1,
              "#f0f921"
             ]
            ],
            "type": "histogram2dcontour"
           }
          ],
          "mesh3d": [
           {
            "colorbar": {
             "outlinewidth": 0,
             "ticks": ""
            },
            "type": "mesh3d"
           }
          ],
          "parcoords": [
           {
            "line": {
             "colorbar": {
              "outlinewidth": 0,
              "ticks": ""
             }
            },
            "type": "parcoords"
           }
          ],
          "pie": [
           {
            "automargin": true,
            "type": "pie"
           }
          ],
          "scatter": [
           {
            "marker": {
             "colorbar": {
              "outlinewidth": 0,
              "ticks": ""
             }
            },
            "type": "scatter"
           }
          ],
          "scatter3d": [
           {
            "line": {
             "colorbar": {
              "outlinewidth": 0,
              "ticks": ""
             }
            },
            "marker": {
             "colorbar": {
              "outlinewidth": 0,
              "ticks": ""
             }
            },
            "type": "scatter3d"
           }
          ],
          "scattercarpet": [
           {
            "marker": {
             "colorbar": {
              "outlinewidth": 0,
              "ticks": ""
             }
            },
            "type": "scattercarpet"
           }
          ],
          "scattergeo": [
           {
            "marker": {
             "colorbar": {
              "outlinewidth": 0,
              "ticks": ""
             }
            },
            "type": "scattergeo"
           }
          ],
          "scattergl": [
           {
            "marker": {
             "colorbar": {
              "outlinewidth": 0,
              "ticks": ""
             }
            },
            "type": "scattergl"
           }
          ],
          "scattermapbox": [
           {
            "marker": {
             "colorbar": {
              "outlinewidth": 0,
              "ticks": ""
             }
            },
            "type": "scattermapbox"
           }
          ],
          "scatterpolar": [
           {
            "marker": {
             "colorbar": {
              "outlinewidth": 0,
              "ticks": ""
             }
            },
            "type": "scatterpolar"
           }
          ],
          "scatterpolargl": [
           {
            "marker": {
             "colorbar": {
              "outlinewidth": 0,
              "ticks": ""
             }
            },
            "type": "scatterpolargl"
           }
          ],
          "scatterternary": [
           {
            "marker": {
             "colorbar": {
              "outlinewidth": 0,
              "ticks": ""
             }
            },
            "type": "scatterternary"
           }
          ],
          "surface": [
           {
            "colorbar": {
             "outlinewidth": 0,
             "ticks": ""
            },
            "colorscale": [
             [
              0,
              "#0d0887"
             ],
             [
              0.1111111111111111,
              "#46039f"
             ],
             [
              0.2222222222222222,
              "#7201a8"
             ],
             [
              0.3333333333333333,
              "#9c179e"
             ],
             [
              0.4444444444444444,
              "#bd3786"
             ],
             [
              0.5555555555555556,
              "#d8576b"
             ],
             [
              0.6666666666666666,
              "#ed7953"
             ],
             [
              0.7777777777777778,
              "#fb9f3a"
             ],
             [
              0.8888888888888888,
              "#fdca26"
             ],
             [
              1,
              "#f0f921"
             ]
            ],
            "type": "surface"
           }
          ],
          "table": [
           {
            "cells": {
             "fill": {
              "color": "#EBF0F8"
             },
             "line": {
              "color": "white"
             }
            },
            "header": {
             "fill": {
              "color": "#C8D4E3"
             },
             "line": {
              "color": "white"
             }
            },
            "type": "table"
           }
          ]
         },
         "layout": {
          "annotationdefaults": {
           "arrowcolor": "#2a3f5f",
           "arrowhead": 0,
           "arrowwidth": 1
          },
          "autotypenumbers": "strict",
          "coloraxis": {
           "colorbar": {
            "outlinewidth": 0,
            "ticks": ""
           }
          },
          "colorscale": {
           "diverging": [
            [
             0,
             "#8e0152"
            ],
            [
             0.1,
             "#c51b7d"
            ],
            [
             0.2,
             "#de77ae"
            ],
            [
             0.3,
             "#f1b6da"
            ],
            [
             0.4,
             "#fde0ef"
            ],
            [
             0.5,
             "#f7f7f7"
            ],
            [
             0.6,
             "#e6f5d0"
            ],
            [
             0.7,
             "#b8e186"
            ],
            [
             0.8,
             "#7fbc41"
            ],
            [
             0.9,
             "#4d9221"
            ],
            [
             1,
             "#276419"
            ]
           ],
           "sequential": [
            [
             0,
             "#0d0887"
            ],
            [
             0.1111111111111111,
             "#46039f"
            ],
            [
             0.2222222222222222,
             "#7201a8"
            ],
            [
             0.3333333333333333,
             "#9c179e"
            ],
            [
             0.4444444444444444,
             "#bd3786"
            ],
            [
             0.5555555555555556,
             "#d8576b"
            ],
            [
             0.6666666666666666,
             "#ed7953"
            ],
            [
             0.7777777777777778,
             "#fb9f3a"
            ],
            [
             0.8888888888888888,
             "#fdca26"
            ],
            [
             1,
             "#f0f921"
            ]
           ],
           "sequentialminus": [
            [
             0,
             "#0d0887"
            ],
            [
             0.1111111111111111,
             "#46039f"
            ],
            [
             0.2222222222222222,
             "#7201a8"
            ],
            [
             0.3333333333333333,
             "#9c179e"
            ],
            [
             0.4444444444444444,
             "#bd3786"
            ],
            [
             0.5555555555555556,
             "#d8576b"
            ],
            [
             0.6666666666666666,
             "#ed7953"
            ],
            [
             0.7777777777777778,
             "#fb9f3a"
            ],
            [
             0.8888888888888888,
             "#fdca26"
            ],
            [
             1,
             "#f0f921"
            ]
           ]
          },
          "colorway": [
           "#636efa",
           "#EF553B",
           "#00cc96",
           "#ab63fa",
           "#FFA15A",
           "#19d3f3",
           "#FF6692",
           "#B6E880",
           "#FF97FF",
           "#FECB52"
          ],
          "font": {
           "color": "#2a3f5f"
          },
          "geo": {
           "bgcolor": "white",
           "lakecolor": "white",
           "landcolor": "#E5ECF6",
           "showlakes": true,
           "showland": true,
           "subunitcolor": "white"
          },
          "hoverlabel": {
           "align": "left"
          },
          "hovermode": "closest",
          "mapbox": {
           "style": "light"
          },
          "paper_bgcolor": "white",
          "plot_bgcolor": "#E5ECF6",
          "polar": {
           "angularaxis": {
            "gridcolor": "white",
            "linecolor": "white",
            "ticks": ""
           },
           "bgcolor": "#E5ECF6",
           "radialaxis": {
            "gridcolor": "white",
            "linecolor": "white",
            "ticks": ""
           }
          },
          "scene": {
           "xaxis": {
            "backgroundcolor": "#E5ECF6",
            "gridcolor": "white",
            "gridwidth": 2,
            "linecolor": "white",
            "showbackground": true,
            "ticks": "",
            "zerolinecolor": "white"
           },
           "yaxis": {
            "backgroundcolor": "#E5ECF6",
            "gridcolor": "white",
            "gridwidth": 2,
            "linecolor": "white",
            "showbackground": true,
            "ticks": "",
            "zerolinecolor": "white"
           },
           "zaxis": {
            "backgroundcolor": "#E5ECF6",
            "gridcolor": "white",
            "gridwidth": 2,
            "linecolor": "white",
            "showbackground": true,
            "ticks": "",
            "zerolinecolor": "white"
           }
          },
          "shapedefaults": {
           "line": {
            "color": "#2a3f5f"
           }
          },
          "ternary": {
           "aaxis": {
            "gridcolor": "white",
            "linecolor": "white",
            "ticks": ""
           },
           "baxis": {
            "gridcolor": "white",
            "linecolor": "white",
            "ticks": ""
           },
           "bgcolor": "#E5ECF6",
           "caxis": {
            "gridcolor": "white",
            "linecolor": "white",
            "ticks": ""
           }
          },
          "title": {
           "x": 0.05
          },
          "xaxis": {
           "automargin": true,
           "gridcolor": "white",
           "linecolor": "white",
           "ticks": "",
           "title": {
            "standoff": 15
           },
           "zerolinecolor": "white",
           "zerolinewidth": 2
          },
          "yaxis": {
           "automargin": true,
           "gridcolor": "white",
           "linecolor": "white",
           "ticks": "",
           "title": {
            "standoff": 15
           },
           "zerolinecolor": "white",
           "zerolinewidth": 2
          }
         }
        },
        "xaxis": {
         "linecolor": "#BCCCDC",
         "mirror": true,
         "showgrid": true,
         "title": {
          "text": "observed_mut_Mar2021"
         }
        },
        "yaxis": {
         "linecolor": "#BCCCDC",
         "mirror": true,
         "showgrid": true,
         "title": {
          "text": "IEDB - Response Frequency"
         }
        }
       }
      },
      "text/html": [
       "<div>                            <div id=\"81cf16ea-b5d5-4b2d-9c7a-4a15d1f1ca8e\" class=\"plotly-graph-div\" style=\"height:525px; width:100%;\"></div>            <script type=\"text/javascript\">                require([\"plotly\"], function(Plotly) {                    window.PLOTLYENV=window.PLOTLYENV || {};                                    if (document.getElementById(\"81cf16ea-b5d5-4b2d-9c7a-4a15d1f1ca8e\")) {                    Plotly.newPlot(                        \"81cf16ea-b5d5-4b2d-9c7a-4a15d1f1ca8e\",                        [{\"marker\": {\"color\": \"#5D69B1\", \"size\": [20.0, 20.0, 20.0, 20.0, 20.0, 14.285714285714285, 16.666666666666668, 12.499999999999998, 12.5, 16.666666666666664, 14.285714285714286, 16.666666666666668, 11.11111111111111, 14.285714285714285, 16.666666666666668, 9.090909090909092, 9.090909090909092, 6.666666666666666, 6.666666666666666, 7.142857142857142, 7.14285714285714, 7.14285714285714, 6.666666666666666, 6.666666666666666, 7.142857142857142, 6.666666666666668, 6.666666666666666, 7.142857142857142, 7.692307692307689, 7.692307692307689, 7.142857142857145, 6.249999999999999, 6.666666666666666, 5.882352941176471, 6.666666666666668, 10.000000000000002, 10.000000000000002, 10.0, 11.111111111111109, 10.0, 12.5, 10.000000000000002, 11.11111111111111, 9.090909090909092, 11.11111111111111, 16.666666666666668, 16.666666666666668, 16.666666666666668, 16.666666666666668, 16.666666666666668, 16.666666666666668, 14.285714285714285, 14.285714285714285, 16.666666666666668, 14.28571428571428, 14.285714285714285, 12.499999999999998, 14.285714285714286, 16.666666666666668, 11.111111111111109, 14.285714285714285, 16.666666666666668, 14.285714285714285, 11.11111111111111, 14.285714285714285, 11.11111111111111, 11.11111111111111, 12.500000000000002, 11.111111111111114, 14.285714285714285, 14.285714285714286, 12.499999999999998, 11.11111111111111, 12.500000000000002, 12.500000000000002, 20.000000000000004, 20.000000000000004, 20.0, 14.285714285714286, 16.666666666666668, 16.666666666666668, 16.666666666666668, 25.000000000000004, 16.666666666666668, 16.666666666666668, 16.666666666666668, 20.0, 20.0, 16.666666666666668, 20.0, 16.666666666666664, 14.285714285714285, 16.666666666666668, 20.0, 20.0, 16.666666666666668, 14.28571428571429, 12.500000000000002, 16.666666666666664, 16.666666666666668, 14.285714285714285, 16.666666666666668, 20.0, 16.666666666666668, 14.285714285714285, 20.0, 14.28571428571429, 16.66666666666666, 19.999999999999993, 16.666666666666668, 16.666666666666664, 16.666666666666664, 20.0, 20.000000000000004, 20.000000000000004, 20.000000000000004, 16.666666666666664, 14.285714285714286, 14.285714285714286, 16.666666666666668, 14.285714285714286, 14.285714285714285, 16.666666666666668, 16.666666666666664, 12.500000000000002, 12.500000000000002, 11.11111111111111, 11.11111111111111, 12.500000000000002, 14.285714285714286, 14.285714285714285, 12.499999999999998, 14.285714285714285, 14.285714285714285, 14.285714285714295, 16.666666666666668, 14.285714285714285, 14.285714285714285, 16.666666666666668, 14.285714285714285, 14.285714285714285, 14.285714285714285, 14.285714285714295, 16.666666666666668, 14.285714285714285, 16.666666666666668, 12.499999999999998, 14.28571428571429, 16.666666666666668, 14.285714285714285, 14.285714285714285, 12.500000000000002, 12.499999999999998, 12.500000000000002, 16.666666666666664, 14.285714285714285, 12.500000000000002, 16.666666666666668, 16.666666666666668, 14.285714285714285, 16.666666666666668, 20.000000000000004, 16.666666666666668, 14.285714285714286, 16.666666666666668, 16.666666666666664, 14.285714285714286, 14.285714285714285, 12.500000000000002, 16.666666666666668, 14.285714285714285, 16.666666666666668, 20.0, 20.0, 20.0, 10.000000000000002, 9.090909090909092, 9.999999999999996]}, \"mode\": \"markers\", \"name\": \"\", \"text\": [\"wt: S349\", \"wt: V350\", \"wt: Y351\", \"wt: A352\", \"wt: W353\", \"wt: N354\", \"wt: R355\", \"wt: K356\", \"wt: R357\", \"wt: I358\", \"wt: S359\", \"wt: N360\", \"wt: C361\", \"wt: V362\", \"wt: A363\", \"wt: D364\", \"wt: Y365\", \"wt: S366\", \"wt: V367\", \"wt: L368\", \"wt: Y369\", \"wt: N370\", \"wt: S371\", \"wt: A372\", \"wt: S373\", \"wt: F374\", \"wt: S375\", \"wt: T376\", \"wt: F377\", \"wt: K378\", \"wt: C379\", \"wt: Y380\", \"wt: G381\", \"wt: V382\", \"wt: S383\", \"wt: P384\", \"wt: T385\", \"wt: K386\", \"wt: L387\", \"wt: N388\", \"wt: D389\", \"wt: L390\", \"wt: C391\", \"wt: F392\", \"wt: T393\", \"wt: N394\", \"wt: V395\", \"wt: Y396\", \"wt: A397\", \"wt: D398\", \"wt: S399\", \"wt: F400\", \"wt: V401\", \"wt: I402\", \"wt: R403\", \"wt: G404\", \"wt: D405\", \"wt: E406\", \"wt: V407\", \"wt: R408\", \"wt: Q409\", \"wt: I410\", \"wt: A411\", \"wt: P412\", \"wt: G413\", \"wt: Q414\", \"wt: T415\", \"wt: G416\", \"wt: K417\", \"wt: I418\", \"wt: A419\", \"wt: D420\", \"wt: Y421\", \"wt: N422\", \"wt: Y423\", \"wt: K424\", \"wt: L425\", \"wt: P426\", \"wt: D427\", \"wt: D428\", \"wt: F429\", \"wt: T430\", \"wt: G431\", \"wt: C432\", \"wt: V433\", \"wt: I434\", \"wt: A435\", \"wt: W436\", \"wt: N437\", \"wt: S438\", \"wt: N439\", \"wt: N440\", \"wt: L441\", \"wt: D442\", \"wt: S443\", \"wt: K444\", \"wt: V445\", \"wt: G446\", \"wt: G447\", \"wt: N448\", \"wt: Y449\", \"wt: N450\", \"wt: Y451\", \"wt: L452\", \"wt: Y453\", \"wt: R454\", \"wt: L455\", \"wt: F456\", \"wt: R457\", \"wt: K458\", \"wt: S459\", \"wt: N460\", \"wt: L461\", \"wt: K462\", \"wt: P463\", \"wt: F464\", \"wt: E465\", \"wt: R466\", \"wt: D467\", \"wt: I468\", \"wt: S469\", \"wt: T470\", \"wt: E471\", \"wt: I472\", \"wt: Y473\", \"wt: Q474\", \"wt: A475\", \"wt: G476\", \"wt: S477\", \"wt: T478\", \"wt: P479\", \"wt: C480\", \"wt: N481\", \"wt: G482\", \"wt: V483\", \"wt: E484\", \"wt: G485\", \"wt: F486\", \"wt: N487\", \"wt: C488\", \"wt: Y489\", \"wt: F490\", \"wt: P491\", \"wt: L492\", \"wt: Q493\", \"wt: S494\", \"wt: Y495\", \"wt: G496\", \"wt: F497\", \"wt: Q498\", \"wt: P499\", \"wt: T500\", \"wt: N501\", \"wt: G502\", \"wt: V503\", \"wt: G504\", \"wt: Y505\", \"wt: Q506\", \"wt: P507\", \"wt: Y508\", \"wt: R509\", \"wt: V510\", \"wt: V511\", \"wt: V512\", \"wt: L513\", \"wt: S514\", \"wt: F515\", \"wt: E516\", \"wt: L517\", \"wt: L518\", \"wt: H519\", \"wt: A520\", \"wt: P521\", \"wt: A522\", \"wt: T523\", \"wt: V524\", \"wt: C525\", \"wt: G526\"], \"textfont\": {\"color\": \"#E58606\"}, \"textposition\": \"top right\", \"type\": \"scattergl\", \"uid\": \"578006cd-dd1a-42ac-86e6-0522a86d42b7\", \"x\": [0.0, 1.0, 6.0, 17.0, 4.0, 36.0, 2.0, 21.0, 17.0, 8.0, 23.0, 4.0, 9.0, 10.0, 2.0, 3.0, 4.0, 5.0, 62.0, 4.0, 6.0, 14.0, 9.0, 17.0, 29.0, 6.0, 12.0, 14.0, 3.0, 14.0, 4.0, 6.0, 5.0, 24.0, 2.0, 54.0, 26.0, 1.0, 1.0, 4.0, 8.0, 12.0, 1.0, 1.0, 3.0, 15.0, 8.0, 6.0, 2.0, 2.0, 3.0, 1.0, 5.0, 12.0, 9.0, 9.0, 9.0, 13.0, 12.0, 37.0, 3.0, 11.0, 20.0, 5.0, 11.0, 30.0, 17.0, 0.0, 76.0, 2.0, 8.0, 4.0, 0.0, 0.0, 0.0, 2.0, 2.0, 6.0, 27.0, 9.0, 0.0, 13.0, 3.0, 1.0, 4.0, 15.0, 5.0, 4.0, 3.0, 4.0, 83.0, 31.0, 12.0, 2.0, 4.0, 20.0, 17.0, 35.0, 8.0, 9.0, 10.0, 16.0, 5.0, 164.0, 26.0, 2.0, 25.0, 6.0, 8.0, 7.0, 24.0, 9.0, 4.0, 9.0, 12.0, 3.0, 5.0, 5.0, 4.0, 22.0, 6.0, 21.0, 24.0, 16.0, 3.0, 6.0, 31.0, 28.0, 188.0, 61.0, 31.0, 3.0, 15.0, 10.0, 32.0, 151.0, 19.0, 9.0, 5.0, 3.0, 6.0, 52.0, 6.0, 0.0, 24.0, 59.0, 3.0, 11.0, 0.0, 4.0, 18.0, 7.0, 590.0, 3.0, 18.0, 11.0, 8.0, 7.0, 7.0, 22.0, 4.0, 5.0, 8.0, 8.0, 5.0, 16.0, 4.0, 17.0, 19.0, 11.0, 13.0, 47.0, 30.0, 72.0, 11.0, 4.0, 4.0, 0.0], \"y\": [0.0735632183908046, 0.06928406466512703, 0.08333333333333333, 0.06921241050119331, 0.06474820143884892, 0.09246575342465753, 0.08620689655172414, 0.1536050156739812, 0.14689265536723164, 0.062295081967213124, 0.13953488372093026, 0.0728744939271255, 0.16783216783216784, 0.07024793388429752, 0.07407407407407407, 0.12295081967213115, 0.14814814814814814, 0.1743119266055046, 0.1743119266055046, 0.18181818181818185, 0.4784688995215311, 0.4795918367346938, 0.36774193548387096, 0.36774193548387096, 0.17592592592592593, 0.39130434782608703, 0.3717948717948718, 0.3772455089820359, 0.4841628959276018, 0.4761904761904762, 0.526595744680851, 0.4444444444444444, 0.3741935483870968, 0.4117647058823529, 0.5136612021857924, 0.31446540880503143, 0.3180327868852459, 0.25675675675675674, 0.11739130434782608, 0.21978021978021975, 0.11353711790393012, 0.2419928825622776, 0.11004784688995216, 0.24031007751937986, 0.11004784688995216, 0.0856269113149847, 0.0856269113149847, 0.08609271523178808, 0.08609271523178808, 0.08609271523178808, 0.08609271523178808, 0.08881578947368421, 0.0891089108910891, 0.07629427792915533, 0.2427616926503341, 0.05687203791469194, 0.12334801762114538, 0.07692307692307693, 0.07296137339055794, 0.22018348623853207, 0.0925925925925926, 0.08239700374531835, 0.09302325581395347, 0.19471947194719472, 0.1, 0.2616279069767442, 0.17832167832167833, 0.17525773195876287, 0.31554524361948955, 0.09824561403508772, 0.11072664359861592, 0.18670886075949367, 0.19407894736842105, 0.10583941605839416, 0.10583941605839416, 0.09071274298056156, 0.09207708779443256, 0.06683168316831684, 0.1419068736141907, 0.14757709251101322, 0.1456953642384106, 0.1456953642384106, 0.06601466992665038, 0.07536231884057971, 0.07803468208092486, 0.0539568345323741, 0.057347670250896064, 0.046263345195729534, 0.056338028169014086, 0.04964539007092199, 0.06535947712418301, 0.0990990990990991, 0.145124716553288, 0.06887755102040816, 0.07360406091370557, 0.12688172043010754, 0.17586912065439672, 0.2583892617449665, 0.10444444444444444, 0.11967545638945233, 0.2893890675241157, 0.15939278937381404, 0.09819639278557114, 0.1601489757914339, 0.22086956521739126, 0.10436432637571158, 0.2507936507936508, 0.23747980613893374, 0.1423290203327172, 0.14391143911439114, 0.10638297872340426, 0.13644859813084112, 0.08333333333333333, 0.09054325955734406, 0.09409190371991248, 0.09482758620689656, 0.105, 0.11049723756906077, 0.1132596685082873, 0.11666666666666667, 0.1092436974789916, 0.15384615384615385, 0.1278772378516624, 0.13670886075949368, 0.1796875, 0.1357615894039735, 0.20909090909090908, 0.1929260450160772, 0.17737003058103976, 0.10915492957746477, 0.0971223021582734, 0.359375, 0.3654618473895582, 0.368, 0.3779527559055118, 0.4484978540772532, 0.3866837387964149, 0.3960880195599022, 0.3787878787878788, 0.3234880450070324, 0.3836104513064133, 0.3960396039603961, 0.3163841807909605, 0.33969986357435195, 0.4019728729963009, 0.3702380952380953, 0.2196652719665272, 0.20518358531317496, 0.09706546275395034, 0.22174840085287847, 0.19389978213507625, 0.20905172413793105, 0.3382084095063985, 0.2488986784140969, 0.109375, 0.13043478260869565, 0.26814516129032256, 0.12839506172839507, 0.12623762376237624, 0.13267813267813267, 0.11528822055137845, 0.09020618556701032, 0.11458333333333333, 0.11286089238845146, 0.1243523316062176, 0.13636363636363635, 0.13861386138613865, 0.13297872340425532, 0.19617224880382772, 0.11653116531165313, 0.1005586592178771, 0.08522727272727272, 0.06948640483383686, 0.06948640483383686, 0.06948640483383686, 0.3202416918429003, 0.33554817275747506, 0.33881578947368424]}, {\"marker\": {\"color\": \"red\", \"size\": [11.111111111111114, 16.666666666666668, 12.500000000000002, 14.285714285714295, 16.666666666666668, 12.499999999999998]}, \"mode\": \"markers\", \"showlegend\": false, \"text\": [\"wt: K417\", \"wt: L452\", \"wt: S477\", \"wt: V483\", \"wt: E484\", \"wt: N501\"], \"textfont\": {\"color\": \"#E58606\"}, \"textposition\": \"top right\", \"type\": \"scattergl\", \"uid\": \"4f1cbb11-30f0-4005-a87e-8fe35eab0886\", \"x\": [76.0, 164.0, 188.0, 32.0, 151.0, 590.0], \"y\": [0.31554524361948955, 0.1601489757914339, 0.17737003058103976, 0.3779527559055118, 0.4484978540772532, 0.3382084095063985]}],                        {\"legend\": {\"itemclick\": \"toggleothers\", \"itemdoubleclick\": \"toggle\"}, \"margin\": {\"b\": 20, \"l\": 20, \"r\": 20, \"t\": 20}, \"plot_bgcolor\": \"#FFF\", \"template\": {\"data\": {\"bar\": [{\"error_x\": {\"color\": \"#2a3f5f\"}, \"error_y\": {\"color\": \"#2a3f5f\"}, \"marker\": {\"line\": {\"color\": \"#E5ECF6\", \"width\": 0.5}}, \"type\": \"bar\"}], \"barpolar\": [{\"marker\": {\"line\": {\"color\": \"#E5ECF6\", \"width\": 0.5}}, \"type\": \"barpolar\"}], \"carpet\": [{\"aaxis\": {\"endlinecolor\": \"#2a3f5f\", \"gridcolor\": \"white\", \"linecolor\": \"white\", \"minorgridcolor\": \"white\", \"startlinecolor\": \"#2a3f5f\"}, \"baxis\": {\"endlinecolor\": \"#2a3f5f\", \"gridcolor\": \"white\", \"linecolor\": \"white\", \"minorgridcolor\": \"white\", \"startlinecolor\": \"#2a3f5f\"}, \"type\": \"carpet\"}], \"choropleth\": [{\"colorbar\": {\"outlinewidth\": 0, \"ticks\": \"\"}, \"type\": \"choropleth\"}], \"contour\": [{\"colorbar\": {\"outlinewidth\": 0, \"ticks\": \"\"}, \"colorscale\": [[0.0, \"#0d0887\"], [0.1111111111111111, \"#46039f\"], [0.2222222222222222, \"#7201a8\"], [0.3333333333333333, \"#9c179e\"], [0.4444444444444444, \"#bd3786\"], [0.5555555555555556, \"#d8576b\"], [0.6666666666666666, \"#ed7953\"], [0.7777777777777778, \"#fb9f3a\"], [0.8888888888888888, \"#fdca26\"], [1.0, \"#f0f921\"]], \"type\": \"contour\"}], \"contourcarpet\": [{\"colorbar\": {\"outlinewidth\": 0, \"ticks\": \"\"}, \"type\": \"contourcarpet\"}], \"heatmap\": [{\"colorbar\": {\"outlinewidth\": 0, \"ticks\": \"\"}, \"colorscale\": [[0.0, \"#0d0887\"], [0.1111111111111111, \"#46039f\"], [0.2222222222222222, \"#7201a8\"], [0.3333333333333333, \"#9c179e\"], [0.4444444444444444, \"#bd3786\"], [0.5555555555555556, \"#d8576b\"], [0.6666666666666666, \"#ed7953\"], [0.7777777777777778, \"#fb9f3a\"], [0.8888888888888888, \"#fdca26\"], [1.0, \"#f0f921\"]], \"type\": \"heatmap\"}], \"heatmapgl\": [{\"colorbar\": {\"outlinewidth\": 0, \"ticks\": \"\"}, \"colorscale\": [[0.0, \"#0d0887\"], [0.1111111111111111, \"#46039f\"], [0.2222222222222222, \"#7201a8\"], [0.3333333333333333, \"#9c179e\"], [0.4444444444444444, \"#bd3786\"], [0.5555555555555556, \"#d8576b\"], [0.6666666666666666, \"#ed7953\"], [0.7777777777777778, \"#fb9f3a\"], [0.8888888888888888, \"#fdca26\"], [1.0, \"#f0f921\"]], \"type\": \"heatmapgl\"}], \"histogram\": [{\"marker\": {\"colorbar\": {\"outlinewidth\": 0, \"ticks\": \"\"}}, \"type\": \"histogram\"}], \"histogram2d\": [{\"colorbar\": {\"outlinewidth\": 0, \"ticks\": \"\"}, \"colorscale\": [[0.0, \"#0d0887\"], [0.1111111111111111, \"#46039f\"], [0.2222222222222222, \"#7201a8\"], [0.3333333333333333, \"#9c179e\"], [0.4444444444444444, \"#bd3786\"], [0.5555555555555556, \"#d8576b\"], [0.6666666666666666, \"#ed7953\"], [0.7777777777777778, \"#fb9f3a\"], [0.8888888888888888, \"#fdca26\"], [1.0, \"#f0f921\"]], \"type\": \"histogram2d\"}], \"histogram2dcontour\": [{\"colorbar\": {\"outlinewidth\": 0, \"ticks\": \"\"}, \"colorscale\": [[0.0, \"#0d0887\"], [0.1111111111111111, \"#46039f\"], [0.2222222222222222, \"#7201a8\"], [0.3333333333333333, \"#9c179e\"], [0.4444444444444444, \"#bd3786\"], [0.5555555555555556, \"#d8576b\"], [0.6666666666666666, \"#ed7953\"], [0.7777777777777778, \"#fb9f3a\"], [0.8888888888888888, \"#fdca26\"], [1.0, \"#f0f921\"]], \"type\": \"histogram2dcontour\"}], \"mesh3d\": [{\"colorbar\": {\"outlinewidth\": 0, \"ticks\": \"\"}, \"type\": \"mesh3d\"}], \"parcoords\": [{\"line\": {\"colorbar\": {\"outlinewidth\": 0, \"ticks\": \"\"}}, \"type\": \"parcoords\"}], \"pie\": [{\"automargin\": true, \"type\": \"pie\"}], \"scatter\": [{\"marker\": {\"colorbar\": {\"outlinewidth\": 0, \"ticks\": \"\"}}, \"type\": \"scatter\"}], \"scatter3d\": [{\"line\": {\"colorbar\": {\"outlinewidth\": 0, \"ticks\": \"\"}}, \"marker\": {\"colorbar\": {\"outlinewidth\": 0, \"ticks\": \"\"}}, \"type\": \"scatter3d\"}], \"scattercarpet\": [{\"marker\": {\"colorbar\": {\"outlinewidth\": 0, \"ticks\": \"\"}}, \"type\": \"scattercarpet\"}], \"scattergeo\": [{\"marker\": {\"colorbar\": {\"outlinewidth\": 0, \"ticks\": \"\"}}, \"type\": \"scattergeo\"}], \"scattergl\": [{\"marker\": {\"colorbar\": {\"outlinewidth\": 0, \"ticks\": \"\"}}, \"type\": \"scattergl\"}], \"scattermapbox\": [{\"marker\": {\"colorbar\": {\"outlinewidth\": 0, \"ticks\": \"\"}}, \"type\": \"scattermapbox\"}], \"scatterpolar\": [{\"marker\": {\"colorbar\": {\"outlinewidth\": 0, \"ticks\": \"\"}}, \"type\": \"scatterpolar\"}], \"scatterpolargl\": [{\"marker\": {\"colorbar\": {\"outlinewidth\": 0, \"ticks\": \"\"}}, \"type\": \"scatterpolargl\"}], \"scatterternary\": [{\"marker\": {\"colorbar\": {\"outlinewidth\": 0, \"ticks\": \"\"}}, \"type\": \"scatterternary\"}], \"surface\": [{\"colorbar\": {\"outlinewidth\": 0, \"ticks\": \"\"}, \"colorscale\": [[0.0, \"#0d0887\"], [0.1111111111111111, \"#46039f\"], [0.2222222222222222, \"#7201a8\"], [0.3333333333333333, \"#9c179e\"], [0.4444444444444444, \"#bd3786\"], [0.5555555555555556, \"#d8576b\"], [0.6666666666666666, \"#ed7953\"], [0.7777777777777778, \"#fb9f3a\"], [0.8888888888888888, \"#fdca26\"], [1.0, \"#f0f921\"]], \"type\": \"surface\"}], \"table\": [{\"cells\": {\"fill\": {\"color\": \"#EBF0F8\"}, \"line\": {\"color\": \"white\"}}, \"header\": {\"fill\": {\"color\": \"#C8D4E3\"}, \"line\": {\"color\": \"white\"}}, \"type\": \"table\"}]}, \"layout\": {\"annotationdefaults\": {\"arrowcolor\": \"#2a3f5f\", \"arrowhead\": 0, \"arrowwidth\": 1}, \"autotypenumbers\": \"strict\", \"coloraxis\": {\"colorbar\": {\"outlinewidth\": 0, \"ticks\": \"\"}}, \"colorscale\": {\"diverging\": [[0, \"#8e0152\"], [0.1, \"#c51b7d\"], [0.2, \"#de77ae\"], [0.3, \"#f1b6da\"], [0.4, \"#fde0ef\"], [0.5, \"#f7f7f7\"], [0.6, \"#e6f5d0\"], [0.7, \"#b8e186\"], [0.8, \"#7fbc41\"], [0.9, \"#4d9221\"], [1, \"#276419\"]], \"sequential\": [[0.0, \"#0d0887\"], [0.1111111111111111, \"#46039f\"], [0.2222222222222222, \"#7201a8\"], [0.3333333333333333, \"#9c179e\"], [0.4444444444444444, \"#bd3786\"], [0.5555555555555556, \"#d8576b\"], [0.6666666666666666, \"#ed7953\"], [0.7777777777777778, \"#fb9f3a\"], [0.8888888888888888, \"#fdca26\"], [1.0, \"#f0f921\"]], \"sequentialminus\": [[0.0, \"#0d0887\"], [0.1111111111111111, \"#46039f\"], [0.2222222222222222, \"#7201a8\"], [0.3333333333333333, \"#9c179e\"], [0.4444444444444444, \"#bd3786\"], [0.5555555555555556, \"#d8576b\"], [0.6666666666666666, \"#ed7953\"], [0.7777777777777778, \"#fb9f3a\"], [0.8888888888888888, \"#fdca26\"], [1.0, \"#f0f921\"]]}, \"colorway\": [\"#636efa\", \"#EF553B\", \"#00cc96\", \"#ab63fa\", \"#FFA15A\", \"#19d3f3\", \"#FF6692\", \"#B6E880\", \"#FF97FF\", \"#FECB52\"], \"font\": {\"color\": \"#2a3f5f\"}, \"geo\": {\"bgcolor\": \"white\", \"lakecolor\": \"white\", \"landcolor\": \"#E5ECF6\", \"showlakes\": true, \"showland\": true, \"subunitcolor\": \"white\"}, \"hoverlabel\": {\"align\": \"left\"}, \"hovermode\": \"closest\", \"mapbox\": {\"style\": \"light\"}, \"paper_bgcolor\": \"white\", \"plot_bgcolor\": \"#E5ECF6\", \"polar\": {\"angularaxis\": {\"gridcolor\": \"white\", \"linecolor\": \"white\", \"ticks\": \"\"}, \"bgcolor\": \"#E5ECF6\", \"radialaxis\": {\"gridcolor\": \"white\", \"linecolor\": \"white\", \"ticks\": \"\"}}, \"scene\": {\"xaxis\": {\"backgroundcolor\": \"#E5ECF6\", \"gridcolor\": \"white\", \"gridwidth\": 2, \"linecolor\": \"white\", \"showbackground\": true, \"ticks\": \"\", \"zerolinecolor\": \"white\"}, \"yaxis\": {\"backgroundcolor\": \"#E5ECF6\", \"gridcolor\": \"white\", \"gridwidth\": 2, \"linecolor\": \"white\", \"showbackground\": true, \"ticks\": \"\", \"zerolinecolor\": \"white\"}, \"zaxis\": {\"backgroundcolor\": \"#E5ECF6\", \"gridcolor\": \"white\", \"gridwidth\": 2, \"linecolor\": \"white\", \"showbackground\": true, \"ticks\": \"\", \"zerolinecolor\": \"white\"}}, \"shapedefaults\": {\"line\": {\"color\": \"#2a3f5f\"}}, \"ternary\": {\"aaxis\": {\"gridcolor\": \"white\", \"linecolor\": \"white\", \"ticks\": \"\"}, \"baxis\": {\"gridcolor\": \"white\", \"linecolor\": \"white\", \"ticks\": \"\"}, \"bgcolor\": \"#E5ECF6\", \"caxis\": {\"gridcolor\": \"white\", \"linecolor\": \"white\", \"ticks\": \"\"}}, \"title\": {\"x\": 0.05}, \"xaxis\": {\"automargin\": true, \"gridcolor\": \"white\", \"linecolor\": \"white\", \"ticks\": \"\", \"title\": {\"standoff\": 15}, \"zerolinecolor\": \"white\", \"zerolinewidth\": 2}, \"yaxis\": {\"automargin\": true, \"gridcolor\": \"white\", \"linecolor\": \"white\", \"ticks\": \"\", \"title\": {\"standoff\": 15}, \"zerolinecolor\": \"white\", \"zerolinewidth\": 2}}}, \"xaxis\": {\"linecolor\": \"#BCCCDC\", \"mirror\": true, \"showgrid\": true, \"title\": {\"text\": \"observed_mut_Mar2021\"}}, \"yaxis\": {\"linecolor\": \"#BCCCDC\", \"mirror\": true, \"showgrid\": true, \"title\": {\"text\": \"IEDB - Response Frequency\"}}},                        {\"responsive\": true}                    ).then(function(){\n",
       "                            \n",
       "var gd = document.getElementById('81cf16ea-b5d5-4b2d-9c7a-4a15d1f1ca8e');\n",
       "var x = new MutationObserver(function (mutations, observer) {{\n",
       "        var display = window.getComputedStyle(gd).display;\n",
       "        if (!display || display === 'none') {{\n",
       "            console.log([gd, 'removed!']);\n",
       "            Plotly.purge(gd);\n",
       "            observer.disconnect();\n",
       "        }}\n",
       "}});\n",
       "\n",
       "// Listen for the removal of the full notebook cells\n",
       "var notebookContainer = gd.closest('#notebook-container');\n",
       "if (notebookContainer) {{\n",
       "    x.observe(notebookContainer, {childList: true});\n",
       "}}\n",
       "\n",
       "// Listen for the clearing of the current output cell\n",
       "var outputEl = gd.closest('.output');\n",
       "if (outputEl) {{\n",
       "    x.observe(outputEl, {childList: true});\n",
       "}}\n",
       "\n",
       "                        })                };                });            </script>        </div>"
      ]
     },
     "metadata": {},
     "output_type": "display_data"
    },
    {
     "data": {
      "text/plain": [
       "0"
      ]
     },
     "execution_count": 9,
     "metadata": {},
     "output_type": "execute_result"
    }
   ],
   "source": [
    "# observed vs. epitope\n",
    "prot = \"Spike\"\n",
    "dom = \"bCoV_S1_RBD\"\n",
    "df = read_dca_iedb_data(path_data = \"./data/data_dca_iedb_RDB_domain.csv\", protein = prot, domain = dom)\n",
    "\n",
    "#positions mutated in VOCs or VOIs\n",
    "list_pos_mutated_VOI_VOC = [417, 452, 477, 483, 484, 501]\n",
    "\n",
    "score = 'observed_mut_Jul2020'\n",
    "plot_dca_IEDB(df, score, list_pos = list_pos_mutated_VOI_VOC)\n",
    "score = 'observed_mut_Nov2020'\n",
    "plot_dca_IEDB(df, score, list_pos = list_pos_mutated_VOI_VOC)\n",
    "score = 'observed_mut_Mar2021'\n",
    "plot_dca_IEDB(df, score, list_pos = list_pos_mutated_VOI_VOC)"
   ]
  },
  {
   "cell_type": "markdown",
   "metadata": {},
   "source": [
    "## 3. Data\n",
    "DCA predictions are available for the following proteins and protein domains: \n",
    "- Spike (also IEDB epitope data)\n",
    "    - bCoV_S1_N \n",
    "    - bCoV_S1_RBD  \n",
    "    - CoV_S1_C \n",
    "    - CoV_S2 \n",
    "    - CoV_S2_C\n",
    "- Envelope \n",
    "    - CoV_E\n",
    "- Membrane \n",
    "    - CoV_M\n",
    "- Nucleocapsid \n",
    "    - CoV_nucleocap\n",
    "- ORF10\n",
    "- ORF1a \n",
    "    - bCoV_NAR \n",
    "    - bCoV_NSP1 \n",
    "    - bCoV_NSP3_N \n",
    "    - bCoV_SUD_C \n",
    "    - bCoV_SUD_M \n",
    "    - CoV_NSP10 \n",
    "    - CoV_NSP2_C \n",
    "    - CoV_NSP2_N \n",
    "    - CoV_NSP3_C \n",
    "    - CoV_NSP4_C \n",
    "    - CoV_NSP4_N \n",
    "    - CoV_NSP6 \n",
    "    - CoV_NSP7 \n",
    "    - CoV_NSP8 \n",
    "    - CoV_NSP9 \n",
    "    - CoV_peptidase \n",
    "    - Macro Peptidase_C30\n",
    "- ORF1b \n",
    "    - AAA_11 \n",
    "    - AAA_12 \n",
    "    - AAA_30 \n",
    "    - CoV_Methyltr_1 \n",
    "    - CoV_Methyltr_2 \n",
    "    - CoV_NSP15_C \n",
    "    - CoV_NSP15_M \n",
    "    - CoV_NSP15_N \n",
    "    - CoV_RPol_N \n",
    "    - RdRP_1 \n",
    "    - UvrD_C_2 \n",
    "    - Viral_helicase1\n",
    "- ORF3a \n",
    "    - bCoV_viroporin\n",
    "- ORF6 \n",
    "    - bCoV_NS6\n",
    "- ORF7a \n",
    "    - bCoV_NS7A\n",
    "- ORF7b \n",
    "    - bCoV_NS7B\n",
    "- ORF8 \n",
    "    - bCoV_NS8\n"
   ]
  }
 ],
 "metadata": {
  "kernelspec": {
   "display_name": "Python 3",
   "language": "python",
   "name": "python3"
  },
  "language_info": {
   "codemirror_mode": {
    "name": "ipython",
    "version": 3
   },
   "file_extension": ".py",
   "mimetype": "text/x-python",
   "name": "python",
   "nbconvert_exporter": "python",
   "pygments_lexer": "ipython3",
   "version": "3.6.9"
  }
 },
 "nbformat": 4,
 "nbformat_minor": 4
}
