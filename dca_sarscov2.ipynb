{
 "cells": [
  {
   "cell_type": "code",
   "execution_count": 1,
   "metadata": {},
   "outputs": [
    {
     "name": "stdout",
     "output_type": "stream",
     "text": [
      "Cloning into 'DCA_SARS-CoV-2'...\n",
      "remote: Enumerating objects: 115, done.\u001b[K\n",
      "remote: Counting objects: 100% (115/115), done.\u001b[K\n",
      "remote: Compressing objects: 100% (84/84), done.\u001b[K\n",
      "remote: Total 115 (delta 37), reused 106 (delta 28), pack-reused 0\u001b[K\n",
      "Receiving objects: 100% (115/115), 6.27 MiB | 3.17 MiB/s, done.\n",
      "Resolving deltas: 100% (37/37), done.\n",
      "/home/giancarlo/Documents/lab_work/martin_project_CoVid-19/DCA_SARS-CoV-2/DCA_SARS-CoV-2\n"
     ]
    }
   ],
   "source": [
    "#################################\n",
    "#Run this cell if using Google COLAB\n",
    "#################################\n",
    "\n",
    "#clone the repository and the data to run the notebook on Google Colab\n",
    "!git clone https://github.com/GiancarloCroce/DCA_SARS-CoV-2\n",
    "%cd ./DCA_SARS-CoV-2\n",
    "#for plotly on google colab\n",
    "import plotly.io as pio\n",
    "pio.renderers.default = 'colab'"
   ]
  },
  {
   "cell_type": "code",
   "execution_count": 13,
   "metadata": {},
   "outputs": [],
   "source": [
    "import pandas as pd\n",
    "import numpy as np\n",
    "import seaborn as sns\n",
    "import os\n",
    "import pandas as pd\n",
    "import datetime\n",
    "from sklearn import preprocessing\n",
    "import matplotlib.pyplot as plt\n",
    "from plotly.offline import init_notebook_mode, iplot\n",
    "from plotly.graph_objs import *\n",
    "import plotly.graph_objects as go  \n",
    "from sklearn import metrics\n",
    "from utils import load_data_dca, plot_roc, plot_dca_IEDB, plot_dca_IEDB_BTcell\n",
    "from utils import get_IEDB_versions, compute_RF, get_updated_IEDB,load_VOC"
   ]
  },
  {
   "cell_type": "markdown",
   "metadata": {},
   "source": [
    "# DCA for SARS-CoV-2\n",
    "\n",
    "\n",
    "For each site of the SARS-CoV-2 Wuhan-Hu-1 proteome (Accession [NC045512](https://www.genome.jp/dbget-bin/www_bget?refseq:NC_045512)) included in a PFAM domain, we introduce a [Direct Coupling Analysis](https://en.wikipedia.org/wiki/Direct_coupling_analysis) mutability score to predict mutable and constrained sites. Column in the dataframe: **mutability_score(DCA)**.\n",
    "\n",
    "We validate our mutability predictions with the mutations observed in SARS-CoV-2 strains proteomes deposited in the [GISAID database](https://www.gisaid.org/). We consider 3 different time periods:\n",
    "1.  Mutation observed from January 2020 to July 2020 (Column: **observed_mut_Jul2020**)\n",
    "2.  Mutation observed from January 2020 to December 2020 (Column: **observed_mut_Dec2020**)\n",
    "3.  Mutation observed from January 2020 to May 2021 (Column: **observed_mut_May2021**)\n",
    "\n",
    "Similarly, we compute the mutability scores using no-epistatic conservation profiles (hereinafter independent models - IND) and compare the performaces with epistatic DCA models. Column in the dataframe: **mutability_score(IND)**.\n"
   ]
  },
  {
   "cell_type": "markdown",
   "metadata": {},
   "source": [
    "## Receptor Binding Domain\n",
    "\n",
    "Here we restrict our analysis to the Receptor Binding Domain (```dom = \"bCoV_S1_RBD\"```) of the SARS-CoV-2 Spike protein (```prot = \"Spike\" ```)."
   ]
  },
  {
   "cell_type": "code",
   "execution_count": 2,
   "metadata": {},
   "outputs": [
    {
     "name": "stdout",
     "output_type": "stream",
     "text": [
      "     protein       domain  position_protein  position_domain aa_Wuhan-Hu-1  \\\n",
      "7448   Spike  bCoV_S1_RBD               349              1.0             S   \n",
      "7449   Spike  bCoV_S1_RBD               350              2.0             V   \n",
      "7450   Spike  bCoV_S1_RBD               351              3.0             Y   \n",
      "7451   Spike  bCoV_S1_RBD               352              4.0             A   \n",
      "7452   Spike  bCoV_S1_RBD               353              5.0             W   \n",
      "...      ...          ...               ...              ...           ...   \n",
      "7621   Spike  bCoV_S1_RBD               522            174.0             A   \n",
      "7622   Spike  bCoV_S1_RBD               523            175.0             T   \n",
      "7623   Spike  bCoV_S1_RBD               524            176.0             V   \n",
      "7624   Spike  bCoV_S1_RBD               525            177.0             C   \n",
      "7625   Spike  bCoV_S1_RBD               526            178.0             G   \n",
      "\n",
      "      mutability_score(IND)  mutability_score(DCA)  observed_mut_May2021  \\\n",
      "7448                -1.3818                -1.2046                   0.0   \n",
      "7449                -1.9788                -1.1667                   3.0   \n",
      "7450                -1.8017                -1.2678                   8.0   \n",
      "7451                -1.0140                -1.1347                  23.0   \n",
      "7452                -2.0825                -1.3433                   6.0   \n",
      "...                     ...                    ...                   ...   \n",
      "7621                -0.5670                -1.2426                  79.0   \n",
      "7622                -0.8639                -1.2803                  15.0   \n",
      "7623                -2.2739                -1.4834                   9.0   \n",
      "7624                -1.7776                -1.5027                   6.0   \n",
      "7625                -1.5391                -1.2935                   0.0   \n",
      "\n",
      "      observed_mut_Dec2020  observed_mut_Jul2020  \n",
      "7448                   0.0                   0.0  \n",
      "7449                   0.0                   0.0  \n",
      "7450                   1.0                   1.0  \n",
      "7451                   3.0                   0.0  \n",
      "7452                   3.0                   2.0  \n",
      "...                    ...                   ...  \n",
      "7621                  16.0                   6.0  \n",
      "7622                   5.0                   4.0  \n",
      "7623                   3.0                   3.0  \n",
      "7624                   3.0                   3.0  \n",
      "7625                   0.0                   0.0  \n",
      "\n",
      "[178 rows x 10 columns]\n"
     ]
    }
   ],
   "source": [
    "# Load data (for a specific protein and domain)\n",
    "prot = \"Spike\"\n",
    "dom = \"bCoV_S1_RBD\"\n",
    "\n",
    "df = load_data_dca(path_data = \"./data/data_dca_proteome.csv\", protein = prot, domain = dom)\n",
    "print(df)"
   ]
  },
  {
   "cell_type": "markdown",
   "metadata": {},
   "source": [
    "## 1. Predicting mutable sites\n",
    "\n",
    "In Fig.2 we use the DCA and IND model to predict mutable and constrained sites.\n",
    "\n",
    "We validate our mutability predictions with the mutations observed in circulating GISAID strains, defining as:\n",
    "- **mutable** :  a site with **N_mut or more** observed mutations in GISAID strains\n",
    "- **constrained** : a site with **less than N_mut**  observed mutations in GISAID strains\n",
    "\n",
    "Here we fix **N_mut=16** and include GIDAS data from January 2020 to May 2021. \n",
    "\n",
    "Try to change **N_mut** to investigate how the predictive performaces are affected by the defition of **mutable** and **constrained** site. "
   ]
  },
  {
   "cell_type": "code",
   "execution_count": 3,
   "metadata": {},
   "outputs": [
    {
     "name": "stdout",
     "output_type": "stream",
     "text": [
      "GISAID data from Jan 2020 to observed_mut_May2021, protein=Spike, domain=bCoV_S1_RBD\n",
      "- 65 sites are mutable (1)\n",
      "     a site if considered *mutable* if >= 16 mutations are observed in GISAID\n",
      "- 113 sites are constrained  0)\n",
      "     a site if considered *constrained* if < 16 mutations are observed in GISAID\n"
     ]
    },
    {
     "data": {
      "image/png": "[encoded data removed]",
      "text/plain": [
       "<Figure size 432x288 with 1 Axes>"
      ]
     },
     "metadata": {
      "needs_background": "light"
     },
     "output_type": "display_data"
    }
   ],
   "source": [
    "## ROC DCA vs. IND model, FIG.2\n",
    "\n",
    "# define constrained and mutable sites\n",
    "N_mut = 16\n",
    "constrained = range(0,N_mut)\n",
    "mutable = range(N_mut,1000000) #1000000 a random big number \n",
    "\n",
    "# GISAID data \n",
    "GISAID = 'observed_mut_May2021'\n",
    "\n",
    "list_score = ['mutability_score(IND)', 'mutability_score(DCA)']\n",
    "plot_roc(constrained, mutable, GISAID, list_score, df)\n",
    "\n",
    "\n",
    "### print some info\n",
    "num_contrained = np.sum(df[GISAID].isin(constrained))\n",
    "num_mutable = np.sum(df[GISAID].isin(mutable))\n",
    "\n",
    "\n",
    "print(\"GISAID data from Jan 2020 to {0}, protein={1}, domain={2}\".format(GISAID,prot, dom))\n",
    "print(\"- {0} sites are mutable (1)\".format(num_mutable))\n",
    "print('     a site if considered *mutable* if >= '+str(N_mut) + ' mutations are observed in GISAID')\n",
    "print(\"- {0} sites are constrained  0)\".format(num_contrained))\n",
    "print('     a site if considered *constrained* if < '+str(N_mut) + ' mutations are observed in GISAID')"
   ]
  },
  {
   "cell_type": "markdown",
   "metadata": {},
   "source": [
    "### Mutations are accumulating\n",
    "\n",
    "Here we access the predictive power of the DCA mutability scores considering 3 different timepoints (July 2020, December 2020, May 2020) for the GISAID data.\n",
    "We observe an increasing agreement between our model and the observed variability as more data become available over time."
   ]
  },
  {
   "cell_type": "code",
   "execution_count": 4,
   "metadata": {},
   "outputs": [
    {
     "data": {
      "image/png": "[encoded data removed]",
      "text/plain": [
       "<Figure size 432x288 with 1 Axes>"
      ]
     },
     "metadata": {
      "needs_background": "light"
     },
     "output_type": "display_data"
    }
   ],
   "source": [
    "## ROC DCA, GISAID at different time,  FIG.2\n",
    "\n",
    "# define constrained and mutable sites\n",
    "N_mut = 4\n",
    "constrained = range(0,N_mut)\n",
    "mutable = range(N_mut,1000000) #1000000: a random big number\n",
    "list_score = ['mutability_score(DCA)']\n",
    "              \n",
    "observed_mutability = 'observed_mut_Jul2020'\n",
    "plot_roc(constrained, mutable, observed_mutability, list_score, df, add_obs_mut = True)\n",
    "observed_mutability = 'observed_mut_Dec2020'\n",
    "plot_roc(constrained, mutable, observed_mutability, list_score, df, add_obs_mut = True)\n",
    "observed_mutability = 'observed_mut_May2021'\n",
    "plot_roc(constrained, mutable, observed_mutability, list_score, df, add_obs_mut = True)\n",
    "plt.tight_layout()"
   ]
  },
  {
   "cell_type": "markdown",
   "metadata": {},
   "source": [
    "## 2. Predicting immunologically relevant mutable sites\n",
    "\n",
    "Nonsynonymous mutations may modify regions of the SARS-CoV-2 genome targeted by B or T cells (known as B/T cell epitopes). \n",
    "\n",
    "The [IEDB](https://www.iedb.org/) website collects experimentally validated B and T cell epitopes.\n",
    "Each SARS-CoV-2 sites is associated with the corresponding epitope response frequency (RF), defined as the number of positively responded subjects, averaged over all epitopes mapped to that position. See  https://help.iedb.org/hc/en-us/articles/114094147751 for more details.\n",
    "\n",
    "Amino acid substitution at high-RF sites have a higher risk of inducing immune escape as many positively responding epitopes are modified. "
   ]
  },
  {
   "cell_type": "markdown",
   "metadata": {},
   "source": [
    "### DCA and IEDB - paper results\n",
    "Here we plot the DCA mutability score vs. the IEDB response frequency for each site of the RDB domain (Fig 3B of the paper).\n",
    "\n",
    "The interesting region is the **upper right corner** containing sites which are expected to be mutable (high DCA score) and that can induce immune escape (high RF).\n",
    "\n",
    "As in the paper, here we use:\n",
    "- IDEB epitope data updated on 16 May 2021. \n",
    "- WHO weekly epidemiological report on Covid-19 (https://www.who.int/publications/m/item/weekly-epidemiological-update-on-covid-19---18-may-2021) published on 18 May 2021. It classifies 6 SARS-CoV-2 variants as variants of interest (VOI) and 4 as variants of concern (VOC). Within the RBD domain, they have mutations in the 417, 452, 477, 478, 483, 484 and 501 positions (red points in the plot).\n",
    "\n",
    "In the next cells we repeat the analysis using more recent versions of IEDB data and extending the predictions to other protein domains."
   ]
  },
  {
   "cell_type": "code",
   "execution_count": 16,
   "metadata": {},
   "outputs": [
    {
     "name": "stdout",
     "output_type": "stream",
     "text": [
      "    protein       domain  position_protein  position_domain aa_Wuhan-Hu-1  \\\n",
      "68    Spike  bCoV_S1_RBD               417             69.0             K   \n",
      "103   Spike  bCoV_S1_RBD               452            104.0             L   \n",
      "128   Spike  bCoV_S1_RBD               477            129.0             S   \n",
      "129   Spike  bCoV_S1_RBD               478            130.0             T   \n",
      "134   Spike  bCoV_S1_RBD               483            135.0             V   \n",
      "135   Spike  bCoV_S1_RBD               484            136.0             E   \n",
      "152   Spike  bCoV_S1_RBD               501            153.0             N   \n",
      "\n",
      "     mutability_score(IND)  mutability_score(DCA)  observed_mut_May2021  \\\n",
      "68                  0.0836                -0.4315                 163.0   \n",
      "103                -1.7534                -0.9576                 289.0   \n",
      "128                -1.0210                -0.6329                 194.0   \n",
      "129                -1.5438                -0.6578                 137.0   \n",
      "134                -0.4213                -0.3170                  40.0   \n",
      "135                 0.2326                -0.2097                 327.0   \n",
      "152                -0.2828                -0.0427                 768.0   \n",
      "\n",
      "     observed_mut_Dec2020  observed_mut_Jul2020  IEDB_lowerbound  \\\n",
      "68                    3.0                   0.0             0.40   \n",
      "103                   8.0                   4.0             0.16   \n",
      "128                  40.0                   5.0             0.19   \n",
      "129                   8.0                   2.0             0.11   \n",
      "134                   7.0                   1.0             0.36   \n",
      "135                  17.0                   4.0             0.45   \n",
      "152                  19.0                   1.0             0.40   \n",
      "\n",
      "     IEDB_upperbound  IEDB_response_frequency  size_scatter  \n",
      "68              0.48                 0.435626     12.500000  \n",
      "103             0.22                 0.190305     16.666667  \n",
      "128             0.27                 0.227011     12.500000  \n",
      "129             0.20                 0.151007     11.111111  \n",
      "134             0.43                 0.393086     14.285714  \n",
      "135             0.51                 0.479310     16.666667  \n",
      "152             0.47                 0.436681     14.285714  \n"
     ]
    },
    {
     "data": {
      "application/vnd.plotly.v1+json": {
       "config": {
        "linkText": "Export to plot.ly",
        "plotlyServerURL": "https://plot.ly",
        "showLink": false
       },
       "data": [
        {
         "marker": {
          "color": "#5D69B1",
          "size": [
           20,
           20,
           20.000000000000004,
           20,
           20,
           16.666666666666668,
           14.285714285714285,
           12.499999999999998,
           14.285714285714285,
           16.666666666666664,
           12.5,
           14.285714285714286,
           11.11111111111111,
           14.285714285714285,
           16.666666666666668,
           9.090909090909092,
           9.090909090909092,
           6.666666666666666,
           6.666666666666666,
           7.142857142857142,
           7.14285714285714,
           7.14285714285714,
           7.142857142857142,
           7.142857142857142,
           7.142857142857142,
           6.666666666666668,
           6.666666666666668,
           7.142857142857145,
           7.692307692307689,
           8.33333333333333,
           7.142857142857142,
           6.249999999999999,
           6.666666666666666,
           6.250000000000001,
           7.142857142857145,
           10.000000000000002,
           10.000000000000002,
           10,
           12.499999999999998,
           9.999999999999996,
           11.111111111111109,
           10.000000000000002,
           11.11111111111111,
           9.090909090909092,
           11.11111111111111,
           16.666666666666668,
           16.666666666666668,
           14.285714285714285,
           16.666666666666668,
           16.666666666666668,
           16.666666666666668,
           14.285714285714285,
           14.285714285714285,
           16.666666666666668,
           12.499999999999998,
           16.666666666666664,
           11.11111111111111,
           12.499999999999998,
           14.285714285714286,
           10.000000000000002,
           12.499999999999998,
           14.285714285714285,
           14.285714285714285,
           11.11111111111111,
           14.285714285714285,
           11.11111111111111,
           11.111111111111109,
           11.111111111111109,
           12.500000000000007,
           14.285714285714285,
           14.285714285714286,
           11.111111111111109,
           11.111111111111109,
           12.500000000000002,
           12.500000000000002,
           20.000000000000004,
           20.000000000000004,
           20,
           14.285714285714286,
           14.285714285714285,
           16.666666666666668,
           16.666666666666668,
           25.000000000000004,
           16.666666666666668,
           16.666666666666668,
           16.666666666666668,
           20,
           20,
           16.666666666666668,
           20,
           16.666666666666664,
           16.666666666666664,
           14.285714285714285,
           20,
           16.666666666666668,
           16.666666666666668,
           16.666666666666668,
           14.28571428571429,
           16.666666666666664,
           16.666666666666668,
           12.500000000000007,
           16.666666666666668,
           20,
           16.666666666666668,
           14.28571428571428,
           20,
           14.285714285714285,
           14.285714285714285,
           16.666666666666668,
           16.666666666666668,
           16.666666666666668,
           16.666666666666668,
           20,
           20.000000000000004,
           16.666666666666668,
           16.666666666666668,
           16.666666666666664,
           14.285714285714286,
           14.285714285714286,
           14.285714285714285,
           14.285714285714286,
           12.500000000000002,
           14.285714285714286,
           14.285714285714285,
           12.499999999999998,
           12.500000000000002,
           11.11111111111111,
           11.11111111111111,
           12.499999999999998,
           11.111111111111109,
           12.5,
           14.285714285714285,
           16.666666666666668,
           14.285714285714285,
           14.285714285714285,
           16.666666666666668,
           14.285714285714285,
           14.285714285714295,
           16.666666666666668,
           14.285714285714285,
           14.285714285714285,
           14.285714285714285,
           14.285714285714285,
           14.285714285714285,
           16.666666666666668,
           14.285714285714285,
           12.499999999999998,
           14.285714285714285,
           16.666666666666668,
           14.28571428571428,
           14.285714285714285,
           14.285714285714285,
           14.285714285714295,
           12.499999999999998,
           16.666666666666668,
           14.285714285714286,
           12.500000000000007,
           16.666666666666668,
           16.666666666666668,
           14.285714285714285,
           16.666666666666668,
           20.000000000000004,
           16.666666666666668,
           14.285714285714286,
           16.666666666666668,
           16.666666666666664,
           14.285714285714286,
           14.285714285714285,
           12.500000000000002,
           14.285714285714285,
           16.666666666666664,
           16.666666666666668,
           20,
           20,
           16.666666666666668,
           10.000000000000002,
           9.090909090909092,
           9.999999999999996
          ]
         },
         "mode": "markers",
         "name": "",
         "text": [
          "wt: S349",
          "wt: V350",
          "wt: Y351",
          "wt: A352",
          "wt: W353",
          "wt: N354",
          "wt: R355",
          "wt: K356",
          "wt: R357",
          "wt: I358",
          "wt: S359",
          "wt: N360",
          "wt: C361",
          "wt: V362",
          "wt: A363",
          "wt: D364",
          "wt: Y365",
          "wt: S366",
          "wt: V367",
          "wt: L368",
          "wt: Y369",
          "wt: N370",
          "wt: S371",
          "wt: A372",
          "wt: S373",
          "wt: F374",
          "wt: S375",
          "wt: T376",
          "wt: F377",
          "wt: K378",
          "wt: C379",
          "wt: Y380",
          "wt: G381",
          "wt: V382",
          "wt: S383",
          "wt: P384",
          "wt: T385",
          "wt: K386",
          "wt: L387",
          "wt: N388",
          "wt: D389",
          "wt: L390",
          "wt: C391",
          "wt: F392",
          "wt: T393",
          "wt: N394",
          "wt: V395",
          "wt: Y396",
          "wt: A397",
          "wt: D398",
          "wt: S399",
          "wt: F400",
          "wt: V401",
          "wt: I402",
          "wt: R403",
          "wt: G404",
          "wt: D405",
          "wt: E406",
          "wt: V407",
          "wt: R408",
          "wt: Q409",
          "wt: I410",
          "wt: A411",
          "wt: P412",
          "wt: G413",
          "wt: Q414",
          "wt: T415",
          "wt: G416",
          "wt: K417",
          "wt: I418",
          "wt: A419",
          "wt: D420",
          "wt: Y421",
          "wt: N422",
          "wt: Y423",
          "wt: K424",
          "wt: L425",
          "wt: P426",
          "wt: D427",
          "wt: D428",
          "wt: F429",
          "wt: T430",
          "wt: G431",
          "wt: C432",
          "wt: V433",
          "wt: I434",
          "wt: A435",
          "wt: W436",
          "wt: N437",
          "wt: S438",
          "wt: N439",
          "wt: N440",
          "wt: L441",
          "wt: D442",
          "wt: S443",
          "wt: K444",
          "wt: V445",
          "wt: G446",
          "wt: G447",
          "wt: N448",
          "wt: Y449",
          "wt: N450",
          "wt: Y451",
          "wt: L452",
          "wt: Y453",
          "wt: R454",
          "wt: L455",
          "wt: F456",
          "wt: R457",
          "wt: K458",
          "wt: S459",
          "wt: N460",
          "wt: L461",
          "wt: K462",
          "wt: P463",
          "wt: F464",
          "wt: E465",
          "wt: R466",
          "wt: D467",
          "wt: I468",
          "wt: S469",
          "wt: T470",
          "wt: E471",
          "wt: I472",
          "wt: Y473",
          "wt: Q474",
          "wt: A475",
          "wt: G476",
          "wt: S477",
          "wt: T478",
          "wt: P479",
          "wt: C480",
          "wt: N481",
          "wt: G482",
          "wt: V483",
          "wt: E484",
          "wt: G485",
          "wt: F486",
          "wt: N487",
          "wt: C488",
          "wt: Y489",
          "wt: F490",
          "wt: P491",
          "wt: L492",
          "wt: Q493",
          "wt: S494",
          "wt: Y495",
          "wt: G496",
          "wt: F497",
          "wt: Q498",
          "wt: P499",
          "wt: T500",
          "wt: N501",
          "wt: G502",
          "wt: V503",
          "wt: G504",
          "wt: Y505",
          "wt: Q506",
          "wt: P507",
          "wt: Y508",
          "wt: R509",
          "wt: V510",
          "wt: V511",
          "wt: V512",
          "wt: L513",
          "wt: S514",
          "wt: F515",
          "wt: E516",
          "wt: L517",
          "wt: L518",
          "wt: H519",
          "wt: A520",
          "wt: P521",
          "wt: A522",
          "wt: T523",
          "wt: V524",
          "wt: C525",
          "wt: G526"
         ],
         "textfont": {
          "color": "#E58606"
         },
         "textposition": "top right",
         "type": "scattergl",
         "uid": "66f9d234-e3fe-4c00-bc2a-5f6fe8a45f51",
         "x": [
          -1.2046,
          -1.1667,
          -1.2678,
          -1.1347,
          -1.3433,
          -0.6908,
          -1.46,
          -0.8585,
          -0.8866,
          -1.1399,
          -1.0692,
          -1.0716,
          -1.4536,
          -1.1652,
          -1.2195,
          -1.2435,
          -1.2247,
          -1.0245,
          -1.1382,
          -1.3272,
          -1.2234,
          -1.2102,
          -1.251,
          0.0083,
          -1.0373,
          -1.1951,
          -1.271,
          -1.2014,
          -1.3153,
          -1.0351,
          -1.5544,
          -1.2908,
          -1.3344,
          -1.4432,
          -1.3011,
          -1.0483,
          -1.0093,
          -1.3027,
          -1.3825,
          -1.0351,
          -1.3047,
          -1.2514,
          -1.5245,
          -1.2383,
          -0.6168,
          -0.8912,
          -1.2365,
          -1.2549,
          -1.2162,
          -1.4762,
          -0.9234,
          -1.434,
          -0.9475,
          -0.4977,
          0.0615,
          -1.0926,
          -1.1401,
          -0.6859,
          -1.1573,
          -1.1722,
          -1.2426,
          -1.0136,
          -1.2492,
          -1.257,
          -1.1064,
          -1.1209,
          -1.1667,
          -1.4381,
          -0.4315,
          -1.3088,
          -1.2311,
          -1.2382,
          -1.374,
          -1.5518,
          -1.5252,
          -1.2005,
          -1.339,
          -1.3234,
          -1.2182,
          -1.2017,
          -1.3508,
          -0.9311,
          -1.3138,
          -1.5387,
          -1.2237,
          -0.7544,
          -1.3137,
          -1.2219,
          -1.1781,
          -0.6044,
          -0.4444,
          -0.2092,
          -0.2007,
          -1.1966,
          -0.3077,
          -0.4083,
          -0.0565,
          -0.5834,
          -0.6227,
          -0.9643,
          -0.6399,
          -0.7114,
          -1.0353,
          -0.9576,
          -1.1071,
          -1.243,
          -0.6609,
          -0.7466,
          -1.1185,
          -0.725,
          -0.6361,
          -0.369,
          -0.9594,
          -0.9182,
          -1.2839,
          -0.8403,
          -1.0916,
          -1.1957,
          -1.2306,
          -0.8062,
          -1.1259,
          -0.608,
          -0.5911,
          -0.8332,
          -0.8968,
          -0.7201,
          -0.5693,
          -0.8152,
          -0.6329,
          -0.6578,
          -0.8332,
          -1.2501,
          -0.7105,
          -0.6489,
          -0.317,
          -0.2097,
          -0.9483,
          -0.2134,
          -1.0947,
          -1.1891,
          -1.0939,
          0.0474,
          -1.1151,
          -1.2033,
          0.0448,
          -0.3161,
          -1.2157,
          -1.1445,
          -1.2366,
          -0.111,
          -0.8526,
          -0.9683,
          -0.0427,
          -1.1747,
          -0.902,
          -0.7454,
          -0.6702,
          -1.2438,
          -1.0639,
          -0.8218,
          -1.1835,
          -1.1479,
          -1.2008,
          -1.2642,
          -1.1848,
          -1.2699,
          -1.1306,
          -1.1416,
          -1.1875,
          -1.2267,
          0.2159,
          -0.8394,
          -1.1793,
          -1.2426,
          -1.2803,
          -1.4834,
          -1.5027,
          -1.2935
         ],
         "y": [
          0.0735632183908046,
          0.069284064665127,
          0.0930232558139534,
          0.0692124105011933,
          0.0669856459330143,
          0.0955631399317406,
          0.0893470790378006,
          0.1588785046728972,
          0.1516853932584269,
          0.0622950819672131,
          0.1445086705202312,
          0.0766129032258064,
          0.1707317073170731,
          0.0702479338842975,
          0.074074074074074,
          0.1229508196721311,
          0.1481481481481481,
          0.1743119266055046,
          0.1743119266055046,
          0.1818181818181818,
          0.4906542056074766,
          0.4925373134328358,
          0.3875,
          0.3875,
          0.1759259259259259,
          0.4096385542168674,
          0.391304347826087,
          0.3988439306358382,
          0.4977973568281938,
          0.4894514767932489,
          0.5412371134020618,
          0.4482758620689655,
          0.3782051282051282,
          0.4160583941605839,
          0.5291005291005291,
          0.3271604938271605,
          0.3202614379084967,
          0.2592592592592592,
          0.1212121212121212,
          0.2226277372262773,
          0.117391304347826,
          0.2446808510638297,
          0.1100478468899521,
          0.2403100775193798,
          0.1100478468899521,
          0.0884146341463414,
          0.0856269113149847,
          0.0891089108910891,
          0.086092715231788,
          0.086092715231788,
          0.086092715231788,
          0.0888157894736842,
          0.0891089108910891,
          0.0762942779291553,
          0.2796610169491525,
          0.0613207547169811,
          0.160337552742616,
          0.0962343096234309,
          0.0769230769230769,
          0.247787610619469,
          0.1281138790035587,
          0.085820895522388,
          0.0930232558139534,
          0.1947194719471947,
          0.1,
          0.2742857142857143,
          0.2320261437908496,
          0.2307692307692307,
          0.4356261022927689,
          0.0982456140350877,
          0.1107266435986159,
          0.2212121212121212,
          0.234375,
          0.1058394160583941,
          0.1058394160583941,
          0.0907127429805615,
          0.0920770877944325,
          0.0691358024691358,
          0.1419068736141907,
          0.1494505494505494,
          0.1456953642384106,
          0.1456953642384106,
          0.0660146699266503,
          0.0753623188405797,
          0.0780346820809248,
          0.0539568345323741,
          0.057347670250896,
          0.0462633451957295,
          0.056338028169014,
          0.0496453900709219,
          0.065359477124183,
          0.1044776119402985,
          0.1489841986455982,
          0.0688775510204081,
          0.0759493670886076,
          0.1287553648068669,
          0.1775510204081632,
          0.2682119205298013,
          0.106430155210643,
          0.1232323232323232,
          0.309375,
          0.1688555347091932,
          0.0981963927855711,
          0.1903052064631956,
          0.2470588235294117,
          0.1043643263757115,
          0.2944693572496263,
          0.2815829528158295,
          0.1639639639639639,
          0.1743772241992882,
          0.1183206106870229,
          0.156934306569343,
          0.0833333333333333,
          0.0923694779116465,
          0.0960698689956331,
          0.0967741935483871,
          0.1072319201995012,
          0.1129476584022038,
          0.1132596685082873,
          0.1191135734072022,
          0.1092436974789916,
          0.175,
          0.1388888888888889,
          0.1621621621621621,
          0.226044226044226,
          0.1687898089171974,
          0.2627118644067797,
          0.248502994011976,
          0.2270114942528735,
          0.1510067114093959,
          0.1130742049469964,
          0.3648881239242685,
          0.3795811518324607,
          0.3820078226857888,
          0.3930857874519846,
          0.4793103448275862,
          0.4144254278728606,
          0.4328358208955223,
          0.407942238267148,
          0.3419972640218878,
          0.4161979752530934,
          0.4113389626055488,
          0.3211781206171108,
          0.3520749665327978,
          0.428066037735849,
          0.3834498834498834,
          0.240325865580448,
          0.2333333333333333,
          0.0970654627539503,
          0.2411642411642411,
          0.1938997821350762,
          0.230607966457023,
          0.4366812227074236,
          0.2805907172995781,
          0.1253196930946291,
          0.1408114558472553,
          0.3085714285714285,
          0.128395061728395,
          0.1262376237623762,
          0.1326781326781326,
          0.1152882205513784,
          0.0902061855670103,
          0.1145833333333333,
          0.1128608923884514,
          0.1243523316062176,
          0.1363636363636363,
          0.1386138613861386,
          0.1352785145888594,
          0.1961722488038277,
          0.1189189189189189,
          0.1030640668523676,
          0.0878186968838526,
          0.0694864048338368,
          0.0694864048338368,
          0.072289156626506,
          0.3202416918429003,
          0.335548172757475,
          0.3388157894736842
         ]
        },
        {
         "marker": {
          "color": "red",
          "size": [
           12.500000000000007,
           16.666666666666668,
           12.499999999999998,
           11.111111111111109,
           14.285714285714285,
           16.666666666666668,
           14.285714285714295
          ]
         },
         "mode": "markers",
         "showlegend": false,
         "text": [
          "wt: K417",
          "wt: L452",
          "wt: S477",
          "wt: T478",
          "wt: V483",
          "wt: E484",
          "wt: N501"
         ],
         "textfont": {
          "color": "#E58606"
         },
         "textposition": "top right",
         "type": "scattergl",
         "uid": "49b36d94-3950-46cf-80ee-3a7edfc625ce",
         "x": [
          -0.4315,
          -0.9576,
          -0.6329,
          -0.6578,
          -0.317,
          -0.2097,
          -0.0427
         ],
         "y": [
          0.4356261022927689,
          0.1903052064631956,
          0.2270114942528735,
          0.1510067114093959,
          0.3930857874519846,
          0.4793103448275862,
          0.4366812227074236
         ]
        }
       ],
       "layout": {
        "legend": {
         "itemclick": "toggleothers",
         "itemdoubleclick": "toggle"
        },
        "margin": {
         "b": 20,
         "l": 20,
         "r": 20,
         "t": 20
        },
        "plot_bgcolor": "#FFF",
        "template": {
         "data": {
          "bar": [
           {
            "error_x": {
             "color": "#2a3f5f"
            },
            "error_y": {
             "color": "#2a3f5f"
            },
            "marker": {
             "line": {
              "color": "#E5ECF6",
              "width": 0.5
             },
             "pattern": {
              "fillmode": "overlay",
              "size": 10,
              "solidity": 0.2
             }
            },
            "type": "bar"
           }
          ],
          "barpolar": [
           {
            "marker": {
             "line": {
              "color": "#E5ECF6",
              "width": 0.5
             },
             "pattern": {
              "fillmode": "overlay",
              "size": 10,
              "solidity": 0.2
             }
            },
            "type": "barpolar"
           }
          ],
          "carpet": [
           {
            "aaxis": {
             "endlinecolor": "#2a3f5f",
             "gridcolor": "white",
             "linecolor": "white",
             "minorgridcolor": "white",
             "startlinecolor": "#2a3f5f"
            },
            "baxis": {
             "endlinecolor": "#2a3f5f",
             "gridcolor": "white",
             "linecolor": "white",
             "minorgridcolor": "white",
             "startlinecolor": "#2a3f5f"
            },
            "type": "carpet"
           }
          ],
          "choropleth": [
           {
            "colorbar": {
             "outlinewidth": 0,
             "ticks": ""
            },
            "type": "choropleth"
           }
          ],
          "contour": [
           {
            "colorbar": {
             "outlinewidth": 0,
             "ticks": ""
            },
            "colorscale": [
             [
              0,
              "#0d0887"
             ],
             [
              0.1111111111111111,
              "#46039f"
             ],
             [
              0.2222222222222222,
              "#7201a8"
             ],
             [
              0.3333333333333333,
              "#9c179e"
             ],
             [
              0.4444444444444444,
              "#bd3786"
             ],
             [
              0.5555555555555556,
              "#d8576b"
             ],
             [
              0.6666666666666666,
              "#ed7953"
             ],
             [
              0.7777777777777778,
              "#fb9f3a"
             ],
             [
              0.8888888888888888,
              "#fdca26"
             ],
             [
              1,
              "#f0f921"
             ]
            ],
            "type": "contour"
           }
          ],
          "contourcarpet": [
           {
            "colorbar": {
             "outlinewidth": 0,
             "ticks": ""
            },
            "type": "contourcarpet"
           }
          ],
          "heatmap": [
           {
            "colorbar": {
             "outlinewidth": 0,
             "ticks": ""
            },
            "colorscale": [
             [
              0,
              "#0d0887"
             ],
             [
              0.1111111111111111,
              "#46039f"
             ],
             [
              0.2222222222222222,
              "#7201a8"
             ],
             [
              0.3333333333333333,
              "#9c179e"
             ],
             [
              0.4444444444444444,
              "#bd3786"
             ],
             [
              0.5555555555555556,
              "#d8576b"
             ],
             [
              0.6666666666666666,
              "#ed7953"
             ],
             [
              0.7777777777777778,
              "#fb9f3a"
             ],
             [
              0.8888888888888888,
              "#fdca26"
             ],
             [
              1,
              "#f0f921"
             ]
            ],
            "type": "heatmap"
           }
          ],
          "heatmapgl": [
           {
            "colorbar": {
             "outlinewidth": 0,
             "ticks": ""
            },
            "colorscale": [
             [
              0,
              "#0d0887"
             ],
             [
              0.1111111111111111,
              "#46039f"
             ],
             [
              0.2222222222222222,
              "#7201a8"
             ],
             [
              0.3333333333333333,
              "#9c179e"
             ],
             [
              0.4444444444444444,
              "#bd3786"
             ],
             [
              0.5555555555555556,
              "#d8576b"
             ],
             [
              0.6666666666666666,
              "#ed7953"
             ],
             [
              0.7777777777777778,
              "#fb9f3a"
             ],
             [
              0.8888888888888888,
              "#fdca26"
             ],
             [
              1,
              "#f0f921"
             ]
            ],
            "type": "heatmapgl"
           }
          ],
          "histogram": [
           {
            "marker": {
             "pattern": {
              "fillmode": "overlay",
              "size": 10,
              "solidity": 0.2
             }
            },
            "type": "histogram"
           }
          ],
          "histogram2d": [
           {
            "colorbar": {
             "outlinewidth": 0,
             "ticks": ""
            },
            "colorscale": [
             [
              0,
              "#0d0887"
             ],
             [
              0.1111111111111111,
              "#46039f"
             ],
             [
              0.2222222222222222,
              "#7201a8"
             ],
             [
              0.3333333333333333,
              "#9c179e"
             ],
             [
              0.4444444444444444,
              "#bd3786"
             ],
             [
              0.5555555555555556,
              "#d8576b"
             ],
             [
              0.6666666666666666,
              "#ed7953"
             ],
             [
              0.7777777777777778,
              "#fb9f3a"
             ],
             [
              0.8888888888888888,
              "#fdca26"
             ],
             [
              1,
              "#f0f921"
             ]
            ],
            "type": "histogram2d"
           }
          ],
          "histogram2dcontour": [
           {
            "colorbar": {
             "outlinewidth": 0,
             "ticks": ""
            },
            "colorscale": [
             [
              0,
              "#0d0887"
             ],
             [
              0.1111111111111111,
              "#46039f"
             ],
             [
              0.2222222222222222,
              "#7201a8"
             ],
             [
              0.3333333333333333,
              "#9c179e"
             ],
             [
              0.4444444444444444,
              "#bd3786"
             ],
             [
              0.5555555555555556,
              "#d8576b"
             ],
             [
              0.6666666666666666,
              "#ed7953"
             ],
             [
              0.7777777777777778,
              "#fb9f3a"
             ],
             [
              0.8888888888888888,
              "#fdca26"
             ],
             [
              1,
              "#f0f921"
             ]
            ],
            "type": "histogram2dcontour"
           }
          ],
          "mesh3d": [
           {
            "colorbar": {
             "outlinewidth": 0,
             "ticks": ""
            },
            "type": "mesh3d"
           }
          ],
          "parcoords": [
           {
            "line": {
             "colorbar": {
              "outlinewidth": 0,
              "ticks": ""
             }
            },
            "type": "parcoords"
           }
          ],
          "pie": [
           {
            "automargin": true,
            "type": "pie"
           }
          ],
          "scatter": [
           {
            "marker": {
             "colorbar": {
              "outlinewidth": 0,
              "ticks": ""
             }
            },
            "type": "scatter"
           }
          ],
          "scatter3d": [
           {
            "line": {
             "colorbar": {
              "outlinewidth": 0,
              "ticks": ""
             }
            },
            "marker": {
             "colorbar": {
              "outlinewidth": 0,
              "ticks": ""
             }
            },
            "type": "scatter3d"
           }
          ],
          "scattercarpet": [
           {
            "marker": {
             "colorbar": {
              "outlinewidth": 0,
              "ticks": ""
             }
            },
            "type": "scattercarpet"
           }
          ],
          "scattergeo": [
           {
            "marker": {
             "colorbar": {
              "outlinewidth": 0,
              "ticks": ""
             }
            },
            "type": "scattergeo"
           }
          ],
          "scattergl": [
           {
            "marker": {
             "colorbar": {
              "outlinewidth": 0,
              "ticks": ""
             }
            },
            "type": "scattergl"
           }
          ],
          "scattermapbox": [
           {
            "marker": {
             "colorbar": {
              "outlinewidth": 0,
              "ticks": ""
             }
            },
            "type": "scattermapbox"
           }
          ],
          "scatterpolar": [
           {
            "marker": {
             "colorbar": {
              "outlinewidth": 0,
              "ticks": ""
             }
            },
            "type": "scatterpolar"
           }
          ],
          "scatterpolargl": [
           {
            "marker": {
             "colorbar": {
              "outlinewidth": 0,
              "ticks": ""
             }
            },
            "type": "scatterpolargl"
           }
          ],
          "scatterternary": [
           {
            "marker": {
             "colorbar": {
              "outlinewidth": 0,
              "ticks": ""
             }
            },
            "type": "scatterternary"
           }
          ],
          "surface": [
           {
            "colorbar": {
             "outlinewidth": 0,
             "ticks": ""
            },
            "colorscale": [
             [
              0,
              "#0d0887"
             ],
             [
              0.1111111111111111,
              "#46039f"
             ],
             [
              0.2222222222222222,
              "#7201a8"
             ],
             [
              0.3333333333333333,
              "#9c179e"
             ],
             [
              0.4444444444444444,
              "#bd3786"
             ],
             [
              0.5555555555555556,
              "#d8576b"
             ],
             [
              0.6666666666666666,
              "#ed7953"
             ],
             [
              0.7777777777777778,
              "#fb9f3a"
             ],
             [
              0.8888888888888888,
              "#fdca26"
             ],
             [
              1,
              "#f0f921"
             ]
            ],
            "type": "surface"
           }
          ],
          "table": [
           {
            "cells": {
             "fill": {
              "color": "#EBF0F8"
             },
             "line": {
              "color": "white"
             }
            },
            "header": {
             "fill": {
              "color": "#C8D4E3"
             },
             "line": {
              "color": "white"
             }
            },
            "type": "table"
           }
          ]
         },
         "layout": {
          "annotationdefaults": {
           "arrowcolor": "#2a3f5f",
           "arrowhead": 0,
           "arrowwidth": 1
          },
          "autotypenumbers": "strict",
          "coloraxis": {
           "colorbar": {
            "outlinewidth": 0,
            "ticks": ""
           }
          },
          "colorscale": {
           "diverging": [
            [
             0,
             "#8e0152"
            ],
            [
             0.1,
             "#c51b7d"
            ],
            [
             0.2,
             "#de77ae"
            ],
            [
             0.3,
             "#f1b6da"
            ],
            [
             0.4,
             "#fde0ef"
            ],
            [
             0.5,
             "#f7f7f7"
            ],
            [
             0.6,
             "#e6f5d0"
            ],
            [
             0.7,
             "#b8e186"
            ],
            [
             0.8,
             "#7fbc41"
            ],
            [
             0.9,
             "#4d9221"
            ],
            [
             1,
             "#276419"
            ]
           ],
           "sequential": [
            [
             0,
             "#0d0887"
            ],
            [
             0.1111111111111111,
             "#46039f"
            ],
            [
             0.2222222222222222,
             "#7201a8"
            ],
            [
             0.3333333333333333,
             "#9c179e"
            ],
            [
             0.4444444444444444,
             "#bd3786"
            ],
            [
             0.5555555555555556,
             "#d8576b"
            ],
            [
             0.6666666666666666,
             "#ed7953"
            ],
            [
             0.7777777777777778,
             "#fb9f3a"
            ],
            [
             0.8888888888888888,
             "#fdca26"
            ],
            [
             1,
             "#f0f921"
            ]
           ],
           "sequentialminus": [
            [
             0,
             "#0d0887"
            ],
            [
             0.1111111111111111,
             "#46039f"
            ],
            [
             0.2222222222222222,
             "#7201a8"
            ],
            [
             0.3333333333333333,
             "#9c179e"
            ],
            [
             0.4444444444444444,
             "#bd3786"
            ],
            [
             0.5555555555555556,
             "#d8576b"
            ],
            [
             0.6666666666666666,
             "#ed7953"
            ],
            [
             0.7777777777777778,
             "#fb9f3a"
            ],
            [
             0.8888888888888888,
             "#fdca26"
            ],
            [
             1,
             "#f0f921"
            ]
           ]
          },
          "colorway": [
           "#636efa",
           "#EF553B",
           "#00cc96",
           "#ab63fa",
           "#FFA15A",
           "#19d3f3",
           "#FF6692",
           "#B6E880",
           "#FF97FF",
           "#FECB52"
          ],
          "font": {
           "color": "#2a3f5f"
          },
          "geo": {
           "bgcolor": "white",
           "lakecolor": "white",
           "landcolor": "#E5ECF6",
           "showlakes": true,
           "showland": true,
           "subunitcolor": "white"
          },
          "hoverlabel": {
           "align": "left"
          },
          "hovermode": "closest",
          "mapbox": {
           "style": "light"
          },
          "paper_bgcolor": "white",
          "plot_bgcolor": "#E5ECF6",
          "polar": {
           "angularaxis": {
            "gridcolor": "white",
            "linecolor": "white",
            "ticks": ""
           },
           "bgcolor": "#E5ECF6",
           "radialaxis": {
            "gridcolor": "white",
            "linecolor": "white",
            "ticks": ""
           }
          },
          "scene": {
           "xaxis": {
            "backgroundcolor": "#E5ECF6",
            "gridcolor": "white",
            "gridwidth": 2,
            "linecolor": "white",
            "showbackground": true,
            "ticks": "",
            "zerolinecolor": "white"
           },
           "yaxis": {
            "backgroundcolor": "#E5ECF6",
            "gridcolor": "white",
            "gridwidth": 2,
            "linecolor": "white",
            "showbackground": true,
            "ticks": "",
            "zerolinecolor": "white"
           },
           "zaxis": {
            "backgroundcolor": "#E5ECF6",
            "gridcolor": "white",
            "gridwidth": 2,
            "linecolor": "white",
            "showbackground": true,
            "ticks": "",
            "zerolinecolor": "white"
           }
          },
          "shapedefaults": {
           "line": {
            "color": "#2a3f5f"
           }
          },
          "ternary": {
           "aaxis": {
            "gridcolor": "white",
            "linecolor": "white",
            "ticks": ""
           },
           "baxis": {
            "gridcolor": "white",
            "linecolor": "white",
            "ticks": ""
           },
           "bgcolor": "#E5ECF6",
           "caxis": {
            "gridcolor": "white",
            "linecolor": "white",
            "ticks": ""
           }
          },
          "title": {
           "x": 0.05
          },
          "xaxis": {
           "automargin": true,
           "gridcolor": "white",
           "linecolor": "white",
           "ticks": "",
           "title": {
            "standoff": 15
           },
           "zerolinecolor": "white",
           "zerolinewidth": 2
          },
          "yaxis": {
           "automargin": true,
           "gridcolor": "white",
           "linecolor": "white",
           "ticks": "",
           "title": {
            "standoff": 15
           },
           "zerolinecolor": "white",
           "zerolinewidth": 2
          }
         }
        },
        "xaxis": {
         "linecolor": "#BCCCDC",
         "mirror": true,
         "showgrid": true,
         "title": {
          "text": "mutability_score(DCA)"
         }
        },
        "yaxis": {
         "linecolor": "#BCCCDC",
         "mirror": true,
         "showgrid": true,
         "title": {
          "text": "IEDB - Response Frequency"
         }
        }
       }
      },
      "text/html": [
       "<div>                            <div id=\"421e873e-1103-4243-9af4-3ade09261b71\" class=\"plotly-graph-div\" style=\"height:525px; width:100%;\"></div>            <script type=\"text/javascript\">                require([\"plotly\"], function(Plotly) {                    window.PLOTLYENV=window.PLOTLYENV || {};                                    if (document.getElementById(\"421e873e-1103-4243-9af4-3ade09261b71\")) {                    Plotly.newPlot(                        \"421e873e-1103-4243-9af4-3ade09261b71\",                        [{\"marker\":{\"color\":\"#5D69B1\",\"size\":[20.0,20.0,20.000000000000004,20.0,20.0,16.666666666666668,14.285714285714285,12.499999999999998,14.285714285714285,16.666666666666664,12.5,14.285714285714286,11.11111111111111,14.285714285714285,16.666666666666668,9.090909090909092,9.090909090909092,6.666666666666666,6.666666666666666,7.142857142857142,7.14285714285714,7.14285714285714,7.142857142857142,7.142857142857142,7.142857142857142,6.666666666666668,6.666666666666668,7.142857142857145,7.692307692307689,8.33333333333333,7.142857142857142,6.249999999999999,6.666666666666666,6.250000000000001,7.142857142857145,10.000000000000002,10.000000000000002,10.0,12.499999999999998,9.999999999999996,11.111111111111109,10.000000000000002,11.11111111111111,9.090909090909092,11.11111111111111,16.666666666666668,16.666666666666668,14.285714285714285,16.666666666666668,16.666666666666668,16.666666666666668,14.285714285714285,14.285714285714285,16.666666666666668,12.499999999999998,16.666666666666664,11.11111111111111,12.499999999999998,14.285714285714286,10.000000000000002,12.499999999999998,14.285714285714285,14.285714285714285,11.11111111111111,14.285714285714285,11.11111111111111,11.111111111111109,11.111111111111109,12.500000000000007,14.285714285714285,14.285714285714286,11.111111111111109,11.111111111111109,12.500000000000002,12.500000000000002,20.000000000000004,20.000000000000004,20.0,14.285714285714286,14.285714285714285,16.666666666666668,16.666666666666668,25.000000000000004,16.666666666666668,16.666666666666668,16.666666666666668,20.0,20.0,16.666666666666668,20.0,16.666666666666664,16.666666666666664,14.285714285714285,20.0,16.666666666666668,16.666666666666668,16.666666666666668,14.28571428571429,16.666666666666664,16.666666666666668,12.500000000000007,16.666666666666668,20.0,16.666666666666668,14.28571428571428,20.0,14.285714285714285,14.285714285714285,16.666666666666668,16.666666666666668,16.666666666666668,16.666666666666668,20.0,20.000000000000004,16.666666666666668,16.666666666666668,16.666666666666664,14.285714285714286,14.285714285714286,14.285714285714285,14.285714285714286,12.500000000000002,14.285714285714286,14.285714285714285,12.499999999999998,12.500000000000002,11.11111111111111,11.11111111111111,12.499999999999998,11.111111111111109,12.5,14.285714285714285,16.666666666666668,14.285714285714285,14.285714285714285,16.666666666666668,14.285714285714285,14.285714285714295,16.666666666666668,14.285714285714285,14.285714285714285,14.285714285714285,14.285714285714285,14.285714285714285,16.666666666666668,14.285714285714285,12.499999999999998,14.285714285714285,16.666666666666668,14.28571428571428,14.285714285714285,14.285714285714285,14.285714285714295,12.499999999999998,16.666666666666668,14.285714285714286,12.500000000000007,16.666666666666668,16.666666666666668,14.285714285714285,16.666666666666668,20.000000000000004,16.666666666666668,14.285714285714286,16.666666666666668,16.666666666666664,14.285714285714286,14.285714285714285,12.500000000000002,14.285714285714285,16.666666666666664,16.666666666666668,20.0,20.0,16.666666666666668,10.000000000000002,9.090909090909092,9.999999999999996]},\"mode\":\"markers\",\"name\":\"\",\"text\":[\"wt: S349\",\"wt: V350\",\"wt: Y351\",\"wt: A352\",\"wt: W353\",\"wt: N354\",\"wt: R355\",\"wt: K356\",\"wt: R357\",\"wt: I358\",\"wt: S359\",\"wt: N360\",\"wt: C361\",\"wt: V362\",\"wt: A363\",\"wt: D364\",\"wt: Y365\",\"wt: S366\",\"wt: V367\",\"wt: L368\",\"wt: Y369\",\"wt: N370\",\"wt: S371\",\"wt: A372\",\"wt: S373\",\"wt: F374\",\"wt: S375\",\"wt: T376\",\"wt: F377\",\"wt: K378\",\"wt: C379\",\"wt: Y380\",\"wt: G381\",\"wt: V382\",\"wt: S383\",\"wt: P384\",\"wt: T385\",\"wt: K386\",\"wt: L387\",\"wt: N388\",\"wt: D389\",\"wt: L390\",\"wt: C391\",\"wt: F392\",\"wt: T393\",\"wt: N394\",\"wt: V395\",\"wt: Y396\",\"wt: A397\",\"wt: D398\",\"wt: S399\",\"wt: F400\",\"wt: V401\",\"wt: I402\",\"wt: R403\",\"wt: G404\",\"wt: D405\",\"wt: E406\",\"wt: V407\",\"wt: R408\",\"wt: Q409\",\"wt: I410\",\"wt: A411\",\"wt: P412\",\"wt: G413\",\"wt: Q414\",\"wt: T415\",\"wt: G416\",\"wt: K417\",\"wt: I418\",\"wt: A419\",\"wt: D420\",\"wt: Y421\",\"wt: N422\",\"wt: Y423\",\"wt: K424\",\"wt: L425\",\"wt: P426\",\"wt: D427\",\"wt: D428\",\"wt: F429\",\"wt: T430\",\"wt: G431\",\"wt: C432\",\"wt: V433\",\"wt: I434\",\"wt: A435\",\"wt: W436\",\"wt: N437\",\"wt: S438\",\"wt: N439\",\"wt: N440\",\"wt: L441\",\"wt: D442\",\"wt: S443\",\"wt: K444\",\"wt: V445\",\"wt: G446\",\"wt: G447\",\"wt: N448\",\"wt: Y449\",\"wt: N450\",\"wt: Y451\",\"wt: L452\",\"wt: Y453\",\"wt: R454\",\"wt: L455\",\"wt: F456\",\"wt: R457\",\"wt: K458\",\"wt: S459\",\"wt: N460\",\"wt: L461\",\"wt: K462\",\"wt: P463\",\"wt: F464\",\"wt: E465\",\"wt: R466\",\"wt: D467\",\"wt: I468\",\"wt: S469\",\"wt: T470\",\"wt: E471\",\"wt: I472\",\"wt: Y473\",\"wt: Q474\",\"wt: A475\",\"wt: G476\",\"wt: S477\",\"wt: T478\",\"wt: P479\",\"wt: C480\",\"wt: N481\",\"wt: G482\",\"wt: V483\",\"wt: E484\",\"wt: G485\",\"wt: F486\",\"wt: N487\",\"wt: C488\",\"wt: Y489\",\"wt: F490\",\"wt: P491\",\"wt: L492\",\"wt: Q493\",\"wt: S494\",\"wt: Y495\",\"wt: G496\",\"wt: F497\",\"wt: Q498\",\"wt: P499\",\"wt: T500\",\"wt: N501\",\"wt: G502\",\"wt: V503\",\"wt: G504\",\"wt: Y505\",\"wt: Q506\",\"wt: P507\",\"wt: Y508\",\"wt: R509\",\"wt: V510\",\"wt: V511\",\"wt: V512\",\"wt: L513\",\"wt: S514\",\"wt: F515\",\"wt: E516\",\"wt: L517\",\"wt: L518\",\"wt: H519\",\"wt: A520\",\"wt: P521\",\"wt: A522\",\"wt: T523\",\"wt: V524\",\"wt: C525\",\"wt: G526\"],\"textfont\":{\"color\":\"#E58606\"},\"textposition\":\"top right\",\"type\":\"scattergl\",\"uid\":\"66f9d234-e3fe-4c00-bc2a-5f6fe8a45f51\",\"x\":[-1.2046,-1.1667,-1.2678,-1.1347,-1.3433,-0.6908,-1.46,-0.8585,-0.8866,-1.1399,-1.0692,-1.0716,-1.4536,-1.1652,-1.2195,-1.2435,-1.2247,-1.0245,-1.1382,-1.3272,-1.2234,-1.2102,-1.251,0.0083,-1.0373,-1.1951,-1.271,-1.2014,-1.3153,-1.0351,-1.5544,-1.2908,-1.3344,-1.4432,-1.3011,-1.0483,-1.0093,-1.3027,-1.3825,-1.0351,-1.3047,-1.2514,-1.5245,-1.2383,-0.6168,-0.8912,-1.2365,-1.2549,-1.2162,-1.4762,-0.9234,-1.434,-0.9475,-0.4977,0.0615,-1.0926,-1.1401,-0.6859,-1.1573,-1.1722,-1.2426,-1.0136,-1.2492,-1.257,-1.1064,-1.1209,-1.1667,-1.4381,-0.4315,-1.3088,-1.2311,-1.2382,-1.374,-1.5518,-1.5252,-1.2005,-1.339,-1.3234,-1.2182,-1.2017,-1.3508,-0.9311,-1.3138,-1.5387,-1.2237,-0.7544,-1.3137,-1.2219,-1.1781,-0.6044,-0.4444,-0.2092,-0.2007,-1.1966,-0.3077,-0.4083,-0.0565,-0.5834,-0.6227,-0.9643,-0.6399,-0.7114,-1.0353,-0.9576,-1.1071,-1.243,-0.6609,-0.7466,-1.1185,-0.725,-0.6361,-0.369,-0.9594,-0.9182,-1.2839,-0.8403,-1.0916,-1.1957,-1.2306,-0.8062,-1.1259,-0.608,-0.5911,-0.8332,-0.8968,-0.7201,-0.5693,-0.8152,-0.6329,-0.6578,-0.8332,-1.2501,-0.7105,-0.6489,-0.317,-0.2097,-0.9483,-0.2134,-1.0947,-1.1891,-1.0939,0.0474,-1.1151,-1.2033,0.0448,-0.3161,-1.2157,-1.1445,-1.2366,-0.111,-0.8526,-0.9683,-0.0427,-1.1747,-0.902,-0.7454,-0.6702,-1.2438,-1.0639,-0.8218,-1.1835,-1.1479,-1.2008,-1.2642,-1.1848,-1.2699,-1.1306,-1.1416,-1.1875,-1.2267,0.2159,-0.8394,-1.1793,-1.2426,-1.2803,-1.4834,-1.5027,-1.2935],\"y\":[0.0735632183908046,0.069284064665127,0.0930232558139534,0.0692124105011933,0.0669856459330143,0.0955631399317406,0.0893470790378006,0.1588785046728972,0.1516853932584269,0.0622950819672131,0.1445086705202312,0.0766129032258064,0.1707317073170731,0.0702479338842975,0.074074074074074,0.1229508196721311,0.1481481481481481,0.1743119266055046,0.1743119266055046,0.1818181818181818,0.4906542056074766,0.4925373134328358,0.3875,0.3875,0.1759259259259259,0.4096385542168674,0.391304347826087,0.3988439306358382,0.4977973568281938,0.4894514767932489,0.5412371134020618,0.4482758620689655,0.3782051282051282,0.4160583941605839,0.5291005291005291,0.3271604938271605,0.3202614379084967,0.2592592592592592,0.1212121212121212,0.2226277372262773,0.117391304347826,0.2446808510638297,0.1100478468899521,0.2403100775193798,0.1100478468899521,0.0884146341463414,0.0856269113149847,0.0891089108910891,0.086092715231788,0.086092715231788,0.086092715231788,0.0888157894736842,0.0891089108910891,0.0762942779291553,0.2796610169491525,0.0613207547169811,0.160337552742616,0.0962343096234309,0.0769230769230769,0.247787610619469,0.1281138790035587,0.085820895522388,0.0930232558139534,0.1947194719471947,0.1,0.2742857142857143,0.2320261437908496,0.2307692307692307,0.4356261022927689,0.0982456140350877,0.1107266435986159,0.2212121212121212,0.234375,0.1058394160583941,0.1058394160583941,0.0907127429805615,0.0920770877944325,0.0691358024691358,0.1419068736141907,0.1494505494505494,0.1456953642384106,0.1456953642384106,0.0660146699266503,0.0753623188405797,0.0780346820809248,0.0539568345323741,0.057347670250896,0.0462633451957295,0.056338028169014,0.0496453900709219,0.065359477124183,0.1044776119402985,0.1489841986455982,0.0688775510204081,0.0759493670886076,0.1287553648068669,0.1775510204081632,0.2682119205298013,0.106430155210643,0.1232323232323232,0.309375,0.1688555347091932,0.0981963927855711,0.1903052064631956,0.2470588235294117,0.1043643263757115,0.2944693572496263,0.2815829528158295,0.1639639639639639,0.1743772241992882,0.1183206106870229,0.156934306569343,0.0833333333333333,0.0923694779116465,0.0960698689956331,0.0967741935483871,0.1072319201995012,0.1129476584022038,0.1132596685082873,0.1191135734072022,0.1092436974789916,0.175,0.1388888888888889,0.1621621621621621,0.226044226044226,0.1687898089171974,0.2627118644067797,0.248502994011976,0.2270114942528735,0.1510067114093959,0.1130742049469964,0.3648881239242685,0.3795811518324607,0.3820078226857888,0.3930857874519846,0.4793103448275862,0.4144254278728606,0.4328358208955223,0.407942238267148,0.3419972640218878,0.4161979752530934,0.4113389626055488,0.3211781206171108,0.3520749665327978,0.428066037735849,0.3834498834498834,0.240325865580448,0.2333333333333333,0.0970654627539503,0.2411642411642411,0.1938997821350762,0.230607966457023,0.4366812227074236,0.2805907172995781,0.1253196930946291,0.1408114558472553,0.3085714285714285,0.128395061728395,0.1262376237623762,0.1326781326781326,0.1152882205513784,0.0902061855670103,0.1145833333333333,0.1128608923884514,0.1243523316062176,0.1363636363636363,0.1386138613861386,0.1352785145888594,0.1961722488038277,0.1189189189189189,0.1030640668523676,0.0878186968838526,0.0694864048338368,0.0694864048338368,0.072289156626506,0.3202416918429003,0.335548172757475,0.3388157894736842]},{\"marker\":{\"color\":\"red\",\"size\":[12.500000000000007,16.666666666666668,12.499999999999998,11.111111111111109,14.285714285714285,16.666666666666668,14.285714285714295]},\"mode\":\"markers\",\"showlegend\":false,\"text\":[\"wt: K417\",\"wt: L452\",\"wt: S477\",\"wt: T478\",\"wt: V483\",\"wt: E484\",\"wt: N501\"],\"textfont\":{\"color\":\"#E58606\"},\"textposition\":\"top right\",\"type\":\"scattergl\",\"uid\":\"49b36d94-3950-46cf-80ee-3a7edfc625ce\",\"x\":[-0.4315,-0.9576,-0.6329,-0.6578,-0.317,-0.2097,-0.0427],\"y\":[0.4356261022927689,0.1903052064631956,0.2270114942528735,0.1510067114093959,0.3930857874519846,0.4793103448275862,0.4366812227074236]}],                        {\"legend\":{\"itemclick\":\"toggleothers\",\"itemdoubleclick\":\"toggle\"},\"margin\":{\"b\":20,\"l\":20,\"r\":20,\"t\":20},\"plot_bgcolor\":\"#FFF\",\"template\":{\"data\":{\"bar\":[{\"error_x\":{\"color\":\"#2a3f5f\"},\"error_y\":{\"color\":\"#2a3f5f\"},\"marker\":{\"line\":{\"color\":\"#E5ECF6\",\"width\":0.5},\"pattern\":{\"fillmode\":\"overlay\",\"size\":10,\"solidity\":0.2}},\"type\":\"bar\"}],\"barpolar\":[{\"marker\":{\"line\":{\"color\":\"#E5ECF6\",\"width\":0.5},\"pattern\":{\"fillmode\":\"overlay\",\"size\":10,\"solidity\":0.2}},\"type\":\"barpolar\"}],\"carpet\":[{\"aaxis\":{\"endlinecolor\":\"#2a3f5f\",\"gridcolor\":\"white\",\"linecolor\":\"white\",\"minorgridcolor\":\"white\",\"startlinecolor\":\"#2a3f5f\"},\"baxis\":{\"endlinecolor\":\"#2a3f5f\",\"gridcolor\":\"white\",\"linecolor\":\"white\",\"minorgridcolor\":\"white\",\"startlinecolor\":\"#2a3f5f\"},\"type\":\"carpet\"}],\"choropleth\":[{\"colorbar\":{\"outlinewidth\":0,\"ticks\":\"\"},\"type\":\"choropleth\"}],\"contour\":[{\"colorbar\":{\"outlinewidth\":0,\"ticks\":\"\"},\"colorscale\":[[0.0,\"#0d0887\"],[0.1111111111111111,\"#46039f\"],[0.2222222222222222,\"#7201a8\"],[0.3333333333333333,\"#9c179e\"],[0.4444444444444444,\"#bd3786\"],[0.5555555555555556,\"#d8576b\"],[0.6666666666666666,\"#ed7953\"],[0.7777777777777778,\"#fb9f3a\"],[0.8888888888888888,\"#fdca26\"],[1.0,\"#f0f921\"]],\"type\":\"contour\"}],\"contourcarpet\":[{\"colorbar\":{\"outlinewidth\":0,\"ticks\":\"\"},\"type\":\"contourcarpet\"}],\"heatmap\":[{\"colorbar\":{\"outlinewidth\":0,\"ticks\":\"\"},\"colorscale\":[[0.0,\"#0d0887\"],[0.1111111111111111,\"#46039f\"],[0.2222222222222222,\"#7201a8\"],[0.3333333333333333,\"#9c179e\"],[0.4444444444444444,\"#bd3786\"],[0.5555555555555556,\"#d8576b\"],[0.6666666666666666,\"#ed7953\"],[0.7777777777777778,\"#fb9f3a\"],[0.8888888888888888,\"#fdca26\"],[1.0,\"#f0f921\"]],\"type\":\"heatmap\"}],\"heatmapgl\":[{\"colorbar\":{\"outlinewidth\":0,\"ticks\":\"\"},\"colorscale\":[[0.0,\"#0d0887\"],[0.1111111111111111,\"#46039f\"],[0.2222222222222222,\"#7201a8\"],[0.3333333333333333,\"#9c179e\"],[0.4444444444444444,\"#bd3786\"],[0.5555555555555556,\"#d8576b\"],[0.6666666666666666,\"#ed7953\"],[0.7777777777777778,\"#fb9f3a\"],[0.8888888888888888,\"#fdca26\"],[1.0,\"#f0f921\"]],\"type\":\"heatmapgl\"}],\"histogram\":[{\"marker\":{\"pattern\":{\"fillmode\":\"overlay\",\"size\":10,\"solidity\":0.2}},\"type\":\"histogram\"}],\"histogram2d\":[{\"colorbar\":{\"outlinewidth\":0,\"ticks\":\"\"},\"colorscale\":[[0.0,\"#0d0887\"],[0.1111111111111111,\"#46039f\"],[0.2222222222222222,\"#7201a8\"],[0.3333333333333333,\"#9c179e\"],[0.4444444444444444,\"#bd3786\"],[0.5555555555555556,\"#d8576b\"],[0.6666666666666666,\"#ed7953\"],[0.7777777777777778,\"#fb9f3a\"],[0.8888888888888888,\"#fdca26\"],[1.0,\"#f0f921\"]],\"type\":\"histogram2d\"}],\"histogram2dcontour\":[{\"colorbar\":{\"outlinewidth\":0,\"ticks\":\"\"},\"colorscale\":[[0.0,\"#0d0887\"],[0.1111111111111111,\"#46039f\"],[0.2222222222222222,\"#7201a8\"],[0.3333333333333333,\"#9c179e\"],[0.4444444444444444,\"#bd3786\"],[0.5555555555555556,\"#d8576b\"],[0.6666666666666666,\"#ed7953\"],[0.7777777777777778,\"#fb9f3a\"],[0.8888888888888888,\"#fdca26\"],[1.0,\"#f0f921\"]],\"type\":\"histogram2dcontour\"}],\"mesh3d\":[{\"colorbar\":{\"outlinewidth\":0,\"ticks\":\"\"},\"type\":\"mesh3d\"}],\"parcoords\":[{\"line\":{\"colorbar\":{\"outlinewidth\":0,\"ticks\":\"\"}},\"type\":\"parcoords\"}],\"pie\":[{\"automargin\":true,\"type\":\"pie\"}],\"scatter\":[{\"marker\":{\"colorbar\":{\"outlinewidth\":0,\"ticks\":\"\"}},\"type\":\"scatter\"}],\"scatter3d\":[{\"line\":{\"colorbar\":{\"outlinewidth\":0,\"ticks\":\"\"}},\"marker\":{\"colorbar\":{\"outlinewidth\":0,\"ticks\":\"\"}},\"type\":\"scatter3d\"}],\"scattercarpet\":[{\"marker\":{\"colorbar\":{\"outlinewidth\":0,\"ticks\":\"\"}},\"type\":\"scattercarpet\"}],\"scattergeo\":[{\"marker\":{\"colorbar\":{\"outlinewidth\":0,\"ticks\":\"\"}},\"type\":\"scattergeo\"}],\"scattergl\":[{\"marker\":{\"colorbar\":{\"outlinewidth\":0,\"ticks\":\"\"}},\"type\":\"scattergl\"}],\"scattermapbox\":[{\"marker\":{\"colorbar\":{\"outlinewidth\":0,\"ticks\":\"\"}},\"type\":\"scattermapbox\"}],\"scatterpolar\":[{\"marker\":{\"colorbar\":{\"outlinewidth\":0,\"ticks\":\"\"}},\"type\":\"scatterpolar\"}],\"scatterpolargl\":[{\"marker\":{\"colorbar\":{\"outlinewidth\":0,\"ticks\":\"\"}},\"type\":\"scatterpolargl\"}],\"scatterternary\":[{\"marker\":{\"colorbar\":{\"outlinewidth\":0,\"ticks\":\"\"}},\"type\":\"scatterternary\"}],\"surface\":[{\"colorbar\":{\"outlinewidth\":0,\"ticks\":\"\"},\"colorscale\":[[0.0,\"#0d0887\"],[0.1111111111111111,\"#46039f\"],[0.2222222222222222,\"#7201a8\"],[0.3333333333333333,\"#9c179e\"],[0.4444444444444444,\"#bd3786\"],[0.5555555555555556,\"#d8576b\"],[0.6666666666666666,\"#ed7953\"],[0.7777777777777778,\"#fb9f3a\"],[0.8888888888888888,\"#fdca26\"],[1.0,\"#f0f921\"]],\"type\":\"surface\"}],\"table\":[{\"cells\":{\"fill\":{\"color\":\"#EBF0F8\"},\"line\":{\"color\":\"white\"}},\"header\":{\"fill\":{\"color\":\"#C8D4E3\"},\"line\":{\"color\":\"white\"}},\"type\":\"table\"}]},\"layout\":{\"annotationdefaults\":{\"arrowcolor\":\"#2a3f5f\",\"arrowhead\":0,\"arrowwidth\":1},\"autotypenumbers\":\"strict\",\"coloraxis\":{\"colorbar\":{\"outlinewidth\":0,\"ticks\":\"\"}},\"colorscale\":{\"diverging\":[[0,\"#8e0152\"],[0.1,\"#c51b7d\"],[0.2,\"#de77ae\"],[0.3,\"#f1b6da\"],[0.4,\"#fde0ef\"],[0.5,\"#f7f7f7\"],[0.6,\"#e6f5d0\"],[0.7,\"#b8e186\"],[0.8,\"#7fbc41\"],[0.9,\"#4d9221\"],[1,\"#276419\"]],\"sequential\":[[0.0,\"#0d0887\"],[0.1111111111111111,\"#46039f\"],[0.2222222222222222,\"#7201a8\"],[0.3333333333333333,\"#9c179e\"],[0.4444444444444444,\"#bd3786\"],[0.5555555555555556,\"#d8576b\"],[0.6666666666666666,\"#ed7953\"],[0.7777777777777778,\"#fb9f3a\"],[0.8888888888888888,\"#fdca26\"],[1.0,\"#f0f921\"]],\"sequentialminus\":[[0.0,\"#0d0887\"],[0.1111111111111111,\"#46039f\"],[0.2222222222222222,\"#7201a8\"],[0.3333333333333333,\"#9c179e\"],[0.4444444444444444,\"#bd3786\"],[0.5555555555555556,\"#d8576b\"],[0.6666666666666666,\"#ed7953\"],[0.7777777777777778,\"#fb9f3a\"],[0.8888888888888888,\"#fdca26\"],[1.0,\"#f0f921\"]]},\"colorway\":[\"#636efa\",\"#EF553B\",\"#00cc96\",\"#ab63fa\",\"#FFA15A\",\"#19d3f3\",\"#FF6692\",\"#B6E880\",\"#FF97FF\",\"#FECB52\"],\"font\":{\"color\":\"#2a3f5f\"},\"geo\":{\"bgcolor\":\"white\",\"lakecolor\":\"white\",\"landcolor\":\"#E5ECF6\",\"showlakes\":true,\"showland\":true,\"subunitcolor\":\"white\"},\"hoverlabel\":{\"align\":\"left\"},\"hovermode\":\"closest\",\"mapbox\":{\"style\":\"light\"},\"paper_bgcolor\":\"white\",\"plot_bgcolor\":\"#E5ECF6\",\"polar\":{\"angularaxis\":{\"gridcolor\":\"white\",\"linecolor\":\"white\",\"ticks\":\"\"},\"bgcolor\":\"#E5ECF6\",\"radialaxis\":{\"gridcolor\":\"white\",\"linecolor\":\"white\",\"ticks\":\"\"}},\"scene\":{\"xaxis\":{\"backgroundcolor\":\"#E5ECF6\",\"gridcolor\":\"white\",\"gridwidth\":2,\"linecolor\":\"white\",\"showbackground\":true,\"ticks\":\"\",\"zerolinecolor\":\"white\"},\"yaxis\":{\"backgroundcolor\":\"#E5ECF6\",\"gridcolor\":\"white\",\"gridwidth\":2,\"linecolor\":\"white\",\"showbackground\":true,\"ticks\":\"\",\"zerolinecolor\":\"white\"},\"zaxis\":{\"backgroundcolor\":\"#E5ECF6\",\"gridcolor\":\"white\",\"gridwidth\":2,\"linecolor\":\"white\",\"showbackground\":true,\"ticks\":\"\",\"zerolinecolor\":\"white\"}},\"shapedefaults\":{\"line\":{\"color\":\"#2a3f5f\"}},\"ternary\":{\"aaxis\":{\"gridcolor\":\"white\",\"linecolor\":\"white\",\"ticks\":\"\"},\"baxis\":{\"gridcolor\":\"white\",\"linecolor\":\"white\",\"ticks\":\"\"},\"bgcolor\":\"#E5ECF6\",\"caxis\":{\"gridcolor\":\"white\",\"linecolor\":\"white\",\"ticks\":\"\"}},\"title\":{\"x\":0.05},\"xaxis\":{\"automargin\":true,\"gridcolor\":\"white\",\"linecolor\":\"white\",\"ticks\":\"\",\"title\":{\"standoff\":15},\"zerolinecolor\":\"white\",\"zerolinewidth\":2},\"yaxis\":{\"automargin\":true,\"gridcolor\":\"white\",\"linecolor\":\"white\",\"ticks\":\"\",\"title\":{\"standoff\":15},\"zerolinecolor\":\"white\",\"zerolinewidth\":2}}},\"xaxis\":{\"linecolor\":\"#BCCCDC\",\"mirror\":true,\"showgrid\":true,\"title\":{\"text\":\"mutability_score(DCA)\"}},\"yaxis\":{\"linecolor\":\"#BCCCDC\",\"mirror\":true,\"showgrid\":true,\"title\":{\"text\":\"IEDB - Response Frequency\"}}},                        {\"responsive\": true}                    ).then(function(){\n",
       "                            \n",
       "var gd = document.getElementById('421e873e-1103-4243-9af4-3ade09261b71');\n",
       "var x = new MutationObserver(function (mutations, observer) {{\n",
       "        var display = window.getComputedStyle(gd).display;\n",
       "        if (!display || display === 'none') {{\n",
       "            console.log([gd, 'removed!']);\n",
       "            Plotly.purge(gd);\n",
       "            observer.disconnect();\n",
       "        }}\n",
       "}});\n",
       "\n",
       "// Listen for the removal of the full notebook cells\n",
       "var notebookContainer = gd.closest('#notebook-container');\n",
       "if (notebookContainer) {{\n",
       "    x.observe(notebookContainer, {childList: true});\n",
       "}}\n",
       "\n",
       "// Listen for the clearing of the current output cell\n",
       "var outputEl = gd.closest('.output');\n",
       "if (outputEl) {{\n",
       "    x.observe(outputEl, {childList: true});\n",
       "}}\n",
       "\n",
       "                        })                };                });            </script>        </div>"
      ]
     },
     "metadata": {},
     "output_type": "display_data"
    },
    {
     "data": {
      "text/plain": [
       "0"
      ]
     },
     "execution_count": 16,
     "metadata": {},
     "output_type": "execute_result"
    }
   ],
   "source": [
    "# DCA vs. IEDB response frequency\n",
    "prot = \"Spike\"\n",
    "dom = \"bCoV_S1_RBD\"\n",
    "score = 'mutability_score(DCA)'\n",
    "\n",
    "#positions mutated in VOI/VOC (as of May 2021)\n",
    "list_pos_mutated_VOI_VOC = [417, 452, 477, 478, 483, 484,  501] #red points\n",
    "\n",
    "df = load_data_dca(path_data = \"./data/data_dca_iedb_RDB_domain.csv\", protein = prot, domain = dom)\n",
    "#print(df)\n",
    "plot_dca_IEDB(df, score, list_pos = list_pos_mutated_VOI_VOC)\n",
    "\n",
    "### To plot only B(T) cell epitopes (Fig S6)\n",
    "#df = load_data_dca(path_data = \"./data/data_dca_iedb_RDB_domain_BTcell.csv\", protein = prot, domain = dom)\n",
    "#BT_cell = \"B_cell\" #\"T_cell\"\n",
    "#print('***** {0} epitopes *****'.format(BT_cell))\n",
    "#plot_dca_IEDB_BTcell(df, score, list_pos = list_pos_mutated_VOI_VOC, cell_type = BT_cell)"
   ]
  },
  {
   "cell_type": "markdown",
   "metadata": {},
   "source": [
    "### DCA and IEDB - UPDATED results\n",
    "\n",
    "SARS-CoV-2 epitope data are quickly accumulating, and new VOCs/VOIs are emerging.\n",
    "The https://cov-lineages.org/ websites report observed in VOIs or VOCs.\n",
    "Here we repeat the same analysis with updated IEDB epitope data and consider the following VOCs:\n"
   ]
  },
  {
   "cell_type": "code",
   "execution_count": 24,
   "metadata": {},
   "outputs": [
    {
     "name": "stdout",
     "output_type": "stream",
     "text": [
      "Error with BA.1, pos=['del', '6513', '3']\n",
      "Error with BA.1, pos=['del', '11283', '9']\n",
      "Error with BA.1, pos=['N', 'RG203KR']\n",
      "Error with P.1, pos=['del', '11288', '9']\n",
      "Error with B.1.1.7, pos=['del', '11288', '9']\n",
      "Error with B.1.1.7, pos=['del', '21765', '6']\n",
      "Error with B.1.1.7, pos=['del', '21991', '3']\n"
     ]
    }
   ],
   "source": [
    "#list VOC (Dec2021)\n",
    "df_VOC = load_VOC(path_dir_VOC = \"./data/VOC\", rm_deletion = True, verbose = False)\n",
    "#print(df_VOC)"
   ]
  },
  {
   "cell_type": "code",
   "execution_count": 25,
   "metadata": {},
   "outputs": [
    {
     "name": "stdout",
     "output_type": "stream",
     "text": [
      "        pango      who mutation_type protein mutation  position\n",
      "3     B.1.351     Beta            aa   Spike     D80A        80\n",
      "4     B.1.351     Beta            aa   Spike    D215G       215\n",
      "5     B.1.351     Beta            aa   Spike    K417N       417\n",
      "6     B.1.351     Beta            aa   Spike    A701V       701\n",
      "7     B.1.351     Beta            aa   Spike    N501Y       501\n",
      "8     B.1.351     Beta            aa   Spike    E484K       484\n",
      "16       BA.1  Omicron            aa   Spike     A67V        67\n",
      "17       BA.1  Omicron            aa   Spike     T95I        95\n",
      "18       BA.1  Omicron            aa   Spike    G339D       339\n",
      "19       BA.1  Omicron            aa   Spike    S371L       371\n",
      "20       BA.1  Omicron            aa   Spike    S373P       373\n",
      "21       BA.1  Omicron            aa   Spike    K417N       417\n",
      "22       BA.1  Omicron            aa   Spike    N440K       440\n",
      "23       BA.1  Omicron            aa   Spike    G446S       446\n",
      "24       BA.1  Omicron            aa   Spike    S477N       477\n",
      "25       BA.1  Omicron            aa   Spike    T478K       478\n",
      "26       BA.1  Omicron            aa   Spike    E484A       484\n",
      "27       BA.1  Omicron            aa   Spike    Q493R       493\n",
      "28       BA.1  Omicron            aa   Spike    G496S       496\n",
      "29       BA.1  Omicron            aa   Spike    Q498R       498\n",
      "30       BA.1  Omicron            aa   Spike    N501Y       501\n",
      "31       BA.1  Omicron            aa   Spike    T547K       547\n",
      "32       BA.1  Omicron            aa   Spike    D614G       614\n",
      "33       BA.1  Omicron            aa   Spike    H655Y       655\n",
      "34       BA.1  Omicron            aa   Spike    N679K       679\n",
      "35       BA.1  Omicron            aa   Spike    P681H       681\n",
      "36       BA.1  Omicron            aa   Spike    N764K       764\n",
      "37       BA.1  Omicron            aa   Spike    D796Y       796\n",
      "38       BA.1  Omicron            aa   Spike    N856K       856\n",
      "39       BA.1  Omicron            aa   Spike    Q954H       954\n",
      "40       BA.1  Omicron            aa   Spike    N969K       969\n",
      "47        P.1    Gamma            aa   Spike     L18F        18\n",
      "48        P.1    Gamma            aa   Spike     T20N        20\n",
      "49        P.1    Gamma            aa   Spike     P26S        26\n",
      "50        P.1    Gamma            aa   Spike    D138Y       138\n",
      "51        P.1    Gamma            aa   Spike    R190S       190\n",
      "52        P.1    Gamma            aa   Spike    K417T       417\n",
      "53        P.1    Gamma            aa   Spike    E484K       484\n",
      "54        P.1    Gamma            aa   Spike    N501Y       501\n",
      "55        P.1    Gamma            aa   Spike    H655Y       655\n",
      "56        P.1    Gamma            aa   Spike   T1027I      1027\n",
      "60  B.1.617.2    Delta            aa   Spike     T19R        19\n",
      "61  B.1.617.2    Delta            aa   Spike    L452R       452\n",
      "62  B.1.617.2    Delta            aa   Spike    T478K       478\n",
      "63  B.1.617.2    Delta            aa   Spike    P681R       681\n",
      "64  B.1.617.2    Delta            aa   Spike    D950N       950\n",
      "75    B.1.1.7    Alpha            aa   Spike    N501Y       501\n",
      "76    B.1.1.7    Alpha            aa   Spike    A570D       570\n",
      "77    B.1.1.7    Alpha            aa   Spike    P681H       681\n",
      "78    B.1.1.7    Alpha            aa   Spike    T716I       716\n",
      "79    B.1.1.7    Alpha            aa   Spike    S982A       982\n",
      "80    B.1.1.7    Alpha            aa   Spike   D1118H      1118\n",
      "mutated sites: [  80  215  417  701  501  484   67   95  339  371  373  417  440  446\n",
      "  477  478  484  493  496  498  501  547  614  655  679  681  764  796\n",
      "  856  954  969   18   20   26  138  190  417  484  501  655 1027   19\n",
      "  452  478  681  950  501  570  681  716  982 1118]\n"
     ]
    }
   ],
   "source": [
    "#Let's restrict the analysis to mutations occurred on the Spike protein\n",
    "prot = \"Spike\"\n",
    "df_VOC_prot = df_VOC.loc[df_VOC['protein'] ==prot] \n",
    "print(df_VOC_prot)\n",
    "list_pos_mutated = df_VOC_prot['position'].astype(int).values\n",
    "print(\"mutated sites:\", list_pos_mutated)"
   ]
  },
  {
   "cell_type": "code",
   "execution_count": 70,
   "metadata": {
    "scrolled": false
   },
   "outputs": [
    {
     "name": "stdout",
     "output_type": "stream",
     "text": [
      "DCA mutability predictions vs. IEDB response frequency data \n",
      " for the *** bCoV_S1_RBD domain of the Spike protein ***\n",
      "IEDB available versions: ['05Dec2021']\n",
      "Selecting *** IEDB 05Dec2021 version ***\n",
      "    protein       domain  position_protein  position_domain aa_Wuhan-Hu-1  \\\n",
      "22    Spike  bCoV_S1_RBD               371             23.0             S   \n",
      "24    Spike  bCoV_S1_RBD               373             25.0             S   \n",
      "67    Spike  bCoV_S1_RBD               417             69.0             K   \n",
      "89    Spike  bCoV_S1_RBD               440             92.0             N   \n",
      "95    Spike  bCoV_S1_RBD               446             98.0             G   \n",
      "101   Spike  bCoV_S1_RBD               452            104.0             L   \n",
      "126   Spike  bCoV_S1_RBD               477            129.0             S   \n",
      "127   Spike  bCoV_S1_RBD               478            130.0             T   \n",
      "133   Spike  bCoV_S1_RBD               484            136.0             E   \n",
      "142   Spike  bCoV_S1_RBD               493            145.0             Q   \n",
      "145   Spike  bCoV_S1_RBD               496            148.0             G   \n",
      "147   Spike  bCoV_S1_RBD               498            150.0             Q   \n",
      "150   Spike  bCoV_S1_RBD               501            153.0             N   \n",
      "\n",
      "     mutability_score(IND)  mutability_score(DCA)  observed_mut_May2021  \\\n",
      "22                 -0.7780                -1.2510                  14.0   \n",
      "24                 -0.2329                -1.0373                  29.0   \n",
      "67                  0.0836                -0.4315                 163.0   \n",
      "89                 -0.6425                -0.2092                  78.0   \n",
      "95                 -0.5370                -0.5834                  40.0   \n",
      "101                -1.7534                -0.9576                 289.0   \n",
      "126                -1.0210                -0.6329                 194.0   \n",
      "127                -1.5438                -0.6578                 137.0   \n",
      "133                 0.2326                -0.2097                 327.0   \n",
      "142                 0.3676                 0.0448                  35.0   \n",
      "145                -1.2519                -1.1445                  12.0   \n",
      "147                -0.4736                -0.1110                  11.0   \n",
      "150                -0.2828                -0.0427                 768.0   \n",
      "\n",
      "     observed_mut_Dec2020  observed_mut_Jul2020  IEDB_lowerbound  \\\n",
      "22                    5.0                   2.0             0.15   \n",
      "24                    5.0                   2.0             0.10   \n",
      "67                    3.0                   0.0             0.36   \n",
      "89                    9.0                   0.0             0.18   \n",
      "95                    7.0                   2.0             0.24   \n",
      "101                   8.0                   4.0             0.21   \n",
      "126                  40.0                   5.0             0.22   \n",
      "127                   8.0                   2.0             0.20   \n",
      "133                  17.0                   4.0             0.43   \n",
      "142                   6.0                   1.0             0.30   \n",
      "145                   2.0                   1.0             0.20   \n",
      "147                   2.0                   2.0             0.20   \n",
      "150                  19.0                   1.0             0.33   \n",
      "\n",
      "     IEDB_upperbound  subj_tested  subj_responded  IEDB_response_frequency  \\\n",
      "22              0.20          940             166                 0.176596   \n",
      "24              0.14          908             108                 0.118943   \n",
      "67              0.41         1623             627                 0.386322   \n",
      "89              0.23          952             192                 0.201681   \n",
      "95              0.29         1432             376                 0.262570   \n",
      "101             0.25         1500             340                 0.226667   \n",
      "126             0.27         1108             273                 0.246390   \n",
      "127             0.25         1023             225                 0.219941   \n",
      "133             0.47         2264            1011                 0.446555   \n",
      "142             0.35         1649             539                 0.326865   \n",
      "145             0.25         1161             264                 0.227390   \n",
      "147             0.25         1242             278                 0.223833   \n",
      "150             0.38         1675             590                 0.352239   \n",
      "\n",
      "     size_scatter  \n",
      "22           20.0  \n",
      "24           25.0  \n",
      "67           20.0  \n",
      "89           20.0  \n",
      "95           20.0  \n",
      "101          25.0  \n",
      "126          20.0  \n",
      "127          20.0  \n",
      "133          25.0  \n",
      "142          20.0  \n",
      "145          20.0  \n",
      "147          20.0  \n",
      "150          20.0  \n"
     ]
    },
    {
     "data": {
      "application/vnd.plotly.v1+json": {
       "config": {
        "linkText": "Export to plot.ly",
        "plotlyServerURL": "https://plot.ly",
        "showLink": false
       },
       "data": [
        {
         "marker": {
          "color": "#5D69B1",
          "size": [
           19.999999999999993,
           24.999999999999996,
           20.000000000000004,
           20.000000000000004,
           19.999999999999993,
           24.999999999999996,
           24.999999999999996,
           19.999999999999993,
           20.000000000000004,
           25.000000000000004,
           20.000000000000004,
           24.999999999999996,
           24.999999999999996,
           24.999999999999996,
           24.999999999999996,
           19.999999999999993,
           19.999999999999993,
           20.000000000000004,
           25.000000000000004,
           16.666666666666668,
           20.000000000000004,
           19.999999999999993,
           19.999999999999993,
           20.000000000000004,
           24.999999999999996,
           20.000000000000004,
           19.999999999999993,
           20.000000000000004,
           20.000000000000004,
           19.999999999999993,
           20.000000000000004,
           19.999999999999993,
           20.000000000000004,
           20.000000000000004,
           19.999999999999993,
           19.999999999999993,
           25.000000000000014,
           20.000000000000004,
           33.333333333333336,
           24.999999999999996,
           20.000000000000004,
           20.000000000000004,
           24.999999999999996,
           20.000000000000004,
           24.999999999999996,
           24.999999999999996,
           25.000000000000004,
           19.999999999999993,
           25.000000000000004,
           25.000000000000004,
           24.999999999999996,
           25.000000000000004,
           24.999999999999996,
           20.000000000000004,
           20.000000000000004,
           19.999999999999993,
           19.999999999999993,
           20.000000000000004,
           20.000000000000004,
           19.999999999999993,
           20.000000000000004,
           20.000000000000004,
           20.000000000000004,
           19.999999999999993,
           20.000000000000004,
           16.666666666666668,
           20.000000000000004,
           20.000000000000004,
           16.666666666666675,
           20.000000000000004,
           20.000000000000004,
           19.999999999999993,
           20.000000000000004,
           24.999999999999996,
           25.000000000000014,
           24.999999999999996,
           20.000000000000004,
           20.000000000000004,
           24.999999999999996,
           24.999999999999996,
           19.999999999999993,
           20.000000000000004,
           19.999999999999993,
           19.999999999999993,
           16.666666666666668,
           16.666666666666668,
           20.000000000000004,
           20.000000000000004,
           19.999999999999993,
           19.999999999999993,
           20.000000000000004,
           25.000000000000014,
           20.000000000000004,
           24.999999999999996,
           24.999999999999996,
           20.000000000000004,
           24.999999999999996,
           24.999999999999996,
           25.000000000000014,
           24.999999999999996,
           33.333333333333336,
           24.999999999999996,
           24.999999999999996,
           25.000000000000014,
           24.999999999999996,
           19.999999999999993,
           25.000000000000014,
           25.000000000000014,
           24.999999999999996,
           24.999999999999996,
           24.999999999999996,
           33.33333333333332,
           25.000000000000004,
           25.000000000000004,
           24.999999999999996,
           24.999999999999996,
           20.000000000000004,
           19.999999999999993,
           20.000000000000004,
           20.000000000000004,
           25.000000000000014,
           20.000000000000004,
           19.999999999999993,
           20.000000000000004,
           20.000000000000004,
           16.666666666666668,
           19.999999999999993,
           20.000000000000004,
           19.999999999999993,
           16.666666666666668,
           20.000000000000004,
           20.000000000000004,
           20.000000000000004,
           25.000000000000014,
           25.000000000000014,
           25.000000000000014,
           20.000000000000004,
           20.000000000000004,
           20.000000000000004,
           20.000000000000004,
           24.999999999999996,
           20.000000000000004,
           20.000000000000004,
           24.99999999999998,
           24.999999999999996,
           20.000000000000004,
           24.999999999999996,
           20.000000000000004,
           25.000000000000014,
           20.000000000000004,
           20.000000000000004,
           19.999999999999993,
           20.000000000000004,
           19.999999999999993,
           25.000000000000014,
           25.000000000000014,
           20.000000000000004,
           19.999999999999993,
           20.000000000000004,
           19.999999999999993,
           20.000000000000004,
           19.999999999999993,
           19.999999999999993,
           20.000000000000004,
           20.000000000000004,
           19.999999999999993,
           20.000000000000004,
           20.000000000000004,
           19.999999999999993,
           24.999999999999996,
           24.999999999999996,
           24.999999999999996,
           20.000000000000004,
           20.000000000000004,
           16.666666666666668,
           20.000000000000004
          ]
         },
         "mode": "markers",
         "name": "",
         "text": [
          "wt: S349",
          "wt: V350",
          "wt: Y351",
          "wt: A352",
          "wt: W353",
          "wt: N354",
          "wt: R355",
          "wt: K356",
          "wt: R357",
          "wt: I358",
          "wt: S359",
          "wt: N360",
          "wt: C361",
          "wt: V362",
          "wt: A363",
          "wt: D364",
          "wt: Y365",
          "wt: S366",
          "wt: V367",
          "wt: L368",
          "wt: Y369",
          "wt: N370",
          "wt: S371",
          "wt: A372",
          "wt: S373",
          "wt: F374",
          "wt: S375",
          "wt: T376",
          "wt: F377",
          "wt: K378",
          "wt: C379",
          "wt: Y380",
          "wt: G381",
          "wt: V382",
          "wt: S383",
          "wt: P384",
          "wt: T385",
          "wt: K386",
          "wt: L387",
          "wt: N388",
          "wt: D389",
          "wt: L390",
          "wt: C391",
          "wt: F392",
          "wt: T393",
          "wt: N394",
          "wt: V395",
          "wt: Y396",
          "wt: A397",
          "wt: S399",
          "wt: F400",
          "wt: V401",
          "wt: I402",
          "wt: R403",
          "wt: G404",
          "wt: D405",
          "wt: E406",
          "wt: V407",
          "wt: R408",
          "wt: Q409",
          "wt: I410",
          "wt: A411",
          "wt: P412",
          "wt: G413",
          "wt: Q414",
          "wt: T415",
          "wt: G416",
          "wt: K417",
          "wt: I418",
          "wt: A419",
          "wt: D420",
          "wt: Y421",
          "wt: Y423",
          "wt: K424",
          "wt: L425",
          "wt: P426",
          "wt: D427",
          "wt: D428",
          "wt: F429",
          "wt: T430",
          "wt: G431",
          "wt: C432",
          "wt: V433",
          "wt: I434",
          "wt: A435",
          "wt: W436",
          "wt: N437",
          "wt: S438",
          "wt: N439",
          "wt: N440",
          "wt: L441",
          "wt: D442",
          "wt: S443",
          "wt: K444",
          "wt: V445",
          "wt: G446",
          "wt: G447",
          "wt: N448",
          "wt: Y449",
          "wt: N450",
          "wt: Y451",
          "wt: L452",
          "wt: Y453",
          "wt: R454",
          "wt: L455",
          "wt: F456",
          "wt: R457",
          "wt: K458",
          "wt: S459",
          "wt: N460",
          "wt: L461",
          "wt: K462",
          "wt: P463",
          "wt: F464",
          "wt: E465",
          "wt: R466",
          "wt: D467",
          "wt: I468",
          "wt: S469",
          "wt: T470",
          "wt: E471",
          "wt: I472",
          "wt: Y473",
          "wt: Q474",
          "wt: A475",
          "wt: G476",
          "wt: S477",
          "wt: T478",
          "wt: P479",
          "wt: C480",
          "wt: N481",
          "wt: G482",
          "wt: V483",
          "wt: E484",
          "wt: G485",
          "wt: F486",
          "wt: N487",
          "wt: C488",
          "wt: Y489",
          "wt: F490",
          "wt: P491",
          "wt: L492",
          "wt: Q493",
          "wt: S494",
          "wt: Y495",
          "wt: G496",
          "wt: F497",
          "wt: Q498",
          "wt: P499",
          "wt: T500",
          "wt: N501",
          "wt: G502",
          "wt: V503",
          "wt: G504",
          "wt: Y505",
          "wt: Q506",
          "wt: P507",
          "wt: Y508",
          "wt: R509",
          "wt: V510",
          "wt: V511",
          "wt: V512",
          "wt: L513",
          "wt: S514",
          "wt: F515",
          "wt: E516",
          "wt: L517",
          "wt: L518",
          "wt: H519",
          "wt: A520",
          "wt: P521",
          "wt: A522",
          "wt: T523",
          "wt: V524",
          "wt: C525",
          "wt: G526"
         ],
         "textfont": {
          "color": "#E58606"
         },
         "textposition": "top right",
         "type": "scattergl",
         "uid": "57756b90-db69-45bc-be86-1bea5034f729",
         "x": [
          -1.2046,
          -1.1667,
          -1.2678,
          -1.1347,
          -1.3433,
          -0.6908,
          -1.46,
          -0.8585,
          -0.8866,
          -1.1399,
          -1.0692,
          -1.0716,
          -1.4536,
          -1.1652,
          -1.2195,
          -1.2435,
          -1.2247,
          -1.0245,
          -1.1382,
          -1.3272,
          -1.2234,
          -1.2102,
          -1.251,
          0.0083,
          -1.0373,
          -1.1951,
          -1.271,
          -1.2014,
          -1.3153,
          -1.0351,
          -1.5544,
          -1.2908,
          -1.3344,
          -1.4432,
          -1.3011,
          -1.0483,
          -1.0093,
          -1.3027,
          -1.3825,
          -1.0351,
          -1.3047,
          -1.2514,
          -1.5245,
          -1.2383,
          -0.6168,
          -0.8912,
          -1.2365,
          -1.2549,
          -1.2162,
          -0.9234,
          -1.434,
          -0.9475,
          -0.4977,
          0.0615,
          -1.0926,
          -1.1401,
          -0.6859,
          -1.1573,
          -1.1722,
          -1.2426,
          -1.0136,
          -1.2492,
          -1.257,
          -1.1064,
          -1.1209,
          -1.1667,
          -1.4381,
          -0.4315,
          -1.3088,
          -1.2311,
          -1.2382,
          -1.374,
          -1.5252,
          -1.2005,
          -1.339,
          -1.3234,
          -1.2182,
          -1.2017,
          -1.3508,
          -0.9311,
          -1.3138,
          -1.5387,
          -1.2237,
          -0.7544,
          -1.3137,
          -1.2219,
          -1.1781,
          -0.6044,
          -0.4444,
          -0.2092,
          -0.2007,
          -1.1966,
          -0.3077,
          -0.4083,
          -0.0565,
          -0.5834,
          -0.6227,
          -0.9643,
          -0.6399,
          -0.7114,
          -1.0353,
          -0.9576,
          -1.1071,
          -1.243,
          -0.6609,
          -0.7466,
          -1.1185,
          -0.725,
          -0.6361,
          -0.369,
          -0.9594,
          -0.9182,
          -1.2839,
          -0.8403,
          -1.0916,
          -1.1957,
          -1.2306,
          -0.8062,
          -1.1259,
          -0.608,
          -0.5911,
          -0.8332,
          -0.8968,
          -0.7201,
          -0.5693,
          -0.8152,
          -0.6329,
          -0.6578,
          -0.8332,
          -1.2501,
          -0.7105,
          -0.6489,
          -0.317,
          -0.2097,
          -0.9483,
          -0.2134,
          -1.0947,
          -1.1891,
          -1.0939,
          0.0474,
          -1.1151,
          -1.2033,
          0.0448,
          -0.3161,
          -1.2157,
          -1.1445,
          -1.2366,
          -0.111,
          -0.8526,
          -0.9683,
          -0.0427,
          -1.1747,
          -0.902,
          -0.7454,
          -0.6702,
          -1.2438,
          -1.0639,
          -0.8218,
          -1.1835,
          -1.1479,
          -1.2008,
          -1.2642,
          -1.1848,
          -1.2699,
          -1.1306,
          -1.1416,
          -1.1875,
          -1.2267,
          0.2159,
          -0.8394,
          -1.1793,
          -1.2426,
          -1.2803,
          -1.4834,
          -1.5027,
          -1.2935
         ],
         "y": [
          0.14471057884231536,
          0.14614614614614616,
          0.16489361702127658,
          0.15338645418326693,
          0.14298978644382543,
          0.14553990610328638,
          0.14864864864864866,
          0.17356205852674067,
          0.16292134831460675,
          0.12810327706057598,
          0.15311004784688995,
          0.13948256467941508,
          0.14879227053140096,
          0.16797642436149313,
          0.1699078812691914,
          0.20200752823086573,
          0.171875,
          0.18407960199004975,
          0.12894736842105264,
          0.14798850574712644,
          0.2147995889003083,
          0.20351239669421486,
          0.17659574468085107,
          0.19474835886214442,
          0.11894273127753303,
          0.18668012108980828,
          0.17474747474747473,
          0.1897891231964484,
          0.2138728323699422,
          0.2339622641509434,
          0.22131979695431472,
          0.20138089758342922,
          0.16596194503171247,
          0.22142857142857142,
          0.25409047160731474,
          0.24616771866546439,
          0.21982758620689655,
          0.19586776859504132,
          0.11425873465533522,
          0.14903846153846154,
          0.12422360248447205,
          0.16135458167330677,
          0.11995753715498939,
          0.16452991452991453,
          0.11530612244897959,
          0.12049433573635428,
          0.1248688352570829,
          0.14097968936678615,
          0.1285878300803674,
          0.12973593570608496,
          0.13657957244655583,
          0.1291005291005291,
          0.11862835959221502,
          0.22408026755852842,
          0.18694690265486727,
          0.23121387283236994,
          0.23156801661474558,
          0.2625482625482625,
          0.32653061224489793,
          0.2558139534883721,
          0.2736098852603707,
          0.2772808586762075,
          0.2830188679245283,
          0.24556489262371614,
          0.28620102214650767,
          0.27884615384615385,
          0.29428571428571426,
          0.38632162661737524,
          0.259763851044505,
          0.26494940202391903,
          0.2921027592768792,
          0.25045703839122485,
          0.18449781659388648,
          0.17017383348581885,
          0.15826702033598586,
          0.11122881355932203,
          0.1515768056968464,
          0.16084656084656085,
          0.1506986027944112,
          0.145748987854251,
          0.1438423645320197,
          0.21490280777537796,
          0.2005958291956306,
          0.206858407079646,
          0.20735785953177258,
          0.23012048192771084,
          0.1839348079161816,
          0.16767189384800965,
          0.17551020408163265,
          0.20168067226890757,
          0.19430051813471502,
          0.1575649059982095,
          0.16486486486486487,
          0.2098976109215017,
          0.19678407350689128,
          0.26256983240223464,
          0.17854283426741394,
          0.18038922155688622,
          0.2815230961298377,
          0.21224489795918366,
          0.16445066480055984,
          0.22666666666666666,
          0.23812664907651715,
          0.15749128919860628,
          0.23880597014925373,
          0.253683536194747,
          0.15629322268326418,
          0.15774843641417652,
          0.13841368584758942,
          0.1670445956160242,
          0.12137404580152672,
          0.1251840942562592,
          0.13006885998469778,
          0.12846153846153846,
          0.1360708534621578,
          0.1482456140350877,
          0.16141732283464566,
          0.17291666666666666,
          0.15160642570281124,
          0.2157039711191336,
          0.1881720430107527,
          0.22121486854034453,
          0.2355406538139145,
          0.21833648393194707,
          0.26690712353471596,
          0.26988922457200404,
          0.2463898916967509,
          0.21994134897360704,
          0.20082815734989648,
          0.32098765432098764,
          0.3255649717514124,
          0.3535836177474403,
          0.36488250652741516,
          0.4465547703180212,
          0.3613595706618962,
          0.4003446295232625,
          0.3417882054533925,
          0.28728070175438597,
          0.3424170616113744,
          0.3331306990881459,
          0.2511978097193703,
          0.28415300546448086,
          0.32686476652516677,
          0.30717351318209685,
          0.21031096563011456,
          0.22739018087855298,
          0.1394354148845167,
          0.22383252818035426,
          0.18771043771043772,
          0.22493461203138623,
          0.3522388059701492,
          0.25386493083807976,
          0.19548218940052128,
          0.20266412940057088,
          0.2695035460992908,
          0.1897810218978102,
          0.21238938053097345,
          0.24366471734892786,
          0.21511627906976744,
          0.2041216879293425,
          0.2107795957651588,
          0.17690677966101695,
          0.17103984450923226,
          0.18075801749271136,
          0.18361303060217177,
          0.17132867132867133,
          0.187434554973822,
          0.1539313399778516,
          0.1454940282301846,
          0.13931523022432113,
          0.11876988335100742,
          0.11542610571736785,
          0.12235817575083426,
          0.22328931572629052,
          0.20871559633027523,
          0.21205098493626884
         ]
        },
        {
         "marker": {
          "color": "red",
          "size": [
           19.999999999999993,
           24.999999999999996,
           20.000000000000004,
           19.999999999999993,
           20.000000000000004,
           24.999999999999996,
           19.999999999999993,
           20.000000000000004,
           25.000000000000014,
           20.000000000000004,
           20.000000000000004,
           20.000000000000004,
           20.000000000000004
          ]
         },
         "mode": "markers",
         "showlegend": false,
         "text": [
          "wt: S371",
          "wt: S373",
          "wt: K417",
          "wt: N440",
          "wt: G446",
          "wt: L452",
          "wt: S477",
          "wt: T478",
          "wt: E484",
          "wt: Q493",
          "wt: G496",
          "wt: Q498",
          "wt: N501"
         ],
         "textfont": {
          "color": "#E58606"
         },
         "textposition": "top right",
         "type": "scattergl",
         "uid": "1c02ad6f-86a4-4e27-9fd3-e98d6ed6f992",
         "x": [
          -1.251,
          -1.0373,
          -0.4315,
          -0.2092,
          -0.5834,
          -0.9576,
          -0.6329,
          -0.6578,
          -0.2097,
          0.0448,
          -1.1445,
          -0.111,
          -0.0427
         ],
         "y": [
          0.17659574468085107,
          0.11894273127753303,
          0.38632162661737524,
          0.20168067226890757,
          0.26256983240223464,
          0.22666666666666666,
          0.2463898916967509,
          0.21994134897360704,
          0.4465547703180212,
          0.32686476652516677,
          0.22739018087855298,
          0.22383252818035426,
          0.3522388059701492
         ]
        }
       ],
       "layout": {
        "legend": {
         "itemclick": "toggleothers",
         "itemdoubleclick": "toggle"
        },
        "margin": {
         "b": 20,
         "l": 20,
         "r": 20,
         "t": 20
        },
        "plot_bgcolor": "#FFF",
        "template": {
         "data": {
          "bar": [
           {
            "error_x": {
             "color": "#2a3f5f"
            },
            "error_y": {
             "color": "#2a3f5f"
            },
            "marker": {
             "line": {
              "color": "#E5ECF6",
              "width": 0.5
             },
             "pattern": {
              "fillmode": "overlay",
              "size": 10,
              "solidity": 0.2
             }
            },
            "type": "bar"
           }
          ],
          "barpolar": [
           {
            "marker": {
             "line": {
              "color": "#E5ECF6",
              "width": 0.5
             },
             "pattern": {
              "fillmode": "overlay",
              "size": 10,
              "solidity": 0.2
             }
            },
            "type": "barpolar"
           }
          ],
          "carpet": [
           {
            "aaxis": {
             "endlinecolor": "#2a3f5f",
             "gridcolor": "white",
             "linecolor": "white",
             "minorgridcolor": "white",
             "startlinecolor": "#2a3f5f"
            },
            "baxis": {
             "endlinecolor": "#2a3f5f",
             "gridcolor": "white",
             "linecolor": "white",
             "minorgridcolor": "white",
             "startlinecolor": "#2a3f5f"
            },
            "type": "carpet"
           }
          ],
          "choropleth": [
           {
            "colorbar": {
             "outlinewidth": 0,
             "ticks": ""
            },
            "type": "choropleth"
           }
          ],
          "contour": [
           {
            "colorbar": {
             "outlinewidth": 0,
             "ticks": ""
            },
            "colorscale": [
             [
              0,
              "#0d0887"
             ],
             [
              0.1111111111111111,
              "#46039f"
             ],
             [
              0.2222222222222222,
              "#7201a8"
             ],
             [
              0.3333333333333333,
              "#9c179e"
             ],
             [
              0.4444444444444444,
              "#bd3786"
             ],
             [
              0.5555555555555556,
              "#d8576b"
             ],
             [
              0.6666666666666666,
              "#ed7953"
             ],
             [
              0.7777777777777778,
              "#fb9f3a"
             ],
             [
              0.8888888888888888,
              "#fdca26"
             ],
             [
              1,
              "#f0f921"
             ]
            ],
            "type": "contour"
           }
          ],
          "contourcarpet": [
           {
            "colorbar": {
             "outlinewidth": 0,
             "ticks": ""
            },
            "type": "contourcarpet"
           }
          ],
          "heatmap": [
           {
            "colorbar": {
             "outlinewidth": 0,
             "ticks": ""
            },
            "colorscale": [
             [
              0,
              "#0d0887"
             ],
             [
              0.1111111111111111,
              "#46039f"
             ],
             [
              0.2222222222222222,
              "#7201a8"
             ],
             [
              0.3333333333333333,
              "#9c179e"
             ],
             [
              0.4444444444444444,
              "#bd3786"
             ],
             [
              0.5555555555555556,
              "#d8576b"
             ],
             [
              0.6666666666666666,
              "#ed7953"
             ],
             [
              0.7777777777777778,
              "#fb9f3a"
             ],
             [
              0.8888888888888888,
              "#fdca26"
             ],
             [
              1,
              "#f0f921"
             ]
            ],
            "type": "heatmap"
           }
          ],
          "heatmapgl": [
           {
            "colorbar": {
             "outlinewidth": 0,
             "ticks": ""
            },
            "colorscale": [
             [
              0,
              "#0d0887"
             ],
             [
              0.1111111111111111,
              "#46039f"
             ],
             [
              0.2222222222222222,
              "#7201a8"
             ],
             [
              0.3333333333333333,
              "#9c179e"
             ],
             [
              0.4444444444444444,
              "#bd3786"
             ],
             [
              0.5555555555555556,
              "#d8576b"
             ],
             [
              0.6666666666666666,
              "#ed7953"
             ],
             [
              0.7777777777777778,
              "#fb9f3a"
             ],
             [
              0.8888888888888888,
              "#fdca26"
             ],
             [
              1,
              "#f0f921"
             ]
            ],
            "type": "heatmapgl"
           }
          ],
          "histogram": [
           {
            "marker": {
             "pattern": {
              "fillmode": "overlay",
              "size": 10,
              "solidity": 0.2
             }
            },
            "type": "histogram"
           }
          ],
          "histogram2d": [
           {
            "colorbar": {
             "outlinewidth": 0,
             "ticks": ""
            },
            "colorscale": [
             [
              0,
              "#0d0887"
             ],
             [
              0.1111111111111111,
              "#46039f"
             ],
             [
              0.2222222222222222,
              "#7201a8"
             ],
             [
              0.3333333333333333,
              "#9c179e"
             ],
             [
              0.4444444444444444,
              "#bd3786"
             ],
             [
              0.5555555555555556,
              "#d8576b"
             ],
             [
              0.6666666666666666,
              "#ed7953"
             ],
             [
              0.7777777777777778,
              "#fb9f3a"
             ],
             [
              0.8888888888888888,
              "#fdca26"
             ],
             [
              1,
              "#f0f921"
             ]
            ],
            "type": "histogram2d"
           }
          ],
          "histogram2dcontour": [
           {
            "colorbar": {
             "outlinewidth": 0,
             "ticks": ""
            },
            "colorscale": [
             [
              0,
              "#0d0887"
             ],
             [
              0.1111111111111111,
              "#46039f"
             ],
             [
              0.2222222222222222,
              "#7201a8"
             ],
             [
              0.3333333333333333,
              "#9c179e"
             ],
             [
              0.4444444444444444,
              "#bd3786"
             ],
             [
              0.5555555555555556,
              "#d8576b"
             ],
             [
              0.6666666666666666,
              "#ed7953"
             ],
             [
              0.7777777777777778,
              "#fb9f3a"
             ],
             [
              0.8888888888888888,
              "#fdca26"
             ],
             [
              1,
              "#f0f921"
             ]
            ],
            "type": "histogram2dcontour"
           }
          ],
          "mesh3d": [
           {
            "colorbar": {
             "outlinewidth": 0,
             "ticks": ""
            },
            "type": "mesh3d"
           }
          ],
          "parcoords": [
           {
            "line": {
             "colorbar": {
              "outlinewidth": 0,
              "ticks": ""
             }
            },
            "type": "parcoords"
           }
          ],
          "pie": [
           {
            "automargin": true,
            "type": "pie"
           }
          ],
          "scatter": [
           {
            "marker": {
             "colorbar": {
              "outlinewidth": 0,
              "ticks": ""
             }
            },
            "type": "scatter"
           }
          ],
          "scatter3d": [
           {
            "line": {
             "colorbar": {
              "outlinewidth": 0,
              "ticks": ""
             }
            },
            "marker": {
             "colorbar": {
              "outlinewidth": 0,
              "ticks": ""
             }
            },
            "type": "scatter3d"
           }
          ],
          "scattercarpet": [
           {
            "marker": {
             "colorbar": {
              "outlinewidth": 0,
              "ticks": ""
             }
            },
            "type": "scattercarpet"
           }
          ],
          "scattergeo": [
           {
            "marker": {
             "colorbar": {
              "outlinewidth": 0,
              "ticks": ""
             }
            },
            "type": "scattergeo"
           }
          ],
          "scattergl": [
           {
            "marker": {
             "colorbar": {
              "outlinewidth": 0,
              "ticks": ""
             }
            },
            "type": "scattergl"
           }
          ],
          "scattermapbox": [
           {
            "marker": {
             "colorbar": {
              "outlinewidth": 0,
              "ticks": ""
             }
            },
            "type": "scattermapbox"
           }
          ],
          "scatterpolar": [
           {
            "marker": {
             "colorbar": {
              "outlinewidth": 0,
              "ticks": ""
             }
            },
            "type": "scatterpolar"
           }
          ],
          "scatterpolargl": [
           {
            "marker": {
             "colorbar": {
              "outlinewidth": 0,
              "ticks": ""
             }
            },
            "type": "scatterpolargl"
           }
          ],
          "scatterternary": [
           {
            "marker": {
             "colorbar": {
              "outlinewidth": 0,
              "ticks": ""
             }
            },
            "type": "scatterternary"
           }
          ],
          "surface": [
           {
            "colorbar": {
             "outlinewidth": 0,
             "ticks": ""
            },
            "colorscale": [
             [
              0,
              "#0d0887"
             ],
             [
              0.1111111111111111,
              "#46039f"
             ],
             [
              0.2222222222222222,
              "#7201a8"
             ],
             [
              0.3333333333333333,
              "#9c179e"
             ],
             [
              0.4444444444444444,
              "#bd3786"
             ],
             [
              0.5555555555555556,
              "#d8576b"
             ],
             [
              0.6666666666666666,
              "#ed7953"
             ],
             [
              0.7777777777777778,
              "#fb9f3a"
             ],
             [
              0.8888888888888888,
              "#fdca26"
             ],
             [
              1,
              "#f0f921"
             ]
            ],
            "type": "surface"
           }
          ],
          "table": [
           {
            "cells": {
             "fill": {
              "color": "#EBF0F8"
             },
             "line": {
              "color": "white"
             }
            },
            "header": {
             "fill": {
              "color": "#C8D4E3"
             },
             "line": {
              "color": "white"
             }
            },
            "type": "table"
           }
          ]
         },
         "layout": {
          "annotationdefaults": {
           "arrowcolor": "#2a3f5f",
           "arrowhead": 0,
           "arrowwidth": 1
          },
          "autotypenumbers": "strict",
          "coloraxis": {
           "colorbar": {
            "outlinewidth": 0,
            "ticks": ""
           }
          },
          "colorscale": {
           "diverging": [
            [
             0,
             "#8e0152"
            ],
            [
             0.1,
             "#c51b7d"
            ],
            [
             0.2,
             "#de77ae"
            ],
            [
             0.3,
             "#f1b6da"
            ],
            [
             0.4,
             "#fde0ef"
            ],
            [
             0.5,
             "#f7f7f7"
            ],
            [
             0.6,
             "#e6f5d0"
            ],
            [
             0.7,
             "#b8e186"
            ],
            [
             0.8,
             "#7fbc41"
            ],
            [
             0.9,
             "#4d9221"
            ],
            [
             1,
             "#276419"
            ]
           ],
           "sequential": [
            [
             0,
             "#0d0887"
            ],
            [
             0.1111111111111111,
             "#46039f"
            ],
            [
             0.2222222222222222,
             "#7201a8"
            ],
            [
             0.3333333333333333,
             "#9c179e"
            ],
            [
             0.4444444444444444,
             "#bd3786"
            ],
            [
             0.5555555555555556,
             "#d8576b"
            ],
            [
             0.6666666666666666,
             "#ed7953"
            ],
            [
             0.7777777777777778,
             "#fb9f3a"
            ],
            [
             0.8888888888888888,
             "#fdca26"
            ],
            [
             1,
             "#f0f921"
            ]
           ],
           "sequentialminus": [
            [
             0,
             "#0d0887"
            ],
            [
             0.1111111111111111,
             "#46039f"
            ],
            [
             0.2222222222222222,
             "#7201a8"
            ],
            [
             0.3333333333333333,
             "#9c179e"
            ],
            [
             0.4444444444444444,
             "#bd3786"
            ],
            [
             0.5555555555555556,
             "#d8576b"
            ],
            [
             0.6666666666666666,
             "#ed7953"
            ],
            [
             0.7777777777777778,
             "#fb9f3a"
            ],
            [
             0.8888888888888888,
             "#fdca26"
            ],
            [
             1,
             "#f0f921"
            ]
           ]
          },
          "colorway": [
           "#636efa",
           "#EF553B",
           "#00cc96",
           "#ab63fa",
           "#FFA15A",
           "#19d3f3",
           "#FF6692",
           "#B6E880",
           "#FF97FF",
           "#FECB52"
          ],
          "font": {
           "color": "#2a3f5f"
          },
          "geo": {
           "bgcolor": "white",
           "lakecolor": "white",
           "landcolor": "#E5ECF6",
           "showlakes": true,
           "showland": true,
           "subunitcolor": "white"
          },
          "hoverlabel": {
           "align": "left"
          },
          "hovermode": "closest",
          "mapbox": {
           "style": "light"
          },
          "paper_bgcolor": "white",
          "plot_bgcolor": "#E5ECF6",
          "polar": {
           "angularaxis": {
            "gridcolor": "white",
            "linecolor": "white",
            "ticks": ""
           },
           "bgcolor": "#E5ECF6",
           "radialaxis": {
            "gridcolor": "white",
            "linecolor": "white",
            "ticks": ""
           }
          },
          "scene": {
           "xaxis": {
            "backgroundcolor": "#E5ECF6",
            "gridcolor": "white",
            "gridwidth": 2,
            "linecolor": "white",
            "showbackground": true,
            "ticks": "",
            "zerolinecolor": "white"
           },
           "yaxis": {
            "backgroundcolor": "#E5ECF6",
            "gridcolor": "white",
            "gridwidth": 2,
            "linecolor": "white",
            "showbackground": true,
            "ticks": "",
            "zerolinecolor": "white"
           },
           "zaxis": {
            "backgroundcolor": "#E5ECF6",
            "gridcolor": "white",
            "gridwidth": 2,
            "linecolor": "white",
            "showbackground": true,
            "ticks": "",
            "zerolinecolor": "white"
           }
          },
          "shapedefaults": {
           "line": {
            "color": "#2a3f5f"
           }
          },
          "ternary": {
           "aaxis": {
            "gridcolor": "white",
            "linecolor": "white",
            "ticks": ""
           },
           "baxis": {
            "gridcolor": "white",
            "linecolor": "white",
            "ticks": ""
           },
           "bgcolor": "#E5ECF6",
           "caxis": {
            "gridcolor": "white",
            "linecolor": "white",
            "ticks": ""
           }
          },
          "title": {
           "x": 0.05
          },
          "xaxis": {
           "automargin": true,
           "gridcolor": "white",
           "linecolor": "white",
           "ticks": "",
           "title": {
            "standoff": 15
           },
           "zerolinecolor": "white",
           "zerolinewidth": 2
          },
          "yaxis": {
           "automargin": true,
           "gridcolor": "white",
           "linecolor": "white",
           "ticks": "",
           "title": {
            "standoff": 15
           },
           "zerolinecolor": "white",
           "zerolinewidth": 2
          }
         }
        },
        "xaxis": {
         "linecolor": "#BCCCDC",
         "mirror": true,
         "showgrid": true,
         "title": {
          "text": "mutability_score(DCA)"
         }
        },
        "yaxis": {
         "linecolor": "#BCCCDC",
         "mirror": true,
         "showgrid": true,
         "title": {
          "text": "IEDB - Response Frequency"
         }
        }
       }
      },
      "text/html": [
       "<div>                            <div id=\"e086e461-9d36-4719-8c68-05da395becba\" class=\"plotly-graph-div\" style=\"height:525px; width:100%;\"></div>            <script type=\"text/javascript\">                require([\"plotly\"], function(Plotly) {                    window.PLOTLYENV=window.PLOTLYENV || {};                                    if (document.getElementById(\"e086e461-9d36-4719-8c68-05da395becba\")) {                    Plotly.newPlot(                        \"e086e461-9d36-4719-8c68-05da395becba\",                        [{\"marker\":{\"color\":\"#5D69B1\",\"size\":[19.999999999999993,24.999999999999996,20.000000000000004,20.000000000000004,19.999999999999993,24.999999999999996,24.999999999999996,19.999999999999993,20.000000000000004,25.000000000000004,20.000000000000004,24.999999999999996,24.999999999999996,24.999999999999996,24.999999999999996,19.999999999999993,19.999999999999993,20.000000000000004,25.000000000000004,16.666666666666668,20.000000000000004,19.999999999999993,19.999999999999993,20.000000000000004,24.999999999999996,20.000000000000004,19.999999999999993,20.000000000000004,20.000000000000004,19.999999999999993,20.000000000000004,19.999999999999993,20.000000000000004,20.000000000000004,19.999999999999993,19.999999999999993,25.000000000000014,20.000000000000004,33.333333333333336,24.999999999999996,20.000000000000004,20.000000000000004,24.999999999999996,20.000000000000004,24.999999999999996,24.999999999999996,25.000000000000004,19.999999999999993,25.000000000000004,25.000000000000004,24.999999999999996,25.000000000000004,24.999999999999996,20.000000000000004,20.000000000000004,19.999999999999993,19.999999999999993,20.000000000000004,20.000000000000004,19.999999999999993,20.000000000000004,20.000000000000004,20.000000000000004,19.999999999999993,20.000000000000004,16.666666666666668,20.000000000000004,20.000000000000004,16.666666666666675,20.000000000000004,20.000000000000004,19.999999999999993,20.000000000000004,24.999999999999996,25.000000000000014,24.999999999999996,20.000000000000004,20.000000000000004,24.999999999999996,24.999999999999996,19.999999999999993,20.000000000000004,19.999999999999993,19.999999999999993,16.666666666666668,16.666666666666668,20.000000000000004,20.000000000000004,19.999999999999993,19.999999999999993,20.000000000000004,25.000000000000014,20.000000000000004,24.999999999999996,24.999999999999996,20.000000000000004,24.999999999999996,24.999999999999996,25.000000000000014,24.999999999999996,33.333333333333336,24.999999999999996,24.999999999999996,25.000000000000014,24.999999999999996,19.999999999999993,25.000000000000014,25.000000000000014,24.999999999999996,24.999999999999996,24.999999999999996,33.33333333333332,25.000000000000004,25.000000000000004,24.999999999999996,24.999999999999996,20.000000000000004,19.999999999999993,20.000000000000004,20.000000000000004,25.000000000000014,20.000000000000004,19.999999999999993,20.000000000000004,20.000000000000004,16.666666666666668,19.999999999999993,20.000000000000004,19.999999999999993,16.666666666666668,20.000000000000004,20.000000000000004,20.000000000000004,25.000000000000014,25.000000000000014,25.000000000000014,20.000000000000004,20.000000000000004,20.000000000000004,20.000000000000004,24.999999999999996,20.000000000000004,20.000000000000004,24.99999999999998,24.999999999999996,20.000000000000004,24.999999999999996,20.000000000000004,25.000000000000014,20.000000000000004,20.000000000000004,19.999999999999993,20.000000000000004,19.999999999999993,25.000000000000014,25.000000000000014,20.000000000000004,19.999999999999993,20.000000000000004,19.999999999999993,20.000000000000004,19.999999999999993,19.999999999999993,20.000000000000004,20.000000000000004,19.999999999999993,20.000000000000004,20.000000000000004,19.999999999999993,24.999999999999996,24.999999999999996,24.999999999999996,20.000000000000004,20.000000000000004,16.666666666666668,20.000000000000004]},\"mode\":\"markers\",\"name\":\"\",\"text\":[\"wt: S349\",\"wt: V350\",\"wt: Y351\",\"wt: A352\",\"wt: W353\",\"wt: N354\",\"wt: R355\",\"wt: K356\",\"wt: R357\",\"wt: I358\",\"wt: S359\",\"wt: N360\",\"wt: C361\",\"wt: V362\",\"wt: A363\",\"wt: D364\",\"wt: Y365\",\"wt: S366\",\"wt: V367\",\"wt: L368\",\"wt: Y369\",\"wt: N370\",\"wt: S371\",\"wt: A372\",\"wt: S373\",\"wt: F374\",\"wt: S375\",\"wt: T376\",\"wt: F377\",\"wt: K378\",\"wt: C379\",\"wt: Y380\",\"wt: G381\",\"wt: V382\",\"wt: S383\",\"wt: P384\",\"wt: T385\",\"wt: K386\",\"wt: L387\",\"wt: N388\",\"wt: D389\",\"wt: L390\",\"wt: C391\",\"wt: F392\",\"wt: T393\",\"wt: N394\",\"wt: V395\",\"wt: Y396\",\"wt: A397\",\"wt: S399\",\"wt: F400\",\"wt: V401\",\"wt: I402\",\"wt: R403\",\"wt: G404\",\"wt: D405\",\"wt: E406\",\"wt: V407\",\"wt: R408\",\"wt: Q409\",\"wt: I410\",\"wt: A411\",\"wt: P412\",\"wt: G413\",\"wt: Q414\",\"wt: T415\",\"wt: G416\",\"wt: K417\",\"wt: I418\",\"wt: A419\",\"wt: D420\",\"wt: Y421\",\"wt: Y423\",\"wt: K424\",\"wt: L425\",\"wt: P426\",\"wt: D427\",\"wt: D428\",\"wt: F429\",\"wt: T430\",\"wt: G431\",\"wt: C432\",\"wt: V433\",\"wt: I434\",\"wt: A435\",\"wt: W436\",\"wt: N437\",\"wt: S438\",\"wt: N439\",\"wt: N440\",\"wt: L441\",\"wt: D442\",\"wt: S443\",\"wt: K444\",\"wt: V445\",\"wt: G446\",\"wt: G447\",\"wt: N448\",\"wt: Y449\",\"wt: N450\",\"wt: Y451\",\"wt: L452\",\"wt: Y453\",\"wt: R454\",\"wt: L455\",\"wt: F456\",\"wt: R457\",\"wt: K458\",\"wt: S459\",\"wt: N460\",\"wt: L461\",\"wt: K462\",\"wt: P463\",\"wt: F464\",\"wt: E465\",\"wt: R466\",\"wt: D467\",\"wt: I468\",\"wt: S469\",\"wt: T470\",\"wt: E471\",\"wt: I472\",\"wt: Y473\",\"wt: Q474\",\"wt: A475\",\"wt: G476\",\"wt: S477\",\"wt: T478\",\"wt: P479\",\"wt: C480\",\"wt: N481\",\"wt: G482\",\"wt: V483\",\"wt: E484\",\"wt: G485\",\"wt: F486\",\"wt: N487\",\"wt: C488\",\"wt: Y489\",\"wt: F490\",\"wt: P491\",\"wt: L492\",\"wt: Q493\",\"wt: S494\",\"wt: Y495\",\"wt: G496\",\"wt: F497\",\"wt: Q498\",\"wt: P499\",\"wt: T500\",\"wt: N501\",\"wt: G502\",\"wt: V503\",\"wt: G504\",\"wt: Y505\",\"wt: Q506\",\"wt: P507\",\"wt: Y508\",\"wt: R509\",\"wt: V510\",\"wt: V511\",\"wt: V512\",\"wt: L513\",\"wt: S514\",\"wt: F515\",\"wt: E516\",\"wt: L517\",\"wt: L518\",\"wt: H519\",\"wt: A520\",\"wt: P521\",\"wt: A522\",\"wt: T523\",\"wt: V524\",\"wt: C525\",\"wt: G526\"],\"textfont\":{\"color\":\"#E58606\"},\"textposition\":\"top right\",\"type\":\"scattergl\",\"uid\":\"57756b90-db69-45bc-be86-1bea5034f729\",\"x\":[-1.2046,-1.1667,-1.2678,-1.1347,-1.3433,-0.6908,-1.46,-0.8585,-0.8866,-1.1399,-1.0692,-1.0716,-1.4536,-1.1652,-1.2195,-1.2435,-1.2247,-1.0245,-1.1382,-1.3272,-1.2234,-1.2102,-1.251,0.0083,-1.0373,-1.1951,-1.271,-1.2014,-1.3153,-1.0351,-1.5544,-1.2908,-1.3344,-1.4432,-1.3011,-1.0483,-1.0093,-1.3027,-1.3825,-1.0351,-1.3047,-1.2514,-1.5245,-1.2383,-0.6168,-0.8912,-1.2365,-1.2549,-1.2162,-0.9234,-1.434,-0.9475,-0.4977,0.0615,-1.0926,-1.1401,-0.6859,-1.1573,-1.1722,-1.2426,-1.0136,-1.2492,-1.257,-1.1064,-1.1209,-1.1667,-1.4381,-0.4315,-1.3088,-1.2311,-1.2382,-1.374,-1.5252,-1.2005,-1.339,-1.3234,-1.2182,-1.2017,-1.3508,-0.9311,-1.3138,-1.5387,-1.2237,-0.7544,-1.3137,-1.2219,-1.1781,-0.6044,-0.4444,-0.2092,-0.2007,-1.1966,-0.3077,-0.4083,-0.0565,-0.5834,-0.6227,-0.9643,-0.6399,-0.7114,-1.0353,-0.9576,-1.1071,-1.243,-0.6609,-0.7466,-1.1185,-0.725,-0.6361,-0.369,-0.9594,-0.9182,-1.2839,-0.8403,-1.0916,-1.1957,-1.2306,-0.8062,-1.1259,-0.608,-0.5911,-0.8332,-0.8968,-0.7201,-0.5693,-0.8152,-0.6329,-0.6578,-0.8332,-1.2501,-0.7105,-0.6489,-0.317,-0.2097,-0.9483,-0.2134,-1.0947,-1.1891,-1.0939,0.0474,-1.1151,-1.2033,0.0448,-0.3161,-1.2157,-1.1445,-1.2366,-0.111,-0.8526,-0.9683,-0.0427,-1.1747,-0.902,-0.7454,-0.6702,-1.2438,-1.0639,-0.8218,-1.1835,-1.1479,-1.2008,-1.2642,-1.1848,-1.2699,-1.1306,-1.1416,-1.1875,-1.2267,0.2159,-0.8394,-1.1793,-1.2426,-1.2803,-1.4834,-1.5027,-1.2935],\"y\":[0.14471057884231536,0.14614614614614616,0.16489361702127658,0.15338645418326693,0.14298978644382543,0.14553990610328638,0.14864864864864866,0.17356205852674067,0.16292134831460675,0.12810327706057598,0.15311004784688995,0.13948256467941508,0.14879227053140096,0.16797642436149313,0.1699078812691914,0.20200752823086573,0.171875,0.18407960199004975,0.12894736842105264,0.14798850574712644,0.2147995889003083,0.20351239669421486,0.17659574468085107,0.19474835886214442,0.11894273127753303,0.18668012108980828,0.17474747474747473,0.1897891231964484,0.2138728323699422,0.2339622641509434,0.22131979695431472,0.20138089758342922,0.16596194503171247,0.22142857142857142,0.25409047160731474,0.24616771866546439,0.21982758620689655,0.19586776859504132,0.11425873465533522,0.14903846153846154,0.12422360248447205,0.16135458167330677,0.11995753715498939,0.16452991452991453,0.11530612244897959,0.12049433573635428,0.1248688352570829,0.14097968936678615,0.1285878300803674,0.12973593570608496,0.13657957244655583,0.1291005291005291,0.11862835959221502,0.22408026755852842,0.18694690265486727,0.23121387283236994,0.23156801661474558,0.2625482625482625,0.32653061224489793,0.2558139534883721,0.2736098852603707,0.2772808586762075,0.2830188679245283,0.24556489262371614,0.28620102214650767,0.27884615384615385,0.29428571428571426,0.38632162661737524,0.259763851044505,0.26494940202391903,0.2921027592768792,0.25045703839122485,0.18449781659388648,0.17017383348581885,0.15826702033598586,0.11122881355932203,0.1515768056968464,0.16084656084656085,0.1506986027944112,0.145748987854251,0.1438423645320197,0.21490280777537796,0.2005958291956306,0.206858407079646,0.20735785953177258,0.23012048192771084,0.1839348079161816,0.16767189384800965,0.17551020408163265,0.20168067226890757,0.19430051813471502,0.1575649059982095,0.16486486486486487,0.2098976109215017,0.19678407350689128,0.26256983240223464,0.17854283426741394,0.18038922155688622,0.2815230961298377,0.21224489795918366,0.16445066480055984,0.22666666666666666,0.23812664907651715,0.15749128919860628,0.23880597014925373,0.253683536194747,0.15629322268326418,0.15774843641417652,0.13841368584758942,0.1670445956160242,0.12137404580152672,0.1251840942562592,0.13006885998469778,0.12846153846153846,0.1360708534621578,0.1482456140350877,0.16141732283464566,0.17291666666666666,0.15160642570281124,0.2157039711191336,0.1881720430107527,0.22121486854034453,0.2355406538139145,0.21833648393194707,0.26690712353471596,0.26988922457200404,0.2463898916967509,0.21994134897360704,0.20082815734989648,0.32098765432098764,0.3255649717514124,0.3535836177474403,0.36488250652741516,0.4465547703180212,0.3613595706618962,0.4003446295232625,0.3417882054533925,0.28728070175438597,0.3424170616113744,0.3331306990881459,0.2511978097193703,0.28415300546448086,0.32686476652516677,0.30717351318209685,0.21031096563011456,0.22739018087855298,0.1394354148845167,0.22383252818035426,0.18771043771043772,0.22493461203138623,0.3522388059701492,0.25386493083807976,0.19548218940052128,0.20266412940057088,0.2695035460992908,0.1897810218978102,0.21238938053097345,0.24366471734892786,0.21511627906976744,0.2041216879293425,0.2107795957651588,0.17690677966101695,0.17103984450923226,0.18075801749271136,0.18361303060217177,0.17132867132867133,0.187434554973822,0.1539313399778516,0.1454940282301846,0.13931523022432113,0.11876988335100742,0.11542610571736785,0.12235817575083426,0.22328931572629052,0.20871559633027523,0.21205098493626884]},{\"marker\":{\"color\":\"red\",\"size\":[19.999999999999993,24.999999999999996,20.000000000000004,19.999999999999993,20.000000000000004,24.999999999999996,19.999999999999993,20.000000000000004,25.000000000000014,20.000000000000004,20.000000000000004,20.000000000000004,20.000000000000004]},\"mode\":\"markers\",\"showlegend\":false,\"text\":[\"wt: S371\",\"wt: S373\",\"wt: K417\",\"wt: N440\",\"wt: G446\",\"wt: L452\",\"wt: S477\",\"wt: T478\",\"wt: E484\",\"wt: Q493\",\"wt: G496\",\"wt: Q498\",\"wt: N501\"],\"textfont\":{\"color\":\"#E58606\"},\"textposition\":\"top right\",\"type\":\"scattergl\",\"uid\":\"1c02ad6f-86a4-4e27-9fd3-e98d6ed6f992\",\"x\":[-1.251,-1.0373,-0.4315,-0.2092,-0.5834,-0.9576,-0.6329,-0.6578,-0.2097,0.0448,-1.1445,-0.111,-0.0427],\"y\":[0.17659574468085107,0.11894273127753303,0.38632162661737524,0.20168067226890757,0.26256983240223464,0.22666666666666666,0.2463898916967509,0.21994134897360704,0.4465547703180212,0.32686476652516677,0.22739018087855298,0.22383252818035426,0.3522388059701492]}],                        {\"legend\":{\"itemclick\":\"toggleothers\",\"itemdoubleclick\":\"toggle\"},\"margin\":{\"b\":20,\"l\":20,\"r\":20,\"t\":20},\"plot_bgcolor\":\"#FFF\",\"template\":{\"data\":{\"bar\":[{\"error_x\":{\"color\":\"#2a3f5f\"},\"error_y\":{\"color\":\"#2a3f5f\"},\"marker\":{\"line\":{\"color\":\"#E5ECF6\",\"width\":0.5},\"pattern\":{\"fillmode\":\"overlay\",\"size\":10,\"solidity\":0.2}},\"type\":\"bar\"}],\"barpolar\":[{\"marker\":{\"line\":{\"color\":\"#E5ECF6\",\"width\":0.5},\"pattern\":{\"fillmode\":\"overlay\",\"size\":10,\"solidity\":0.2}},\"type\":\"barpolar\"}],\"carpet\":[{\"aaxis\":{\"endlinecolor\":\"#2a3f5f\",\"gridcolor\":\"white\",\"linecolor\":\"white\",\"minorgridcolor\":\"white\",\"startlinecolor\":\"#2a3f5f\"},\"baxis\":{\"endlinecolor\":\"#2a3f5f\",\"gridcolor\":\"white\",\"linecolor\":\"white\",\"minorgridcolor\":\"white\",\"startlinecolor\":\"#2a3f5f\"},\"type\":\"carpet\"}],\"choropleth\":[{\"colorbar\":{\"outlinewidth\":0,\"ticks\":\"\"},\"type\":\"choropleth\"}],\"contour\":[{\"colorbar\":{\"outlinewidth\":0,\"ticks\":\"\"},\"colorscale\":[[0.0,\"#0d0887\"],[0.1111111111111111,\"#46039f\"],[0.2222222222222222,\"#7201a8\"],[0.3333333333333333,\"#9c179e\"],[0.4444444444444444,\"#bd3786\"],[0.5555555555555556,\"#d8576b\"],[0.6666666666666666,\"#ed7953\"],[0.7777777777777778,\"#fb9f3a\"],[0.8888888888888888,\"#fdca26\"],[1.0,\"#f0f921\"]],\"type\":\"contour\"}],\"contourcarpet\":[{\"colorbar\":{\"outlinewidth\":0,\"ticks\":\"\"},\"type\":\"contourcarpet\"}],\"heatmap\":[{\"colorbar\":{\"outlinewidth\":0,\"ticks\":\"\"},\"colorscale\":[[0.0,\"#0d0887\"],[0.1111111111111111,\"#46039f\"],[0.2222222222222222,\"#7201a8\"],[0.3333333333333333,\"#9c179e\"],[0.4444444444444444,\"#bd3786\"],[0.5555555555555556,\"#d8576b\"],[0.6666666666666666,\"#ed7953\"],[0.7777777777777778,\"#fb9f3a\"],[0.8888888888888888,\"#fdca26\"],[1.0,\"#f0f921\"]],\"type\":\"heatmap\"}],\"heatmapgl\":[{\"colorbar\":{\"outlinewidth\":0,\"ticks\":\"\"},\"colorscale\":[[0.0,\"#0d0887\"],[0.1111111111111111,\"#46039f\"],[0.2222222222222222,\"#7201a8\"],[0.3333333333333333,\"#9c179e\"],[0.4444444444444444,\"#bd3786\"],[0.5555555555555556,\"#d8576b\"],[0.6666666666666666,\"#ed7953\"],[0.7777777777777778,\"#fb9f3a\"],[0.8888888888888888,\"#fdca26\"],[1.0,\"#f0f921\"]],\"type\":\"heatmapgl\"}],\"histogram\":[{\"marker\":{\"pattern\":{\"fillmode\":\"overlay\",\"size\":10,\"solidity\":0.2}},\"type\":\"histogram\"}],\"histogram2d\":[{\"colorbar\":{\"outlinewidth\":0,\"ticks\":\"\"},\"colorscale\":[[0.0,\"#0d0887\"],[0.1111111111111111,\"#46039f\"],[0.2222222222222222,\"#7201a8\"],[0.3333333333333333,\"#9c179e\"],[0.4444444444444444,\"#bd3786\"],[0.5555555555555556,\"#d8576b\"],[0.6666666666666666,\"#ed7953\"],[0.7777777777777778,\"#fb9f3a\"],[0.8888888888888888,\"#fdca26\"],[1.0,\"#f0f921\"]],\"type\":\"histogram2d\"}],\"histogram2dcontour\":[{\"colorbar\":{\"outlinewidth\":0,\"ticks\":\"\"},\"colorscale\":[[0.0,\"#0d0887\"],[0.1111111111111111,\"#46039f\"],[0.2222222222222222,\"#7201a8\"],[0.3333333333333333,\"#9c179e\"],[0.4444444444444444,\"#bd3786\"],[0.5555555555555556,\"#d8576b\"],[0.6666666666666666,\"#ed7953\"],[0.7777777777777778,\"#fb9f3a\"],[0.8888888888888888,\"#fdca26\"],[1.0,\"#f0f921\"]],\"type\":\"histogram2dcontour\"}],\"mesh3d\":[{\"colorbar\":{\"outlinewidth\":0,\"ticks\":\"\"},\"type\":\"mesh3d\"}],\"parcoords\":[{\"line\":{\"colorbar\":{\"outlinewidth\":0,\"ticks\":\"\"}},\"type\":\"parcoords\"}],\"pie\":[{\"automargin\":true,\"type\":\"pie\"}],\"scatter\":[{\"marker\":{\"colorbar\":{\"outlinewidth\":0,\"ticks\":\"\"}},\"type\":\"scatter\"}],\"scatter3d\":[{\"line\":{\"colorbar\":{\"outlinewidth\":0,\"ticks\":\"\"}},\"marker\":{\"colorbar\":{\"outlinewidth\":0,\"ticks\":\"\"}},\"type\":\"scatter3d\"}],\"scattercarpet\":[{\"marker\":{\"colorbar\":{\"outlinewidth\":0,\"ticks\":\"\"}},\"type\":\"scattercarpet\"}],\"scattergeo\":[{\"marker\":{\"colorbar\":{\"outlinewidth\":0,\"ticks\":\"\"}},\"type\":\"scattergeo\"}],\"scattergl\":[{\"marker\":{\"colorbar\":{\"outlinewidth\":0,\"ticks\":\"\"}},\"type\":\"scattergl\"}],\"scattermapbox\":[{\"marker\":{\"colorbar\":{\"outlinewidth\":0,\"ticks\":\"\"}},\"type\":\"scattermapbox\"}],\"scatterpolar\":[{\"marker\":{\"colorbar\":{\"outlinewidth\":0,\"ticks\":\"\"}},\"type\":\"scatterpolar\"}],\"scatterpolargl\":[{\"marker\":{\"colorbar\":{\"outlinewidth\":0,\"ticks\":\"\"}},\"type\":\"scatterpolargl\"}],\"scatterternary\":[{\"marker\":{\"colorbar\":{\"outlinewidth\":0,\"ticks\":\"\"}},\"type\":\"scatterternary\"}],\"surface\":[{\"colorbar\":{\"outlinewidth\":0,\"ticks\":\"\"},\"colorscale\":[[0.0,\"#0d0887\"],[0.1111111111111111,\"#46039f\"],[0.2222222222222222,\"#7201a8\"],[0.3333333333333333,\"#9c179e\"],[0.4444444444444444,\"#bd3786\"],[0.5555555555555556,\"#d8576b\"],[0.6666666666666666,\"#ed7953\"],[0.7777777777777778,\"#fb9f3a\"],[0.8888888888888888,\"#fdca26\"],[1.0,\"#f0f921\"]],\"type\":\"surface\"}],\"table\":[{\"cells\":{\"fill\":{\"color\":\"#EBF0F8\"},\"line\":{\"color\":\"white\"}},\"header\":{\"fill\":{\"color\":\"#C8D4E3\"},\"line\":{\"color\":\"white\"}},\"type\":\"table\"}]},\"layout\":{\"annotationdefaults\":{\"arrowcolor\":\"#2a3f5f\",\"arrowhead\":0,\"arrowwidth\":1},\"autotypenumbers\":\"strict\",\"coloraxis\":{\"colorbar\":{\"outlinewidth\":0,\"ticks\":\"\"}},\"colorscale\":{\"diverging\":[[0,\"#8e0152\"],[0.1,\"#c51b7d\"],[0.2,\"#de77ae\"],[0.3,\"#f1b6da\"],[0.4,\"#fde0ef\"],[0.5,\"#f7f7f7\"],[0.6,\"#e6f5d0\"],[0.7,\"#b8e186\"],[0.8,\"#7fbc41\"],[0.9,\"#4d9221\"],[1,\"#276419\"]],\"sequential\":[[0.0,\"#0d0887\"],[0.1111111111111111,\"#46039f\"],[0.2222222222222222,\"#7201a8\"],[0.3333333333333333,\"#9c179e\"],[0.4444444444444444,\"#bd3786\"],[0.5555555555555556,\"#d8576b\"],[0.6666666666666666,\"#ed7953\"],[0.7777777777777778,\"#fb9f3a\"],[0.8888888888888888,\"#fdca26\"],[1.0,\"#f0f921\"]],\"sequentialminus\":[[0.0,\"#0d0887\"],[0.1111111111111111,\"#46039f\"],[0.2222222222222222,\"#7201a8\"],[0.3333333333333333,\"#9c179e\"],[0.4444444444444444,\"#bd3786\"],[0.5555555555555556,\"#d8576b\"],[0.6666666666666666,\"#ed7953\"],[0.7777777777777778,\"#fb9f3a\"],[0.8888888888888888,\"#fdca26\"],[1.0,\"#f0f921\"]]},\"colorway\":[\"#636efa\",\"#EF553B\",\"#00cc96\",\"#ab63fa\",\"#FFA15A\",\"#19d3f3\",\"#FF6692\",\"#B6E880\",\"#FF97FF\",\"#FECB52\"],\"font\":{\"color\":\"#2a3f5f\"},\"geo\":{\"bgcolor\":\"white\",\"lakecolor\":\"white\",\"landcolor\":\"#E5ECF6\",\"showlakes\":true,\"showland\":true,\"subunitcolor\":\"white\"},\"hoverlabel\":{\"align\":\"left\"},\"hovermode\":\"closest\",\"mapbox\":{\"style\":\"light\"},\"paper_bgcolor\":\"white\",\"plot_bgcolor\":\"#E5ECF6\",\"polar\":{\"angularaxis\":{\"gridcolor\":\"white\",\"linecolor\":\"white\",\"ticks\":\"\"},\"bgcolor\":\"#E5ECF6\",\"radialaxis\":{\"gridcolor\":\"white\",\"linecolor\":\"white\",\"ticks\":\"\"}},\"scene\":{\"xaxis\":{\"backgroundcolor\":\"#E5ECF6\",\"gridcolor\":\"white\",\"gridwidth\":2,\"linecolor\":\"white\",\"showbackground\":true,\"ticks\":\"\",\"zerolinecolor\":\"white\"},\"yaxis\":{\"backgroundcolor\":\"#E5ECF6\",\"gridcolor\":\"white\",\"gridwidth\":2,\"linecolor\":\"white\",\"showbackground\":true,\"ticks\":\"\",\"zerolinecolor\":\"white\"},\"zaxis\":{\"backgroundcolor\":\"#E5ECF6\",\"gridcolor\":\"white\",\"gridwidth\":2,\"linecolor\":\"white\",\"showbackground\":true,\"ticks\":\"\",\"zerolinecolor\":\"white\"}},\"shapedefaults\":{\"line\":{\"color\":\"#2a3f5f\"}},\"ternary\":{\"aaxis\":{\"gridcolor\":\"white\",\"linecolor\":\"white\",\"ticks\":\"\"},\"baxis\":{\"gridcolor\":\"white\",\"linecolor\":\"white\",\"ticks\":\"\"},\"bgcolor\":\"#E5ECF6\",\"caxis\":{\"gridcolor\":\"white\",\"linecolor\":\"white\",\"ticks\":\"\"}},\"title\":{\"x\":0.05},\"xaxis\":{\"automargin\":true,\"gridcolor\":\"white\",\"linecolor\":\"white\",\"ticks\":\"\",\"title\":{\"standoff\":15},\"zerolinecolor\":\"white\",\"zerolinewidth\":2},\"yaxis\":{\"automargin\":true,\"gridcolor\":\"white\",\"linecolor\":\"white\",\"ticks\":\"\",\"title\":{\"standoff\":15},\"zerolinecolor\":\"white\",\"zerolinewidth\":2}}},\"xaxis\":{\"linecolor\":\"#BCCCDC\",\"mirror\":true,\"showgrid\":true,\"title\":{\"text\":\"mutability_score(DCA)\"}},\"yaxis\":{\"linecolor\":\"#BCCCDC\",\"mirror\":true,\"showgrid\":true,\"title\":{\"text\":\"IEDB - Response Frequency\"}}},                        {\"responsive\": true}                    ).then(function(){\n",
       "                            \n",
       "var gd = document.getElementById('e086e461-9d36-4719-8c68-05da395becba');\n",
       "var x = new MutationObserver(function (mutations, observer) {{\n",
       "        var display = window.getComputedStyle(gd).display;\n",
       "        if (!display || display === 'none') {{\n",
       "            console.log([gd, 'removed!']);\n",
       "            Plotly.purge(gd);\n",
       "            observer.disconnect();\n",
       "        }}\n",
       "}});\n",
       "\n",
       "// Listen for the removal of the full notebook cells\n",
       "var notebookContainer = gd.closest('#notebook-container');\n",
       "if (notebookContainer) {{\n",
       "    x.observe(notebookContainer, {childList: true});\n",
       "}}\n",
       "\n",
       "// Listen for the clearing of the current output cell\n",
       "var outputEl = gd.closest('.output');\n",
       "if (outputEl) {{\n",
       "    x.observe(outputEl, {childList: true});\n",
       "}}\n",
       "\n",
       "                        })                };                });            </script>        </div>"
      ]
     },
     "metadata": {},
     "output_type": "display_data"
    },
    {
     "data": {
      "text/plain": [
       "0"
      ]
     },
     "execution_count": 70,
     "metadata": {},
     "output_type": "execute_result"
    }
   ],
   "source": [
    "'''\n",
    "DCA mutability score vs. the IEDB response frequency \n",
    "highlighting position mutated in Variants of Concerns (list_pos_mutated)\n",
    "'''\n",
    "\n",
    "score = 'mutability_score(DCA)'\n",
    "#for DCA predictions, we need to specify a PFAM domain. \n",
    "#Here we consider the Receptor Binding Domain of the Spike Protein\n",
    "dom = \"bCoV_S1_RBD\"\n",
    "\n",
    "print(\"DCA mutability predictions vs. IEDB response frequency data \\n for the *** {0} domain of the {1} protein ***\".format(dom,prot))  \n",
    "\n",
    "df = load_data_dca(path_data = \"./data/data_dca_proteome.csv\", protein = prot, domain = dom)\n",
    "\n",
    "#get IEDB available versions:\n",
    "path_IEDB_updated_data = \"./data/IEDB_updated_data/{0}\".format(prot)\n",
    "list_IEDB_versions =  get_IEDB_versions(path_IEDB_epitope_data = path_IEDB_updated_data )\n",
    "\n",
    "IEDB_ver = '05Dec2021'\n",
    "df = get_updated_IEDB(df, IEDB_ver, path_IEDB_updated_data)\n",
    "\n",
    "\n",
    "plot_dca_IEDB(df, score, list_pos = list_pos_mutated)"
   ]
  },
  {
   "cell_type": "code",
   "execution_count": 72,
   "metadata": {},
   "outputs": [
    {
     "name": "stdout",
     "output_type": "stream",
     "text": [
      "IEDB available versions: ['05Dec2021']\n",
      "Selecting *** IEDB 05Dec2021 version ***\n",
      "('B.1.1.7', 'Alpha')\n",
      "   protein    domain  position_protein  position_domain aa_Wuhan-Hu-1  \\\n",
      "34   Spike  CoV_S1_C               570             35.0             A   \n",
      "\n",
      "    mutability_score(IND)  mutability_score(DCA)  observed_mut_May2021  \\\n",
      "34                 0.3024                 0.6038                 165.0   \n",
      "\n",
      "    observed_mut_Dec2020  observed_mut_Jul2020  IEDB_lowerbound  \\\n",
      "34                   4.0                   1.0             0.44   \n",
      "\n",
      "    IEDB_upperbound  subj_tested  subj_responded  IEDB_response_frequency  \\\n",
      "34             0.49         1606             750                 0.466999   \n",
      "\n",
      "    size_scatter  \n",
      "34          20.0  \n"
     ]
    },
    {
     "data": {
      "application/vnd.plotly.v1+json": {
       "config": {
        "linkText": "Export to plot.ly",
        "plotlyServerURL": "https://plot.ly",
        "showLink": false
       },
       "data": [
        {
         "marker": {
          "color": "#5D69B1",
          "size": [
           16.666666666666668,
           19.999999999999993,
           16.666666666666675,
           16.666666666666668,
           16.666666666666668,
           16.666666666666668,
           19.999999999999982,
           16.666666666666668,
           19.999999999999993,
           16.666666666666668,
           19.999999999999993,
           20.000000000000004,
           20.000000000000004,
           19.999999999999993,
           20.000000000000004,
           20.000000000000004,
           16.666666666666668,
           20.000000000000004,
           19.999999999999982,
           20.000000000000004,
           16.666666666666668,
           20.000000000000004,
           20.000000000000004,
           19.999999999999982,
           20.000000000000004,
           20.000000000000004,
           20.000000000000004,
           20.000000000000004,
           19.999999999999982,
           20.000000000000004,
           20.000000000000004,
           20.000000000000004,
           19.999999999999982,
           20.000000000000004,
           20.000000000000004,
           20.000000000000004,
           20.000000000000004,
           20.000000000000004,
           20.000000000000004,
           20.000000000000004,
           16.666666666666668,
           20.000000000000004,
           20.000000000000004,
           20.000000000000004,
           16.666666666666668,
           16.666666666666668,
           20.000000000000004,
           16.666666666666668,
           19.999999999999982,
           20.000000000000004,
           16.666666666666668,
           16.666666666666668,
           16.666666666666668,
           16.666666666666668,
           20.000000000000004,
           19.999999999999993,
           20.000000000000004
          ]
         },
         "mode": "markers",
         "name": "",
         "text": [
          "wt: N536",
          "wt: K537",
          "wt: C538",
          "wt: V539",
          "wt: N540",
          "wt: F541",
          "wt: N542",
          "wt: F543",
          "wt: N544",
          "wt: G545",
          "wt: L546",
          "wt: T547",
          "wt: G548",
          "wt: T549",
          "wt: G550",
          "wt: V551",
          "wt: L552",
          "wt: T553",
          "wt: E554",
          "wt: S555",
          "wt: N556",
          "wt: K557",
          "wt: K558",
          "wt: F559",
          "wt: L560",
          "wt: P561",
          "wt: F562",
          "wt: Q563",
          "wt: Q564",
          "wt: F565",
          "wt: G566",
          "wt: R567",
          "wt: D568",
          "wt: I569",
          "wt: A570",
          "wt: D571",
          "wt: T572",
          "wt: T573",
          "wt: D574",
          "wt: A575",
          "wt: V576",
          "wt: R577",
          "wt: D578",
          "wt: P579",
          "wt: Q580",
          "wt: T581",
          "wt: L582",
          "wt: E583",
          "wt: I584",
          "wt: L585",
          "wt: D586",
          "wt: I587",
          "wt: T588",
          "wt: P589",
          "wt: C590",
          "wt: S591",
          "wt: F592"
         ],
         "textfont": {
          "color": "#E58606"
         },
         "textposition": "top right",
         "type": "scattergl",
         "uid": "b8100433-440c-476d-8fee-9046352b4ff5",
         "x": [
          -0.4734,
          -1.6287,
          -0.881,
          -1.971,
          -0.7543,
          -0.6722,
          -0.0446,
          -0.7433,
          -3.4076,
          0.0057,
          -2.4081,
          -0.9133,
          -5.2507,
          -1.3355,
          -0.0813,
          -0.1257,
          -2.67,
          -2.3301,
          0.3225,
          -1.3009,
          -0.278,
          -0.7661,
          -0.2344,
          0.1351,
          0.2053,
          1.0324,
          -1.7344,
          -0.2888,
          -0.0021,
          -0.4759,
          -0.8118,
          0.0086,
          -0.8543,
          -0.5986,
          0.6038,
          -0.1355,
          -0.5778,
          -1.0033,
          -2.5491,
          -0.666,
          -0.4088,
          -0.7794,
          -0.6739,
          -3.2073,
          0.3379,
          -1.218,
          -3.4096,
          -0.9436,
          -0.1016,
          -3.4665,
          -1.3148,
          -1.2566,
          0.0584,
          0.8086,
          -1.6037,
          -0.7251,
          -3.4418
         ],
         "y": [
          0.2893013100436681,
          0.2546583850931677,
          0.25735294117647056,
          0.2791666666666667,
          0.29004329004329005,
          0.3120706575073602,
          0.3137450199203187,
          0.3118811881188119,
          0.2454835281615303,
          0.22879684418145957,
          0.23176823176823177,
          0.218014329580348,
          0.22633297062023938,
          0.2406311637080868,
          0.2653256704980843,
          0.28337874659400547,
          0.2711022840119166,
          0.33306451612903226,
          0.377431906614786,
          0.38256484149855907,
          0.41986947063089197,
          0.4047452896022331,
          0.4228650137741047,
          0.43288590604026844,
          0.4726264726264726,
          0.4490943160524672,
          0.4581039755351682,
          0.47225572979493363,
          0.5024968789013733,
          0.4825,
          0.48002619515389655,
          0.47050938337801607,
          0.49095780308104486,
          0.4706257982120051,
          0.4669987546699875,
          0.42428571428571427,
          0.4454477050413845,
          0.4431047475508666,
          0.4474678760393046,
          0.4628751974723539,
          0.490360435875943,
          0.46250986582478293,
          0.4666136724960254,
          0.4650379106992418,
          0.4829443447037702,
          0.4487072560467056,
          0.44370860927152317,
          0.42992874109263657,
          0.43617021276595747,
          0.3968253968253968,
          0.3909710391822828,
          0.3776785714285714,
          0.37283236994219654,
          0.29793510324483774,
          0.2751817237798546,
          0.24236037934668073,
          0.223915592028136
         ]
        },
        {
         "marker": {
          "color": "red",
          "size": [
           20.000000000000004
          ]
         },
         "mode": "markers",
         "showlegend": false,
         "text": [
          "wt: A570"
         ],
         "textfont": {
          "color": "#E58606"
         },
         "textposition": "top right",
         "type": "scattergl",
         "uid": "7b565f7d-ece8-40de-875a-9a02a61208ac",
         "x": [
          0.6038
         ],
         "y": [
          0.4669987546699875
         ]
        }
       ],
       "layout": {
        "legend": {
         "itemclick": "toggleothers",
         "itemdoubleclick": "toggle"
        },
        "margin": {
         "b": 20,
         "l": 20,
         "r": 20,
         "t": 20
        },
        "plot_bgcolor": "#FFF",
        "template": {
         "data": {
          "bar": [
           {
            "error_x": {
             "color": "#2a3f5f"
            },
            "error_y": {
             "color": "#2a3f5f"
            },
            "marker": {
             "line": {
              "color": "#E5ECF6",
              "width": 0.5
             },
             "pattern": {
              "fillmode": "overlay",
              "size": 10,
              "solidity": 0.2
             }
            },
            "type": "bar"
           }
          ],
          "barpolar": [
           {
            "marker": {
             "line": {
              "color": "#E5ECF6",
              "width": 0.5
             },
             "pattern": {
              "fillmode": "overlay",
              "size": 10,
              "solidity": 0.2
             }
            },
            "type": "barpolar"
           }
          ],
          "carpet": [
           {
            "aaxis": {
             "endlinecolor": "#2a3f5f",
             "gridcolor": "white",
             "linecolor": "white",
             "minorgridcolor": "white",
             "startlinecolor": "#2a3f5f"
            },
            "baxis": {
             "endlinecolor": "#2a3f5f",
             "gridcolor": "white",
             "linecolor": "white",
             "minorgridcolor": "white",
             "startlinecolor": "#2a3f5f"
            },
            "type": "carpet"
           }
          ],
          "choropleth": [
           {
            "colorbar": {
             "outlinewidth": 0,
             "ticks": ""
            },
            "type": "choropleth"
           }
          ],
          "contour": [
           {
            "colorbar": {
             "outlinewidth": 0,
             "ticks": ""
            },
            "colorscale": [
             [
              0,
              "#0d0887"
             ],
             [
              0.1111111111111111,
              "#46039f"
             ],
             [
              0.2222222222222222,
              "#7201a8"
             ],
             [
              0.3333333333333333,
              "#9c179e"
             ],
             [
              0.4444444444444444,
              "#bd3786"
             ],
             [
              0.5555555555555556,
              "#d8576b"
             ],
             [
              0.6666666666666666,
              "#ed7953"
             ],
             [
              0.7777777777777778,
              "#fb9f3a"
             ],
             [
              0.8888888888888888,
              "#fdca26"
             ],
             [
              1,
              "#f0f921"
             ]
            ],
            "type": "contour"
           }
          ],
          "contourcarpet": [
           {
            "colorbar": {
             "outlinewidth": 0,
             "ticks": ""
            },
            "type": "contourcarpet"
           }
          ],
          "heatmap": [
           {
            "colorbar": {
             "outlinewidth": 0,
             "ticks": ""
            },
            "colorscale": [
             [
              0,
              "#0d0887"
             ],
             [
              0.1111111111111111,
              "#46039f"
             ],
             [
              0.2222222222222222,
              "#7201a8"
             ],
             [
              0.3333333333333333,
              "#9c179e"
             ],
             [
              0.4444444444444444,
              "#bd3786"
             ],
             [
              0.5555555555555556,
              "#d8576b"
             ],
             [
              0.6666666666666666,
              "#ed7953"
             ],
             [
              0.7777777777777778,
              "#fb9f3a"
             ],
             [
              0.8888888888888888,
              "#fdca26"
             ],
             [
              1,
              "#f0f921"
             ]
            ],
            "type": "heatmap"
           }
          ],
          "heatmapgl": [
           {
            "colorbar": {
             "outlinewidth": 0,
             "ticks": ""
            },
            "colorscale": [
             [
              0,
              "#0d0887"
             ],
             [
              0.1111111111111111,
              "#46039f"
             ],
             [
              0.2222222222222222,
              "#7201a8"
             ],
             [
              0.3333333333333333,
              "#9c179e"
             ],
             [
              0.4444444444444444,
              "#bd3786"
             ],
             [
              0.5555555555555556,
              "#d8576b"
             ],
             [
              0.6666666666666666,
              "#ed7953"
             ],
             [
              0.7777777777777778,
              "#fb9f3a"
             ],
             [
              0.8888888888888888,
              "#fdca26"
             ],
             [
              1,
              "#f0f921"
             ]
            ],
            "type": "heatmapgl"
           }
          ],
          "histogram": [
           {
            "marker": {
             "pattern": {
              "fillmode": "overlay",
              "size": 10,
              "solidity": 0.2
             }
            },
            "type": "histogram"
           }
          ],
          "histogram2d": [
           {
            "colorbar": {
             "outlinewidth": 0,
             "ticks": ""
            },
            "colorscale": [
             [
              0,
              "#0d0887"
             ],
             [
              0.1111111111111111,
              "#46039f"
             ],
             [
              0.2222222222222222,
              "#7201a8"
             ],
             [
              0.3333333333333333,
              "#9c179e"
             ],
             [
              0.4444444444444444,
              "#bd3786"
             ],
             [
              0.5555555555555556,
              "#d8576b"
             ],
             [
              0.6666666666666666,
              "#ed7953"
             ],
             [
              0.7777777777777778,
              "#fb9f3a"
             ],
             [
              0.8888888888888888,
              "#fdca26"
             ],
             [
              1,
              "#f0f921"
             ]
            ],
            "type": "histogram2d"
           }
          ],
          "histogram2dcontour": [
           {
            "colorbar": {
             "outlinewidth": 0,
             "ticks": ""
            },
            "colorscale": [
             [
              0,
              "#0d0887"
             ],
             [
              0.1111111111111111,
              "#46039f"
             ],
             [
              0.2222222222222222,
              "#7201a8"
             ],
             [
              0.3333333333333333,
              "#9c179e"
             ],
             [
              0.4444444444444444,
              "#bd3786"
             ],
             [
              0.5555555555555556,
              "#d8576b"
             ],
             [
              0.6666666666666666,
              "#ed7953"
             ],
             [
              0.7777777777777778,
              "#fb9f3a"
             ],
             [
              0.8888888888888888,
              "#fdca26"
             ],
             [
              1,
              "#f0f921"
             ]
            ],
            "type": "histogram2dcontour"
           }
          ],
          "mesh3d": [
           {
            "colorbar": {
             "outlinewidth": 0,
             "ticks": ""
            },
            "type": "mesh3d"
           }
          ],
          "parcoords": [
           {
            "line": {
             "colorbar": {
              "outlinewidth": 0,
              "ticks": ""
             }
            },
            "type": "parcoords"
           }
          ],
          "pie": [
           {
            "automargin": true,
            "type": "pie"
           }
          ],
          "scatter": [
           {
            "marker": {
             "colorbar": {
              "outlinewidth": 0,
              "ticks": ""
             }
            },
            "type": "scatter"
           }
          ],
          "scatter3d": [
           {
            "line": {
             "colorbar": {
              "outlinewidth": 0,
              "ticks": ""
             }
            },
            "marker": {
             "colorbar": {
              "outlinewidth": 0,
              "ticks": ""
             }
            },
            "type": "scatter3d"
           }
          ],
          "scattercarpet": [
           {
            "marker": {
             "colorbar": {
              "outlinewidth": 0,
              "ticks": ""
             }
            },
            "type": "scattercarpet"
           }
          ],
          "scattergeo": [
           {
            "marker": {
             "colorbar": {
              "outlinewidth": 0,
              "ticks": ""
             }
            },
            "type": "scattergeo"
           }
          ],
          "scattergl": [
           {
            "marker": {
             "colorbar": {
              "outlinewidth": 0,
              "ticks": ""
             }
            },
            "type": "scattergl"
           }
          ],
          "scattermapbox": [
           {
            "marker": {
             "colorbar": {
              "outlinewidth": 0,
              "ticks": ""
             }
            },
            "type": "scattermapbox"
           }
          ],
          "scatterpolar": [
           {
            "marker": {
             "colorbar": {
              "outlinewidth": 0,
              "ticks": ""
             }
            },
            "type": "scatterpolar"
           }
          ],
          "scatterpolargl": [
           {
            "marker": {
             "colorbar": {
              "outlinewidth": 0,
              "ticks": ""
             }
            },
            "type": "scatterpolargl"
           }
          ],
          "scatterternary": [
           {
            "marker": {
             "colorbar": {
              "outlinewidth": 0,
              "ticks": ""
             }
            },
            "type": "scatterternary"
           }
          ],
          "surface": [
           {
            "colorbar": {
             "outlinewidth": 0,
             "ticks": ""
            },
            "colorscale": [
             [
              0,
              "#0d0887"
             ],
             [
              0.1111111111111111,
              "#46039f"
             ],
             [
              0.2222222222222222,
              "#7201a8"
             ],
             [
              0.3333333333333333,
              "#9c179e"
             ],
             [
              0.4444444444444444,
              "#bd3786"
             ],
             [
              0.5555555555555556,
              "#d8576b"
             ],
             [
              0.6666666666666666,
              "#ed7953"
             ],
             [
              0.7777777777777778,
              "#fb9f3a"
             ],
             [
              0.8888888888888888,
              "#fdca26"
             ],
             [
              1,
              "#f0f921"
             ]
            ],
            "type": "surface"
           }
          ],
          "table": [
           {
            "cells": {
             "fill": {
              "color": "#EBF0F8"
             },
             "line": {
              "color": "white"
             }
            },
            "header": {
             "fill": {
              "color": "#C8D4E3"
             },
             "line": {
              "color": "white"
             }
            },
            "type": "table"
           }
          ]
         },
         "layout": {
          "annotationdefaults": {
           "arrowcolor": "#2a3f5f",
           "arrowhead": 0,
           "arrowwidth": 1
          },
          "autotypenumbers": "strict",
          "coloraxis": {
           "colorbar": {
            "outlinewidth": 0,
            "ticks": ""
           }
          },
          "colorscale": {
           "diverging": [
            [
             0,
             "#8e0152"
            ],
            [
             0.1,
             "#c51b7d"
            ],
            [
             0.2,
             "#de77ae"
            ],
            [
             0.3,
             "#f1b6da"
            ],
            [
             0.4,
             "#fde0ef"
            ],
            [
             0.5,
             "#f7f7f7"
            ],
            [
             0.6,
             "#e6f5d0"
            ],
            [
             0.7,
             "#b8e186"
            ],
            [
             0.8,
             "#7fbc41"
            ],
            [
             0.9,
             "#4d9221"
            ],
            [
             1,
             "#276419"
            ]
           ],
           "sequential": [
            [
             0,
             "#0d0887"
            ],
            [
             0.1111111111111111,
             "#46039f"
            ],
            [
             0.2222222222222222,
             "#7201a8"
            ],
            [
             0.3333333333333333,
             "#9c179e"
            ],
            [
             0.4444444444444444,
             "#bd3786"
            ],
            [
             0.5555555555555556,
             "#d8576b"
            ],
            [
             0.6666666666666666,
             "#ed7953"
            ],
            [
             0.7777777777777778,
             "#fb9f3a"
            ],
            [
             0.8888888888888888,
             "#fdca26"
            ],
            [
             1,
             "#f0f921"
            ]
           ],
           "sequentialminus": [
            [
             0,
             "#0d0887"
            ],
            [
             0.1111111111111111,
             "#46039f"
            ],
            [
             0.2222222222222222,
             "#7201a8"
            ],
            [
             0.3333333333333333,
             "#9c179e"
            ],
            [
             0.4444444444444444,
             "#bd3786"
            ],
            [
             0.5555555555555556,
             "#d8576b"
            ],
            [
             0.6666666666666666,
             "#ed7953"
            ],
            [
             0.7777777777777778,
             "#fb9f3a"
            ],
            [
             0.8888888888888888,
             "#fdca26"
            ],
            [
             1,
             "#f0f921"
            ]
           ]
          },
          "colorway": [
           "#636efa",
           "#EF553B",
           "#00cc96",
           "#ab63fa",
           "#FFA15A",
           "#19d3f3",
           "#FF6692",
           "#B6E880",
           "#FF97FF",
           "#FECB52"
          ],
          "font": {
           "color": "#2a3f5f"
          },
          "geo": {
           "bgcolor": "white",
           "lakecolor": "white",
           "landcolor": "#E5ECF6",
           "showlakes": true,
           "showland": true,
           "subunitcolor": "white"
          },
          "hoverlabel": {
           "align": "left"
          },
          "hovermode": "closest",
          "mapbox": {
           "style": "light"
          },
          "paper_bgcolor": "white",
          "plot_bgcolor": "#E5ECF6",
          "polar": {
           "angularaxis": {
            "gridcolor": "white",
            "linecolor": "white",
            "ticks": ""
           },
           "bgcolor": "#E5ECF6",
           "radialaxis": {
            "gridcolor": "white",
            "linecolor": "white",
            "ticks": ""
           }
          },
          "scene": {
           "xaxis": {
            "backgroundcolor": "#E5ECF6",
            "gridcolor": "white",
            "gridwidth": 2,
            "linecolor": "white",
            "showbackground": true,
            "ticks": "",
            "zerolinecolor": "white"
           },
           "yaxis": {
            "backgroundcolor": "#E5ECF6",
            "gridcolor": "white",
            "gridwidth": 2,
            "linecolor": "white",
            "showbackground": true,
            "ticks": "",
            "zerolinecolor": "white"
           },
           "zaxis": {
            "backgroundcolor": "#E5ECF6",
            "gridcolor": "white",
            "gridwidth": 2,
            "linecolor": "white",
            "showbackground": true,
            "ticks": "",
            "zerolinecolor": "white"
           }
          },
          "shapedefaults": {
           "line": {
            "color": "#2a3f5f"
           }
          },
          "ternary": {
           "aaxis": {
            "gridcolor": "white",
            "linecolor": "white",
            "ticks": ""
           },
           "baxis": {
            "gridcolor": "white",
            "linecolor": "white",
            "ticks": ""
           },
           "bgcolor": "#E5ECF6",
           "caxis": {
            "gridcolor": "white",
            "linecolor": "white",
            "ticks": ""
           }
          },
          "title": {
           "x": 0.05
          },
          "xaxis": {
           "automargin": true,
           "gridcolor": "white",
           "linecolor": "white",
           "ticks": "",
           "title": {
            "standoff": 15
           },
           "zerolinecolor": "white",
           "zerolinewidth": 2
          },
          "yaxis": {
           "automargin": true,
           "gridcolor": "white",
           "linecolor": "white",
           "ticks": "",
           "title": {
            "standoff": 15
           },
           "zerolinecolor": "white",
           "zerolinewidth": 2
          }
         }
        },
        "xaxis": {
         "linecolor": "#BCCCDC",
         "mirror": true,
         "showgrid": true,
         "title": {
          "text": "mutability_score(DCA)"
         }
        },
        "yaxis": {
         "linecolor": "#BCCCDC",
         "mirror": true,
         "showgrid": true,
         "title": {
          "text": "IEDB - Response Frequency"
         }
        }
       }
      },
      "text/html": [
       "<div>                            <div id=\"600fef59-c5b0-4f8c-a0f8-b5446051d73e\" class=\"plotly-graph-div\" style=\"height:525px; width:100%;\"></div>            <script type=\"text/javascript\">                require([\"plotly\"], function(Plotly) {                    window.PLOTLYENV=window.PLOTLYENV || {};                                    if (document.getElementById(\"600fef59-c5b0-4f8c-a0f8-b5446051d73e\")) {                    Plotly.newPlot(                        \"600fef59-c5b0-4f8c-a0f8-b5446051d73e\",                        [{\"marker\":{\"color\":\"#5D69B1\",\"size\":[16.666666666666668,19.999999999999993,16.666666666666675,16.666666666666668,16.666666666666668,16.666666666666668,19.999999999999982,16.666666666666668,19.999999999999993,16.666666666666668,19.999999999999993,20.000000000000004,20.000000000000004,19.999999999999993,20.000000000000004,20.000000000000004,16.666666666666668,20.000000000000004,19.999999999999982,20.000000000000004,16.666666666666668,20.000000000000004,20.000000000000004,19.999999999999982,20.000000000000004,20.000000000000004,20.000000000000004,20.000000000000004,19.999999999999982,20.000000000000004,20.000000000000004,20.000000000000004,19.999999999999982,20.000000000000004,20.000000000000004,20.000000000000004,20.000000000000004,20.000000000000004,20.000000000000004,20.000000000000004,16.666666666666668,20.000000000000004,20.000000000000004,20.000000000000004,16.666666666666668,16.666666666666668,20.000000000000004,16.666666666666668,19.999999999999982,20.000000000000004,16.666666666666668,16.666666666666668,16.666666666666668,16.666666666666668,20.000000000000004,19.999999999999993,20.000000000000004]},\"mode\":\"markers\",\"name\":\"\",\"text\":[\"wt: N536\",\"wt: K537\",\"wt: C538\",\"wt: V539\",\"wt: N540\",\"wt: F541\",\"wt: N542\",\"wt: F543\",\"wt: N544\",\"wt: G545\",\"wt: L546\",\"wt: T547\",\"wt: G548\",\"wt: T549\",\"wt: G550\",\"wt: V551\",\"wt: L552\",\"wt: T553\",\"wt: E554\",\"wt: S555\",\"wt: N556\",\"wt: K557\",\"wt: K558\",\"wt: F559\",\"wt: L560\",\"wt: P561\",\"wt: F562\",\"wt: Q563\",\"wt: Q564\",\"wt: F565\",\"wt: G566\",\"wt: R567\",\"wt: D568\",\"wt: I569\",\"wt: A570\",\"wt: D571\",\"wt: T572\",\"wt: T573\",\"wt: D574\",\"wt: A575\",\"wt: V576\",\"wt: R577\",\"wt: D578\",\"wt: P579\",\"wt: Q580\",\"wt: T581\",\"wt: L582\",\"wt: E583\",\"wt: I584\",\"wt: L585\",\"wt: D586\",\"wt: I587\",\"wt: T588\",\"wt: P589\",\"wt: C590\",\"wt: S591\",\"wt: F592\"],\"textfont\":{\"color\":\"#E58606\"},\"textposition\":\"top right\",\"type\":\"scattergl\",\"uid\":\"b8100433-440c-476d-8fee-9046352b4ff5\",\"x\":[-0.4734,-1.6287,-0.881,-1.971,-0.7543,-0.6722,-0.0446,-0.7433,-3.4076,0.0057,-2.4081,-0.9133,-5.2507,-1.3355,-0.0813,-0.1257,-2.67,-2.3301,0.3225,-1.3009,-0.278,-0.7661,-0.2344,0.1351,0.2053,1.0324,-1.7344,-0.2888,-0.0021,-0.4759,-0.8118,0.0086,-0.8543,-0.5986,0.6038,-0.1355,-0.5778,-1.0033,-2.5491,-0.666,-0.4088,-0.7794,-0.6739,-3.2073,0.3379,-1.218,-3.4096,-0.9436,-0.1016,-3.4665,-1.3148,-1.2566,0.0584,0.8086,-1.6037,-0.7251,-3.4418],\"y\":[0.2893013100436681,0.2546583850931677,0.25735294117647056,0.2791666666666667,0.29004329004329005,0.3120706575073602,0.3137450199203187,0.3118811881188119,0.2454835281615303,0.22879684418145957,0.23176823176823177,0.218014329580348,0.22633297062023938,0.2406311637080868,0.2653256704980843,0.28337874659400547,0.2711022840119166,0.33306451612903226,0.377431906614786,0.38256484149855907,0.41986947063089197,0.4047452896022331,0.4228650137741047,0.43288590604026844,0.4726264726264726,0.4490943160524672,0.4581039755351682,0.47225572979493363,0.5024968789013733,0.4825,0.48002619515389655,0.47050938337801607,0.49095780308104486,0.4706257982120051,0.4669987546699875,0.42428571428571427,0.4454477050413845,0.4431047475508666,0.4474678760393046,0.4628751974723539,0.490360435875943,0.46250986582478293,0.4666136724960254,0.4650379106992418,0.4829443447037702,0.4487072560467056,0.44370860927152317,0.42992874109263657,0.43617021276595747,0.3968253968253968,0.3909710391822828,0.3776785714285714,0.37283236994219654,0.29793510324483774,0.2751817237798546,0.24236037934668073,0.223915592028136]},{\"marker\":{\"color\":\"red\",\"size\":[20.000000000000004]},\"mode\":\"markers\",\"showlegend\":false,\"text\":[\"wt: A570\"],\"textfont\":{\"color\":\"#E58606\"},\"textposition\":\"top right\",\"type\":\"scattergl\",\"uid\":\"7b565f7d-ece8-40de-875a-9a02a61208ac\",\"x\":[0.6038],\"y\":[0.4669987546699875]}],                        {\"legend\":{\"itemclick\":\"toggleothers\",\"itemdoubleclick\":\"toggle\"},\"margin\":{\"b\":20,\"l\":20,\"r\":20,\"t\":20},\"plot_bgcolor\":\"#FFF\",\"template\":{\"data\":{\"bar\":[{\"error_x\":{\"color\":\"#2a3f5f\"},\"error_y\":{\"color\":\"#2a3f5f\"},\"marker\":{\"line\":{\"color\":\"#E5ECF6\",\"width\":0.5},\"pattern\":{\"fillmode\":\"overlay\",\"size\":10,\"solidity\":0.2}},\"type\":\"bar\"}],\"barpolar\":[{\"marker\":{\"line\":{\"color\":\"#E5ECF6\",\"width\":0.5},\"pattern\":{\"fillmode\":\"overlay\",\"size\":10,\"solidity\":0.2}},\"type\":\"barpolar\"}],\"carpet\":[{\"aaxis\":{\"endlinecolor\":\"#2a3f5f\",\"gridcolor\":\"white\",\"linecolor\":\"white\",\"minorgridcolor\":\"white\",\"startlinecolor\":\"#2a3f5f\"},\"baxis\":{\"endlinecolor\":\"#2a3f5f\",\"gridcolor\":\"white\",\"linecolor\":\"white\",\"minorgridcolor\":\"white\",\"startlinecolor\":\"#2a3f5f\"},\"type\":\"carpet\"}],\"choropleth\":[{\"colorbar\":{\"outlinewidth\":0,\"ticks\":\"\"},\"type\":\"choropleth\"}],\"contour\":[{\"colorbar\":{\"outlinewidth\":0,\"ticks\":\"\"},\"colorscale\":[[0.0,\"#0d0887\"],[0.1111111111111111,\"#46039f\"],[0.2222222222222222,\"#7201a8\"],[0.3333333333333333,\"#9c179e\"],[0.4444444444444444,\"#bd3786\"],[0.5555555555555556,\"#d8576b\"],[0.6666666666666666,\"#ed7953\"],[0.7777777777777778,\"#fb9f3a\"],[0.8888888888888888,\"#fdca26\"],[1.0,\"#f0f921\"]],\"type\":\"contour\"}],\"contourcarpet\":[{\"colorbar\":{\"outlinewidth\":0,\"ticks\":\"\"},\"type\":\"contourcarpet\"}],\"heatmap\":[{\"colorbar\":{\"outlinewidth\":0,\"ticks\":\"\"},\"colorscale\":[[0.0,\"#0d0887\"],[0.1111111111111111,\"#46039f\"],[0.2222222222222222,\"#7201a8\"],[0.3333333333333333,\"#9c179e\"],[0.4444444444444444,\"#bd3786\"],[0.5555555555555556,\"#d8576b\"],[0.6666666666666666,\"#ed7953\"],[0.7777777777777778,\"#fb9f3a\"],[0.8888888888888888,\"#fdca26\"],[1.0,\"#f0f921\"]],\"type\":\"heatmap\"}],\"heatmapgl\":[{\"colorbar\":{\"outlinewidth\":0,\"ticks\":\"\"},\"colorscale\":[[0.0,\"#0d0887\"],[0.1111111111111111,\"#46039f\"],[0.2222222222222222,\"#7201a8\"],[0.3333333333333333,\"#9c179e\"],[0.4444444444444444,\"#bd3786\"],[0.5555555555555556,\"#d8576b\"],[0.6666666666666666,\"#ed7953\"],[0.7777777777777778,\"#fb9f3a\"],[0.8888888888888888,\"#fdca26\"],[1.0,\"#f0f921\"]],\"type\":\"heatmapgl\"}],\"histogram\":[{\"marker\":{\"pattern\":{\"fillmode\":\"overlay\",\"size\":10,\"solidity\":0.2}},\"type\":\"histogram\"}],\"histogram2d\":[{\"colorbar\":{\"outlinewidth\":0,\"ticks\":\"\"},\"colorscale\":[[0.0,\"#0d0887\"],[0.1111111111111111,\"#46039f\"],[0.2222222222222222,\"#7201a8\"],[0.3333333333333333,\"#9c179e\"],[0.4444444444444444,\"#bd3786\"],[0.5555555555555556,\"#d8576b\"],[0.6666666666666666,\"#ed7953\"],[0.7777777777777778,\"#fb9f3a\"],[0.8888888888888888,\"#fdca26\"],[1.0,\"#f0f921\"]],\"type\":\"histogram2d\"}],\"histogram2dcontour\":[{\"colorbar\":{\"outlinewidth\":0,\"ticks\":\"\"},\"colorscale\":[[0.0,\"#0d0887\"],[0.1111111111111111,\"#46039f\"],[0.2222222222222222,\"#7201a8\"],[0.3333333333333333,\"#9c179e\"],[0.4444444444444444,\"#bd3786\"],[0.5555555555555556,\"#d8576b\"],[0.6666666666666666,\"#ed7953\"],[0.7777777777777778,\"#fb9f3a\"],[0.8888888888888888,\"#fdca26\"],[1.0,\"#f0f921\"]],\"type\":\"histogram2dcontour\"}],\"mesh3d\":[{\"colorbar\":{\"outlinewidth\":0,\"ticks\":\"\"},\"type\":\"mesh3d\"}],\"parcoords\":[{\"line\":{\"colorbar\":{\"outlinewidth\":0,\"ticks\":\"\"}},\"type\":\"parcoords\"}],\"pie\":[{\"automargin\":true,\"type\":\"pie\"}],\"scatter\":[{\"marker\":{\"colorbar\":{\"outlinewidth\":0,\"ticks\":\"\"}},\"type\":\"scatter\"}],\"scatter3d\":[{\"line\":{\"colorbar\":{\"outlinewidth\":0,\"ticks\":\"\"}},\"marker\":{\"colorbar\":{\"outlinewidth\":0,\"ticks\":\"\"}},\"type\":\"scatter3d\"}],\"scattercarpet\":[{\"marker\":{\"colorbar\":{\"outlinewidth\":0,\"ticks\":\"\"}},\"type\":\"scattercarpet\"}],\"scattergeo\":[{\"marker\":{\"colorbar\":{\"outlinewidth\":0,\"ticks\":\"\"}},\"type\":\"scattergeo\"}],\"scattergl\":[{\"marker\":{\"colorbar\":{\"outlinewidth\":0,\"ticks\":\"\"}},\"type\":\"scattergl\"}],\"scattermapbox\":[{\"marker\":{\"colorbar\":{\"outlinewidth\":0,\"ticks\":\"\"}},\"type\":\"scattermapbox\"}],\"scatterpolar\":[{\"marker\":{\"colorbar\":{\"outlinewidth\":0,\"ticks\":\"\"}},\"type\":\"scatterpolar\"}],\"scatterpolargl\":[{\"marker\":{\"colorbar\":{\"outlinewidth\":0,\"ticks\":\"\"}},\"type\":\"scatterpolargl\"}],\"scatterternary\":[{\"marker\":{\"colorbar\":{\"outlinewidth\":0,\"ticks\":\"\"}},\"type\":\"scatterternary\"}],\"surface\":[{\"colorbar\":{\"outlinewidth\":0,\"ticks\":\"\"},\"colorscale\":[[0.0,\"#0d0887\"],[0.1111111111111111,\"#46039f\"],[0.2222222222222222,\"#7201a8\"],[0.3333333333333333,\"#9c179e\"],[0.4444444444444444,\"#bd3786\"],[0.5555555555555556,\"#d8576b\"],[0.6666666666666666,\"#ed7953\"],[0.7777777777777778,\"#fb9f3a\"],[0.8888888888888888,\"#fdca26\"],[1.0,\"#f0f921\"]],\"type\":\"surface\"}],\"table\":[{\"cells\":{\"fill\":{\"color\":\"#EBF0F8\"},\"line\":{\"color\":\"white\"}},\"header\":{\"fill\":{\"color\":\"#C8D4E3\"},\"line\":{\"color\":\"white\"}},\"type\":\"table\"}]},\"layout\":{\"annotationdefaults\":{\"arrowcolor\":\"#2a3f5f\",\"arrowhead\":0,\"arrowwidth\":1},\"autotypenumbers\":\"strict\",\"coloraxis\":{\"colorbar\":{\"outlinewidth\":0,\"ticks\":\"\"}},\"colorscale\":{\"diverging\":[[0,\"#8e0152\"],[0.1,\"#c51b7d\"],[0.2,\"#de77ae\"],[0.3,\"#f1b6da\"],[0.4,\"#fde0ef\"],[0.5,\"#f7f7f7\"],[0.6,\"#e6f5d0\"],[0.7,\"#b8e186\"],[0.8,\"#7fbc41\"],[0.9,\"#4d9221\"],[1,\"#276419\"]],\"sequential\":[[0.0,\"#0d0887\"],[0.1111111111111111,\"#46039f\"],[0.2222222222222222,\"#7201a8\"],[0.3333333333333333,\"#9c179e\"],[0.4444444444444444,\"#bd3786\"],[0.5555555555555556,\"#d8576b\"],[0.6666666666666666,\"#ed7953\"],[0.7777777777777778,\"#fb9f3a\"],[0.8888888888888888,\"#fdca26\"],[1.0,\"#f0f921\"]],\"sequentialminus\":[[0.0,\"#0d0887\"],[0.1111111111111111,\"#46039f\"],[0.2222222222222222,\"#7201a8\"],[0.3333333333333333,\"#9c179e\"],[0.4444444444444444,\"#bd3786\"],[0.5555555555555556,\"#d8576b\"],[0.6666666666666666,\"#ed7953\"],[0.7777777777777778,\"#fb9f3a\"],[0.8888888888888888,\"#fdca26\"],[1.0,\"#f0f921\"]]},\"colorway\":[\"#636efa\",\"#EF553B\",\"#00cc96\",\"#ab63fa\",\"#FFA15A\",\"#19d3f3\",\"#FF6692\",\"#B6E880\",\"#FF97FF\",\"#FECB52\"],\"font\":{\"color\":\"#2a3f5f\"},\"geo\":{\"bgcolor\":\"white\",\"lakecolor\":\"white\",\"landcolor\":\"#E5ECF6\",\"showlakes\":true,\"showland\":true,\"subunitcolor\":\"white\"},\"hoverlabel\":{\"align\":\"left\"},\"hovermode\":\"closest\",\"mapbox\":{\"style\":\"light\"},\"paper_bgcolor\":\"white\",\"plot_bgcolor\":\"#E5ECF6\",\"polar\":{\"angularaxis\":{\"gridcolor\":\"white\",\"linecolor\":\"white\",\"ticks\":\"\"},\"bgcolor\":\"#E5ECF6\",\"radialaxis\":{\"gridcolor\":\"white\",\"linecolor\":\"white\",\"ticks\":\"\"}},\"scene\":{\"xaxis\":{\"backgroundcolor\":\"#E5ECF6\",\"gridcolor\":\"white\",\"gridwidth\":2,\"linecolor\":\"white\",\"showbackground\":true,\"ticks\":\"\",\"zerolinecolor\":\"white\"},\"yaxis\":{\"backgroundcolor\":\"#E5ECF6\",\"gridcolor\":\"white\",\"gridwidth\":2,\"linecolor\":\"white\",\"showbackground\":true,\"ticks\":\"\",\"zerolinecolor\":\"white\"},\"zaxis\":{\"backgroundcolor\":\"#E5ECF6\",\"gridcolor\":\"white\",\"gridwidth\":2,\"linecolor\":\"white\",\"showbackground\":true,\"ticks\":\"\",\"zerolinecolor\":\"white\"}},\"shapedefaults\":{\"line\":{\"color\":\"#2a3f5f\"}},\"ternary\":{\"aaxis\":{\"gridcolor\":\"white\",\"linecolor\":\"white\",\"ticks\":\"\"},\"baxis\":{\"gridcolor\":\"white\",\"linecolor\":\"white\",\"ticks\":\"\"},\"bgcolor\":\"#E5ECF6\",\"caxis\":{\"gridcolor\":\"white\",\"linecolor\":\"white\",\"ticks\":\"\"}},\"title\":{\"x\":0.05},\"xaxis\":{\"automargin\":true,\"gridcolor\":\"white\",\"linecolor\":\"white\",\"ticks\":\"\",\"title\":{\"standoff\":15},\"zerolinecolor\":\"white\",\"zerolinewidth\":2},\"yaxis\":{\"automargin\":true,\"gridcolor\":\"white\",\"linecolor\":\"white\",\"ticks\":\"\",\"title\":{\"standoff\":15},\"zerolinecolor\":\"white\",\"zerolinewidth\":2}}},\"xaxis\":{\"linecolor\":\"#BCCCDC\",\"mirror\":true,\"showgrid\":true,\"title\":{\"text\":\"mutability_score(DCA)\"}},\"yaxis\":{\"linecolor\":\"#BCCCDC\",\"mirror\":true,\"showgrid\":true,\"title\":{\"text\":\"IEDB - Response Frequency\"}}},                        {\"responsive\": true}                    ).then(function(){\n",
       "                            \n",
       "var gd = document.getElementById('600fef59-c5b0-4f8c-a0f8-b5446051d73e');\n",
       "var x = new MutationObserver(function (mutations, observer) {{\n",
       "        var display = window.getComputedStyle(gd).display;\n",
       "        if (!display || display === 'none') {{\n",
       "            console.log([gd, 'removed!']);\n",
       "            Plotly.purge(gd);\n",
       "            observer.disconnect();\n",
       "        }}\n",
       "}});\n",
       "\n",
       "// Listen for the removal of the full notebook cells\n",
       "var notebookContainer = gd.closest('#notebook-container');\n",
       "if (notebookContainer) {{\n",
       "    x.observe(notebookContainer, {childList: true});\n",
       "}}\n",
       "\n",
       "// Listen for the clearing of the current output cell\n",
       "var outputEl = gd.closest('.output');\n",
       "if (outputEl) {{\n",
       "    x.observe(outputEl, {childList: true});\n",
       "}}\n",
       "\n",
       "                        })                };                });            </script>        </div>"
      ]
     },
     "metadata": {},
     "output_type": "display_data"
    },
    {
     "name": "stdout",
     "output_type": "stream",
     "text": [
      "('B.1.351', 'Beta')\n",
      "Empty DataFrame\n",
      "Columns: [protein, domain, position_protein, position_domain, aa_Wuhan-Hu-1, mutability_score(IND), mutability_score(DCA), observed_mut_May2021, observed_mut_Dec2020, observed_mut_Jul2020, IEDB_lowerbound, IEDB_upperbound, subj_tested, subj_responded, IEDB_response_frequency, size_scatter]\n",
      "Index: []\n"
     ]
    },
    {
     "data": {
      "application/vnd.plotly.v1+json": {
       "config": {
        "linkText": "Export to plot.ly",
        "plotlyServerURL": "https://plot.ly",
        "showLink": false
       },
       "data": [
        {
         "marker": {
          "color": "#5D69B1",
          "size": [
           16.666666666666668,
           19.999999999999993,
           16.666666666666675,
           16.666666666666668,
           16.666666666666668,
           16.666666666666668,
           19.999999999999982,
           16.666666666666668,
           19.999999999999993,
           16.666666666666668,
           19.999999999999993,
           20.000000000000004,
           20.000000000000004,
           19.999999999999993,
           20.000000000000004,
           20.000000000000004,
           16.666666666666668,
           20.000000000000004,
           19.999999999999982,
           20.000000000000004,
           16.666666666666668,
           20.000000000000004,
           20.000000000000004,
           19.999999999999982,
           20.000000000000004,
           20.000000000000004,
           20.000000000000004,
           20.000000000000004,
           19.999999999999982,
           20.000000000000004,
           20.000000000000004,
           20.000000000000004,
           19.999999999999982,
           20.000000000000004,
           20.000000000000004,
           20.000000000000004,
           20.000000000000004,
           20.000000000000004,
           20.000000000000004,
           20.000000000000004,
           16.666666666666668,
           20.000000000000004,
           20.000000000000004,
           20.000000000000004,
           16.666666666666668,
           16.666666666666668,
           20.000000000000004,
           16.666666666666668,
           19.999999999999982,
           20.000000000000004,
           16.666666666666668,
           16.666666666666668,
           16.666666666666668,
           16.666666666666668,
           20.000000000000004,
           19.999999999999993,
           20.000000000000004
          ]
         },
         "mode": "markers",
         "name": "",
         "text": [
          "wt: N536",
          "wt: K537",
          "wt: C538",
          "wt: V539",
          "wt: N540",
          "wt: F541",
          "wt: N542",
          "wt: F543",
          "wt: N544",
          "wt: G545",
          "wt: L546",
          "wt: T547",
          "wt: G548",
          "wt: T549",
          "wt: G550",
          "wt: V551",
          "wt: L552",
          "wt: T553",
          "wt: E554",
          "wt: S555",
          "wt: N556",
          "wt: K557",
          "wt: K558",
          "wt: F559",
          "wt: L560",
          "wt: P561",
          "wt: F562",
          "wt: Q563",
          "wt: Q564",
          "wt: F565",
          "wt: G566",
          "wt: R567",
          "wt: D568",
          "wt: I569",
          "wt: A570",
          "wt: D571",
          "wt: T572",
          "wt: T573",
          "wt: D574",
          "wt: A575",
          "wt: V576",
          "wt: R577",
          "wt: D578",
          "wt: P579",
          "wt: Q580",
          "wt: T581",
          "wt: L582",
          "wt: E583",
          "wt: I584",
          "wt: L585",
          "wt: D586",
          "wt: I587",
          "wt: T588",
          "wt: P589",
          "wt: C590",
          "wt: S591",
          "wt: F592"
         ],
         "textfont": {
          "color": "#E58606"
         },
         "textposition": "top right",
         "type": "scattergl",
         "uid": "74c811db-7682-4c0c-a29d-a077961905d0",
         "x": [
          -0.4734,
          -1.6287,
          -0.881,
          -1.971,
          -0.7543,
          -0.6722,
          -0.0446,
          -0.7433,
          -3.4076,
          0.0057,
          -2.4081,
          -0.9133,
          -5.2507,
          -1.3355,
          -0.0813,
          -0.1257,
          -2.67,
          -2.3301,
          0.3225,
          -1.3009,
          -0.278,
          -0.7661,
          -0.2344,
          0.1351,
          0.2053,
          1.0324,
          -1.7344,
          -0.2888,
          -0.0021,
          -0.4759,
          -0.8118,
          0.0086,
          -0.8543,
          -0.5986,
          0.6038,
          -0.1355,
          -0.5778,
          -1.0033,
          -2.5491,
          -0.666,
          -0.4088,
          -0.7794,
          -0.6739,
          -3.2073,
          0.3379,
          -1.218,
          -3.4096,
          -0.9436,
          -0.1016,
          -3.4665,
          -1.3148,
          -1.2566,
          0.0584,
          0.8086,
          -1.6037,
          -0.7251,
          -3.4418
         ],
         "y": [
          0.2893013100436681,
          0.2546583850931677,
          0.25735294117647056,
          0.2791666666666667,
          0.29004329004329005,
          0.3120706575073602,
          0.3137450199203187,
          0.3118811881188119,
          0.2454835281615303,
          0.22879684418145957,
          0.23176823176823177,
          0.218014329580348,
          0.22633297062023938,
          0.2406311637080868,
          0.2653256704980843,
          0.28337874659400547,
          0.2711022840119166,
          0.33306451612903226,
          0.377431906614786,
          0.38256484149855907,
          0.41986947063089197,
          0.4047452896022331,
          0.4228650137741047,
          0.43288590604026844,
          0.4726264726264726,
          0.4490943160524672,
          0.4581039755351682,
          0.47225572979493363,
          0.5024968789013733,
          0.4825,
          0.48002619515389655,
          0.47050938337801607,
          0.49095780308104486,
          0.4706257982120051,
          0.4669987546699875,
          0.42428571428571427,
          0.4454477050413845,
          0.4431047475508666,
          0.4474678760393046,
          0.4628751974723539,
          0.490360435875943,
          0.46250986582478293,
          0.4666136724960254,
          0.4650379106992418,
          0.4829443447037702,
          0.4487072560467056,
          0.44370860927152317,
          0.42992874109263657,
          0.43617021276595747,
          0.3968253968253968,
          0.3909710391822828,
          0.3776785714285714,
          0.37283236994219654,
          0.29793510324483774,
          0.2751817237798546,
          0.24236037934668073,
          0.223915592028136
         ]
        },
        {
         "marker": {
          "color": "red",
          "size": []
         },
         "mode": "markers",
         "showlegend": false,
         "text": [],
         "textfont": {
          "color": "#E58606"
         },
         "textposition": "top right",
         "type": "scattergl",
         "uid": "41ae15b7-158a-47c1-a51b-b05c702cfb7e",
         "x": [],
         "y": []
        }
       ],
       "layout": {
        "legend": {
         "itemclick": "toggleothers",
         "itemdoubleclick": "toggle"
        },
        "margin": {
         "b": 20,
         "l": 20,
         "r": 20,
         "t": 20
        },
        "plot_bgcolor": "#FFF",
        "template": {
         "data": {
          "bar": [
           {
            "error_x": {
             "color": "#2a3f5f"
            },
            "error_y": {
             "color": "#2a3f5f"
            },
            "marker": {
             "line": {
              "color": "#E5ECF6",
              "width": 0.5
             },
             "pattern": {
              "fillmode": "overlay",
              "size": 10,
              "solidity": 0.2
             }
            },
            "type": "bar"
           }
          ],
          "barpolar": [
           {
            "marker": {
             "line": {
              "color": "#E5ECF6",
              "width": 0.5
             },
             "pattern": {
              "fillmode": "overlay",
              "size": 10,
              "solidity": 0.2
             }
            },
            "type": "barpolar"
           }
          ],
          "carpet": [
           {
            "aaxis": {
             "endlinecolor": "#2a3f5f",
             "gridcolor": "white",
             "linecolor": "white",
             "minorgridcolor": "white",
             "startlinecolor": "#2a3f5f"
            },
            "baxis": {
             "endlinecolor": "#2a3f5f",
             "gridcolor": "white",
             "linecolor": "white",
             "minorgridcolor": "white",
             "startlinecolor": "#2a3f5f"
            },
            "type": "carpet"
           }
          ],
          "choropleth": [
           {
            "colorbar": {
             "outlinewidth": 0,
             "ticks": ""
            },
            "type": "choropleth"
           }
          ],
          "contour": [
           {
            "colorbar": {
             "outlinewidth": 0,
             "ticks": ""
            },
            "colorscale": [
             [
              0,
              "#0d0887"
             ],
             [
              0.1111111111111111,
              "#46039f"
             ],
             [
              0.2222222222222222,
              "#7201a8"
             ],
             [
              0.3333333333333333,
              "#9c179e"
             ],
             [
              0.4444444444444444,
              "#bd3786"
             ],
             [
              0.5555555555555556,
              "#d8576b"
             ],
             [
              0.6666666666666666,
              "#ed7953"
             ],
             [
              0.7777777777777778,
              "#fb9f3a"
             ],
             [
              0.8888888888888888,
              "#fdca26"
             ],
             [
              1,
              "#f0f921"
             ]
            ],
            "type": "contour"
           }
          ],
          "contourcarpet": [
           {
            "colorbar": {
             "outlinewidth": 0,
             "ticks": ""
            },
            "type": "contourcarpet"
           }
          ],
          "heatmap": [
           {
            "colorbar": {
             "outlinewidth": 0,
             "ticks": ""
            },
            "colorscale": [
             [
              0,
              "#0d0887"
             ],
             [
              0.1111111111111111,
              "#46039f"
             ],
             [
              0.2222222222222222,
              "#7201a8"
             ],
             [
              0.3333333333333333,
              "#9c179e"
             ],
             [
              0.4444444444444444,
              "#bd3786"
             ],
             [
              0.5555555555555556,
              "#d8576b"
             ],
             [
              0.6666666666666666,
              "#ed7953"
             ],
             [
              0.7777777777777778,
              "#fb9f3a"
             ],
             [
              0.8888888888888888,
              "#fdca26"
             ],
             [
              1,
              "#f0f921"
             ]
            ],
            "type": "heatmap"
           }
          ],
          "heatmapgl": [
           {
            "colorbar": {
             "outlinewidth": 0,
             "ticks": ""
            },
            "colorscale": [
             [
              0,
              "#0d0887"
             ],
             [
              0.1111111111111111,
              "#46039f"
             ],
             [
              0.2222222222222222,
              "#7201a8"
             ],
             [
              0.3333333333333333,
              "#9c179e"
             ],
             [
              0.4444444444444444,
              "#bd3786"
             ],
             [
              0.5555555555555556,
              "#d8576b"
             ],
             [
              0.6666666666666666,
              "#ed7953"
             ],
             [
              0.7777777777777778,
              "#fb9f3a"
             ],
             [
              0.8888888888888888,
              "#fdca26"
             ],
             [
              1,
              "#f0f921"
             ]
            ],
            "type": "heatmapgl"
           }
          ],
          "histogram": [
           {
            "marker": {
             "pattern": {
              "fillmode": "overlay",
              "size": 10,
              "solidity": 0.2
             }
            },
            "type": "histogram"
           }
          ],
          "histogram2d": [
           {
            "colorbar": {
             "outlinewidth": 0,
             "ticks": ""
            },
            "colorscale": [
             [
              0,
              "#0d0887"
             ],
             [
              0.1111111111111111,
              "#46039f"
             ],
             [
              0.2222222222222222,
              "#7201a8"
             ],
             [
              0.3333333333333333,
              "#9c179e"
             ],
             [
              0.4444444444444444,
              "#bd3786"
             ],
             [
              0.5555555555555556,
              "#d8576b"
             ],
             [
              0.6666666666666666,
              "#ed7953"
             ],
             [
              0.7777777777777778,
              "#fb9f3a"
             ],
             [
              0.8888888888888888,
              "#fdca26"
             ],
             [
              1,
              "#f0f921"
             ]
            ],
            "type": "histogram2d"
           }
          ],
          "histogram2dcontour": [
           {
            "colorbar": {
             "outlinewidth": 0,
             "ticks": ""
            },
            "colorscale": [
             [
              0,
              "#0d0887"
             ],
             [
              0.1111111111111111,
              "#46039f"
             ],
             [
              0.2222222222222222,
              "#7201a8"
             ],
             [
              0.3333333333333333,
              "#9c179e"
             ],
             [
              0.4444444444444444,
              "#bd3786"
             ],
             [
              0.5555555555555556,
              "#d8576b"
             ],
             [
              0.6666666666666666,
              "#ed7953"
             ],
             [
              0.7777777777777778,
              "#fb9f3a"
             ],
             [
              0.8888888888888888,
              "#fdca26"
             ],
             [
              1,
              "#f0f921"
             ]
            ],
            "type": "histogram2dcontour"
           }
          ],
          "mesh3d": [
           {
            "colorbar": {
             "outlinewidth": 0,
             "ticks": ""
            },
            "type": "mesh3d"
           }
          ],
          "parcoords": [
           {
            "line": {
             "colorbar": {
              "outlinewidth": 0,
              "ticks": ""
             }
            },
            "type": "parcoords"
           }
          ],
          "pie": [
           {
            "automargin": true,
            "type": "pie"
           }
          ],
          "scatter": [
           {
            "marker": {
             "colorbar": {
              "outlinewidth": 0,
              "ticks": ""
             }
            },
            "type": "scatter"
           }
          ],
          "scatter3d": [
           {
            "line": {
             "colorbar": {
              "outlinewidth": 0,
              "ticks": ""
             }
            },
            "marker": {
             "colorbar": {
              "outlinewidth": 0,
              "ticks": ""
             }
            },
            "type": "scatter3d"
           }
          ],
          "scattercarpet": [
           {
            "marker": {
             "colorbar": {
              "outlinewidth": 0,
              "ticks": ""
             }
            },
            "type": "scattercarpet"
           }
          ],
          "scattergeo": [
           {
            "marker": {
             "colorbar": {
              "outlinewidth": 0,
              "ticks": ""
             }
            },
            "type": "scattergeo"
           }
          ],
          "scattergl": [
           {
            "marker": {
             "colorbar": {
              "outlinewidth": 0,
              "ticks": ""
             }
            },
            "type": "scattergl"
           }
          ],
          "scattermapbox": [
           {
            "marker": {
             "colorbar": {
              "outlinewidth": 0,
              "ticks": ""
             }
            },
            "type": "scattermapbox"
           }
          ],
          "scatterpolar": [
           {
            "marker": {
             "colorbar": {
              "outlinewidth": 0,
              "ticks": ""
             }
            },
            "type": "scatterpolar"
           }
          ],
          "scatterpolargl": [
           {
            "marker": {
             "colorbar": {
              "outlinewidth": 0,
              "ticks": ""
             }
            },
            "type": "scatterpolargl"
           }
          ],
          "scatterternary": [
           {
            "marker": {
             "colorbar": {
              "outlinewidth": 0,
              "ticks": ""
             }
            },
            "type": "scatterternary"
           }
          ],
          "surface": [
           {
            "colorbar": {
             "outlinewidth": 0,
             "ticks": ""
            },
            "colorscale": [
             [
              0,
              "#0d0887"
             ],
             [
              0.1111111111111111,
              "#46039f"
             ],
             [
              0.2222222222222222,
              "#7201a8"
             ],
             [
              0.3333333333333333,
              "#9c179e"
             ],
             [
              0.4444444444444444,
              "#bd3786"
             ],
             [
              0.5555555555555556,
              "#d8576b"
             ],
             [
              0.6666666666666666,
              "#ed7953"
             ],
             [
              0.7777777777777778,
              "#fb9f3a"
             ],
             [
              0.8888888888888888,
              "#fdca26"
             ],
             [
              1,
              "#f0f921"
             ]
            ],
            "type": "surface"
           }
          ],
          "table": [
           {
            "cells": {
             "fill": {
              "color": "#EBF0F8"
             },
             "line": {
              "color": "white"
             }
            },
            "header": {
             "fill": {
              "color": "#C8D4E3"
             },
             "line": {
              "color": "white"
             }
            },
            "type": "table"
           }
          ]
         },
         "layout": {
          "annotationdefaults": {
           "arrowcolor": "#2a3f5f",
           "arrowhead": 0,
           "arrowwidth": 1
          },
          "autotypenumbers": "strict",
          "coloraxis": {
           "colorbar": {
            "outlinewidth": 0,
            "ticks": ""
           }
          },
          "colorscale": {
           "diverging": [
            [
             0,
             "#8e0152"
            ],
            [
             0.1,
             "#c51b7d"
            ],
            [
             0.2,
             "#de77ae"
            ],
            [
             0.3,
             "#f1b6da"
            ],
            [
             0.4,
             "#fde0ef"
            ],
            [
             0.5,
             "#f7f7f7"
            ],
            [
             0.6,
             "#e6f5d0"
            ],
            [
             0.7,
             "#b8e186"
            ],
            [
             0.8,
             "#7fbc41"
            ],
            [
             0.9,
             "#4d9221"
            ],
            [
             1,
             "#276419"
            ]
           ],
           "sequential": [
            [
             0,
             "#0d0887"
            ],
            [
             0.1111111111111111,
             "#46039f"
            ],
            [
             0.2222222222222222,
             "#7201a8"
            ],
            [
             0.3333333333333333,
             "#9c179e"
            ],
            [
             0.4444444444444444,
             "#bd3786"
            ],
            [
             0.5555555555555556,
             "#d8576b"
            ],
            [
             0.6666666666666666,
             "#ed7953"
            ],
            [
             0.7777777777777778,
             "#fb9f3a"
            ],
            [
             0.8888888888888888,
             "#fdca26"
            ],
            [
             1,
             "#f0f921"
            ]
           ],
           "sequentialminus": [
            [
             0,
             "#0d0887"
            ],
            [
             0.1111111111111111,
             "#46039f"
            ],
            [
             0.2222222222222222,
             "#7201a8"
            ],
            [
             0.3333333333333333,
             "#9c179e"
            ],
            [
             0.4444444444444444,
             "#bd3786"
            ],
            [
             0.5555555555555556,
             "#d8576b"
            ],
            [
             0.6666666666666666,
             "#ed7953"
            ],
            [
             0.7777777777777778,
             "#fb9f3a"
            ],
            [
             0.8888888888888888,
             "#fdca26"
            ],
            [
             1,
             "#f0f921"
            ]
           ]
          },
          "colorway": [
           "#636efa",
           "#EF553B",
           "#00cc96",
           "#ab63fa",
           "#FFA15A",
           "#19d3f3",
           "#FF6692",
           "#B6E880",
           "#FF97FF",
           "#FECB52"
          ],
          "font": {
           "color": "#2a3f5f"
          },
          "geo": {
           "bgcolor": "white",
           "lakecolor": "white",
           "landcolor": "#E5ECF6",
           "showlakes": true,
           "showland": true,
           "subunitcolor": "white"
          },
          "hoverlabel": {
           "align": "left"
          },
          "hovermode": "closest",
          "mapbox": {
           "style": "light"
          },
          "paper_bgcolor": "white",
          "plot_bgcolor": "#E5ECF6",
          "polar": {
           "angularaxis": {
            "gridcolor": "white",
            "linecolor": "white",
            "ticks": ""
           },
           "bgcolor": "#E5ECF6",
           "radialaxis": {
            "gridcolor": "white",
            "linecolor": "white",
            "ticks": ""
           }
          },
          "scene": {
           "xaxis": {
            "backgroundcolor": "#E5ECF6",
            "gridcolor": "white",
            "gridwidth": 2,
            "linecolor": "white",
            "showbackground": true,
            "ticks": "",
            "zerolinecolor": "white"
           },
           "yaxis": {
            "backgroundcolor": "#E5ECF6",
            "gridcolor": "white",
            "gridwidth": 2,
            "linecolor": "white",
            "showbackground": true,
            "ticks": "",
            "zerolinecolor": "white"
           },
           "zaxis": {
            "backgroundcolor": "#E5ECF6",
            "gridcolor": "white",
            "gridwidth": 2,
            "linecolor": "white",
            "showbackground": true,
            "ticks": "",
            "zerolinecolor": "white"
           }
          },
          "shapedefaults": {
           "line": {
            "color": "#2a3f5f"
           }
          },
          "ternary": {
           "aaxis": {
            "gridcolor": "white",
            "linecolor": "white",
            "ticks": ""
           },
           "baxis": {
            "gridcolor": "white",
            "linecolor": "white",
            "ticks": ""
           },
           "bgcolor": "#E5ECF6",
           "caxis": {
            "gridcolor": "white",
            "linecolor": "white",
            "ticks": ""
           }
          },
          "title": {
           "x": 0.05
          },
          "xaxis": {
           "automargin": true,
           "gridcolor": "white",
           "linecolor": "white",
           "ticks": "",
           "title": {
            "standoff": 15
           },
           "zerolinecolor": "white",
           "zerolinewidth": 2
          },
          "yaxis": {
           "automargin": true,
           "gridcolor": "white",
           "linecolor": "white",
           "ticks": "",
           "title": {
            "standoff": 15
           },
           "zerolinecolor": "white",
           "zerolinewidth": 2
          }
         }
        },
        "xaxis": {
         "linecolor": "#BCCCDC",
         "mirror": true,
         "showgrid": true,
         "title": {
          "text": "mutability_score(DCA)"
         }
        },
        "yaxis": {
         "linecolor": "#BCCCDC",
         "mirror": true,
         "showgrid": true,
         "title": {
          "text": "IEDB - Response Frequency"
         }
        }
       }
      },
      "text/html": [
       "<div>                            <div id=\"7a12649c-7b13-42b6-abc4-2aa52ba96b52\" class=\"plotly-graph-div\" style=\"height:525px; width:100%;\"></div>            <script type=\"text/javascript\">                require([\"plotly\"], function(Plotly) {                    window.PLOTLYENV=window.PLOTLYENV || {};                                    if (document.getElementById(\"7a12649c-7b13-42b6-abc4-2aa52ba96b52\")) {                    Plotly.newPlot(                        \"7a12649c-7b13-42b6-abc4-2aa52ba96b52\",                        [{\"marker\":{\"color\":\"#5D69B1\",\"size\":[16.666666666666668,19.999999999999993,16.666666666666675,16.666666666666668,16.666666666666668,16.666666666666668,19.999999999999982,16.666666666666668,19.999999999999993,16.666666666666668,19.999999999999993,20.000000000000004,20.000000000000004,19.999999999999993,20.000000000000004,20.000000000000004,16.666666666666668,20.000000000000004,19.999999999999982,20.000000000000004,16.666666666666668,20.000000000000004,20.000000000000004,19.999999999999982,20.000000000000004,20.000000000000004,20.000000000000004,20.000000000000004,19.999999999999982,20.000000000000004,20.000000000000004,20.000000000000004,19.999999999999982,20.000000000000004,20.000000000000004,20.000000000000004,20.000000000000004,20.000000000000004,20.000000000000004,20.000000000000004,16.666666666666668,20.000000000000004,20.000000000000004,20.000000000000004,16.666666666666668,16.666666666666668,20.000000000000004,16.666666666666668,19.999999999999982,20.000000000000004,16.666666666666668,16.666666666666668,16.666666666666668,16.666666666666668,20.000000000000004,19.999999999999993,20.000000000000004]},\"mode\":\"markers\",\"name\":\"\",\"text\":[\"wt: N536\",\"wt: K537\",\"wt: C538\",\"wt: V539\",\"wt: N540\",\"wt: F541\",\"wt: N542\",\"wt: F543\",\"wt: N544\",\"wt: G545\",\"wt: L546\",\"wt: T547\",\"wt: G548\",\"wt: T549\",\"wt: G550\",\"wt: V551\",\"wt: L552\",\"wt: T553\",\"wt: E554\",\"wt: S555\",\"wt: N556\",\"wt: K557\",\"wt: K558\",\"wt: F559\",\"wt: L560\",\"wt: P561\",\"wt: F562\",\"wt: Q563\",\"wt: Q564\",\"wt: F565\",\"wt: G566\",\"wt: R567\",\"wt: D568\",\"wt: I569\",\"wt: A570\",\"wt: D571\",\"wt: T572\",\"wt: T573\",\"wt: D574\",\"wt: A575\",\"wt: V576\",\"wt: R577\",\"wt: D578\",\"wt: P579\",\"wt: Q580\",\"wt: T581\",\"wt: L582\",\"wt: E583\",\"wt: I584\",\"wt: L585\",\"wt: D586\",\"wt: I587\",\"wt: T588\",\"wt: P589\",\"wt: C590\",\"wt: S591\",\"wt: F592\"],\"textfont\":{\"color\":\"#E58606\"},\"textposition\":\"top right\",\"type\":\"scattergl\",\"uid\":\"74c811db-7682-4c0c-a29d-a077961905d0\",\"x\":[-0.4734,-1.6287,-0.881,-1.971,-0.7543,-0.6722,-0.0446,-0.7433,-3.4076,0.0057,-2.4081,-0.9133,-5.2507,-1.3355,-0.0813,-0.1257,-2.67,-2.3301,0.3225,-1.3009,-0.278,-0.7661,-0.2344,0.1351,0.2053,1.0324,-1.7344,-0.2888,-0.0021,-0.4759,-0.8118,0.0086,-0.8543,-0.5986,0.6038,-0.1355,-0.5778,-1.0033,-2.5491,-0.666,-0.4088,-0.7794,-0.6739,-3.2073,0.3379,-1.218,-3.4096,-0.9436,-0.1016,-3.4665,-1.3148,-1.2566,0.0584,0.8086,-1.6037,-0.7251,-3.4418],\"y\":[0.2893013100436681,0.2546583850931677,0.25735294117647056,0.2791666666666667,0.29004329004329005,0.3120706575073602,0.3137450199203187,0.3118811881188119,0.2454835281615303,0.22879684418145957,0.23176823176823177,0.218014329580348,0.22633297062023938,0.2406311637080868,0.2653256704980843,0.28337874659400547,0.2711022840119166,0.33306451612903226,0.377431906614786,0.38256484149855907,0.41986947063089197,0.4047452896022331,0.4228650137741047,0.43288590604026844,0.4726264726264726,0.4490943160524672,0.4581039755351682,0.47225572979493363,0.5024968789013733,0.4825,0.48002619515389655,0.47050938337801607,0.49095780308104486,0.4706257982120051,0.4669987546699875,0.42428571428571427,0.4454477050413845,0.4431047475508666,0.4474678760393046,0.4628751974723539,0.490360435875943,0.46250986582478293,0.4666136724960254,0.4650379106992418,0.4829443447037702,0.4487072560467056,0.44370860927152317,0.42992874109263657,0.43617021276595747,0.3968253968253968,0.3909710391822828,0.3776785714285714,0.37283236994219654,0.29793510324483774,0.2751817237798546,0.24236037934668073,0.223915592028136]},{\"marker\":{\"color\":\"red\",\"size\":[]},\"mode\":\"markers\",\"showlegend\":false,\"text\":[],\"textfont\":{\"color\":\"#E58606\"},\"textposition\":\"top right\",\"type\":\"scattergl\",\"uid\":\"41ae15b7-158a-47c1-a51b-b05c702cfb7e\",\"x\":[],\"y\":[]}],                        {\"legend\":{\"itemclick\":\"toggleothers\",\"itemdoubleclick\":\"toggle\"},\"margin\":{\"b\":20,\"l\":20,\"r\":20,\"t\":20},\"plot_bgcolor\":\"#FFF\",\"template\":{\"data\":{\"bar\":[{\"error_x\":{\"color\":\"#2a3f5f\"},\"error_y\":{\"color\":\"#2a3f5f\"},\"marker\":{\"line\":{\"color\":\"#E5ECF6\",\"width\":0.5},\"pattern\":{\"fillmode\":\"overlay\",\"size\":10,\"solidity\":0.2}},\"type\":\"bar\"}],\"barpolar\":[{\"marker\":{\"line\":{\"color\":\"#E5ECF6\",\"width\":0.5},\"pattern\":{\"fillmode\":\"overlay\",\"size\":10,\"solidity\":0.2}},\"type\":\"barpolar\"}],\"carpet\":[{\"aaxis\":{\"endlinecolor\":\"#2a3f5f\",\"gridcolor\":\"white\",\"linecolor\":\"white\",\"minorgridcolor\":\"white\",\"startlinecolor\":\"#2a3f5f\"},\"baxis\":{\"endlinecolor\":\"#2a3f5f\",\"gridcolor\":\"white\",\"linecolor\":\"white\",\"minorgridcolor\":\"white\",\"startlinecolor\":\"#2a3f5f\"},\"type\":\"carpet\"}],\"choropleth\":[{\"colorbar\":{\"outlinewidth\":0,\"ticks\":\"\"},\"type\":\"choropleth\"}],\"contour\":[{\"colorbar\":{\"outlinewidth\":0,\"ticks\":\"\"},\"colorscale\":[[0.0,\"#0d0887\"],[0.1111111111111111,\"#46039f\"],[0.2222222222222222,\"#7201a8\"],[0.3333333333333333,\"#9c179e\"],[0.4444444444444444,\"#bd3786\"],[0.5555555555555556,\"#d8576b\"],[0.6666666666666666,\"#ed7953\"],[0.7777777777777778,\"#fb9f3a\"],[0.8888888888888888,\"#fdca26\"],[1.0,\"#f0f921\"]],\"type\":\"contour\"}],\"contourcarpet\":[{\"colorbar\":{\"outlinewidth\":0,\"ticks\":\"\"},\"type\":\"contourcarpet\"}],\"heatmap\":[{\"colorbar\":{\"outlinewidth\":0,\"ticks\":\"\"},\"colorscale\":[[0.0,\"#0d0887\"],[0.1111111111111111,\"#46039f\"],[0.2222222222222222,\"#7201a8\"],[0.3333333333333333,\"#9c179e\"],[0.4444444444444444,\"#bd3786\"],[0.5555555555555556,\"#d8576b\"],[0.6666666666666666,\"#ed7953\"],[0.7777777777777778,\"#fb9f3a\"],[0.8888888888888888,\"#fdca26\"],[1.0,\"#f0f921\"]],\"type\":\"heatmap\"}],\"heatmapgl\":[{\"colorbar\":{\"outlinewidth\":0,\"ticks\":\"\"},\"colorscale\":[[0.0,\"#0d0887\"],[0.1111111111111111,\"#46039f\"],[0.2222222222222222,\"#7201a8\"],[0.3333333333333333,\"#9c179e\"],[0.4444444444444444,\"#bd3786\"],[0.5555555555555556,\"#d8576b\"],[0.6666666666666666,\"#ed7953\"],[0.7777777777777778,\"#fb9f3a\"],[0.8888888888888888,\"#fdca26\"],[1.0,\"#f0f921\"]],\"type\":\"heatmapgl\"}],\"histogram\":[{\"marker\":{\"pattern\":{\"fillmode\":\"overlay\",\"size\":10,\"solidity\":0.2}},\"type\":\"histogram\"}],\"histogram2d\":[{\"colorbar\":{\"outlinewidth\":0,\"ticks\":\"\"},\"colorscale\":[[0.0,\"#0d0887\"],[0.1111111111111111,\"#46039f\"],[0.2222222222222222,\"#7201a8\"],[0.3333333333333333,\"#9c179e\"],[0.4444444444444444,\"#bd3786\"],[0.5555555555555556,\"#d8576b\"],[0.6666666666666666,\"#ed7953\"],[0.7777777777777778,\"#fb9f3a\"],[0.8888888888888888,\"#fdca26\"],[1.0,\"#f0f921\"]],\"type\":\"histogram2d\"}],\"histogram2dcontour\":[{\"colorbar\":{\"outlinewidth\":0,\"ticks\":\"\"},\"colorscale\":[[0.0,\"#0d0887\"],[0.1111111111111111,\"#46039f\"],[0.2222222222222222,\"#7201a8\"],[0.3333333333333333,\"#9c179e\"],[0.4444444444444444,\"#bd3786\"],[0.5555555555555556,\"#d8576b\"],[0.6666666666666666,\"#ed7953\"],[0.7777777777777778,\"#fb9f3a\"],[0.8888888888888888,\"#fdca26\"],[1.0,\"#f0f921\"]],\"type\":\"histogram2dcontour\"}],\"mesh3d\":[{\"colorbar\":{\"outlinewidth\":0,\"ticks\":\"\"},\"type\":\"mesh3d\"}],\"parcoords\":[{\"line\":{\"colorbar\":{\"outlinewidth\":0,\"ticks\":\"\"}},\"type\":\"parcoords\"}],\"pie\":[{\"automargin\":true,\"type\":\"pie\"}],\"scatter\":[{\"marker\":{\"colorbar\":{\"outlinewidth\":0,\"ticks\":\"\"}},\"type\":\"scatter\"}],\"scatter3d\":[{\"line\":{\"colorbar\":{\"outlinewidth\":0,\"ticks\":\"\"}},\"marker\":{\"colorbar\":{\"outlinewidth\":0,\"ticks\":\"\"}},\"type\":\"scatter3d\"}],\"scattercarpet\":[{\"marker\":{\"colorbar\":{\"outlinewidth\":0,\"ticks\":\"\"}},\"type\":\"scattercarpet\"}],\"scattergeo\":[{\"marker\":{\"colorbar\":{\"outlinewidth\":0,\"ticks\":\"\"}},\"type\":\"scattergeo\"}],\"scattergl\":[{\"marker\":{\"colorbar\":{\"outlinewidth\":0,\"ticks\":\"\"}},\"type\":\"scattergl\"}],\"scattermapbox\":[{\"marker\":{\"colorbar\":{\"outlinewidth\":0,\"ticks\":\"\"}},\"type\":\"scattermapbox\"}],\"scatterpolar\":[{\"marker\":{\"colorbar\":{\"outlinewidth\":0,\"ticks\":\"\"}},\"type\":\"scatterpolar\"}],\"scatterpolargl\":[{\"marker\":{\"colorbar\":{\"outlinewidth\":0,\"ticks\":\"\"}},\"type\":\"scatterpolargl\"}],\"scatterternary\":[{\"marker\":{\"colorbar\":{\"outlinewidth\":0,\"ticks\":\"\"}},\"type\":\"scatterternary\"}],\"surface\":[{\"colorbar\":{\"outlinewidth\":0,\"ticks\":\"\"},\"colorscale\":[[0.0,\"#0d0887\"],[0.1111111111111111,\"#46039f\"],[0.2222222222222222,\"#7201a8\"],[0.3333333333333333,\"#9c179e\"],[0.4444444444444444,\"#bd3786\"],[0.5555555555555556,\"#d8576b\"],[0.6666666666666666,\"#ed7953\"],[0.7777777777777778,\"#fb9f3a\"],[0.8888888888888888,\"#fdca26\"],[1.0,\"#f0f921\"]],\"type\":\"surface\"}],\"table\":[{\"cells\":{\"fill\":{\"color\":\"#EBF0F8\"},\"line\":{\"color\":\"white\"}},\"header\":{\"fill\":{\"color\":\"#C8D4E3\"},\"line\":{\"color\":\"white\"}},\"type\":\"table\"}]},\"layout\":{\"annotationdefaults\":{\"arrowcolor\":\"#2a3f5f\",\"arrowhead\":0,\"arrowwidth\":1},\"autotypenumbers\":\"strict\",\"coloraxis\":{\"colorbar\":{\"outlinewidth\":0,\"ticks\":\"\"}},\"colorscale\":{\"diverging\":[[0,\"#8e0152\"],[0.1,\"#c51b7d\"],[0.2,\"#de77ae\"],[0.3,\"#f1b6da\"],[0.4,\"#fde0ef\"],[0.5,\"#f7f7f7\"],[0.6,\"#e6f5d0\"],[0.7,\"#b8e186\"],[0.8,\"#7fbc41\"],[0.9,\"#4d9221\"],[1,\"#276419\"]],\"sequential\":[[0.0,\"#0d0887\"],[0.1111111111111111,\"#46039f\"],[0.2222222222222222,\"#7201a8\"],[0.3333333333333333,\"#9c179e\"],[0.4444444444444444,\"#bd3786\"],[0.5555555555555556,\"#d8576b\"],[0.6666666666666666,\"#ed7953\"],[0.7777777777777778,\"#fb9f3a\"],[0.8888888888888888,\"#fdca26\"],[1.0,\"#f0f921\"]],\"sequentialminus\":[[0.0,\"#0d0887\"],[0.1111111111111111,\"#46039f\"],[0.2222222222222222,\"#7201a8\"],[0.3333333333333333,\"#9c179e\"],[0.4444444444444444,\"#bd3786\"],[0.5555555555555556,\"#d8576b\"],[0.6666666666666666,\"#ed7953\"],[0.7777777777777778,\"#fb9f3a\"],[0.8888888888888888,\"#fdca26\"],[1.0,\"#f0f921\"]]},\"colorway\":[\"#636efa\",\"#EF553B\",\"#00cc96\",\"#ab63fa\",\"#FFA15A\",\"#19d3f3\",\"#FF6692\",\"#B6E880\",\"#FF97FF\",\"#FECB52\"],\"font\":{\"color\":\"#2a3f5f\"},\"geo\":{\"bgcolor\":\"white\",\"lakecolor\":\"white\",\"landcolor\":\"#E5ECF6\",\"showlakes\":true,\"showland\":true,\"subunitcolor\":\"white\"},\"hoverlabel\":{\"align\":\"left\"},\"hovermode\":\"closest\",\"mapbox\":{\"style\":\"light\"},\"paper_bgcolor\":\"white\",\"plot_bgcolor\":\"#E5ECF6\",\"polar\":{\"angularaxis\":{\"gridcolor\":\"white\",\"linecolor\":\"white\",\"ticks\":\"\"},\"bgcolor\":\"#E5ECF6\",\"radialaxis\":{\"gridcolor\":\"white\",\"linecolor\":\"white\",\"ticks\":\"\"}},\"scene\":{\"xaxis\":{\"backgroundcolor\":\"#E5ECF6\",\"gridcolor\":\"white\",\"gridwidth\":2,\"linecolor\":\"white\",\"showbackground\":true,\"ticks\":\"\",\"zerolinecolor\":\"white\"},\"yaxis\":{\"backgroundcolor\":\"#E5ECF6\",\"gridcolor\":\"white\",\"gridwidth\":2,\"linecolor\":\"white\",\"showbackground\":true,\"ticks\":\"\",\"zerolinecolor\":\"white\"},\"zaxis\":{\"backgroundcolor\":\"#E5ECF6\",\"gridcolor\":\"white\",\"gridwidth\":2,\"linecolor\":\"white\",\"showbackground\":true,\"ticks\":\"\",\"zerolinecolor\":\"white\"}},\"shapedefaults\":{\"line\":{\"color\":\"#2a3f5f\"}},\"ternary\":{\"aaxis\":{\"gridcolor\":\"white\",\"linecolor\":\"white\",\"ticks\":\"\"},\"baxis\":{\"gridcolor\":\"white\",\"linecolor\":\"white\",\"ticks\":\"\"},\"bgcolor\":\"#E5ECF6\",\"caxis\":{\"gridcolor\":\"white\",\"linecolor\":\"white\",\"ticks\":\"\"}},\"title\":{\"x\":0.05},\"xaxis\":{\"automargin\":true,\"gridcolor\":\"white\",\"linecolor\":\"white\",\"ticks\":\"\",\"title\":{\"standoff\":15},\"zerolinecolor\":\"white\",\"zerolinewidth\":2},\"yaxis\":{\"automargin\":true,\"gridcolor\":\"white\",\"linecolor\":\"white\",\"ticks\":\"\",\"title\":{\"standoff\":15},\"zerolinecolor\":\"white\",\"zerolinewidth\":2}}},\"xaxis\":{\"linecolor\":\"#BCCCDC\",\"mirror\":true,\"showgrid\":true,\"title\":{\"text\":\"mutability_score(DCA)\"}},\"yaxis\":{\"linecolor\":\"#BCCCDC\",\"mirror\":true,\"showgrid\":true,\"title\":{\"text\":\"IEDB - Response Frequency\"}}},                        {\"responsive\": true}                    ).then(function(){\n",
       "                            \n",
       "var gd = document.getElementById('7a12649c-7b13-42b6-abc4-2aa52ba96b52');\n",
       "var x = new MutationObserver(function (mutations, observer) {{\n",
       "        var display = window.getComputedStyle(gd).display;\n",
       "        if (!display || display === 'none') {{\n",
       "            console.log([gd, 'removed!']);\n",
       "            Plotly.purge(gd);\n",
       "            observer.disconnect();\n",
       "        }}\n",
       "}});\n",
       "\n",
       "// Listen for the removal of the full notebook cells\n",
       "var notebookContainer = gd.closest('#notebook-container');\n",
       "if (notebookContainer) {{\n",
       "    x.observe(notebookContainer, {childList: true});\n",
       "}}\n",
       "\n",
       "// Listen for the clearing of the current output cell\n",
       "var outputEl = gd.closest('.output');\n",
       "if (outputEl) {{\n",
       "    x.observe(outputEl, {childList: true});\n",
       "}}\n",
       "\n",
       "                        })                };                });            </script>        </div>"
      ]
     },
     "metadata": {},
     "output_type": "display_data"
    },
    {
     "name": "stdout",
     "output_type": "stream",
     "text": [
      "('B.1.617.2', 'Delta')\n",
      "Empty DataFrame\n",
      "Columns: [protein, domain, position_protein, position_domain, aa_Wuhan-Hu-1, mutability_score(IND), mutability_score(DCA), observed_mut_May2021, observed_mut_Dec2020, observed_mut_Jul2020, IEDB_lowerbound, IEDB_upperbound, subj_tested, subj_responded, IEDB_response_frequency, size_scatter]\n",
      "Index: []\n"
     ]
    },
    {
     "data": {
      "application/vnd.plotly.v1+json": {
       "config": {
        "linkText": "Export to plot.ly",
        "plotlyServerURL": "https://plot.ly",
        "showLink": false
       },
       "data": [
        {
         "marker": {
          "color": "#5D69B1",
          "size": [
           16.666666666666668,
           19.999999999999993,
           16.666666666666675,
           16.666666666666668,
           16.666666666666668,
           16.666666666666668,
           19.999999999999982,
           16.666666666666668,
           19.999999999999993,
           16.666666666666668,
           19.999999999999993,
           20.000000000000004,
           20.000000000000004,
           19.999999999999993,
           20.000000000000004,
           20.000000000000004,
           16.666666666666668,
           20.000000000000004,
           19.999999999999982,
           20.000000000000004,
           16.666666666666668,
           20.000000000000004,
           20.000000000000004,
           19.999999999999982,
           20.000000000000004,
           20.000000000000004,
           20.000000000000004,
           20.000000000000004,
           19.999999999999982,
           20.000000000000004,
           20.000000000000004,
           20.000000000000004,
           19.999999999999982,
           20.000000000000004,
           20.000000000000004,
           20.000000000000004,
           20.000000000000004,
           20.000000000000004,
           20.000000000000004,
           20.000000000000004,
           16.666666666666668,
           20.000000000000004,
           20.000000000000004,
           20.000000000000004,
           16.666666666666668,
           16.666666666666668,
           20.000000000000004,
           16.666666666666668,
           19.999999999999982,
           20.000000000000004,
           16.666666666666668,
           16.666666666666668,
           16.666666666666668,
           16.666666666666668,
           20.000000000000004,
           19.999999999999993,
           20.000000000000004
          ]
         },
         "mode": "markers",
         "name": "",
         "text": [
          "wt: N536",
          "wt: K537",
          "wt: C538",
          "wt: V539",
          "wt: N540",
          "wt: F541",
          "wt: N542",
          "wt: F543",
          "wt: N544",
          "wt: G545",
          "wt: L546",
          "wt: T547",
          "wt: G548",
          "wt: T549",
          "wt: G550",
          "wt: V551",
          "wt: L552",
          "wt: T553",
          "wt: E554",
          "wt: S555",
          "wt: N556",
          "wt: K557",
          "wt: K558",
          "wt: F559",
          "wt: L560",
          "wt: P561",
          "wt: F562",
          "wt: Q563",
          "wt: Q564",
          "wt: F565",
          "wt: G566",
          "wt: R567",
          "wt: D568",
          "wt: I569",
          "wt: A570",
          "wt: D571",
          "wt: T572",
          "wt: T573",
          "wt: D574",
          "wt: A575",
          "wt: V576",
          "wt: R577",
          "wt: D578",
          "wt: P579",
          "wt: Q580",
          "wt: T581",
          "wt: L582",
          "wt: E583",
          "wt: I584",
          "wt: L585",
          "wt: D586",
          "wt: I587",
          "wt: T588",
          "wt: P589",
          "wt: C590",
          "wt: S591",
          "wt: F592"
         ],
         "textfont": {
          "color": "#E58606"
         },
         "textposition": "top right",
         "type": "scattergl",
         "uid": "ae7385f2-dc9c-4826-9909-8507eaf006f2",
         "x": [
          -0.4734,
          -1.6287,
          -0.881,
          -1.971,
          -0.7543,
          -0.6722,
          -0.0446,
          -0.7433,
          -3.4076,
          0.0057,
          -2.4081,
          -0.9133,
          -5.2507,
          -1.3355,
          -0.0813,
          -0.1257,
          -2.67,
          -2.3301,
          0.3225,
          -1.3009,
          -0.278,
          -0.7661,
          -0.2344,
          0.1351,
          0.2053,
          1.0324,
          -1.7344,
          -0.2888,
          -0.0021,
          -0.4759,
          -0.8118,
          0.0086,
          -0.8543,
          -0.5986,
          0.6038,
          -0.1355,
          -0.5778,
          -1.0033,
          -2.5491,
          -0.666,
          -0.4088,
          -0.7794,
          -0.6739,
          -3.2073,
          0.3379,
          -1.218,
          -3.4096,
          -0.9436,
          -0.1016,
          -3.4665,
          -1.3148,
          -1.2566,
          0.0584,
          0.8086,
          -1.6037,
          -0.7251,
          -3.4418
         ],
         "y": [
          0.2893013100436681,
          0.2546583850931677,
          0.25735294117647056,
          0.2791666666666667,
          0.29004329004329005,
          0.3120706575073602,
          0.3137450199203187,
          0.3118811881188119,
          0.2454835281615303,
          0.22879684418145957,
          0.23176823176823177,
          0.218014329580348,
          0.22633297062023938,
          0.2406311637080868,
          0.2653256704980843,
          0.28337874659400547,
          0.2711022840119166,
          0.33306451612903226,
          0.377431906614786,
          0.38256484149855907,
          0.41986947063089197,
          0.4047452896022331,
          0.4228650137741047,
          0.43288590604026844,
          0.4726264726264726,
          0.4490943160524672,
          0.4581039755351682,
          0.47225572979493363,
          0.5024968789013733,
          0.4825,
          0.48002619515389655,
          0.47050938337801607,
          0.49095780308104486,
          0.4706257982120051,
          0.4669987546699875,
          0.42428571428571427,
          0.4454477050413845,
          0.4431047475508666,
          0.4474678760393046,
          0.4628751974723539,
          0.490360435875943,
          0.46250986582478293,
          0.4666136724960254,
          0.4650379106992418,
          0.4829443447037702,
          0.4487072560467056,
          0.44370860927152317,
          0.42992874109263657,
          0.43617021276595747,
          0.3968253968253968,
          0.3909710391822828,
          0.3776785714285714,
          0.37283236994219654,
          0.29793510324483774,
          0.2751817237798546,
          0.24236037934668073,
          0.223915592028136
         ]
        },
        {
         "marker": {
          "color": "red",
          "size": []
         },
         "mode": "markers",
         "showlegend": false,
         "text": [],
         "textfont": {
          "color": "#E58606"
         },
         "textposition": "top right",
         "type": "scattergl",
         "uid": "b8c6a63a-6e7d-4f3e-a2f6-687dbbfea0e8",
         "x": [],
         "y": []
        }
       ],
       "layout": {
        "legend": {
         "itemclick": "toggleothers",
         "itemdoubleclick": "toggle"
        },
        "margin": {
         "b": 20,
         "l": 20,
         "r": 20,
         "t": 20
        },
        "plot_bgcolor": "#FFF",
        "template": {
         "data": {
          "bar": [
           {
            "error_x": {
             "color": "#2a3f5f"
            },
            "error_y": {
             "color": "#2a3f5f"
            },
            "marker": {
             "line": {
              "color": "#E5ECF6",
              "width": 0.5
             },
             "pattern": {
              "fillmode": "overlay",
              "size": 10,
              "solidity": 0.2
             }
            },
            "type": "bar"
           }
          ],
          "barpolar": [
           {
            "marker": {
             "line": {
              "color": "#E5ECF6",
              "width": 0.5
             },
             "pattern": {
              "fillmode": "overlay",
              "size": 10,
              "solidity": 0.2
             }
            },
            "type": "barpolar"
           }
          ],
          "carpet": [
           {
            "aaxis": {
             "endlinecolor": "#2a3f5f",
             "gridcolor": "white",
             "linecolor": "white",
             "minorgridcolor": "white",
             "startlinecolor": "#2a3f5f"
            },
            "baxis": {
             "endlinecolor": "#2a3f5f",
             "gridcolor": "white",
             "linecolor": "white",
             "minorgridcolor": "white",
             "startlinecolor": "#2a3f5f"
            },
            "type": "carpet"
           }
          ],
          "choropleth": [
           {
            "colorbar": {
             "outlinewidth": 0,
             "ticks": ""
            },
            "type": "choropleth"
           }
          ],
          "contour": [
           {
            "colorbar": {
             "outlinewidth": 0,
             "ticks": ""
            },
            "colorscale": [
             [
              0,
              "#0d0887"
             ],
             [
              0.1111111111111111,
              "#46039f"
             ],
             [
              0.2222222222222222,
              "#7201a8"
             ],
             [
              0.3333333333333333,
              "#9c179e"
             ],
             [
              0.4444444444444444,
              "#bd3786"
             ],
             [
              0.5555555555555556,
              "#d8576b"
             ],
             [
              0.6666666666666666,
              "#ed7953"
             ],
             [
              0.7777777777777778,
              "#fb9f3a"
             ],
             [
              0.8888888888888888,
              "#fdca26"
             ],
             [
              1,
              "#f0f921"
             ]
            ],
            "type": "contour"
           }
          ],
          "contourcarpet": [
           {
            "colorbar": {
             "outlinewidth": 0,
             "ticks": ""
            },
            "type": "contourcarpet"
           }
          ],
          "heatmap": [
           {
            "colorbar": {
             "outlinewidth": 0,
             "ticks": ""
            },
            "colorscale": [
             [
              0,
              "#0d0887"
             ],
             [
              0.1111111111111111,
              "#46039f"
             ],
             [
              0.2222222222222222,
              "#7201a8"
             ],
             [
              0.3333333333333333,
              "#9c179e"
             ],
             [
              0.4444444444444444,
              "#bd3786"
             ],
             [
              0.5555555555555556,
              "#d8576b"
             ],
             [
              0.6666666666666666,
              "#ed7953"
             ],
             [
              0.7777777777777778,
              "#fb9f3a"
             ],
             [
              0.8888888888888888,
              "#fdca26"
             ],
             [
              1,
              "#f0f921"
             ]
            ],
            "type": "heatmap"
           }
          ],
          "heatmapgl": [
           {
            "colorbar": {
             "outlinewidth": 0,
             "ticks": ""
            },
            "colorscale": [
             [
              0,
              "#0d0887"
             ],
             [
              0.1111111111111111,
              "#46039f"
             ],
             [
              0.2222222222222222,
              "#7201a8"
             ],
             [
              0.3333333333333333,
              "#9c179e"
             ],
             [
              0.4444444444444444,
              "#bd3786"
             ],
             [
              0.5555555555555556,
              "#d8576b"
             ],
             [
              0.6666666666666666,
              "#ed7953"
             ],
             [
              0.7777777777777778,
              "#fb9f3a"
             ],
             [
              0.8888888888888888,
              "#fdca26"
             ],
             [
              1,
              "#f0f921"
             ]
            ],
            "type": "heatmapgl"
           }
          ],
          "histogram": [
           {
            "marker": {
             "pattern": {
              "fillmode": "overlay",
              "size": 10,
              "solidity": 0.2
             }
            },
            "type": "histogram"
           }
          ],
          "histogram2d": [
           {
            "colorbar": {
             "outlinewidth": 0,
             "ticks": ""
            },
            "colorscale": [
             [
              0,
              "#0d0887"
             ],
             [
              0.1111111111111111,
              "#46039f"
             ],
             [
              0.2222222222222222,
              "#7201a8"
             ],
             [
              0.3333333333333333,
              "#9c179e"
             ],
             [
              0.4444444444444444,
              "#bd3786"
             ],
             [
              0.5555555555555556,
              "#d8576b"
             ],
             [
              0.6666666666666666,
              "#ed7953"
             ],
             [
              0.7777777777777778,
              "#fb9f3a"
             ],
             [
              0.8888888888888888,
              "#fdca26"
             ],
             [
              1,
              "#f0f921"
             ]
            ],
            "type": "histogram2d"
           }
          ],
          "histogram2dcontour": [
           {
            "colorbar": {
             "outlinewidth": 0,
             "ticks": ""
            },
            "colorscale": [
             [
              0,
              "#0d0887"
             ],
             [
              0.1111111111111111,
              "#46039f"
             ],
             [
              0.2222222222222222,
              "#7201a8"
             ],
             [
              0.3333333333333333,
              "#9c179e"
             ],
             [
              0.4444444444444444,
              "#bd3786"
             ],
             [
              0.5555555555555556,
              "#d8576b"
             ],
             [
              0.6666666666666666,
              "#ed7953"
             ],
             [
              0.7777777777777778,
              "#fb9f3a"
             ],
             [
              0.8888888888888888,
              "#fdca26"
             ],
             [
              1,
              "#f0f921"
             ]
            ],
            "type": "histogram2dcontour"
           }
          ],
          "mesh3d": [
           {
            "colorbar": {
             "outlinewidth": 0,
             "ticks": ""
            },
            "type": "mesh3d"
           }
          ],
          "parcoords": [
           {
            "line": {
             "colorbar": {
              "outlinewidth": 0,
              "ticks": ""
             }
            },
            "type": "parcoords"
           }
          ],
          "pie": [
           {
            "automargin": true,
            "type": "pie"
           }
          ],
          "scatter": [
           {
            "marker": {
             "colorbar": {
              "outlinewidth": 0,
              "ticks": ""
             }
            },
            "type": "scatter"
           }
          ],
          "scatter3d": [
           {
            "line": {
             "colorbar": {
              "outlinewidth": 0,
              "ticks": ""
             }
            },
            "marker": {
             "colorbar": {
              "outlinewidth": 0,
              "ticks": ""
             }
            },
            "type": "scatter3d"
           }
          ],
          "scattercarpet": [
           {
            "marker": {
             "colorbar": {
              "outlinewidth": 0,
              "ticks": ""
             }
            },
            "type": "scattercarpet"
           }
          ],
          "scattergeo": [
           {
            "marker": {
             "colorbar": {
              "outlinewidth": 0,
              "ticks": ""
             }
            },
            "type": "scattergeo"
           }
          ],
          "scattergl": [
           {
            "marker": {
             "colorbar": {
              "outlinewidth": 0,
              "ticks": ""
             }
            },
            "type": "scattergl"
           }
          ],
          "scattermapbox": [
           {
            "marker": {
             "colorbar": {
              "outlinewidth": 0,
              "ticks": ""
             }
            },
            "type": "scattermapbox"
           }
          ],
          "scatterpolar": [
           {
            "marker": {
             "colorbar": {
              "outlinewidth": 0,
              "ticks": ""
             }
            },
            "type": "scatterpolar"
           }
          ],
          "scatterpolargl": [
           {
            "marker": {
             "colorbar": {
              "outlinewidth": 0,
              "ticks": ""
             }
            },
            "type": "scatterpolargl"
           }
          ],
          "scatterternary": [
           {
            "marker": {
             "colorbar": {
              "outlinewidth": 0,
              "ticks": ""
             }
            },
            "type": "scatterternary"
           }
          ],
          "surface": [
           {
            "colorbar": {
             "outlinewidth": 0,
             "ticks": ""
            },
            "colorscale": [
             [
              0,
              "#0d0887"
             ],
             [
              0.1111111111111111,
              "#46039f"
             ],
             [
              0.2222222222222222,
              "#7201a8"
             ],
             [
              0.3333333333333333,
              "#9c179e"
             ],
             [
              0.4444444444444444,
              "#bd3786"
             ],
             [
              0.5555555555555556,
              "#d8576b"
             ],
             [
              0.6666666666666666,
              "#ed7953"
             ],
             [
              0.7777777777777778,
              "#fb9f3a"
             ],
             [
              0.8888888888888888,
              "#fdca26"
             ],
             [
              1,
              "#f0f921"
             ]
            ],
            "type": "surface"
           }
          ],
          "table": [
           {
            "cells": {
             "fill": {
              "color": "#EBF0F8"
             },
             "line": {
              "color": "white"
             }
            },
            "header": {
             "fill": {
              "color": "#C8D4E3"
             },
             "line": {
              "color": "white"
             }
            },
            "type": "table"
           }
          ]
         },
         "layout": {
          "annotationdefaults": {
           "arrowcolor": "#2a3f5f",
           "arrowhead": 0,
           "arrowwidth": 1
          },
          "autotypenumbers": "strict",
          "coloraxis": {
           "colorbar": {
            "outlinewidth": 0,
            "ticks": ""
           }
          },
          "colorscale": {
           "diverging": [
            [
             0,
             "#8e0152"
            ],
            [
             0.1,
             "#c51b7d"
            ],
            [
             0.2,
             "#de77ae"
            ],
            [
             0.3,
             "#f1b6da"
            ],
            [
             0.4,
             "#fde0ef"
            ],
            [
             0.5,
             "#f7f7f7"
            ],
            [
             0.6,
             "#e6f5d0"
            ],
            [
             0.7,
             "#b8e186"
            ],
            [
             0.8,
             "#7fbc41"
            ],
            [
             0.9,
             "#4d9221"
            ],
            [
             1,
             "#276419"
            ]
           ],
           "sequential": [
            [
             0,
             "#0d0887"
            ],
            [
             0.1111111111111111,
             "#46039f"
            ],
            [
             0.2222222222222222,
             "#7201a8"
            ],
            [
             0.3333333333333333,
             "#9c179e"
            ],
            [
             0.4444444444444444,
             "#bd3786"
            ],
            [
             0.5555555555555556,
             "#d8576b"
            ],
            [
             0.6666666666666666,
             "#ed7953"
            ],
            [
             0.7777777777777778,
             "#fb9f3a"
            ],
            [
             0.8888888888888888,
             "#fdca26"
            ],
            [
             1,
             "#f0f921"
            ]
           ],
           "sequentialminus": [
            [
             0,
             "#0d0887"
            ],
            [
             0.1111111111111111,
             "#46039f"
            ],
            [
             0.2222222222222222,
             "#7201a8"
            ],
            [
             0.3333333333333333,
             "#9c179e"
            ],
            [
             0.4444444444444444,
             "#bd3786"
            ],
            [
             0.5555555555555556,
             "#d8576b"
            ],
            [
             0.6666666666666666,
             "#ed7953"
            ],
            [
             0.7777777777777778,
             "#fb9f3a"
            ],
            [
             0.8888888888888888,
             "#fdca26"
            ],
            [
             1,
             "#f0f921"
            ]
           ]
          },
          "colorway": [
           "#636efa",
           "#EF553B",
           "#00cc96",
           "#ab63fa",
           "#FFA15A",
           "#19d3f3",
           "#FF6692",
           "#B6E880",
           "#FF97FF",
           "#FECB52"
          ],
          "font": {
           "color": "#2a3f5f"
          },
          "geo": {
           "bgcolor": "white",
           "lakecolor": "white",
           "landcolor": "#E5ECF6",
           "showlakes": true,
           "showland": true,
           "subunitcolor": "white"
          },
          "hoverlabel": {
           "align": "left"
          },
          "hovermode": "closest",
          "mapbox": {
           "style": "light"
          },
          "paper_bgcolor": "white",
          "plot_bgcolor": "#E5ECF6",
          "polar": {
           "angularaxis": {
            "gridcolor": "white",
            "linecolor": "white",
            "ticks": ""
           },
           "bgcolor": "#E5ECF6",
           "radialaxis": {
            "gridcolor": "white",
            "linecolor": "white",
            "ticks": ""
           }
          },
          "scene": {
           "xaxis": {
            "backgroundcolor": "#E5ECF6",
            "gridcolor": "white",
            "gridwidth": 2,
            "linecolor": "white",
            "showbackground": true,
            "ticks": "",
            "zerolinecolor": "white"
           },
           "yaxis": {
            "backgroundcolor": "#E5ECF6",
            "gridcolor": "white",
            "gridwidth": 2,
            "linecolor": "white",
            "showbackground": true,
            "ticks": "",
            "zerolinecolor": "white"
           },
           "zaxis": {
            "backgroundcolor": "#E5ECF6",
            "gridcolor": "white",
            "gridwidth": 2,
            "linecolor": "white",
            "showbackground": true,
            "ticks": "",
            "zerolinecolor": "white"
           }
          },
          "shapedefaults": {
           "line": {
            "color": "#2a3f5f"
           }
          },
          "ternary": {
           "aaxis": {
            "gridcolor": "white",
            "linecolor": "white",
            "ticks": ""
           },
           "baxis": {
            "gridcolor": "white",
            "linecolor": "white",
            "ticks": ""
           },
           "bgcolor": "#E5ECF6",
           "caxis": {
            "gridcolor": "white",
            "linecolor": "white",
            "ticks": ""
           }
          },
          "title": {
           "x": 0.05
          },
          "xaxis": {
           "automargin": true,
           "gridcolor": "white",
           "linecolor": "white",
           "ticks": "",
           "title": {
            "standoff": 15
           },
           "zerolinecolor": "white",
           "zerolinewidth": 2
          },
          "yaxis": {
           "automargin": true,
           "gridcolor": "white",
           "linecolor": "white",
           "ticks": "",
           "title": {
            "standoff": 15
           },
           "zerolinecolor": "white",
           "zerolinewidth": 2
          }
         }
        },
        "xaxis": {
         "linecolor": "#BCCCDC",
         "mirror": true,
         "showgrid": true,
         "title": {
          "text": "mutability_score(DCA)"
         }
        },
        "yaxis": {
         "linecolor": "#BCCCDC",
         "mirror": true,
         "showgrid": true,
         "title": {
          "text": "IEDB - Response Frequency"
         }
        }
       }
      },
      "text/html": [
       "<div>                            <div id=\"89703ad8-1c5c-48e6-8d62-23a0c439cadb\" class=\"plotly-graph-div\" style=\"height:525px; width:100%;\"></div>            <script type=\"text/javascript\">                require([\"plotly\"], function(Plotly) {                    window.PLOTLYENV=window.PLOTLYENV || {};                                    if (document.getElementById(\"89703ad8-1c5c-48e6-8d62-23a0c439cadb\")) {                    Plotly.newPlot(                        \"89703ad8-1c5c-48e6-8d62-23a0c439cadb\",                        [{\"marker\":{\"color\":\"#5D69B1\",\"size\":[16.666666666666668,19.999999999999993,16.666666666666675,16.666666666666668,16.666666666666668,16.666666666666668,19.999999999999982,16.666666666666668,19.999999999999993,16.666666666666668,19.999999999999993,20.000000000000004,20.000000000000004,19.999999999999993,20.000000000000004,20.000000000000004,16.666666666666668,20.000000000000004,19.999999999999982,20.000000000000004,16.666666666666668,20.000000000000004,20.000000000000004,19.999999999999982,20.000000000000004,20.000000000000004,20.000000000000004,20.000000000000004,19.999999999999982,20.000000000000004,20.000000000000004,20.000000000000004,19.999999999999982,20.000000000000004,20.000000000000004,20.000000000000004,20.000000000000004,20.000000000000004,20.000000000000004,20.000000000000004,16.666666666666668,20.000000000000004,20.000000000000004,20.000000000000004,16.666666666666668,16.666666666666668,20.000000000000004,16.666666666666668,19.999999999999982,20.000000000000004,16.666666666666668,16.666666666666668,16.666666666666668,16.666666666666668,20.000000000000004,19.999999999999993,20.000000000000004]},\"mode\":\"markers\",\"name\":\"\",\"text\":[\"wt: N536\",\"wt: K537\",\"wt: C538\",\"wt: V539\",\"wt: N540\",\"wt: F541\",\"wt: N542\",\"wt: F543\",\"wt: N544\",\"wt: G545\",\"wt: L546\",\"wt: T547\",\"wt: G548\",\"wt: T549\",\"wt: G550\",\"wt: V551\",\"wt: L552\",\"wt: T553\",\"wt: E554\",\"wt: S555\",\"wt: N556\",\"wt: K557\",\"wt: K558\",\"wt: F559\",\"wt: L560\",\"wt: P561\",\"wt: F562\",\"wt: Q563\",\"wt: Q564\",\"wt: F565\",\"wt: G566\",\"wt: R567\",\"wt: D568\",\"wt: I569\",\"wt: A570\",\"wt: D571\",\"wt: T572\",\"wt: T573\",\"wt: D574\",\"wt: A575\",\"wt: V576\",\"wt: R577\",\"wt: D578\",\"wt: P579\",\"wt: Q580\",\"wt: T581\",\"wt: L582\",\"wt: E583\",\"wt: I584\",\"wt: L585\",\"wt: D586\",\"wt: I587\",\"wt: T588\",\"wt: P589\",\"wt: C590\",\"wt: S591\",\"wt: F592\"],\"textfont\":{\"color\":\"#E58606\"},\"textposition\":\"top right\",\"type\":\"scattergl\",\"uid\":\"ae7385f2-dc9c-4826-9909-8507eaf006f2\",\"x\":[-0.4734,-1.6287,-0.881,-1.971,-0.7543,-0.6722,-0.0446,-0.7433,-3.4076,0.0057,-2.4081,-0.9133,-5.2507,-1.3355,-0.0813,-0.1257,-2.67,-2.3301,0.3225,-1.3009,-0.278,-0.7661,-0.2344,0.1351,0.2053,1.0324,-1.7344,-0.2888,-0.0021,-0.4759,-0.8118,0.0086,-0.8543,-0.5986,0.6038,-0.1355,-0.5778,-1.0033,-2.5491,-0.666,-0.4088,-0.7794,-0.6739,-3.2073,0.3379,-1.218,-3.4096,-0.9436,-0.1016,-3.4665,-1.3148,-1.2566,0.0584,0.8086,-1.6037,-0.7251,-3.4418],\"y\":[0.2893013100436681,0.2546583850931677,0.25735294117647056,0.2791666666666667,0.29004329004329005,0.3120706575073602,0.3137450199203187,0.3118811881188119,0.2454835281615303,0.22879684418145957,0.23176823176823177,0.218014329580348,0.22633297062023938,0.2406311637080868,0.2653256704980843,0.28337874659400547,0.2711022840119166,0.33306451612903226,0.377431906614786,0.38256484149855907,0.41986947063089197,0.4047452896022331,0.4228650137741047,0.43288590604026844,0.4726264726264726,0.4490943160524672,0.4581039755351682,0.47225572979493363,0.5024968789013733,0.4825,0.48002619515389655,0.47050938337801607,0.49095780308104486,0.4706257982120051,0.4669987546699875,0.42428571428571427,0.4454477050413845,0.4431047475508666,0.4474678760393046,0.4628751974723539,0.490360435875943,0.46250986582478293,0.4666136724960254,0.4650379106992418,0.4829443447037702,0.4487072560467056,0.44370860927152317,0.42992874109263657,0.43617021276595747,0.3968253968253968,0.3909710391822828,0.3776785714285714,0.37283236994219654,0.29793510324483774,0.2751817237798546,0.24236037934668073,0.223915592028136]},{\"marker\":{\"color\":\"red\",\"size\":[]},\"mode\":\"markers\",\"showlegend\":false,\"text\":[],\"textfont\":{\"color\":\"#E58606\"},\"textposition\":\"top right\",\"type\":\"scattergl\",\"uid\":\"b8c6a63a-6e7d-4f3e-a2f6-687dbbfea0e8\",\"x\":[],\"y\":[]}],                        {\"legend\":{\"itemclick\":\"toggleothers\",\"itemdoubleclick\":\"toggle\"},\"margin\":{\"b\":20,\"l\":20,\"r\":20,\"t\":20},\"plot_bgcolor\":\"#FFF\",\"template\":{\"data\":{\"bar\":[{\"error_x\":{\"color\":\"#2a3f5f\"},\"error_y\":{\"color\":\"#2a3f5f\"},\"marker\":{\"line\":{\"color\":\"#E5ECF6\",\"width\":0.5},\"pattern\":{\"fillmode\":\"overlay\",\"size\":10,\"solidity\":0.2}},\"type\":\"bar\"}],\"barpolar\":[{\"marker\":{\"line\":{\"color\":\"#E5ECF6\",\"width\":0.5},\"pattern\":{\"fillmode\":\"overlay\",\"size\":10,\"solidity\":0.2}},\"type\":\"barpolar\"}],\"carpet\":[{\"aaxis\":{\"endlinecolor\":\"#2a3f5f\",\"gridcolor\":\"white\",\"linecolor\":\"white\",\"minorgridcolor\":\"white\",\"startlinecolor\":\"#2a3f5f\"},\"baxis\":{\"endlinecolor\":\"#2a3f5f\",\"gridcolor\":\"white\",\"linecolor\":\"white\",\"minorgridcolor\":\"white\",\"startlinecolor\":\"#2a3f5f\"},\"type\":\"carpet\"}],\"choropleth\":[{\"colorbar\":{\"outlinewidth\":0,\"ticks\":\"\"},\"type\":\"choropleth\"}],\"contour\":[{\"colorbar\":{\"outlinewidth\":0,\"ticks\":\"\"},\"colorscale\":[[0.0,\"#0d0887\"],[0.1111111111111111,\"#46039f\"],[0.2222222222222222,\"#7201a8\"],[0.3333333333333333,\"#9c179e\"],[0.4444444444444444,\"#bd3786\"],[0.5555555555555556,\"#d8576b\"],[0.6666666666666666,\"#ed7953\"],[0.7777777777777778,\"#fb9f3a\"],[0.8888888888888888,\"#fdca26\"],[1.0,\"#f0f921\"]],\"type\":\"contour\"}],\"contourcarpet\":[{\"colorbar\":{\"outlinewidth\":0,\"ticks\":\"\"},\"type\":\"contourcarpet\"}],\"heatmap\":[{\"colorbar\":{\"outlinewidth\":0,\"ticks\":\"\"},\"colorscale\":[[0.0,\"#0d0887\"],[0.1111111111111111,\"#46039f\"],[0.2222222222222222,\"#7201a8\"],[0.3333333333333333,\"#9c179e\"],[0.4444444444444444,\"#bd3786\"],[0.5555555555555556,\"#d8576b\"],[0.6666666666666666,\"#ed7953\"],[0.7777777777777778,\"#fb9f3a\"],[0.8888888888888888,\"#fdca26\"],[1.0,\"#f0f921\"]],\"type\":\"heatmap\"}],\"heatmapgl\":[{\"colorbar\":{\"outlinewidth\":0,\"ticks\":\"\"},\"colorscale\":[[0.0,\"#0d0887\"],[0.1111111111111111,\"#46039f\"],[0.2222222222222222,\"#7201a8\"],[0.3333333333333333,\"#9c179e\"],[0.4444444444444444,\"#bd3786\"],[0.5555555555555556,\"#d8576b\"],[0.6666666666666666,\"#ed7953\"],[0.7777777777777778,\"#fb9f3a\"],[0.8888888888888888,\"#fdca26\"],[1.0,\"#f0f921\"]],\"type\":\"heatmapgl\"}],\"histogram\":[{\"marker\":{\"pattern\":{\"fillmode\":\"overlay\",\"size\":10,\"solidity\":0.2}},\"type\":\"histogram\"}],\"histogram2d\":[{\"colorbar\":{\"outlinewidth\":0,\"ticks\":\"\"},\"colorscale\":[[0.0,\"#0d0887\"],[0.1111111111111111,\"#46039f\"],[0.2222222222222222,\"#7201a8\"],[0.3333333333333333,\"#9c179e\"],[0.4444444444444444,\"#bd3786\"],[0.5555555555555556,\"#d8576b\"],[0.6666666666666666,\"#ed7953\"],[0.7777777777777778,\"#fb9f3a\"],[0.8888888888888888,\"#fdca26\"],[1.0,\"#f0f921\"]],\"type\":\"histogram2d\"}],\"histogram2dcontour\":[{\"colorbar\":{\"outlinewidth\":0,\"ticks\":\"\"},\"colorscale\":[[0.0,\"#0d0887\"],[0.1111111111111111,\"#46039f\"],[0.2222222222222222,\"#7201a8\"],[0.3333333333333333,\"#9c179e\"],[0.4444444444444444,\"#bd3786\"],[0.5555555555555556,\"#d8576b\"],[0.6666666666666666,\"#ed7953\"],[0.7777777777777778,\"#fb9f3a\"],[0.8888888888888888,\"#fdca26\"],[1.0,\"#f0f921\"]],\"type\":\"histogram2dcontour\"}],\"mesh3d\":[{\"colorbar\":{\"outlinewidth\":0,\"ticks\":\"\"},\"type\":\"mesh3d\"}],\"parcoords\":[{\"line\":{\"colorbar\":{\"outlinewidth\":0,\"ticks\":\"\"}},\"type\":\"parcoords\"}],\"pie\":[{\"automargin\":true,\"type\":\"pie\"}],\"scatter\":[{\"marker\":{\"colorbar\":{\"outlinewidth\":0,\"ticks\":\"\"}},\"type\":\"scatter\"}],\"scatter3d\":[{\"line\":{\"colorbar\":{\"outlinewidth\":0,\"ticks\":\"\"}},\"marker\":{\"colorbar\":{\"outlinewidth\":0,\"ticks\":\"\"}},\"type\":\"scatter3d\"}],\"scattercarpet\":[{\"marker\":{\"colorbar\":{\"outlinewidth\":0,\"ticks\":\"\"}},\"type\":\"scattercarpet\"}],\"scattergeo\":[{\"marker\":{\"colorbar\":{\"outlinewidth\":0,\"ticks\":\"\"}},\"type\":\"scattergeo\"}],\"scattergl\":[{\"marker\":{\"colorbar\":{\"outlinewidth\":0,\"ticks\":\"\"}},\"type\":\"scattergl\"}],\"scattermapbox\":[{\"marker\":{\"colorbar\":{\"outlinewidth\":0,\"ticks\":\"\"}},\"type\":\"scattermapbox\"}],\"scatterpolar\":[{\"marker\":{\"colorbar\":{\"outlinewidth\":0,\"ticks\":\"\"}},\"type\":\"scatterpolar\"}],\"scatterpolargl\":[{\"marker\":{\"colorbar\":{\"outlinewidth\":0,\"ticks\":\"\"}},\"type\":\"scatterpolargl\"}],\"scatterternary\":[{\"marker\":{\"colorbar\":{\"outlinewidth\":0,\"ticks\":\"\"}},\"type\":\"scatterternary\"}],\"surface\":[{\"colorbar\":{\"outlinewidth\":0,\"ticks\":\"\"},\"colorscale\":[[0.0,\"#0d0887\"],[0.1111111111111111,\"#46039f\"],[0.2222222222222222,\"#7201a8\"],[0.3333333333333333,\"#9c179e\"],[0.4444444444444444,\"#bd3786\"],[0.5555555555555556,\"#d8576b\"],[0.6666666666666666,\"#ed7953\"],[0.7777777777777778,\"#fb9f3a\"],[0.8888888888888888,\"#fdca26\"],[1.0,\"#f0f921\"]],\"type\":\"surface\"}],\"table\":[{\"cells\":{\"fill\":{\"color\":\"#EBF0F8\"},\"line\":{\"color\":\"white\"}},\"header\":{\"fill\":{\"color\":\"#C8D4E3\"},\"line\":{\"color\":\"white\"}},\"type\":\"table\"}]},\"layout\":{\"annotationdefaults\":{\"arrowcolor\":\"#2a3f5f\",\"arrowhead\":0,\"arrowwidth\":1},\"autotypenumbers\":\"strict\",\"coloraxis\":{\"colorbar\":{\"outlinewidth\":0,\"ticks\":\"\"}},\"colorscale\":{\"diverging\":[[0,\"#8e0152\"],[0.1,\"#c51b7d\"],[0.2,\"#de77ae\"],[0.3,\"#f1b6da\"],[0.4,\"#fde0ef\"],[0.5,\"#f7f7f7\"],[0.6,\"#e6f5d0\"],[0.7,\"#b8e186\"],[0.8,\"#7fbc41\"],[0.9,\"#4d9221\"],[1,\"#276419\"]],\"sequential\":[[0.0,\"#0d0887\"],[0.1111111111111111,\"#46039f\"],[0.2222222222222222,\"#7201a8\"],[0.3333333333333333,\"#9c179e\"],[0.4444444444444444,\"#bd3786\"],[0.5555555555555556,\"#d8576b\"],[0.6666666666666666,\"#ed7953\"],[0.7777777777777778,\"#fb9f3a\"],[0.8888888888888888,\"#fdca26\"],[1.0,\"#f0f921\"]],\"sequentialminus\":[[0.0,\"#0d0887\"],[0.1111111111111111,\"#46039f\"],[0.2222222222222222,\"#7201a8\"],[0.3333333333333333,\"#9c179e\"],[0.4444444444444444,\"#bd3786\"],[0.5555555555555556,\"#d8576b\"],[0.6666666666666666,\"#ed7953\"],[0.7777777777777778,\"#fb9f3a\"],[0.8888888888888888,\"#fdca26\"],[1.0,\"#f0f921\"]]},\"colorway\":[\"#636efa\",\"#EF553B\",\"#00cc96\",\"#ab63fa\",\"#FFA15A\",\"#19d3f3\",\"#FF6692\",\"#B6E880\",\"#FF97FF\",\"#FECB52\"],\"font\":{\"color\":\"#2a3f5f\"},\"geo\":{\"bgcolor\":\"white\",\"lakecolor\":\"white\",\"landcolor\":\"#E5ECF6\",\"showlakes\":true,\"showland\":true,\"subunitcolor\":\"white\"},\"hoverlabel\":{\"align\":\"left\"},\"hovermode\":\"closest\",\"mapbox\":{\"style\":\"light\"},\"paper_bgcolor\":\"white\",\"plot_bgcolor\":\"#E5ECF6\",\"polar\":{\"angularaxis\":{\"gridcolor\":\"white\",\"linecolor\":\"white\",\"ticks\":\"\"},\"bgcolor\":\"#E5ECF6\",\"radialaxis\":{\"gridcolor\":\"white\",\"linecolor\":\"white\",\"ticks\":\"\"}},\"scene\":{\"xaxis\":{\"backgroundcolor\":\"#E5ECF6\",\"gridcolor\":\"white\",\"gridwidth\":2,\"linecolor\":\"white\",\"showbackground\":true,\"ticks\":\"\",\"zerolinecolor\":\"white\"},\"yaxis\":{\"backgroundcolor\":\"#E5ECF6\",\"gridcolor\":\"white\",\"gridwidth\":2,\"linecolor\":\"white\",\"showbackground\":true,\"ticks\":\"\",\"zerolinecolor\":\"white\"},\"zaxis\":{\"backgroundcolor\":\"#E5ECF6\",\"gridcolor\":\"white\",\"gridwidth\":2,\"linecolor\":\"white\",\"showbackground\":true,\"ticks\":\"\",\"zerolinecolor\":\"white\"}},\"shapedefaults\":{\"line\":{\"color\":\"#2a3f5f\"}},\"ternary\":{\"aaxis\":{\"gridcolor\":\"white\",\"linecolor\":\"white\",\"ticks\":\"\"},\"baxis\":{\"gridcolor\":\"white\",\"linecolor\":\"white\",\"ticks\":\"\"},\"bgcolor\":\"#E5ECF6\",\"caxis\":{\"gridcolor\":\"white\",\"linecolor\":\"white\",\"ticks\":\"\"}},\"title\":{\"x\":0.05},\"xaxis\":{\"automargin\":true,\"gridcolor\":\"white\",\"linecolor\":\"white\",\"ticks\":\"\",\"title\":{\"standoff\":15},\"zerolinecolor\":\"white\",\"zerolinewidth\":2},\"yaxis\":{\"automargin\":true,\"gridcolor\":\"white\",\"linecolor\":\"white\",\"ticks\":\"\",\"title\":{\"standoff\":15},\"zerolinecolor\":\"white\",\"zerolinewidth\":2}}},\"xaxis\":{\"linecolor\":\"#BCCCDC\",\"mirror\":true,\"showgrid\":true,\"title\":{\"text\":\"mutability_score(DCA)\"}},\"yaxis\":{\"linecolor\":\"#BCCCDC\",\"mirror\":true,\"showgrid\":true,\"title\":{\"text\":\"IEDB - Response Frequency\"}}},                        {\"responsive\": true}                    ).then(function(){\n",
       "                            \n",
       "var gd = document.getElementById('89703ad8-1c5c-48e6-8d62-23a0c439cadb');\n",
       "var x = new MutationObserver(function (mutations, observer) {{\n",
       "        var display = window.getComputedStyle(gd).display;\n",
       "        if (!display || display === 'none') {{\n",
       "            console.log([gd, 'removed!']);\n",
       "            Plotly.purge(gd);\n",
       "            observer.disconnect();\n",
       "        }}\n",
       "}});\n",
       "\n",
       "// Listen for the removal of the full notebook cells\n",
       "var notebookContainer = gd.closest('#notebook-container');\n",
       "if (notebookContainer) {{\n",
       "    x.observe(notebookContainer, {childList: true});\n",
       "}}\n",
       "\n",
       "// Listen for the clearing of the current output cell\n",
       "var outputEl = gd.closest('.output');\n",
       "if (outputEl) {{\n",
       "    x.observe(outputEl, {childList: true});\n",
       "}}\n",
       "\n",
       "                        })                };                });            </script>        </div>"
      ]
     },
     "metadata": {},
     "output_type": "display_data"
    },
    {
     "name": "stdout",
     "output_type": "stream",
     "text": [
      "('BA.1', 'Omicron')\n",
      "   protein    domain  position_protein  position_domain aa_Wuhan-Hu-1  \\\n",
      "11   Spike  CoV_S1_C               547             12.0             T   \n",
      "\n",
      "    mutability_score(IND)  mutability_score(DCA)  observed_mut_May2021  \\\n",
      "11                -1.4125                -0.9133                  17.0   \n",
      "\n",
      "    observed_mut_Dec2020  observed_mut_Jul2020  IEDB_lowerbound  \\\n",
      "11                   1.0                   0.0             0.19   \n",
      "\n",
      "    IEDB_upperbound  subj_tested  subj_responded  IEDB_response_frequency  \\\n",
      "11             0.24          977             213                 0.218014   \n",
      "\n",
      "    size_scatter  \n",
      "11          20.0  \n"
     ]
    },
    {
     "data": {
      "application/vnd.plotly.v1+json": {
       "config": {
        "linkText": "Export to plot.ly",
        "plotlyServerURL": "https://plot.ly",
        "showLink": false
       },
       "data": [
        {
         "marker": {
          "color": "#5D69B1",
          "size": [
           16.666666666666668,
           19.999999999999993,
           16.666666666666675,
           16.666666666666668,
           16.666666666666668,
           16.666666666666668,
           19.999999999999982,
           16.666666666666668,
           19.999999999999993,
           16.666666666666668,
           19.999999999999993,
           20.000000000000004,
           20.000000000000004,
           19.999999999999993,
           20.000000000000004,
           20.000000000000004,
           16.666666666666668,
           20.000000000000004,
           19.999999999999982,
           20.000000000000004,
           16.666666666666668,
           20.000000000000004,
           20.000000000000004,
           19.999999999999982,
           20.000000000000004,
           20.000000000000004,
           20.000000000000004,
           20.000000000000004,
           19.999999999999982,
           20.000000000000004,
           20.000000000000004,
           20.000000000000004,
           19.999999999999982,
           20.000000000000004,
           20.000000000000004,
           20.000000000000004,
           20.000000000000004,
           20.000000000000004,
           20.000000000000004,
           20.000000000000004,
           16.666666666666668,
           20.000000000000004,
           20.000000000000004,
           20.000000000000004,
           16.666666666666668,
           16.666666666666668,
           20.000000000000004,
           16.666666666666668,
           19.999999999999982,
           20.000000000000004,
           16.666666666666668,
           16.666666666666668,
           16.666666666666668,
           16.666666666666668,
           20.000000000000004,
           19.999999999999993,
           20.000000000000004
          ]
         },
         "mode": "markers",
         "name": "",
         "text": [
          "wt: N536",
          "wt: K537",
          "wt: C538",
          "wt: V539",
          "wt: N540",
          "wt: F541",
          "wt: N542",
          "wt: F543",
          "wt: N544",
          "wt: G545",
          "wt: L546",
          "wt: T547",
          "wt: G548",
          "wt: T549",
          "wt: G550",
          "wt: V551",
          "wt: L552",
          "wt: T553",
          "wt: E554",
          "wt: S555",
          "wt: N556",
          "wt: K557",
          "wt: K558",
          "wt: F559",
          "wt: L560",
          "wt: P561",
          "wt: F562",
          "wt: Q563",
          "wt: Q564",
          "wt: F565",
          "wt: G566",
          "wt: R567",
          "wt: D568",
          "wt: I569",
          "wt: A570",
          "wt: D571",
          "wt: T572",
          "wt: T573",
          "wt: D574",
          "wt: A575",
          "wt: V576",
          "wt: R577",
          "wt: D578",
          "wt: P579",
          "wt: Q580",
          "wt: T581",
          "wt: L582",
          "wt: E583",
          "wt: I584",
          "wt: L585",
          "wt: D586",
          "wt: I587",
          "wt: T588",
          "wt: P589",
          "wt: C590",
          "wt: S591",
          "wt: F592"
         ],
         "textfont": {
          "color": "#E58606"
         },
         "textposition": "top right",
         "type": "scattergl",
         "uid": "20bd6a1e-f22c-4bcd-834b-bbc2c7f76ba4",
         "x": [
          -0.4734,
          -1.6287,
          -0.881,
          -1.971,
          -0.7543,
          -0.6722,
          -0.0446,
          -0.7433,
          -3.4076,
          0.0057,
          -2.4081,
          -0.9133,
          -5.2507,
          -1.3355,
          -0.0813,
          -0.1257,
          -2.67,
          -2.3301,
          0.3225,
          -1.3009,
          -0.278,
          -0.7661,
          -0.2344,
          0.1351,
          0.2053,
          1.0324,
          -1.7344,
          -0.2888,
          -0.0021,
          -0.4759,
          -0.8118,
          0.0086,
          -0.8543,
          -0.5986,
          0.6038,
          -0.1355,
          -0.5778,
          -1.0033,
          -2.5491,
          -0.666,
          -0.4088,
          -0.7794,
          -0.6739,
          -3.2073,
          0.3379,
          -1.218,
          -3.4096,
          -0.9436,
          -0.1016,
          -3.4665,
          -1.3148,
          -1.2566,
          0.0584,
          0.8086,
          -1.6037,
          -0.7251,
          -3.4418
         ],
         "y": [
          0.2893013100436681,
          0.2546583850931677,
          0.25735294117647056,
          0.2791666666666667,
          0.29004329004329005,
          0.3120706575073602,
          0.3137450199203187,
          0.3118811881188119,
          0.2454835281615303,
          0.22879684418145957,
          0.23176823176823177,
          0.218014329580348,
          0.22633297062023938,
          0.2406311637080868,
          0.2653256704980843,
          0.28337874659400547,
          0.2711022840119166,
          0.33306451612903226,
          0.377431906614786,
          0.38256484149855907,
          0.41986947063089197,
          0.4047452896022331,
          0.4228650137741047,
          0.43288590604026844,
          0.4726264726264726,
          0.4490943160524672,
          0.4581039755351682,
          0.47225572979493363,
          0.5024968789013733,
          0.4825,
          0.48002619515389655,
          0.47050938337801607,
          0.49095780308104486,
          0.4706257982120051,
          0.4669987546699875,
          0.42428571428571427,
          0.4454477050413845,
          0.4431047475508666,
          0.4474678760393046,
          0.4628751974723539,
          0.490360435875943,
          0.46250986582478293,
          0.4666136724960254,
          0.4650379106992418,
          0.4829443447037702,
          0.4487072560467056,
          0.44370860927152317,
          0.42992874109263657,
          0.43617021276595747,
          0.3968253968253968,
          0.3909710391822828,
          0.3776785714285714,
          0.37283236994219654,
          0.29793510324483774,
          0.2751817237798546,
          0.24236037934668073,
          0.223915592028136
         ]
        },
        {
         "marker": {
          "color": "red",
          "size": [
           20.000000000000004
          ]
         },
         "mode": "markers",
         "showlegend": false,
         "text": [
          "wt: T547"
         ],
         "textfont": {
          "color": "#E58606"
         },
         "textposition": "top right",
         "type": "scattergl",
         "uid": "97e91304-22c6-48e0-a6ba-4dfbefe744fa",
         "x": [
          -0.9133
         ],
         "y": [
          0.218014329580348
         ]
        }
       ],
       "layout": {
        "legend": {
         "itemclick": "toggleothers",
         "itemdoubleclick": "toggle"
        },
        "margin": {
         "b": 20,
         "l": 20,
         "r": 20,
         "t": 20
        },
        "plot_bgcolor": "#FFF",
        "template": {
         "data": {
          "bar": [
           {
            "error_x": {
             "color": "#2a3f5f"
            },
            "error_y": {
             "color": "#2a3f5f"
            },
            "marker": {
             "line": {
              "color": "#E5ECF6",
              "width": 0.5
             },
             "pattern": {
              "fillmode": "overlay",
              "size": 10,
              "solidity": 0.2
             }
            },
            "type": "bar"
           }
          ],
          "barpolar": [
           {
            "marker": {
             "line": {
              "color": "#E5ECF6",
              "width": 0.5
             },
             "pattern": {
              "fillmode": "overlay",
              "size": 10,
              "solidity": 0.2
             }
            },
            "type": "barpolar"
           }
          ],
          "carpet": [
           {
            "aaxis": {
             "endlinecolor": "#2a3f5f",
             "gridcolor": "white",
             "linecolor": "white",
             "minorgridcolor": "white",
             "startlinecolor": "#2a3f5f"
            },
            "baxis": {
             "endlinecolor": "#2a3f5f",
             "gridcolor": "white",
             "linecolor": "white",
             "minorgridcolor": "white",
             "startlinecolor": "#2a3f5f"
            },
            "type": "carpet"
           }
          ],
          "choropleth": [
           {
            "colorbar": {
             "outlinewidth": 0,
             "ticks": ""
            },
            "type": "choropleth"
           }
          ],
          "contour": [
           {
            "colorbar": {
             "outlinewidth": 0,
             "ticks": ""
            },
            "colorscale": [
             [
              0,
              "#0d0887"
             ],
             [
              0.1111111111111111,
              "#46039f"
             ],
             [
              0.2222222222222222,
              "#7201a8"
             ],
             [
              0.3333333333333333,
              "#9c179e"
             ],
             [
              0.4444444444444444,
              "#bd3786"
             ],
             [
              0.5555555555555556,
              "#d8576b"
             ],
             [
              0.6666666666666666,
              "#ed7953"
             ],
             [
              0.7777777777777778,
              "#fb9f3a"
             ],
             [
              0.8888888888888888,
              "#fdca26"
             ],
             [
              1,
              "#f0f921"
             ]
            ],
            "type": "contour"
           }
          ],
          "contourcarpet": [
           {
            "colorbar": {
             "outlinewidth": 0,
             "ticks": ""
            },
            "type": "contourcarpet"
           }
          ],
          "heatmap": [
           {
            "colorbar": {
             "outlinewidth": 0,
             "ticks": ""
            },
            "colorscale": [
             [
              0,
              "#0d0887"
             ],
             [
              0.1111111111111111,
              "#46039f"
             ],
             [
              0.2222222222222222,
              "#7201a8"
             ],
             [
              0.3333333333333333,
              "#9c179e"
             ],
             [
              0.4444444444444444,
              "#bd3786"
             ],
             [
              0.5555555555555556,
              "#d8576b"
             ],
             [
              0.6666666666666666,
              "#ed7953"
             ],
             [
              0.7777777777777778,
              "#fb9f3a"
             ],
             [
              0.8888888888888888,
              "#fdca26"
             ],
             [
              1,
              "#f0f921"
             ]
            ],
            "type": "heatmap"
           }
          ],
          "heatmapgl": [
           {
            "colorbar": {
             "outlinewidth": 0,
             "ticks": ""
            },
            "colorscale": [
             [
              0,
              "#0d0887"
             ],
             [
              0.1111111111111111,
              "#46039f"
             ],
             [
              0.2222222222222222,
              "#7201a8"
             ],
             [
              0.3333333333333333,
              "#9c179e"
             ],
             [
              0.4444444444444444,
              "#bd3786"
             ],
             [
              0.5555555555555556,
              "#d8576b"
             ],
             [
              0.6666666666666666,
              "#ed7953"
             ],
             [
              0.7777777777777778,
              "#fb9f3a"
             ],
             [
              0.8888888888888888,
              "#fdca26"
             ],
             [
              1,
              "#f0f921"
             ]
            ],
            "type": "heatmapgl"
           }
          ],
          "histogram": [
           {
            "marker": {
             "pattern": {
              "fillmode": "overlay",
              "size": 10,
              "solidity": 0.2
             }
            },
            "type": "histogram"
           }
          ],
          "histogram2d": [
           {
            "colorbar": {
             "outlinewidth": 0,
             "ticks": ""
            },
            "colorscale": [
             [
              0,
              "#0d0887"
             ],
             [
              0.1111111111111111,
              "#46039f"
             ],
             [
              0.2222222222222222,
              "#7201a8"
             ],
             [
              0.3333333333333333,
              "#9c179e"
             ],
             [
              0.4444444444444444,
              "#bd3786"
             ],
             [
              0.5555555555555556,
              "#d8576b"
             ],
             [
              0.6666666666666666,
              "#ed7953"
             ],
             [
              0.7777777777777778,
              "#fb9f3a"
             ],
             [
              0.8888888888888888,
              "#fdca26"
             ],
             [
              1,
              "#f0f921"
             ]
            ],
            "type": "histogram2d"
           }
          ],
          "histogram2dcontour": [
           {
            "colorbar": {
             "outlinewidth": 0,
             "ticks": ""
            },
            "colorscale": [
             [
              0,
              "#0d0887"
             ],
             [
              0.1111111111111111,
              "#46039f"
             ],
             [
              0.2222222222222222,
              "#7201a8"
             ],
             [
              0.3333333333333333,
              "#9c179e"
             ],
             [
              0.4444444444444444,
              "#bd3786"
             ],
             [
              0.5555555555555556,
              "#d8576b"
             ],
             [
              0.6666666666666666,
              "#ed7953"
             ],
             [
              0.7777777777777778,
              "#fb9f3a"
             ],
             [
              0.8888888888888888,
              "#fdca26"
             ],
             [
              1,
              "#f0f921"
             ]
            ],
            "type": "histogram2dcontour"
           }
          ],
          "mesh3d": [
           {
            "colorbar": {
             "outlinewidth": 0,
             "ticks": ""
            },
            "type": "mesh3d"
           }
          ],
          "parcoords": [
           {
            "line": {
             "colorbar": {
              "outlinewidth": 0,
              "ticks": ""
             }
            },
            "type": "parcoords"
           }
          ],
          "pie": [
           {
            "automargin": true,
            "type": "pie"
           }
          ],
          "scatter": [
           {
            "marker": {
             "colorbar": {
              "outlinewidth": 0,
              "ticks": ""
             }
            },
            "type": "scatter"
           }
          ],
          "scatter3d": [
           {
            "line": {
             "colorbar": {
              "outlinewidth": 0,
              "ticks": ""
             }
            },
            "marker": {
             "colorbar": {
              "outlinewidth": 0,
              "ticks": ""
             }
            },
            "type": "scatter3d"
           }
          ],
          "scattercarpet": [
           {
            "marker": {
             "colorbar": {
              "outlinewidth": 0,
              "ticks": ""
             }
            },
            "type": "scattercarpet"
           }
          ],
          "scattergeo": [
           {
            "marker": {
             "colorbar": {
              "outlinewidth": 0,
              "ticks": ""
             }
            },
            "type": "scattergeo"
           }
          ],
          "scattergl": [
           {
            "marker": {
             "colorbar": {
              "outlinewidth": 0,
              "ticks": ""
             }
            },
            "type": "scattergl"
           }
          ],
          "scattermapbox": [
           {
            "marker": {
             "colorbar": {
              "outlinewidth": 0,
              "ticks": ""
             }
            },
            "type": "scattermapbox"
           }
          ],
          "scatterpolar": [
           {
            "marker": {
             "colorbar": {
              "outlinewidth": 0,
              "ticks": ""
             }
            },
            "type": "scatterpolar"
           }
          ],
          "scatterpolargl": [
           {
            "marker": {
             "colorbar": {
              "outlinewidth": 0,
              "ticks": ""
             }
            },
            "type": "scatterpolargl"
           }
          ],
          "scatterternary": [
           {
            "marker": {
             "colorbar": {
              "outlinewidth": 0,
              "ticks": ""
             }
            },
            "type": "scatterternary"
           }
          ],
          "surface": [
           {
            "colorbar": {
             "outlinewidth": 0,
             "ticks": ""
            },
            "colorscale": [
             [
              0,
              "#0d0887"
             ],
             [
              0.1111111111111111,
              "#46039f"
             ],
             [
              0.2222222222222222,
              "#7201a8"
             ],
             [
              0.3333333333333333,
              "#9c179e"
             ],
             [
              0.4444444444444444,
              "#bd3786"
             ],
             [
              0.5555555555555556,
              "#d8576b"
             ],
             [
              0.6666666666666666,
              "#ed7953"
             ],
             [
              0.7777777777777778,
              "#fb9f3a"
             ],
             [
              0.8888888888888888,
              "#fdca26"
             ],
             [
              1,
              "#f0f921"
             ]
            ],
            "type": "surface"
           }
          ],
          "table": [
           {
            "cells": {
             "fill": {
              "color": "#EBF0F8"
             },
             "line": {
              "color": "white"
             }
            },
            "header": {
             "fill": {
              "color": "#C8D4E3"
             },
             "line": {
              "color": "white"
             }
            },
            "type": "table"
           }
          ]
         },
         "layout": {
          "annotationdefaults": {
           "arrowcolor": "#2a3f5f",
           "arrowhead": 0,
           "arrowwidth": 1
          },
          "autotypenumbers": "strict",
          "coloraxis": {
           "colorbar": {
            "outlinewidth": 0,
            "ticks": ""
           }
          },
          "colorscale": {
           "diverging": [
            [
             0,
             "#8e0152"
            ],
            [
             0.1,
             "#c51b7d"
            ],
            [
             0.2,
             "#de77ae"
            ],
            [
             0.3,
             "#f1b6da"
            ],
            [
             0.4,
             "#fde0ef"
            ],
            [
             0.5,
             "#f7f7f7"
            ],
            [
             0.6,
             "#e6f5d0"
            ],
            [
             0.7,
             "#b8e186"
            ],
            [
             0.8,
             "#7fbc41"
            ],
            [
             0.9,
             "#4d9221"
            ],
            [
             1,
             "#276419"
            ]
           ],
           "sequential": [
            [
             0,
             "#0d0887"
            ],
            [
             0.1111111111111111,
             "#46039f"
            ],
            [
             0.2222222222222222,
             "#7201a8"
            ],
            [
             0.3333333333333333,
             "#9c179e"
            ],
            [
             0.4444444444444444,
             "#bd3786"
            ],
            [
             0.5555555555555556,
             "#d8576b"
            ],
            [
             0.6666666666666666,
             "#ed7953"
            ],
            [
             0.7777777777777778,
             "#fb9f3a"
            ],
            [
             0.8888888888888888,
             "#fdca26"
            ],
            [
             1,
             "#f0f921"
            ]
           ],
           "sequentialminus": [
            [
             0,
             "#0d0887"
            ],
            [
             0.1111111111111111,
             "#46039f"
            ],
            [
             0.2222222222222222,
             "#7201a8"
            ],
            [
             0.3333333333333333,
             "#9c179e"
            ],
            [
             0.4444444444444444,
             "#bd3786"
            ],
            [
             0.5555555555555556,
             "#d8576b"
            ],
            [
             0.6666666666666666,
             "#ed7953"
            ],
            [
             0.7777777777777778,
             "#fb9f3a"
            ],
            [
             0.8888888888888888,
             "#fdca26"
            ],
            [
             1,
             "#f0f921"
            ]
           ]
          },
          "colorway": [
           "#636efa",
           "#EF553B",
           "#00cc96",
           "#ab63fa",
           "#FFA15A",
           "#19d3f3",
           "#FF6692",
           "#B6E880",
           "#FF97FF",
           "#FECB52"
          ],
          "font": {
           "color": "#2a3f5f"
          },
          "geo": {
           "bgcolor": "white",
           "lakecolor": "white",
           "landcolor": "#E5ECF6",
           "showlakes": true,
           "showland": true,
           "subunitcolor": "white"
          },
          "hoverlabel": {
           "align": "left"
          },
          "hovermode": "closest",
          "mapbox": {
           "style": "light"
          },
          "paper_bgcolor": "white",
          "plot_bgcolor": "#E5ECF6",
          "polar": {
           "angularaxis": {
            "gridcolor": "white",
            "linecolor": "white",
            "ticks": ""
           },
           "bgcolor": "#E5ECF6",
           "radialaxis": {
            "gridcolor": "white",
            "linecolor": "white",
            "ticks": ""
           }
          },
          "scene": {
           "xaxis": {
            "backgroundcolor": "#E5ECF6",
            "gridcolor": "white",
            "gridwidth": 2,
            "linecolor": "white",
            "showbackground": true,
            "ticks": "",
            "zerolinecolor": "white"
           },
           "yaxis": {
            "backgroundcolor": "#E5ECF6",
            "gridcolor": "white",
            "gridwidth": 2,
            "linecolor": "white",
            "showbackground": true,
            "ticks": "",
            "zerolinecolor": "white"
           },
           "zaxis": {
            "backgroundcolor": "#E5ECF6",
            "gridcolor": "white",
            "gridwidth": 2,
            "linecolor": "white",
            "showbackground": true,
            "ticks": "",
            "zerolinecolor": "white"
           }
          },
          "shapedefaults": {
           "line": {
            "color": "#2a3f5f"
           }
          },
          "ternary": {
           "aaxis": {
            "gridcolor": "white",
            "linecolor": "white",
            "ticks": ""
           },
           "baxis": {
            "gridcolor": "white",
            "linecolor": "white",
            "ticks": ""
           },
           "bgcolor": "#E5ECF6",
           "caxis": {
            "gridcolor": "white",
            "linecolor": "white",
            "ticks": ""
           }
          },
          "title": {
           "x": 0.05
          },
          "xaxis": {
           "automargin": true,
           "gridcolor": "white",
           "linecolor": "white",
           "ticks": "",
           "title": {
            "standoff": 15
           },
           "zerolinecolor": "white",
           "zerolinewidth": 2
          },
          "yaxis": {
           "automargin": true,
           "gridcolor": "white",
           "linecolor": "white",
           "ticks": "",
           "title": {
            "standoff": 15
           },
           "zerolinecolor": "white",
           "zerolinewidth": 2
          }
         }
        },
        "xaxis": {
         "linecolor": "#BCCCDC",
         "mirror": true,
         "showgrid": true,
         "title": {
          "text": "mutability_score(DCA)"
         }
        },
        "yaxis": {
         "linecolor": "#BCCCDC",
         "mirror": true,
         "showgrid": true,
         "title": {
          "text": "IEDB - Response Frequency"
         }
        }
       }
      },
      "text/html": [
       "<div>                            <div id=\"7b0ba183-d62c-4391-a090-bb8e53139a72\" class=\"plotly-graph-div\" style=\"height:525px; width:100%;\"></div>            <script type=\"text/javascript\">                require([\"plotly\"], function(Plotly) {                    window.PLOTLYENV=window.PLOTLYENV || {};                                    if (document.getElementById(\"7b0ba183-d62c-4391-a090-bb8e53139a72\")) {                    Plotly.newPlot(                        \"7b0ba183-d62c-4391-a090-bb8e53139a72\",                        [{\"marker\":{\"color\":\"#5D69B1\",\"size\":[16.666666666666668,19.999999999999993,16.666666666666675,16.666666666666668,16.666666666666668,16.666666666666668,19.999999999999982,16.666666666666668,19.999999999999993,16.666666666666668,19.999999999999993,20.000000000000004,20.000000000000004,19.999999999999993,20.000000000000004,20.000000000000004,16.666666666666668,20.000000000000004,19.999999999999982,20.000000000000004,16.666666666666668,20.000000000000004,20.000000000000004,19.999999999999982,20.000000000000004,20.000000000000004,20.000000000000004,20.000000000000004,19.999999999999982,20.000000000000004,20.000000000000004,20.000000000000004,19.999999999999982,20.000000000000004,20.000000000000004,20.000000000000004,20.000000000000004,20.000000000000004,20.000000000000004,20.000000000000004,16.666666666666668,20.000000000000004,20.000000000000004,20.000000000000004,16.666666666666668,16.666666666666668,20.000000000000004,16.666666666666668,19.999999999999982,20.000000000000004,16.666666666666668,16.666666666666668,16.666666666666668,16.666666666666668,20.000000000000004,19.999999999999993,20.000000000000004]},\"mode\":\"markers\",\"name\":\"\",\"text\":[\"wt: N536\",\"wt: K537\",\"wt: C538\",\"wt: V539\",\"wt: N540\",\"wt: F541\",\"wt: N542\",\"wt: F543\",\"wt: N544\",\"wt: G545\",\"wt: L546\",\"wt: T547\",\"wt: G548\",\"wt: T549\",\"wt: G550\",\"wt: V551\",\"wt: L552\",\"wt: T553\",\"wt: E554\",\"wt: S555\",\"wt: N556\",\"wt: K557\",\"wt: K558\",\"wt: F559\",\"wt: L560\",\"wt: P561\",\"wt: F562\",\"wt: Q563\",\"wt: Q564\",\"wt: F565\",\"wt: G566\",\"wt: R567\",\"wt: D568\",\"wt: I569\",\"wt: A570\",\"wt: D571\",\"wt: T572\",\"wt: T573\",\"wt: D574\",\"wt: A575\",\"wt: V576\",\"wt: R577\",\"wt: D578\",\"wt: P579\",\"wt: Q580\",\"wt: T581\",\"wt: L582\",\"wt: E583\",\"wt: I584\",\"wt: L585\",\"wt: D586\",\"wt: I587\",\"wt: T588\",\"wt: P589\",\"wt: C590\",\"wt: S591\",\"wt: F592\"],\"textfont\":{\"color\":\"#E58606\"},\"textposition\":\"top right\",\"type\":\"scattergl\",\"uid\":\"20bd6a1e-f22c-4bcd-834b-bbc2c7f76ba4\",\"x\":[-0.4734,-1.6287,-0.881,-1.971,-0.7543,-0.6722,-0.0446,-0.7433,-3.4076,0.0057,-2.4081,-0.9133,-5.2507,-1.3355,-0.0813,-0.1257,-2.67,-2.3301,0.3225,-1.3009,-0.278,-0.7661,-0.2344,0.1351,0.2053,1.0324,-1.7344,-0.2888,-0.0021,-0.4759,-0.8118,0.0086,-0.8543,-0.5986,0.6038,-0.1355,-0.5778,-1.0033,-2.5491,-0.666,-0.4088,-0.7794,-0.6739,-3.2073,0.3379,-1.218,-3.4096,-0.9436,-0.1016,-3.4665,-1.3148,-1.2566,0.0584,0.8086,-1.6037,-0.7251,-3.4418],\"y\":[0.2893013100436681,0.2546583850931677,0.25735294117647056,0.2791666666666667,0.29004329004329005,0.3120706575073602,0.3137450199203187,0.3118811881188119,0.2454835281615303,0.22879684418145957,0.23176823176823177,0.218014329580348,0.22633297062023938,0.2406311637080868,0.2653256704980843,0.28337874659400547,0.2711022840119166,0.33306451612903226,0.377431906614786,0.38256484149855907,0.41986947063089197,0.4047452896022331,0.4228650137741047,0.43288590604026844,0.4726264726264726,0.4490943160524672,0.4581039755351682,0.47225572979493363,0.5024968789013733,0.4825,0.48002619515389655,0.47050938337801607,0.49095780308104486,0.4706257982120051,0.4669987546699875,0.42428571428571427,0.4454477050413845,0.4431047475508666,0.4474678760393046,0.4628751974723539,0.490360435875943,0.46250986582478293,0.4666136724960254,0.4650379106992418,0.4829443447037702,0.4487072560467056,0.44370860927152317,0.42992874109263657,0.43617021276595747,0.3968253968253968,0.3909710391822828,0.3776785714285714,0.37283236994219654,0.29793510324483774,0.2751817237798546,0.24236037934668073,0.223915592028136]},{\"marker\":{\"color\":\"red\",\"size\":[20.000000000000004]},\"mode\":\"markers\",\"showlegend\":false,\"text\":[\"wt: T547\"],\"textfont\":{\"color\":\"#E58606\"},\"textposition\":\"top right\",\"type\":\"scattergl\",\"uid\":\"97e91304-22c6-48e0-a6ba-4dfbefe744fa\",\"x\":[-0.9133],\"y\":[0.218014329580348]}],                        {\"legend\":{\"itemclick\":\"toggleothers\",\"itemdoubleclick\":\"toggle\"},\"margin\":{\"b\":20,\"l\":20,\"r\":20,\"t\":20},\"plot_bgcolor\":\"#FFF\",\"template\":{\"data\":{\"bar\":[{\"error_x\":{\"color\":\"#2a3f5f\"},\"error_y\":{\"color\":\"#2a3f5f\"},\"marker\":{\"line\":{\"color\":\"#E5ECF6\",\"width\":0.5},\"pattern\":{\"fillmode\":\"overlay\",\"size\":10,\"solidity\":0.2}},\"type\":\"bar\"}],\"barpolar\":[{\"marker\":{\"line\":{\"color\":\"#E5ECF6\",\"width\":0.5},\"pattern\":{\"fillmode\":\"overlay\",\"size\":10,\"solidity\":0.2}},\"type\":\"barpolar\"}],\"carpet\":[{\"aaxis\":{\"endlinecolor\":\"#2a3f5f\",\"gridcolor\":\"white\",\"linecolor\":\"white\",\"minorgridcolor\":\"white\",\"startlinecolor\":\"#2a3f5f\"},\"baxis\":{\"endlinecolor\":\"#2a3f5f\",\"gridcolor\":\"white\",\"linecolor\":\"white\",\"minorgridcolor\":\"white\",\"startlinecolor\":\"#2a3f5f\"},\"type\":\"carpet\"}],\"choropleth\":[{\"colorbar\":{\"outlinewidth\":0,\"ticks\":\"\"},\"type\":\"choropleth\"}],\"contour\":[{\"colorbar\":{\"outlinewidth\":0,\"ticks\":\"\"},\"colorscale\":[[0.0,\"#0d0887\"],[0.1111111111111111,\"#46039f\"],[0.2222222222222222,\"#7201a8\"],[0.3333333333333333,\"#9c179e\"],[0.4444444444444444,\"#bd3786\"],[0.5555555555555556,\"#d8576b\"],[0.6666666666666666,\"#ed7953\"],[0.7777777777777778,\"#fb9f3a\"],[0.8888888888888888,\"#fdca26\"],[1.0,\"#f0f921\"]],\"type\":\"contour\"}],\"contourcarpet\":[{\"colorbar\":{\"outlinewidth\":0,\"ticks\":\"\"},\"type\":\"contourcarpet\"}],\"heatmap\":[{\"colorbar\":{\"outlinewidth\":0,\"ticks\":\"\"},\"colorscale\":[[0.0,\"#0d0887\"],[0.1111111111111111,\"#46039f\"],[0.2222222222222222,\"#7201a8\"],[0.3333333333333333,\"#9c179e\"],[0.4444444444444444,\"#bd3786\"],[0.5555555555555556,\"#d8576b\"],[0.6666666666666666,\"#ed7953\"],[0.7777777777777778,\"#fb9f3a\"],[0.8888888888888888,\"#fdca26\"],[1.0,\"#f0f921\"]],\"type\":\"heatmap\"}],\"heatmapgl\":[{\"colorbar\":{\"outlinewidth\":0,\"ticks\":\"\"},\"colorscale\":[[0.0,\"#0d0887\"],[0.1111111111111111,\"#46039f\"],[0.2222222222222222,\"#7201a8\"],[0.3333333333333333,\"#9c179e\"],[0.4444444444444444,\"#bd3786\"],[0.5555555555555556,\"#d8576b\"],[0.6666666666666666,\"#ed7953\"],[0.7777777777777778,\"#fb9f3a\"],[0.8888888888888888,\"#fdca26\"],[1.0,\"#f0f921\"]],\"type\":\"heatmapgl\"}],\"histogram\":[{\"marker\":{\"pattern\":{\"fillmode\":\"overlay\",\"size\":10,\"solidity\":0.2}},\"type\":\"histogram\"}],\"histogram2d\":[{\"colorbar\":{\"outlinewidth\":0,\"ticks\":\"\"},\"colorscale\":[[0.0,\"#0d0887\"],[0.1111111111111111,\"#46039f\"],[0.2222222222222222,\"#7201a8\"],[0.3333333333333333,\"#9c179e\"],[0.4444444444444444,\"#bd3786\"],[0.5555555555555556,\"#d8576b\"],[0.6666666666666666,\"#ed7953\"],[0.7777777777777778,\"#fb9f3a\"],[0.8888888888888888,\"#fdca26\"],[1.0,\"#f0f921\"]],\"type\":\"histogram2d\"}],\"histogram2dcontour\":[{\"colorbar\":{\"outlinewidth\":0,\"ticks\":\"\"},\"colorscale\":[[0.0,\"#0d0887\"],[0.1111111111111111,\"#46039f\"],[0.2222222222222222,\"#7201a8\"],[0.3333333333333333,\"#9c179e\"],[0.4444444444444444,\"#bd3786\"],[0.5555555555555556,\"#d8576b\"],[0.6666666666666666,\"#ed7953\"],[0.7777777777777778,\"#fb9f3a\"],[0.8888888888888888,\"#fdca26\"],[1.0,\"#f0f921\"]],\"type\":\"histogram2dcontour\"}],\"mesh3d\":[{\"colorbar\":{\"outlinewidth\":0,\"ticks\":\"\"},\"type\":\"mesh3d\"}],\"parcoords\":[{\"line\":{\"colorbar\":{\"outlinewidth\":0,\"ticks\":\"\"}},\"type\":\"parcoords\"}],\"pie\":[{\"automargin\":true,\"type\":\"pie\"}],\"scatter\":[{\"marker\":{\"colorbar\":{\"outlinewidth\":0,\"ticks\":\"\"}},\"type\":\"scatter\"}],\"scatter3d\":[{\"line\":{\"colorbar\":{\"outlinewidth\":0,\"ticks\":\"\"}},\"marker\":{\"colorbar\":{\"outlinewidth\":0,\"ticks\":\"\"}},\"type\":\"scatter3d\"}],\"scattercarpet\":[{\"marker\":{\"colorbar\":{\"outlinewidth\":0,\"ticks\":\"\"}},\"type\":\"scattercarpet\"}],\"scattergeo\":[{\"marker\":{\"colorbar\":{\"outlinewidth\":0,\"ticks\":\"\"}},\"type\":\"scattergeo\"}],\"scattergl\":[{\"marker\":{\"colorbar\":{\"outlinewidth\":0,\"ticks\":\"\"}},\"type\":\"scattergl\"}],\"scattermapbox\":[{\"marker\":{\"colorbar\":{\"outlinewidth\":0,\"ticks\":\"\"}},\"type\":\"scattermapbox\"}],\"scatterpolar\":[{\"marker\":{\"colorbar\":{\"outlinewidth\":0,\"ticks\":\"\"}},\"type\":\"scatterpolar\"}],\"scatterpolargl\":[{\"marker\":{\"colorbar\":{\"outlinewidth\":0,\"ticks\":\"\"}},\"type\":\"scatterpolargl\"}],\"scatterternary\":[{\"marker\":{\"colorbar\":{\"outlinewidth\":0,\"ticks\":\"\"}},\"type\":\"scatterternary\"}],\"surface\":[{\"colorbar\":{\"outlinewidth\":0,\"ticks\":\"\"},\"colorscale\":[[0.0,\"#0d0887\"],[0.1111111111111111,\"#46039f\"],[0.2222222222222222,\"#7201a8\"],[0.3333333333333333,\"#9c179e\"],[0.4444444444444444,\"#bd3786\"],[0.5555555555555556,\"#d8576b\"],[0.6666666666666666,\"#ed7953\"],[0.7777777777777778,\"#fb9f3a\"],[0.8888888888888888,\"#fdca26\"],[1.0,\"#f0f921\"]],\"type\":\"surface\"}],\"table\":[{\"cells\":{\"fill\":{\"color\":\"#EBF0F8\"},\"line\":{\"color\":\"white\"}},\"header\":{\"fill\":{\"color\":\"#C8D4E3\"},\"line\":{\"color\":\"white\"}},\"type\":\"table\"}]},\"layout\":{\"annotationdefaults\":{\"arrowcolor\":\"#2a3f5f\",\"arrowhead\":0,\"arrowwidth\":1},\"autotypenumbers\":\"strict\",\"coloraxis\":{\"colorbar\":{\"outlinewidth\":0,\"ticks\":\"\"}},\"colorscale\":{\"diverging\":[[0,\"#8e0152\"],[0.1,\"#c51b7d\"],[0.2,\"#de77ae\"],[0.3,\"#f1b6da\"],[0.4,\"#fde0ef\"],[0.5,\"#f7f7f7\"],[0.6,\"#e6f5d0\"],[0.7,\"#b8e186\"],[0.8,\"#7fbc41\"],[0.9,\"#4d9221\"],[1,\"#276419\"]],\"sequential\":[[0.0,\"#0d0887\"],[0.1111111111111111,\"#46039f\"],[0.2222222222222222,\"#7201a8\"],[0.3333333333333333,\"#9c179e\"],[0.4444444444444444,\"#bd3786\"],[0.5555555555555556,\"#d8576b\"],[0.6666666666666666,\"#ed7953\"],[0.7777777777777778,\"#fb9f3a\"],[0.8888888888888888,\"#fdca26\"],[1.0,\"#f0f921\"]],\"sequentialminus\":[[0.0,\"#0d0887\"],[0.1111111111111111,\"#46039f\"],[0.2222222222222222,\"#7201a8\"],[0.3333333333333333,\"#9c179e\"],[0.4444444444444444,\"#bd3786\"],[0.5555555555555556,\"#d8576b\"],[0.6666666666666666,\"#ed7953\"],[0.7777777777777778,\"#fb9f3a\"],[0.8888888888888888,\"#fdca26\"],[1.0,\"#f0f921\"]]},\"colorway\":[\"#636efa\",\"#EF553B\",\"#00cc96\",\"#ab63fa\",\"#FFA15A\",\"#19d3f3\",\"#FF6692\",\"#B6E880\",\"#FF97FF\",\"#FECB52\"],\"font\":{\"color\":\"#2a3f5f\"},\"geo\":{\"bgcolor\":\"white\",\"lakecolor\":\"white\",\"landcolor\":\"#E5ECF6\",\"showlakes\":true,\"showland\":true,\"subunitcolor\":\"white\"},\"hoverlabel\":{\"align\":\"left\"},\"hovermode\":\"closest\",\"mapbox\":{\"style\":\"light\"},\"paper_bgcolor\":\"white\",\"plot_bgcolor\":\"#E5ECF6\",\"polar\":{\"angularaxis\":{\"gridcolor\":\"white\",\"linecolor\":\"white\",\"ticks\":\"\"},\"bgcolor\":\"#E5ECF6\",\"radialaxis\":{\"gridcolor\":\"white\",\"linecolor\":\"white\",\"ticks\":\"\"}},\"scene\":{\"xaxis\":{\"backgroundcolor\":\"#E5ECF6\",\"gridcolor\":\"white\",\"gridwidth\":2,\"linecolor\":\"white\",\"showbackground\":true,\"ticks\":\"\",\"zerolinecolor\":\"white\"},\"yaxis\":{\"backgroundcolor\":\"#E5ECF6\",\"gridcolor\":\"white\",\"gridwidth\":2,\"linecolor\":\"white\",\"showbackground\":true,\"ticks\":\"\",\"zerolinecolor\":\"white\"},\"zaxis\":{\"backgroundcolor\":\"#E5ECF6\",\"gridcolor\":\"white\",\"gridwidth\":2,\"linecolor\":\"white\",\"showbackground\":true,\"ticks\":\"\",\"zerolinecolor\":\"white\"}},\"shapedefaults\":{\"line\":{\"color\":\"#2a3f5f\"}},\"ternary\":{\"aaxis\":{\"gridcolor\":\"white\",\"linecolor\":\"white\",\"ticks\":\"\"},\"baxis\":{\"gridcolor\":\"white\",\"linecolor\":\"white\",\"ticks\":\"\"},\"bgcolor\":\"#E5ECF6\",\"caxis\":{\"gridcolor\":\"white\",\"linecolor\":\"white\",\"ticks\":\"\"}},\"title\":{\"x\":0.05},\"xaxis\":{\"automargin\":true,\"gridcolor\":\"white\",\"linecolor\":\"white\",\"ticks\":\"\",\"title\":{\"standoff\":15},\"zerolinecolor\":\"white\",\"zerolinewidth\":2},\"yaxis\":{\"automargin\":true,\"gridcolor\":\"white\",\"linecolor\":\"white\",\"ticks\":\"\",\"title\":{\"standoff\":15},\"zerolinecolor\":\"white\",\"zerolinewidth\":2}}},\"xaxis\":{\"linecolor\":\"#BCCCDC\",\"mirror\":true,\"showgrid\":true,\"title\":{\"text\":\"mutability_score(DCA)\"}},\"yaxis\":{\"linecolor\":\"#BCCCDC\",\"mirror\":true,\"showgrid\":true,\"title\":{\"text\":\"IEDB - Response Frequency\"}}},                        {\"responsive\": true}                    ).then(function(){\n",
       "                            \n",
       "var gd = document.getElementById('7b0ba183-d62c-4391-a090-bb8e53139a72');\n",
       "var x = new MutationObserver(function (mutations, observer) {{\n",
       "        var display = window.getComputedStyle(gd).display;\n",
       "        if (!display || display === 'none') {{\n",
       "            console.log([gd, 'removed!']);\n",
       "            Plotly.purge(gd);\n",
       "            observer.disconnect();\n",
       "        }}\n",
       "}});\n",
       "\n",
       "// Listen for the removal of the full notebook cells\n",
       "var notebookContainer = gd.closest('#notebook-container');\n",
       "if (notebookContainer) {{\n",
       "    x.observe(notebookContainer, {childList: true});\n",
       "}}\n",
       "\n",
       "// Listen for the clearing of the current output cell\n",
       "var outputEl = gd.closest('.output');\n",
       "if (outputEl) {{\n",
       "    x.observe(outputEl, {childList: true});\n",
       "}}\n",
       "\n",
       "                        })                };                });            </script>        </div>"
      ]
     },
     "metadata": {},
     "output_type": "display_data"
    },
    {
     "name": "stdout",
     "output_type": "stream",
     "text": [
      "('P.1', 'Gamma')\n",
      "Empty DataFrame\n",
      "Columns: [protein, domain, position_protein, position_domain, aa_Wuhan-Hu-1, mutability_score(IND), mutability_score(DCA), observed_mut_May2021, observed_mut_Dec2020, observed_mut_Jul2020, IEDB_lowerbound, IEDB_upperbound, subj_tested, subj_responded, IEDB_response_frequency, size_scatter]\n",
      "Index: []\n"
     ]
    },
    {
     "data": {
      "application/vnd.plotly.v1+json": {
       "config": {
        "linkText": "Export to plot.ly",
        "plotlyServerURL": "https://plot.ly",
        "showLink": false
       },
       "data": [
        {
         "marker": {
          "color": "#5D69B1",
          "size": [
           16.666666666666668,
           19.999999999999993,
           16.666666666666675,
           16.666666666666668,
           16.666666666666668,
           16.666666666666668,
           19.999999999999982,
           16.666666666666668,
           19.999999999999993,
           16.666666666666668,
           19.999999999999993,
           20.000000000000004,
           20.000000000000004,
           19.999999999999993,
           20.000000000000004,
           20.000000000000004,
           16.666666666666668,
           20.000000000000004,
           19.999999999999982,
           20.000000000000004,
           16.666666666666668,
           20.000000000000004,
           20.000000000000004,
           19.999999999999982,
           20.000000000000004,
           20.000000000000004,
           20.000000000000004,
           20.000000000000004,
           19.999999999999982,
           20.000000000000004,
           20.000000000000004,
           20.000000000000004,
           19.999999999999982,
           20.000000000000004,
           20.000000000000004,
           20.000000000000004,
           20.000000000000004,
           20.000000000000004,
           20.000000000000004,
           20.000000000000004,
           16.666666666666668,
           20.000000000000004,
           20.000000000000004,
           20.000000000000004,
           16.666666666666668,
           16.666666666666668,
           20.000000000000004,
           16.666666666666668,
           19.999999999999982,
           20.000000000000004,
           16.666666666666668,
           16.666666666666668,
           16.666666666666668,
           16.666666666666668,
           20.000000000000004,
           19.999999999999993,
           20.000000000000004
          ]
         },
         "mode": "markers",
         "name": "",
         "text": [
          "wt: N536",
          "wt: K537",
          "wt: C538",
          "wt: V539",
          "wt: N540",
          "wt: F541",
          "wt: N542",
          "wt: F543",
          "wt: N544",
          "wt: G545",
          "wt: L546",
          "wt: T547",
          "wt: G548",
          "wt: T549",
          "wt: G550",
          "wt: V551",
          "wt: L552",
          "wt: T553",
          "wt: E554",
          "wt: S555",
          "wt: N556",
          "wt: K557",
          "wt: K558",
          "wt: F559",
          "wt: L560",
          "wt: P561",
          "wt: F562",
          "wt: Q563",
          "wt: Q564",
          "wt: F565",
          "wt: G566",
          "wt: R567",
          "wt: D568",
          "wt: I569",
          "wt: A570",
          "wt: D571",
          "wt: T572",
          "wt: T573",
          "wt: D574",
          "wt: A575",
          "wt: V576",
          "wt: R577",
          "wt: D578",
          "wt: P579",
          "wt: Q580",
          "wt: T581",
          "wt: L582",
          "wt: E583",
          "wt: I584",
          "wt: L585",
          "wt: D586",
          "wt: I587",
          "wt: T588",
          "wt: P589",
          "wt: C590",
          "wt: S591",
          "wt: F592"
         ],
         "textfont": {
          "color": "#E58606"
         },
         "textposition": "top right",
         "type": "scattergl",
         "uid": "b93e3c36-1f15-49ff-a160-aa50ad304519",
         "x": [
          -0.4734,
          -1.6287,
          -0.881,
          -1.971,
          -0.7543,
          -0.6722,
          -0.0446,
          -0.7433,
          -3.4076,
          0.0057,
          -2.4081,
          -0.9133,
          -5.2507,
          -1.3355,
          -0.0813,
          -0.1257,
          -2.67,
          -2.3301,
          0.3225,
          -1.3009,
          -0.278,
          -0.7661,
          -0.2344,
          0.1351,
          0.2053,
          1.0324,
          -1.7344,
          -0.2888,
          -0.0021,
          -0.4759,
          -0.8118,
          0.0086,
          -0.8543,
          -0.5986,
          0.6038,
          -0.1355,
          -0.5778,
          -1.0033,
          -2.5491,
          -0.666,
          -0.4088,
          -0.7794,
          -0.6739,
          -3.2073,
          0.3379,
          -1.218,
          -3.4096,
          -0.9436,
          -0.1016,
          -3.4665,
          -1.3148,
          -1.2566,
          0.0584,
          0.8086,
          -1.6037,
          -0.7251,
          -3.4418
         ],
         "y": [
          0.2893013100436681,
          0.2546583850931677,
          0.25735294117647056,
          0.2791666666666667,
          0.29004329004329005,
          0.3120706575073602,
          0.3137450199203187,
          0.3118811881188119,
          0.2454835281615303,
          0.22879684418145957,
          0.23176823176823177,
          0.218014329580348,
          0.22633297062023938,
          0.2406311637080868,
          0.2653256704980843,
          0.28337874659400547,
          0.2711022840119166,
          0.33306451612903226,
          0.377431906614786,
          0.38256484149855907,
          0.41986947063089197,
          0.4047452896022331,
          0.4228650137741047,
          0.43288590604026844,
          0.4726264726264726,
          0.4490943160524672,
          0.4581039755351682,
          0.47225572979493363,
          0.5024968789013733,
          0.4825,
          0.48002619515389655,
          0.47050938337801607,
          0.49095780308104486,
          0.4706257982120051,
          0.4669987546699875,
          0.42428571428571427,
          0.4454477050413845,
          0.4431047475508666,
          0.4474678760393046,
          0.4628751974723539,
          0.490360435875943,
          0.46250986582478293,
          0.4666136724960254,
          0.4650379106992418,
          0.4829443447037702,
          0.4487072560467056,
          0.44370860927152317,
          0.42992874109263657,
          0.43617021276595747,
          0.3968253968253968,
          0.3909710391822828,
          0.3776785714285714,
          0.37283236994219654,
          0.29793510324483774,
          0.2751817237798546,
          0.24236037934668073,
          0.223915592028136
         ]
        },
        {
         "marker": {
          "color": "red",
          "size": []
         },
         "mode": "markers",
         "showlegend": false,
         "text": [],
         "textfont": {
          "color": "#E58606"
         },
         "textposition": "top right",
         "type": "scattergl",
         "uid": "3053b6aa-4986-4116-a2df-a5c7d4f90562",
         "x": [],
         "y": []
        }
       ],
       "layout": {
        "legend": {
         "itemclick": "toggleothers",
         "itemdoubleclick": "toggle"
        },
        "margin": {
         "b": 20,
         "l": 20,
         "r": 20,
         "t": 20
        },
        "plot_bgcolor": "#FFF",
        "template": {
         "data": {
          "bar": [
           {
            "error_x": {
             "color": "#2a3f5f"
            },
            "error_y": {
             "color": "#2a3f5f"
            },
            "marker": {
             "line": {
              "color": "#E5ECF6",
              "width": 0.5
             },
             "pattern": {
              "fillmode": "overlay",
              "size": 10,
              "solidity": 0.2
             }
            },
            "type": "bar"
           }
          ],
          "barpolar": [
           {
            "marker": {
             "line": {
              "color": "#E5ECF6",
              "width": 0.5
             },
             "pattern": {
              "fillmode": "overlay",
              "size": 10,
              "solidity": 0.2
             }
            },
            "type": "barpolar"
           }
          ],
          "carpet": [
           {
            "aaxis": {
             "endlinecolor": "#2a3f5f",
             "gridcolor": "white",
             "linecolor": "white",
             "minorgridcolor": "white",
             "startlinecolor": "#2a3f5f"
            },
            "baxis": {
             "endlinecolor": "#2a3f5f",
             "gridcolor": "white",
             "linecolor": "white",
             "minorgridcolor": "white",
             "startlinecolor": "#2a3f5f"
            },
            "type": "carpet"
           }
          ],
          "choropleth": [
           {
            "colorbar": {
             "outlinewidth": 0,
             "ticks": ""
            },
            "type": "choropleth"
           }
          ],
          "contour": [
           {
            "colorbar": {
             "outlinewidth": 0,
             "ticks": ""
            },
            "colorscale": [
             [
              0,
              "#0d0887"
             ],
             [
              0.1111111111111111,
              "#46039f"
             ],
             [
              0.2222222222222222,
              "#7201a8"
             ],
             [
              0.3333333333333333,
              "#9c179e"
             ],
             [
              0.4444444444444444,
              "#bd3786"
             ],
             [
              0.5555555555555556,
              "#d8576b"
             ],
             [
              0.6666666666666666,
              "#ed7953"
             ],
             [
              0.7777777777777778,
              "#fb9f3a"
             ],
             [
              0.8888888888888888,
              "#fdca26"
             ],
             [
              1,
              "#f0f921"
             ]
            ],
            "type": "contour"
           }
          ],
          "contourcarpet": [
           {
            "colorbar": {
             "outlinewidth": 0,
             "ticks": ""
            },
            "type": "contourcarpet"
           }
          ],
          "heatmap": [
           {
            "colorbar": {
             "outlinewidth": 0,
             "ticks": ""
            },
            "colorscale": [
             [
              0,
              "#0d0887"
             ],
             [
              0.1111111111111111,
              "#46039f"
             ],
             [
              0.2222222222222222,
              "#7201a8"
             ],
             [
              0.3333333333333333,
              "#9c179e"
             ],
             [
              0.4444444444444444,
              "#bd3786"
             ],
             [
              0.5555555555555556,
              "#d8576b"
             ],
             [
              0.6666666666666666,
              "#ed7953"
             ],
             [
              0.7777777777777778,
              "#fb9f3a"
             ],
             [
              0.8888888888888888,
              "#fdca26"
             ],
             [
              1,
              "#f0f921"
             ]
            ],
            "type": "heatmap"
           }
          ],
          "heatmapgl": [
           {
            "colorbar": {
             "outlinewidth": 0,
             "ticks": ""
            },
            "colorscale": [
             [
              0,
              "#0d0887"
             ],
             [
              0.1111111111111111,
              "#46039f"
             ],
             [
              0.2222222222222222,
              "#7201a8"
             ],
             [
              0.3333333333333333,
              "#9c179e"
             ],
             [
              0.4444444444444444,
              "#bd3786"
             ],
             [
              0.5555555555555556,
              "#d8576b"
             ],
             [
              0.6666666666666666,
              "#ed7953"
             ],
             [
              0.7777777777777778,
              "#fb9f3a"
             ],
             [
              0.8888888888888888,
              "#fdca26"
             ],
             [
              1,
              "#f0f921"
             ]
            ],
            "type": "heatmapgl"
           }
          ],
          "histogram": [
           {
            "marker": {
             "pattern": {
              "fillmode": "overlay",
              "size": 10,
              "solidity": 0.2
             }
            },
            "type": "histogram"
           }
          ],
          "histogram2d": [
           {
            "colorbar": {
             "outlinewidth": 0,
             "ticks": ""
            },
            "colorscale": [
             [
              0,
              "#0d0887"
             ],
             [
              0.1111111111111111,
              "#46039f"
             ],
             [
              0.2222222222222222,
              "#7201a8"
             ],
             [
              0.3333333333333333,
              "#9c179e"
             ],
             [
              0.4444444444444444,
              "#bd3786"
             ],
             [
              0.5555555555555556,
              "#d8576b"
             ],
             [
              0.6666666666666666,
              "#ed7953"
             ],
             [
              0.7777777777777778,
              "#fb9f3a"
             ],
             [
              0.8888888888888888,
              "#fdca26"
             ],
             [
              1,
              "#f0f921"
             ]
            ],
            "type": "histogram2d"
           }
          ],
          "histogram2dcontour": [
           {
            "colorbar": {
             "outlinewidth": 0,
             "ticks": ""
            },
            "colorscale": [
             [
              0,
              "#0d0887"
             ],
             [
              0.1111111111111111,
              "#46039f"
             ],
             [
              0.2222222222222222,
              "#7201a8"
             ],
             [
              0.3333333333333333,
              "#9c179e"
             ],
             [
              0.4444444444444444,
              "#bd3786"
             ],
             [
              0.5555555555555556,
              "#d8576b"
             ],
             [
              0.6666666666666666,
              "#ed7953"
             ],
             [
              0.7777777777777778,
              "#fb9f3a"
             ],
             [
              0.8888888888888888,
              "#fdca26"
             ],
             [
              1,
              "#f0f921"
             ]
            ],
            "type": "histogram2dcontour"
           }
          ],
          "mesh3d": [
           {
            "colorbar": {
             "outlinewidth": 0,
             "ticks": ""
            },
            "type": "mesh3d"
           }
          ],
          "parcoords": [
           {
            "line": {
             "colorbar": {
              "outlinewidth": 0,
              "ticks": ""
             }
            },
            "type": "parcoords"
           }
          ],
          "pie": [
           {
            "automargin": true,
            "type": "pie"
           }
          ],
          "scatter": [
           {
            "marker": {
             "colorbar": {
              "outlinewidth": 0,
              "ticks": ""
             }
            },
            "type": "scatter"
           }
          ],
          "scatter3d": [
           {
            "line": {
             "colorbar": {
              "outlinewidth": 0,
              "ticks": ""
             }
            },
            "marker": {
             "colorbar": {
              "outlinewidth": 0,
              "ticks": ""
             }
            },
            "type": "scatter3d"
           }
          ],
          "scattercarpet": [
           {
            "marker": {
             "colorbar": {
              "outlinewidth": 0,
              "ticks": ""
             }
            },
            "type": "scattercarpet"
           }
          ],
          "scattergeo": [
           {
            "marker": {
             "colorbar": {
              "outlinewidth": 0,
              "ticks": ""
             }
            },
            "type": "scattergeo"
           }
          ],
          "scattergl": [
           {
            "marker": {
             "colorbar": {
              "outlinewidth": 0,
              "ticks": ""
             }
            },
            "type": "scattergl"
           }
          ],
          "scattermapbox": [
           {
            "marker": {
             "colorbar": {
              "outlinewidth": 0,
              "ticks": ""
             }
            },
            "type": "scattermapbox"
           }
          ],
          "scatterpolar": [
           {
            "marker": {
             "colorbar": {
              "outlinewidth": 0,
              "ticks": ""
             }
            },
            "type": "scatterpolar"
           }
          ],
          "scatterpolargl": [
           {
            "marker": {
             "colorbar": {
              "outlinewidth": 0,
              "ticks": ""
             }
            },
            "type": "scatterpolargl"
           }
          ],
          "scatterternary": [
           {
            "marker": {
             "colorbar": {
              "outlinewidth": 0,
              "ticks": ""
             }
            },
            "type": "scatterternary"
           }
          ],
          "surface": [
           {
            "colorbar": {
             "outlinewidth": 0,
             "ticks": ""
            },
            "colorscale": [
             [
              0,
              "#0d0887"
             ],
             [
              0.1111111111111111,
              "#46039f"
             ],
             [
              0.2222222222222222,
              "#7201a8"
             ],
             [
              0.3333333333333333,
              "#9c179e"
             ],
             [
              0.4444444444444444,
              "#bd3786"
             ],
             [
              0.5555555555555556,
              "#d8576b"
             ],
             [
              0.6666666666666666,
              "#ed7953"
             ],
             [
              0.7777777777777778,
              "#fb9f3a"
             ],
             [
              0.8888888888888888,
              "#fdca26"
             ],
             [
              1,
              "#f0f921"
             ]
            ],
            "type": "surface"
           }
          ],
          "table": [
           {
            "cells": {
             "fill": {
              "color": "#EBF0F8"
             },
             "line": {
              "color": "white"
             }
            },
            "header": {
             "fill": {
              "color": "#C8D4E3"
             },
             "line": {
              "color": "white"
             }
            },
            "type": "table"
           }
          ]
         },
         "layout": {
          "annotationdefaults": {
           "arrowcolor": "#2a3f5f",
           "arrowhead": 0,
           "arrowwidth": 1
          },
          "autotypenumbers": "strict",
          "coloraxis": {
           "colorbar": {
            "outlinewidth": 0,
            "ticks": ""
           }
          },
          "colorscale": {
           "diverging": [
            [
             0,
             "#8e0152"
            ],
            [
             0.1,
             "#c51b7d"
            ],
            [
             0.2,
             "#de77ae"
            ],
            [
             0.3,
             "#f1b6da"
            ],
            [
             0.4,
             "#fde0ef"
            ],
            [
             0.5,
             "#f7f7f7"
            ],
            [
             0.6,
             "#e6f5d0"
            ],
            [
             0.7,
             "#b8e186"
            ],
            [
             0.8,
             "#7fbc41"
            ],
            [
             0.9,
             "#4d9221"
            ],
            [
             1,
             "#276419"
            ]
           ],
           "sequential": [
            [
             0,
             "#0d0887"
            ],
            [
             0.1111111111111111,
             "#46039f"
            ],
            [
             0.2222222222222222,
             "#7201a8"
            ],
            [
             0.3333333333333333,
             "#9c179e"
            ],
            [
             0.4444444444444444,
             "#bd3786"
            ],
            [
             0.5555555555555556,
             "#d8576b"
            ],
            [
             0.6666666666666666,
             "#ed7953"
            ],
            [
             0.7777777777777778,
             "#fb9f3a"
            ],
            [
             0.8888888888888888,
             "#fdca26"
            ],
            [
             1,
             "#f0f921"
            ]
           ],
           "sequentialminus": [
            [
             0,
             "#0d0887"
            ],
            [
             0.1111111111111111,
             "#46039f"
            ],
            [
             0.2222222222222222,
             "#7201a8"
            ],
            [
             0.3333333333333333,
             "#9c179e"
            ],
            [
             0.4444444444444444,
             "#bd3786"
            ],
            [
             0.5555555555555556,
             "#d8576b"
            ],
            [
             0.6666666666666666,
             "#ed7953"
            ],
            [
             0.7777777777777778,
             "#fb9f3a"
            ],
            [
             0.8888888888888888,
             "#fdca26"
            ],
            [
             1,
             "#f0f921"
            ]
           ]
          },
          "colorway": [
           "#636efa",
           "#EF553B",
           "#00cc96",
           "#ab63fa",
           "#FFA15A",
           "#19d3f3",
           "#FF6692",
           "#B6E880",
           "#FF97FF",
           "#FECB52"
          ],
          "font": {
           "color": "#2a3f5f"
          },
          "geo": {
           "bgcolor": "white",
           "lakecolor": "white",
           "landcolor": "#E5ECF6",
           "showlakes": true,
           "showland": true,
           "subunitcolor": "white"
          },
          "hoverlabel": {
           "align": "left"
          },
          "hovermode": "closest",
          "mapbox": {
           "style": "light"
          },
          "paper_bgcolor": "white",
          "plot_bgcolor": "#E5ECF6",
          "polar": {
           "angularaxis": {
            "gridcolor": "white",
            "linecolor": "white",
            "ticks": ""
           },
           "bgcolor": "#E5ECF6",
           "radialaxis": {
            "gridcolor": "white",
            "linecolor": "white",
            "ticks": ""
           }
          },
          "scene": {
           "xaxis": {
            "backgroundcolor": "#E5ECF6",
            "gridcolor": "white",
            "gridwidth": 2,
            "linecolor": "white",
            "showbackground": true,
            "ticks": "",
            "zerolinecolor": "white"
           },
           "yaxis": {
            "backgroundcolor": "#E5ECF6",
            "gridcolor": "white",
            "gridwidth": 2,
            "linecolor": "white",
            "showbackground": true,
            "ticks": "",
            "zerolinecolor": "white"
           },
           "zaxis": {
            "backgroundcolor": "#E5ECF6",
            "gridcolor": "white",
            "gridwidth": 2,
            "linecolor": "white",
            "showbackground": true,
            "ticks": "",
            "zerolinecolor": "white"
           }
          },
          "shapedefaults": {
           "line": {
            "color": "#2a3f5f"
           }
          },
          "ternary": {
           "aaxis": {
            "gridcolor": "white",
            "linecolor": "white",
            "ticks": ""
           },
           "baxis": {
            "gridcolor": "white",
            "linecolor": "white",
            "ticks": ""
           },
           "bgcolor": "#E5ECF6",
           "caxis": {
            "gridcolor": "white",
            "linecolor": "white",
            "ticks": ""
           }
          },
          "title": {
           "x": 0.05
          },
          "xaxis": {
           "automargin": true,
           "gridcolor": "white",
           "linecolor": "white",
           "ticks": "",
           "title": {
            "standoff": 15
           },
           "zerolinecolor": "white",
           "zerolinewidth": 2
          },
          "yaxis": {
           "automargin": true,
           "gridcolor": "white",
           "linecolor": "white",
           "ticks": "",
           "title": {
            "standoff": 15
           },
           "zerolinecolor": "white",
           "zerolinewidth": 2
          }
         }
        },
        "xaxis": {
         "linecolor": "#BCCCDC",
         "mirror": true,
         "showgrid": true,
         "title": {
          "text": "mutability_score(DCA)"
         }
        },
        "yaxis": {
         "linecolor": "#BCCCDC",
         "mirror": true,
         "showgrid": true,
         "title": {
          "text": "IEDB - Response Frequency"
         }
        }
       }
      },
      "text/html": [
       "<div>                            <div id=\"8a3775b5-5870-42d9-832e-e49e85ea4842\" class=\"plotly-graph-div\" style=\"height:525px; width:100%;\"></div>            <script type=\"text/javascript\">                require([\"plotly\"], function(Plotly) {                    window.PLOTLYENV=window.PLOTLYENV || {};                                    if (document.getElementById(\"8a3775b5-5870-42d9-832e-e49e85ea4842\")) {                    Plotly.newPlot(                        \"8a3775b5-5870-42d9-832e-e49e85ea4842\",                        [{\"marker\":{\"color\":\"#5D69B1\",\"size\":[16.666666666666668,19.999999999999993,16.666666666666675,16.666666666666668,16.666666666666668,16.666666666666668,19.999999999999982,16.666666666666668,19.999999999999993,16.666666666666668,19.999999999999993,20.000000000000004,20.000000000000004,19.999999999999993,20.000000000000004,20.000000000000004,16.666666666666668,20.000000000000004,19.999999999999982,20.000000000000004,16.666666666666668,20.000000000000004,20.000000000000004,19.999999999999982,20.000000000000004,20.000000000000004,20.000000000000004,20.000000000000004,19.999999999999982,20.000000000000004,20.000000000000004,20.000000000000004,19.999999999999982,20.000000000000004,20.000000000000004,20.000000000000004,20.000000000000004,20.000000000000004,20.000000000000004,20.000000000000004,16.666666666666668,20.000000000000004,20.000000000000004,20.000000000000004,16.666666666666668,16.666666666666668,20.000000000000004,16.666666666666668,19.999999999999982,20.000000000000004,16.666666666666668,16.666666666666668,16.666666666666668,16.666666666666668,20.000000000000004,19.999999999999993,20.000000000000004]},\"mode\":\"markers\",\"name\":\"\",\"text\":[\"wt: N536\",\"wt: K537\",\"wt: C538\",\"wt: V539\",\"wt: N540\",\"wt: F541\",\"wt: N542\",\"wt: F543\",\"wt: N544\",\"wt: G545\",\"wt: L546\",\"wt: T547\",\"wt: G548\",\"wt: T549\",\"wt: G550\",\"wt: V551\",\"wt: L552\",\"wt: T553\",\"wt: E554\",\"wt: S555\",\"wt: N556\",\"wt: K557\",\"wt: K558\",\"wt: F559\",\"wt: L560\",\"wt: P561\",\"wt: F562\",\"wt: Q563\",\"wt: Q564\",\"wt: F565\",\"wt: G566\",\"wt: R567\",\"wt: D568\",\"wt: I569\",\"wt: A570\",\"wt: D571\",\"wt: T572\",\"wt: T573\",\"wt: D574\",\"wt: A575\",\"wt: V576\",\"wt: R577\",\"wt: D578\",\"wt: P579\",\"wt: Q580\",\"wt: T581\",\"wt: L582\",\"wt: E583\",\"wt: I584\",\"wt: L585\",\"wt: D586\",\"wt: I587\",\"wt: T588\",\"wt: P589\",\"wt: C590\",\"wt: S591\",\"wt: F592\"],\"textfont\":{\"color\":\"#E58606\"},\"textposition\":\"top right\",\"type\":\"scattergl\",\"uid\":\"b93e3c36-1f15-49ff-a160-aa50ad304519\",\"x\":[-0.4734,-1.6287,-0.881,-1.971,-0.7543,-0.6722,-0.0446,-0.7433,-3.4076,0.0057,-2.4081,-0.9133,-5.2507,-1.3355,-0.0813,-0.1257,-2.67,-2.3301,0.3225,-1.3009,-0.278,-0.7661,-0.2344,0.1351,0.2053,1.0324,-1.7344,-0.2888,-0.0021,-0.4759,-0.8118,0.0086,-0.8543,-0.5986,0.6038,-0.1355,-0.5778,-1.0033,-2.5491,-0.666,-0.4088,-0.7794,-0.6739,-3.2073,0.3379,-1.218,-3.4096,-0.9436,-0.1016,-3.4665,-1.3148,-1.2566,0.0584,0.8086,-1.6037,-0.7251,-3.4418],\"y\":[0.2893013100436681,0.2546583850931677,0.25735294117647056,0.2791666666666667,0.29004329004329005,0.3120706575073602,0.3137450199203187,0.3118811881188119,0.2454835281615303,0.22879684418145957,0.23176823176823177,0.218014329580348,0.22633297062023938,0.2406311637080868,0.2653256704980843,0.28337874659400547,0.2711022840119166,0.33306451612903226,0.377431906614786,0.38256484149855907,0.41986947063089197,0.4047452896022331,0.4228650137741047,0.43288590604026844,0.4726264726264726,0.4490943160524672,0.4581039755351682,0.47225572979493363,0.5024968789013733,0.4825,0.48002619515389655,0.47050938337801607,0.49095780308104486,0.4706257982120051,0.4669987546699875,0.42428571428571427,0.4454477050413845,0.4431047475508666,0.4474678760393046,0.4628751974723539,0.490360435875943,0.46250986582478293,0.4666136724960254,0.4650379106992418,0.4829443447037702,0.4487072560467056,0.44370860927152317,0.42992874109263657,0.43617021276595747,0.3968253968253968,0.3909710391822828,0.3776785714285714,0.37283236994219654,0.29793510324483774,0.2751817237798546,0.24236037934668073,0.223915592028136]},{\"marker\":{\"color\":\"red\",\"size\":[]},\"mode\":\"markers\",\"showlegend\":false,\"text\":[],\"textfont\":{\"color\":\"#E58606\"},\"textposition\":\"top right\",\"type\":\"scattergl\",\"uid\":\"3053b6aa-4986-4116-a2df-a5c7d4f90562\",\"x\":[],\"y\":[]}],                        {\"legend\":{\"itemclick\":\"toggleothers\",\"itemdoubleclick\":\"toggle\"},\"margin\":{\"b\":20,\"l\":20,\"r\":20,\"t\":20},\"plot_bgcolor\":\"#FFF\",\"template\":{\"data\":{\"bar\":[{\"error_x\":{\"color\":\"#2a3f5f\"},\"error_y\":{\"color\":\"#2a3f5f\"},\"marker\":{\"line\":{\"color\":\"#E5ECF6\",\"width\":0.5},\"pattern\":{\"fillmode\":\"overlay\",\"size\":10,\"solidity\":0.2}},\"type\":\"bar\"}],\"barpolar\":[{\"marker\":{\"line\":{\"color\":\"#E5ECF6\",\"width\":0.5},\"pattern\":{\"fillmode\":\"overlay\",\"size\":10,\"solidity\":0.2}},\"type\":\"barpolar\"}],\"carpet\":[{\"aaxis\":{\"endlinecolor\":\"#2a3f5f\",\"gridcolor\":\"white\",\"linecolor\":\"white\",\"minorgridcolor\":\"white\",\"startlinecolor\":\"#2a3f5f\"},\"baxis\":{\"endlinecolor\":\"#2a3f5f\",\"gridcolor\":\"white\",\"linecolor\":\"white\",\"minorgridcolor\":\"white\",\"startlinecolor\":\"#2a3f5f\"},\"type\":\"carpet\"}],\"choropleth\":[{\"colorbar\":{\"outlinewidth\":0,\"ticks\":\"\"},\"type\":\"choropleth\"}],\"contour\":[{\"colorbar\":{\"outlinewidth\":0,\"ticks\":\"\"},\"colorscale\":[[0.0,\"#0d0887\"],[0.1111111111111111,\"#46039f\"],[0.2222222222222222,\"#7201a8\"],[0.3333333333333333,\"#9c179e\"],[0.4444444444444444,\"#bd3786\"],[0.5555555555555556,\"#d8576b\"],[0.6666666666666666,\"#ed7953\"],[0.7777777777777778,\"#fb9f3a\"],[0.8888888888888888,\"#fdca26\"],[1.0,\"#f0f921\"]],\"type\":\"contour\"}],\"contourcarpet\":[{\"colorbar\":{\"outlinewidth\":0,\"ticks\":\"\"},\"type\":\"contourcarpet\"}],\"heatmap\":[{\"colorbar\":{\"outlinewidth\":0,\"ticks\":\"\"},\"colorscale\":[[0.0,\"#0d0887\"],[0.1111111111111111,\"#46039f\"],[0.2222222222222222,\"#7201a8\"],[0.3333333333333333,\"#9c179e\"],[0.4444444444444444,\"#bd3786\"],[0.5555555555555556,\"#d8576b\"],[0.6666666666666666,\"#ed7953\"],[0.7777777777777778,\"#fb9f3a\"],[0.8888888888888888,\"#fdca26\"],[1.0,\"#f0f921\"]],\"type\":\"heatmap\"}],\"heatmapgl\":[{\"colorbar\":{\"outlinewidth\":0,\"ticks\":\"\"},\"colorscale\":[[0.0,\"#0d0887\"],[0.1111111111111111,\"#46039f\"],[0.2222222222222222,\"#7201a8\"],[0.3333333333333333,\"#9c179e\"],[0.4444444444444444,\"#bd3786\"],[0.5555555555555556,\"#d8576b\"],[0.6666666666666666,\"#ed7953\"],[0.7777777777777778,\"#fb9f3a\"],[0.8888888888888888,\"#fdca26\"],[1.0,\"#f0f921\"]],\"type\":\"heatmapgl\"}],\"histogram\":[{\"marker\":{\"pattern\":{\"fillmode\":\"overlay\",\"size\":10,\"solidity\":0.2}},\"type\":\"histogram\"}],\"histogram2d\":[{\"colorbar\":{\"outlinewidth\":0,\"ticks\":\"\"},\"colorscale\":[[0.0,\"#0d0887\"],[0.1111111111111111,\"#46039f\"],[0.2222222222222222,\"#7201a8\"],[0.3333333333333333,\"#9c179e\"],[0.4444444444444444,\"#bd3786\"],[0.5555555555555556,\"#d8576b\"],[0.6666666666666666,\"#ed7953\"],[0.7777777777777778,\"#fb9f3a\"],[0.8888888888888888,\"#fdca26\"],[1.0,\"#f0f921\"]],\"type\":\"histogram2d\"}],\"histogram2dcontour\":[{\"colorbar\":{\"outlinewidth\":0,\"ticks\":\"\"},\"colorscale\":[[0.0,\"#0d0887\"],[0.1111111111111111,\"#46039f\"],[0.2222222222222222,\"#7201a8\"],[0.3333333333333333,\"#9c179e\"],[0.4444444444444444,\"#bd3786\"],[0.5555555555555556,\"#d8576b\"],[0.6666666666666666,\"#ed7953\"],[0.7777777777777778,\"#fb9f3a\"],[0.8888888888888888,\"#fdca26\"],[1.0,\"#f0f921\"]],\"type\":\"histogram2dcontour\"}],\"mesh3d\":[{\"colorbar\":{\"outlinewidth\":0,\"ticks\":\"\"},\"type\":\"mesh3d\"}],\"parcoords\":[{\"line\":{\"colorbar\":{\"outlinewidth\":0,\"ticks\":\"\"}},\"type\":\"parcoords\"}],\"pie\":[{\"automargin\":true,\"type\":\"pie\"}],\"scatter\":[{\"marker\":{\"colorbar\":{\"outlinewidth\":0,\"ticks\":\"\"}},\"type\":\"scatter\"}],\"scatter3d\":[{\"line\":{\"colorbar\":{\"outlinewidth\":0,\"ticks\":\"\"}},\"marker\":{\"colorbar\":{\"outlinewidth\":0,\"ticks\":\"\"}},\"type\":\"scatter3d\"}],\"scattercarpet\":[{\"marker\":{\"colorbar\":{\"outlinewidth\":0,\"ticks\":\"\"}},\"type\":\"scattercarpet\"}],\"scattergeo\":[{\"marker\":{\"colorbar\":{\"outlinewidth\":0,\"ticks\":\"\"}},\"type\":\"scattergeo\"}],\"scattergl\":[{\"marker\":{\"colorbar\":{\"outlinewidth\":0,\"ticks\":\"\"}},\"type\":\"scattergl\"}],\"scattermapbox\":[{\"marker\":{\"colorbar\":{\"outlinewidth\":0,\"ticks\":\"\"}},\"type\":\"scattermapbox\"}],\"scatterpolar\":[{\"marker\":{\"colorbar\":{\"outlinewidth\":0,\"ticks\":\"\"}},\"type\":\"scatterpolar\"}],\"scatterpolargl\":[{\"marker\":{\"colorbar\":{\"outlinewidth\":0,\"ticks\":\"\"}},\"type\":\"scatterpolargl\"}],\"scatterternary\":[{\"marker\":{\"colorbar\":{\"outlinewidth\":0,\"ticks\":\"\"}},\"type\":\"scatterternary\"}],\"surface\":[{\"colorbar\":{\"outlinewidth\":0,\"ticks\":\"\"},\"colorscale\":[[0.0,\"#0d0887\"],[0.1111111111111111,\"#46039f\"],[0.2222222222222222,\"#7201a8\"],[0.3333333333333333,\"#9c179e\"],[0.4444444444444444,\"#bd3786\"],[0.5555555555555556,\"#d8576b\"],[0.6666666666666666,\"#ed7953\"],[0.7777777777777778,\"#fb9f3a\"],[0.8888888888888888,\"#fdca26\"],[1.0,\"#f0f921\"]],\"type\":\"surface\"}],\"table\":[{\"cells\":{\"fill\":{\"color\":\"#EBF0F8\"},\"line\":{\"color\":\"white\"}},\"header\":{\"fill\":{\"color\":\"#C8D4E3\"},\"line\":{\"color\":\"white\"}},\"type\":\"table\"}]},\"layout\":{\"annotationdefaults\":{\"arrowcolor\":\"#2a3f5f\",\"arrowhead\":0,\"arrowwidth\":1},\"autotypenumbers\":\"strict\",\"coloraxis\":{\"colorbar\":{\"outlinewidth\":0,\"ticks\":\"\"}},\"colorscale\":{\"diverging\":[[0,\"#8e0152\"],[0.1,\"#c51b7d\"],[0.2,\"#de77ae\"],[0.3,\"#f1b6da\"],[0.4,\"#fde0ef\"],[0.5,\"#f7f7f7\"],[0.6,\"#e6f5d0\"],[0.7,\"#b8e186\"],[0.8,\"#7fbc41\"],[0.9,\"#4d9221\"],[1,\"#276419\"]],\"sequential\":[[0.0,\"#0d0887\"],[0.1111111111111111,\"#46039f\"],[0.2222222222222222,\"#7201a8\"],[0.3333333333333333,\"#9c179e\"],[0.4444444444444444,\"#bd3786\"],[0.5555555555555556,\"#d8576b\"],[0.6666666666666666,\"#ed7953\"],[0.7777777777777778,\"#fb9f3a\"],[0.8888888888888888,\"#fdca26\"],[1.0,\"#f0f921\"]],\"sequentialminus\":[[0.0,\"#0d0887\"],[0.1111111111111111,\"#46039f\"],[0.2222222222222222,\"#7201a8\"],[0.3333333333333333,\"#9c179e\"],[0.4444444444444444,\"#bd3786\"],[0.5555555555555556,\"#d8576b\"],[0.6666666666666666,\"#ed7953\"],[0.7777777777777778,\"#fb9f3a\"],[0.8888888888888888,\"#fdca26\"],[1.0,\"#f0f921\"]]},\"colorway\":[\"#636efa\",\"#EF553B\",\"#00cc96\",\"#ab63fa\",\"#FFA15A\",\"#19d3f3\",\"#FF6692\",\"#B6E880\",\"#FF97FF\",\"#FECB52\"],\"font\":{\"color\":\"#2a3f5f\"},\"geo\":{\"bgcolor\":\"white\",\"lakecolor\":\"white\",\"landcolor\":\"#E5ECF6\",\"showlakes\":true,\"showland\":true,\"subunitcolor\":\"white\"},\"hoverlabel\":{\"align\":\"left\"},\"hovermode\":\"closest\",\"mapbox\":{\"style\":\"light\"},\"paper_bgcolor\":\"white\",\"plot_bgcolor\":\"#E5ECF6\",\"polar\":{\"angularaxis\":{\"gridcolor\":\"white\",\"linecolor\":\"white\",\"ticks\":\"\"},\"bgcolor\":\"#E5ECF6\",\"radialaxis\":{\"gridcolor\":\"white\",\"linecolor\":\"white\",\"ticks\":\"\"}},\"scene\":{\"xaxis\":{\"backgroundcolor\":\"#E5ECF6\",\"gridcolor\":\"white\",\"gridwidth\":2,\"linecolor\":\"white\",\"showbackground\":true,\"ticks\":\"\",\"zerolinecolor\":\"white\"},\"yaxis\":{\"backgroundcolor\":\"#E5ECF6\",\"gridcolor\":\"white\",\"gridwidth\":2,\"linecolor\":\"white\",\"showbackground\":true,\"ticks\":\"\",\"zerolinecolor\":\"white\"},\"zaxis\":{\"backgroundcolor\":\"#E5ECF6\",\"gridcolor\":\"white\",\"gridwidth\":2,\"linecolor\":\"white\",\"showbackground\":true,\"ticks\":\"\",\"zerolinecolor\":\"white\"}},\"shapedefaults\":{\"line\":{\"color\":\"#2a3f5f\"}},\"ternary\":{\"aaxis\":{\"gridcolor\":\"white\",\"linecolor\":\"white\",\"ticks\":\"\"},\"baxis\":{\"gridcolor\":\"white\",\"linecolor\":\"white\",\"ticks\":\"\"},\"bgcolor\":\"#E5ECF6\",\"caxis\":{\"gridcolor\":\"white\",\"linecolor\":\"white\",\"ticks\":\"\"}},\"title\":{\"x\":0.05},\"xaxis\":{\"automargin\":true,\"gridcolor\":\"white\",\"linecolor\":\"white\",\"ticks\":\"\",\"title\":{\"standoff\":15},\"zerolinecolor\":\"white\",\"zerolinewidth\":2},\"yaxis\":{\"automargin\":true,\"gridcolor\":\"white\",\"linecolor\":\"white\",\"ticks\":\"\",\"title\":{\"standoff\":15},\"zerolinecolor\":\"white\",\"zerolinewidth\":2}}},\"xaxis\":{\"linecolor\":\"#BCCCDC\",\"mirror\":true,\"showgrid\":true,\"title\":{\"text\":\"mutability_score(DCA)\"}},\"yaxis\":{\"linecolor\":\"#BCCCDC\",\"mirror\":true,\"showgrid\":true,\"title\":{\"text\":\"IEDB - Response Frequency\"}}},                        {\"responsive\": true}                    ).then(function(){\n",
       "                            \n",
       "var gd = document.getElementById('8a3775b5-5870-42d9-832e-e49e85ea4842');\n",
       "var x = new MutationObserver(function (mutations, observer) {{\n",
       "        var display = window.getComputedStyle(gd).display;\n",
       "        if (!display || display === 'none') {{\n",
       "            console.log([gd, 'removed!']);\n",
       "            Plotly.purge(gd);\n",
       "            observer.disconnect();\n",
       "        }}\n",
       "}});\n",
       "\n",
       "// Listen for the removal of the full notebook cells\n",
       "var notebookContainer = gd.closest('#notebook-container');\n",
       "if (notebookContainer) {{\n",
       "    x.observe(notebookContainer, {childList: true});\n",
       "}}\n",
       "\n",
       "// Listen for the clearing of the current output cell\n",
       "var outputEl = gd.closest('.output');\n",
       "if (outputEl) {{\n",
       "    x.observe(outputEl, {childList: true});\n",
       "}}\n",
       "\n",
       "                        })                };                });            </script>        </div>"
      ]
     },
     "metadata": {},
     "output_type": "display_data"
    }
   ],
   "source": [
    "# The same scatterplot, but considering each VOC separately:\n",
    "\n",
    "prot = 'Spike'\n",
    "dom = \"CoV_S1_C\"\n",
    "score = 'mutability_score(DCA)'\n",
    "df = load_data_dca(path_data = \"./data/data_dca_proteome.csv\", protein = prot, domain = dom)\n",
    "\n",
    "#get IEDB available versions:\n",
    "path_IEDB_updated_data = \"./data/IEDB_updated_data/{0}\".format(prot)\n",
    "list_IEDB_versions =  get_IEDB_versions(path_IEDB_epitope_data = path_IEDB_updated_data )\n",
    "\n",
    "IEDB_ver = '05Dec2021'\n",
    "df = get_updated_IEDB(df, IEDB_ver, path_IEDB_updated_data)\n",
    "\n",
    "#add VOC red dot\n",
    "df_VOC_prot = df_VOC.loc[df_VOC['protein'] ==prot] \n",
    "\n",
    "for name_VOC, df_one_VOC in df_VOC_prot.groupby(by = ['pango', 'who']):\n",
    "    print(name_VOC)\n",
    "    list_pos_mutated_VOC = df_one_VOC['position'].astype(int).values\n",
    "    plot_dca_IEDB(df, score, list_pos = list_pos_mutated_VOC)"
   ]
  },
  {
   "cell_type": "markdown",
   "metadata": {},
   "source": [
    "## 3. DCA vs. IEDB predictions for other protein domains\n",
    "DCA predictions are available for the following proteins and protein domains, with\n",
    "\n",
    " - **M_eff** = the effective number of sequences used for training the DCA model\n",
    " - **L** = the length of the protein domain\n",
    " \n",
    "As discussed in the paper, the more sequence data is available to train the DCA (Meff) model, the better the variable site predictions are."
   ]
  },
  {
   "cell_type": "code",
   "execution_count": 44,
   "metadata": {},
   "outputs": [
    {
     "name": "stdout",
     "output_type": "stream",
     "text": [
      "         protein           domain Pfam_accession  M_eff    L\n",
      "0       Envelope            CoV_E     PF02723.15     53   66\n",
      "1       Membrane            CoV_M     PF01635.19     38  201\n",
      "2   Nucleocapsid    CoV_nucleocap     PF00937.19     48  341\n",
      "3          ORF1a         bCoV_NAR      PF16251.6     19   98\n",
      "4          ORF1a        bCoV_NSP1      PF11501.9     12  135\n",
      "5          ORF1a      bCoV_NSP3_N      PF12379.9      9  171\n",
      "6          ORF1a       bCoV_SUD_C      PF12124.9      2   64\n",
      "7          ORF1a       bCoV_SUD_M      PF11633.9     10  143\n",
      "8          ORF1a        CoV_NSP10     PF09401.11     25  123\n",
      "9          ORF1a       CoV_NSP2_C      PF19212.1     22  167\n",
      "10         ORF1a       CoV_NSP2_N      PF19211.1     25  241\n",
      "11         ORF1a       CoV_NSP3_C      PF19218.1     58  488\n",
      "12         ORF1a       CoV_NSP4_C      PF16348.6     33   96\n",
      "13         ORF1a       CoV_NSP4_N      PF19217.1     58  354\n",
      "14         ORF1a         CoV_NSP6      PF19213.1     71  262\n",
      "15         ORF1a         CoV_NSP7     PF08716.11     31   83\n",
      "16         ORF1a         CoV_NSP8     PF08717.11     30  197\n",
      "17         ORF1a         CoV_NSP9     PF08710.11     33  113\n",
      "18         ORF1a    CoV_peptidase     PF08715.11    103  319\n",
      "19         ORF1a            Macro     PF01661.22  10075  107\n",
      "20         ORF1a    Peptidase_C30     PF05409.14     41  291\n",
      "21         ORF1b           AAA_11      PF13086.7   5010   69\n",
      "22         ORF1b           AAA_12      PF13087.7  16968   78\n",
      "23         ORF1b           AAA_30      PF13604.7  87503  132\n",
      "24         ORF1b   CoV_Methyltr_1     PF06471.13     27  522\n",
      "25         ORF1b   CoV_Methyltr_2     PF06460.13     31  296\n",
      "26         ORF1b      CoV_NSP15_C      PF19215.1     42  153\n",
      "27         ORF1b      CoV_NSP15_M      PF19216.1     40   97\n",
      "28         ORF1b      CoV_NSP15_N      PF19219.1     38   61\n",
      "29         ORF1b       CoV_RPol_N     PF06478.14     31  352\n",
      "30         ORF1b           RdRP_1     PF00680.21     61  489\n",
      "31         ORF1b         UvrD_C_2      PF13538.7   4891   38\n",
      "32         ORF1b  Viral_helicase1     PF01443.19  81660  225\n",
      "33         ORF3a   bCoV_viroporin      PF11289.9      3  274\n",
      "34          ORF6         bCoV_NS6      PF12133.9      3   61\n",
      "35         ORF7a        bCoV_NS7A     PF08779.11      8  106\n",
      "36         ORF7b        bCoV_NS7B      PF11395.9      2   42\n",
      "37          ORF8         bCoV_NS8      PF12093.9      4  118\n",
      "38         Spike        bCoV_S1_N      PF16451.6    103  305\n",
      "39         Spike      bCoV_S1_RBD     PF09408.11     83  178\n",
      "40         Spike         CoV_S1_C      PF19209.1   6216   57\n",
      "41         Spike         CoV_S2_C      PF19214.1     51   40\n",
      "42         Spike           CoV_S2     PF01601.17     80  522\n"
     ]
    }
   ],
   "source": [
    "data_prot_domain = pd.read_csv(\"./data/data_meff.csv\")\n",
    "print(data_prot_domain)"
   ]
  },
  {
   "cell_type": "code",
   "execution_count": 66,
   "metadata": {},
   "outputs": [
    {
     "name": "stdout",
     "output_type": "stream",
     "text": [
      "IEDB available versions: ['05Dec2021']\n",
      "Selecting *** IEDB 05Dec2021 version ***\n",
      "   protein    domain  position_protein  position_domain aa_Wuhan-Hu-1  \\\n",
      "11   Spike  CoV_S1_C               547             12.0             T   \n",
      "34   Spike  CoV_S1_C               570             35.0             A   \n",
      "\n",
      "    mutability_score(IND)  mutability_score(DCA)  observed_mut_May2021  \\\n",
      "11                -1.4125                -0.9133                  17.0   \n",
      "34                 0.3024                 0.6038                 165.0   \n",
      "\n",
      "    observed_mut_Dec2020  observed_mut_Jul2020  IEDB_lowerbound  \\\n",
      "11                   1.0                   0.0             0.19   \n",
      "34                   4.0                   1.0             0.44   \n",
      "\n",
      "    IEDB_upperbound  subj_tested  subj_responded  IEDB_response_frequency  \\\n",
      "11             0.24          977             213                 0.218014   \n",
      "34             0.49         1606             750                 0.466999   \n",
      "\n",
      "    size_scatter  \n",
      "11          20.0  \n",
      "34          20.0  \n"
     ]
    },
    {
     "data": {
      "application/vnd.plotly.v1+json": {
       "config": {
        "linkText": "Export to plot.ly",
        "plotlyServerURL": "https://plot.ly",
        "showLink": false
       },
       "data": [
        {
         "marker": {
          "color": "#5D69B1",
          "size": [
           16.666666666666668,
           19.999999999999993,
           16.666666666666675,
           16.666666666666668,
           16.666666666666668,
           16.666666666666668,
           19.999999999999982,
           16.666666666666668,
           19.999999999999993,
           16.666666666666668,
           19.999999999999993,
           20.000000000000004,
           20.000000000000004,
           19.999999999999993,
           20.000000000000004,
           20.000000000000004,
           16.666666666666668,
           20.000000000000004,
           19.999999999999982,
           20.000000000000004,
           16.666666666666668,
           20.000000000000004,
           20.000000000000004,
           19.999999999999982,
           20.000000000000004,
           20.000000000000004,
           20.000000000000004,
           20.000000000000004,
           19.999999999999982,
           20.000000000000004,
           20.000000000000004,
           20.000000000000004,
           19.999999999999982,
           20.000000000000004,
           20.000000000000004,
           20.000000000000004,
           20.000000000000004,
           20.000000000000004,
           20.000000000000004,
           20.000000000000004,
           16.666666666666668,
           20.000000000000004,
           20.000000000000004,
           20.000000000000004,
           16.666666666666668,
           16.666666666666668,
           20.000000000000004,
           16.666666666666668,
           19.999999999999982,
           20.000000000000004,
           16.666666666666668,
           16.666666666666668,
           16.666666666666668,
           16.666666666666668,
           20.000000000000004,
           19.999999999999993,
           20.000000000000004
          ]
         },
         "mode": "markers",
         "name": "",
         "text": [
          "wt: N536",
          "wt: K537",
          "wt: C538",
          "wt: V539",
          "wt: N540",
          "wt: F541",
          "wt: N542",
          "wt: F543",
          "wt: N544",
          "wt: G545",
          "wt: L546",
          "wt: T547",
          "wt: G548",
          "wt: T549",
          "wt: G550",
          "wt: V551",
          "wt: L552",
          "wt: T553",
          "wt: E554",
          "wt: S555",
          "wt: N556",
          "wt: K557",
          "wt: K558",
          "wt: F559",
          "wt: L560",
          "wt: P561",
          "wt: F562",
          "wt: Q563",
          "wt: Q564",
          "wt: F565",
          "wt: G566",
          "wt: R567",
          "wt: D568",
          "wt: I569",
          "wt: A570",
          "wt: D571",
          "wt: T572",
          "wt: T573",
          "wt: D574",
          "wt: A575",
          "wt: V576",
          "wt: R577",
          "wt: D578",
          "wt: P579",
          "wt: Q580",
          "wt: T581",
          "wt: L582",
          "wt: E583",
          "wt: I584",
          "wt: L585",
          "wt: D586",
          "wt: I587",
          "wt: T588",
          "wt: P589",
          "wt: C590",
          "wt: S591",
          "wt: F592"
         ],
         "textfont": {
          "color": "#E58606"
         },
         "textposition": "top right",
         "type": "scattergl",
         "uid": "41c1a7a2-0d16-408d-8683-6faa2d570dcc",
         "x": [
          -0.4734,
          -1.6287,
          -0.881,
          -1.971,
          -0.7543,
          -0.6722,
          -0.0446,
          -0.7433,
          -3.4076,
          0.0057,
          -2.4081,
          -0.9133,
          -5.2507,
          -1.3355,
          -0.0813,
          -0.1257,
          -2.67,
          -2.3301,
          0.3225,
          -1.3009,
          -0.278,
          -0.7661,
          -0.2344,
          0.1351,
          0.2053,
          1.0324,
          -1.7344,
          -0.2888,
          -0.0021,
          -0.4759,
          -0.8118,
          0.0086,
          -0.8543,
          -0.5986,
          0.6038,
          -0.1355,
          -0.5778,
          -1.0033,
          -2.5491,
          -0.666,
          -0.4088,
          -0.7794,
          -0.6739,
          -3.2073,
          0.3379,
          -1.218,
          -3.4096,
          -0.9436,
          -0.1016,
          -3.4665,
          -1.3148,
          -1.2566,
          0.0584,
          0.8086,
          -1.6037,
          -0.7251,
          -3.4418
         ],
         "y": [
          0.2893013100436681,
          0.2546583850931677,
          0.25735294117647056,
          0.2791666666666667,
          0.29004329004329005,
          0.3120706575073602,
          0.3137450199203187,
          0.3118811881188119,
          0.2454835281615303,
          0.22879684418145957,
          0.23176823176823177,
          0.218014329580348,
          0.22633297062023938,
          0.2406311637080868,
          0.2653256704980843,
          0.28337874659400547,
          0.2711022840119166,
          0.33306451612903226,
          0.377431906614786,
          0.38256484149855907,
          0.41986947063089197,
          0.4047452896022331,
          0.4228650137741047,
          0.43288590604026844,
          0.4726264726264726,
          0.4490943160524672,
          0.4581039755351682,
          0.47225572979493363,
          0.5024968789013733,
          0.4825,
          0.48002619515389655,
          0.47050938337801607,
          0.49095780308104486,
          0.4706257982120051,
          0.4669987546699875,
          0.42428571428571427,
          0.4454477050413845,
          0.4431047475508666,
          0.4474678760393046,
          0.4628751974723539,
          0.490360435875943,
          0.46250986582478293,
          0.4666136724960254,
          0.4650379106992418,
          0.4829443447037702,
          0.4487072560467056,
          0.44370860927152317,
          0.42992874109263657,
          0.43617021276595747,
          0.3968253968253968,
          0.3909710391822828,
          0.3776785714285714,
          0.37283236994219654,
          0.29793510324483774,
          0.2751817237798546,
          0.24236037934668073,
          0.223915592028136
         ]
        },
        {
         "marker": {
          "color": "red",
          "size": [
           20.000000000000004,
           20.000000000000004
          ]
         },
         "mode": "markers",
         "showlegend": false,
         "text": [
          "wt: T547",
          "wt: A570"
         ],
         "textfont": {
          "color": "#E58606"
         },
         "textposition": "top right",
         "type": "scattergl",
         "uid": "b994bd67-183b-4e05-b11e-e4785bcd1fab",
         "x": [
          -0.9133,
          0.6038
         ],
         "y": [
          0.218014329580348,
          0.4669987546699875
         ]
        }
       ],
       "layout": {
        "legend": {
         "itemclick": "toggleothers",
         "itemdoubleclick": "toggle"
        },
        "margin": {
         "b": 20,
         "l": 20,
         "r": 20,
         "t": 20
        },
        "plot_bgcolor": "#FFF",
        "template": {
         "data": {
          "bar": [
           {
            "error_x": {
             "color": "#2a3f5f"
            },
            "error_y": {
             "color": "#2a3f5f"
            },
            "marker": {
             "line": {
              "color": "#E5ECF6",
              "width": 0.5
             },
             "pattern": {
              "fillmode": "overlay",
              "size": 10,
              "solidity": 0.2
             }
            },
            "type": "bar"
           }
          ],
          "barpolar": [
           {
            "marker": {
             "line": {
              "color": "#E5ECF6",
              "width": 0.5
             },
             "pattern": {
              "fillmode": "overlay",
              "size": 10,
              "solidity": 0.2
             }
            },
            "type": "barpolar"
           }
          ],
          "carpet": [
           {
            "aaxis": {
             "endlinecolor": "#2a3f5f",
             "gridcolor": "white",
             "linecolor": "white",
             "minorgridcolor": "white",
             "startlinecolor": "#2a3f5f"
            },
            "baxis": {
             "endlinecolor": "#2a3f5f",
             "gridcolor": "white",
             "linecolor": "white",
             "minorgridcolor": "white",
             "startlinecolor": "#2a3f5f"
            },
            "type": "carpet"
           }
          ],
          "choropleth": [
           {
            "colorbar": {
             "outlinewidth": 0,
             "ticks": ""
            },
            "type": "choropleth"
           }
          ],
          "contour": [
           {
            "colorbar": {
             "outlinewidth": 0,
             "ticks": ""
            },
            "colorscale": [
             [
              0,
              "#0d0887"
             ],
             [
              0.1111111111111111,
              "#46039f"
             ],
             [
              0.2222222222222222,
              "#7201a8"
             ],
             [
              0.3333333333333333,
              "#9c179e"
             ],
             [
              0.4444444444444444,
              "#bd3786"
             ],
             [
              0.5555555555555556,
              "#d8576b"
             ],
             [
              0.6666666666666666,
              "#ed7953"
             ],
             [
              0.7777777777777778,
              "#fb9f3a"
             ],
             [
              0.8888888888888888,
              "#fdca26"
             ],
             [
              1,
              "#f0f921"
             ]
            ],
            "type": "contour"
           }
          ],
          "contourcarpet": [
           {
            "colorbar": {
             "outlinewidth": 0,
             "ticks": ""
            },
            "type": "contourcarpet"
           }
          ],
          "heatmap": [
           {
            "colorbar": {
             "outlinewidth": 0,
             "ticks": ""
            },
            "colorscale": [
             [
              0,
              "#0d0887"
             ],
             [
              0.1111111111111111,
              "#46039f"
             ],
             [
              0.2222222222222222,
              "#7201a8"
             ],
             [
              0.3333333333333333,
              "#9c179e"
             ],
             [
              0.4444444444444444,
              "#bd3786"
             ],
             [
              0.5555555555555556,
              "#d8576b"
             ],
             [
              0.6666666666666666,
              "#ed7953"
             ],
             [
              0.7777777777777778,
              "#fb9f3a"
             ],
             [
              0.8888888888888888,
              "#fdca26"
             ],
             [
              1,
              "#f0f921"
             ]
            ],
            "type": "heatmap"
           }
          ],
          "heatmapgl": [
           {
            "colorbar": {
             "outlinewidth": 0,
             "ticks": ""
            },
            "colorscale": [
             [
              0,
              "#0d0887"
             ],
             [
              0.1111111111111111,
              "#46039f"
             ],
             [
              0.2222222222222222,
              "#7201a8"
             ],
             [
              0.3333333333333333,
              "#9c179e"
             ],
             [
              0.4444444444444444,
              "#bd3786"
             ],
             [
              0.5555555555555556,
              "#d8576b"
             ],
             [
              0.6666666666666666,
              "#ed7953"
             ],
             [
              0.7777777777777778,
              "#fb9f3a"
             ],
             [
              0.8888888888888888,
              "#fdca26"
             ],
             [
              1,
              "#f0f921"
             ]
            ],
            "type": "heatmapgl"
           }
          ],
          "histogram": [
           {
            "marker": {
             "pattern": {
              "fillmode": "overlay",
              "size": 10,
              "solidity": 0.2
             }
            },
            "type": "histogram"
           }
          ],
          "histogram2d": [
           {
            "colorbar": {
             "outlinewidth": 0,
             "ticks": ""
            },
            "colorscale": [
             [
              0,
              "#0d0887"
             ],
             [
              0.1111111111111111,
              "#46039f"
             ],
             [
              0.2222222222222222,
              "#7201a8"
             ],
             [
              0.3333333333333333,
              "#9c179e"
             ],
             [
              0.4444444444444444,
              "#bd3786"
             ],
             [
              0.5555555555555556,
              "#d8576b"
             ],
             [
              0.6666666666666666,
              "#ed7953"
             ],
             [
              0.7777777777777778,
              "#fb9f3a"
             ],
             [
              0.8888888888888888,
              "#fdca26"
             ],
             [
              1,
              "#f0f921"
             ]
            ],
            "type": "histogram2d"
           }
          ],
          "histogram2dcontour": [
           {
            "colorbar": {
             "outlinewidth": 0,
             "ticks": ""
            },
            "colorscale": [
             [
              0,
              "#0d0887"
             ],
             [
              0.1111111111111111,
              "#46039f"
             ],
             [
              0.2222222222222222,
              "#7201a8"
             ],
             [
              0.3333333333333333,
              "#9c179e"
             ],
             [
              0.4444444444444444,
              "#bd3786"
             ],
             [
              0.5555555555555556,
              "#d8576b"
             ],
             [
              0.6666666666666666,
              "#ed7953"
             ],
             [
              0.7777777777777778,
              "#fb9f3a"
             ],
             [
              0.8888888888888888,
              "#fdca26"
             ],
             [
              1,
              "#f0f921"
             ]
            ],
            "type": "histogram2dcontour"
           }
          ],
          "mesh3d": [
           {
            "colorbar": {
             "outlinewidth": 0,
             "ticks": ""
            },
            "type": "mesh3d"
           }
          ],
          "parcoords": [
           {
            "line": {
             "colorbar": {
              "outlinewidth": 0,
              "ticks": ""
             }
            },
            "type": "parcoords"
           }
          ],
          "pie": [
           {
            "automargin": true,
            "type": "pie"
           }
          ],
          "scatter": [
           {
            "marker": {
             "colorbar": {
              "outlinewidth": 0,
              "ticks": ""
             }
            },
            "type": "scatter"
           }
          ],
          "scatter3d": [
           {
            "line": {
             "colorbar": {
              "outlinewidth": 0,
              "ticks": ""
             }
            },
            "marker": {
             "colorbar": {
              "outlinewidth": 0,
              "ticks": ""
             }
            },
            "type": "scatter3d"
           }
          ],
          "scattercarpet": [
           {
            "marker": {
             "colorbar": {
              "outlinewidth": 0,
              "ticks": ""
             }
            },
            "type": "scattercarpet"
           }
          ],
          "scattergeo": [
           {
            "marker": {
             "colorbar": {
              "outlinewidth": 0,
              "ticks": ""
             }
            },
            "type": "scattergeo"
           }
          ],
          "scattergl": [
           {
            "marker": {
             "colorbar": {
              "outlinewidth": 0,
              "ticks": ""
             }
            },
            "type": "scattergl"
           }
          ],
          "scattermapbox": [
           {
            "marker": {
             "colorbar": {
              "outlinewidth": 0,
              "ticks": ""
             }
            },
            "type": "scattermapbox"
           }
          ],
          "scatterpolar": [
           {
            "marker": {
             "colorbar": {
              "outlinewidth": 0,
              "ticks": ""
             }
            },
            "type": "scatterpolar"
           }
          ],
          "scatterpolargl": [
           {
            "marker": {
             "colorbar": {
              "outlinewidth": 0,
              "ticks": ""
             }
            },
            "type": "scatterpolargl"
           }
          ],
          "scatterternary": [
           {
            "marker": {
             "colorbar": {
              "outlinewidth": 0,
              "ticks": ""
             }
            },
            "type": "scatterternary"
           }
          ],
          "surface": [
           {
            "colorbar": {
             "outlinewidth": 0,
             "ticks": ""
            },
            "colorscale": [
             [
              0,
              "#0d0887"
             ],
             [
              0.1111111111111111,
              "#46039f"
             ],
             [
              0.2222222222222222,
              "#7201a8"
             ],
             [
              0.3333333333333333,
              "#9c179e"
             ],
             [
              0.4444444444444444,
              "#bd3786"
             ],
             [
              0.5555555555555556,
              "#d8576b"
             ],
             [
              0.6666666666666666,
              "#ed7953"
             ],
             [
              0.7777777777777778,
              "#fb9f3a"
             ],
             [
              0.8888888888888888,
              "#fdca26"
             ],
             [
              1,
              "#f0f921"
             ]
            ],
            "type": "surface"
           }
          ],
          "table": [
           {
            "cells": {
             "fill": {
              "color": "#EBF0F8"
             },
             "line": {
              "color": "white"
             }
            },
            "header": {
             "fill": {
              "color": "#C8D4E3"
             },
             "line": {
              "color": "white"
             }
            },
            "type": "table"
           }
          ]
         },
         "layout": {
          "annotationdefaults": {
           "arrowcolor": "#2a3f5f",
           "arrowhead": 0,
           "arrowwidth": 1
          },
          "autotypenumbers": "strict",
          "coloraxis": {
           "colorbar": {
            "outlinewidth": 0,
            "ticks": ""
           }
          },
          "colorscale": {
           "diverging": [
            [
             0,
             "#8e0152"
            ],
            [
             0.1,
             "#c51b7d"
            ],
            [
             0.2,
             "#de77ae"
            ],
            [
             0.3,
             "#f1b6da"
            ],
            [
             0.4,
             "#fde0ef"
            ],
            [
             0.5,
             "#f7f7f7"
            ],
            [
             0.6,
             "#e6f5d0"
            ],
            [
             0.7,
             "#b8e186"
            ],
            [
             0.8,
             "#7fbc41"
            ],
            [
             0.9,
             "#4d9221"
            ],
            [
             1,
             "#276419"
            ]
           ],
           "sequential": [
            [
             0,
             "#0d0887"
            ],
            [
             0.1111111111111111,
             "#46039f"
            ],
            [
             0.2222222222222222,
             "#7201a8"
            ],
            [
             0.3333333333333333,
             "#9c179e"
            ],
            [
             0.4444444444444444,
             "#bd3786"
            ],
            [
             0.5555555555555556,
             "#d8576b"
            ],
            [
             0.6666666666666666,
             "#ed7953"
            ],
            [
             0.7777777777777778,
             "#fb9f3a"
            ],
            [
             0.8888888888888888,
             "#fdca26"
            ],
            [
             1,
             "#f0f921"
            ]
           ],
           "sequentialminus": [
            [
             0,
             "#0d0887"
            ],
            [
             0.1111111111111111,
             "#46039f"
            ],
            [
             0.2222222222222222,
             "#7201a8"
            ],
            [
             0.3333333333333333,
             "#9c179e"
            ],
            [
             0.4444444444444444,
             "#bd3786"
            ],
            [
             0.5555555555555556,
             "#d8576b"
            ],
            [
             0.6666666666666666,
             "#ed7953"
            ],
            [
             0.7777777777777778,
             "#fb9f3a"
            ],
            [
             0.8888888888888888,
             "#fdca26"
            ],
            [
             1,
             "#f0f921"
            ]
           ]
          },
          "colorway": [
           "#636efa",
           "#EF553B",
           "#00cc96",
           "#ab63fa",
           "#FFA15A",
           "#19d3f3",
           "#FF6692",
           "#B6E880",
           "#FF97FF",
           "#FECB52"
          ],
          "font": {
           "color": "#2a3f5f"
          },
          "geo": {
           "bgcolor": "white",
           "lakecolor": "white",
           "landcolor": "#E5ECF6",
           "showlakes": true,
           "showland": true,
           "subunitcolor": "white"
          },
          "hoverlabel": {
           "align": "left"
          },
          "hovermode": "closest",
          "mapbox": {
           "style": "light"
          },
          "paper_bgcolor": "white",
          "plot_bgcolor": "#E5ECF6",
          "polar": {
           "angularaxis": {
            "gridcolor": "white",
            "linecolor": "white",
            "ticks": ""
           },
           "bgcolor": "#E5ECF6",
           "radialaxis": {
            "gridcolor": "white",
            "linecolor": "white",
            "ticks": ""
           }
          },
          "scene": {
           "xaxis": {
            "backgroundcolor": "#E5ECF6",
            "gridcolor": "white",
            "gridwidth": 2,
            "linecolor": "white",
            "showbackground": true,
            "ticks": "",
            "zerolinecolor": "white"
           },
           "yaxis": {
            "backgroundcolor": "#E5ECF6",
            "gridcolor": "white",
            "gridwidth": 2,
            "linecolor": "white",
            "showbackground": true,
            "ticks": "",
            "zerolinecolor": "white"
           },
           "zaxis": {
            "backgroundcolor": "#E5ECF6",
            "gridcolor": "white",
            "gridwidth": 2,
            "linecolor": "white",
            "showbackground": true,
            "ticks": "",
            "zerolinecolor": "white"
           }
          },
          "shapedefaults": {
           "line": {
            "color": "#2a3f5f"
           }
          },
          "ternary": {
           "aaxis": {
            "gridcolor": "white",
            "linecolor": "white",
            "ticks": ""
           },
           "baxis": {
            "gridcolor": "white",
            "linecolor": "white",
            "ticks": ""
           },
           "bgcolor": "#E5ECF6",
           "caxis": {
            "gridcolor": "white",
            "linecolor": "white",
            "ticks": ""
           }
          },
          "title": {
           "x": 0.05
          },
          "xaxis": {
           "automargin": true,
           "gridcolor": "white",
           "linecolor": "white",
           "ticks": "",
           "title": {
            "standoff": 15
           },
           "zerolinecolor": "white",
           "zerolinewidth": 2
          },
          "yaxis": {
           "automargin": true,
           "gridcolor": "white",
           "linecolor": "white",
           "ticks": "",
           "title": {
            "standoff": 15
           },
           "zerolinecolor": "white",
           "zerolinewidth": 2
          }
         }
        },
        "xaxis": {
         "linecolor": "#BCCCDC",
         "mirror": true,
         "showgrid": true,
         "title": {
          "text": "mutability_score(DCA)"
         }
        },
        "yaxis": {
         "linecolor": "#BCCCDC",
         "mirror": true,
         "showgrid": true,
         "title": {
          "text": "IEDB - Response Frequency"
         }
        }
       }
      },
      "text/html": [
       "<div>                            <div id=\"a95b4e5f-c827-4734-a21a-7a51913d794c\" class=\"plotly-graph-div\" style=\"height:525px; width:100%;\"></div>            <script type=\"text/javascript\">                require([\"plotly\"], function(Plotly) {                    window.PLOTLYENV=window.PLOTLYENV || {};                                    if (document.getElementById(\"a95b4e5f-c827-4734-a21a-7a51913d794c\")) {                    Plotly.newPlot(                        \"a95b4e5f-c827-4734-a21a-7a51913d794c\",                        [{\"marker\":{\"color\":\"#5D69B1\",\"size\":[16.666666666666668,19.999999999999993,16.666666666666675,16.666666666666668,16.666666666666668,16.666666666666668,19.999999999999982,16.666666666666668,19.999999999999993,16.666666666666668,19.999999999999993,20.000000000000004,20.000000000000004,19.999999999999993,20.000000000000004,20.000000000000004,16.666666666666668,20.000000000000004,19.999999999999982,20.000000000000004,16.666666666666668,20.000000000000004,20.000000000000004,19.999999999999982,20.000000000000004,20.000000000000004,20.000000000000004,20.000000000000004,19.999999999999982,20.000000000000004,20.000000000000004,20.000000000000004,19.999999999999982,20.000000000000004,20.000000000000004,20.000000000000004,20.000000000000004,20.000000000000004,20.000000000000004,20.000000000000004,16.666666666666668,20.000000000000004,20.000000000000004,20.000000000000004,16.666666666666668,16.666666666666668,20.000000000000004,16.666666666666668,19.999999999999982,20.000000000000004,16.666666666666668,16.666666666666668,16.666666666666668,16.666666666666668,20.000000000000004,19.999999999999993,20.000000000000004]},\"mode\":\"markers\",\"name\":\"\",\"text\":[\"wt: N536\",\"wt: K537\",\"wt: C538\",\"wt: V539\",\"wt: N540\",\"wt: F541\",\"wt: N542\",\"wt: F543\",\"wt: N544\",\"wt: G545\",\"wt: L546\",\"wt: T547\",\"wt: G548\",\"wt: T549\",\"wt: G550\",\"wt: V551\",\"wt: L552\",\"wt: T553\",\"wt: E554\",\"wt: S555\",\"wt: N556\",\"wt: K557\",\"wt: K558\",\"wt: F559\",\"wt: L560\",\"wt: P561\",\"wt: F562\",\"wt: Q563\",\"wt: Q564\",\"wt: F565\",\"wt: G566\",\"wt: R567\",\"wt: D568\",\"wt: I569\",\"wt: A570\",\"wt: D571\",\"wt: T572\",\"wt: T573\",\"wt: D574\",\"wt: A575\",\"wt: V576\",\"wt: R577\",\"wt: D578\",\"wt: P579\",\"wt: Q580\",\"wt: T581\",\"wt: L582\",\"wt: E583\",\"wt: I584\",\"wt: L585\",\"wt: D586\",\"wt: I587\",\"wt: T588\",\"wt: P589\",\"wt: C590\",\"wt: S591\",\"wt: F592\"],\"textfont\":{\"color\":\"#E58606\"},\"textposition\":\"top right\",\"type\":\"scattergl\",\"uid\":\"41c1a7a2-0d16-408d-8683-6faa2d570dcc\",\"x\":[-0.4734,-1.6287,-0.881,-1.971,-0.7543,-0.6722,-0.0446,-0.7433,-3.4076,0.0057,-2.4081,-0.9133,-5.2507,-1.3355,-0.0813,-0.1257,-2.67,-2.3301,0.3225,-1.3009,-0.278,-0.7661,-0.2344,0.1351,0.2053,1.0324,-1.7344,-0.2888,-0.0021,-0.4759,-0.8118,0.0086,-0.8543,-0.5986,0.6038,-0.1355,-0.5778,-1.0033,-2.5491,-0.666,-0.4088,-0.7794,-0.6739,-3.2073,0.3379,-1.218,-3.4096,-0.9436,-0.1016,-3.4665,-1.3148,-1.2566,0.0584,0.8086,-1.6037,-0.7251,-3.4418],\"y\":[0.2893013100436681,0.2546583850931677,0.25735294117647056,0.2791666666666667,0.29004329004329005,0.3120706575073602,0.3137450199203187,0.3118811881188119,0.2454835281615303,0.22879684418145957,0.23176823176823177,0.218014329580348,0.22633297062023938,0.2406311637080868,0.2653256704980843,0.28337874659400547,0.2711022840119166,0.33306451612903226,0.377431906614786,0.38256484149855907,0.41986947063089197,0.4047452896022331,0.4228650137741047,0.43288590604026844,0.4726264726264726,0.4490943160524672,0.4581039755351682,0.47225572979493363,0.5024968789013733,0.4825,0.48002619515389655,0.47050938337801607,0.49095780308104486,0.4706257982120051,0.4669987546699875,0.42428571428571427,0.4454477050413845,0.4431047475508666,0.4474678760393046,0.4628751974723539,0.490360435875943,0.46250986582478293,0.4666136724960254,0.4650379106992418,0.4829443447037702,0.4487072560467056,0.44370860927152317,0.42992874109263657,0.43617021276595747,0.3968253968253968,0.3909710391822828,0.3776785714285714,0.37283236994219654,0.29793510324483774,0.2751817237798546,0.24236037934668073,0.223915592028136]},{\"marker\":{\"color\":\"red\",\"size\":[20.000000000000004,20.000000000000004]},\"mode\":\"markers\",\"showlegend\":false,\"text\":[\"wt: T547\",\"wt: A570\"],\"textfont\":{\"color\":\"#E58606\"},\"textposition\":\"top right\",\"type\":\"scattergl\",\"uid\":\"b994bd67-183b-4e05-b11e-e4785bcd1fab\",\"x\":[-0.9133,0.6038],\"y\":[0.218014329580348,0.4669987546699875]}],                        {\"legend\":{\"itemclick\":\"toggleothers\",\"itemdoubleclick\":\"toggle\"},\"margin\":{\"b\":20,\"l\":20,\"r\":20,\"t\":20},\"plot_bgcolor\":\"#FFF\",\"template\":{\"data\":{\"bar\":[{\"error_x\":{\"color\":\"#2a3f5f\"},\"error_y\":{\"color\":\"#2a3f5f\"},\"marker\":{\"line\":{\"color\":\"#E5ECF6\",\"width\":0.5},\"pattern\":{\"fillmode\":\"overlay\",\"size\":10,\"solidity\":0.2}},\"type\":\"bar\"}],\"barpolar\":[{\"marker\":{\"line\":{\"color\":\"#E5ECF6\",\"width\":0.5},\"pattern\":{\"fillmode\":\"overlay\",\"size\":10,\"solidity\":0.2}},\"type\":\"barpolar\"}],\"carpet\":[{\"aaxis\":{\"endlinecolor\":\"#2a3f5f\",\"gridcolor\":\"white\",\"linecolor\":\"white\",\"minorgridcolor\":\"white\",\"startlinecolor\":\"#2a3f5f\"},\"baxis\":{\"endlinecolor\":\"#2a3f5f\",\"gridcolor\":\"white\",\"linecolor\":\"white\",\"minorgridcolor\":\"white\",\"startlinecolor\":\"#2a3f5f\"},\"type\":\"carpet\"}],\"choropleth\":[{\"colorbar\":{\"outlinewidth\":0,\"ticks\":\"\"},\"type\":\"choropleth\"}],\"contour\":[{\"colorbar\":{\"outlinewidth\":0,\"ticks\":\"\"},\"colorscale\":[[0.0,\"#0d0887\"],[0.1111111111111111,\"#46039f\"],[0.2222222222222222,\"#7201a8\"],[0.3333333333333333,\"#9c179e\"],[0.4444444444444444,\"#bd3786\"],[0.5555555555555556,\"#d8576b\"],[0.6666666666666666,\"#ed7953\"],[0.7777777777777778,\"#fb9f3a\"],[0.8888888888888888,\"#fdca26\"],[1.0,\"#f0f921\"]],\"type\":\"contour\"}],\"contourcarpet\":[{\"colorbar\":{\"outlinewidth\":0,\"ticks\":\"\"},\"type\":\"contourcarpet\"}],\"heatmap\":[{\"colorbar\":{\"outlinewidth\":0,\"ticks\":\"\"},\"colorscale\":[[0.0,\"#0d0887\"],[0.1111111111111111,\"#46039f\"],[0.2222222222222222,\"#7201a8\"],[0.3333333333333333,\"#9c179e\"],[0.4444444444444444,\"#bd3786\"],[0.5555555555555556,\"#d8576b\"],[0.6666666666666666,\"#ed7953\"],[0.7777777777777778,\"#fb9f3a\"],[0.8888888888888888,\"#fdca26\"],[1.0,\"#f0f921\"]],\"type\":\"heatmap\"}],\"heatmapgl\":[{\"colorbar\":{\"outlinewidth\":0,\"ticks\":\"\"},\"colorscale\":[[0.0,\"#0d0887\"],[0.1111111111111111,\"#46039f\"],[0.2222222222222222,\"#7201a8\"],[0.3333333333333333,\"#9c179e\"],[0.4444444444444444,\"#bd3786\"],[0.5555555555555556,\"#d8576b\"],[0.6666666666666666,\"#ed7953\"],[0.7777777777777778,\"#fb9f3a\"],[0.8888888888888888,\"#fdca26\"],[1.0,\"#f0f921\"]],\"type\":\"heatmapgl\"}],\"histogram\":[{\"marker\":{\"pattern\":{\"fillmode\":\"overlay\",\"size\":10,\"solidity\":0.2}},\"type\":\"histogram\"}],\"histogram2d\":[{\"colorbar\":{\"outlinewidth\":0,\"ticks\":\"\"},\"colorscale\":[[0.0,\"#0d0887\"],[0.1111111111111111,\"#46039f\"],[0.2222222222222222,\"#7201a8\"],[0.3333333333333333,\"#9c179e\"],[0.4444444444444444,\"#bd3786\"],[0.5555555555555556,\"#d8576b\"],[0.6666666666666666,\"#ed7953\"],[0.7777777777777778,\"#fb9f3a\"],[0.8888888888888888,\"#fdca26\"],[1.0,\"#f0f921\"]],\"type\":\"histogram2d\"}],\"histogram2dcontour\":[{\"colorbar\":{\"outlinewidth\":0,\"ticks\":\"\"},\"colorscale\":[[0.0,\"#0d0887\"],[0.1111111111111111,\"#46039f\"],[0.2222222222222222,\"#7201a8\"],[0.3333333333333333,\"#9c179e\"],[0.4444444444444444,\"#bd3786\"],[0.5555555555555556,\"#d8576b\"],[0.6666666666666666,\"#ed7953\"],[0.7777777777777778,\"#fb9f3a\"],[0.8888888888888888,\"#fdca26\"],[1.0,\"#f0f921\"]],\"type\":\"histogram2dcontour\"}],\"mesh3d\":[{\"colorbar\":{\"outlinewidth\":0,\"ticks\":\"\"},\"type\":\"mesh3d\"}],\"parcoords\":[{\"line\":{\"colorbar\":{\"outlinewidth\":0,\"ticks\":\"\"}},\"type\":\"parcoords\"}],\"pie\":[{\"automargin\":true,\"type\":\"pie\"}],\"scatter\":[{\"marker\":{\"colorbar\":{\"outlinewidth\":0,\"ticks\":\"\"}},\"type\":\"scatter\"}],\"scatter3d\":[{\"line\":{\"colorbar\":{\"outlinewidth\":0,\"ticks\":\"\"}},\"marker\":{\"colorbar\":{\"outlinewidth\":0,\"ticks\":\"\"}},\"type\":\"scatter3d\"}],\"scattercarpet\":[{\"marker\":{\"colorbar\":{\"outlinewidth\":0,\"ticks\":\"\"}},\"type\":\"scattercarpet\"}],\"scattergeo\":[{\"marker\":{\"colorbar\":{\"outlinewidth\":0,\"ticks\":\"\"}},\"type\":\"scattergeo\"}],\"scattergl\":[{\"marker\":{\"colorbar\":{\"outlinewidth\":0,\"ticks\":\"\"}},\"type\":\"scattergl\"}],\"scattermapbox\":[{\"marker\":{\"colorbar\":{\"outlinewidth\":0,\"ticks\":\"\"}},\"type\":\"scattermapbox\"}],\"scatterpolar\":[{\"marker\":{\"colorbar\":{\"outlinewidth\":0,\"ticks\":\"\"}},\"type\":\"scatterpolar\"}],\"scatterpolargl\":[{\"marker\":{\"colorbar\":{\"outlinewidth\":0,\"ticks\":\"\"}},\"type\":\"scatterpolargl\"}],\"scatterternary\":[{\"marker\":{\"colorbar\":{\"outlinewidth\":0,\"ticks\":\"\"}},\"type\":\"scatterternary\"}],\"surface\":[{\"colorbar\":{\"outlinewidth\":0,\"ticks\":\"\"},\"colorscale\":[[0.0,\"#0d0887\"],[0.1111111111111111,\"#46039f\"],[0.2222222222222222,\"#7201a8\"],[0.3333333333333333,\"#9c179e\"],[0.4444444444444444,\"#bd3786\"],[0.5555555555555556,\"#d8576b\"],[0.6666666666666666,\"#ed7953\"],[0.7777777777777778,\"#fb9f3a\"],[0.8888888888888888,\"#fdca26\"],[1.0,\"#f0f921\"]],\"type\":\"surface\"}],\"table\":[{\"cells\":{\"fill\":{\"color\":\"#EBF0F8\"},\"line\":{\"color\":\"white\"}},\"header\":{\"fill\":{\"color\":\"#C8D4E3\"},\"line\":{\"color\":\"white\"}},\"type\":\"table\"}]},\"layout\":{\"annotationdefaults\":{\"arrowcolor\":\"#2a3f5f\",\"arrowhead\":0,\"arrowwidth\":1},\"autotypenumbers\":\"strict\",\"coloraxis\":{\"colorbar\":{\"outlinewidth\":0,\"ticks\":\"\"}},\"colorscale\":{\"diverging\":[[0,\"#8e0152\"],[0.1,\"#c51b7d\"],[0.2,\"#de77ae\"],[0.3,\"#f1b6da\"],[0.4,\"#fde0ef\"],[0.5,\"#f7f7f7\"],[0.6,\"#e6f5d0\"],[0.7,\"#b8e186\"],[0.8,\"#7fbc41\"],[0.9,\"#4d9221\"],[1,\"#276419\"]],\"sequential\":[[0.0,\"#0d0887\"],[0.1111111111111111,\"#46039f\"],[0.2222222222222222,\"#7201a8\"],[0.3333333333333333,\"#9c179e\"],[0.4444444444444444,\"#bd3786\"],[0.5555555555555556,\"#d8576b\"],[0.6666666666666666,\"#ed7953\"],[0.7777777777777778,\"#fb9f3a\"],[0.8888888888888888,\"#fdca26\"],[1.0,\"#f0f921\"]],\"sequentialminus\":[[0.0,\"#0d0887\"],[0.1111111111111111,\"#46039f\"],[0.2222222222222222,\"#7201a8\"],[0.3333333333333333,\"#9c179e\"],[0.4444444444444444,\"#bd3786\"],[0.5555555555555556,\"#d8576b\"],[0.6666666666666666,\"#ed7953\"],[0.7777777777777778,\"#fb9f3a\"],[0.8888888888888888,\"#fdca26\"],[1.0,\"#f0f921\"]]},\"colorway\":[\"#636efa\",\"#EF553B\",\"#00cc96\",\"#ab63fa\",\"#FFA15A\",\"#19d3f3\",\"#FF6692\",\"#B6E880\",\"#FF97FF\",\"#FECB52\"],\"font\":{\"color\":\"#2a3f5f\"},\"geo\":{\"bgcolor\":\"white\",\"lakecolor\":\"white\",\"landcolor\":\"#E5ECF6\",\"showlakes\":true,\"showland\":true,\"subunitcolor\":\"white\"},\"hoverlabel\":{\"align\":\"left\"},\"hovermode\":\"closest\",\"mapbox\":{\"style\":\"light\"},\"paper_bgcolor\":\"white\",\"plot_bgcolor\":\"#E5ECF6\",\"polar\":{\"angularaxis\":{\"gridcolor\":\"white\",\"linecolor\":\"white\",\"ticks\":\"\"},\"bgcolor\":\"#E5ECF6\",\"radialaxis\":{\"gridcolor\":\"white\",\"linecolor\":\"white\",\"ticks\":\"\"}},\"scene\":{\"xaxis\":{\"backgroundcolor\":\"#E5ECF6\",\"gridcolor\":\"white\",\"gridwidth\":2,\"linecolor\":\"white\",\"showbackground\":true,\"ticks\":\"\",\"zerolinecolor\":\"white\"},\"yaxis\":{\"backgroundcolor\":\"#E5ECF6\",\"gridcolor\":\"white\",\"gridwidth\":2,\"linecolor\":\"white\",\"showbackground\":true,\"ticks\":\"\",\"zerolinecolor\":\"white\"},\"zaxis\":{\"backgroundcolor\":\"#E5ECF6\",\"gridcolor\":\"white\",\"gridwidth\":2,\"linecolor\":\"white\",\"showbackground\":true,\"ticks\":\"\",\"zerolinecolor\":\"white\"}},\"shapedefaults\":{\"line\":{\"color\":\"#2a3f5f\"}},\"ternary\":{\"aaxis\":{\"gridcolor\":\"white\",\"linecolor\":\"white\",\"ticks\":\"\"},\"baxis\":{\"gridcolor\":\"white\",\"linecolor\":\"white\",\"ticks\":\"\"},\"bgcolor\":\"#E5ECF6\",\"caxis\":{\"gridcolor\":\"white\",\"linecolor\":\"white\",\"ticks\":\"\"}},\"title\":{\"x\":0.05},\"xaxis\":{\"automargin\":true,\"gridcolor\":\"white\",\"linecolor\":\"white\",\"ticks\":\"\",\"title\":{\"standoff\":15},\"zerolinecolor\":\"white\",\"zerolinewidth\":2},\"yaxis\":{\"automargin\":true,\"gridcolor\":\"white\",\"linecolor\":\"white\",\"ticks\":\"\",\"title\":{\"standoff\":15},\"zerolinecolor\":\"white\",\"zerolinewidth\":2}}},\"xaxis\":{\"linecolor\":\"#BCCCDC\",\"mirror\":true,\"showgrid\":true,\"title\":{\"text\":\"mutability_score(DCA)\"}},\"yaxis\":{\"linecolor\":\"#BCCCDC\",\"mirror\":true,\"showgrid\":true,\"title\":{\"text\":\"IEDB - Response Frequency\"}}},                        {\"responsive\": true}                    ).then(function(){\n",
       "                            \n",
       "var gd = document.getElementById('a95b4e5f-c827-4734-a21a-7a51913d794c');\n",
       "var x = new MutationObserver(function (mutations, observer) {{\n",
       "        var display = window.getComputedStyle(gd).display;\n",
       "        if (!display || display === 'none') {{\n",
       "            console.log([gd, 'removed!']);\n",
       "            Plotly.purge(gd);\n",
       "            observer.disconnect();\n",
       "        }}\n",
       "}});\n",
       "\n",
       "// Listen for the removal of the full notebook cells\n",
       "var notebookContainer = gd.closest('#notebook-container');\n",
       "if (notebookContainer) {{\n",
       "    x.observe(notebookContainer, {childList: true});\n",
       "}}\n",
       "\n",
       "// Listen for the clearing of the current output cell\n",
       "var outputEl = gd.closest('.output');\n",
       "if (outputEl) {{\n",
       "    x.observe(outputEl, {childList: true});\n",
       "}}\n",
       "\n",
       "                        })                };                });            </script>        </div>"
      ]
     },
     "metadata": {},
     "output_type": "display_data"
    },
    {
     "data": {
      "text/plain": [
       "0"
      ]
     },
     "execution_count": 66,
     "metadata": {},
     "output_type": "execute_result"
    }
   ],
   "source": [
    "'''\n",
    "Let's repeat the analysis DCA mutability score vs. the IEDB response frequency \n",
    "for the CoV_S2_C domain of the Spike protein\n",
    "highlighting position mutated in Variants of Concerns (list_pos_mutated)\n",
    "'''\n",
    "prot = 'Spike'\n",
    "dom = \"CoV_S1_C\"\n",
    "score = 'mutability_score(DCA)'\n",
    "df = load_data_dca(path_data = \"./data/data_dca_proteome.csv\", protein = prot, domain = dom)\n",
    "\n",
    "#get IEDB available versions:\n",
    "path_IEDB_updated_data = \"./data/IEDB_updated_data/{0}\".format(prot)\n",
    "list_IEDB_versions =  get_IEDB_versions(path_IEDB_epitope_data = path_IEDB_updated_data )\n",
    "\n",
    "IEDB_ver = '05Dec2021'\n",
    "df = get_updated_IEDB(df, IEDB_ver, path_IEDB_updated_data)\n",
    "\n",
    "#add VOC red dot\n",
    "df_VOC_prot = df_VOC.loc[df_VOC['protein'] ==prot] \n",
    "list_pos_mutated = df_VOC_prot['position'].astype(int).values\n",
    "\n",
    "plot_dca_IEDB(df, score, list_pos = list_pos_mutated)"
   ]
  }
 ],
 "metadata": {
  "kernelspec": {
   "display_name": "Python 3 (ipykernel)",
   "language": "python",
   "name": "python3"
  },
  "language_info": {
   "codemirror_mode": {
    "name": "ipython",
    "version": 3
   },
   "file_extension": ".py",
   "mimetype": "text/x-python",
   "name": "python",
   "nbconvert_exporter": "python",
   "pygments_lexer": "ipython3",
   "version": "3.7.10"
  }
 },
 "nbformat": 4,
 "nbformat_minor": 4
}
