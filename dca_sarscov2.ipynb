{
 "cells": [
  {
   "cell_type": "code",
   "execution_count": 1,
   "metadata": {},
   "outputs": [
    {
     "name": "stdout",
     "output_type": "stream",
     "text": [
      "Cloning into 'DCA_SARS-CoV-2'...\n",
      "remote: Enumerating objects: 115, done.\u001b[K\n",
      "remote: Counting objects: 100% (115/115), done.\u001b[K\n",
      "remote: Compressing objects: 100% (84/84), done.\u001b[K\n",
      "remote: Total 115 (delta 37), reused 106 (delta 28), pack-reused 0\u001b[K\n",
      "Receiving objects: 100% (115/115), 6.27 MiB | 3.17 MiB/s, done.\n",
      "Resolving deltas: 100% (37/37), done.\n",
      "/home/giancarlo/Documents/lab_work/martin_project_CoVid-19/DCA_SARS-CoV-2/DCA_SARS-CoV-2\n"
     ]
    }
   ],
   "source": [
    "#################################\n",
    "#Run this cell if using Google COLAB\n",
    "#################################\n",
    "\n",
    "#clone the repository and the data to run the notebook on Google Colab\n",
    "!git clone https://github.com/GiancarloCroce/DCA_SARS-CoV-2\n",
    "%cd ./DCA_SARS-CoV-2\n",
    "#for plotly on google colab\n",
    "import plotly.io as pio\n",
    "pio.renderers.default = 'colab'"
   ]
  },
  {
   "cell_type": "code",
   "execution_count": 1,
   "metadata": {},
   "outputs": [],
   "source": [
    "import pandas as pd\n",
    "import numpy as np\n",
    "import seaborn as sns\n",
    "import os\n",
    "import pandas as pd\n",
    "import datetime\n",
    "from sklearn import preprocessing\n",
    "import matplotlib.pyplot as plt\n",
    "from plotly.offline import init_notebook_mode, iplot\n",
    "from plotly.graph_objs import *\n",
    "import plotly.graph_objects as go  \n",
    "from sklearn import metrics\n",
    "from utils import load_data_dca, plot_roc, plot_dca_IEDB, plot_dca_IEDB_BTcell\n",
    "from utils import get_IEDB_versions, compute_RF, get_updated_IEDB\n"
   ]
  },
  {
   "cell_type": "markdown",
   "metadata": {},
   "source": [
    "# DCA for SARS-CoV-2\n",
    "\n",
    "We assign a [Direct Coupling Analysis](https://en.wikipedia.org/wiki/Direct_coupling_analysis) mutability score to each position of the SARS-CoV-2 proteome contained in a PFAM domain (see Section **Data** at the end of the notebook).\n",
    "Column in the dataframe: **mutability_score(DCA)**.\n",
    "\n",
    "Similarly, we compute the mutability scores using conservation profiles (hereinafter independent models - IND).\n",
    "Column in the dataframe: **mutability_score(IND)**.\n",
    "\n",
    "Both the IND and the DCA model are unsupervised models (no SARS-CoV-2 data in the training set), trained on multiple sequence alignments sequence alignments (MSA) of SARS-CoV-2 related coronaviruses.\n",
    "\n",
    "We consider as reference the aa_Wuhan-Hu-1 strain (Accession [NC045512](https://www.genome.jp/dbget-bin/www_bget?refseq:NC_045512)). Sites with high mutability scores are expected to have already mutated or to mutate in the future. Our predictions are validated with the mutations observed in SARS-CoV-2 proteomes deposited in the GISAID [https://www.gisaid.org/] database.\n",
    "\n",
    "We consider 3 different time periods for the GISAID data:\n",
    "1.  January 2020 to July 2020 (Column: **observed_mut_Jul2020**)\n",
    "2.  January 2020 to December 2020 (Column: **observed_mut_Dec2020**)\n",
    "3.  January 2020 to May 2021 (Column: **observed_mut_May2021**)\n"
   ]
  },
  {
   "cell_type": "markdown",
   "metadata": {},
   "source": [
    "## Receptor Binding Domain\n",
    "\n",
    "Here we restrict our analysis to the Receptor Binding Domain (```dom = \"bCoV_S1_RBD\"```) of the SARS-CoV-2 Spike protein (```prot = \"Spike\" ```)."
   ]
  },
  {
   "cell_type": "code",
   "execution_count": 2,
   "metadata": {},
   "outputs": [
    {
     "name": "stdout",
     "output_type": "stream",
     "text": [
      "     protein       domain  position_protein  position_domain aa_Wuhan-Hu-1  \\\n",
      "7618   Spike  bCoV_S1_RBD               519            171.0             H   \n",
      "7502   Spike  bCoV_S1_RBD               403             55.0             R   \n",
      "7589   Spike  bCoV_S1_RBD               490            142.0             F   \n",
      "7592   Spike  bCoV_S1_RBD               493            145.0             Q   \n",
      "7471   Spike  bCoV_S1_RBD               372             24.0             A   \n",
      "...      ...          ...               ...              ...           ...   \n",
      "7490   Spike  bCoV_S1_RBD               391             43.0             C   \n",
      "7522   Spike  bCoV_S1_RBD               423             75.0             Y   \n",
      "7531   Spike  bCoV_S1_RBD               432             84.0             C   \n",
      "7521   Spike  bCoV_S1_RBD               422             74.0             N   \n",
      "7478   Spike  bCoV_S1_RBD               379             31.0             C   \n",
      "\n",
      "      mutability_score(IND)  mutability_score(DCA)  observed_mut_May2021  \\\n",
      "7618                 0.7493                 0.2159                  22.0   \n",
      "7502                -0.1660                 0.0615                  12.0   \n",
      "7589                 0.7896                 0.0474                  73.0   \n",
      "7592                 0.3676                 0.0448                  35.0   \n",
      "7471                -0.2192                 0.0083                  23.0   \n",
      "...                     ...                    ...                   ...   \n",
      "7490                -1.8854                -1.5245                   1.0   \n",
      "7522                -2.4038                -1.5252                   1.0   \n",
      "7531                -2.0482                -1.5387                   2.0   \n",
      "7521                -2.1019                -1.5518                   1.0   \n",
      "7478                -1.9842                -1.5544                   5.0   \n",
      "\n",
      "      observed_mut_Dec2020  observed_mut_Jul2020  \n",
      "7618                   6.0                   3.0  \n",
      "7502                   4.0                   4.0  \n",
      "7589                   6.0                   1.0  \n",
      "7592                   6.0                   1.0  \n",
      "7471                   5.0                   1.0  \n",
      "...                    ...                   ...  \n",
      "7490                   0.0                   0.0  \n",
      "7522                   0.0                   0.0  \n",
      "7531                   1.0                   1.0  \n",
      "7521                   0.0                   0.0  \n",
      "7478                   1.0                   0.0  \n",
      "\n",
      "[178 rows x 10 columns]\n"
     ]
    }
   ],
   "source": [
    "# Load data (for a specific protein and domain)\n",
    "prot = \"Spike\"\n",
    "dom = \"bCoV_S1_RBD\"\n",
    "\n",
    "df = load_data_dca(path_data = \"./data/data_dca_proteome.csv\", protein = prot, domain = dom)\n",
    "\n",
    "#sort by DCA-mutability score to identify putative mutable sites \n",
    "df = df.sort_values(by =\"mutability_score(DCA)\", ascending = False)\n",
    "print(df)"
   ]
  },
  {
   "cell_type": "markdown",
   "metadata": {},
   "source": [
    "## 1. Predicting mutable sites\n",
    "\n",
    "In Fig. 2 of the paper we use the DCA and IND model to identify mutations already present in circulating strains.\n",
    "\n",
    "We consider as:\n",
    "- **mutable** (1):  a site with **N_mut or more** observed mutations in GISAID strains\n",
    "- **constrained** (0): a site with **less than N_mut**  observed mutations in GISAID strains\n",
    "\n",
    "Here we fix N_mut=16 and include GIDAS data from January 2020 to May 2021.\n"
   ]
  },
  {
   "cell_type": "code",
   "execution_count": 3,
   "metadata": {},
   "outputs": [
    {
     "name": "stdout",
     "output_type": "stream",
     "text": [
      "******************************************************\n",
      "   GISAID data from Jan 2020 to observed_mut_May2021\n",
      "******************************************************\n",
      "113 sites are constrained (tp = 0)\n",
      "     constrained if < 16 mutations in GISAID\n",
      "65 sites are mutable (tp = 1)\n",
      "     mutable if >= 16 mutations in GISAID\n"
     ]
    },
    {
     "data": {
      "image/png": "[encoded data removed]",
      "text/plain": [
       "<Figure size 432x288 with 1 Axes>"
      ]
     },
     "metadata": {
      "needs_background": "light"
     },
     "output_type": "display_data"
    }
   ],
   "source": [
    "## ROC DCA vs. IND model, FIG.2\n",
    "\n",
    "# define constrained and mutable sites\n",
    "N_mut = 16\n",
    "constrained = range(0,N_mut)\n",
    "mutable = range(N_mut,1000000) #1000000 a random big number \n",
    "\n",
    "# GISAID data \n",
    "GISAID = 'observed_mut_May2021'\n",
    "\n",
    "list_score = ['mutability_score(IND)', 'mutability_score(DCA)']\n",
    "plot_roc(constrained, mutable, GISAID, list_score, df)\n",
    "\n",
    "\n",
    "### print some info\n",
    "num_contrained = np.sum(df[GISAID].isin(constrained))\n",
    "num_mutable = np.sum(df[GISAID].isin(mutable))\n",
    "\n",
    "print(\"******************************************************\")\n",
    "print(\"   GISAID data from Jan 2020 to {0}\".format(GISAID))\n",
    "print(\"******************************************************\")\n",
    "print(\"{0} sites are constrained (tp = 0)\".format(num_contrained))\n",
    "print('     constrained if < '+str(N_mut) + ' mutations in GISAID')\n",
    "print(\"{0} sites are mutable (tp = 1)\".format(num_mutable))\n",
    "print('     mutable if >= '+str(N_mut) + ' mutations in GISAID')"
   ]
  },
  {
   "cell_type": "markdown",
   "metadata": {},
   "source": [
    "### Mutations are accumulating\n",
    "\n",
    "Here we access the predictive power of the DCA mutability scores considering  3 timepoints (July 2020, December 2020, May 2020) for the GISAID data.\n",
    "We observe an increasing agreement between our model and the observed variability as more data become available over time."
   ]
  },
  {
   "cell_type": "code",
   "execution_count": 4,
   "metadata": {},
   "outputs": [
    {
     "data": {
      "image/png": "[encoded data removed]",
      "text/plain": [
       "<Figure size 432x288 with 1 Axes>"
      ]
     },
     "metadata": {
      "needs_background": "light"
     },
     "output_type": "display_data"
    }
   ],
   "source": [
    "## ROC DCA, GISAID at different time,  FIG.2\n",
    "\n",
    "# define constrained and mutable sites\n",
    "N_mut = 4\n",
    "constrained = range(0,N_mut)\n",
    "mutable = range(N_mut,1000000) #1000000: a random big number\n",
    "list_score = ['mutability_score(DCA)']\n",
    "              \n",
    "observed_mutability = 'observed_mut_Jul2020'\n",
    "plot_roc(constrained, mutable, observed_mutability, list_score, df, add_obs_mut = True)\n",
    "observed_mutability = 'observed_mut_Dec2020'\n",
    "plot_roc(constrained, mutable, observed_mutability, list_score, df, add_obs_mut = True)\n",
    "observed_mutability = 'observed_mut_May2021'\n",
    "plot_roc(constrained, mutable, observed_mutability, list_score, df, add_obs_mut = True)\n",
    "plt.tight_layout()"
   ]
  },
  {
   "cell_type": "markdown",
   "metadata": {},
   "source": [
    "## 2. Predicting immunologically relevant mutable sites\n",
    "\n",
    "Nonsynonymous mutations may modify regions of the SARS-CoV-2 genome targeted by B or T cells (known as B/T cell epitopes). \n",
    "\n",
    "The [IEDB](https://www.iedb.org/) collects experimentally validated B and T cell epitopes.\n",
    "Each SARS-CoV-2 sites is associated with the corresponding epitope response frequency (RF), defined as the number of positively responded subjects, averaged over all epitopes mapped to that position. See  https://help.iedb.org/hc/en-us/articles/114094147751 for more details.\n",
    "\n",
    "Amino acid substitution at high-RF sites have a higher risk of inducing immune escape as many positively responding epitopes are modified. "
   ]
  },
  {
   "cell_type": "markdown",
   "metadata": {},
   "source": [
    "### DCA and IEDB (paper results)\n",
    "Here we plot the DCA mutability score vs. the IEDB response frequency for each site of the RDB domain (Fig 3B).\n",
    "\n",
    "The interesting region is the **upper right corner** containing sites which are expected to be mutable (high DCA score) and that can induce immune escape (high RF).\n",
    "\n",
    "In the paper we use:\n",
    "- IDEB epitope data of 16 May 2021. \n",
    "- May 18th, 2021 the WHO weekly epidemiological report on Covid-19 (https://www.who.int/publications/m/item/weekly-epidemiological-update-on-covid-19---18-may-2021) the define Variants of Concern (VOC) or Variants of Interest (VOI). They have mutations in the 417, 452, 477, 478, 483, 484 and 501 positions of the RBD domain (red points in the plot).\n",
    "\n",
    "See the next cell for updated IEDB and WHO data. "
   ]
  },
  {
   "cell_type": "code",
   "execution_count": 40,
   "metadata": {},
   "outputs": [
    {
     "data": {
      "application/vnd.plotly.v1+json": {
       "config": {
        "linkText": "Export to plot.ly",
        "plotlyServerURL": "https://plot.ly",
        "showLink": false
       },
       "data": [
        {
         "marker": {
          "color": "#5D69B1",
          "size": [
           20,
           20,
           20.000000000000004,
           20,
           20,
           16.666666666666668,
           14.285714285714285,
           12.499999999999998,
           14.285714285714285,
           16.666666666666664,
           12.5,
           14.285714285714286,
           11.11111111111111,
           14.285714285714285,
           16.666666666666668,
           9.090909090909092,
           9.090909090909092,
           6.666666666666666,
           6.666666666666666,
           7.142857142857142,
           7.14285714285714,
           7.14285714285714,
           7.142857142857142,
           7.142857142857142,
           7.142857142857142,
           6.666666666666668,
           6.666666666666668,
           7.142857142857145,
           7.692307692307689,
           8.33333333333333,
           7.142857142857142,
           6.249999999999999,
           6.666666666666666,
           6.250000000000001,
           7.142857142857145,
           10.000000000000002,
           10.000000000000002,
           10,
           12.499999999999998,
           9.999999999999996,
           11.111111111111109,
           10.000000000000002,
           11.11111111111111,
           9.090909090909092,
           11.11111111111111,
           16.666666666666668,
           16.666666666666668,
           14.285714285714285,
           16.666666666666668,
           16.666666666666668,
           16.666666666666668,
           14.285714285714285,
           14.285714285714285,
           16.666666666666668,
           12.499999999999998,
           16.666666666666664,
           11.11111111111111,
           12.499999999999998,
           14.285714285714286,
           10.000000000000002,
           12.499999999999998,
           14.285714285714285,
           14.285714285714285,
           11.11111111111111,
           14.285714285714285,
           11.11111111111111,
           11.111111111111109,
           11.111111111111109,
           12.500000000000007,
           14.285714285714285,
           14.285714285714286,
           11.111111111111109,
           11.111111111111109,
           12.500000000000002,
           12.500000000000002,
           20.000000000000004,
           20.000000000000004,
           20,
           14.285714285714286,
           14.285714285714285,
           16.666666666666668,
           16.666666666666668,
           25.000000000000004,
           16.666666666666668,
           16.666666666666668,
           16.666666666666668,
           20,
           20,
           16.666666666666668,
           20,
           16.666666666666664,
           16.666666666666664,
           14.285714285714285,
           20,
           16.666666666666668,
           16.666666666666668,
           16.666666666666668,
           14.28571428571429,
           16.666666666666664,
           16.666666666666668,
           12.500000000000007,
           16.666666666666668,
           20,
           16.666666666666668,
           14.28571428571428,
           20,
           14.285714285714285,
           14.285714285714285,
           16.666666666666668,
           16.666666666666668,
           16.666666666666668,
           16.666666666666668,
           20,
           20.000000000000004,
           16.666666666666668,
           16.666666666666668,
           16.666666666666664,
           14.285714285714286,
           14.285714285714286,
           14.285714285714285,
           14.285714285714286,
           12.500000000000002,
           14.285714285714286,
           14.285714285714285,
           12.499999999999998,
           12.500000000000002,
           11.11111111111111,
           11.11111111111111,
           12.499999999999998,
           11.111111111111109,
           12.5,
           14.285714285714285,
           16.666666666666668,
           14.285714285714285,
           14.285714285714285,
           16.666666666666668,
           14.285714285714285,
           14.285714285714295,
           16.666666666666668,
           14.285714285714285,
           14.285714285714285,
           14.285714285714285,
           14.285714285714285,
           14.285714285714285,
           16.666666666666668,
           14.285714285714285,
           12.499999999999998,
           14.285714285714285,
           16.666666666666668,
           14.28571428571428,
           14.285714285714285,
           14.285714285714285,
           14.285714285714295,
           12.499999999999998,
           16.666666666666668,
           14.285714285714286,
           12.500000000000007,
           16.666666666666668,
           16.666666666666668,
           14.285714285714285,
           16.666666666666668,
           20.000000000000004,
           16.666666666666668,
           14.285714285714286,
           16.666666666666668,
           16.666666666666664,
           14.285714285714286,
           14.285714285714285,
           12.500000000000002,
           14.285714285714285,
           16.666666666666664,
           16.666666666666668,
           20,
           20,
           16.666666666666668,
           10.000000000000002,
           9.090909090909092,
           9.999999999999996
          ]
         },
         "mode": "markers",
         "name": "",
         "text": [
          "wt: S349",
          "wt: V350",
          "wt: Y351",
          "wt: A352",
          "wt: W353",
          "wt: N354",
          "wt: R355",
          "wt: K356",
          "wt: R357",
          "wt: I358",
          "wt: S359",
          "wt: N360",
          "wt: C361",
          "wt: V362",
          "wt: A363",
          "wt: D364",
          "wt: Y365",
          "wt: S366",
          "wt: V367",
          "wt: L368",
          "wt: Y369",
          "wt: N370",
          "wt: S371",
          "wt: A372",
          "wt: S373",
          "wt: F374",
          "wt: S375",
          "wt: T376",
          "wt: F377",
          "wt: K378",
          "wt: C379",
          "wt: Y380",
          "wt: G381",
          "wt: V382",
          "wt: S383",
          "wt: P384",
          "wt: T385",
          "wt: K386",
          "wt: L387",
          "wt: N388",
          "wt: D389",
          "wt: L390",
          "wt: C391",
          "wt: F392",
          "wt: T393",
          "wt: N394",
          "wt: V395",
          "wt: Y396",
          "wt: A397",
          "wt: D398",
          "wt: S399",
          "wt: F400",
          "wt: V401",
          "wt: I402",
          "wt: R403",
          "wt: G404",
          "wt: D405",
          "wt: E406",
          "wt: V407",
          "wt: R408",
          "wt: Q409",
          "wt: I410",
          "wt: A411",
          "wt: P412",
          "wt: G413",
          "wt: Q414",
          "wt: T415",
          "wt: G416",
          "wt: K417",
          "wt: I418",
          "wt: A419",
          "wt: D420",
          "wt: Y421",
          "wt: N422",
          "wt: Y423",
          "wt: K424",
          "wt: L425",
          "wt: P426",
          "wt: D427",
          "wt: D428",
          "wt: F429",
          "wt: T430",
          "wt: G431",
          "wt: C432",
          "wt: V433",
          "wt: I434",
          "wt: A435",
          "wt: W436",
          "wt: N437",
          "wt: S438",
          "wt: N439",
          "wt: N440",
          "wt: L441",
          "wt: D442",
          "wt: S443",
          "wt: K444",
          "wt: V445",
          "wt: G446",
          "wt: G447",
          "wt: N448",
          "wt: Y449",
          "wt: N450",
          "wt: Y451",
          "wt: L452",
          "wt: Y453",
          "wt: R454",
          "wt: L455",
          "wt: F456",
          "wt: R457",
          "wt: K458",
          "wt: S459",
          "wt: N460",
          "wt: L461",
          "wt: K462",
          "wt: P463",
          "wt: F464",
          "wt: E465",
          "wt: R466",
          "wt: D467",
          "wt: I468",
          "wt: S469",
          "wt: T470",
          "wt: E471",
          "wt: I472",
          "wt: Y473",
          "wt: Q474",
          "wt: A475",
          "wt: G476",
          "wt: S477",
          "wt: T478",
          "wt: P479",
          "wt: C480",
          "wt: N481",
          "wt: G482",
          "wt: V483",
          "wt: E484",
          "wt: G485",
          "wt: F486",
          "wt: N487",
          "wt: C488",
          "wt: Y489",
          "wt: F490",
          "wt: P491",
          "wt: L492",
          "wt: Q493",
          "wt: S494",
          "wt: Y495",
          "wt: G496",
          "wt: F497",
          "wt: Q498",
          "wt: P499",
          "wt: T500",
          "wt: N501",
          "wt: G502",
          "wt: V503",
          "wt: G504",
          "wt: Y505",
          "wt: Q506",
          "wt: P507",
          "wt: Y508",
          "wt: R509",
          "wt: V510",
          "wt: V511",
          "wt: V512",
          "wt: L513",
          "wt: S514",
          "wt: F515",
          "wt: E516",
          "wt: L517",
          "wt: L518",
          "wt: H519",
          "wt: A520",
          "wt: P521",
          "wt: A522",
          "wt: T523",
          "wt: V524",
          "wt: C525",
          "wt: G526"
         ],
         "textfont": {
          "color": "#E58606"
         },
         "textposition": "top right",
         "type": "scattergl",
         "uid": "12712c30-7cc7-453d-a8a7-a84fc40cd4db",
         "x": [
          -1.2046,
          -1.1667,
          -1.2678,
          -1.1347,
          -1.3433,
          -0.6908,
          -1.46,
          -0.8585,
          -0.8866,
          -1.1399,
          -1.0692,
          -1.0716,
          -1.4536,
          -1.1652,
          -1.2195,
          -1.2435,
          -1.2247,
          -1.0245,
          -1.1382,
          -1.3272,
          -1.2234,
          -1.2102,
          -1.251,
          0.0083,
          -1.0373,
          -1.1951,
          -1.271,
          -1.2014,
          -1.3153,
          -1.0351,
          -1.5544,
          -1.2908,
          -1.3344,
          -1.4432,
          -1.3011,
          -1.0483,
          -1.0093,
          -1.3027,
          -1.3825,
          -1.0351,
          -1.3047,
          -1.2514,
          -1.5245,
          -1.2383,
          -0.6168,
          -0.8912,
          -1.2365,
          -1.2549,
          -1.2162,
          -1.4762,
          -0.9234,
          -1.434,
          -0.9475,
          -0.4977,
          0.0615,
          -1.0926,
          -1.1401,
          -0.6859,
          -1.1573,
          -1.1722,
          -1.2426,
          -1.0136,
          -1.2492,
          -1.257,
          -1.1064,
          -1.1209,
          -1.1667,
          -1.4381,
          -0.4315,
          -1.3088,
          -1.2311,
          -1.2382,
          -1.374,
          -1.5518,
          -1.5252,
          -1.2005,
          -1.339,
          -1.3234,
          -1.2182,
          -1.2017,
          -1.3508,
          -0.9311,
          -1.3138,
          -1.5387,
          -1.2237,
          -0.7544,
          -1.3137,
          -1.2219,
          -1.1781,
          -0.6044,
          -0.4444,
          -0.2092,
          -0.2007,
          -1.1966,
          -0.3077,
          -0.4083,
          -0.0565,
          -0.5834,
          -0.6227,
          -0.9643,
          -0.6399,
          -0.7114,
          -1.0353,
          -0.9576,
          -1.1071,
          -1.243,
          -0.6609,
          -0.7466,
          -1.1185,
          -0.725,
          -0.6361,
          -0.369,
          -0.9594,
          -0.9182,
          -1.2839,
          -0.8403,
          -1.0916,
          -1.1957,
          -1.2306,
          -0.8062,
          -1.1259,
          -0.608,
          -0.5911,
          -0.8332,
          -0.8968,
          -0.7201,
          -0.5693,
          -0.8152,
          -0.6329,
          -0.6578,
          -0.8332,
          -1.2501,
          -0.7105,
          -0.6489,
          -0.317,
          -0.2097,
          -0.9483,
          -0.2134,
          -1.0947,
          -1.1891,
          -1.0939,
          0.0474,
          -1.1151,
          -1.2033,
          0.0448,
          -0.3161,
          -1.2157,
          -1.1445,
          -1.2366,
          -0.111,
          -0.8526,
          -0.9683,
          -0.0427,
          -1.1747,
          -0.902,
          -0.7454,
          -0.6702,
          -1.2438,
          -1.0639,
          -0.8218,
          -1.1835,
          -1.1479,
          -1.2008,
          -1.2642,
          -1.1848,
          -1.2699,
          -1.1306,
          -1.1416,
          -1.1875,
          -1.2267,
          0.2159,
          -0.8394,
          -1.1793,
          -1.2426,
          -1.2803,
          -1.4834,
          -1.5027,
          -1.2935
         ],
         "y": [
          0.0735632183908046,
          0.069284064665127,
          0.0930232558139534,
          0.0692124105011933,
          0.0669856459330143,
          0.0955631399317406,
          0.0893470790378006,
          0.1588785046728972,
          0.1516853932584269,
          0.0622950819672131,
          0.1445086705202312,
          0.0766129032258064,
          0.1707317073170731,
          0.0702479338842975,
          0.074074074074074,
          0.1229508196721311,
          0.1481481481481481,
          0.1743119266055046,
          0.1743119266055046,
          0.1818181818181818,
          0.4906542056074766,
          0.4925373134328358,
          0.3875,
          0.3875,
          0.1759259259259259,
          0.4096385542168674,
          0.391304347826087,
          0.3988439306358382,
          0.4977973568281938,
          0.4894514767932489,
          0.5412371134020618,
          0.4482758620689655,
          0.3782051282051282,
          0.4160583941605839,
          0.5291005291005291,
          0.3271604938271605,
          0.3202614379084967,
          0.2592592592592592,
          0.1212121212121212,
          0.2226277372262773,
          0.117391304347826,
          0.2446808510638297,
          0.1100478468899521,
          0.2403100775193798,
          0.1100478468899521,
          0.0884146341463414,
          0.0856269113149847,
          0.0891089108910891,
          0.086092715231788,
          0.086092715231788,
          0.086092715231788,
          0.0888157894736842,
          0.0891089108910891,
          0.0762942779291553,
          0.2796610169491525,
          0.0613207547169811,
          0.160337552742616,
          0.0962343096234309,
          0.0769230769230769,
          0.247787610619469,
          0.1281138790035587,
          0.085820895522388,
          0.0930232558139534,
          0.1947194719471947,
          0.1,
          0.2742857142857143,
          0.2320261437908496,
          0.2307692307692307,
          0.4356261022927689,
          0.0982456140350877,
          0.1107266435986159,
          0.2212121212121212,
          0.234375,
          0.1058394160583941,
          0.1058394160583941,
          0.0907127429805615,
          0.0920770877944325,
          0.0691358024691358,
          0.1419068736141907,
          0.1494505494505494,
          0.1456953642384106,
          0.1456953642384106,
          0.0660146699266503,
          0.0753623188405797,
          0.0780346820809248,
          0.0539568345323741,
          0.057347670250896,
          0.0462633451957295,
          0.056338028169014,
          0.0496453900709219,
          0.065359477124183,
          0.1044776119402985,
          0.1489841986455982,
          0.0688775510204081,
          0.0759493670886076,
          0.1287553648068669,
          0.1775510204081632,
          0.2682119205298013,
          0.106430155210643,
          0.1232323232323232,
          0.309375,
          0.1688555347091932,
          0.0981963927855711,
          0.1903052064631956,
          0.2470588235294117,
          0.1043643263757115,
          0.2944693572496263,
          0.2815829528158295,
          0.1639639639639639,
          0.1743772241992882,
          0.1183206106870229,
          0.156934306569343,
          0.0833333333333333,
          0.0923694779116465,
          0.0960698689956331,
          0.0967741935483871,
          0.1072319201995012,
          0.1129476584022038,
          0.1132596685082873,
          0.1191135734072022,
          0.1092436974789916,
          0.175,
          0.1388888888888889,
          0.1621621621621621,
          0.226044226044226,
          0.1687898089171974,
          0.2627118644067797,
          0.248502994011976,
          0.2270114942528735,
          0.1510067114093959,
          0.1130742049469964,
          0.3648881239242685,
          0.3795811518324607,
          0.3820078226857888,
          0.3930857874519846,
          0.4793103448275862,
          0.4144254278728606,
          0.4328358208955223,
          0.407942238267148,
          0.3419972640218878,
          0.4161979752530934,
          0.4113389626055488,
          0.3211781206171108,
          0.3520749665327978,
          0.428066037735849,
          0.3834498834498834,
          0.240325865580448,
          0.2333333333333333,
          0.0970654627539503,
          0.2411642411642411,
          0.1938997821350762,
          0.230607966457023,
          0.4366812227074236,
          0.2805907172995781,
          0.1253196930946291,
          0.1408114558472553,
          0.3085714285714285,
          0.128395061728395,
          0.1262376237623762,
          0.1326781326781326,
          0.1152882205513784,
          0.0902061855670103,
          0.1145833333333333,
          0.1128608923884514,
          0.1243523316062176,
          0.1363636363636363,
          0.1386138613861386,
          0.1352785145888594,
          0.1961722488038277,
          0.1189189189189189,
          0.1030640668523676,
          0.0878186968838526,
          0.0694864048338368,
          0.0694864048338368,
          0.072289156626506,
          0.3202416918429003,
          0.335548172757475,
          0.3388157894736842
         ]
        },
        {
         "marker": {
          "color": "red",
          "size": [
           12.500000000000007,
           16.666666666666668,
           12.499999999999998,
           11.111111111111109,
           14.285714285714285,
           16.666666666666668,
           14.285714285714295
          ]
         },
         "mode": "markers",
         "showlegend": false,
         "text": [
          "wt: K417",
          "wt: L452",
          "wt: S477",
          "wt: T478",
          "wt: V483",
          "wt: E484",
          "wt: N501"
         ],
         "textfont": {
          "color": "#E58606"
         },
         "textposition": "top right",
         "type": "scattergl",
         "uid": "dd6c5481-d40f-414d-b3aa-5df198453249",
         "x": [
          -0.4315,
          -0.9576,
          -0.6329,
          -0.6578,
          -0.317,
          -0.2097,
          -0.0427
         ],
         "y": [
          0.4356261022927689,
          0.1903052064631956,
          0.2270114942528735,
          0.1510067114093959,
          0.3930857874519846,
          0.4793103448275862,
          0.4366812227074236
         ]
        }
       ],
       "layout": {
        "legend": {
         "itemclick": "toggleothers",
         "itemdoubleclick": "toggle"
        },
        "margin": {
         "b": 20,
         "l": 20,
         "r": 20,
         "t": 20
        },
        "plot_bgcolor": "#FFF",
        "template": {
         "data": {
          "bar": [
           {
            "error_x": {
             "color": "#2a3f5f"
            },
            "error_y": {
             "color": "#2a3f5f"
            },
            "marker": {
             "line": {
              "color": "#E5ECF6",
              "width": 0.5
             },
             "pattern": {
              "fillmode": "overlay",
              "size": 10,
              "solidity": 0.2
             }
            },
            "type": "bar"
           }
          ],
          "barpolar": [
           {
            "marker": {
             "line": {
              "color": "#E5ECF6",
              "width": 0.5
             },
             "pattern": {
              "fillmode": "overlay",
              "size": 10,
              "solidity": 0.2
             }
            },
            "type": "barpolar"
           }
          ],
          "carpet": [
           {
            "aaxis": {
             "endlinecolor": "#2a3f5f",
             "gridcolor": "white",
             "linecolor": "white",
             "minorgridcolor": "white",
             "startlinecolor": "#2a3f5f"
            },
            "baxis": {
             "endlinecolor": "#2a3f5f",
             "gridcolor": "white",
             "linecolor": "white",
             "minorgridcolor": "white",
             "startlinecolor": "#2a3f5f"
            },
            "type": "carpet"
           }
          ],
          "choropleth": [
           {
            "colorbar": {
             "outlinewidth": 0,
             "ticks": ""
            },
            "type": "choropleth"
           }
          ],
          "contour": [
           {
            "colorbar": {
             "outlinewidth": 0,
             "ticks": ""
            },
            "colorscale": [
             [
              0,
              "#0d0887"
             ],
             [
              0.1111111111111111,
              "#46039f"
             ],
             [
              0.2222222222222222,
              "#7201a8"
             ],
             [
              0.3333333333333333,
              "#9c179e"
             ],
             [
              0.4444444444444444,
              "#bd3786"
             ],
             [
              0.5555555555555556,
              "#d8576b"
             ],
             [
              0.6666666666666666,
              "#ed7953"
             ],
             [
              0.7777777777777778,
              "#fb9f3a"
             ],
             [
              0.8888888888888888,
              "#fdca26"
             ],
             [
              1,
              "#f0f921"
             ]
            ],
            "type": "contour"
           }
          ],
          "contourcarpet": [
           {
            "colorbar": {
             "outlinewidth": 0,
             "ticks": ""
            },
            "type": "contourcarpet"
           }
          ],
          "heatmap": [
           {
            "colorbar": {
             "outlinewidth": 0,
             "ticks": ""
            },
            "colorscale": [
             [
              0,
              "#0d0887"
             ],
             [
              0.1111111111111111,
              "#46039f"
             ],
             [
              0.2222222222222222,
              "#7201a8"
             ],
             [
              0.3333333333333333,
              "#9c179e"
             ],
             [
              0.4444444444444444,
              "#bd3786"
             ],
             [
              0.5555555555555556,
              "#d8576b"
             ],
             [
              0.6666666666666666,
              "#ed7953"
             ],
             [
              0.7777777777777778,
              "#fb9f3a"
             ],
             [
              0.8888888888888888,
              "#fdca26"
             ],
             [
              1,
              "#f0f921"
             ]
            ],
            "type": "heatmap"
           }
          ],
          "heatmapgl": [
           {
            "colorbar": {
             "outlinewidth": 0,
             "ticks": ""
            },
            "colorscale": [
             [
              0,
              "#0d0887"
             ],
             [
              0.1111111111111111,
              "#46039f"
             ],
             [
              0.2222222222222222,
              "#7201a8"
             ],
             [
              0.3333333333333333,
              "#9c179e"
             ],
             [
              0.4444444444444444,
              "#bd3786"
             ],
             [
              0.5555555555555556,
              "#d8576b"
             ],
             [
              0.6666666666666666,
              "#ed7953"
             ],
             [
              0.7777777777777778,
              "#fb9f3a"
             ],
             [
              0.8888888888888888,
              "#fdca26"
             ],
             [
              1,
              "#f0f921"
             ]
            ],
            "type": "heatmapgl"
           }
          ],
          "histogram": [
           {
            "marker": {
             "pattern": {
              "fillmode": "overlay",
              "size": 10,
              "solidity": 0.2
             }
            },
            "type": "histogram"
           }
          ],
          "histogram2d": [
           {
            "colorbar": {
             "outlinewidth": 0,
             "ticks": ""
            },
            "colorscale": [
             [
              0,
              "#0d0887"
             ],
             [
              0.1111111111111111,
              "#46039f"
             ],
             [
              0.2222222222222222,
              "#7201a8"
             ],
             [
              0.3333333333333333,
              "#9c179e"
             ],
             [
              0.4444444444444444,
              "#bd3786"
             ],
             [
              0.5555555555555556,
              "#d8576b"
             ],
             [
              0.6666666666666666,
              "#ed7953"
             ],
             [
              0.7777777777777778,
              "#fb9f3a"
             ],
             [
              0.8888888888888888,
              "#fdca26"
             ],
             [
              1,
              "#f0f921"
             ]
            ],
            "type": "histogram2d"
           }
          ],
          "histogram2dcontour": [
           {
            "colorbar": {
             "outlinewidth": 0,
             "ticks": ""
            },
            "colorscale": [
             [
              0,
              "#0d0887"
             ],
             [
              0.1111111111111111,
              "#46039f"
             ],
             [
              0.2222222222222222,
              "#7201a8"
             ],
             [
              0.3333333333333333,
              "#9c179e"
             ],
             [
              0.4444444444444444,
              "#bd3786"
             ],
             [
              0.5555555555555556,
              "#d8576b"
             ],
             [
              0.6666666666666666,
              "#ed7953"
             ],
             [
              0.7777777777777778,
              "#fb9f3a"
             ],
             [
              0.8888888888888888,
              "#fdca26"
             ],
             [
              1,
              "#f0f921"
             ]
            ],
            "type": "histogram2dcontour"
           }
          ],
          "mesh3d": [
           {
            "colorbar": {
             "outlinewidth": 0,
             "ticks": ""
            },
            "type": "mesh3d"
           }
          ],
          "parcoords": [
           {
            "line": {
             "colorbar": {
              "outlinewidth": 0,
              "ticks": ""
             }
            },
            "type": "parcoords"
           }
          ],
          "pie": [
           {
            "automargin": true,
            "type": "pie"
           }
          ],
          "scatter": [
           {
            "marker": {
             "colorbar": {
              "outlinewidth": 0,
              "ticks": ""
             }
            },
            "type": "scatter"
           }
          ],
          "scatter3d": [
           {
            "line": {
             "colorbar": {
              "outlinewidth": 0,
              "ticks": ""
             }
            },
            "marker": {
             "colorbar": {
              "outlinewidth": 0,
              "ticks": ""
             }
            },
            "type": "scatter3d"
           }
          ],
          "scattercarpet": [
           {
            "marker": {
             "colorbar": {
              "outlinewidth": 0,
              "ticks": ""
             }
            },
            "type": "scattercarpet"
           }
          ],
          "scattergeo": [
           {
            "marker": {
             "colorbar": {
              "outlinewidth": 0,
              "ticks": ""
             }
            },
            "type": "scattergeo"
           }
          ],
          "scattergl": [
           {
            "marker": {
             "colorbar": {
              "outlinewidth": 0,
              "ticks": ""
             }
            },
            "type": "scattergl"
           }
          ],
          "scattermapbox": [
           {
            "marker": {
             "colorbar": {
              "outlinewidth": 0,
              "ticks": ""
             }
            },
            "type": "scattermapbox"
           }
          ],
          "scatterpolar": [
           {
            "marker": {
             "colorbar": {
              "outlinewidth": 0,
              "ticks": ""
             }
            },
            "type": "scatterpolar"
           }
          ],
          "scatterpolargl": [
           {
            "marker": {
             "colorbar": {
              "outlinewidth": 0,
              "ticks": ""
             }
            },
            "type": "scatterpolargl"
           }
          ],
          "scatterternary": [
           {
            "marker": {
             "colorbar": {
              "outlinewidth": 0,
              "ticks": ""
             }
            },
            "type": "scatterternary"
           }
          ],
          "surface": [
           {
            "colorbar": {
             "outlinewidth": 0,
             "ticks": ""
            },
            "colorscale": [
             [
              0,
              "#0d0887"
             ],
             [
              0.1111111111111111,
              "#46039f"
             ],
             [
              0.2222222222222222,
              "#7201a8"
             ],
             [
              0.3333333333333333,
              "#9c179e"
             ],
             [
              0.4444444444444444,
              "#bd3786"
             ],
             [
              0.5555555555555556,
              "#d8576b"
             ],
             [
              0.6666666666666666,
              "#ed7953"
             ],
             [
              0.7777777777777778,
              "#fb9f3a"
             ],
             [
              0.8888888888888888,
              "#fdca26"
             ],
             [
              1,
              "#f0f921"
             ]
            ],
            "type": "surface"
           }
          ],
          "table": [
           {
            "cells": {
             "fill": {
              "color": "#EBF0F8"
             },
             "line": {
              "color": "white"
             }
            },
            "header": {
             "fill": {
              "color": "#C8D4E3"
             },
             "line": {
              "color": "white"
             }
            },
            "type": "table"
           }
          ]
         },
         "layout": {
          "annotationdefaults": {
           "arrowcolor": "#2a3f5f",
           "arrowhead": 0,
           "arrowwidth": 1
          },
          "autotypenumbers": "strict",
          "coloraxis": {
           "colorbar": {
            "outlinewidth": 0,
            "ticks": ""
           }
          },
          "colorscale": {
           "diverging": [
            [
             0,
             "#8e0152"
            ],
            [
             0.1,
             "#c51b7d"
            ],
            [
             0.2,
             "#de77ae"
            ],
            [
             0.3,
             "#f1b6da"
            ],
            [
             0.4,
             "#fde0ef"
            ],
            [
             0.5,
             "#f7f7f7"
            ],
            [
             0.6,
             "#e6f5d0"
            ],
            [
             0.7,
             "#b8e186"
            ],
            [
             0.8,
             "#7fbc41"
            ],
            [
             0.9,
             "#4d9221"
            ],
            [
             1,
             "#276419"
            ]
           ],
           "sequential": [
            [
             0,
             "#0d0887"
            ],
            [
             0.1111111111111111,
             "#46039f"
            ],
            [
             0.2222222222222222,
             "#7201a8"
            ],
            [
             0.3333333333333333,
             "#9c179e"
            ],
            [
             0.4444444444444444,
             "#bd3786"
            ],
            [
             0.5555555555555556,
             "#d8576b"
            ],
            [
             0.6666666666666666,
             "#ed7953"
            ],
            [
             0.7777777777777778,
             "#fb9f3a"
            ],
            [
             0.8888888888888888,
             "#fdca26"
            ],
            [
             1,
             "#f0f921"
            ]
           ],
           "sequentialminus": [
            [
             0,
             "#0d0887"
            ],
            [
             0.1111111111111111,
             "#46039f"
            ],
            [
             0.2222222222222222,
             "#7201a8"
            ],
            [
             0.3333333333333333,
             "#9c179e"
            ],
            [
             0.4444444444444444,
             "#bd3786"
            ],
            [
             0.5555555555555556,
             "#d8576b"
            ],
            [
             0.6666666666666666,
             "#ed7953"
            ],
            [
             0.7777777777777778,
             "#fb9f3a"
            ],
            [
             0.8888888888888888,
             "#fdca26"
            ],
            [
             1,
             "#f0f921"
            ]
           ]
          },
          "colorway": [
           "#636efa",
           "#EF553B",
           "#00cc96",
           "#ab63fa",
           "#FFA15A",
           "#19d3f3",
           "#FF6692",
           "#B6E880",
           "#FF97FF",
           "#FECB52"
          ],
          "font": {
           "color": "#2a3f5f"
          },
          "geo": {
           "bgcolor": "white",
           "lakecolor": "white",
           "landcolor": "#E5ECF6",
           "showlakes": true,
           "showland": true,
           "subunitcolor": "white"
          },
          "hoverlabel": {
           "align": "left"
          },
          "hovermode": "closest",
          "mapbox": {
           "style": "light"
          },
          "paper_bgcolor": "white",
          "plot_bgcolor": "#E5ECF6",
          "polar": {
           "angularaxis": {
            "gridcolor": "white",
            "linecolor": "white",
            "ticks": ""
           },
           "bgcolor": "#E5ECF6",
           "radialaxis": {
            "gridcolor": "white",
            "linecolor": "white",
            "ticks": ""
           }
          },
          "scene": {
           "xaxis": {
            "backgroundcolor": "#E5ECF6",
            "gridcolor": "white",
            "gridwidth": 2,
            "linecolor": "white",
            "showbackground": true,
            "ticks": "",
            "zerolinecolor": "white"
           },
           "yaxis": {
            "backgroundcolor": "#E5ECF6",
            "gridcolor": "white",
            "gridwidth": 2,
            "linecolor": "white",
            "showbackground": true,
            "ticks": "",
            "zerolinecolor": "white"
           },
           "zaxis": {
            "backgroundcolor": "#E5ECF6",
            "gridcolor": "white",
            "gridwidth": 2,
            "linecolor": "white",
            "showbackground": true,
            "ticks": "",
            "zerolinecolor": "white"
           }
          },
          "shapedefaults": {
           "line": {
            "color": "#2a3f5f"
           }
          },
          "ternary": {
           "aaxis": {
            "gridcolor": "white",
            "linecolor": "white",
            "ticks": ""
           },
           "baxis": {
            "gridcolor": "white",
            "linecolor": "white",
            "ticks": ""
           },
           "bgcolor": "#E5ECF6",
           "caxis": {
            "gridcolor": "white",
            "linecolor": "white",
            "ticks": ""
           }
          },
          "title": {
           "x": 0.05
          },
          "xaxis": {
           "automargin": true,
           "gridcolor": "white",
           "linecolor": "white",
           "ticks": "",
           "title": {
            "standoff": 15
           },
           "zerolinecolor": "white",
           "zerolinewidth": 2
          },
          "yaxis": {
           "automargin": true,
           "gridcolor": "white",
           "linecolor": "white",
           "ticks": "",
           "title": {
            "standoff": 15
           },
           "zerolinecolor": "white",
           "zerolinewidth": 2
          }
         }
        },
        "xaxis": {
         "linecolor": "#BCCCDC",
         "mirror": true,
         "showgrid": true,
         "title": {
          "text": "mutability_score(DCA)"
         }
        },
        "yaxis": {
         "linecolor": "#BCCCDC",
         "mirror": true,
         "showgrid": true,
         "title": {
          "text": "IEDB - Response Frequency"
         }
        }
       }
      },
      "text/html": [
       "<div>                            <div id=\"2add7e54-59ad-4040-8839-d5f4763b370b\" class=\"plotly-graph-div\" style=\"height:525px; width:100%;\"></div>            <script type=\"text/javascript\">                require([\"plotly\"], function(Plotly) {                    window.PLOTLYENV=window.PLOTLYENV || {};                                    if (document.getElementById(\"2add7e54-59ad-4040-8839-d5f4763b370b\")) {                    Plotly.newPlot(                        \"2add7e54-59ad-4040-8839-d5f4763b370b\",                        [{\"marker\":{\"color\":\"#5D69B1\",\"size\":[20.0,20.0,20.000000000000004,20.0,20.0,16.666666666666668,14.285714285714285,12.499999999999998,14.285714285714285,16.666666666666664,12.5,14.285714285714286,11.11111111111111,14.285714285714285,16.666666666666668,9.090909090909092,9.090909090909092,6.666666666666666,6.666666666666666,7.142857142857142,7.14285714285714,7.14285714285714,7.142857142857142,7.142857142857142,7.142857142857142,6.666666666666668,6.666666666666668,7.142857142857145,7.692307692307689,8.33333333333333,7.142857142857142,6.249999999999999,6.666666666666666,6.250000000000001,7.142857142857145,10.000000000000002,10.000000000000002,10.0,12.499999999999998,9.999999999999996,11.111111111111109,10.000000000000002,11.11111111111111,9.090909090909092,11.11111111111111,16.666666666666668,16.666666666666668,14.285714285714285,16.666666666666668,16.666666666666668,16.666666666666668,14.285714285714285,14.285714285714285,16.666666666666668,12.499999999999998,16.666666666666664,11.11111111111111,12.499999999999998,14.285714285714286,10.000000000000002,12.499999999999998,14.285714285714285,14.285714285714285,11.11111111111111,14.285714285714285,11.11111111111111,11.111111111111109,11.111111111111109,12.500000000000007,14.285714285714285,14.285714285714286,11.111111111111109,11.111111111111109,12.500000000000002,12.500000000000002,20.000000000000004,20.000000000000004,20.0,14.285714285714286,14.285714285714285,16.666666666666668,16.666666666666668,25.000000000000004,16.666666666666668,16.666666666666668,16.666666666666668,20.0,20.0,16.666666666666668,20.0,16.666666666666664,16.666666666666664,14.285714285714285,20.0,16.666666666666668,16.666666666666668,16.666666666666668,14.28571428571429,16.666666666666664,16.666666666666668,12.500000000000007,16.666666666666668,20.0,16.666666666666668,14.28571428571428,20.0,14.285714285714285,14.285714285714285,16.666666666666668,16.666666666666668,16.666666666666668,16.666666666666668,20.0,20.000000000000004,16.666666666666668,16.666666666666668,16.666666666666664,14.285714285714286,14.285714285714286,14.285714285714285,14.285714285714286,12.500000000000002,14.285714285714286,14.285714285714285,12.499999999999998,12.500000000000002,11.11111111111111,11.11111111111111,12.499999999999998,11.111111111111109,12.5,14.285714285714285,16.666666666666668,14.285714285714285,14.285714285714285,16.666666666666668,14.285714285714285,14.285714285714295,16.666666666666668,14.285714285714285,14.285714285714285,14.285714285714285,14.285714285714285,14.285714285714285,16.666666666666668,14.285714285714285,12.499999999999998,14.285714285714285,16.666666666666668,14.28571428571428,14.285714285714285,14.285714285714285,14.285714285714295,12.499999999999998,16.666666666666668,14.285714285714286,12.500000000000007,16.666666666666668,16.666666666666668,14.285714285714285,16.666666666666668,20.000000000000004,16.666666666666668,14.285714285714286,16.666666666666668,16.666666666666664,14.285714285714286,14.285714285714285,12.500000000000002,14.285714285714285,16.666666666666664,16.666666666666668,20.0,20.0,16.666666666666668,10.000000000000002,9.090909090909092,9.999999999999996]},\"mode\":\"markers\",\"name\":\"\",\"text\":[\"wt: S349\",\"wt: V350\",\"wt: Y351\",\"wt: A352\",\"wt: W353\",\"wt: N354\",\"wt: R355\",\"wt: K356\",\"wt: R357\",\"wt: I358\",\"wt: S359\",\"wt: N360\",\"wt: C361\",\"wt: V362\",\"wt: A363\",\"wt: D364\",\"wt: Y365\",\"wt: S366\",\"wt: V367\",\"wt: L368\",\"wt: Y369\",\"wt: N370\",\"wt: S371\",\"wt: A372\",\"wt: S373\",\"wt: F374\",\"wt: S375\",\"wt: T376\",\"wt: F377\",\"wt: K378\",\"wt: C379\",\"wt: Y380\",\"wt: G381\",\"wt: V382\",\"wt: S383\",\"wt: P384\",\"wt: T385\",\"wt: K386\",\"wt: L387\",\"wt: N388\",\"wt: D389\",\"wt: L390\",\"wt: C391\",\"wt: F392\",\"wt: T393\",\"wt: N394\",\"wt: V395\",\"wt: Y396\",\"wt: A397\",\"wt: D398\",\"wt: S399\",\"wt: F400\",\"wt: V401\",\"wt: I402\",\"wt: R403\",\"wt: G404\",\"wt: D405\",\"wt: E406\",\"wt: V407\",\"wt: R408\",\"wt: Q409\",\"wt: I410\",\"wt: A411\",\"wt: P412\",\"wt: G413\",\"wt: Q414\",\"wt: T415\",\"wt: G416\",\"wt: K417\",\"wt: I418\",\"wt: A419\",\"wt: D420\",\"wt: Y421\",\"wt: N422\",\"wt: Y423\",\"wt: K424\",\"wt: L425\",\"wt: P426\",\"wt: D427\",\"wt: D428\",\"wt: F429\",\"wt: T430\",\"wt: G431\",\"wt: C432\",\"wt: V433\",\"wt: I434\",\"wt: A435\",\"wt: W436\",\"wt: N437\",\"wt: S438\",\"wt: N439\",\"wt: N440\",\"wt: L441\",\"wt: D442\",\"wt: S443\",\"wt: K444\",\"wt: V445\",\"wt: G446\",\"wt: G447\",\"wt: N448\",\"wt: Y449\",\"wt: N450\",\"wt: Y451\",\"wt: L452\",\"wt: Y453\",\"wt: R454\",\"wt: L455\",\"wt: F456\",\"wt: R457\",\"wt: K458\",\"wt: S459\",\"wt: N460\",\"wt: L461\",\"wt: K462\",\"wt: P463\",\"wt: F464\",\"wt: E465\",\"wt: R466\",\"wt: D467\",\"wt: I468\",\"wt: S469\",\"wt: T470\",\"wt: E471\",\"wt: I472\",\"wt: Y473\",\"wt: Q474\",\"wt: A475\",\"wt: G476\",\"wt: S477\",\"wt: T478\",\"wt: P479\",\"wt: C480\",\"wt: N481\",\"wt: G482\",\"wt: V483\",\"wt: E484\",\"wt: G485\",\"wt: F486\",\"wt: N487\",\"wt: C488\",\"wt: Y489\",\"wt: F490\",\"wt: P491\",\"wt: L492\",\"wt: Q493\",\"wt: S494\",\"wt: Y495\",\"wt: G496\",\"wt: F497\",\"wt: Q498\",\"wt: P499\",\"wt: T500\",\"wt: N501\",\"wt: G502\",\"wt: V503\",\"wt: G504\",\"wt: Y505\",\"wt: Q506\",\"wt: P507\",\"wt: Y508\",\"wt: R509\",\"wt: V510\",\"wt: V511\",\"wt: V512\",\"wt: L513\",\"wt: S514\",\"wt: F515\",\"wt: E516\",\"wt: L517\",\"wt: L518\",\"wt: H519\",\"wt: A520\",\"wt: P521\",\"wt: A522\",\"wt: T523\",\"wt: V524\",\"wt: C525\",\"wt: G526\"],\"textfont\":{\"color\":\"#E58606\"},\"textposition\":\"top right\",\"type\":\"scattergl\",\"uid\":\"12712c30-7cc7-453d-a8a7-a84fc40cd4db\",\"x\":[-1.2046,-1.1667,-1.2678,-1.1347,-1.3433,-0.6908,-1.46,-0.8585,-0.8866,-1.1399,-1.0692,-1.0716,-1.4536,-1.1652,-1.2195,-1.2435,-1.2247,-1.0245,-1.1382,-1.3272,-1.2234,-1.2102,-1.251,0.0083,-1.0373,-1.1951,-1.271,-1.2014,-1.3153,-1.0351,-1.5544,-1.2908,-1.3344,-1.4432,-1.3011,-1.0483,-1.0093,-1.3027,-1.3825,-1.0351,-1.3047,-1.2514,-1.5245,-1.2383,-0.6168,-0.8912,-1.2365,-1.2549,-1.2162,-1.4762,-0.9234,-1.434,-0.9475,-0.4977,0.0615,-1.0926,-1.1401,-0.6859,-1.1573,-1.1722,-1.2426,-1.0136,-1.2492,-1.257,-1.1064,-1.1209,-1.1667,-1.4381,-0.4315,-1.3088,-1.2311,-1.2382,-1.374,-1.5518,-1.5252,-1.2005,-1.339,-1.3234,-1.2182,-1.2017,-1.3508,-0.9311,-1.3138,-1.5387,-1.2237,-0.7544,-1.3137,-1.2219,-1.1781,-0.6044,-0.4444,-0.2092,-0.2007,-1.1966,-0.3077,-0.4083,-0.0565,-0.5834,-0.6227,-0.9643,-0.6399,-0.7114,-1.0353,-0.9576,-1.1071,-1.243,-0.6609,-0.7466,-1.1185,-0.725,-0.6361,-0.369,-0.9594,-0.9182,-1.2839,-0.8403,-1.0916,-1.1957,-1.2306,-0.8062,-1.1259,-0.608,-0.5911,-0.8332,-0.8968,-0.7201,-0.5693,-0.8152,-0.6329,-0.6578,-0.8332,-1.2501,-0.7105,-0.6489,-0.317,-0.2097,-0.9483,-0.2134,-1.0947,-1.1891,-1.0939,0.0474,-1.1151,-1.2033,0.0448,-0.3161,-1.2157,-1.1445,-1.2366,-0.111,-0.8526,-0.9683,-0.0427,-1.1747,-0.902,-0.7454,-0.6702,-1.2438,-1.0639,-0.8218,-1.1835,-1.1479,-1.2008,-1.2642,-1.1848,-1.2699,-1.1306,-1.1416,-1.1875,-1.2267,0.2159,-0.8394,-1.1793,-1.2426,-1.2803,-1.4834,-1.5027,-1.2935],\"y\":[0.0735632183908046,0.069284064665127,0.0930232558139534,0.0692124105011933,0.0669856459330143,0.0955631399317406,0.0893470790378006,0.1588785046728972,0.1516853932584269,0.0622950819672131,0.1445086705202312,0.0766129032258064,0.1707317073170731,0.0702479338842975,0.074074074074074,0.1229508196721311,0.1481481481481481,0.1743119266055046,0.1743119266055046,0.1818181818181818,0.4906542056074766,0.4925373134328358,0.3875,0.3875,0.1759259259259259,0.4096385542168674,0.391304347826087,0.3988439306358382,0.4977973568281938,0.4894514767932489,0.5412371134020618,0.4482758620689655,0.3782051282051282,0.4160583941605839,0.5291005291005291,0.3271604938271605,0.3202614379084967,0.2592592592592592,0.1212121212121212,0.2226277372262773,0.117391304347826,0.2446808510638297,0.1100478468899521,0.2403100775193798,0.1100478468899521,0.0884146341463414,0.0856269113149847,0.0891089108910891,0.086092715231788,0.086092715231788,0.086092715231788,0.0888157894736842,0.0891089108910891,0.0762942779291553,0.2796610169491525,0.0613207547169811,0.160337552742616,0.0962343096234309,0.0769230769230769,0.247787610619469,0.1281138790035587,0.085820895522388,0.0930232558139534,0.1947194719471947,0.1,0.2742857142857143,0.2320261437908496,0.2307692307692307,0.4356261022927689,0.0982456140350877,0.1107266435986159,0.2212121212121212,0.234375,0.1058394160583941,0.1058394160583941,0.0907127429805615,0.0920770877944325,0.0691358024691358,0.1419068736141907,0.1494505494505494,0.1456953642384106,0.1456953642384106,0.0660146699266503,0.0753623188405797,0.0780346820809248,0.0539568345323741,0.057347670250896,0.0462633451957295,0.056338028169014,0.0496453900709219,0.065359477124183,0.1044776119402985,0.1489841986455982,0.0688775510204081,0.0759493670886076,0.1287553648068669,0.1775510204081632,0.2682119205298013,0.106430155210643,0.1232323232323232,0.309375,0.1688555347091932,0.0981963927855711,0.1903052064631956,0.2470588235294117,0.1043643263757115,0.2944693572496263,0.2815829528158295,0.1639639639639639,0.1743772241992882,0.1183206106870229,0.156934306569343,0.0833333333333333,0.0923694779116465,0.0960698689956331,0.0967741935483871,0.1072319201995012,0.1129476584022038,0.1132596685082873,0.1191135734072022,0.1092436974789916,0.175,0.1388888888888889,0.1621621621621621,0.226044226044226,0.1687898089171974,0.2627118644067797,0.248502994011976,0.2270114942528735,0.1510067114093959,0.1130742049469964,0.3648881239242685,0.3795811518324607,0.3820078226857888,0.3930857874519846,0.4793103448275862,0.4144254278728606,0.4328358208955223,0.407942238267148,0.3419972640218878,0.4161979752530934,0.4113389626055488,0.3211781206171108,0.3520749665327978,0.428066037735849,0.3834498834498834,0.240325865580448,0.2333333333333333,0.0970654627539503,0.2411642411642411,0.1938997821350762,0.230607966457023,0.4366812227074236,0.2805907172995781,0.1253196930946291,0.1408114558472553,0.3085714285714285,0.128395061728395,0.1262376237623762,0.1326781326781326,0.1152882205513784,0.0902061855670103,0.1145833333333333,0.1128608923884514,0.1243523316062176,0.1363636363636363,0.1386138613861386,0.1352785145888594,0.1961722488038277,0.1189189189189189,0.1030640668523676,0.0878186968838526,0.0694864048338368,0.0694864048338368,0.072289156626506,0.3202416918429003,0.335548172757475,0.3388157894736842]},{\"marker\":{\"color\":\"red\",\"size\":[12.500000000000007,16.666666666666668,12.499999999999998,11.111111111111109,14.285714285714285,16.666666666666668,14.285714285714295]},\"mode\":\"markers\",\"showlegend\":false,\"text\":[\"wt: K417\",\"wt: L452\",\"wt: S477\",\"wt: T478\",\"wt: V483\",\"wt: E484\",\"wt: N501\"],\"textfont\":{\"color\":\"#E58606\"},\"textposition\":\"top right\",\"type\":\"scattergl\",\"uid\":\"dd6c5481-d40f-414d-b3aa-5df198453249\",\"x\":[-0.4315,-0.9576,-0.6329,-0.6578,-0.317,-0.2097,-0.0427],\"y\":[0.4356261022927689,0.1903052064631956,0.2270114942528735,0.1510067114093959,0.3930857874519846,0.4793103448275862,0.4366812227074236]}],                        {\"legend\":{\"itemclick\":\"toggleothers\",\"itemdoubleclick\":\"toggle\"},\"margin\":{\"b\":20,\"l\":20,\"r\":20,\"t\":20},\"plot_bgcolor\":\"#FFF\",\"template\":{\"data\":{\"bar\":[{\"error_x\":{\"color\":\"#2a3f5f\"},\"error_y\":{\"color\":\"#2a3f5f\"},\"marker\":{\"line\":{\"color\":\"#E5ECF6\",\"width\":0.5},\"pattern\":{\"fillmode\":\"overlay\",\"size\":10,\"solidity\":0.2}},\"type\":\"bar\"}],\"barpolar\":[{\"marker\":{\"line\":{\"color\":\"#E5ECF6\",\"width\":0.5},\"pattern\":{\"fillmode\":\"overlay\",\"size\":10,\"solidity\":0.2}},\"type\":\"barpolar\"}],\"carpet\":[{\"aaxis\":{\"endlinecolor\":\"#2a3f5f\",\"gridcolor\":\"white\",\"linecolor\":\"white\",\"minorgridcolor\":\"white\",\"startlinecolor\":\"#2a3f5f\"},\"baxis\":{\"endlinecolor\":\"#2a3f5f\",\"gridcolor\":\"white\",\"linecolor\":\"white\",\"minorgridcolor\":\"white\",\"startlinecolor\":\"#2a3f5f\"},\"type\":\"carpet\"}],\"choropleth\":[{\"colorbar\":{\"outlinewidth\":0,\"ticks\":\"\"},\"type\":\"choropleth\"}],\"contour\":[{\"colorbar\":{\"outlinewidth\":0,\"ticks\":\"\"},\"colorscale\":[[0.0,\"#0d0887\"],[0.1111111111111111,\"#46039f\"],[0.2222222222222222,\"#7201a8\"],[0.3333333333333333,\"#9c179e\"],[0.4444444444444444,\"#bd3786\"],[0.5555555555555556,\"#d8576b\"],[0.6666666666666666,\"#ed7953\"],[0.7777777777777778,\"#fb9f3a\"],[0.8888888888888888,\"#fdca26\"],[1.0,\"#f0f921\"]],\"type\":\"contour\"}],\"contourcarpet\":[{\"colorbar\":{\"outlinewidth\":0,\"ticks\":\"\"},\"type\":\"contourcarpet\"}],\"heatmap\":[{\"colorbar\":{\"outlinewidth\":0,\"ticks\":\"\"},\"colorscale\":[[0.0,\"#0d0887\"],[0.1111111111111111,\"#46039f\"],[0.2222222222222222,\"#7201a8\"],[0.3333333333333333,\"#9c179e\"],[0.4444444444444444,\"#bd3786\"],[0.5555555555555556,\"#d8576b\"],[0.6666666666666666,\"#ed7953\"],[0.7777777777777778,\"#fb9f3a\"],[0.8888888888888888,\"#fdca26\"],[1.0,\"#f0f921\"]],\"type\":\"heatmap\"}],\"heatmapgl\":[{\"colorbar\":{\"outlinewidth\":0,\"ticks\":\"\"},\"colorscale\":[[0.0,\"#0d0887\"],[0.1111111111111111,\"#46039f\"],[0.2222222222222222,\"#7201a8\"],[0.3333333333333333,\"#9c179e\"],[0.4444444444444444,\"#bd3786\"],[0.5555555555555556,\"#d8576b\"],[0.6666666666666666,\"#ed7953\"],[0.7777777777777778,\"#fb9f3a\"],[0.8888888888888888,\"#fdca26\"],[1.0,\"#f0f921\"]],\"type\":\"heatmapgl\"}],\"histogram\":[{\"marker\":{\"pattern\":{\"fillmode\":\"overlay\",\"size\":10,\"solidity\":0.2}},\"type\":\"histogram\"}],\"histogram2d\":[{\"colorbar\":{\"outlinewidth\":0,\"ticks\":\"\"},\"colorscale\":[[0.0,\"#0d0887\"],[0.1111111111111111,\"#46039f\"],[0.2222222222222222,\"#7201a8\"],[0.3333333333333333,\"#9c179e\"],[0.4444444444444444,\"#bd3786\"],[0.5555555555555556,\"#d8576b\"],[0.6666666666666666,\"#ed7953\"],[0.7777777777777778,\"#fb9f3a\"],[0.8888888888888888,\"#fdca26\"],[1.0,\"#f0f921\"]],\"type\":\"histogram2d\"}],\"histogram2dcontour\":[{\"colorbar\":{\"outlinewidth\":0,\"ticks\":\"\"},\"colorscale\":[[0.0,\"#0d0887\"],[0.1111111111111111,\"#46039f\"],[0.2222222222222222,\"#7201a8\"],[0.3333333333333333,\"#9c179e\"],[0.4444444444444444,\"#bd3786\"],[0.5555555555555556,\"#d8576b\"],[0.6666666666666666,\"#ed7953\"],[0.7777777777777778,\"#fb9f3a\"],[0.8888888888888888,\"#fdca26\"],[1.0,\"#f0f921\"]],\"type\":\"histogram2dcontour\"}],\"mesh3d\":[{\"colorbar\":{\"outlinewidth\":0,\"ticks\":\"\"},\"type\":\"mesh3d\"}],\"parcoords\":[{\"line\":{\"colorbar\":{\"outlinewidth\":0,\"ticks\":\"\"}},\"type\":\"parcoords\"}],\"pie\":[{\"automargin\":true,\"type\":\"pie\"}],\"scatter\":[{\"marker\":{\"colorbar\":{\"outlinewidth\":0,\"ticks\":\"\"}},\"type\":\"scatter\"}],\"scatter3d\":[{\"line\":{\"colorbar\":{\"outlinewidth\":0,\"ticks\":\"\"}},\"marker\":{\"colorbar\":{\"outlinewidth\":0,\"ticks\":\"\"}},\"type\":\"scatter3d\"}],\"scattercarpet\":[{\"marker\":{\"colorbar\":{\"outlinewidth\":0,\"ticks\":\"\"}},\"type\":\"scattercarpet\"}],\"scattergeo\":[{\"marker\":{\"colorbar\":{\"outlinewidth\":0,\"ticks\":\"\"}},\"type\":\"scattergeo\"}],\"scattergl\":[{\"marker\":{\"colorbar\":{\"outlinewidth\":0,\"ticks\":\"\"}},\"type\":\"scattergl\"}],\"scattermapbox\":[{\"marker\":{\"colorbar\":{\"outlinewidth\":0,\"ticks\":\"\"}},\"type\":\"scattermapbox\"}],\"scatterpolar\":[{\"marker\":{\"colorbar\":{\"outlinewidth\":0,\"ticks\":\"\"}},\"type\":\"scatterpolar\"}],\"scatterpolargl\":[{\"marker\":{\"colorbar\":{\"outlinewidth\":0,\"ticks\":\"\"}},\"type\":\"scatterpolargl\"}],\"scatterternary\":[{\"marker\":{\"colorbar\":{\"outlinewidth\":0,\"ticks\":\"\"}},\"type\":\"scatterternary\"}],\"surface\":[{\"colorbar\":{\"outlinewidth\":0,\"ticks\":\"\"},\"colorscale\":[[0.0,\"#0d0887\"],[0.1111111111111111,\"#46039f\"],[0.2222222222222222,\"#7201a8\"],[0.3333333333333333,\"#9c179e\"],[0.4444444444444444,\"#bd3786\"],[0.5555555555555556,\"#d8576b\"],[0.6666666666666666,\"#ed7953\"],[0.7777777777777778,\"#fb9f3a\"],[0.8888888888888888,\"#fdca26\"],[1.0,\"#f0f921\"]],\"type\":\"surface\"}],\"table\":[{\"cells\":{\"fill\":{\"color\":\"#EBF0F8\"},\"line\":{\"color\":\"white\"}},\"header\":{\"fill\":{\"color\":\"#C8D4E3\"},\"line\":{\"color\":\"white\"}},\"type\":\"table\"}]},\"layout\":{\"annotationdefaults\":{\"arrowcolor\":\"#2a3f5f\",\"arrowhead\":0,\"arrowwidth\":1},\"autotypenumbers\":\"strict\",\"coloraxis\":{\"colorbar\":{\"outlinewidth\":0,\"ticks\":\"\"}},\"colorscale\":{\"diverging\":[[0,\"#8e0152\"],[0.1,\"#c51b7d\"],[0.2,\"#de77ae\"],[0.3,\"#f1b6da\"],[0.4,\"#fde0ef\"],[0.5,\"#f7f7f7\"],[0.6,\"#e6f5d0\"],[0.7,\"#b8e186\"],[0.8,\"#7fbc41\"],[0.9,\"#4d9221\"],[1,\"#276419\"]],\"sequential\":[[0.0,\"#0d0887\"],[0.1111111111111111,\"#46039f\"],[0.2222222222222222,\"#7201a8\"],[0.3333333333333333,\"#9c179e\"],[0.4444444444444444,\"#bd3786\"],[0.5555555555555556,\"#d8576b\"],[0.6666666666666666,\"#ed7953\"],[0.7777777777777778,\"#fb9f3a\"],[0.8888888888888888,\"#fdca26\"],[1.0,\"#f0f921\"]],\"sequentialminus\":[[0.0,\"#0d0887\"],[0.1111111111111111,\"#46039f\"],[0.2222222222222222,\"#7201a8\"],[0.3333333333333333,\"#9c179e\"],[0.4444444444444444,\"#bd3786\"],[0.5555555555555556,\"#d8576b\"],[0.6666666666666666,\"#ed7953\"],[0.7777777777777778,\"#fb9f3a\"],[0.8888888888888888,\"#fdca26\"],[1.0,\"#f0f921\"]]},\"colorway\":[\"#636efa\",\"#EF553B\",\"#00cc96\",\"#ab63fa\",\"#FFA15A\",\"#19d3f3\",\"#FF6692\",\"#B6E880\",\"#FF97FF\",\"#FECB52\"],\"font\":{\"color\":\"#2a3f5f\"},\"geo\":{\"bgcolor\":\"white\",\"lakecolor\":\"white\",\"landcolor\":\"#E5ECF6\",\"showlakes\":true,\"showland\":true,\"subunitcolor\":\"white\"},\"hoverlabel\":{\"align\":\"left\"},\"hovermode\":\"closest\",\"mapbox\":{\"style\":\"light\"},\"paper_bgcolor\":\"white\",\"plot_bgcolor\":\"#E5ECF6\",\"polar\":{\"angularaxis\":{\"gridcolor\":\"white\",\"linecolor\":\"white\",\"ticks\":\"\"},\"bgcolor\":\"#E5ECF6\",\"radialaxis\":{\"gridcolor\":\"white\",\"linecolor\":\"white\",\"ticks\":\"\"}},\"scene\":{\"xaxis\":{\"backgroundcolor\":\"#E5ECF6\",\"gridcolor\":\"white\",\"gridwidth\":2,\"linecolor\":\"white\",\"showbackground\":true,\"ticks\":\"\",\"zerolinecolor\":\"white\"},\"yaxis\":{\"backgroundcolor\":\"#E5ECF6\",\"gridcolor\":\"white\",\"gridwidth\":2,\"linecolor\":\"white\",\"showbackground\":true,\"ticks\":\"\",\"zerolinecolor\":\"white\"},\"zaxis\":{\"backgroundcolor\":\"#E5ECF6\",\"gridcolor\":\"white\",\"gridwidth\":2,\"linecolor\":\"white\",\"showbackground\":true,\"ticks\":\"\",\"zerolinecolor\":\"white\"}},\"shapedefaults\":{\"line\":{\"color\":\"#2a3f5f\"}},\"ternary\":{\"aaxis\":{\"gridcolor\":\"white\",\"linecolor\":\"white\",\"ticks\":\"\"},\"baxis\":{\"gridcolor\":\"white\",\"linecolor\":\"white\",\"ticks\":\"\"},\"bgcolor\":\"#E5ECF6\",\"caxis\":{\"gridcolor\":\"white\",\"linecolor\":\"white\",\"ticks\":\"\"}},\"title\":{\"x\":0.05},\"xaxis\":{\"automargin\":true,\"gridcolor\":\"white\",\"linecolor\":\"white\",\"ticks\":\"\",\"title\":{\"standoff\":15},\"zerolinecolor\":\"white\",\"zerolinewidth\":2},\"yaxis\":{\"automargin\":true,\"gridcolor\":\"white\",\"linecolor\":\"white\",\"ticks\":\"\",\"title\":{\"standoff\":15},\"zerolinecolor\":\"white\",\"zerolinewidth\":2}}},\"xaxis\":{\"linecolor\":\"#BCCCDC\",\"mirror\":true,\"showgrid\":true,\"title\":{\"text\":\"mutability_score(DCA)\"}},\"yaxis\":{\"linecolor\":\"#BCCCDC\",\"mirror\":true,\"showgrid\":true,\"title\":{\"text\":\"IEDB - Response Frequency\"}}},                        {\"responsive\": true}                    ).then(function(){\n",
       "                            \n",
       "var gd = document.getElementById('2add7e54-59ad-4040-8839-d5f4763b370b');\n",
       "var x = new MutationObserver(function (mutations, observer) {{\n",
       "        var display = window.getComputedStyle(gd).display;\n",
       "        if (!display || display === 'none') {{\n",
       "            console.log([gd, 'removed!']);\n",
       "            Plotly.purge(gd);\n",
       "            observer.disconnect();\n",
       "        }}\n",
       "}});\n",
       "\n",
       "// Listen for the removal of the full notebook cells\n",
       "var notebookContainer = gd.closest('#notebook-container');\n",
       "if (notebookContainer) {{\n",
       "    x.observe(notebookContainer, {childList: true});\n",
       "}}\n",
       "\n",
       "// Listen for the clearing of the current output cell\n",
       "var outputEl = gd.closest('.output');\n",
       "if (outputEl) {{\n",
       "    x.observe(outputEl, {childList: true});\n",
       "}}\n",
       "\n",
       "                        })                };                });            </script>        </div>"
      ]
     },
     "metadata": {},
     "output_type": "display_data"
    },
    {
     "data": {
      "text/plain": [
       "0"
      ]
     },
     "execution_count": 40,
     "metadata": {},
     "output_type": "execute_result"
    }
   ],
   "source": [
    "# DCA vs. IEDB response frequency\n",
    "prot = \"Spike\"\n",
    "dom = \"bCoV_S1_RBD\"\n",
    "score = 'mutability_score(DCA)'\n",
    "\n",
    "#positions mutated in VOI/VOC\n",
    "list_pos_mutated_VOI_VOC = [417, 452, 477, 478, 483, 484,  501] #red points\n",
    "\n",
    "df = load_data_dca(path_data = \"./data/data_dca_iedb_RDB_domain.csv\", protein = prot, domain = dom)\n",
    "#print(df)\n",
    "plot_dca_IEDB(df, score, list_pos = list_pos_mutated_VOI_VOC)\n",
    "\n",
    "### To plot only B(T) cell epitopes (Fig S5)\n",
    "#df = load_data_dca(path_data = \"./data/data_dca_iedb_RDB_domain_BTcell.csv\", protein = prot, domain = dom)\n",
    "#BT_cell = \"B_cell\" #\"T_cell\"\n",
    "#print('***** {0} epitopes *****'.format(BT_cell))\n",
    "#plot_dca_IEDB_BTcell(df, score, list_pos = list_pos_mutated_VOI_VOC, cell_type = BT_cell)"
   ]
  },
  {
   "cell_type": "markdown",
   "metadata": {},
   "source": [
    "### DCA and IEDB (UPDATED results)\n",
    "We repeat the same analysis with updated IEDB epitope data and WHO defitions of VOIs/VOCs. \n",
    "\n",
    "Check the WHO (https://www.who.int/en/activities/tracking-SARS-CoV-2-variants) or the CoVariants(https://covariants.org/shared-mutations) dedicated website to identify RDB mutations in Variants of Interest (VOIs) or Variants of Concern (VOCs)."
   ]
  },
  {
   "cell_type": "code",
   "execution_count": 42,
   "metadata": {},
   "outputs": [
    {
     "name": "stdout",
     "output_type": "stream",
     "text": [
      "IEDB available versions: ['30Apr2021', '16May2021', '04Jul2021']\n",
      "Selecting *** IEDB 04Jul2021 version ***\n"
     ]
    },
    {
     "data": {
      "application/vnd.plotly.v1+json": {
       "config": {
        "linkText": "Export to plot.ly",
        "plotlyServerURL": "https://plot.ly",
        "showLink": false
       },
       "data": [
        {
         "marker": {
          "color": "#5D69B1",
          "size": [
           25,
           25,
           24.999999999999996,
           25,
           33.33333333333333,
           24.999999999999996,
           24.999999999999996,
           25.000000000000004,
           24.999999999999996,
           33.33333333333333,
           33.333333333333336,
           33.333333333333336,
           33.333333333333336,
           33.33333333333333,
           33.33333333333333,
           33.333333333333336,
           24.999999999999996,
           24.999999999999996,
           33.333333333333336,
           24.999999999999996,
           19.999999999999993,
           16.666666666666668,
           16.666666666666668,
           16.666666666666668,
           33.333333333333336,
           16.666666666666668,
           20.000000000000004,
           16.666666666666664,
           16.666666666666668,
           16.666666666666668,
           16.666666666666668,
           16.666666666666664,
           19.999999999999993,
           16.666666666666668,
           16.666666666666668,
           20.000000000000004,
           19.999999999999993,
           19.999999999999993,
           24.999999999999996,
           25.000000000000004,
           24.999999999999996,
           20,
           33.333333333333336,
           19.999999999999993,
           33.333333333333336,
           33.33333333333333,
           33.33333333333333,
           25,
           33.33333333333333,
           33.33333333333333,
           33.33333333333333,
           25,
           25,
           33.33333333333333,
           16.666666666666668,
           16.666666666666668,
           16.666666666666668,
           16.666666666666668,
           14.28571428571429,
           14.285714285714285,
           16.666666666666668,
           16.666666666666668,
           16.66666666666666,
           16.666666666666668,
           16.66666666666666,
           16.666666666666668,
           16.666666666666668,
           16.666666666666668,
           20.000000000000004,
           16.666666666666668,
           16.66666666666666,
           14.28571428571429,
           16.666666666666668,
           20,
           20,
           20,
           25.000000000000004,
           33.333333333333336,
           25.000000000000004,
           25.000000000000004,
           20.000000000000004,
           25.000000000000004,
           33.333333333333336,
           24.999999999999996,
           33.333333333333336,
           33.33333333333333,
           33.33333333333333,
           33.333333333333336,
           33.33333333333333,
           33.333333333333336,
           33.33333333333333,
           25.000000000000004,
           25.000000000000004,
           33.333333333333336,
           33.33333333333333,
           24.999999999999996,
           24.999999999999996,
           20.000000000000004,
           24.999999999999996,
           24.999999999999996,
           20.000000000000004,
           24.999999999999996,
           25.000000000000004,
           24.999999999999996,
           19.999999999999993,
           25.000000000000004,
           19.999999999999993,
           19.999999999999993,
           24.999999999999996,
           24.999999999999996,
           33.333333333333336,
           24.999999999999996,
           33.33333333333333,
           33.33333333333333,
           25,
           33.333333333333336,
           33.33333333333333,
           25,
           25.000000000000004,
           24.999999999999996,
           33.333333333333336,
           24.999999999999996,
           20,
           19.999999999999993,
           19.999999999999993,
           20,
           20.000000000000004,
           16.666666666666668,
           19.999999999999993,
           20.000000000000004,
           20,
           16.666666666666668,
           16.666666666666668,
           20.000000000000004,
           16.666666666666668,
           25.000000000000014,
           19.999999999999982,
           20.000000000000004,
           20.000000000000004,
           16.666666666666675,
           19.999999999999982,
           20.000000000000004,
           19.999999999999993,
           20.000000000000004,
           16.666666666666668,
           20.000000000000004,
           20.000000000000004,
           20.000000000000004,
           25,
           24.999999999999996,
           24.999999999999996,
           16.666666666666668,
           16.666666666666668,
           19.999999999999993,
           24.999999999999996,
           25.000000000000004,
           20.000000000000004,
           25.000000000000004,
           24.999999999999996,
           25.000000000000004,
           24.999999999999996,
           25.000000000000004,
           25.000000000000004,
           20.000000000000004,
           25.000000000000004,
           25.000000000000004,
           20,
           20,
           20,
           25.000000000000004,
           24.999999999999996,
           25.000000000000004,
           33.33333333333333,
           24.999999999999996,
           33.33333333333333,
           16.666666666666668,
           14.28571428571429,
           16.666666666666668
          ]
         },
         "mode": "markers",
         "name": "",
         "text": [
          "wt: S349",
          "wt: V350",
          "wt: Y351",
          "wt: A352",
          "wt: W353",
          "wt: N354",
          "wt: R355",
          "wt: K356",
          "wt: R357",
          "wt: I358",
          "wt: S359",
          "wt: N360",
          "wt: C361",
          "wt: V362",
          "wt: A363",
          "wt: D364",
          "wt: Y365",
          "wt: S366",
          "wt: V367",
          "wt: L368",
          "wt: Y369",
          "wt: N370",
          "wt: S371",
          "wt: A372",
          "wt: S373",
          "wt: F374",
          "wt: S375",
          "wt: T376",
          "wt: F377",
          "wt: K378",
          "wt: C379",
          "wt: Y380",
          "wt: G381",
          "wt: V382",
          "wt: S383",
          "wt: P384",
          "wt: T385",
          "wt: K386",
          "wt: L387",
          "wt: N388",
          "wt: D389",
          "wt: L390",
          "wt: C391",
          "wt: F392",
          "wt: T393",
          "wt: N394",
          "wt: V395",
          "wt: Y396",
          "wt: A397",
          "wt: D398",
          "wt: S399",
          "wt: F400",
          "wt: V401",
          "wt: I402",
          "wt: R403",
          "wt: G404",
          "wt: D405",
          "wt: E406",
          "wt: V407",
          "wt: R408",
          "wt: Q409",
          "wt: I410",
          "wt: A411",
          "wt: P412",
          "wt: G413",
          "wt: Q414",
          "wt: T415",
          "wt: G416",
          "wt: K417",
          "wt: I418",
          "wt: A419",
          "wt: D420",
          "wt: Y421",
          "wt: N422",
          "wt: Y423",
          "wt: K424",
          "wt: L425",
          "wt: P426",
          "wt: D427",
          "wt: D428",
          "wt: F429",
          "wt: T430",
          "wt: G431",
          "wt: C432",
          "wt: V433",
          "wt: I434",
          "wt: A435",
          "wt: W436",
          "wt: N437",
          "wt: S438",
          "wt: N439",
          "wt: N440",
          "wt: L441",
          "wt: D442",
          "wt: S443",
          "wt: K444",
          "wt: V445",
          "wt: G446",
          "wt: G447",
          "wt: N448",
          "wt: Y449",
          "wt: N450",
          "wt: Y451",
          "wt: L452",
          "wt: Y453",
          "wt: R454",
          "wt: L455",
          "wt: F456",
          "wt: R457",
          "wt: K458",
          "wt: S459",
          "wt: N460",
          "wt: L461",
          "wt: K462",
          "wt: P463",
          "wt: F464",
          "wt: E465",
          "wt: R466",
          "wt: D467",
          "wt: I468",
          "wt: S469",
          "wt: T470",
          "wt: E471",
          "wt: I472",
          "wt: Y473",
          "wt: Q474",
          "wt: A475",
          "wt: G476",
          "wt: S477",
          "wt: T478",
          "wt: P479",
          "wt: C480",
          "wt: N481",
          "wt: G482",
          "wt: V483",
          "wt: E484",
          "wt: G485",
          "wt: F486",
          "wt: N487",
          "wt: C488",
          "wt: Y489",
          "wt: F490",
          "wt: P491",
          "wt: L492",
          "wt: Q493",
          "wt: S494",
          "wt: Y495",
          "wt: G496",
          "wt: F497",
          "wt: Q498",
          "wt: P499",
          "wt: T500",
          "wt: N501",
          "wt: G502",
          "wt: V503",
          "wt: G504",
          "wt: Y505",
          "wt: Q506",
          "wt: P507",
          "wt: Y508",
          "wt: R509",
          "wt: V510",
          "wt: V511",
          "wt: V512",
          "wt: L513",
          "wt: S514",
          "wt: F515",
          "wt: E516",
          "wt: L517",
          "wt: L518",
          "wt: H519",
          "wt: A520",
          "wt: P521",
          "wt: A522",
          "wt: T523",
          "wt: V524",
          "wt: C525",
          "wt: G526"
         ],
         "textfont": {
          "color": "#E58606"
         },
         "textposition": "top right",
         "type": "scattergl",
         "uid": "8a4b6aeb-eec3-470d-adc7-d4735c680da7",
         "x": [
          -1.2046,
          -1.1667,
          -1.2678,
          -1.1347,
          -1.3433,
          -0.6908,
          -1.46,
          -0.8585,
          -0.8866,
          -1.1399,
          -1.0692,
          -1.0716,
          -1.4536,
          -1.1652,
          -1.2195,
          -1.2435,
          -1.2247,
          -1.0245,
          -1.1382,
          -1.3272,
          -1.2234,
          -1.2102,
          -1.251,
          0.0083,
          -1.0373,
          -1.1951,
          -1.271,
          -1.2014,
          -1.3153,
          -1.0351,
          -1.5544,
          -1.2908,
          -1.3344,
          -1.4432,
          -1.3011,
          -1.0483,
          -1.0093,
          -1.3027,
          -1.3825,
          -1.0351,
          -1.3047,
          -1.2514,
          -1.5245,
          -1.2383,
          -0.6168,
          -0.8912,
          -1.2365,
          -1.2549,
          -1.2162,
          -1.4762,
          -0.9234,
          -1.434,
          -0.9475,
          -0.4977,
          0.0615,
          -1.0926,
          -1.1401,
          -0.6859,
          -1.1573,
          -1.1722,
          -1.2426,
          -1.0136,
          -1.2492,
          -1.257,
          -1.1064,
          -1.1209,
          -1.1667,
          -1.4381,
          -0.4315,
          -1.3088,
          -1.2311,
          -1.2382,
          -1.374,
          -1.5518,
          -1.5252,
          -1.2005,
          -1.339,
          -1.3234,
          -1.2182,
          -1.2017,
          -1.3508,
          -0.9311,
          -1.3138,
          -1.5387,
          -1.2237,
          -0.7544,
          -1.3137,
          -1.2219,
          -1.1781,
          -0.6044,
          -0.4444,
          -0.2092,
          -0.2007,
          -1.1966,
          -0.3077,
          -0.4083,
          -0.0565,
          -0.5834,
          -0.6227,
          -0.9643,
          -0.6399,
          -0.7114,
          -1.0353,
          -0.9576,
          -1.1071,
          -1.243,
          -0.6609,
          -0.7466,
          -1.1185,
          -0.725,
          -0.6361,
          -0.369,
          -0.9594,
          -0.9182,
          -1.2839,
          -0.8403,
          -1.0916,
          -1.1957,
          -1.2306,
          -0.8062,
          -1.1259,
          -0.608,
          -0.5911,
          -0.8332,
          -0.8968,
          -0.7201,
          -0.5693,
          -0.8152,
          -0.6329,
          -0.6578,
          -0.8332,
          -1.2501,
          -0.7105,
          -0.6489,
          -0.317,
          -0.2097,
          -0.9483,
          -0.2134,
          -1.0947,
          -1.1891,
          -1.0939,
          0.0474,
          -1.1151,
          -1.2033,
          0.0448,
          -0.3161,
          -1.2157,
          -1.1445,
          -1.2366,
          -0.111,
          -0.8526,
          -0.9683,
          -0.0427,
          -1.1747,
          -0.902,
          -0.7454,
          -0.6702,
          -1.2438,
          -1.0639,
          -0.8218,
          -1.1835,
          -1.1479,
          -1.2008,
          -1.2642,
          -1.1848,
          -1.2699,
          -1.1306,
          -1.1416,
          -1.1875,
          -1.2267,
          0.2159,
          -0.8394,
          -1.1793,
          -1.2426,
          -1.2803,
          -1.4834,
          -1.5027,
          -1.2935
         ],
         "y": [
          0.056768558951965066,
          0.056686046511627904,
          0.08058124174372523,
          0.05564142194744977,
          0.04888268156424581,
          0.047954866008462625,
          0.04796511627906977,
          0.08419497784342689,
          0.07984293193717278,
          0.03506311360448808,
          0.07313829787234043,
          0.03980099502487562,
          0.07340720221606649,
          0.029498525073746312,
          0.03186646433990895,
          0.0389344262295082,
          0.046632124352331605,
          0.045454545454545456,
          0.043560606060606064,
          0.0507399577167019,
          0.17251908396946564,
          0.16589861751152074,
          0.11734693877551021,
          0.12750455373406194,
          0.04129263913824058,
          0.12738853503184713,
          0.11916264090177134,
          0.13769363166953527,
          0.1773049645390071,
          0.17912552891396333,
          0.18153364632237873,
          0.14100185528756956,
          0.11092436974789915,
          0.11724137931034483,
          0.1769352290679305,
          0.16457461645746166,
          0.14155844155844155,
          0.11082138200782268,
          0.04747774480712166,
          0.09759759759759759,
          0.048484848484848485,
          0.10518934081346423,
          0.04487179487179487,
          0.10914927768860354,
          0.043410852713178294,
          0.052795031055900624,
          0.051364365971107544,
          0.058394160583941604,
          0.05016722408026756,
          0.05016722408026756,
          0.05016722408026756,
          0.05714285714285714,
          0.05826771653543307,
          0.05436337625178827,
          0.1879021879021879,
          0.1237721021611002,
          0.19808306709265175,
          0.20933734939759036,
          0.20303030303030303,
          0.2826086956521739,
          0.20652173913043478,
          0.2306684141546527,
          0.23983739837398374,
          0.29098360655737704,
          0.2422192151556157,
          0.3,
          0.2904040404040404,
          0.3082191780821918,
          0.38421955403087477,
          0.22639068564036222,
          0.23677248677248677,
          0.2630098452883263,
          0.21708683473389356,
          0.10628019323671498,
          0.10628019323671498,
          0.10323383084577115,
          0.09556313993174062,
          0.043882978723404256,
          0.08985879332477535,
          0.1009549795361528,
          0.09323116219667944,
          0.09090909090909091,
          0.04217687074829932,
          0.04838709677419355,
          0.044797687861271675,
          0.03177257525083612,
          0.02857142857142857,
          0.025440313111545987,
          0.031578947368421054,
          0.02491103202846975,
          0.03577512776831346,
          0.06371681415929203,
          0.09005376344086022,
          0.0425531914893617,
          0.050724637681159424,
          0.10714285714285714,
          0.1183206106870229,
          0.18715393133997785,
          0.07905138339920949,
          0.08043217286914765,
          0.21337266470009833,
          0.11491712707182321,
          0.06627218934911243,
          0.13914027149321267,
          0.17106652587117213,
          0.06792873051224944,
          0.20361560418648905,
          0.20424671385237614,
          0.10665258711721225,
          0.1130890052356021,
          0.07281001137656427,
          0.10851808634772463,
          0.048484848484848485,
          0.056128293241695305,
          0.05831265508684864,
          0.0594059405940594,
          0.05528255528255528,
          0.0567741935483871,
          0.06446776611694154,
          0.07467532467532467,
          0.061933534743202415,
          0.10829817158931083,
          0.08262108262108261,
          0.11624441132637854,
          0.14032697547683923,
          0.0998439937597504,
          0.1634182908545727,
          0.16047297297297297,
          0.14285714285714285,
          0.0945273631840796,
          0.07167235494880546,
          0.26770708283313327,
          0.2799634034766697,
          0.28193430656934304,
          0.2976190476190476,
          0.40978398983481573,
          0.3145374449339207,
          0.3448566610455312,
          0.32432432432432434,
          0.26047904191616766,
          0.3154523618895116,
          0.30723905723905726,
          0.23054755043227665,
          0.26484907497565724,
          0.31841216216216217,
          0.2904841402337229,
          0.15055079559363524,
          0.1562913907284768,
          0.05725190839694656,
          0.14805825242718446,
          0.11810012836970475,
          0.15894039735099338,
          0.3202846975088968,
          0.1769041769041769,
          0.07923497267759563,
          0.09523809523809523,
          0.19661016949152543,
          0.08333333333333333,
          0.07785234899328859,
          0.09495548961424333,
          0.08157524613220815,
          0.06847360912981455,
          0.08489208633093526,
          0.09034267912772585,
          0.08774373259052924,
          0.09735744089012517,
          0.10070921985815603,
          0.10610932475884244,
          0.13706293706293707,
          0.08721804511278196,
          0.07704160246533127,
          0.06587837837837837,
          0.05,
          0.0487062404870624,
          0.05172413793103448,
          0.18771331058020477,
          0.17298187808896212,
          0.1737012987012987
         ]
        },
        {
         "marker": {
          "color": "red",
          "size": [
           20.000000000000004,
           24.999999999999996,
           19.999999999999993,
           20.000000000000004,
           25.000000000000014,
           20.000000000000004,
           20.000000000000004,
           16.666666666666668
          ]
         },
         "mode": "markers",
         "showlegend": false,
         "text": [
          "wt: K417",
          "wt: L452",
          "wt: S477",
          "wt: T478",
          "wt: E484",
          "wt: F490",
          "wt: S494",
          "wt: N501"
         ],
         "textfont": {
          "color": "#E58606"
         },
         "textposition": "top right",
         "type": "scattergl",
         "uid": "f65f8c68-e807-40e4-bbf4-5cfb0dedb287",
         "x": [
          -0.4315,
          -0.9576,
          -0.6329,
          -0.6578,
          -0.2097,
          0.0474,
          -0.3161,
          -0.0427
         ],
         "y": [
          0.38421955403087477,
          0.13914027149321267,
          0.14285714285714285,
          0.0945273631840796,
          0.40978398983481573,
          0.30723905723905726,
          0.2904841402337229,
          0.3202846975088968
         ]
        }
       ],
       "layout": {
        "legend": {
         "itemclick": "toggleothers",
         "itemdoubleclick": "toggle"
        },
        "margin": {
         "b": 20,
         "l": 20,
         "r": 20,
         "t": 20
        },
        "plot_bgcolor": "#FFF",
        "template": {
         "data": {
          "bar": [
           {
            "error_x": {
             "color": "#2a3f5f"
            },
            "error_y": {
             "color": "#2a3f5f"
            },
            "marker": {
             "line": {
              "color": "#E5ECF6",
              "width": 0.5
             },
             "pattern": {
              "fillmode": "overlay",
              "size": 10,
              "solidity": 0.2
             }
            },
            "type": "bar"
           }
          ],
          "barpolar": [
           {
            "marker": {
             "line": {
              "color": "#E5ECF6",
              "width": 0.5
             },
             "pattern": {
              "fillmode": "overlay",
              "size": 10,
              "solidity": 0.2
             }
            },
            "type": "barpolar"
           }
          ],
          "carpet": [
           {
            "aaxis": {
             "endlinecolor": "#2a3f5f",
             "gridcolor": "white",
             "linecolor": "white",
             "minorgridcolor": "white",
             "startlinecolor": "#2a3f5f"
            },
            "baxis": {
             "endlinecolor": "#2a3f5f",
             "gridcolor": "white",
             "linecolor": "white",
             "minorgridcolor": "white",
             "startlinecolor": "#2a3f5f"
            },
            "type": "carpet"
           }
          ],
          "choropleth": [
           {
            "colorbar": {
             "outlinewidth": 0,
             "ticks": ""
            },
            "type": "choropleth"
           }
          ],
          "contour": [
           {
            "colorbar": {
             "outlinewidth": 0,
             "ticks": ""
            },
            "colorscale": [
             [
              0,
              "#0d0887"
             ],
             [
              0.1111111111111111,
              "#46039f"
             ],
             [
              0.2222222222222222,
              "#7201a8"
             ],
             [
              0.3333333333333333,
              "#9c179e"
             ],
             [
              0.4444444444444444,
              "#bd3786"
             ],
             [
              0.5555555555555556,
              "#d8576b"
             ],
             [
              0.6666666666666666,
              "#ed7953"
             ],
             [
              0.7777777777777778,
              "#fb9f3a"
             ],
             [
              0.8888888888888888,
              "#fdca26"
             ],
             [
              1,
              "#f0f921"
             ]
            ],
            "type": "contour"
           }
          ],
          "contourcarpet": [
           {
            "colorbar": {
             "outlinewidth": 0,
             "ticks": ""
            },
            "type": "contourcarpet"
           }
          ],
          "heatmap": [
           {
            "colorbar": {
             "outlinewidth": 0,
             "ticks": ""
            },
            "colorscale": [
             [
              0,
              "#0d0887"
             ],
             [
              0.1111111111111111,
              "#46039f"
             ],
             [
              0.2222222222222222,
              "#7201a8"
             ],
             [
              0.3333333333333333,
              "#9c179e"
             ],
             [
              0.4444444444444444,
              "#bd3786"
             ],
             [
              0.5555555555555556,
              "#d8576b"
             ],
             [
              0.6666666666666666,
              "#ed7953"
             ],
             [
              0.7777777777777778,
              "#fb9f3a"
             ],
             [
              0.8888888888888888,
              "#fdca26"
             ],
             [
              1,
              "#f0f921"
             ]
            ],
            "type": "heatmap"
           }
          ],
          "heatmapgl": [
           {
            "colorbar": {
             "outlinewidth": 0,
             "ticks": ""
            },
            "colorscale": [
             [
              0,
              "#0d0887"
             ],
             [
              0.1111111111111111,
              "#46039f"
             ],
             [
              0.2222222222222222,
              "#7201a8"
             ],
             [
              0.3333333333333333,
              "#9c179e"
             ],
             [
              0.4444444444444444,
              "#bd3786"
             ],
             [
              0.5555555555555556,
              "#d8576b"
             ],
             [
              0.6666666666666666,
              "#ed7953"
             ],
             [
              0.7777777777777778,
              "#fb9f3a"
             ],
             [
              0.8888888888888888,
              "#fdca26"
             ],
             [
              1,
              "#f0f921"
             ]
            ],
            "type": "heatmapgl"
           }
          ],
          "histogram": [
           {
            "marker": {
             "pattern": {
              "fillmode": "overlay",
              "size": 10,
              "solidity": 0.2
             }
            },
            "type": "histogram"
           }
          ],
          "histogram2d": [
           {
            "colorbar": {
             "outlinewidth": 0,
             "ticks": ""
            },
            "colorscale": [
             [
              0,
              "#0d0887"
             ],
             [
              0.1111111111111111,
              "#46039f"
             ],
             [
              0.2222222222222222,
              "#7201a8"
             ],
             [
              0.3333333333333333,
              "#9c179e"
             ],
             [
              0.4444444444444444,
              "#bd3786"
             ],
             [
              0.5555555555555556,
              "#d8576b"
             ],
             [
              0.6666666666666666,
              "#ed7953"
             ],
             [
              0.7777777777777778,
              "#fb9f3a"
             ],
             [
              0.8888888888888888,
              "#fdca26"
             ],
             [
              1,
              "#f0f921"
             ]
            ],
            "type": "histogram2d"
           }
          ],
          "histogram2dcontour": [
           {
            "colorbar": {
             "outlinewidth": 0,
             "ticks": ""
            },
            "colorscale": [
             [
              0,
              "#0d0887"
             ],
             [
              0.1111111111111111,
              "#46039f"
             ],
             [
              0.2222222222222222,
              "#7201a8"
             ],
             [
              0.3333333333333333,
              "#9c179e"
             ],
             [
              0.4444444444444444,
              "#bd3786"
             ],
             [
              0.5555555555555556,
              "#d8576b"
             ],
             [
              0.6666666666666666,
              "#ed7953"
             ],
             [
              0.7777777777777778,
              "#fb9f3a"
             ],
             [
              0.8888888888888888,
              "#fdca26"
             ],
             [
              1,
              "#f0f921"
             ]
            ],
            "type": "histogram2dcontour"
           }
          ],
          "mesh3d": [
           {
            "colorbar": {
             "outlinewidth": 0,
             "ticks": ""
            },
            "type": "mesh3d"
           }
          ],
          "parcoords": [
           {
            "line": {
             "colorbar": {
              "outlinewidth": 0,
              "ticks": ""
             }
            },
            "type": "parcoords"
           }
          ],
          "pie": [
           {
            "automargin": true,
            "type": "pie"
           }
          ],
          "scatter": [
           {
            "marker": {
             "colorbar": {
              "outlinewidth": 0,
              "ticks": ""
             }
            },
            "type": "scatter"
           }
          ],
          "scatter3d": [
           {
            "line": {
             "colorbar": {
              "outlinewidth": 0,
              "ticks": ""
             }
            },
            "marker": {
             "colorbar": {
              "outlinewidth": 0,
              "ticks": ""
             }
            },
            "type": "scatter3d"
           }
          ],
          "scattercarpet": [
           {
            "marker": {
             "colorbar": {
              "outlinewidth": 0,
              "ticks": ""
             }
            },
            "type": "scattercarpet"
           }
          ],
          "scattergeo": [
           {
            "marker": {
             "colorbar": {
              "outlinewidth": 0,
              "ticks": ""
             }
            },
            "type": "scattergeo"
           }
          ],
          "scattergl": [
           {
            "marker": {
             "colorbar": {
              "outlinewidth": 0,
              "ticks": ""
             }
            },
            "type": "scattergl"
           }
          ],
          "scattermapbox": [
           {
            "marker": {
             "colorbar": {
              "outlinewidth": 0,
              "ticks": ""
             }
            },
            "type": "scattermapbox"
           }
          ],
          "scatterpolar": [
           {
            "marker": {
             "colorbar": {
              "outlinewidth": 0,
              "ticks": ""
             }
            },
            "type": "scatterpolar"
           }
          ],
          "scatterpolargl": [
           {
            "marker": {
             "colorbar": {
              "outlinewidth": 0,
              "ticks": ""
             }
            },
            "type": "scatterpolargl"
           }
          ],
          "scatterternary": [
           {
            "marker": {
             "colorbar": {
              "outlinewidth": 0,
              "ticks": ""
             }
            },
            "type": "scatterternary"
           }
          ],
          "surface": [
           {
            "colorbar": {
             "outlinewidth": 0,
             "ticks": ""
            },
            "colorscale": [
             [
              0,
              "#0d0887"
             ],
             [
              0.1111111111111111,
              "#46039f"
             ],
             [
              0.2222222222222222,
              "#7201a8"
             ],
             [
              0.3333333333333333,
              "#9c179e"
             ],
             [
              0.4444444444444444,
              "#bd3786"
             ],
             [
              0.5555555555555556,
              "#d8576b"
             ],
             [
              0.6666666666666666,
              "#ed7953"
             ],
             [
              0.7777777777777778,
              "#fb9f3a"
             ],
             [
              0.8888888888888888,
              "#fdca26"
             ],
             [
              1,
              "#f0f921"
             ]
            ],
            "type": "surface"
           }
          ],
          "table": [
           {
            "cells": {
             "fill": {
              "color": "#EBF0F8"
             },
             "line": {
              "color": "white"
             }
            },
            "header": {
             "fill": {
              "color": "#C8D4E3"
             },
             "line": {
              "color": "white"
             }
            },
            "type": "table"
           }
          ]
         },
         "layout": {
          "annotationdefaults": {
           "arrowcolor": "#2a3f5f",
           "arrowhead": 0,
           "arrowwidth": 1
          },
          "autotypenumbers": "strict",
          "coloraxis": {
           "colorbar": {
            "outlinewidth": 0,
            "ticks": ""
           }
          },
          "colorscale": {
           "diverging": [
            [
             0,
             "#8e0152"
            ],
            [
             0.1,
             "#c51b7d"
            ],
            [
             0.2,
             "#de77ae"
            ],
            [
             0.3,
             "#f1b6da"
            ],
            [
             0.4,
             "#fde0ef"
            ],
            [
             0.5,
             "#f7f7f7"
            ],
            [
             0.6,
             "#e6f5d0"
            ],
            [
             0.7,
             "#b8e186"
            ],
            [
             0.8,
             "#7fbc41"
            ],
            [
             0.9,
             "#4d9221"
            ],
            [
             1,
             "#276419"
            ]
           ],
           "sequential": [
            [
             0,
             "#0d0887"
            ],
            [
             0.1111111111111111,
             "#46039f"
            ],
            [
             0.2222222222222222,
             "#7201a8"
            ],
            [
             0.3333333333333333,
             "#9c179e"
            ],
            [
             0.4444444444444444,
             "#bd3786"
            ],
            [
             0.5555555555555556,
             "#d8576b"
            ],
            [
             0.6666666666666666,
             "#ed7953"
            ],
            [
             0.7777777777777778,
             "#fb9f3a"
            ],
            [
             0.8888888888888888,
             "#fdca26"
            ],
            [
             1,
             "#f0f921"
            ]
           ],
           "sequentialminus": [
            [
             0,
             "#0d0887"
            ],
            [
             0.1111111111111111,
             "#46039f"
            ],
            [
             0.2222222222222222,
             "#7201a8"
            ],
            [
             0.3333333333333333,
             "#9c179e"
            ],
            [
             0.4444444444444444,
             "#bd3786"
            ],
            [
             0.5555555555555556,
             "#d8576b"
            ],
            [
             0.6666666666666666,
             "#ed7953"
            ],
            [
             0.7777777777777778,
             "#fb9f3a"
            ],
            [
             0.8888888888888888,
             "#fdca26"
            ],
            [
             1,
             "#f0f921"
            ]
           ]
          },
          "colorway": [
           "#636efa",
           "#EF553B",
           "#00cc96",
           "#ab63fa",
           "#FFA15A",
           "#19d3f3",
           "#FF6692",
           "#B6E880",
           "#FF97FF",
           "#FECB52"
          ],
          "font": {
           "color": "#2a3f5f"
          },
          "geo": {
           "bgcolor": "white",
           "lakecolor": "white",
           "landcolor": "#E5ECF6",
           "showlakes": true,
           "showland": true,
           "subunitcolor": "white"
          },
          "hoverlabel": {
           "align": "left"
          },
          "hovermode": "closest",
          "mapbox": {
           "style": "light"
          },
          "paper_bgcolor": "white",
          "plot_bgcolor": "#E5ECF6",
          "polar": {
           "angularaxis": {
            "gridcolor": "white",
            "linecolor": "white",
            "ticks": ""
           },
           "bgcolor": "#E5ECF6",
           "radialaxis": {
            "gridcolor": "white",
            "linecolor": "white",
            "ticks": ""
           }
          },
          "scene": {
           "xaxis": {
            "backgroundcolor": "#E5ECF6",
            "gridcolor": "white",
            "gridwidth": 2,
            "linecolor": "white",
            "showbackground": true,
            "ticks": "",
            "zerolinecolor": "white"
           },
           "yaxis": {
            "backgroundcolor": "#E5ECF6",
            "gridcolor": "white",
            "gridwidth": 2,
            "linecolor": "white",
            "showbackground": true,
            "ticks": "",
            "zerolinecolor": "white"
           },
           "zaxis": {
            "backgroundcolor": "#E5ECF6",
            "gridcolor": "white",
            "gridwidth": 2,
            "linecolor": "white",
            "showbackground": true,
            "ticks": "",
            "zerolinecolor": "white"
           }
          },
          "shapedefaults": {
           "line": {
            "color": "#2a3f5f"
           }
          },
          "ternary": {
           "aaxis": {
            "gridcolor": "white",
            "linecolor": "white",
            "ticks": ""
           },
           "baxis": {
            "gridcolor": "white",
            "linecolor": "white",
            "ticks": ""
           },
           "bgcolor": "#E5ECF6",
           "caxis": {
            "gridcolor": "white",
            "linecolor": "white",
            "ticks": ""
           }
          },
          "title": {
           "x": 0.05
          },
          "xaxis": {
           "automargin": true,
           "gridcolor": "white",
           "linecolor": "white",
           "ticks": "",
           "title": {
            "standoff": 15
           },
           "zerolinecolor": "white",
           "zerolinewidth": 2
          },
          "yaxis": {
           "automargin": true,
           "gridcolor": "white",
           "linecolor": "white",
           "ticks": "",
           "title": {
            "standoff": 15
           },
           "zerolinecolor": "white",
           "zerolinewidth": 2
          }
         }
        },
        "xaxis": {
         "linecolor": "#BCCCDC",
         "mirror": true,
         "showgrid": true,
         "title": {
          "text": "mutability_score(DCA)"
         }
        },
        "yaxis": {
         "linecolor": "#BCCCDC",
         "mirror": true,
         "showgrid": true,
         "title": {
          "text": "IEDB - Response Frequency"
         }
        }
       }
      },
      "text/html": [
       "<div>                            <div id=\"c72f3bca-522e-40c9-a286-7d32d3b36484\" class=\"plotly-graph-div\" style=\"height:525px; width:100%;\"></div>            <script type=\"text/javascript\">                require([\"plotly\"], function(Plotly) {                    window.PLOTLYENV=window.PLOTLYENV || {};                                    if (document.getElementById(\"c72f3bca-522e-40c9-a286-7d32d3b36484\")) {                    Plotly.newPlot(                        \"c72f3bca-522e-40c9-a286-7d32d3b36484\",                        [{\"marker\":{\"color\":\"#5D69B1\",\"size\":[25.0,25.0,24.999999999999996,25.0,33.33333333333333,24.999999999999996,24.999999999999996,25.000000000000004,24.999999999999996,33.33333333333333,33.333333333333336,33.333333333333336,33.333333333333336,33.33333333333333,33.33333333333333,33.333333333333336,24.999999999999996,24.999999999999996,33.333333333333336,24.999999999999996,19.999999999999993,16.666666666666668,16.666666666666668,16.666666666666668,33.333333333333336,16.666666666666668,20.000000000000004,16.666666666666664,16.666666666666668,16.666666666666668,16.666666666666668,16.666666666666664,19.999999999999993,16.666666666666668,16.666666666666668,20.000000000000004,19.999999999999993,19.999999999999993,24.999999999999996,25.000000000000004,24.999999999999996,20.0,33.333333333333336,19.999999999999993,33.333333333333336,33.33333333333333,33.33333333333333,25.0,33.33333333333333,33.33333333333333,33.33333333333333,25.0,25.0,33.33333333333333,16.666666666666668,16.666666666666668,16.666666666666668,16.666666666666668,14.28571428571429,14.285714285714285,16.666666666666668,16.666666666666668,16.66666666666666,16.666666666666668,16.66666666666666,16.666666666666668,16.666666666666668,16.666666666666668,20.000000000000004,16.666666666666668,16.66666666666666,14.28571428571429,16.666666666666668,20.0,20.0,20.0,25.000000000000004,33.333333333333336,25.000000000000004,25.000000000000004,20.000000000000004,25.000000000000004,33.333333333333336,24.999999999999996,33.333333333333336,33.33333333333333,33.33333333333333,33.333333333333336,33.33333333333333,33.333333333333336,33.33333333333333,25.000000000000004,25.000000000000004,33.333333333333336,33.33333333333333,24.999999999999996,24.999999999999996,20.000000000000004,24.999999999999996,24.999999999999996,20.000000000000004,24.999999999999996,25.000000000000004,24.999999999999996,19.999999999999993,25.000000000000004,19.999999999999993,19.999999999999993,24.999999999999996,24.999999999999996,33.333333333333336,24.999999999999996,33.33333333333333,33.33333333333333,25.0,33.333333333333336,33.33333333333333,25.0,25.000000000000004,24.999999999999996,33.333333333333336,24.999999999999996,20.0,19.999999999999993,19.999999999999993,20.0,20.000000000000004,16.666666666666668,19.999999999999993,20.000000000000004,20.0,16.666666666666668,16.666666666666668,20.000000000000004,16.666666666666668,25.000000000000014,19.999999999999982,20.000000000000004,20.000000000000004,16.666666666666675,19.999999999999982,20.000000000000004,19.999999999999993,20.000000000000004,16.666666666666668,20.000000000000004,20.000000000000004,20.000000000000004,25.0,24.999999999999996,24.999999999999996,16.666666666666668,16.666666666666668,19.999999999999993,24.999999999999996,25.000000000000004,20.000000000000004,25.000000000000004,24.999999999999996,25.000000000000004,24.999999999999996,25.000000000000004,25.000000000000004,20.000000000000004,25.000000000000004,25.000000000000004,20.0,20.0,20.0,25.000000000000004,24.999999999999996,25.000000000000004,33.33333333333333,24.999999999999996,33.33333333333333,16.666666666666668,14.28571428571429,16.666666666666668]},\"mode\":\"markers\",\"name\":\"\",\"text\":[\"wt: S349\",\"wt: V350\",\"wt: Y351\",\"wt: A352\",\"wt: W353\",\"wt: N354\",\"wt: R355\",\"wt: K356\",\"wt: R357\",\"wt: I358\",\"wt: S359\",\"wt: N360\",\"wt: C361\",\"wt: V362\",\"wt: A363\",\"wt: D364\",\"wt: Y365\",\"wt: S366\",\"wt: V367\",\"wt: L368\",\"wt: Y369\",\"wt: N370\",\"wt: S371\",\"wt: A372\",\"wt: S373\",\"wt: F374\",\"wt: S375\",\"wt: T376\",\"wt: F377\",\"wt: K378\",\"wt: C379\",\"wt: Y380\",\"wt: G381\",\"wt: V382\",\"wt: S383\",\"wt: P384\",\"wt: T385\",\"wt: K386\",\"wt: L387\",\"wt: N388\",\"wt: D389\",\"wt: L390\",\"wt: C391\",\"wt: F392\",\"wt: T393\",\"wt: N394\",\"wt: V395\",\"wt: Y396\",\"wt: A397\",\"wt: D398\",\"wt: S399\",\"wt: F400\",\"wt: V401\",\"wt: I402\",\"wt: R403\",\"wt: G404\",\"wt: D405\",\"wt: E406\",\"wt: V407\",\"wt: R408\",\"wt: Q409\",\"wt: I410\",\"wt: A411\",\"wt: P412\",\"wt: G413\",\"wt: Q414\",\"wt: T415\",\"wt: G416\",\"wt: K417\",\"wt: I418\",\"wt: A419\",\"wt: D420\",\"wt: Y421\",\"wt: N422\",\"wt: Y423\",\"wt: K424\",\"wt: L425\",\"wt: P426\",\"wt: D427\",\"wt: D428\",\"wt: F429\",\"wt: T430\",\"wt: G431\",\"wt: C432\",\"wt: V433\",\"wt: I434\",\"wt: A435\",\"wt: W436\",\"wt: N437\",\"wt: S438\",\"wt: N439\",\"wt: N440\",\"wt: L441\",\"wt: D442\",\"wt: S443\",\"wt: K444\",\"wt: V445\",\"wt: G446\",\"wt: G447\",\"wt: N448\",\"wt: Y449\",\"wt: N450\",\"wt: Y451\",\"wt: L452\",\"wt: Y453\",\"wt: R454\",\"wt: L455\",\"wt: F456\",\"wt: R457\",\"wt: K458\",\"wt: S459\",\"wt: N460\",\"wt: L461\",\"wt: K462\",\"wt: P463\",\"wt: F464\",\"wt: E465\",\"wt: R466\",\"wt: D467\",\"wt: I468\",\"wt: S469\",\"wt: T470\",\"wt: E471\",\"wt: I472\",\"wt: Y473\",\"wt: Q474\",\"wt: A475\",\"wt: G476\",\"wt: S477\",\"wt: T478\",\"wt: P479\",\"wt: C480\",\"wt: N481\",\"wt: G482\",\"wt: V483\",\"wt: E484\",\"wt: G485\",\"wt: F486\",\"wt: N487\",\"wt: C488\",\"wt: Y489\",\"wt: F490\",\"wt: P491\",\"wt: L492\",\"wt: Q493\",\"wt: S494\",\"wt: Y495\",\"wt: G496\",\"wt: F497\",\"wt: Q498\",\"wt: P499\",\"wt: T500\",\"wt: N501\",\"wt: G502\",\"wt: V503\",\"wt: G504\",\"wt: Y505\",\"wt: Q506\",\"wt: P507\",\"wt: Y508\",\"wt: R509\",\"wt: V510\",\"wt: V511\",\"wt: V512\",\"wt: L513\",\"wt: S514\",\"wt: F515\",\"wt: E516\",\"wt: L517\",\"wt: L518\",\"wt: H519\",\"wt: A520\",\"wt: P521\",\"wt: A522\",\"wt: T523\",\"wt: V524\",\"wt: C525\",\"wt: G526\"],\"textfont\":{\"color\":\"#E58606\"},\"textposition\":\"top right\",\"type\":\"scattergl\",\"uid\":\"8a4b6aeb-eec3-470d-adc7-d4735c680da7\",\"x\":[-1.2046,-1.1667,-1.2678,-1.1347,-1.3433,-0.6908,-1.46,-0.8585,-0.8866,-1.1399,-1.0692,-1.0716,-1.4536,-1.1652,-1.2195,-1.2435,-1.2247,-1.0245,-1.1382,-1.3272,-1.2234,-1.2102,-1.251,0.0083,-1.0373,-1.1951,-1.271,-1.2014,-1.3153,-1.0351,-1.5544,-1.2908,-1.3344,-1.4432,-1.3011,-1.0483,-1.0093,-1.3027,-1.3825,-1.0351,-1.3047,-1.2514,-1.5245,-1.2383,-0.6168,-0.8912,-1.2365,-1.2549,-1.2162,-1.4762,-0.9234,-1.434,-0.9475,-0.4977,0.0615,-1.0926,-1.1401,-0.6859,-1.1573,-1.1722,-1.2426,-1.0136,-1.2492,-1.257,-1.1064,-1.1209,-1.1667,-1.4381,-0.4315,-1.3088,-1.2311,-1.2382,-1.374,-1.5518,-1.5252,-1.2005,-1.339,-1.3234,-1.2182,-1.2017,-1.3508,-0.9311,-1.3138,-1.5387,-1.2237,-0.7544,-1.3137,-1.2219,-1.1781,-0.6044,-0.4444,-0.2092,-0.2007,-1.1966,-0.3077,-0.4083,-0.0565,-0.5834,-0.6227,-0.9643,-0.6399,-0.7114,-1.0353,-0.9576,-1.1071,-1.243,-0.6609,-0.7466,-1.1185,-0.725,-0.6361,-0.369,-0.9594,-0.9182,-1.2839,-0.8403,-1.0916,-1.1957,-1.2306,-0.8062,-1.1259,-0.608,-0.5911,-0.8332,-0.8968,-0.7201,-0.5693,-0.8152,-0.6329,-0.6578,-0.8332,-1.2501,-0.7105,-0.6489,-0.317,-0.2097,-0.9483,-0.2134,-1.0947,-1.1891,-1.0939,0.0474,-1.1151,-1.2033,0.0448,-0.3161,-1.2157,-1.1445,-1.2366,-0.111,-0.8526,-0.9683,-0.0427,-1.1747,-0.902,-0.7454,-0.6702,-1.2438,-1.0639,-0.8218,-1.1835,-1.1479,-1.2008,-1.2642,-1.1848,-1.2699,-1.1306,-1.1416,-1.1875,-1.2267,0.2159,-0.8394,-1.1793,-1.2426,-1.2803,-1.4834,-1.5027,-1.2935],\"y\":[0.056768558951965066,0.056686046511627904,0.08058124174372523,0.05564142194744977,0.04888268156424581,0.047954866008462625,0.04796511627906977,0.08419497784342689,0.07984293193717278,0.03506311360448808,0.07313829787234043,0.03980099502487562,0.07340720221606649,0.029498525073746312,0.03186646433990895,0.0389344262295082,0.046632124352331605,0.045454545454545456,0.043560606060606064,0.0507399577167019,0.17251908396946564,0.16589861751152074,0.11734693877551021,0.12750455373406194,0.04129263913824058,0.12738853503184713,0.11916264090177134,0.13769363166953527,0.1773049645390071,0.17912552891396333,0.18153364632237873,0.14100185528756956,0.11092436974789915,0.11724137931034483,0.1769352290679305,0.16457461645746166,0.14155844155844155,0.11082138200782268,0.04747774480712166,0.09759759759759759,0.048484848484848485,0.10518934081346423,0.04487179487179487,0.10914927768860354,0.043410852713178294,0.052795031055900624,0.051364365971107544,0.058394160583941604,0.05016722408026756,0.05016722408026756,0.05016722408026756,0.05714285714285714,0.05826771653543307,0.05436337625178827,0.1879021879021879,0.1237721021611002,0.19808306709265175,0.20933734939759036,0.20303030303030303,0.2826086956521739,0.20652173913043478,0.2306684141546527,0.23983739837398374,0.29098360655737704,0.2422192151556157,0.3,0.2904040404040404,0.3082191780821918,0.38421955403087477,0.22639068564036222,0.23677248677248677,0.2630098452883263,0.21708683473389356,0.10628019323671498,0.10628019323671498,0.10323383084577115,0.09556313993174062,0.043882978723404256,0.08985879332477535,0.1009549795361528,0.09323116219667944,0.09090909090909091,0.04217687074829932,0.04838709677419355,0.044797687861271675,0.03177257525083612,0.02857142857142857,0.025440313111545987,0.031578947368421054,0.02491103202846975,0.03577512776831346,0.06371681415929203,0.09005376344086022,0.0425531914893617,0.050724637681159424,0.10714285714285714,0.1183206106870229,0.18715393133997785,0.07905138339920949,0.08043217286914765,0.21337266470009833,0.11491712707182321,0.06627218934911243,0.13914027149321267,0.17106652587117213,0.06792873051224944,0.20361560418648905,0.20424671385237614,0.10665258711721225,0.1130890052356021,0.07281001137656427,0.10851808634772463,0.048484848484848485,0.056128293241695305,0.05831265508684864,0.0594059405940594,0.05528255528255528,0.0567741935483871,0.06446776611694154,0.07467532467532467,0.061933534743202415,0.10829817158931083,0.08262108262108261,0.11624441132637854,0.14032697547683923,0.0998439937597504,0.1634182908545727,0.16047297297297297,0.14285714285714285,0.0945273631840796,0.07167235494880546,0.26770708283313327,0.2799634034766697,0.28193430656934304,0.2976190476190476,0.40978398983481573,0.3145374449339207,0.3448566610455312,0.32432432432432434,0.26047904191616766,0.3154523618895116,0.30723905723905726,0.23054755043227665,0.26484907497565724,0.31841216216216217,0.2904841402337229,0.15055079559363524,0.1562913907284768,0.05725190839694656,0.14805825242718446,0.11810012836970475,0.15894039735099338,0.3202846975088968,0.1769041769041769,0.07923497267759563,0.09523809523809523,0.19661016949152543,0.08333333333333333,0.07785234899328859,0.09495548961424333,0.08157524613220815,0.06847360912981455,0.08489208633093526,0.09034267912772585,0.08774373259052924,0.09735744089012517,0.10070921985815603,0.10610932475884244,0.13706293706293707,0.08721804511278196,0.07704160246533127,0.06587837837837837,0.05,0.0487062404870624,0.05172413793103448,0.18771331058020477,0.17298187808896212,0.1737012987012987]},{\"marker\":{\"color\":\"red\",\"size\":[20.000000000000004,24.999999999999996,19.999999999999993,20.000000000000004,25.000000000000014,20.000000000000004,20.000000000000004,16.666666666666668]},\"mode\":\"markers\",\"showlegend\":false,\"text\":[\"wt: K417\",\"wt: L452\",\"wt: S477\",\"wt: T478\",\"wt: E484\",\"wt: F490\",\"wt: S494\",\"wt: N501\"],\"textfont\":{\"color\":\"#E58606\"},\"textposition\":\"top right\",\"type\":\"scattergl\",\"uid\":\"f65f8c68-e807-40e4-bbf4-5cfb0dedb287\",\"x\":[-0.4315,-0.9576,-0.6329,-0.6578,-0.2097,0.0474,-0.3161,-0.0427],\"y\":[0.38421955403087477,0.13914027149321267,0.14285714285714285,0.0945273631840796,0.40978398983481573,0.30723905723905726,0.2904841402337229,0.3202846975088968]}],                        {\"legend\":{\"itemclick\":\"toggleothers\",\"itemdoubleclick\":\"toggle\"},\"margin\":{\"b\":20,\"l\":20,\"r\":20,\"t\":20},\"plot_bgcolor\":\"#FFF\",\"template\":{\"data\":{\"bar\":[{\"error_x\":{\"color\":\"#2a3f5f\"},\"error_y\":{\"color\":\"#2a3f5f\"},\"marker\":{\"line\":{\"color\":\"#E5ECF6\",\"width\":0.5},\"pattern\":{\"fillmode\":\"overlay\",\"size\":10,\"solidity\":0.2}},\"type\":\"bar\"}],\"barpolar\":[{\"marker\":{\"line\":{\"color\":\"#E5ECF6\",\"width\":0.5},\"pattern\":{\"fillmode\":\"overlay\",\"size\":10,\"solidity\":0.2}},\"type\":\"barpolar\"}],\"carpet\":[{\"aaxis\":{\"endlinecolor\":\"#2a3f5f\",\"gridcolor\":\"white\",\"linecolor\":\"white\",\"minorgridcolor\":\"white\",\"startlinecolor\":\"#2a3f5f\"},\"baxis\":{\"endlinecolor\":\"#2a3f5f\",\"gridcolor\":\"white\",\"linecolor\":\"white\",\"minorgridcolor\":\"white\",\"startlinecolor\":\"#2a3f5f\"},\"type\":\"carpet\"}],\"choropleth\":[{\"colorbar\":{\"outlinewidth\":0,\"ticks\":\"\"},\"type\":\"choropleth\"}],\"contour\":[{\"colorbar\":{\"outlinewidth\":0,\"ticks\":\"\"},\"colorscale\":[[0.0,\"#0d0887\"],[0.1111111111111111,\"#46039f\"],[0.2222222222222222,\"#7201a8\"],[0.3333333333333333,\"#9c179e\"],[0.4444444444444444,\"#bd3786\"],[0.5555555555555556,\"#d8576b\"],[0.6666666666666666,\"#ed7953\"],[0.7777777777777778,\"#fb9f3a\"],[0.8888888888888888,\"#fdca26\"],[1.0,\"#f0f921\"]],\"type\":\"contour\"}],\"contourcarpet\":[{\"colorbar\":{\"outlinewidth\":0,\"ticks\":\"\"},\"type\":\"contourcarpet\"}],\"heatmap\":[{\"colorbar\":{\"outlinewidth\":0,\"ticks\":\"\"},\"colorscale\":[[0.0,\"#0d0887\"],[0.1111111111111111,\"#46039f\"],[0.2222222222222222,\"#7201a8\"],[0.3333333333333333,\"#9c179e\"],[0.4444444444444444,\"#bd3786\"],[0.5555555555555556,\"#d8576b\"],[0.6666666666666666,\"#ed7953\"],[0.7777777777777778,\"#fb9f3a\"],[0.8888888888888888,\"#fdca26\"],[1.0,\"#f0f921\"]],\"type\":\"heatmap\"}],\"heatmapgl\":[{\"colorbar\":{\"outlinewidth\":0,\"ticks\":\"\"},\"colorscale\":[[0.0,\"#0d0887\"],[0.1111111111111111,\"#46039f\"],[0.2222222222222222,\"#7201a8\"],[0.3333333333333333,\"#9c179e\"],[0.4444444444444444,\"#bd3786\"],[0.5555555555555556,\"#d8576b\"],[0.6666666666666666,\"#ed7953\"],[0.7777777777777778,\"#fb9f3a\"],[0.8888888888888888,\"#fdca26\"],[1.0,\"#f0f921\"]],\"type\":\"heatmapgl\"}],\"histogram\":[{\"marker\":{\"pattern\":{\"fillmode\":\"overlay\",\"size\":10,\"solidity\":0.2}},\"type\":\"histogram\"}],\"histogram2d\":[{\"colorbar\":{\"outlinewidth\":0,\"ticks\":\"\"},\"colorscale\":[[0.0,\"#0d0887\"],[0.1111111111111111,\"#46039f\"],[0.2222222222222222,\"#7201a8\"],[0.3333333333333333,\"#9c179e\"],[0.4444444444444444,\"#bd3786\"],[0.5555555555555556,\"#d8576b\"],[0.6666666666666666,\"#ed7953\"],[0.7777777777777778,\"#fb9f3a\"],[0.8888888888888888,\"#fdca26\"],[1.0,\"#f0f921\"]],\"type\":\"histogram2d\"}],\"histogram2dcontour\":[{\"colorbar\":{\"outlinewidth\":0,\"ticks\":\"\"},\"colorscale\":[[0.0,\"#0d0887\"],[0.1111111111111111,\"#46039f\"],[0.2222222222222222,\"#7201a8\"],[0.3333333333333333,\"#9c179e\"],[0.4444444444444444,\"#bd3786\"],[0.5555555555555556,\"#d8576b\"],[0.6666666666666666,\"#ed7953\"],[0.7777777777777778,\"#fb9f3a\"],[0.8888888888888888,\"#fdca26\"],[1.0,\"#f0f921\"]],\"type\":\"histogram2dcontour\"}],\"mesh3d\":[{\"colorbar\":{\"outlinewidth\":0,\"ticks\":\"\"},\"type\":\"mesh3d\"}],\"parcoords\":[{\"line\":{\"colorbar\":{\"outlinewidth\":0,\"ticks\":\"\"}},\"type\":\"parcoords\"}],\"pie\":[{\"automargin\":true,\"type\":\"pie\"}],\"scatter\":[{\"marker\":{\"colorbar\":{\"outlinewidth\":0,\"ticks\":\"\"}},\"type\":\"scatter\"}],\"scatter3d\":[{\"line\":{\"colorbar\":{\"outlinewidth\":0,\"ticks\":\"\"}},\"marker\":{\"colorbar\":{\"outlinewidth\":0,\"ticks\":\"\"}},\"type\":\"scatter3d\"}],\"scattercarpet\":[{\"marker\":{\"colorbar\":{\"outlinewidth\":0,\"ticks\":\"\"}},\"type\":\"scattercarpet\"}],\"scattergeo\":[{\"marker\":{\"colorbar\":{\"outlinewidth\":0,\"ticks\":\"\"}},\"type\":\"scattergeo\"}],\"scattergl\":[{\"marker\":{\"colorbar\":{\"outlinewidth\":0,\"ticks\":\"\"}},\"type\":\"scattergl\"}],\"scattermapbox\":[{\"marker\":{\"colorbar\":{\"outlinewidth\":0,\"ticks\":\"\"}},\"type\":\"scattermapbox\"}],\"scatterpolar\":[{\"marker\":{\"colorbar\":{\"outlinewidth\":0,\"ticks\":\"\"}},\"type\":\"scatterpolar\"}],\"scatterpolargl\":[{\"marker\":{\"colorbar\":{\"outlinewidth\":0,\"ticks\":\"\"}},\"type\":\"scatterpolargl\"}],\"scatterternary\":[{\"marker\":{\"colorbar\":{\"outlinewidth\":0,\"ticks\":\"\"}},\"type\":\"scatterternary\"}],\"surface\":[{\"colorbar\":{\"outlinewidth\":0,\"ticks\":\"\"},\"colorscale\":[[0.0,\"#0d0887\"],[0.1111111111111111,\"#46039f\"],[0.2222222222222222,\"#7201a8\"],[0.3333333333333333,\"#9c179e\"],[0.4444444444444444,\"#bd3786\"],[0.5555555555555556,\"#d8576b\"],[0.6666666666666666,\"#ed7953\"],[0.7777777777777778,\"#fb9f3a\"],[0.8888888888888888,\"#fdca26\"],[1.0,\"#f0f921\"]],\"type\":\"surface\"}],\"table\":[{\"cells\":{\"fill\":{\"color\":\"#EBF0F8\"},\"line\":{\"color\":\"white\"}},\"header\":{\"fill\":{\"color\":\"#C8D4E3\"},\"line\":{\"color\":\"white\"}},\"type\":\"table\"}]},\"layout\":{\"annotationdefaults\":{\"arrowcolor\":\"#2a3f5f\",\"arrowhead\":0,\"arrowwidth\":1},\"autotypenumbers\":\"strict\",\"coloraxis\":{\"colorbar\":{\"outlinewidth\":0,\"ticks\":\"\"}},\"colorscale\":{\"diverging\":[[0,\"#8e0152\"],[0.1,\"#c51b7d\"],[0.2,\"#de77ae\"],[0.3,\"#f1b6da\"],[0.4,\"#fde0ef\"],[0.5,\"#f7f7f7\"],[0.6,\"#e6f5d0\"],[0.7,\"#b8e186\"],[0.8,\"#7fbc41\"],[0.9,\"#4d9221\"],[1,\"#276419\"]],\"sequential\":[[0.0,\"#0d0887\"],[0.1111111111111111,\"#46039f\"],[0.2222222222222222,\"#7201a8\"],[0.3333333333333333,\"#9c179e\"],[0.4444444444444444,\"#bd3786\"],[0.5555555555555556,\"#d8576b\"],[0.6666666666666666,\"#ed7953\"],[0.7777777777777778,\"#fb9f3a\"],[0.8888888888888888,\"#fdca26\"],[1.0,\"#f0f921\"]],\"sequentialminus\":[[0.0,\"#0d0887\"],[0.1111111111111111,\"#46039f\"],[0.2222222222222222,\"#7201a8\"],[0.3333333333333333,\"#9c179e\"],[0.4444444444444444,\"#bd3786\"],[0.5555555555555556,\"#d8576b\"],[0.6666666666666666,\"#ed7953\"],[0.7777777777777778,\"#fb9f3a\"],[0.8888888888888888,\"#fdca26\"],[1.0,\"#f0f921\"]]},\"colorway\":[\"#636efa\",\"#EF553B\",\"#00cc96\",\"#ab63fa\",\"#FFA15A\",\"#19d3f3\",\"#FF6692\",\"#B6E880\",\"#FF97FF\",\"#FECB52\"],\"font\":{\"color\":\"#2a3f5f\"},\"geo\":{\"bgcolor\":\"white\",\"lakecolor\":\"white\",\"landcolor\":\"#E5ECF6\",\"showlakes\":true,\"showland\":true,\"subunitcolor\":\"white\"},\"hoverlabel\":{\"align\":\"left\"},\"hovermode\":\"closest\",\"mapbox\":{\"style\":\"light\"},\"paper_bgcolor\":\"white\",\"plot_bgcolor\":\"#E5ECF6\",\"polar\":{\"angularaxis\":{\"gridcolor\":\"white\",\"linecolor\":\"white\",\"ticks\":\"\"},\"bgcolor\":\"#E5ECF6\",\"radialaxis\":{\"gridcolor\":\"white\",\"linecolor\":\"white\",\"ticks\":\"\"}},\"scene\":{\"xaxis\":{\"backgroundcolor\":\"#E5ECF6\",\"gridcolor\":\"white\",\"gridwidth\":2,\"linecolor\":\"white\",\"showbackground\":true,\"ticks\":\"\",\"zerolinecolor\":\"white\"},\"yaxis\":{\"backgroundcolor\":\"#E5ECF6\",\"gridcolor\":\"white\",\"gridwidth\":2,\"linecolor\":\"white\",\"showbackground\":true,\"ticks\":\"\",\"zerolinecolor\":\"white\"},\"zaxis\":{\"backgroundcolor\":\"#E5ECF6\",\"gridcolor\":\"white\",\"gridwidth\":2,\"linecolor\":\"white\",\"showbackground\":true,\"ticks\":\"\",\"zerolinecolor\":\"white\"}},\"shapedefaults\":{\"line\":{\"color\":\"#2a3f5f\"}},\"ternary\":{\"aaxis\":{\"gridcolor\":\"white\",\"linecolor\":\"white\",\"ticks\":\"\"},\"baxis\":{\"gridcolor\":\"white\",\"linecolor\":\"white\",\"ticks\":\"\"},\"bgcolor\":\"#E5ECF6\",\"caxis\":{\"gridcolor\":\"white\",\"linecolor\":\"white\",\"ticks\":\"\"}},\"title\":{\"x\":0.05},\"xaxis\":{\"automargin\":true,\"gridcolor\":\"white\",\"linecolor\":\"white\",\"ticks\":\"\",\"title\":{\"standoff\":15},\"zerolinecolor\":\"white\",\"zerolinewidth\":2},\"yaxis\":{\"automargin\":true,\"gridcolor\":\"white\",\"linecolor\":\"white\",\"ticks\":\"\",\"title\":{\"standoff\":15},\"zerolinecolor\":\"white\",\"zerolinewidth\":2}}},\"xaxis\":{\"linecolor\":\"#BCCCDC\",\"mirror\":true,\"showgrid\":true,\"title\":{\"text\":\"mutability_score(DCA)\"}},\"yaxis\":{\"linecolor\":\"#BCCCDC\",\"mirror\":true,\"showgrid\":true,\"title\":{\"text\":\"IEDB - Response Frequency\"}}},                        {\"responsive\": true}                    ).then(function(){\n",
       "                            \n",
       "var gd = document.getElementById('c72f3bca-522e-40c9-a286-7d32d3b36484');\n",
       "var x = new MutationObserver(function (mutations, observer) {{\n",
       "        var display = window.getComputedStyle(gd).display;\n",
       "        if (!display || display === 'none') {{\n",
       "            console.log([gd, 'removed!']);\n",
       "            Plotly.purge(gd);\n",
       "            observer.disconnect();\n",
       "        }}\n",
       "}});\n",
       "\n",
       "// Listen for the removal of the full notebook cells\n",
       "var notebookContainer = gd.closest('#notebook-container');\n",
       "if (notebookContainer) {{\n",
       "    x.observe(notebookContainer, {childList: true});\n",
       "}}\n",
       "\n",
       "// Listen for the clearing of the current output cell\n",
       "var outputEl = gd.closest('.output');\n",
       "if (outputEl) {{\n",
       "    x.observe(outputEl, {childList: true});\n",
       "}}\n",
       "\n",
       "                        })                };                });            </script>        </div>"
      ]
     },
     "metadata": {},
     "output_type": "display_data"
    },
    {
     "data": {
      "text/plain": [
       "0"
      ]
     },
     "execution_count": 42,
     "metadata": {},
     "output_type": "execute_result"
    }
   ],
   "source": [
    "prot = \"Spike\"\n",
    "dom = \"bCoV_S1_RBD\"\n",
    "df = load_data_dca(path_data = \"./data/data_dca_proteome.csv\", protein = prot, domain = dom)\n",
    "\n",
    "#get IEDB available versions:\n",
    "list_IEDB_versions =  get_IEDB_versions()\n",
    "IEDB_ver = '04Jul2021'\n",
    "#IEDB_ver = '16May2021'\n",
    "#IEDB_ver = '30Apr2021'\n",
    "df = get_updated_IEDB(df, IEDB_ver)\n",
    "\n",
    "#RDB positions mutated in VOIs/VOCs\n",
    "list_pos_mutated_RBD = [417, 452, 477, 478, 484, 490, 494, 501] \n",
    "score = 'mutability_score(DCA)'\n",
    "plot_dca_IEDB(df, score, list_pos = list_pos_mutated_RBD)"
   ]
  },
  {
   "cell_type": "markdown",
   "metadata": {},
   "source": [
    "## 3. Data\n",
    "DCA predictions are available for the following proteins and protein domains, with\n",
    " - **M_eff**= the effective number of sequences used for the DCA model\n",
    " - **L** = the length of the PFAM domain\n"
   ]
  },
  {
   "cell_type": "code",
   "execution_count": 13,
   "metadata": {},
   "outputs": [
    {
     "data": {
      "text/html": [
       "<div>\n",
       "<style scoped>\n",
       "    .dataframe tbody tr th:only-of-type {\n",
       "        vertical-align: middle;\n",
       "    }\n",
       "\n",
       "    .dataframe tbody tr th {\n",
       "        vertical-align: top;\n",
       "    }\n",
       "\n",
       "    .dataframe thead th {\n",
       "        text-align: right;\n",
       "    }\n",
       "</style>\n",
       "<table border=\"1\" class=\"dataframe\">\n",
       "  <thead>\n",
       "    <tr style=\"text-align: right;\">\n",
       "      <th></th>\n",
       "      <th>Protein/ORF</th>\n",
       "      <th>Pfam_identifier</th>\n",
       "      <th>Pfam_accession</th>\n",
       "      <th>M_eff</th>\n",
       "      <th>L</th>\n",
       "    </tr>\n",
       "  </thead>\n",
       "  <tbody>\n",
       "    <tr>\n",
       "      <th>0</th>\n",
       "      <td>Envelope</td>\n",
       "      <td>CoV_E</td>\n",
       "      <td>PF02723.15</td>\n",
       "      <td>53</td>\n",
       "      <td>66</td>\n",
       "    </tr>\n",
       "    <tr>\n",
       "      <th>1</th>\n",
       "      <td>Membrane</td>\n",
       "      <td>CoV_M</td>\n",
       "      <td>PF01635.19</td>\n",
       "      <td>38</td>\n",
       "      <td>201</td>\n",
       "    </tr>\n",
       "    <tr>\n",
       "      <th>2</th>\n",
       "      <td>Nucleocapsid</td>\n",
       "      <td>CoV_nucleocap</td>\n",
       "      <td>PF00937.19</td>\n",
       "      <td>48</td>\n",
       "      <td>341</td>\n",
       "    </tr>\n",
       "    <tr>\n",
       "      <th>3</th>\n",
       "      <td>ORF1a</td>\n",
       "      <td>bCoV_NAR</td>\n",
       "      <td>PF16251.6</td>\n",
       "      <td>19</td>\n",
       "      <td>98</td>\n",
       "    </tr>\n",
       "    <tr>\n",
       "      <th>4</th>\n",
       "      <td>ORF1a</td>\n",
       "      <td>bCoV_NSP1</td>\n",
       "      <td>PF11501.9</td>\n",
       "      <td>12</td>\n",
       "      <td>135</td>\n",
       "    </tr>\n",
       "    <tr>\n",
       "      <th>5</th>\n",
       "      <td>ORF1a</td>\n",
       "      <td>bCoV_NSP3_N</td>\n",
       "      <td>PF12379.9</td>\n",
       "      <td>9</td>\n",
       "      <td>171</td>\n",
       "    </tr>\n",
       "    <tr>\n",
       "      <th>6</th>\n",
       "      <td>ORF1a</td>\n",
       "      <td>bCoV_SUD_C</td>\n",
       "      <td>PF12124.9</td>\n",
       "      <td>2</td>\n",
       "      <td>64</td>\n",
       "    </tr>\n",
       "    <tr>\n",
       "      <th>7</th>\n",
       "      <td>ORF1a</td>\n",
       "      <td>bCoV_SUD_M</td>\n",
       "      <td>PF11633.9</td>\n",
       "      <td>10</td>\n",
       "      <td>143</td>\n",
       "    </tr>\n",
       "    <tr>\n",
       "      <th>8</th>\n",
       "      <td>ORF1a</td>\n",
       "      <td>CoV_NSP10</td>\n",
       "      <td>PF09401.11</td>\n",
       "      <td>25</td>\n",
       "      <td>123</td>\n",
       "    </tr>\n",
       "    <tr>\n",
       "      <th>9</th>\n",
       "      <td>ORF1a</td>\n",
       "      <td>CoV_NSP2_C</td>\n",
       "      <td>PF19212.1</td>\n",
       "      <td>22</td>\n",
       "      <td>167</td>\n",
       "    </tr>\n",
       "    <tr>\n",
       "      <th>10</th>\n",
       "      <td>ORF1a</td>\n",
       "      <td>CoV_NSP2_N</td>\n",
       "      <td>PF19211.1</td>\n",
       "      <td>25</td>\n",
       "      <td>241</td>\n",
       "    </tr>\n",
       "    <tr>\n",
       "      <th>11</th>\n",
       "      <td>ORF1a</td>\n",
       "      <td>CoV_NSP3_C</td>\n",
       "      <td>PF19218.1</td>\n",
       "      <td>58</td>\n",
       "      <td>488</td>\n",
       "    </tr>\n",
       "    <tr>\n",
       "      <th>12</th>\n",
       "      <td>ORF1a</td>\n",
       "      <td>CoV_NSP4_C</td>\n",
       "      <td>PF16348.6</td>\n",
       "      <td>33</td>\n",
       "      <td>96</td>\n",
       "    </tr>\n",
       "    <tr>\n",
       "      <th>13</th>\n",
       "      <td>ORF1a</td>\n",
       "      <td>CoV_NSP4_N</td>\n",
       "      <td>PF19217.1</td>\n",
       "      <td>58</td>\n",
       "      <td>354</td>\n",
       "    </tr>\n",
       "    <tr>\n",
       "      <th>14</th>\n",
       "      <td>ORF1a</td>\n",
       "      <td>CoV_NSP6</td>\n",
       "      <td>PF19213.1</td>\n",
       "      <td>71</td>\n",
       "      <td>262</td>\n",
       "    </tr>\n",
       "    <tr>\n",
       "      <th>15</th>\n",
       "      <td>ORF1a</td>\n",
       "      <td>CoV_NSP7</td>\n",
       "      <td>PF08716.11</td>\n",
       "      <td>31</td>\n",
       "      <td>83</td>\n",
       "    </tr>\n",
       "    <tr>\n",
       "      <th>16</th>\n",
       "      <td>ORF1a</td>\n",
       "      <td>CoV_NSP8</td>\n",
       "      <td>PF08717.11</td>\n",
       "      <td>30</td>\n",
       "      <td>197</td>\n",
       "    </tr>\n",
       "    <tr>\n",
       "      <th>17</th>\n",
       "      <td>ORF1a</td>\n",
       "      <td>CoV_NSP9</td>\n",
       "      <td>PF08710.11</td>\n",
       "      <td>33</td>\n",
       "      <td>113</td>\n",
       "    </tr>\n",
       "    <tr>\n",
       "      <th>18</th>\n",
       "      <td>ORF1a</td>\n",
       "      <td>CoV_peptidase</td>\n",
       "      <td>PF08715.11</td>\n",
       "      <td>103</td>\n",
       "      <td>319</td>\n",
       "    </tr>\n",
       "    <tr>\n",
       "      <th>19</th>\n",
       "      <td>ORF1a</td>\n",
       "      <td>Macro</td>\n",
       "      <td>PF01661.22</td>\n",
       "      <td>10075</td>\n",
       "      <td>107</td>\n",
       "    </tr>\n",
       "    <tr>\n",
       "      <th>20</th>\n",
       "      <td>ORF1a</td>\n",
       "      <td>Peptidase_C30</td>\n",
       "      <td>PF05409.14</td>\n",
       "      <td>41</td>\n",
       "      <td>291</td>\n",
       "    </tr>\n",
       "    <tr>\n",
       "      <th>21</th>\n",
       "      <td>ORF1b</td>\n",
       "      <td>AAA_11</td>\n",
       "      <td>PF13086.7</td>\n",
       "      <td>5010</td>\n",
       "      <td>69</td>\n",
       "    </tr>\n",
       "    <tr>\n",
       "      <th>22</th>\n",
       "      <td>ORF1b</td>\n",
       "      <td>AAA_12</td>\n",
       "      <td>PF13087.7</td>\n",
       "      <td>16968</td>\n",
       "      <td>78</td>\n",
       "    </tr>\n",
       "    <tr>\n",
       "      <th>23</th>\n",
       "      <td>ORF1b</td>\n",
       "      <td>AAA_30</td>\n",
       "      <td>PF13604.7</td>\n",
       "      <td>87503</td>\n",
       "      <td>132</td>\n",
       "    </tr>\n",
       "    <tr>\n",
       "      <th>24</th>\n",
       "      <td>ORF1b</td>\n",
       "      <td>CoV_Methyltr_1</td>\n",
       "      <td>PF06471.13</td>\n",
       "      <td>27</td>\n",
       "      <td>522</td>\n",
       "    </tr>\n",
       "    <tr>\n",
       "      <th>25</th>\n",
       "      <td>ORF1b</td>\n",
       "      <td>CoV_Methyltr_2</td>\n",
       "      <td>PF06460.13</td>\n",
       "      <td>31</td>\n",
       "      <td>296</td>\n",
       "    </tr>\n",
       "    <tr>\n",
       "      <th>26</th>\n",
       "      <td>ORF1b</td>\n",
       "      <td>CoV_NSP15_C</td>\n",
       "      <td>PF19215.1</td>\n",
       "      <td>42</td>\n",
       "      <td>153</td>\n",
       "    </tr>\n",
       "    <tr>\n",
       "      <th>27</th>\n",
       "      <td>ORF1b</td>\n",
       "      <td>CoV_NSP15_M</td>\n",
       "      <td>PF19216.1</td>\n",
       "      <td>40</td>\n",
       "      <td>97</td>\n",
       "    </tr>\n",
       "    <tr>\n",
       "      <th>28</th>\n",
       "      <td>ORF1b</td>\n",
       "      <td>CoV_NSP15_N</td>\n",
       "      <td>PF19219.1</td>\n",
       "      <td>38</td>\n",
       "      <td>61</td>\n",
       "    </tr>\n",
       "    <tr>\n",
       "      <th>29</th>\n",
       "      <td>ORF1b</td>\n",
       "      <td>CoV_RPol_N</td>\n",
       "      <td>PF06478.14</td>\n",
       "      <td>31</td>\n",
       "      <td>352</td>\n",
       "    </tr>\n",
       "    <tr>\n",
       "      <th>30</th>\n",
       "      <td>ORF1b</td>\n",
       "      <td>RdRP_1</td>\n",
       "      <td>PF00680.21</td>\n",
       "      <td>61</td>\n",
       "      <td>489</td>\n",
       "    </tr>\n",
       "    <tr>\n",
       "      <th>31</th>\n",
       "      <td>ORF1b</td>\n",
       "      <td>UvrD_C_2</td>\n",
       "      <td>PF13538.7</td>\n",
       "      <td>4891</td>\n",
       "      <td>38</td>\n",
       "    </tr>\n",
       "    <tr>\n",
       "      <th>32</th>\n",
       "      <td>ORF1b</td>\n",
       "      <td>Viral_helicase1</td>\n",
       "      <td>PF01443.19</td>\n",
       "      <td>81660</td>\n",
       "      <td>225</td>\n",
       "    </tr>\n",
       "    <tr>\n",
       "      <th>33</th>\n",
       "      <td>ORF3a</td>\n",
       "      <td>bCoV_viroporin</td>\n",
       "      <td>PF11289.9</td>\n",
       "      <td>3</td>\n",
       "      <td>274</td>\n",
       "    </tr>\n",
       "    <tr>\n",
       "      <th>34</th>\n",
       "      <td>ORF6</td>\n",
       "      <td>bCoV_NS6</td>\n",
       "      <td>PF12133.9</td>\n",
       "      <td>3</td>\n",
       "      <td>61</td>\n",
       "    </tr>\n",
       "    <tr>\n",
       "      <th>35</th>\n",
       "      <td>ORF7a</td>\n",
       "      <td>bCoV_NS7A</td>\n",
       "      <td>PF08779.11</td>\n",
       "      <td>8</td>\n",
       "      <td>106</td>\n",
       "    </tr>\n",
       "    <tr>\n",
       "      <th>36</th>\n",
       "      <td>ORF7b</td>\n",
       "      <td>bCoV_NS7B</td>\n",
       "      <td>PF11395.9</td>\n",
       "      <td>2</td>\n",
       "      <td>42</td>\n",
       "    </tr>\n",
       "    <tr>\n",
       "      <th>37</th>\n",
       "      <td>ORF8</td>\n",
       "      <td>bCoV_NS8</td>\n",
       "      <td>PF12093.9</td>\n",
       "      <td>4</td>\n",
       "      <td>118</td>\n",
       "    </tr>\n",
       "    <tr>\n",
       "      <th>38</th>\n",
       "      <td>Spike</td>\n",
       "      <td>bCoV_S1_N</td>\n",
       "      <td>PF16451.6</td>\n",
       "      <td>103</td>\n",
       "      <td>305</td>\n",
       "    </tr>\n",
       "    <tr>\n",
       "      <th>39</th>\n",
       "      <td>Spike</td>\n",
       "      <td>bCoV_S1_RBD</td>\n",
       "      <td>PF09408.11</td>\n",
       "      <td>83</td>\n",
       "      <td>178</td>\n",
       "    </tr>\n",
       "    <tr>\n",
       "      <th>40</th>\n",
       "      <td>Spike</td>\n",
       "      <td>CoV_S1_C</td>\n",
       "      <td>PF19209.1</td>\n",
       "      <td>6216</td>\n",
       "      <td>57</td>\n",
       "    </tr>\n",
       "    <tr>\n",
       "      <th>41</th>\n",
       "      <td>Spike</td>\n",
       "      <td>CoV_S2_C</td>\n",
       "      <td>PF19214.1</td>\n",
       "      <td>51</td>\n",
       "      <td>40</td>\n",
       "    </tr>\n",
       "    <tr>\n",
       "      <th>42</th>\n",
       "      <td>Spike</td>\n",
       "      <td>CoV_S2</td>\n",
       "      <td>PF01601.17</td>\n",
       "      <td>80</td>\n",
       "      <td>522</td>\n",
       "    </tr>\n",
       "  </tbody>\n",
       "</table>\n",
       "</div>"
      ],
      "text/plain": [
       "     Protein/ORF  Pfam_identifier Pfam_accession  M_eff    L\n",
       "0       Envelope            CoV_E     PF02723.15     53   66\n",
       "1       Membrane            CoV_M     PF01635.19     38  201\n",
       "2   Nucleocapsid    CoV_nucleocap     PF00937.19     48  341\n",
       "3          ORF1a         bCoV_NAR      PF16251.6     19   98\n",
       "4          ORF1a        bCoV_NSP1      PF11501.9     12  135\n",
       "5          ORF1a      bCoV_NSP3_N      PF12379.9      9  171\n",
       "6          ORF1a       bCoV_SUD_C      PF12124.9      2   64\n",
       "7          ORF1a       bCoV_SUD_M      PF11633.9     10  143\n",
       "8          ORF1a        CoV_NSP10     PF09401.11     25  123\n",
       "9          ORF1a       CoV_NSP2_C      PF19212.1     22  167\n",
       "10         ORF1a       CoV_NSP2_N      PF19211.1     25  241\n",
       "11         ORF1a       CoV_NSP3_C      PF19218.1     58  488\n",
       "12         ORF1a       CoV_NSP4_C      PF16348.6     33   96\n",
       "13         ORF1a       CoV_NSP4_N      PF19217.1     58  354\n",
       "14         ORF1a         CoV_NSP6      PF19213.1     71  262\n",
       "15         ORF1a         CoV_NSP7     PF08716.11     31   83\n",
       "16         ORF1a         CoV_NSP8     PF08717.11     30  197\n",
       "17         ORF1a         CoV_NSP9     PF08710.11     33  113\n",
       "18         ORF1a    CoV_peptidase     PF08715.11    103  319\n",
       "19         ORF1a            Macro     PF01661.22  10075  107\n",
       "20         ORF1a    Peptidase_C30     PF05409.14     41  291\n",
       "21         ORF1b           AAA_11      PF13086.7   5010   69\n",
       "22         ORF1b           AAA_12      PF13087.7  16968   78\n",
       "23         ORF1b           AAA_30      PF13604.7  87503  132\n",
       "24         ORF1b   CoV_Methyltr_1     PF06471.13     27  522\n",
       "25         ORF1b   CoV_Methyltr_2     PF06460.13     31  296\n",
       "26         ORF1b      CoV_NSP15_C      PF19215.1     42  153\n",
       "27         ORF1b      CoV_NSP15_M      PF19216.1     40   97\n",
       "28         ORF1b      CoV_NSP15_N      PF19219.1     38   61\n",
       "29         ORF1b       CoV_RPol_N     PF06478.14     31  352\n",
       "30         ORF1b           RdRP_1     PF00680.21     61  489\n",
       "31         ORF1b         UvrD_C_2      PF13538.7   4891   38\n",
       "32         ORF1b  Viral_helicase1     PF01443.19  81660  225\n",
       "33         ORF3a   bCoV_viroporin      PF11289.9      3  274\n",
       "34          ORF6         bCoV_NS6      PF12133.9      3   61\n",
       "35         ORF7a        bCoV_NS7A     PF08779.11      8  106\n",
       "36         ORF7b        bCoV_NS7B      PF11395.9      2   42\n",
       "37          ORF8         bCoV_NS8      PF12093.9      4  118\n",
       "38         Spike        bCoV_S1_N      PF16451.6    103  305\n",
       "39         Spike      bCoV_S1_RBD     PF09408.11     83  178\n",
       "40         Spike         CoV_S1_C      PF19209.1   6216   57\n",
       "41         Spike         CoV_S2_C      PF19214.1     51   40\n",
       "42         Spike           CoV_S2     PF01601.17     80  522"
      ]
     },
     "execution_count": 13,
     "metadata": {},
     "output_type": "execute_result"
    }
   ],
   "source": [
    "data_prot_domain = pd.read_csv(\"./data/data_meff.csv\")\n",
    "data_prot_domain"
   ]
  }
 ],
 "metadata": {
  "kernelspec": {
   "display_name": "Python 3 (ipykernel)",
   "language": "python",
   "name": "python3"
  },
  "language_info": {
   "codemirror_mode": {
    "name": "ipython",
    "version": 3
   },
   "file_extension": ".py",
   "mimetype": "text/x-python",
   "name": "python",
   "nbconvert_exporter": "python",
   "pygments_lexer": "ipython3",
   "version": "3.8.10"
  }
 },
 "nbformat": 4,
 "nbformat_minor": 4
}
